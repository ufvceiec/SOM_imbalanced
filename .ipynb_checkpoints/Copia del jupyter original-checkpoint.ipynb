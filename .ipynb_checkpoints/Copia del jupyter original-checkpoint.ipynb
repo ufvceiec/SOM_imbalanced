{
 "cells": [
  {
   "cell_type": "markdown",
   "id": "d2b8b026",
   "metadata": {},
   "source": [
    "# Aquí están las partes del jupyter original que no he terminado de revisar e incorporar"
   ]
  },
  {
   "cell_type": "code",
   "execution_count": null,
   "id": "a21ba6af",
   "metadata": {},
   "outputs": [],
   "source": [
    "KeyError: 0"
   ]
  },
  {
   "cell_type": "markdown",
   "id": "b7b79e96",
   "metadata": {},
   "source": [
    "## Entrenamiento GEMA"
   ]
  },
  {
   "cell_type": "code",
   "execution_count": 11,
   "id": "0dd2e56e",
   "metadata": {},
   "outputs": [
    {
     "name": "stdout",
     "output_type": "stream",
     "text": [
      "TRAINING...\n"
     ]
    },
    {
     "data": {
      "application/vnd.jupyter.widget-view+json": {
       "model_id": "a31f6c03f62440b78004d12a34006aee",
       "version_major": 2,
       "version_minor": 0
      },
      "text/plain": [
       "  0%|          | 0/5000 [00:00<?, ?it/s]"
      ]
     },
     "metadata": {},
     "output_type": "display_data"
    },
    {
     "name": "stdout",
     "output_type": "stream",
     "text": [
      "FINISHED.\n"
     ]
    },
    {
     "data": {
      "application/vnd.jupyter.widget-view+json": {
       "model_id": "7034d1b202f64e49ae1918d0dab79ac1",
       "version_major": 2,
       "version_minor": 0
      },
      "text/plain": [
       "  0%|          | 0/937 [00:00<?, ?it/s]"
      ]
     },
     "metadata": {},
     "output_type": "display_data"
    },
    {
     "name": "stdout",
     "output_type": "stream",
     "text": [
      "0.4944607150480257\n",
      "0.15154749199573106\n"
     ]
    }
   ],
   "source": [
    "main_map = GEMA.Map(data_som, \n",
    "                    12, \n",
    "                    5000, \n",
    "                    initial_lr=0.3, \n",
    "                    initial_neighbourhood = 0,\n",
    "                    distance = 'euclidean',\n",
    "                    use_decay= False,\n",
    "                    presentation= 'random',\n",
    "                    weights = 'random')\n",
    "\n",
    "main_classification = GEMA.Classification(main_map, data_som)\n",
    "print(main_classification.quantization_error)\n",
    "print(main_classification.topological_error)"
   ]
  },
  {
   "cell_type": "code",
   "execution_count": 12,
   "id": "9916bc20",
   "metadata": {
    "scrolled": true
   },
   "outputs": [
    {
     "data": {
      "text/html": [
       "        <script type=\"text/javascript\">\n",
       "        window.PlotlyConfig = {MathJaxConfig: 'local'};\n",
       "        if (window.MathJax) {MathJax.Hub.Config({SVG: {font: \"STIX-Web\"}});}\n",
       "        if (typeof require !== 'undefined') {\n",
       "        require.undef(\"plotly\");\n",
       "        requirejs.config({\n",
       "            paths: {\n",
       "                'plotly': ['https://cdn.plot.ly/plotly-2.9.0.min']\n",
       "            }\n",
       "        });\n",
       "        require(['plotly'], function(Plotly) {\n",
       "            window._Plotly = Plotly;\n",
       "        });\n",
       "        }\n",
       "        </script>\n",
       "        "
      ]
     },
     "metadata": {},
     "output_type": "display_data"
    },
    {
     "data": {
      "application/vnd.plotly.v1+json": {
       "config": {
        "linkText": "Export to plot.ly",
        "plotlyServerURL": "https://plot.ly",
        "showLink": false
       },
       "data": [
        {
         "colorscale": [
          [
           0,
           "#0d0887"
          ],
          [
           0.1111111111111111,
           "#46039f"
          ],
          [
           0.2222222222222222,
           "#7201a8"
          ],
          [
           0.3333333333333333,
           "#9c179e"
          ],
          [
           0.4444444444444444,
           "#bd3786"
          ],
          [
           0.5555555555555556,
           "#d8576b"
          ],
          [
           0.6666666666666666,
           "#ed7953"
          ],
          [
           0.7777777777777778,
           "#fb9f3a"
          ],
          [
           0.8888888888888888,
           "#fdca26"
          ],
          [
           1,
           "#f0f921"
          ]
         ],
         "reversescale": false,
         "showscale": true,
         "type": "heatmap",
         "z": [
          [
           0.47,
           0.54,
           0.59,
           0.6,
           0.46,
           0.36,
           0.33,
           0.33,
           0.35,
           0.35,
           0.33,
           0.29
          ],
          [
           0.4,
           0.46,
           0.57,
           0.56,
           0.41,
           0.26,
           0.29,
           0.3,
           0.33,
           0.35,
           0.32,
           0.31
          ],
          [
           0.29,
           0.31,
           0.43,
           0.43,
           0.28,
           0.22,
           0.19,
           0.26,
           0.31,
           0.35,
           0.32,
           0.3
          ],
          [
           0.16,
           0.17,
           0.23,
           0.2,
           0.2,
           0.15,
           0.16,
           0.22,
           0.26,
           0.28,
           0.26,
           0.25
          ],
          [
           0.12,
           0.12,
           0.14,
           0.16,
           0.17,
           0.14,
           0.13,
           0.18,
           0.21,
           0.19,
           0.15,
           0.16
          ],
          [
           0.15,
           0.13,
           0.13,
           0.16,
           0.15,
           0.12,
           0.12,
           0.14,
           0.15,
           0.12,
           0.11,
           0.11
          ],
          [
           0.21,
           0.17,
           0.13,
           0.14,
           0.16,
           0.14,
           0.11,
           0.09,
           0.09,
           0.07,
           0.09,
           0.1
          ],
          [
           0.25,
           0.23,
           0.17,
           0.14,
           0.12,
           0.1,
           0.1,
           0.07,
           0.04,
           0.05,
           0.07,
           0.08
          ],
          [
           0.29,
           0.3,
           0.27,
           0.21,
           0.1,
           0.1,
           0.11,
           0.08,
           0.05,
           0.05,
           0.07,
           0.08
          ],
          [
           0.36,
           0.35,
           0.31,
           0.25,
           0.13,
           0.1,
           0.1,
           0.1,
           0.06,
           0.06,
           0.08,
           0.09
          ],
          [
           0.31,
           0.34,
           0.33,
           0.26,
           0.16,
           0.13,
           0.13,
           0.13,
           0.09,
           0.08,
           0.09,
           0.1
          ],
          [
           0.36,
           0.32,
           0.29,
           0.2,
           0.16,
           0.15,
           0.14,
           0.14,
           0.1,
           0.1,
           0.1,
           0.11
          ]
         ]
        }
       ],
       "layout": {
        "annotations": [
         {
          "font": {
           "color": "#000000",
           "size": 7
          },
          "showarrow": false,
          "text": "0.47",
          "x": 0,
          "xref": "x",
          "y": 0,
          "yref": "y"
         },
         {
          "font": {
           "color": "#000000",
           "size": 7
          },
          "showarrow": false,
          "text": "0.54",
          "x": 1,
          "xref": "x",
          "y": 0,
          "yref": "y"
         },
         {
          "font": {
           "color": "#000000",
           "size": 7
          },
          "showarrow": false,
          "text": "0.59",
          "x": 2,
          "xref": "x",
          "y": 0,
          "yref": "y"
         },
         {
          "font": {
           "color": "#000000",
           "size": 7
          },
          "showarrow": false,
          "text": "0.6",
          "x": 3,
          "xref": "x",
          "y": 0,
          "yref": "y"
         },
         {
          "font": {
           "color": "#000000",
           "size": 7
          },
          "showarrow": false,
          "text": "0.46",
          "x": 4,
          "xref": "x",
          "y": 0,
          "yref": "y"
         },
         {
          "font": {
           "color": "#000000",
           "size": 7
          },
          "showarrow": false,
          "text": "0.36",
          "x": 5,
          "xref": "x",
          "y": 0,
          "yref": "y"
         },
         {
          "font": {
           "color": "#000000",
           "size": 7
          },
          "showarrow": false,
          "text": "0.33",
          "x": 6,
          "xref": "x",
          "y": 0,
          "yref": "y"
         },
         {
          "font": {
           "color": "#000000",
           "size": 7
          },
          "showarrow": false,
          "text": "0.33",
          "x": 7,
          "xref": "x",
          "y": 0,
          "yref": "y"
         },
         {
          "font": {
           "color": "#000000",
           "size": 7
          },
          "showarrow": false,
          "text": "0.35",
          "x": 8,
          "xref": "x",
          "y": 0,
          "yref": "y"
         },
         {
          "font": {
           "color": "#000000",
           "size": 7
          },
          "showarrow": false,
          "text": "0.35",
          "x": 9,
          "xref": "x",
          "y": 0,
          "yref": "y"
         },
         {
          "font": {
           "color": "#000000",
           "size": 7
          },
          "showarrow": false,
          "text": "0.33",
          "x": 10,
          "xref": "x",
          "y": 0,
          "yref": "y"
         },
         {
          "font": {
           "color": "#FFFFFF",
           "size": 7
          },
          "showarrow": false,
          "text": "0.29",
          "x": 11,
          "xref": "x",
          "y": 0,
          "yref": "y"
         },
         {
          "font": {
           "color": "#000000",
           "size": 7
          },
          "showarrow": false,
          "text": "0.4",
          "x": 0,
          "xref": "x",
          "y": 1,
          "yref": "y"
         },
         {
          "font": {
           "color": "#000000",
           "size": 7
          },
          "showarrow": false,
          "text": "0.46",
          "x": 1,
          "xref": "x",
          "y": 1,
          "yref": "y"
         },
         {
          "font": {
           "color": "#000000",
           "size": 7
          },
          "showarrow": false,
          "text": "0.57",
          "x": 2,
          "xref": "x",
          "y": 1,
          "yref": "y"
         },
         {
          "font": {
           "color": "#000000",
           "size": 7
          },
          "showarrow": false,
          "text": "0.56",
          "x": 3,
          "xref": "x",
          "y": 1,
          "yref": "y"
         },
         {
          "font": {
           "color": "#000000",
           "size": 7
          },
          "showarrow": false,
          "text": "0.41",
          "x": 4,
          "xref": "x",
          "y": 1,
          "yref": "y"
         },
         {
          "font": {
           "color": "#FFFFFF",
           "size": 7
          },
          "showarrow": false,
          "text": "0.26",
          "x": 5,
          "xref": "x",
          "y": 1,
          "yref": "y"
         },
         {
          "font": {
           "color": "#FFFFFF",
           "size": 7
          },
          "showarrow": false,
          "text": "0.29",
          "x": 6,
          "xref": "x",
          "y": 1,
          "yref": "y"
         },
         {
          "font": {
           "color": "#FFFFFF",
           "size": 7
          },
          "showarrow": false,
          "text": "0.3",
          "x": 7,
          "xref": "x",
          "y": 1,
          "yref": "y"
         },
         {
          "font": {
           "color": "#000000",
           "size": 7
          },
          "showarrow": false,
          "text": "0.33",
          "x": 8,
          "xref": "x",
          "y": 1,
          "yref": "y"
         },
         {
          "font": {
           "color": "#000000",
           "size": 7
          },
          "showarrow": false,
          "text": "0.35",
          "x": 9,
          "xref": "x",
          "y": 1,
          "yref": "y"
         },
         {
          "font": {
           "color": "#000000",
           "size": 7
          },
          "showarrow": false,
          "text": "0.32",
          "x": 10,
          "xref": "x",
          "y": 1,
          "yref": "y"
         },
         {
          "font": {
           "color": "#FFFFFF",
           "size": 7
          },
          "showarrow": false,
          "text": "0.31",
          "x": 11,
          "xref": "x",
          "y": 1,
          "yref": "y"
         },
         {
          "font": {
           "color": "#FFFFFF",
           "size": 7
          },
          "showarrow": false,
          "text": "0.29",
          "x": 0,
          "xref": "x",
          "y": 2,
          "yref": "y"
         },
         {
          "font": {
           "color": "#FFFFFF",
           "size": 7
          },
          "showarrow": false,
          "text": "0.31",
          "x": 1,
          "xref": "x",
          "y": 2,
          "yref": "y"
         },
         {
          "font": {
           "color": "#000000",
           "size": 7
          },
          "showarrow": false,
          "text": "0.43",
          "x": 2,
          "xref": "x",
          "y": 2,
          "yref": "y"
         },
         {
          "font": {
           "color": "#000000",
           "size": 7
          },
          "showarrow": false,
          "text": "0.43",
          "x": 3,
          "xref": "x",
          "y": 2,
          "yref": "y"
         },
         {
          "font": {
           "color": "#FFFFFF",
           "size": 7
          },
          "showarrow": false,
          "text": "0.28",
          "x": 4,
          "xref": "x",
          "y": 2,
          "yref": "y"
         },
         {
          "font": {
           "color": "#FFFFFF",
           "size": 7
          },
          "showarrow": false,
          "text": "0.22",
          "x": 5,
          "xref": "x",
          "y": 2,
          "yref": "y"
         },
         {
          "font": {
           "color": "#FFFFFF",
           "size": 7
          },
          "showarrow": false,
          "text": "0.19",
          "x": 6,
          "xref": "x",
          "y": 2,
          "yref": "y"
         },
         {
          "font": {
           "color": "#FFFFFF",
           "size": 7
          },
          "showarrow": false,
          "text": "0.26",
          "x": 7,
          "xref": "x",
          "y": 2,
          "yref": "y"
         },
         {
          "font": {
           "color": "#FFFFFF",
           "size": 7
          },
          "showarrow": false,
          "text": "0.31",
          "x": 8,
          "xref": "x",
          "y": 2,
          "yref": "y"
         },
         {
          "font": {
           "color": "#000000",
           "size": 7
          },
          "showarrow": false,
          "text": "0.35",
          "x": 9,
          "xref": "x",
          "y": 2,
          "yref": "y"
         },
         {
          "font": {
           "color": "#000000",
           "size": 7
          },
          "showarrow": false,
          "text": "0.32",
          "x": 10,
          "xref": "x",
          "y": 2,
          "yref": "y"
         },
         {
          "font": {
           "color": "#FFFFFF",
           "size": 7
          },
          "showarrow": false,
          "text": "0.3",
          "x": 11,
          "xref": "x",
          "y": 2,
          "yref": "y"
         },
         {
          "font": {
           "color": "#FFFFFF",
           "size": 7
          },
          "showarrow": false,
          "text": "0.16",
          "x": 0,
          "xref": "x",
          "y": 3,
          "yref": "y"
         },
         {
          "font": {
           "color": "#FFFFFF",
           "size": 7
          },
          "showarrow": false,
          "text": "0.17",
          "x": 1,
          "xref": "x",
          "y": 3,
          "yref": "y"
         },
         {
          "font": {
           "color": "#FFFFFF",
           "size": 7
          },
          "showarrow": false,
          "text": "0.23",
          "x": 2,
          "xref": "x",
          "y": 3,
          "yref": "y"
         },
         {
          "font": {
           "color": "#FFFFFF",
           "size": 7
          },
          "showarrow": false,
          "text": "0.2",
          "x": 3,
          "xref": "x",
          "y": 3,
          "yref": "y"
         },
         {
          "font": {
           "color": "#FFFFFF",
           "size": 7
          },
          "showarrow": false,
          "text": "0.2",
          "x": 4,
          "xref": "x",
          "y": 3,
          "yref": "y"
         },
         {
          "font": {
           "color": "#FFFFFF",
           "size": 7
          },
          "showarrow": false,
          "text": "0.15",
          "x": 5,
          "xref": "x",
          "y": 3,
          "yref": "y"
         },
         {
          "font": {
           "color": "#FFFFFF",
           "size": 7
          },
          "showarrow": false,
          "text": "0.16",
          "x": 6,
          "xref": "x",
          "y": 3,
          "yref": "y"
         },
         {
          "font": {
           "color": "#FFFFFF",
           "size": 7
          },
          "showarrow": false,
          "text": "0.22",
          "x": 7,
          "xref": "x",
          "y": 3,
          "yref": "y"
         },
         {
          "font": {
           "color": "#FFFFFF",
           "size": 7
          },
          "showarrow": false,
          "text": "0.26",
          "x": 8,
          "xref": "x",
          "y": 3,
          "yref": "y"
         },
         {
          "font": {
           "color": "#FFFFFF",
           "size": 7
          },
          "showarrow": false,
          "text": "0.28",
          "x": 9,
          "xref": "x",
          "y": 3,
          "yref": "y"
         },
         {
          "font": {
           "color": "#FFFFFF",
           "size": 7
          },
          "showarrow": false,
          "text": "0.26",
          "x": 10,
          "xref": "x",
          "y": 3,
          "yref": "y"
         },
         {
          "font": {
           "color": "#FFFFFF",
           "size": 7
          },
          "showarrow": false,
          "text": "0.25",
          "x": 11,
          "xref": "x",
          "y": 3,
          "yref": "y"
         },
         {
          "font": {
           "color": "#FFFFFF",
           "size": 7
          },
          "showarrow": false,
          "text": "0.12",
          "x": 0,
          "xref": "x",
          "y": 4,
          "yref": "y"
         },
         {
          "font": {
           "color": "#FFFFFF",
           "size": 7
          },
          "showarrow": false,
          "text": "0.12",
          "x": 1,
          "xref": "x",
          "y": 4,
          "yref": "y"
         },
         {
          "font": {
           "color": "#FFFFFF",
           "size": 7
          },
          "showarrow": false,
          "text": "0.14",
          "x": 2,
          "xref": "x",
          "y": 4,
          "yref": "y"
         },
         {
          "font": {
           "color": "#FFFFFF",
           "size": 7
          },
          "showarrow": false,
          "text": "0.16",
          "x": 3,
          "xref": "x",
          "y": 4,
          "yref": "y"
         },
         {
          "font": {
           "color": "#FFFFFF",
           "size": 7
          },
          "showarrow": false,
          "text": "0.17",
          "x": 4,
          "xref": "x",
          "y": 4,
          "yref": "y"
         },
         {
          "font": {
           "color": "#FFFFFF",
           "size": 7
          },
          "showarrow": false,
          "text": "0.14",
          "x": 5,
          "xref": "x",
          "y": 4,
          "yref": "y"
         },
         {
          "font": {
           "color": "#FFFFFF",
           "size": 7
          },
          "showarrow": false,
          "text": "0.13",
          "x": 6,
          "xref": "x",
          "y": 4,
          "yref": "y"
         },
         {
          "font": {
           "color": "#FFFFFF",
           "size": 7
          },
          "showarrow": false,
          "text": "0.18",
          "x": 7,
          "xref": "x",
          "y": 4,
          "yref": "y"
         },
         {
          "font": {
           "color": "#FFFFFF",
           "size": 7
          },
          "showarrow": false,
          "text": "0.21",
          "x": 8,
          "xref": "x",
          "y": 4,
          "yref": "y"
         },
         {
          "font": {
           "color": "#FFFFFF",
           "size": 7
          },
          "showarrow": false,
          "text": "0.19",
          "x": 9,
          "xref": "x",
          "y": 4,
          "yref": "y"
         },
         {
          "font": {
           "color": "#FFFFFF",
           "size": 7
          },
          "showarrow": false,
          "text": "0.15",
          "x": 10,
          "xref": "x",
          "y": 4,
          "yref": "y"
         },
         {
          "font": {
           "color": "#FFFFFF",
           "size": 7
          },
          "showarrow": false,
          "text": "0.16",
          "x": 11,
          "xref": "x",
          "y": 4,
          "yref": "y"
         },
         {
          "font": {
           "color": "#FFFFFF",
           "size": 7
          },
          "showarrow": false,
          "text": "0.15",
          "x": 0,
          "xref": "x",
          "y": 5,
          "yref": "y"
         },
         {
          "font": {
           "color": "#FFFFFF",
           "size": 7
          },
          "showarrow": false,
          "text": "0.13",
          "x": 1,
          "xref": "x",
          "y": 5,
          "yref": "y"
         },
         {
          "font": {
           "color": "#FFFFFF",
           "size": 7
          },
          "showarrow": false,
          "text": "0.13",
          "x": 2,
          "xref": "x",
          "y": 5,
          "yref": "y"
         },
         {
          "font": {
           "color": "#FFFFFF",
           "size": 7
          },
          "showarrow": false,
          "text": "0.16",
          "x": 3,
          "xref": "x",
          "y": 5,
          "yref": "y"
         },
         {
          "font": {
           "color": "#FFFFFF",
           "size": 7
          },
          "showarrow": false,
          "text": "0.15",
          "x": 4,
          "xref": "x",
          "y": 5,
          "yref": "y"
         },
         {
          "font": {
           "color": "#FFFFFF",
           "size": 7
          },
          "showarrow": false,
          "text": "0.12",
          "x": 5,
          "xref": "x",
          "y": 5,
          "yref": "y"
         },
         {
          "font": {
           "color": "#FFFFFF",
           "size": 7
          },
          "showarrow": false,
          "text": "0.12",
          "x": 6,
          "xref": "x",
          "y": 5,
          "yref": "y"
         },
         {
          "font": {
           "color": "#FFFFFF",
           "size": 7
          },
          "showarrow": false,
          "text": "0.14",
          "x": 7,
          "xref": "x",
          "y": 5,
          "yref": "y"
         },
         {
          "font": {
           "color": "#FFFFFF",
           "size": 7
          },
          "showarrow": false,
          "text": "0.15",
          "x": 8,
          "xref": "x",
          "y": 5,
          "yref": "y"
         },
         {
          "font": {
           "color": "#FFFFFF",
           "size": 7
          },
          "showarrow": false,
          "text": "0.12",
          "x": 9,
          "xref": "x",
          "y": 5,
          "yref": "y"
         },
         {
          "font": {
           "color": "#FFFFFF",
           "size": 7
          },
          "showarrow": false,
          "text": "0.11",
          "x": 10,
          "xref": "x",
          "y": 5,
          "yref": "y"
         },
         {
          "font": {
           "color": "#FFFFFF",
           "size": 7
          },
          "showarrow": false,
          "text": "0.11",
          "x": 11,
          "xref": "x",
          "y": 5,
          "yref": "y"
         },
         {
          "font": {
           "color": "#FFFFFF",
           "size": 7
          },
          "showarrow": false,
          "text": "0.21",
          "x": 0,
          "xref": "x",
          "y": 6,
          "yref": "y"
         },
         {
          "font": {
           "color": "#FFFFFF",
           "size": 7
          },
          "showarrow": false,
          "text": "0.17",
          "x": 1,
          "xref": "x",
          "y": 6,
          "yref": "y"
         },
         {
          "font": {
           "color": "#FFFFFF",
           "size": 7
          },
          "showarrow": false,
          "text": "0.13",
          "x": 2,
          "xref": "x",
          "y": 6,
          "yref": "y"
         },
         {
          "font": {
           "color": "#FFFFFF",
           "size": 7
          },
          "showarrow": false,
          "text": "0.14",
          "x": 3,
          "xref": "x",
          "y": 6,
          "yref": "y"
         },
         {
          "font": {
           "color": "#FFFFFF",
           "size": 7
          },
          "showarrow": false,
          "text": "0.16",
          "x": 4,
          "xref": "x",
          "y": 6,
          "yref": "y"
         },
         {
          "font": {
           "color": "#FFFFFF",
           "size": 7
          },
          "showarrow": false,
          "text": "0.14",
          "x": 5,
          "xref": "x",
          "y": 6,
          "yref": "y"
         },
         {
          "font": {
           "color": "#FFFFFF",
           "size": 7
          },
          "showarrow": false,
          "text": "0.11",
          "x": 6,
          "xref": "x",
          "y": 6,
          "yref": "y"
         },
         {
          "font": {
           "color": "#FFFFFF",
           "size": 7
          },
          "showarrow": false,
          "text": "0.09",
          "x": 7,
          "xref": "x",
          "y": 6,
          "yref": "y"
         },
         {
          "font": {
           "color": "#FFFFFF",
           "size": 7
          },
          "showarrow": false,
          "text": "0.09",
          "x": 8,
          "xref": "x",
          "y": 6,
          "yref": "y"
         },
         {
          "font": {
           "color": "#FFFFFF",
           "size": 7
          },
          "showarrow": false,
          "text": "0.07",
          "x": 9,
          "xref": "x",
          "y": 6,
          "yref": "y"
         },
         {
          "font": {
           "color": "#FFFFFF",
           "size": 7
          },
          "showarrow": false,
          "text": "0.09",
          "x": 10,
          "xref": "x",
          "y": 6,
          "yref": "y"
         },
         {
          "font": {
           "color": "#FFFFFF",
           "size": 7
          },
          "showarrow": false,
          "text": "0.1",
          "x": 11,
          "xref": "x",
          "y": 6,
          "yref": "y"
         },
         {
          "font": {
           "color": "#FFFFFF",
           "size": 7
          },
          "showarrow": false,
          "text": "0.25",
          "x": 0,
          "xref": "x",
          "y": 7,
          "yref": "y"
         },
         {
          "font": {
           "color": "#FFFFFF",
           "size": 7
          },
          "showarrow": false,
          "text": "0.23",
          "x": 1,
          "xref": "x",
          "y": 7,
          "yref": "y"
         },
         {
          "font": {
           "color": "#FFFFFF",
           "size": 7
          },
          "showarrow": false,
          "text": "0.17",
          "x": 2,
          "xref": "x",
          "y": 7,
          "yref": "y"
         },
         {
          "font": {
           "color": "#FFFFFF",
           "size": 7
          },
          "showarrow": false,
          "text": "0.14",
          "x": 3,
          "xref": "x",
          "y": 7,
          "yref": "y"
         },
         {
          "font": {
           "color": "#FFFFFF",
           "size": 7
          },
          "showarrow": false,
          "text": "0.12",
          "x": 4,
          "xref": "x",
          "y": 7,
          "yref": "y"
         },
         {
          "font": {
           "color": "#FFFFFF",
           "size": 7
          },
          "showarrow": false,
          "text": "0.1",
          "x": 5,
          "xref": "x",
          "y": 7,
          "yref": "y"
         },
         {
          "font": {
           "color": "#FFFFFF",
           "size": 7
          },
          "showarrow": false,
          "text": "0.1",
          "x": 6,
          "xref": "x",
          "y": 7,
          "yref": "y"
         },
         {
          "font": {
           "color": "#FFFFFF",
           "size": 7
          },
          "showarrow": false,
          "text": "0.07",
          "x": 7,
          "xref": "x",
          "y": 7,
          "yref": "y"
         },
         {
          "font": {
           "color": "#FFFFFF",
           "size": 7
          },
          "showarrow": false,
          "text": "0.04",
          "x": 8,
          "xref": "x",
          "y": 7,
          "yref": "y"
         },
         {
          "font": {
           "color": "#FFFFFF",
           "size": 7
          },
          "showarrow": false,
          "text": "0.05",
          "x": 9,
          "xref": "x",
          "y": 7,
          "yref": "y"
         },
         {
          "font": {
           "color": "#FFFFFF",
           "size": 7
          },
          "showarrow": false,
          "text": "0.07",
          "x": 10,
          "xref": "x",
          "y": 7,
          "yref": "y"
         },
         {
          "font": {
           "color": "#FFFFFF",
           "size": 7
          },
          "showarrow": false,
          "text": "0.08",
          "x": 11,
          "xref": "x",
          "y": 7,
          "yref": "y"
         },
         {
          "font": {
           "color": "#FFFFFF",
           "size": 7
          },
          "showarrow": false,
          "text": "0.29",
          "x": 0,
          "xref": "x",
          "y": 8,
          "yref": "y"
         },
         {
          "font": {
           "color": "#FFFFFF",
           "size": 7
          },
          "showarrow": false,
          "text": "0.3",
          "x": 1,
          "xref": "x",
          "y": 8,
          "yref": "y"
         },
         {
          "font": {
           "color": "#FFFFFF",
           "size": 7
          },
          "showarrow": false,
          "text": "0.27",
          "x": 2,
          "xref": "x",
          "y": 8,
          "yref": "y"
         },
         {
          "font": {
           "color": "#FFFFFF",
           "size": 7
          },
          "showarrow": false,
          "text": "0.21",
          "x": 3,
          "xref": "x",
          "y": 8,
          "yref": "y"
         },
         {
          "font": {
           "color": "#FFFFFF",
           "size": 7
          },
          "showarrow": false,
          "text": "0.1",
          "x": 4,
          "xref": "x",
          "y": 8,
          "yref": "y"
         },
         {
          "font": {
           "color": "#FFFFFF",
           "size": 7
          },
          "showarrow": false,
          "text": "0.1",
          "x": 5,
          "xref": "x",
          "y": 8,
          "yref": "y"
         },
         {
          "font": {
           "color": "#FFFFFF",
           "size": 7
          },
          "showarrow": false,
          "text": "0.11",
          "x": 6,
          "xref": "x",
          "y": 8,
          "yref": "y"
         },
         {
          "font": {
           "color": "#FFFFFF",
           "size": 7
          },
          "showarrow": false,
          "text": "0.08",
          "x": 7,
          "xref": "x",
          "y": 8,
          "yref": "y"
         },
         {
          "font": {
           "color": "#FFFFFF",
           "size": 7
          },
          "showarrow": false,
          "text": "0.05",
          "x": 8,
          "xref": "x",
          "y": 8,
          "yref": "y"
         },
         {
          "font": {
           "color": "#FFFFFF",
           "size": 7
          },
          "showarrow": false,
          "text": "0.05",
          "x": 9,
          "xref": "x",
          "y": 8,
          "yref": "y"
         },
         {
          "font": {
           "color": "#FFFFFF",
           "size": 7
          },
          "showarrow": false,
          "text": "0.07",
          "x": 10,
          "xref": "x",
          "y": 8,
          "yref": "y"
         },
         {
          "font": {
           "color": "#FFFFFF",
           "size": 7
          },
          "showarrow": false,
          "text": "0.08",
          "x": 11,
          "xref": "x",
          "y": 8,
          "yref": "y"
         },
         {
          "font": {
           "color": "#000000",
           "size": 7
          },
          "showarrow": false,
          "text": "0.36",
          "x": 0,
          "xref": "x",
          "y": 9,
          "yref": "y"
         },
         {
          "font": {
           "color": "#000000",
           "size": 7
          },
          "showarrow": false,
          "text": "0.35",
          "x": 1,
          "xref": "x",
          "y": 9,
          "yref": "y"
         },
         {
          "font": {
           "color": "#FFFFFF",
           "size": 7
          },
          "showarrow": false,
          "text": "0.31",
          "x": 2,
          "xref": "x",
          "y": 9,
          "yref": "y"
         },
         {
          "font": {
           "color": "#FFFFFF",
           "size": 7
          },
          "showarrow": false,
          "text": "0.25",
          "x": 3,
          "xref": "x",
          "y": 9,
          "yref": "y"
         },
         {
          "font": {
           "color": "#FFFFFF",
           "size": 7
          },
          "showarrow": false,
          "text": "0.13",
          "x": 4,
          "xref": "x",
          "y": 9,
          "yref": "y"
         },
         {
          "font": {
           "color": "#FFFFFF",
           "size": 7
          },
          "showarrow": false,
          "text": "0.1",
          "x": 5,
          "xref": "x",
          "y": 9,
          "yref": "y"
         },
         {
          "font": {
           "color": "#FFFFFF",
           "size": 7
          },
          "showarrow": false,
          "text": "0.1",
          "x": 6,
          "xref": "x",
          "y": 9,
          "yref": "y"
         },
         {
          "font": {
           "color": "#FFFFFF",
           "size": 7
          },
          "showarrow": false,
          "text": "0.1",
          "x": 7,
          "xref": "x",
          "y": 9,
          "yref": "y"
         },
         {
          "font": {
           "color": "#FFFFFF",
           "size": 7
          },
          "showarrow": false,
          "text": "0.06",
          "x": 8,
          "xref": "x",
          "y": 9,
          "yref": "y"
         },
         {
          "font": {
           "color": "#FFFFFF",
           "size": 7
          },
          "showarrow": false,
          "text": "0.06",
          "x": 9,
          "xref": "x",
          "y": 9,
          "yref": "y"
         },
         {
          "font": {
           "color": "#FFFFFF",
           "size": 7
          },
          "showarrow": false,
          "text": "0.08",
          "x": 10,
          "xref": "x",
          "y": 9,
          "yref": "y"
         },
         {
          "font": {
           "color": "#FFFFFF",
           "size": 7
          },
          "showarrow": false,
          "text": "0.09",
          "x": 11,
          "xref": "x",
          "y": 9,
          "yref": "y"
         },
         {
          "font": {
           "color": "#FFFFFF",
           "size": 7
          },
          "showarrow": false,
          "text": "0.31",
          "x": 0,
          "xref": "x",
          "y": 10,
          "yref": "y"
         },
         {
          "font": {
           "color": "#000000",
           "size": 7
          },
          "showarrow": false,
          "text": "0.34",
          "x": 1,
          "xref": "x",
          "y": 10,
          "yref": "y"
         },
         {
          "font": {
           "color": "#000000",
           "size": 7
          },
          "showarrow": false,
          "text": "0.33",
          "x": 2,
          "xref": "x",
          "y": 10,
          "yref": "y"
         },
         {
          "font": {
           "color": "#FFFFFF",
           "size": 7
          },
          "showarrow": false,
          "text": "0.26",
          "x": 3,
          "xref": "x",
          "y": 10,
          "yref": "y"
         },
         {
          "font": {
           "color": "#FFFFFF",
           "size": 7
          },
          "showarrow": false,
          "text": "0.16",
          "x": 4,
          "xref": "x",
          "y": 10,
          "yref": "y"
         },
         {
          "font": {
           "color": "#FFFFFF",
           "size": 7
          },
          "showarrow": false,
          "text": "0.13",
          "x": 5,
          "xref": "x",
          "y": 10,
          "yref": "y"
         },
         {
          "font": {
           "color": "#FFFFFF",
           "size": 7
          },
          "showarrow": false,
          "text": "0.13",
          "x": 6,
          "xref": "x",
          "y": 10,
          "yref": "y"
         },
         {
          "font": {
           "color": "#FFFFFF",
           "size": 7
          },
          "showarrow": false,
          "text": "0.13",
          "x": 7,
          "xref": "x",
          "y": 10,
          "yref": "y"
         },
         {
          "font": {
           "color": "#FFFFFF",
           "size": 7
          },
          "showarrow": false,
          "text": "0.09",
          "x": 8,
          "xref": "x",
          "y": 10,
          "yref": "y"
         },
         {
          "font": {
           "color": "#FFFFFF",
           "size": 7
          },
          "showarrow": false,
          "text": "0.08",
          "x": 9,
          "xref": "x",
          "y": 10,
          "yref": "y"
         },
         {
          "font": {
           "color": "#FFFFFF",
           "size": 7
          },
          "showarrow": false,
          "text": "0.09",
          "x": 10,
          "xref": "x",
          "y": 10,
          "yref": "y"
         },
         {
          "font": {
           "color": "#FFFFFF",
           "size": 7
          },
          "showarrow": false,
          "text": "0.1",
          "x": 11,
          "xref": "x",
          "y": 10,
          "yref": "y"
         },
         {
          "font": {
           "color": "#000000",
           "size": 7
          },
          "showarrow": false,
          "text": "0.36",
          "x": 0,
          "xref": "x",
          "y": 11,
          "yref": "y"
         },
         {
          "font": {
           "color": "#000000",
           "size": 7
          },
          "showarrow": false,
          "text": "0.32",
          "x": 1,
          "xref": "x",
          "y": 11,
          "yref": "y"
         },
         {
          "font": {
           "color": "#FFFFFF",
           "size": 7
          },
          "showarrow": false,
          "text": "0.29",
          "x": 2,
          "xref": "x",
          "y": 11,
          "yref": "y"
         },
         {
          "font": {
           "color": "#FFFFFF",
           "size": 7
          },
          "showarrow": false,
          "text": "0.2",
          "x": 3,
          "xref": "x",
          "y": 11,
          "yref": "y"
         },
         {
          "font": {
           "color": "#FFFFFF",
           "size": 7
          },
          "showarrow": false,
          "text": "0.16",
          "x": 4,
          "xref": "x",
          "y": 11,
          "yref": "y"
         },
         {
          "font": {
           "color": "#FFFFFF",
           "size": 7
          },
          "showarrow": false,
          "text": "0.15",
          "x": 5,
          "xref": "x",
          "y": 11,
          "yref": "y"
         },
         {
          "font": {
           "color": "#FFFFFF",
           "size": 7
          },
          "showarrow": false,
          "text": "0.14",
          "x": 6,
          "xref": "x",
          "y": 11,
          "yref": "y"
         },
         {
          "font": {
           "color": "#FFFFFF",
           "size": 7
          },
          "showarrow": false,
          "text": "0.14",
          "x": 7,
          "xref": "x",
          "y": 11,
          "yref": "y"
         },
         {
          "font": {
           "color": "#FFFFFF",
           "size": 7
          },
          "showarrow": false,
          "text": "0.1",
          "x": 8,
          "xref": "x",
          "y": 11,
          "yref": "y"
         },
         {
          "font": {
           "color": "#FFFFFF",
           "size": 7
          },
          "showarrow": false,
          "text": "0.1",
          "x": 9,
          "xref": "x",
          "y": 11,
          "yref": "y"
         },
         {
          "font": {
           "color": "#FFFFFF",
           "size": 7
          },
          "showarrow": false,
          "text": "0.1",
          "x": 10,
          "xref": "x",
          "y": 11,
          "yref": "y"
         },
         {
          "font": {
           "color": "#FFFFFF",
           "size": 7
          },
          "showarrow": false,
          "text": "0.11",
          "x": 11,
          "xref": "x",
          "y": 11,
          "yref": "y"
         }
        ],
        "template": {
         "data": {
          "bar": [
           {
            "error_x": {
             "color": "#2a3f5f"
            },
            "error_y": {
             "color": "#2a3f5f"
            },
            "marker": {
             "line": {
              "color": "#E5ECF6",
              "width": 0.5
             },
             "pattern": {
              "fillmode": "overlay",
              "size": 10,
              "solidity": 0.2
             }
            },
            "type": "bar"
           }
          ],
          "barpolar": [
           {
            "marker": {
             "line": {
              "color": "#E5ECF6",
              "width": 0.5
             },
             "pattern": {
              "fillmode": "overlay",
              "size": 10,
              "solidity": 0.2
             }
            },
            "type": "barpolar"
           }
          ],
          "carpet": [
           {
            "aaxis": {
             "endlinecolor": "#2a3f5f",
             "gridcolor": "white",
             "linecolor": "white",
             "minorgridcolor": "white",
             "startlinecolor": "#2a3f5f"
            },
            "baxis": {
             "endlinecolor": "#2a3f5f",
             "gridcolor": "white",
             "linecolor": "white",
             "minorgridcolor": "white",
             "startlinecolor": "#2a3f5f"
            },
            "type": "carpet"
           }
          ],
          "choropleth": [
           {
            "colorbar": {
             "outlinewidth": 0,
             "ticks": ""
            },
            "type": "choropleth"
           }
          ],
          "contour": [
           {
            "colorbar": {
             "outlinewidth": 0,
             "ticks": ""
            },
            "colorscale": [
             [
              0,
              "#0d0887"
             ],
             [
              0.1111111111111111,
              "#46039f"
             ],
             [
              0.2222222222222222,
              "#7201a8"
             ],
             [
              0.3333333333333333,
              "#9c179e"
             ],
             [
              0.4444444444444444,
              "#bd3786"
             ],
             [
              0.5555555555555556,
              "#d8576b"
             ],
             [
              0.6666666666666666,
              "#ed7953"
             ],
             [
              0.7777777777777778,
              "#fb9f3a"
             ],
             [
              0.8888888888888888,
              "#fdca26"
             ],
             [
              1,
              "#f0f921"
             ]
            ],
            "type": "contour"
           }
          ],
          "contourcarpet": [
           {
            "colorbar": {
             "outlinewidth": 0,
             "ticks": ""
            },
            "type": "contourcarpet"
           }
          ],
          "heatmap": [
           {
            "colorbar": {
             "outlinewidth": 0,
             "ticks": ""
            },
            "colorscale": [
             [
              0,
              "#0d0887"
             ],
             [
              0.1111111111111111,
              "#46039f"
             ],
             [
              0.2222222222222222,
              "#7201a8"
             ],
             [
              0.3333333333333333,
              "#9c179e"
             ],
             [
              0.4444444444444444,
              "#bd3786"
             ],
             [
              0.5555555555555556,
              "#d8576b"
             ],
             [
              0.6666666666666666,
              "#ed7953"
             ],
             [
              0.7777777777777778,
              "#fb9f3a"
             ],
             [
              0.8888888888888888,
              "#fdca26"
             ],
             [
              1,
              "#f0f921"
             ]
            ],
            "type": "heatmap"
           }
          ],
          "heatmapgl": [
           {
            "colorbar": {
             "outlinewidth": 0,
             "ticks": ""
            },
            "colorscale": [
             [
              0,
              "#0d0887"
             ],
             [
              0.1111111111111111,
              "#46039f"
             ],
             [
              0.2222222222222222,
              "#7201a8"
             ],
             [
              0.3333333333333333,
              "#9c179e"
             ],
             [
              0.4444444444444444,
              "#bd3786"
             ],
             [
              0.5555555555555556,
              "#d8576b"
             ],
             [
              0.6666666666666666,
              "#ed7953"
             ],
             [
              0.7777777777777778,
              "#fb9f3a"
             ],
             [
              0.8888888888888888,
              "#fdca26"
             ],
             [
              1,
              "#f0f921"
             ]
            ],
            "type": "heatmapgl"
           }
          ],
          "histogram": [
           {
            "marker": {
             "pattern": {
              "fillmode": "overlay",
              "size": 10,
              "solidity": 0.2
             }
            },
            "type": "histogram"
           }
          ],
          "histogram2d": [
           {
            "colorbar": {
             "outlinewidth": 0,
             "ticks": ""
            },
            "colorscale": [
             [
              0,
              "#0d0887"
             ],
             [
              0.1111111111111111,
              "#46039f"
             ],
             [
              0.2222222222222222,
              "#7201a8"
             ],
             [
              0.3333333333333333,
              "#9c179e"
             ],
             [
              0.4444444444444444,
              "#bd3786"
             ],
             [
              0.5555555555555556,
              "#d8576b"
             ],
             [
              0.6666666666666666,
              "#ed7953"
             ],
             [
              0.7777777777777778,
              "#fb9f3a"
             ],
             [
              0.8888888888888888,
              "#fdca26"
             ],
             [
              1,
              "#f0f921"
             ]
            ],
            "type": "histogram2d"
           }
          ],
          "histogram2dcontour": [
           {
            "colorbar": {
             "outlinewidth": 0,
             "ticks": ""
            },
            "colorscale": [
             [
              0,
              "#0d0887"
             ],
             [
              0.1111111111111111,
              "#46039f"
             ],
             [
              0.2222222222222222,
              "#7201a8"
             ],
             [
              0.3333333333333333,
              "#9c179e"
             ],
             [
              0.4444444444444444,
              "#bd3786"
             ],
             [
              0.5555555555555556,
              "#d8576b"
             ],
             [
              0.6666666666666666,
              "#ed7953"
             ],
             [
              0.7777777777777778,
              "#fb9f3a"
             ],
             [
              0.8888888888888888,
              "#fdca26"
             ],
             [
              1,
              "#f0f921"
             ]
            ],
            "type": "histogram2dcontour"
           }
          ],
          "mesh3d": [
           {
            "colorbar": {
             "outlinewidth": 0,
             "ticks": ""
            },
            "type": "mesh3d"
           }
          ],
          "parcoords": [
           {
            "line": {
             "colorbar": {
              "outlinewidth": 0,
              "ticks": ""
             }
            },
            "type": "parcoords"
           }
          ],
          "pie": [
           {
            "automargin": true,
            "type": "pie"
           }
          ],
          "scatter": [
           {
            "marker": {
             "colorbar": {
              "outlinewidth": 0,
              "ticks": ""
             }
            },
            "type": "scatter"
           }
          ],
          "scatter3d": [
           {
            "line": {
             "colorbar": {
              "outlinewidth": 0,
              "ticks": ""
             }
            },
            "marker": {
             "colorbar": {
              "outlinewidth": 0,
              "ticks": ""
             }
            },
            "type": "scatter3d"
           }
          ],
          "scattercarpet": [
           {
            "marker": {
             "colorbar": {
              "outlinewidth": 0,
              "ticks": ""
             }
            },
            "type": "scattercarpet"
           }
          ],
          "scattergeo": [
           {
            "marker": {
             "colorbar": {
              "outlinewidth": 0,
              "ticks": ""
             }
            },
            "type": "scattergeo"
           }
          ],
          "scattergl": [
           {
            "marker": {
             "colorbar": {
              "outlinewidth": 0,
              "ticks": ""
             }
            },
            "type": "scattergl"
           }
          ],
          "scattermapbox": [
           {
            "marker": {
             "colorbar": {
              "outlinewidth": 0,
              "ticks": ""
             }
            },
            "type": "scattermapbox"
           }
          ],
          "scatterpolar": [
           {
            "marker": {
             "colorbar": {
              "outlinewidth": 0,
              "ticks": ""
             }
            },
            "type": "scatterpolar"
           }
          ],
          "scatterpolargl": [
           {
            "marker": {
             "colorbar": {
              "outlinewidth": 0,
              "ticks": ""
             }
            },
            "type": "scatterpolargl"
           }
          ],
          "scatterternary": [
           {
            "marker": {
             "colorbar": {
              "outlinewidth": 0,
              "ticks": ""
             }
            },
            "type": "scatterternary"
           }
          ],
          "surface": [
           {
            "colorbar": {
             "outlinewidth": 0,
             "ticks": ""
            },
            "colorscale": [
             [
              0,
              "#0d0887"
             ],
             [
              0.1111111111111111,
              "#46039f"
             ],
             [
              0.2222222222222222,
              "#7201a8"
             ],
             [
              0.3333333333333333,
              "#9c179e"
             ],
             [
              0.4444444444444444,
              "#bd3786"
             ],
             [
              0.5555555555555556,
              "#d8576b"
             ],
             [
              0.6666666666666666,
              "#ed7953"
             ],
             [
              0.7777777777777778,
              "#fb9f3a"
             ],
             [
              0.8888888888888888,
              "#fdca26"
             ],
             [
              1,
              "#f0f921"
             ]
            ],
            "type": "surface"
           }
          ],
          "table": [
           {
            "cells": {
             "fill": {
              "color": "#EBF0F8"
             },
             "line": {
              "color": "white"
             }
            },
            "header": {
             "fill": {
              "color": "#C8D4E3"
             },
             "line": {
              "color": "white"
             }
            },
            "type": "table"
           }
          ]
         },
         "layout": {
          "annotationdefaults": {
           "arrowcolor": "#2a3f5f",
           "arrowhead": 0,
           "arrowwidth": 1
          },
          "autotypenumbers": "strict",
          "coloraxis": {
           "colorbar": {
            "outlinewidth": 0,
            "ticks": ""
           }
          },
          "colorscale": {
           "diverging": [
            [
             0,
             "#8e0152"
            ],
            [
             0.1,
             "#c51b7d"
            ],
            [
             0.2,
             "#de77ae"
            ],
            [
             0.3,
             "#f1b6da"
            ],
            [
             0.4,
             "#fde0ef"
            ],
            [
             0.5,
             "#f7f7f7"
            ],
            [
             0.6,
             "#e6f5d0"
            ],
            [
             0.7,
             "#b8e186"
            ],
            [
             0.8,
             "#7fbc41"
            ],
            [
             0.9,
             "#4d9221"
            ],
            [
             1,
             "#276419"
            ]
           ],
           "sequential": [
            [
             0,
             "#0d0887"
            ],
            [
             0.1111111111111111,
             "#46039f"
            ],
            [
             0.2222222222222222,
             "#7201a8"
            ],
            [
             0.3333333333333333,
             "#9c179e"
            ],
            [
             0.4444444444444444,
             "#bd3786"
            ],
            [
             0.5555555555555556,
             "#d8576b"
            ],
            [
             0.6666666666666666,
             "#ed7953"
            ],
            [
             0.7777777777777778,
             "#fb9f3a"
            ],
            [
             0.8888888888888888,
             "#fdca26"
            ],
            [
             1,
             "#f0f921"
            ]
           ],
           "sequentialminus": [
            [
             0,
             "#0d0887"
            ],
            [
             0.1111111111111111,
             "#46039f"
            ],
            [
             0.2222222222222222,
             "#7201a8"
            ],
            [
             0.3333333333333333,
             "#9c179e"
            ],
            [
             0.4444444444444444,
             "#bd3786"
            ],
            [
             0.5555555555555556,
             "#d8576b"
            ],
            [
             0.6666666666666666,
             "#ed7953"
            ],
            [
             0.7777777777777778,
             "#fb9f3a"
            ],
            [
             0.8888888888888888,
             "#fdca26"
            ],
            [
             1,
             "#f0f921"
            ]
           ]
          },
          "colorway": [
           "#636efa",
           "#EF553B",
           "#00cc96",
           "#ab63fa",
           "#FFA15A",
           "#19d3f3",
           "#FF6692",
           "#B6E880",
           "#FF97FF",
           "#FECB52"
          ],
          "font": {
           "color": "#2a3f5f"
          },
          "geo": {
           "bgcolor": "white",
           "lakecolor": "white",
           "landcolor": "#E5ECF6",
           "showlakes": true,
           "showland": true,
           "subunitcolor": "white"
          },
          "hoverlabel": {
           "align": "left"
          },
          "hovermode": "closest",
          "mapbox": {
           "style": "light"
          },
          "paper_bgcolor": "white",
          "plot_bgcolor": "#E5ECF6",
          "polar": {
           "angularaxis": {
            "gridcolor": "white",
            "linecolor": "white",
            "ticks": ""
           },
           "bgcolor": "#E5ECF6",
           "radialaxis": {
            "gridcolor": "white",
            "linecolor": "white",
            "ticks": ""
           }
          },
          "scene": {
           "xaxis": {
            "backgroundcolor": "#E5ECF6",
            "gridcolor": "white",
            "gridwidth": 2,
            "linecolor": "white",
            "showbackground": true,
            "ticks": "",
            "zerolinecolor": "white"
           },
           "yaxis": {
            "backgroundcolor": "#E5ECF6",
            "gridcolor": "white",
            "gridwidth": 2,
            "linecolor": "white",
            "showbackground": true,
            "ticks": "",
            "zerolinecolor": "white"
           },
           "zaxis": {
            "backgroundcolor": "#E5ECF6",
            "gridcolor": "white",
            "gridwidth": 2,
            "linecolor": "white",
            "showbackground": true,
            "ticks": "",
            "zerolinecolor": "white"
           }
          },
          "shapedefaults": {
           "line": {
            "color": "#2a3f5f"
           }
          },
          "ternary": {
           "aaxis": {
            "gridcolor": "white",
            "linecolor": "white",
            "ticks": ""
           },
           "baxis": {
            "gridcolor": "white",
            "linecolor": "white",
            "ticks": ""
           },
           "bgcolor": "#E5ECF6",
           "caxis": {
            "gridcolor": "white",
            "linecolor": "white",
            "ticks": ""
           }
          },
          "title": {
           "x": 0.05
          },
          "xaxis": {
           "automargin": true,
           "gridcolor": "white",
           "linecolor": "white",
           "ticks": "",
           "title": {
            "standoff": 15
           },
           "zerolinecolor": "white",
           "zerolinewidth": 2
          },
          "yaxis": {
           "automargin": true,
           "gridcolor": "white",
           "linecolor": "white",
           "ticks": "",
           "title": {
            "standoff": 15
           },
           "zerolinecolor": "white",
           "zerolinewidth": 2
          }
         }
        },
        "title": {
         "text": "Not Spiled"
        },
        "xaxis": {
         "gridcolor": "rgb(0, 0, 0)",
         "showticklabels": false,
         "side": "top",
         "ticks": ""
        },
        "yaxis": {
         "showticklabels": false,
         "ticks": "",
         "ticksuffix": "  "
        }
       }
      },
      "text/html": [
       "<div>                            <div id=\"636c4125-5158-4cee-bd00-da1c4f32378f\" class=\"plotly-graph-div\" style=\"height:525px; width:100%;\"></div>            <script type=\"text/javascript\">                require([\"plotly\"], function(Plotly) {                    window.PLOTLYENV=window.PLOTLYENV || {};                                    if (document.getElementById(\"636c4125-5158-4cee-bd00-da1c4f32378f\")) {                    Plotly.newPlot(                        \"636c4125-5158-4cee-bd00-da1c4f32378f\",                        [{\"colorscale\":[[0.0,\"#0d0887\"],[0.1111111111111111,\"#46039f\"],[0.2222222222222222,\"#7201a8\"],[0.3333333333333333,\"#9c179e\"],[0.4444444444444444,\"#bd3786\"],[0.5555555555555556,\"#d8576b\"],[0.6666666666666666,\"#ed7953\"],[0.7777777777777778,\"#fb9f3a\"],[0.8888888888888888,\"#fdca26\"],[1.0,\"#f0f921\"]],\"reversescale\":false,\"showscale\":true,\"z\":[[0.47,0.54,0.59,0.6,0.46,0.36,0.33,0.33,0.35,0.35,0.33,0.29],[0.4,0.46,0.57,0.56,0.41,0.26,0.29,0.3,0.33,0.35,0.32,0.31],[0.29,0.31,0.43,0.43,0.28,0.22,0.19,0.26,0.31,0.35,0.32,0.3],[0.16,0.17,0.23,0.2,0.2,0.15,0.16,0.22,0.26,0.28,0.26,0.25],[0.12,0.12,0.14,0.16,0.17,0.14,0.13,0.18,0.21,0.19,0.15,0.16],[0.15,0.13,0.13,0.16,0.15,0.12,0.12,0.14,0.15,0.12,0.11,0.11],[0.21,0.17,0.13,0.14,0.16,0.14,0.11,0.09,0.09,0.07,0.09,0.1],[0.25,0.23,0.17,0.14,0.12,0.1,0.1,0.07,0.04,0.05,0.07,0.08],[0.29,0.3,0.27,0.21,0.1,0.1,0.11,0.08,0.05,0.05,0.07,0.08],[0.36,0.35,0.31,0.25,0.13,0.1,0.1,0.1,0.06,0.06,0.08,0.09],[0.31,0.34,0.33,0.26,0.16,0.13,0.13,0.13,0.09,0.08,0.09,0.1],[0.36,0.32,0.29,0.2,0.16,0.15,0.14,0.14,0.1,0.1,0.1,0.11]],\"type\":\"heatmap\"}],                        {\"annotations\":[{\"font\":{\"color\":\"#000000\",\"size\":7},\"showarrow\":false,\"text\":\"0.47\",\"x\":0,\"xref\":\"x\",\"y\":0,\"yref\":\"y\"},{\"font\":{\"color\":\"#000000\",\"size\":7},\"showarrow\":false,\"text\":\"0.54\",\"x\":1,\"xref\":\"x\",\"y\":0,\"yref\":\"y\"},{\"font\":{\"color\":\"#000000\",\"size\":7},\"showarrow\":false,\"text\":\"0.59\",\"x\":2,\"xref\":\"x\",\"y\":0,\"yref\":\"y\"},{\"font\":{\"color\":\"#000000\",\"size\":7},\"showarrow\":false,\"text\":\"0.6\",\"x\":3,\"xref\":\"x\",\"y\":0,\"yref\":\"y\"},{\"font\":{\"color\":\"#000000\",\"size\":7},\"showarrow\":false,\"text\":\"0.46\",\"x\":4,\"xref\":\"x\",\"y\":0,\"yref\":\"y\"},{\"font\":{\"color\":\"#000000\",\"size\":7},\"showarrow\":false,\"text\":\"0.36\",\"x\":5,\"xref\":\"x\",\"y\":0,\"yref\":\"y\"},{\"font\":{\"color\":\"#000000\",\"size\":7},\"showarrow\":false,\"text\":\"0.33\",\"x\":6,\"xref\":\"x\",\"y\":0,\"yref\":\"y\"},{\"font\":{\"color\":\"#000000\",\"size\":7},\"showarrow\":false,\"text\":\"0.33\",\"x\":7,\"xref\":\"x\",\"y\":0,\"yref\":\"y\"},{\"font\":{\"color\":\"#000000\",\"size\":7},\"showarrow\":false,\"text\":\"0.35\",\"x\":8,\"xref\":\"x\",\"y\":0,\"yref\":\"y\"},{\"font\":{\"color\":\"#000000\",\"size\":7},\"showarrow\":false,\"text\":\"0.35\",\"x\":9,\"xref\":\"x\",\"y\":0,\"yref\":\"y\"},{\"font\":{\"color\":\"#000000\",\"size\":7},\"showarrow\":false,\"text\":\"0.33\",\"x\":10,\"xref\":\"x\",\"y\":0,\"yref\":\"y\"},{\"font\":{\"color\":\"#FFFFFF\",\"size\":7},\"showarrow\":false,\"text\":\"0.29\",\"x\":11,\"xref\":\"x\",\"y\":0,\"yref\":\"y\"},{\"font\":{\"color\":\"#000000\",\"size\":7},\"showarrow\":false,\"text\":\"0.4\",\"x\":0,\"xref\":\"x\",\"y\":1,\"yref\":\"y\"},{\"font\":{\"color\":\"#000000\",\"size\":7},\"showarrow\":false,\"text\":\"0.46\",\"x\":1,\"xref\":\"x\",\"y\":1,\"yref\":\"y\"},{\"font\":{\"color\":\"#000000\",\"size\":7},\"showarrow\":false,\"text\":\"0.57\",\"x\":2,\"xref\":\"x\",\"y\":1,\"yref\":\"y\"},{\"font\":{\"color\":\"#000000\",\"size\":7},\"showarrow\":false,\"text\":\"0.56\",\"x\":3,\"xref\":\"x\",\"y\":1,\"yref\":\"y\"},{\"font\":{\"color\":\"#000000\",\"size\":7},\"showarrow\":false,\"text\":\"0.41\",\"x\":4,\"xref\":\"x\",\"y\":1,\"yref\":\"y\"},{\"font\":{\"color\":\"#FFFFFF\",\"size\":7},\"showarrow\":false,\"text\":\"0.26\",\"x\":5,\"xref\":\"x\",\"y\":1,\"yref\":\"y\"},{\"font\":{\"color\":\"#FFFFFF\",\"size\":7},\"showarrow\":false,\"text\":\"0.29\",\"x\":6,\"xref\":\"x\",\"y\":1,\"yref\":\"y\"},{\"font\":{\"color\":\"#FFFFFF\",\"size\":7},\"showarrow\":false,\"text\":\"0.3\",\"x\":7,\"xref\":\"x\",\"y\":1,\"yref\":\"y\"},{\"font\":{\"color\":\"#000000\",\"size\":7},\"showarrow\":false,\"text\":\"0.33\",\"x\":8,\"xref\":\"x\",\"y\":1,\"yref\":\"y\"},{\"font\":{\"color\":\"#000000\",\"size\":7},\"showarrow\":false,\"text\":\"0.35\",\"x\":9,\"xref\":\"x\",\"y\":1,\"yref\":\"y\"},{\"font\":{\"color\":\"#000000\",\"size\":7},\"showarrow\":false,\"text\":\"0.32\",\"x\":10,\"xref\":\"x\",\"y\":1,\"yref\":\"y\"},{\"font\":{\"color\":\"#FFFFFF\",\"size\":7},\"showarrow\":false,\"text\":\"0.31\",\"x\":11,\"xref\":\"x\",\"y\":1,\"yref\":\"y\"},{\"font\":{\"color\":\"#FFFFFF\",\"size\":7},\"showarrow\":false,\"text\":\"0.29\",\"x\":0,\"xref\":\"x\",\"y\":2,\"yref\":\"y\"},{\"font\":{\"color\":\"#FFFFFF\",\"size\":7},\"showarrow\":false,\"text\":\"0.31\",\"x\":1,\"xref\":\"x\",\"y\":2,\"yref\":\"y\"},{\"font\":{\"color\":\"#000000\",\"size\":7},\"showarrow\":false,\"text\":\"0.43\",\"x\":2,\"xref\":\"x\",\"y\":2,\"yref\":\"y\"},{\"font\":{\"color\":\"#000000\",\"size\":7},\"showarrow\":false,\"text\":\"0.43\",\"x\":3,\"xref\":\"x\",\"y\":2,\"yref\":\"y\"},{\"font\":{\"color\":\"#FFFFFF\",\"size\":7},\"showarrow\":false,\"text\":\"0.28\",\"x\":4,\"xref\":\"x\",\"y\":2,\"yref\":\"y\"},{\"font\":{\"color\":\"#FFFFFF\",\"size\":7},\"showarrow\":false,\"text\":\"0.22\",\"x\":5,\"xref\":\"x\",\"y\":2,\"yref\":\"y\"},{\"font\":{\"color\":\"#FFFFFF\",\"size\":7},\"showarrow\":false,\"text\":\"0.19\",\"x\":6,\"xref\":\"x\",\"y\":2,\"yref\":\"y\"},{\"font\":{\"color\":\"#FFFFFF\",\"size\":7},\"showarrow\":false,\"text\":\"0.26\",\"x\":7,\"xref\":\"x\",\"y\":2,\"yref\":\"y\"},{\"font\":{\"color\":\"#FFFFFF\",\"size\":7},\"showarrow\":false,\"text\":\"0.31\",\"x\":8,\"xref\":\"x\",\"y\":2,\"yref\":\"y\"},{\"font\":{\"color\":\"#000000\",\"size\":7},\"showarrow\":false,\"text\":\"0.35\",\"x\":9,\"xref\":\"x\",\"y\":2,\"yref\":\"y\"},{\"font\":{\"color\":\"#000000\",\"size\":7},\"showarrow\":false,\"text\":\"0.32\",\"x\":10,\"xref\":\"x\",\"y\":2,\"yref\":\"y\"},{\"font\":{\"color\":\"#FFFFFF\",\"size\":7},\"showarrow\":false,\"text\":\"0.3\",\"x\":11,\"xref\":\"x\",\"y\":2,\"yref\":\"y\"},{\"font\":{\"color\":\"#FFFFFF\",\"size\":7},\"showarrow\":false,\"text\":\"0.16\",\"x\":0,\"xref\":\"x\",\"y\":3,\"yref\":\"y\"},{\"font\":{\"color\":\"#FFFFFF\",\"size\":7},\"showarrow\":false,\"text\":\"0.17\",\"x\":1,\"xref\":\"x\",\"y\":3,\"yref\":\"y\"},{\"font\":{\"color\":\"#FFFFFF\",\"size\":7},\"showarrow\":false,\"text\":\"0.23\",\"x\":2,\"xref\":\"x\",\"y\":3,\"yref\":\"y\"},{\"font\":{\"color\":\"#FFFFFF\",\"size\":7},\"showarrow\":false,\"text\":\"0.2\",\"x\":3,\"xref\":\"x\",\"y\":3,\"yref\":\"y\"},{\"font\":{\"color\":\"#FFFFFF\",\"size\":7},\"showarrow\":false,\"text\":\"0.2\",\"x\":4,\"xref\":\"x\",\"y\":3,\"yref\":\"y\"},{\"font\":{\"color\":\"#FFFFFF\",\"size\":7},\"showarrow\":false,\"text\":\"0.15\",\"x\":5,\"xref\":\"x\",\"y\":3,\"yref\":\"y\"},{\"font\":{\"color\":\"#FFFFFF\",\"size\":7},\"showarrow\":false,\"text\":\"0.16\",\"x\":6,\"xref\":\"x\",\"y\":3,\"yref\":\"y\"},{\"font\":{\"color\":\"#FFFFFF\",\"size\":7},\"showarrow\":false,\"text\":\"0.22\",\"x\":7,\"xref\":\"x\",\"y\":3,\"yref\":\"y\"},{\"font\":{\"color\":\"#FFFFFF\",\"size\":7},\"showarrow\":false,\"text\":\"0.26\",\"x\":8,\"xref\":\"x\",\"y\":3,\"yref\":\"y\"},{\"font\":{\"color\":\"#FFFFFF\",\"size\":7},\"showarrow\":false,\"text\":\"0.28\",\"x\":9,\"xref\":\"x\",\"y\":3,\"yref\":\"y\"},{\"font\":{\"color\":\"#FFFFFF\",\"size\":7},\"showarrow\":false,\"text\":\"0.26\",\"x\":10,\"xref\":\"x\",\"y\":3,\"yref\":\"y\"},{\"font\":{\"color\":\"#FFFFFF\",\"size\":7},\"showarrow\":false,\"text\":\"0.25\",\"x\":11,\"xref\":\"x\",\"y\":3,\"yref\":\"y\"},{\"font\":{\"color\":\"#FFFFFF\",\"size\":7},\"showarrow\":false,\"text\":\"0.12\",\"x\":0,\"xref\":\"x\",\"y\":4,\"yref\":\"y\"},{\"font\":{\"color\":\"#FFFFFF\",\"size\":7},\"showarrow\":false,\"text\":\"0.12\",\"x\":1,\"xref\":\"x\",\"y\":4,\"yref\":\"y\"},{\"font\":{\"color\":\"#FFFFFF\",\"size\":7},\"showarrow\":false,\"text\":\"0.14\",\"x\":2,\"xref\":\"x\",\"y\":4,\"yref\":\"y\"},{\"font\":{\"color\":\"#FFFFFF\",\"size\":7},\"showarrow\":false,\"text\":\"0.16\",\"x\":3,\"xref\":\"x\",\"y\":4,\"yref\":\"y\"},{\"font\":{\"color\":\"#FFFFFF\",\"size\":7},\"showarrow\":false,\"text\":\"0.17\",\"x\":4,\"xref\":\"x\",\"y\":4,\"yref\":\"y\"},{\"font\":{\"color\":\"#FFFFFF\",\"size\":7},\"showarrow\":false,\"text\":\"0.14\",\"x\":5,\"xref\":\"x\",\"y\":4,\"yref\":\"y\"},{\"font\":{\"color\":\"#FFFFFF\",\"size\":7},\"showarrow\":false,\"text\":\"0.13\",\"x\":6,\"xref\":\"x\",\"y\":4,\"yref\":\"y\"},{\"font\":{\"color\":\"#FFFFFF\",\"size\":7},\"showarrow\":false,\"text\":\"0.18\",\"x\":7,\"xref\":\"x\",\"y\":4,\"yref\":\"y\"},{\"font\":{\"color\":\"#FFFFFF\",\"size\":7},\"showarrow\":false,\"text\":\"0.21\",\"x\":8,\"xref\":\"x\",\"y\":4,\"yref\":\"y\"},{\"font\":{\"color\":\"#FFFFFF\",\"size\":7},\"showarrow\":false,\"text\":\"0.19\",\"x\":9,\"xref\":\"x\",\"y\":4,\"yref\":\"y\"},{\"font\":{\"color\":\"#FFFFFF\",\"size\":7},\"showarrow\":false,\"text\":\"0.15\",\"x\":10,\"xref\":\"x\",\"y\":4,\"yref\":\"y\"},{\"font\":{\"color\":\"#FFFFFF\",\"size\":7},\"showarrow\":false,\"text\":\"0.16\",\"x\":11,\"xref\":\"x\",\"y\":4,\"yref\":\"y\"},{\"font\":{\"color\":\"#FFFFFF\",\"size\":7},\"showarrow\":false,\"text\":\"0.15\",\"x\":0,\"xref\":\"x\",\"y\":5,\"yref\":\"y\"},{\"font\":{\"color\":\"#FFFFFF\",\"size\":7},\"showarrow\":false,\"text\":\"0.13\",\"x\":1,\"xref\":\"x\",\"y\":5,\"yref\":\"y\"},{\"font\":{\"color\":\"#FFFFFF\",\"size\":7},\"showarrow\":false,\"text\":\"0.13\",\"x\":2,\"xref\":\"x\",\"y\":5,\"yref\":\"y\"},{\"font\":{\"color\":\"#FFFFFF\",\"size\":7},\"showarrow\":false,\"text\":\"0.16\",\"x\":3,\"xref\":\"x\",\"y\":5,\"yref\":\"y\"},{\"font\":{\"color\":\"#FFFFFF\",\"size\":7},\"showarrow\":false,\"text\":\"0.15\",\"x\":4,\"xref\":\"x\",\"y\":5,\"yref\":\"y\"},{\"font\":{\"color\":\"#FFFFFF\",\"size\":7},\"showarrow\":false,\"text\":\"0.12\",\"x\":5,\"xref\":\"x\",\"y\":5,\"yref\":\"y\"},{\"font\":{\"color\":\"#FFFFFF\",\"size\":7},\"showarrow\":false,\"text\":\"0.12\",\"x\":6,\"xref\":\"x\",\"y\":5,\"yref\":\"y\"},{\"font\":{\"color\":\"#FFFFFF\",\"size\":7},\"showarrow\":false,\"text\":\"0.14\",\"x\":7,\"xref\":\"x\",\"y\":5,\"yref\":\"y\"},{\"font\":{\"color\":\"#FFFFFF\",\"size\":7},\"showarrow\":false,\"text\":\"0.15\",\"x\":8,\"xref\":\"x\",\"y\":5,\"yref\":\"y\"},{\"font\":{\"color\":\"#FFFFFF\",\"size\":7},\"showarrow\":false,\"text\":\"0.12\",\"x\":9,\"xref\":\"x\",\"y\":5,\"yref\":\"y\"},{\"font\":{\"color\":\"#FFFFFF\",\"size\":7},\"showarrow\":false,\"text\":\"0.11\",\"x\":10,\"xref\":\"x\",\"y\":5,\"yref\":\"y\"},{\"font\":{\"color\":\"#FFFFFF\",\"size\":7},\"showarrow\":false,\"text\":\"0.11\",\"x\":11,\"xref\":\"x\",\"y\":5,\"yref\":\"y\"},{\"font\":{\"color\":\"#FFFFFF\",\"size\":7},\"showarrow\":false,\"text\":\"0.21\",\"x\":0,\"xref\":\"x\",\"y\":6,\"yref\":\"y\"},{\"font\":{\"color\":\"#FFFFFF\",\"size\":7},\"showarrow\":false,\"text\":\"0.17\",\"x\":1,\"xref\":\"x\",\"y\":6,\"yref\":\"y\"},{\"font\":{\"color\":\"#FFFFFF\",\"size\":7},\"showarrow\":false,\"text\":\"0.13\",\"x\":2,\"xref\":\"x\",\"y\":6,\"yref\":\"y\"},{\"font\":{\"color\":\"#FFFFFF\",\"size\":7},\"showarrow\":false,\"text\":\"0.14\",\"x\":3,\"xref\":\"x\",\"y\":6,\"yref\":\"y\"},{\"font\":{\"color\":\"#FFFFFF\",\"size\":7},\"showarrow\":false,\"text\":\"0.16\",\"x\":4,\"xref\":\"x\",\"y\":6,\"yref\":\"y\"},{\"font\":{\"color\":\"#FFFFFF\",\"size\":7},\"showarrow\":false,\"text\":\"0.14\",\"x\":5,\"xref\":\"x\",\"y\":6,\"yref\":\"y\"},{\"font\":{\"color\":\"#FFFFFF\",\"size\":7},\"showarrow\":false,\"text\":\"0.11\",\"x\":6,\"xref\":\"x\",\"y\":6,\"yref\":\"y\"},{\"font\":{\"color\":\"#FFFFFF\",\"size\":7},\"showarrow\":false,\"text\":\"0.09\",\"x\":7,\"xref\":\"x\",\"y\":6,\"yref\":\"y\"},{\"font\":{\"color\":\"#FFFFFF\",\"size\":7},\"showarrow\":false,\"text\":\"0.09\",\"x\":8,\"xref\":\"x\",\"y\":6,\"yref\":\"y\"},{\"font\":{\"color\":\"#FFFFFF\",\"size\":7},\"showarrow\":false,\"text\":\"0.07\",\"x\":9,\"xref\":\"x\",\"y\":6,\"yref\":\"y\"},{\"font\":{\"color\":\"#FFFFFF\",\"size\":7},\"showarrow\":false,\"text\":\"0.09\",\"x\":10,\"xref\":\"x\",\"y\":6,\"yref\":\"y\"},{\"font\":{\"color\":\"#FFFFFF\",\"size\":7},\"showarrow\":false,\"text\":\"0.1\",\"x\":11,\"xref\":\"x\",\"y\":6,\"yref\":\"y\"},{\"font\":{\"color\":\"#FFFFFF\",\"size\":7},\"showarrow\":false,\"text\":\"0.25\",\"x\":0,\"xref\":\"x\",\"y\":7,\"yref\":\"y\"},{\"font\":{\"color\":\"#FFFFFF\",\"size\":7},\"showarrow\":false,\"text\":\"0.23\",\"x\":1,\"xref\":\"x\",\"y\":7,\"yref\":\"y\"},{\"font\":{\"color\":\"#FFFFFF\",\"size\":7},\"showarrow\":false,\"text\":\"0.17\",\"x\":2,\"xref\":\"x\",\"y\":7,\"yref\":\"y\"},{\"font\":{\"color\":\"#FFFFFF\",\"size\":7},\"showarrow\":false,\"text\":\"0.14\",\"x\":3,\"xref\":\"x\",\"y\":7,\"yref\":\"y\"},{\"font\":{\"color\":\"#FFFFFF\",\"size\":7},\"showarrow\":false,\"text\":\"0.12\",\"x\":4,\"xref\":\"x\",\"y\":7,\"yref\":\"y\"},{\"font\":{\"color\":\"#FFFFFF\",\"size\":7},\"showarrow\":false,\"text\":\"0.1\",\"x\":5,\"xref\":\"x\",\"y\":7,\"yref\":\"y\"},{\"font\":{\"color\":\"#FFFFFF\",\"size\":7},\"showarrow\":false,\"text\":\"0.1\",\"x\":6,\"xref\":\"x\",\"y\":7,\"yref\":\"y\"},{\"font\":{\"color\":\"#FFFFFF\",\"size\":7},\"showarrow\":false,\"text\":\"0.07\",\"x\":7,\"xref\":\"x\",\"y\":7,\"yref\":\"y\"},{\"font\":{\"color\":\"#FFFFFF\",\"size\":7},\"showarrow\":false,\"text\":\"0.04\",\"x\":8,\"xref\":\"x\",\"y\":7,\"yref\":\"y\"},{\"font\":{\"color\":\"#FFFFFF\",\"size\":7},\"showarrow\":false,\"text\":\"0.05\",\"x\":9,\"xref\":\"x\",\"y\":7,\"yref\":\"y\"},{\"font\":{\"color\":\"#FFFFFF\",\"size\":7},\"showarrow\":false,\"text\":\"0.07\",\"x\":10,\"xref\":\"x\",\"y\":7,\"yref\":\"y\"},{\"font\":{\"color\":\"#FFFFFF\",\"size\":7},\"showarrow\":false,\"text\":\"0.08\",\"x\":11,\"xref\":\"x\",\"y\":7,\"yref\":\"y\"},{\"font\":{\"color\":\"#FFFFFF\",\"size\":7},\"showarrow\":false,\"text\":\"0.29\",\"x\":0,\"xref\":\"x\",\"y\":8,\"yref\":\"y\"},{\"font\":{\"color\":\"#FFFFFF\",\"size\":7},\"showarrow\":false,\"text\":\"0.3\",\"x\":1,\"xref\":\"x\",\"y\":8,\"yref\":\"y\"},{\"font\":{\"color\":\"#FFFFFF\",\"size\":7},\"showarrow\":false,\"text\":\"0.27\",\"x\":2,\"xref\":\"x\",\"y\":8,\"yref\":\"y\"},{\"font\":{\"color\":\"#FFFFFF\",\"size\":7},\"showarrow\":false,\"text\":\"0.21\",\"x\":3,\"xref\":\"x\",\"y\":8,\"yref\":\"y\"},{\"font\":{\"color\":\"#FFFFFF\",\"size\":7},\"showarrow\":false,\"text\":\"0.1\",\"x\":4,\"xref\":\"x\",\"y\":8,\"yref\":\"y\"},{\"font\":{\"color\":\"#FFFFFF\",\"size\":7},\"showarrow\":false,\"text\":\"0.1\",\"x\":5,\"xref\":\"x\",\"y\":8,\"yref\":\"y\"},{\"font\":{\"color\":\"#FFFFFF\",\"size\":7},\"showarrow\":false,\"text\":\"0.11\",\"x\":6,\"xref\":\"x\",\"y\":8,\"yref\":\"y\"},{\"font\":{\"color\":\"#FFFFFF\",\"size\":7},\"showarrow\":false,\"text\":\"0.08\",\"x\":7,\"xref\":\"x\",\"y\":8,\"yref\":\"y\"},{\"font\":{\"color\":\"#FFFFFF\",\"size\":7},\"showarrow\":false,\"text\":\"0.05\",\"x\":8,\"xref\":\"x\",\"y\":8,\"yref\":\"y\"},{\"font\":{\"color\":\"#FFFFFF\",\"size\":7},\"showarrow\":false,\"text\":\"0.05\",\"x\":9,\"xref\":\"x\",\"y\":8,\"yref\":\"y\"},{\"font\":{\"color\":\"#FFFFFF\",\"size\":7},\"showarrow\":false,\"text\":\"0.07\",\"x\":10,\"xref\":\"x\",\"y\":8,\"yref\":\"y\"},{\"font\":{\"color\":\"#FFFFFF\",\"size\":7},\"showarrow\":false,\"text\":\"0.08\",\"x\":11,\"xref\":\"x\",\"y\":8,\"yref\":\"y\"},{\"font\":{\"color\":\"#000000\",\"size\":7},\"showarrow\":false,\"text\":\"0.36\",\"x\":0,\"xref\":\"x\",\"y\":9,\"yref\":\"y\"},{\"font\":{\"color\":\"#000000\",\"size\":7},\"showarrow\":false,\"text\":\"0.35\",\"x\":1,\"xref\":\"x\",\"y\":9,\"yref\":\"y\"},{\"font\":{\"color\":\"#FFFFFF\",\"size\":7},\"showarrow\":false,\"text\":\"0.31\",\"x\":2,\"xref\":\"x\",\"y\":9,\"yref\":\"y\"},{\"font\":{\"color\":\"#FFFFFF\",\"size\":7},\"showarrow\":false,\"text\":\"0.25\",\"x\":3,\"xref\":\"x\",\"y\":9,\"yref\":\"y\"},{\"font\":{\"color\":\"#FFFFFF\",\"size\":7},\"showarrow\":false,\"text\":\"0.13\",\"x\":4,\"xref\":\"x\",\"y\":9,\"yref\":\"y\"},{\"font\":{\"color\":\"#FFFFFF\",\"size\":7},\"showarrow\":false,\"text\":\"0.1\",\"x\":5,\"xref\":\"x\",\"y\":9,\"yref\":\"y\"},{\"font\":{\"color\":\"#FFFFFF\",\"size\":7},\"showarrow\":false,\"text\":\"0.1\",\"x\":6,\"xref\":\"x\",\"y\":9,\"yref\":\"y\"},{\"font\":{\"color\":\"#FFFFFF\",\"size\":7},\"showarrow\":false,\"text\":\"0.1\",\"x\":7,\"xref\":\"x\",\"y\":9,\"yref\":\"y\"},{\"font\":{\"color\":\"#FFFFFF\",\"size\":7},\"showarrow\":false,\"text\":\"0.06\",\"x\":8,\"xref\":\"x\",\"y\":9,\"yref\":\"y\"},{\"font\":{\"color\":\"#FFFFFF\",\"size\":7},\"showarrow\":false,\"text\":\"0.06\",\"x\":9,\"xref\":\"x\",\"y\":9,\"yref\":\"y\"},{\"font\":{\"color\":\"#FFFFFF\",\"size\":7},\"showarrow\":false,\"text\":\"0.08\",\"x\":10,\"xref\":\"x\",\"y\":9,\"yref\":\"y\"},{\"font\":{\"color\":\"#FFFFFF\",\"size\":7},\"showarrow\":false,\"text\":\"0.09\",\"x\":11,\"xref\":\"x\",\"y\":9,\"yref\":\"y\"},{\"font\":{\"color\":\"#FFFFFF\",\"size\":7},\"showarrow\":false,\"text\":\"0.31\",\"x\":0,\"xref\":\"x\",\"y\":10,\"yref\":\"y\"},{\"font\":{\"color\":\"#000000\",\"size\":7},\"showarrow\":false,\"text\":\"0.34\",\"x\":1,\"xref\":\"x\",\"y\":10,\"yref\":\"y\"},{\"font\":{\"color\":\"#000000\",\"size\":7},\"showarrow\":false,\"text\":\"0.33\",\"x\":2,\"xref\":\"x\",\"y\":10,\"yref\":\"y\"},{\"font\":{\"color\":\"#FFFFFF\",\"size\":7},\"showarrow\":false,\"text\":\"0.26\",\"x\":3,\"xref\":\"x\",\"y\":10,\"yref\":\"y\"},{\"font\":{\"color\":\"#FFFFFF\",\"size\":7},\"showarrow\":false,\"text\":\"0.16\",\"x\":4,\"xref\":\"x\",\"y\":10,\"yref\":\"y\"},{\"font\":{\"color\":\"#FFFFFF\",\"size\":7},\"showarrow\":false,\"text\":\"0.13\",\"x\":5,\"xref\":\"x\",\"y\":10,\"yref\":\"y\"},{\"font\":{\"color\":\"#FFFFFF\",\"size\":7},\"showarrow\":false,\"text\":\"0.13\",\"x\":6,\"xref\":\"x\",\"y\":10,\"yref\":\"y\"},{\"font\":{\"color\":\"#FFFFFF\",\"size\":7},\"showarrow\":false,\"text\":\"0.13\",\"x\":7,\"xref\":\"x\",\"y\":10,\"yref\":\"y\"},{\"font\":{\"color\":\"#FFFFFF\",\"size\":7},\"showarrow\":false,\"text\":\"0.09\",\"x\":8,\"xref\":\"x\",\"y\":10,\"yref\":\"y\"},{\"font\":{\"color\":\"#FFFFFF\",\"size\":7},\"showarrow\":false,\"text\":\"0.08\",\"x\":9,\"xref\":\"x\",\"y\":10,\"yref\":\"y\"},{\"font\":{\"color\":\"#FFFFFF\",\"size\":7},\"showarrow\":false,\"text\":\"0.09\",\"x\":10,\"xref\":\"x\",\"y\":10,\"yref\":\"y\"},{\"font\":{\"color\":\"#FFFFFF\",\"size\":7},\"showarrow\":false,\"text\":\"0.1\",\"x\":11,\"xref\":\"x\",\"y\":10,\"yref\":\"y\"},{\"font\":{\"color\":\"#000000\",\"size\":7},\"showarrow\":false,\"text\":\"0.36\",\"x\":0,\"xref\":\"x\",\"y\":11,\"yref\":\"y\"},{\"font\":{\"color\":\"#000000\",\"size\":7},\"showarrow\":false,\"text\":\"0.32\",\"x\":1,\"xref\":\"x\",\"y\":11,\"yref\":\"y\"},{\"font\":{\"color\":\"#FFFFFF\",\"size\":7},\"showarrow\":false,\"text\":\"0.29\",\"x\":2,\"xref\":\"x\",\"y\":11,\"yref\":\"y\"},{\"font\":{\"color\":\"#FFFFFF\",\"size\":7},\"showarrow\":false,\"text\":\"0.2\",\"x\":3,\"xref\":\"x\",\"y\":11,\"yref\":\"y\"},{\"font\":{\"color\":\"#FFFFFF\",\"size\":7},\"showarrow\":false,\"text\":\"0.16\",\"x\":4,\"xref\":\"x\",\"y\":11,\"yref\":\"y\"},{\"font\":{\"color\":\"#FFFFFF\",\"size\":7},\"showarrow\":false,\"text\":\"0.15\",\"x\":5,\"xref\":\"x\",\"y\":11,\"yref\":\"y\"},{\"font\":{\"color\":\"#FFFFFF\",\"size\":7},\"showarrow\":false,\"text\":\"0.14\",\"x\":6,\"xref\":\"x\",\"y\":11,\"yref\":\"y\"},{\"font\":{\"color\":\"#FFFFFF\",\"size\":7},\"showarrow\":false,\"text\":\"0.14\",\"x\":7,\"xref\":\"x\",\"y\":11,\"yref\":\"y\"},{\"font\":{\"color\":\"#FFFFFF\",\"size\":7},\"showarrow\":false,\"text\":\"0.1\",\"x\":8,\"xref\":\"x\",\"y\":11,\"yref\":\"y\"},{\"font\":{\"color\":\"#FFFFFF\",\"size\":7},\"showarrow\":false,\"text\":\"0.1\",\"x\":9,\"xref\":\"x\",\"y\":11,\"yref\":\"y\"},{\"font\":{\"color\":\"#FFFFFF\",\"size\":7},\"showarrow\":false,\"text\":\"0.1\",\"x\":10,\"xref\":\"x\",\"y\":11,\"yref\":\"y\"},{\"font\":{\"color\":\"#FFFFFF\",\"size\":7},\"showarrow\":false,\"text\":\"0.11\",\"x\":11,\"xref\":\"x\",\"y\":11,\"yref\":\"y\"}],\"template\":{\"data\":{\"barpolar\":[{\"marker\":{\"line\":{\"color\":\"#E5ECF6\",\"width\":0.5},\"pattern\":{\"fillmode\":\"overlay\",\"size\":10,\"solidity\":0.2}},\"type\":\"barpolar\"}],\"bar\":[{\"error_x\":{\"color\":\"#2a3f5f\"},\"error_y\":{\"color\":\"#2a3f5f\"},\"marker\":{\"line\":{\"color\":\"#E5ECF6\",\"width\":0.5},\"pattern\":{\"fillmode\":\"overlay\",\"size\":10,\"solidity\":0.2}},\"type\":\"bar\"}],\"carpet\":[{\"aaxis\":{\"endlinecolor\":\"#2a3f5f\",\"gridcolor\":\"white\",\"linecolor\":\"white\",\"minorgridcolor\":\"white\",\"startlinecolor\":\"#2a3f5f\"},\"baxis\":{\"endlinecolor\":\"#2a3f5f\",\"gridcolor\":\"white\",\"linecolor\":\"white\",\"minorgridcolor\":\"white\",\"startlinecolor\":\"#2a3f5f\"},\"type\":\"carpet\"}],\"choropleth\":[{\"colorbar\":{\"outlinewidth\":0,\"ticks\":\"\"},\"type\":\"choropleth\"}],\"contourcarpet\":[{\"colorbar\":{\"outlinewidth\":0,\"ticks\":\"\"},\"type\":\"contourcarpet\"}],\"contour\":[{\"colorbar\":{\"outlinewidth\":0,\"ticks\":\"\"},\"colorscale\":[[0.0,\"#0d0887\"],[0.1111111111111111,\"#46039f\"],[0.2222222222222222,\"#7201a8\"],[0.3333333333333333,\"#9c179e\"],[0.4444444444444444,\"#bd3786\"],[0.5555555555555556,\"#d8576b\"],[0.6666666666666666,\"#ed7953\"],[0.7777777777777778,\"#fb9f3a\"],[0.8888888888888888,\"#fdca26\"],[1.0,\"#f0f921\"]],\"type\":\"contour\"}],\"heatmapgl\":[{\"colorbar\":{\"outlinewidth\":0,\"ticks\":\"\"},\"colorscale\":[[0.0,\"#0d0887\"],[0.1111111111111111,\"#46039f\"],[0.2222222222222222,\"#7201a8\"],[0.3333333333333333,\"#9c179e\"],[0.4444444444444444,\"#bd3786\"],[0.5555555555555556,\"#d8576b\"],[0.6666666666666666,\"#ed7953\"],[0.7777777777777778,\"#fb9f3a\"],[0.8888888888888888,\"#fdca26\"],[1.0,\"#f0f921\"]],\"type\":\"heatmapgl\"}],\"heatmap\":[{\"colorbar\":{\"outlinewidth\":0,\"ticks\":\"\"},\"colorscale\":[[0.0,\"#0d0887\"],[0.1111111111111111,\"#46039f\"],[0.2222222222222222,\"#7201a8\"],[0.3333333333333333,\"#9c179e\"],[0.4444444444444444,\"#bd3786\"],[0.5555555555555556,\"#d8576b\"],[0.6666666666666666,\"#ed7953\"],[0.7777777777777778,\"#fb9f3a\"],[0.8888888888888888,\"#fdca26\"],[1.0,\"#f0f921\"]],\"type\":\"heatmap\"}],\"histogram2dcontour\":[{\"colorbar\":{\"outlinewidth\":0,\"ticks\":\"\"},\"colorscale\":[[0.0,\"#0d0887\"],[0.1111111111111111,\"#46039f\"],[0.2222222222222222,\"#7201a8\"],[0.3333333333333333,\"#9c179e\"],[0.4444444444444444,\"#bd3786\"],[0.5555555555555556,\"#d8576b\"],[0.6666666666666666,\"#ed7953\"],[0.7777777777777778,\"#fb9f3a\"],[0.8888888888888888,\"#fdca26\"],[1.0,\"#f0f921\"]],\"type\":\"histogram2dcontour\"}],\"histogram2d\":[{\"colorbar\":{\"outlinewidth\":0,\"ticks\":\"\"},\"colorscale\":[[0.0,\"#0d0887\"],[0.1111111111111111,\"#46039f\"],[0.2222222222222222,\"#7201a8\"],[0.3333333333333333,\"#9c179e\"],[0.4444444444444444,\"#bd3786\"],[0.5555555555555556,\"#d8576b\"],[0.6666666666666666,\"#ed7953\"],[0.7777777777777778,\"#fb9f3a\"],[0.8888888888888888,\"#fdca26\"],[1.0,\"#f0f921\"]],\"type\":\"histogram2d\"}],\"histogram\":[{\"marker\":{\"pattern\":{\"fillmode\":\"overlay\",\"size\":10,\"solidity\":0.2}},\"type\":\"histogram\"}],\"mesh3d\":[{\"colorbar\":{\"outlinewidth\":0,\"ticks\":\"\"},\"type\":\"mesh3d\"}],\"parcoords\":[{\"line\":{\"colorbar\":{\"outlinewidth\":0,\"ticks\":\"\"}},\"type\":\"parcoords\"}],\"pie\":[{\"automargin\":true,\"type\":\"pie\"}],\"scatter3d\":[{\"line\":{\"colorbar\":{\"outlinewidth\":0,\"ticks\":\"\"}},\"marker\":{\"colorbar\":{\"outlinewidth\":0,\"ticks\":\"\"}},\"type\":\"scatter3d\"}],\"scattercarpet\":[{\"marker\":{\"colorbar\":{\"outlinewidth\":0,\"ticks\":\"\"}},\"type\":\"scattercarpet\"}],\"scattergeo\":[{\"marker\":{\"colorbar\":{\"outlinewidth\":0,\"ticks\":\"\"}},\"type\":\"scattergeo\"}],\"scattergl\":[{\"marker\":{\"colorbar\":{\"outlinewidth\":0,\"ticks\":\"\"}},\"type\":\"scattergl\"}],\"scattermapbox\":[{\"marker\":{\"colorbar\":{\"outlinewidth\":0,\"ticks\":\"\"}},\"type\":\"scattermapbox\"}],\"scatterpolargl\":[{\"marker\":{\"colorbar\":{\"outlinewidth\":0,\"ticks\":\"\"}},\"type\":\"scatterpolargl\"}],\"scatterpolar\":[{\"marker\":{\"colorbar\":{\"outlinewidth\":0,\"ticks\":\"\"}},\"type\":\"scatterpolar\"}],\"scatter\":[{\"marker\":{\"colorbar\":{\"outlinewidth\":0,\"ticks\":\"\"}},\"type\":\"scatter\"}],\"scatterternary\":[{\"marker\":{\"colorbar\":{\"outlinewidth\":0,\"ticks\":\"\"}},\"type\":\"scatterternary\"}],\"surface\":[{\"colorbar\":{\"outlinewidth\":0,\"ticks\":\"\"},\"colorscale\":[[0.0,\"#0d0887\"],[0.1111111111111111,\"#46039f\"],[0.2222222222222222,\"#7201a8\"],[0.3333333333333333,\"#9c179e\"],[0.4444444444444444,\"#bd3786\"],[0.5555555555555556,\"#d8576b\"],[0.6666666666666666,\"#ed7953\"],[0.7777777777777778,\"#fb9f3a\"],[0.8888888888888888,\"#fdca26\"],[1.0,\"#f0f921\"]],\"type\":\"surface\"}],\"table\":[{\"cells\":{\"fill\":{\"color\":\"#EBF0F8\"},\"line\":{\"color\":\"white\"}},\"header\":{\"fill\":{\"color\":\"#C8D4E3\"},\"line\":{\"color\":\"white\"}},\"type\":\"table\"}]},\"layout\":{\"annotationdefaults\":{\"arrowcolor\":\"#2a3f5f\",\"arrowhead\":0,\"arrowwidth\":1},\"autotypenumbers\":\"strict\",\"coloraxis\":{\"colorbar\":{\"outlinewidth\":0,\"ticks\":\"\"}},\"colorscale\":{\"diverging\":[[0,\"#8e0152\"],[0.1,\"#c51b7d\"],[0.2,\"#de77ae\"],[0.3,\"#f1b6da\"],[0.4,\"#fde0ef\"],[0.5,\"#f7f7f7\"],[0.6,\"#e6f5d0\"],[0.7,\"#b8e186\"],[0.8,\"#7fbc41\"],[0.9,\"#4d9221\"],[1,\"#276419\"]],\"sequential\":[[0.0,\"#0d0887\"],[0.1111111111111111,\"#46039f\"],[0.2222222222222222,\"#7201a8\"],[0.3333333333333333,\"#9c179e\"],[0.4444444444444444,\"#bd3786\"],[0.5555555555555556,\"#d8576b\"],[0.6666666666666666,\"#ed7953\"],[0.7777777777777778,\"#fb9f3a\"],[0.8888888888888888,\"#fdca26\"],[1.0,\"#f0f921\"]],\"sequentialminus\":[[0.0,\"#0d0887\"],[0.1111111111111111,\"#46039f\"],[0.2222222222222222,\"#7201a8\"],[0.3333333333333333,\"#9c179e\"],[0.4444444444444444,\"#bd3786\"],[0.5555555555555556,\"#d8576b\"],[0.6666666666666666,\"#ed7953\"],[0.7777777777777778,\"#fb9f3a\"],[0.8888888888888888,\"#fdca26\"],[1.0,\"#f0f921\"]]},\"colorway\":[\"#636efa\",\"#EF553B\",\"#00cc96\",\"#ab63fa\",\"#FFA15A\",\"#19d3f3\",\"#FF6692\",\"#B6E880\",\"#FF97FF\",\"#FECB52\"],\"font\":{\"color\":\"#2a3f5f\"},\"geo\":{\"bgcolor\":\"white\",\"lakecolor\":\"white\",\"landcolor\":\"#E5ECF6\",\"showlakes\":true,\"showland\":true,\"subunitcolor\":\"white\"},\"hoverlabel\":{\"align\":\"left\"},\"hovermode\":\"closest\",\"mapbox\":{\"style\":\"light\"},\"paper_bgcolor\":\"white\",\"plot_bgcolor\":\"#E5ECF6\",\"polar\":{\"angularaxis\":{\"gridcolor\":\"white\",\"linecolor\":\"white\",\"ticks\":\"\"},\"bgcolor\":\"#E5ECF6\",\"radialaxis\":{\"gridcolor\":\"white\",\"linecolor\":\"white\",\"ticks\":\"\"}},\"scene\":{\"xaxis\":{\"backgroundcolor\":\"#E5ECF6\",\"gridcolor\":\"white\",\"gridwidth\":2,\"linecolor\":\"white\",\"showbackground\":true,\"ticks\":\"\",\"zerolinecolor\":\"white\"},\"yaxis\":{\"backgroundcolor\":\"#E5ECF6\",\"gridcolor\":\"white\",\"gridwidth\":2,\"linecolor\":\"white\",\"showbackground\":true,\"ticks\":\"\",\"zerolinecolor\":\"white\"},\"zaxis\":{\"backgroundcolor\":\"#E5ECF6\",\"gridcolor\":\"white\",\"gridwidth\":2,\"linecolor\":\"white\",\"showbackground\":true,\"ticks\":\"\",\"zerolinecolor\":\"white\"}},\"shapedefaults\":{\"line\":{\"color\":\"#2a3f5f\"}},\"ternary\":{\"aaxis\":{\"gridcolor\":\"white\",\"linecolor\":\"white\",\"ticks\":\"\"},\"baxis\":{\"gridcolor\":\"white\",\"linecolor\":\"white\",\"ticks\":\"\"},\"bgcolor\":\"#E5ECF6\",\"caxis\":{\"gridcolor\":\"white\",\"linecolor\":\"white\",\"ticks\":\"\"}},\"title\":{\"x\":0.05},\"xaxis\":{\"automargin\":true,\"gridcolor\":\"white\",\"linecolor\":\"white\",\"ticks\":\"\",\"title\":{\"standoff\":15},\"zerolinecolor\":\"white\",\"zerolinewidth\":2},\"yaxis\":{\"automargin\":true,\"gridcolor\":\"white\",\"linecolor\":\"white\",\"ticks\":\"\",\"title\":{\"standoff\":15},\"zerolinecolor\":\"white\",\"zerolinewidth\":2}}},\"title\":{\"text\":\"Not Spiled\"},\"xaxis\":{\"gridcolor\":\"rgb(0, 0, 0)\",\"showticklabels\":false,\"side\":\"top\",\"ticks\":\"\"},\"yaxis\":{\"showticklabels\":false,\"ticks\":\"\",\"ticksuffix\":\"  \"}},                        {\"responsive\": true}                    ).then(function(){\n",
       "                            \n",
       "var gd = document.getElementById('636c4125-5158-4cee-bd00-da1c4f32378f');\n",
       "var x = new MutationObserver(function (mutations, observer) {{\n",
       "        var display = window.getComputedStyle(gd).display;\n",
       "        if (!display || display === 'none') {{\n",
       "            console.log([gd, 'removed!']);\n",
       "            Plotly.purge(gd);\n",
       "            observer.disconnect();\n",
       "        }}\n",
       "}});\n",
       "\n",
       "// Listen for the removal of the full notebook cells\n",
       "var notebookContainer = gd.closest('#notebook-container');\n",
       "if (notebookContainer) {{\n",
       "    x.observe(notebookContainer, {childList: true});\n",
       "}}\n",
       "\n",
       "// Listen for the clearing of the current output cell\n",
       "var outputEl = gd.closest('.output');\n",
       "if (outputEl) {{\n",
       "    x.observe(outputEl, {childList: true});\n",
       "}}\n",
       "\n",
       "                        })                };                });            </script>        </div>"
      ]
     },
     "metadata": {},
     "output_type": "display_data"
    },
    {
     "data": {
      "text/html": [
       "        <script type=\"text/javascript\">\n",
       "        window.PlotlyConfig = {MathJaxConfig: 'local'};\n",
       "        if (window.MathJax) {MathJax.Hub.Config({SVG: {font: \"STIX-Web\"}});}\n",
       "        if (typeof require !== 'undefined') {\n",
       "        require.undef(\"plotly\");\n",
       "        requirejs.config({\n",
       "            paths: {\n",
       "                'plotly': ['https://cdn.plot.ly/plotly-2.9.0.min']\n",
       "            }\n",
       "        });\n",
       "        require(['plotly'], function(Plotly) {\n",
       "            window._Plotly = Plotly;\n",
       "        });\n",
       "        }\n",
       "        </script>\n",
       "        "
      ]
     },
     "metadata": {},
     "output_type": "display_data"
    },
    {
     "data": {
      "application/vnd.plotly.v1+json": {
       "config": {
        "linkText": "Export to plot.ly",
        "plotlyServerURL": "https://plot.ly",
        "showLink": false
       },
       "data": [
        {
         "colorscale": [
          [
           0,
           "#0d0887"
          ],
          [
           0.1111111111111111,
           "#46039f"
          ],
          [
           0.2222222222222222,
           "#7201a8"
          ],
          [
           0.3333333333333333,
           "#9c179e"
          ],
          [
           0.4444444444444444,
           "#bd3786"
          ],
          [
           0.5555555555555556,
           "#d8576b"
          ],
          [
           0.6666666666666666,
           "#ed7953"
          ],
          [
           0.7777777777777778,
           "#fb9f3a"
          ],
          [
           0.8888888888888888,
           "#fdca26"
          ],
          [
           1,
           "#f0f921"
          ]
         ],
         "reversescale": false,
         "showscale": true,
         "type": "heatmap",
         "z": [
          [
           0.01,
           0,
           0,
           0,
           0,
           0,
           0,
           0,
           0,
           0,
           0,
           0
          ],
          [
           0.01,
           0,
           0,
           0,
           0,
           0,
           0,
           0,
           0,
           0,
           0,
           0
          ],
          [
           0.01,
           0.01,
           0.01,
           0,
           0,
           0,
           0,
           0,
           0,
           0,
           0,
           0
          ],
          [
           0.01,
           0.01,
           0.01,
           0,
           0,
           0,
           0,
           0.02,
           0,
           0,
           0.01,
           0.01
          ],
          [
           0,
           0,
           0,
           0.01,
           0,
           0,
           0.03,
           0.03,
           0.03,
           0.01,
           0.03,
           0.02
          ],
          [
           0,
           0,
           0,
           0,
           0,
           0.02,
           0.03,
           0.05,
           0.04,
           0.05,
           0.04,
           0.04
          ],
          [
           0,
           0,
           0,
           0,
           0,
           0.01,
           0.03,
           0.05,
           0.16,
           0.13,
           0.08,
           0.03
          ],
          [
           0,
           0,
           0,
           0,
           0,
           0,
           0.01,
           0.14,
           0.22,
           0.24,
           0.15,
           0.07
          ],
          [
           0,
           0,
           0,
           0,
           0,
           0,
           0,
           0.11,
           0.2,
           0.16,
           0.09,
           0.07
          ],
          [
           0,
           0,
           0,
           0,
           0,
           0,
           0,
           0.08,
           0.17,
           0.12,
           0.05,
           0.03
          ],
          [
           0,
           0,
           0,
           0,
           0,
           0,
           0,
           0,
           0.07,
           0.07,
           0.02,
           0.01
          ],
          [
           0,
           0,
           0,
           0,
           0,
           0,
           0,
           0,
           0,
           0.01,
           0.01,
           0
          ]
         ]
        }
       ],
       "layout": {
        "annotations": [
         {
          "font": {
           "color": "#FFFFFF",
           "size": 7
          },
          "showarrow": false,
          "text": "0.01",
          "x": 0,
          "xref": "x",
          "y": 0,
          "yref": "y"
         },
         {
          "font": {
           "color": "#FFFFFF",
           "size": 7
          },
          "showarrow": false,
          "text": "0.0",
          "x": 1,
          "xref": "x",
          "y": 0,
          "yref": "y"
         },
         {
          "font": {
           "color": "#FFFFFF",
           "size": 7
          },
          "showarrow": false,
          "text": "0.0",
          "x": 2,
          "xref": "x",
          "y": 0,
          "yref": "y"
         },
         {
          "font": {
           "color": "#FFFFFF",
           "size": 7
          },
          "showarrow": false,
          "text": "0.0",
          "x": 3,
          "xref": "x",
          "y": 0,
          "yref": "y"
         },
         {
          "font": {
           "color": "#FFFFFF",
           "size": 7
          },
          "showarrow": false,
          "text": "0.0",
          "x": 4,
          "xref": "x",
          "y": 0,
          "yref": "y"
         },
         {
          "font": {
           "color": "#FFFFFF",
           "size": 7
          },
          "showarrow": false,
          "text": "0.0",
          "x": 5,
          "xref": "x",
          "y": 0,
          "yref": "y"
         },
         {
          "font": {
           "color": "#FFFFFF",
           "size": 7
          },
          "showarrow": false,
          "text": "0.0",
          "x": 6,
          "xref": "x",
          "y": 0,
          "yref": "y"
         },
         {
          "font": {
           "color": "#FFFFFF",
           "size": 7
          },
          "showarrow": false,
          "text": "0.0",
          "x": 7,
          "xref": "x",
          "y": 0,
          "yref": "y"
         },
         {
          "font": {
           "color": "#FFFFFF",
           "size": 7
          },
          "showarrow": false,
          "text": "0.0",
          "x": 8,
          "xref": "x",
          "y": 0,
          "yref": "y"
         },
         {
          "font": {
           "color": "#FFFFFF",
           "size": 7
          },
          "showarrow": false,
          "text": "0.0",
          "x": 9,
          "xref": "x",
          "y": 0,
          "yref": "y"
         },
         {
          "font": {
           "color": "#FFFFFF",
           "size": 7
          },
          "showarrow": false,
          "text": "0.0",
          "x": 10,
          "xref": "x",
          "y": 0,
          "yref": "y"
         },
         {
          "font": {
           "color": "#FFFFFF",
           "size": 7
          },
          "showarrow": false,
          "text": "0.0",
          "x": 11,
          "xref": "x",
          "y": 0,
          "yref": "y"
         },
         {
          "font": {
           "color": "#FFFFFF",
           "size": 7
          },
          "showarrow": false,
          "text": "0.01",
          "x": 0,
          "xref": "x",
          "y": 1,
          "yref": "y"
         },
         {
          "font": {
           "color": "#FFFFFF",
           "size": 7
          },
          "showarrow": false,
          "text": "0.0",
          "x": 1,
          "xref": "x",
          "y": 1,
          "yref": "y"
         },
         {
          "font": {
           "color": "#FFFFFF",
           "size": 7
          },
          "showarrow": false,
          "text": "0.0",
          "x": 2,
          "xref": "x",
          "y": 1,
          "yref": "y"
         },
         {
          "font": {
           "color": "#FFFFFF",
           "size": 7
          },
          "showarrow": false,
          "text": "0.0",
          "x": 3,
          "xref": "x",
          "y": 1,
          "yref": "y"
         },
         {
          "font": {
           "color": "#FFFFFF",
           "size": 7
          },
          "showarrow": false,
          "text": "0.0",
          "x": 4,
          "xref": "x",
          "y": 1,
          "yref": "y"
         },
         {
          "font": {
           "color": "#FFFFFF",
           "size": 7
          },
          "showarrow": false,
          "text": "0.0",
          "x": 5,
          "xref": "x",
          "y": 1,
          "yref": "y"
         },
         {
          "font": {
           "color": "#FFFFFF",
           "size": 7
          },
          "showarrow": false,
          "text": "0.0",
          "x": 6,
          "xref": "x",
          "y": 1,
          "yref": "y"
         },
         {
          "font": {
           "color": "#FFFFFF",
           "size": 7
          },
          "showarrow": false,
          "text": "0.0",
          "x": 7,
          "xref": "x",
          "y": 1,
          "yref": "y"
         },
         {
          "font": {
           "color": "#FFFFFF",
           "size": 7
          },
          "showarrow": false,
          "text": "0.0",
          "x": 8,
          "xref": "x",
          "y": 1,
          "yref": "y"
         },
         {
          "font": {
           "color": "#FFFFFF",
           "size": 7
          },
          "showarrow": false,
          "text": "0.0",
          "x": 9,
          "xref": "x",
          "y": 1,
          "yref": "y"
         },
         {
          "font": {
           "color": "#FFFFFF",
           "size": 7
          },
          "showarrow": false,
          "text": "0.0",
          "x": 10,
          "xref": "x",
          "y": 1,
          "yref": "y"
         },
         {
          "font": {
           "color": "#FFFFFF",
           "size": 7
          },
          "showarrow": false,
          "text": "0.0",
          "x": 11,
          "xref": "x",
          "y": 1,
          "yref": "y"
         },
         {
          "font": {
           "color": "#FFFFFF",
           "size": 7
          },
          "showarrow": false,
          "text": "0.01",
          "x": 0,
          "xref": "x",
          "y": 2,
          "yref": "y"
         },
         {
          "font": {
           "color": "#FFFFFF",
           "size": 7
          },
          "showarrow": false,
          "text": "0.01",
          "x": 1,
          "xref": "x",
          "y": 2,
          "yref": "y"
         },
         {
          "font": {
           "color": "#FFFFFF",
           "size": 7
          },
          "showarrow": false,
          "text": "0.01",
          "x": 2,
          "xref": "x",
          "y": 2,
          "yref": "y"
         },
         {
          "font": {
           "color": "#FFFFFF",
           "size": 7
          },
          "showarrow": false,
          "text": "0.0",
          "x": 3,
          "xref": "x",
          "y": 2,
          "yref": "y"
         },
         {
          "font": {
           "color": "#FFFFFF",
           "size": 7
          },
          "showarrow": false,
          "text": "0.0",
          "x": 4,
          "xref": "x",
          "y": 2,
          "yref": "y"
         },
         {
          "font": {
           "color": "#FFFFFF",
           "size": 7
          },
          "showarrow": false,
          "text": "0.0",
          "x": 5,
          "xref": "x",
          "y": 2,
          "yref": "y"
         },
         {
          "font": {
           "color": "#FFFFFF",
           "size": 7
          },
          "showarrow": false,
          "text": "0.0",
          "x": 6,
          "xref": "x",
          "y": 2,
          "yref": "y"
         },
         {
          "font": {
           "color": "#FFFFFF",
           "size": 7
          },
          "showarrow": false,
          "text": "0.0",
          "x": 7,
          "xref": "x",
          "y": 2,
          "yref": "y"
         },
         {
          "font": {
           "color": "#FFFFFF",
           "size": 7
          },
          "showarrow": false,
          "text": "0.0",
          "x": 8,
          "xref": "x",
          "y": 2,
          "yref": "y"
         },
         {
          "font": {
           "color": "#FFFFFF",
           "size": 7
          },
          "showarrow": false,
          "text": "0.0",
          "x": 9,
          "xref": "x",
          "y": 2,
          "yref": "y"
         },
         {
          "font": {
           "color": "#FFFFFF",
           "size": 7
          },
          "showarrow": false,
          "text": "0.0",
          "x": 10,
          "xref": "x",
          "y": 2,
          "yref": "y"
         },
         {
          "font": {
           "color": "#FFFFFF",
           "size": 7
          },
          "showarrow": false,
          "text": "0.0",
          "x": 11,
          "xref": "x",
          "y": 2,
          "yref": "y"
         },
         {
          "font": {
           "color": "#FFFFFF",
           "size": 7
          },
          "showarrow": false,
          "text": "0.01",
          "x": 0,
          "xref": "x",
          "y": 3,
          "yref": "y"
         },
         {
          "font": {
           "color": "#FFFFFF",
           "size": 7
          },
          "showarrow": false,
          "text": "0.01",
          "x": 1,
          "xref": "x",
          "y": 3,
          "yref": "y"
         },
         {
          "font": {
           "color": "#FFFFFF",
           "size": 7
          },
          "showarrow": false,
          "text": "0.01",
          "x": 2,
          "xref": "x",
          "y": 3,
          "yref": "y"
         },
         {
          "font": {
           "color": "#FFFFFF",
           "size": 7
          },
          "showarrow": false,
          "text": "0.0",
          "x": 3,
          "xref": "x",
          "y": 3,
          "yref": "y"
         },
         {
          "font": {
           "color": "#FFFFFF",
           "size": 7
          },
          "showarrow": false,
          "text": "0.0",
          "x": 4,
          "xref": "x",
          "y": 3,
          "yref": "y"
         },
         {
          "font": {
           "color": "#FFFFFF",
           "size": 7
          },
          "showarrow": false,
          "text": "0.0",
          "x": 5,
          "xref": "x",
          "y": 3,
          "yref": "y"
         },
         {
          "font": {
           "color": "#FFFFFF",
           "size": 7
          },
          "showarrow": false,
          "text": "0.0",
          "x": 6,
          "xref": "x",
          "y": 3,
          "yref": "y"
         },
         {
          "font": {
           "color": "#FFFFFF",
           "size": 7
          },
          "showarrow": false,
          "text": "0.02",
          "x": 7,
          "xref": "x",
          "y": 3,
          "yref": "y"
         },
         {
          "font": {
           "color": "#FFFFFF",
           "size": 7
          },
          "showarrow": false,
          "text": "0.0",
          "x": 8,
          "xref": "x",
          "y": 3,
          "yref": "y"
         },
         {
          "font": {
           "color": "#FFFFFF",
           "size": 7
          },
          "showarrow": false,
          "text": "0.0",
          "x": 9,
          "xref": "x",
          "y": 3,
          "yref": "y"
         },
         {
          "font": {
           "color": "#FFFFFF",
           "size": 7
          },
          "showarrow": false,
          "text": "0.01",
          "x": 10,
          "xref": "x",
          "y": 3,
          "yref": "y"
         },
         {
          "font": {
           "color": "#FFFFFF",
           "size": 7
          },
          "showarrow": false,
          "text": "0.01",
          "x": 11,
          "xref": "x",
          "y": 3,
          "yref": "y"
         },
         {
          "font": {
           "color": "#FFFFFF",
           "size": 7
          },
          "showarrow": false,
          "text": "0.0",
          "x": 0,
          "xref": "x",
          "y": 4,
          "yref": "y"
         },
         {
          "font": {
           "color": "#FFFFFF",
           "size": 7
          },
          "showarrow": false,
          "text": "0.0",
          "x": 1,
          "xref": "x",
          "y": 4,
          "yref": "y"
         },
         {
          "font": {
           "color": "#FFFFFF",
           "size": 7
          },
          "showarrow": false,
          "text": "0.0",
          "x": 2,
          "xref": "x",
          "y": 4,
          "yref": "y"
         },
         {
          "font": {
           "color": "#FFFFFF",
           "size": 7
          },
          "showarrow": false,
          "text": "0.01",
          "x": 3,
          "xref": "x",
          "y": 4,
          "yref": "y"
         },
         {
          "font": {
           "color": "#FFFFFF",
           "size": 7
          },
          "showarrow": false,
          "text": "0.0",
          "x": 4,
          "xref": "x",
          "y": 4,
          "yref": "y"
         },
         {
          "font": {
           "color": "#FFFFFF",
           "size": 7
          },
          "showarrow": false,
          "text": "0.0",
          "x": 5,
          "xref": "x",
          "y": 4,
          "yref": "y"
         },
         {
          "font": {
           "color": "#FFFFFF",
           "size": 7
          },
          "showarrow": false,
          "text": "0.03",
          "x": 6,
          "xref": "x",
          "y": 4,
          "yref": "y"
         },
         {
          "font": {
           "color": "#FFFFFF",
           "size": 7
          },
          "showarrow": false,
          "text": "0.03",
          "x": 7,
          "xref": "x",
          "y": 4,
          "yref": "y"
         },
         {
          "font": {
           "color": "#FFFFFF",
           "size": 7
          },
          "showarrow": false,
          "text": "0.03",
          "x": 8,
          "xref": "x",
          "y": 4,
          "yref": "y"
         },
         {
          "font": {
           "color": "#FFFFFF",
           "size": 7
          },
          "showarrow": false,
          "text": "0.01",
          "x": 9,
          "xref": "x",
          "y": 4,
          "yref": "y"
         },
         {
          "font": {
           "color": "#FFFFFF",
           "size": 7
          },
          "showarrow": false,
          "text": "0.03",
          "x": 10,
          "xref": "x",
          "y": 4,
          "yref": "y"
         },
         {
          "font": {
           "color": "#FFFFFF",
           "size": 7
          },
          "showarrow": false,
          "text": "0.02",
          "x": 11,
          "xref": "x",
          "y": 4,
          "yref": "y"
         },
         {
          "font": {
           "color": "#FFFFFF",
           "size": 7
          },
          "showarrow": false,
          "text": "0.0",
          "x": 0,
          "xref": "x",
          "y": 5,
          "yref": "y"
         },
         {
          "font": {
           "color": "#FFFFFF",
           "size": 7
          },
          "showarrow": false,
          "text": "0.0",
          "x": 1,
          "xref": "x",
          "y": 5,
          "yref": "y"
         },
         {
          "font": {
           "color": "#FFFFFF",
           "size": 7
          },
          "showarrow": false,
          "text": "0.0",
          "x": 2,
          "xref": "x",
          "y": 5,
          "yref": "y"
         },
         {
          "font": {
           "color": "#FFFFFF",
           "size": 7
          },
          "showarrow": false,
          "text": "0.0",
          "x": 3,
          "xref": "x",
          "y": 5,
          "yref": "y"
         },
         {
          "font": {
           "color": "#FFFFFF",
           "size": 7
          },
          "showarrow": false,
          "text": "0.0",
          "x": 4,
          "xref": "x",
          "y": 5,
          "yref": "y"
         },
         {
          "font": {
           "color": "#FFFFFF",
           "size": 7
          },
          "showarrow": false,
          "text": "0.02",
          "x": 5,
          "xref": "x",
          "y": 5,
          "yref": "y"
         },
         {
          "font": {
           "color": "#FFFFFF",
           "size": 7
          },
          "showarrow": false,
          "text": "0.03",
          "x": 6,
          "xref": "x",
          "y": 5,
          "yref": "y"
         },
         {
          "font": {
           "color": "#FFFFFF",
           "size": 7
          },
          "showarrow": false,
          "text": "0.05",
          "x": 7,
          "xref": "x",
          "y": 5,
          "yref": "y"
         },
         {
          "font": {
           "color": "#FFFFFF",
           "size": 7
          },
          "showarrow": false,
          "text": "0.04",
          "x": 8,
          "xref": "x",
          "y": 5,
          "yref": "y"
         },
         {
          "font": {
           "color": "#FFFFFF",
           "size": 7
          },
          "showarrow": false,
          "text": "0.05",
          "x": 9,
          "xref": "x",
          "y": 5,
          "yref": "y"
         },
         {
          "font": {
           "color": "#FFFFFF",
           "size": 7
          },
          "showarrow": false,
          "text": "0.04",
          "x": 10,
          "xref": "x",
          "y": 5,
          "yref": "y"
         },
         {
          "font": {
           "color": "#FFFFFF",
           "size": 7
          },
          "showarrow": false,
          "text": "0.04",
          "x": 11,
          "xref": "x",
          "y": 5,
          "yref": "y"
         },
         {
          "font": {
           "color": "#FFFFFF",
           "size": 7
          },
          "showarrow": false,
          "text": "0.0",
          "x": 0,
          "xref": "x",
          "y": 6,
          "yref": "y"
         },
         {
          "font": {
           "color": "#FFFFFF",
           "size": 7
          },
          "showarrow": false,
          "text": "0.0",
          "x": 1,
          "xref": "x",
          "y": 6,
          "yref": "y"
         },
         {
          "font": {
           "color": "#FFFFFF",
           "size": 7
          },
          "showarrow": false,
          "text": "0.0",
          "x": 2,
          "xref": "x",
          "y": 6,
          "yref": "y"
         },
         {
          "font": {
           "color": "#FFFFFF",
           "size": 7
          },
          "showarrow": false,
          "text": "0.0",
          "x": 3,
          "xref": "x",
          "y": 6,
          "yref": "y"
         },
         {
          "font": {
           "color": "#FFFFFF",
           "size": 7
          },
          "showarrow": false,
          "text": "0.0",
          "x": 4,
          "xref": "x",
          "y": 6,
          "yref": "y"
         },
         {
          "font": {
           "color": "#FFFFFF",
           "size": 7
          },
          "showarrow": false,
          "text": "0.01",
          "x": 5,
          "xref": "x",
          "y": 6,
          "yref": "y"
         },
         {
          "font": {
           "color": "#FFFFFF",
           "size": 7
          },
          "showarrow": false,
          "text": "0.03",
          "x": 6,
          "xref": "x",
          "y": 6,
          "yref": "y"
         },
         {
          "font": {
           "color": "#FFFFFF",
           "size": 7
          },
          "showarrow": false,
          "text": "0.05",
          "x": 7,
          "xref": "x",
          "y": 6,
          "yref": "y"
         },
         {
          "font": {
           "color": "#000000",
           "size": 7
          },
          "showarrow": false,
          "text": "0.16",
          "x": 8,
          "xref": "x",
          "y": 6,
          "yref": "y"
         },
         {
          "font": {
           "color": "#000000",
           "size": 7
          },
          "showarrow": false,
          "text": "0.13",
          "x": 9,
          "xref": "x",
          "y": 6,
          "yref": "y"
         },
         {
          "font": {
           "color": "#FFFFFF",
           "size": 7
          },
          "showarrow": false,
          "text": "0.08",
          "x": 10,
          "xref": "x",
          "y": 6,
          "yref": "y"
         },
         {
          "font": {
           "color": "#FFFFFF",
           "size": 7
          },
          "showarrow": false,
          "text": "0.03",
          "x": 11,
          "xref": "x",
          "y": 6,
          "yref": "y"
         },
         {
          "font": {
           "color": "#FFFFFF",
           "size": 7
          },
          "showarrow": false,
          "text": "0.0",
          "x": 0,
          "xref": "x",
          "y": 7,
          "yref": "y"
         },
         {
          "font": {
           "color": "#FFFFFF",
           "size": 7
          },
          "showarrow": false,
          "text": "0.0",
          "x": 1,
          "xref": "x",
          "y": 7,
          "yref": "y"
         },
         {
          "font": {
           "color": "#FFFFFF",
           "size": 7
          },
          "showarrow": false,
          "text": "0.0",
          "x": 2,
          "xref": "x",
          "y": 7,
          "yref": "y"
         },
         {
          "font": {
           "color": "#FFFFFF",
           "size": 7
          },
          "showarrow": false,
          "text": "0.0",
          "x": 3,
          "xref": "x",
          "y": 7,
          "yref": "y"
         },
         {
          "font": {
           "color": "#FFFFFF",
           "size": 7
          },
          "showarrow": false,
          "text": "0.0",
          "x": 4,
          "xref": "x",
          "y": 7,
          "yref": "y"
         },
         {
          "font": {
           "color": "#FFFFFF",
           "size": 7
          },
          "showarrow": false,
          "text": "0.0",
          "x": 5,
          "xref": "x",
          "y": 7,
          "yref": "y"
         },
         {
          "font": {
           "color": "#FFFFFF",
           "size": 7
          },
          "showarrow": false,
          "text": "0.01",
          "x": 6,
          "xref": "x",
          "y": 7,
          "yref": "y"
         },
         {
          "font": {
           "color": "#000000",
           "size": 7
          },
          "showarrow": false,
          "text": "0.14",
          "x": 7,
          "xref": "x",
          "y": 7,
          "yref": "y"
         },
         {
          "font": {
           "color": "#000000",
           "size": 7
          },
          "showarrow": false,
          "text": "0.22",
          "x": 8,
          "xref": "x",
          "y": 7,
          "yref": "y"
         },
         {
          "font": {
           "color": "#000000",
           "size": 7
          },
          "showarrow": false,
          "text": "0.24",
          "x": 9,
          "xref": "x",
          "y": 7,
          "yref": "y"
         },
         {
          "font": {
           "color": "#000000",
           "size": 7
          },
          "showarrow": false,
          "text": "0.15",
          "x": 10,
          "xref": "x",
          "y": 7,
          "yref": "y"
         },
         {
          "font": {
           "color": "#FFFFFF",
           "size": 7
          },
          "showarrow": false,
          "text": "0.07",
          "x": 11,
          "xref": "x",
          "y": 7,
          "yref": "y"
         },
         {
          "font": {
           "color": "#FFFFFF",
           "size": 7
          },
          "showarrow": false,
          "text": "0.0",
          "x": 0,
          "xref": "x",
          "y": 8,
          "yref": "y"
         },
         {
          "font": {
           "color": "#FFFFFF",
           "size": 7
          },
          "showarrow": false,
          "text": "0.0",
          "x": 1,
          "xref": "x",
          "y": 8,
          "yref": "y"
         },
         {
          "font": {
           "color": "#FFFFFF",
           "size": 7
          },
          "showarrow": false,
          "text": "0.0",
          "x": 2,
          "xref": "x",
          "y": 8,
          "yref": "y"
         },
         {
          "font": {
           "color": "#FFFFFF",
           "size": 7
          },
          "showarrow": false,
          "text": "0.0",
          "x": 3,
          "xref": "x",
          "y": 8,
          "yref": "y"
         },
         {
          "font": {
           "color": "#FFFFFF",
           "size": 7
          },
          "showarrow": false,
          "text": "0.0",
          "x": 4,
          "xref": "x",
          "y": 8,
          "yref": "y"
         },
         {
          "font": {
           "color": "#FFFFFF",
           "size": 7
          },
          "showarrow": false,
          "text": "0.0",
          "x": 5,
          "xref": "x",
          "y": 8,
          "yref": "y"
         },
         {
          "font": {
           "color": "#FFFFFF",
           "size": 7
          },
          "showarrow": false,
          "text": "0.0",
          "x": 6,
          "xref": "x",
          "y": 8,
          "yref": "y"
         },
         {
          "font": {
           "color": "#FFFFFF",
           "size": 7
          },
          "showarrow": false,
          "text": "0.11",
          "x": 7,
          "xref": "x",
          "y": 8,
          "yref": "y"
         },
         {
          "font": {
           "color": "#000000",
           "size": 7
          },
          "showarrow": false,
          "text": "0.2",
          "x": 8,
          "xref": "x",
          "y": 8,
          "yref": "y"
         },
         {
          "font": {
           "color": "#000000",
           "size": 7
          },
          "showarrow": false,
          "text": "0.16",
          "x": 9,
          "xref": "x",
          "y": 8,
          "yref": "y"
         },
         {
          "font": {
           "color": "#FFFFFF",
           "size": 7
          },
          "showarrow": false,
          "text": "0.09",
          "x": 10,
          "xref": "x",
          "y": 8,
          "yref": "y"
         },
         {
          "font": {
           "color": "#FFFFFF",
           "size": 7
          },
          "showarrow": false,
          "text": "0.07",
          "x": 11,
          "xref": "x",
          "y": 8,
          "yref": "y"
         },
         {
          "font": {
           "color": "#FFFFFF",
           "size": 7
          },
          "showarrow": false,
          "text": "0.0",
          "x": 0,
          "xref": "x",
          "y": 9,
          "yref": "y"
         },
         {
          "font": {
           "color": "#FFFFFF",
           "size": 7
          },
          "showarrow": false,
          "text": "0.0",
          "x": 1,
          "xref": "x",
          "y": 9,
          "yref": "y"
         },
         {
          "font": {
           "color": "#FFFFFF",
           "size": 7
          },
          "showarrow": false,
          "text": "0.0",
          "x": 2,
          "xref": "x",
          "y": 9,
          "yref": "y"
         },
         {
          "font": {
           "color": "#FFFFFF",
           "size": 7
          },
          "showarrow": false,
          "text": "0.0",
          "x": 3,
          "xref": "x",
          "y": 9,
          "yref": "y"
         },
         {
          "font": {
           "color": "#FFFFFF",
           "size": 7
          },
          "showarrow": false,
          "text": "0.0",
          "x": 4,
          "xref": "x",
          "y": 9,
          "yref": "y"
         },
         {
          "font": {
           "color": "#FFFFFF",
           "size": 7
          },
          "showarrow": false,
          "text": "0.0",
          "x": 5,
          "xref": "x",
          "y": 9,
          "yref": "y"
         },
         {
          "font": {
           "color": "#FFFFFF",
           "size": 7
          },
          "showarrow": false,
          "text": "0.0",
          "x": 6,
          "xref": "x",
          "y": 9,
          "yref": "y"
         },
         {
          "font": {
           "color": "#FFFFFF",
           "size": 7
          },
          "showarrow": false,
          "text": "0.08",
          "x": 7,
          "xref": "x",
          "y": 9,
          "yref": "y"
         },
         {
          "font": {
           "color": "#000000",
           "size": 7
          },
          "showarrow": false,
          "text": "0.17",
          "x": 8,
          "xref": "x",
          "y": 9,
          "yref": "y"
         },
         {
          "font": {
           "color": "#000000",
           "size": 7
          },
          "showarrow": false,
          "text": "0.12",
          "x": 9,
          "xref": "x",
          "y": 9,
          "yref": "y"
         },
         {
          "font": {
           "color": "#FFFFFF",
           "size": 7
          },
          "showarrow": false,
          "text": "0.05",
          "x": 10,
          "xref": "x",
          "y": 9,
          "yref": "y"
         },
         {
          "font": {
           "color": "#FFFFFF",
           "size": 7
          },
          "showarrow": false,
          "text": "0.03",
          "x": 11,
          "xref": "x",
          "y": 9,
          "yref": "y"
         },
         {
          "font": {
           "color": "#FFFFFF",
           "size": 7
          },
          "showarrow": false,
          "text": "0.0",
          "x": 0,
          "xref": "x",
          "y": 10,
          "yref": "y"
         },
         {
          "font": {
           "color": "#FFFFFF",
           "size": 7
          },
          "showarrow": false,
          "text": "0.0",
          "x": 1,
          "xref": "x",
          "y": 10,
          "yref": "y"
         },
         {
          "font": {
           "color": "#FFFFFF",
           "size": 7
          },
          "showarrow": false,
          "text": "0.0",
          "x": 2,
          "xref": "x",
          "y": 10,
          "yref": "y"
         },
         {
          "font": {
           "color": "#FFFFFF",
           "size": 7
          },
          "showarrow": false,
          "text": "0.0",
          "x": 3,
          "xref": "x",
          "y": 10,
          "yref": "y"
         },
         {
          "font": {
           "color": "#FFFFFF",
           "size": 7
          },
          "showarrow": false,
          "text": "0.0",
          "x": 4,
          "xref": "x",
          "y": 10,
          "yref": "y"
         },
         {
          "font": {
           "color": "#FFFFFF",
           "size": 7
          },
          "showarrow": false,
          "text": "0.0",
          "x": 5,
          "xref": "x",
          "y": 10,
          "yref": "y"
         },
         {
          "font": {
           "color": "#FFFFFF",
           "size": 7
          },
          "showarrow": false,
          "text": "0.0",
          "x": 6,
          "xref": "x",
          "y": 10,
          "yref": "y"
         },
         {
          "font": {
           "color": "#FFFFFF",
           "size": 7
          },
          "showarrow": false,
          "text": "0.0",
          "x": 7,
          "xref": "x",
          "y": 10,
          "yref": "y"
         },
         {
          "font": {
           "color": "#FFFFFF",
           "size": 7
          },
          "showarrow": false,
          "text": "0.07",
          "x": 8,
          "xref": "x",
          "y": 10,
          "yref": "y"
         },
         {
          "font": {
           "color": "#FFFFFF",
           "size": 7
          },
          "showarrow": false,
          "text": "0.07",
          "x": 9,
          "xref": "x",
          "y": 10,
          "yref": "y"
         },
         {
          "font": {
           "color": "#FFFFFF",
           "size": 7
          },
          "showarrow": false,
          "text": "0.02",
          "x": 10,
          "xref": "x",
          "y": 10,
          "yref": "y"
         },
         {
          "font": {
           "color": "#FFFFFF",
           "size": 7
          },
          "showarrow": false,
          "text": "0.01",
          "x": 11,
          "xref": "x",
          "y": 10,
          "yref": "y"
         },
         {
          "font": {
           "color": "#FFFFFF",
           "size": 7
          },
          "showarrow": false,
          "text": "0.0",
          "x": 0,
          "xref": "x",
          "y": 11,
          "yref": "y"
         },
         {
          "font": {
           "color": "#FFFFFF",
           "size": 7
          },
          "showarrow": false,
          "text": "0.0",
          "x": 1,
          "xref": "x",
          "y": 11,
          "yref": "y"
         },
         {
          "font": {
           "color": "#FFFFFF",
           "size": 7
          },
          "showarrow": false,
          "text": "0.0",
          "x": 2,
          "xref": "x",
          "y": 11,
          "yref": "y"
         },
         {
          "font": {
           "color": "#FFFFFF",
           "size": 7
          },
          "showarrow": false,
          "text": "0.0",
          "x": 3,
          "xref": "x",
          "y": 11,
          "yref": "y"
         },
         {
          "font": {
           "color": "#FFFFFF",
           "size": 7
          },
          "showarrow": false,
          "text": "0.0",
          "x": 4,
          "xref": "x",
          "y": 11,
          "yref": "y"
         },
         {
          "font": {
           "color": "#FFFFFF",
           "size": 7
          },
          "showarrow": false,
          "text": "0.0",
          "x": 5,
          "xref": "x",
          "y": 11,
          "yref": "y"
         },
         {
          "font": {
           "color": "#FFFFFF",
           "size": 7
          },
          "showarrow": false,
          "text": "0.0",
          "x": 6,
          "xref": "x",
          "y": 11,
          "yref": "y"
         },
         {
          "font": {
           "color": "#FFFFFF",
           "size": 7
          },
          "showarrow": false,
          "text": "0.0",
          "x": 7,
          "xref": "x",
          "y": 11,
          "yref": "y"
         },
         {
          "font": {
           "color": "#FFFFFF",
           "size": 7
          },
          "showarrow": false,
          "text": "0.0",
          "x": 8,
          "xref": "x",
          "y": 11,
          "yref": "y"
         },
         {
          "font": {
           "color": "#FFFFFF",
           "size": 7
          },
          "showarrow": false,
          "text": "0.01",
          "x": 9,
          "xref": "x",
          "y": 11,
          "yref": "y"
         },
         {
          "font": {
           "color": "#FFFFFF",
           "size": 7
          },
          "showarrow": false,
          "text": "0.01",
          "x": 10,
          "xref": "x",
          "y": 11,
          "yref": "y"
         },
         {
          "font": {
           "color": "#FFFFFF",
           "size": 7
          },
          "showarrow": false,
          "text": "0.0",
          "x": 11,
          "xref": "x",
          "y": 11,
          "yref": "y"
         }
        ],
        "template": {
         "data": {
          "bar": [
           {
            "error_x": {
             "color": "#2a3f5f"
            },
            "error_y": {
             "color": "#2a3f5f"
            },
            "marker": {
             "line": {
              "color": "#E5ECF6",
              "width": 0.5
             },
             "pattern": {
              "fillmode": "overlay",
              "size": 10,
              "solidity": 0.2
             }
            },
            "type": "bar"
           }
          ],
          "barpolar": [
           {
            "marker": {
             "line": {
              "color": "#E5ECF6",
              "width": 0.5
             },
             "pattern": {
              "fillmode": "overlay",
              "size": 10,
              "solidity": 0.2
             }
            },
            "type": "barpolar"
           }
          ],
          "carpet": [
           {
            "aaxis": {
             "endlinecolor": "#2a3f5f",
             "gridcolor": "white",
             "linecolor": "white",
             "minorgridcolor": "white",
             "startlinecolor": "#2a3f5f"
            },
            "baxis": {
             "endlinecolor": "#2a3f5f",
             "gridcolor": "white",
             "linecolor": "white",
             "minorgridcolor": "white",
             "startlinecolor": "#2a3f5f"
            },
            "type": "carpet"
           }
          ],
          "choropleth": [
           {
            "colorbar": {
             "outlinewidth": 0,
             "ticks": ""
            },
            "type": "choropleth"
           }
          ],
          "contour": [
           {
            "colorbar": {
             "outlinewidth": 0,
             "ticks": ""
            },
            "colorscale": [
             [
              0,
              "#0d0887"
             ],
             [
              0.1111111111111111,
              "#46039f"
             ],
             [
              0.2222222222222222,
              "#7201a8"
             ],
             [
              0.3333333333333333,
              "#9c179e"
             ],
             [
              0.4444444444444444,
              "#bd3786"
             ],
             [
              0.5555555555555556,
              "#d8576b"
             ],
             [
              0.6666666666666666,
              "#ed7953"
             ],
             [
              0.7777777777777778,
              "#fb9f3a"
             ],
             [
              0.8888888888888888,
              "#fdca26"
             ],
             [
              1,
              "#f0f921"
             ]
            ],
            "type": "contour"
           }
          ],
          "contourcarpet": [
           {
            "colorbar": {
             "outlinewidth": 0,
             "ticks": ""
            },
            "type": "contourcarpet"
           }
          ],
          "heatmap": [
           {
            "colorbar": {
             "outlinewidth": 0,
             "ticks": ""
            },
            "colorscale": [
             [
              0,
              "#0d0887"
             ],
             [
              0.1111111111111111,
              "#46039f"
             ],
             [
              0.2222222222222222,
              "#7201a8"
             ],
             [
              0.3333333333333333,
              "#9c179e"
             ],
             [
              0.4444444444444444,
              "#bd3786"
             ],
             [
              0.5555555555555556,
              "#d8576b"
             ],
             [
              0.6666666666666666,
              "#ed7953"
             ],
             [
              0.7777777777777778,
              "#fb9f3a"
             ],
             [
              0.8888888888888888,
              "#fdca26"
             ],
             [
              1,
              "#f0f921"
             ]
            ],
            "type": "heatmap"
           }
          ],
          "heatmapgl": [
           {
            "colorbar": {
             "outlinewidth": 0,
             "ticks": ""
            },
            "colorscale": [
             [
              0,
              "#0d0887"
             ],
             [
              0.1111111111111111,
              "#46039f"
             ],
             [
              0.2222222222222222,
              "#7201a8"
             ],
             [
              0.3333333333333333,
              "#9c179e"
             ],
             [
              0.4444444444444444,
              "#bd3786"
             ],
             [
              0.5555555555555556,
              "#d8576b"
             ],
             [
              0.6666666666666666,
              "#ed7953"
             ],
             [
              0.7777777777777778,
              "#fb9f3a"
             ],
             [
              0.8888888888888888,
              "#fdca26"
             ],
             [
              1,
              "#f0f921"
             ]
            ],
            "type": "heatmapgl"
           }
          ],
          "histogram": [
           {
            "marker": {
             "pattern": {
              "fillmode": "overlay",
              "size": 10,
              "solidity": 0.2
             }
            },
            "type": "histogram"
           }
          ],
          "histogram2d": [
           {
            "colorbar": {
             "outlinewidth": 0,
             "ticks": ""
            },
            "colorscale": [
             [
              0,
              "#0d0887"
             ],
             [
              0.1111111111111111,
              "#46039f"
             ],
             [
              0.2222222222222222,
              "#7201a8"
             ],
             [
              0.3333333333333333,
              "#9c179e"
             ],
             [
              0.4444444444444444,
              "#bd3786"
             ],
             [
              0.5555555555555556,
              "#d8576b"
             ],
             [
              0.6666666666666666,
              "#ed7953"
             ],
             [
              0.7777777777777778,
              "#fb9f3a"
             ],
             [
              0.8888888888888888,
              "#fdca26"
             ],
             [
              1,
              "#f0f921"
             ]
            ],
            "type": "histogram2d"
           }
          ],
          "histogram2dcontour": [
           {
            "colorbar": {
             "outlinewidth": 0,
             "ticks": ""
            },
            "colorscale": [
             [
              0,
              "#0d0887"
             ],
             [
              0.1111111111111111,
              "#46039f"
             ],
             [
              0.2222222222222222,
              "#7201a8"
             ],
             [
              0.3333333333333333,
              "#9c179e"
             ],
             [
              0.4444444444444444,
              "#bd3786"
             ],
             [
              0.5555555555555556,
              "#d8576b"
             ],
             [
              0.6666666666666666,
              "#ed7953"
             ],
             [
              0.7777777777777778,
              "#fb9f3a"
             ],
             [
              0.8888888888888888,
              "#fdca26"
             ],
             [
              1,
              "#f0f921"
             ]
            ],
            "type": "histogram2dcontour"
           }
          ],
          "mesh3d": [
           {
            "colorbar": {
             "outlinewidth": 0,
             "ticks": ""
            },
            "type": "mesh3d"
           }
          ],
          "parcoords": [
           {
            "line": {
             "colorbar": {
              "outlinewidth": 0,
              "ticks": ""
             }
            },
            "type": "parcoords"
           }
          ],
          "pie": [
           {
            "automargin": true,
            "type": "pie"
           }
          ],
          "scatter": [
           {
            "marker": {
             "colorbar": {
              "outlinewidth": 0,
              "ticks": ""
             }
            },
            "type": "scatter"
           }
          ],
          "scatter3d": [
           {
            "line": {
             "colorbar": {
              "outlinewidth": 0,
              "ticks": ""
             }
            },
            "marker": {
             "colorbar": {
              "outlinewidth": 0,
              "ticks": ""
             }
            },
            "type": "scatter3d"
           }
          ],
          "scattercarpet": [
           {
            "marker": {
             "colorbar": {
              "outlinewidth": 0,
              "ticks": ""
             }
            },
            "type": "scattercarpet"
           }
          ],
          "scattergeo": [
           {
            "marker": {
             "colorbar": {
              "outlinewidth": 0,
              "ticks": ""
             }
            },
            "type": "scattergeo"
           }
          ],
          "scattergl": [
           {
            "marker": {
             "colorbar": {
              "outlinewidth": 0,
              "ticks": ""
             }
            },
            "type": "scattergl"
           }
          ],
          "scattermapbox": [
           {
            "marker": {
             "colorbar": {
              "outlinewidth": 0,
              "ticks": ""
             }
            },
            "type": "scattermapbox"
           }
          ],
          "scatterpolar": [
           {
            "marker": {
             "colorbar": {
              "outlinewidth": 0,
              "ticks": ""
             }
            },
            "type": "scatterpolar"
           }
          ],
          "scatterpolargl": [
           {
            "marker": {
             "colorbar": {
              "outlinewidth": 0,
              "ticks": ""
             }
            },
            "type": "scatterpolargl"
           }
          ],
          "scatterternary": [
           {
            "marker": {
             "colorbar": {
              "outlinewidth": 0,
              "ticks": ""
             }
            },
            "type": "scatterternary"
           }
          ],
          "surface": [
           {
            "colorbar": {
             "outlinewidth": 0,
             "ticks": ""
            },
            "colorscale": [
             [
              0,
              "#0d0887"
             ],
             [
              0.1111111111111111,
              "#46039f"
             ],
             [
              0.2222222222222222,
              "#7201a8"
             ],
             [
              0.3333333333333333,
              "#9c179e"
             ],
             [
              0.4444444444444444,
              "#bd3786"
             ],
             [
              0.5555555555555556,
              "#d8576b"
             ],
             [
              0.6666666666666666,
              "#ed7953"
             ],
             [
              0.7777777777777778,
              "#fb9f3a"
             ],
             [
              0.8888888888888888,
              "#fdca26"
             ],
             [
              1,
              "#f0f921"
             ]
            ],
            "type": "surface"
           }
          ],
          "table": [
           {
            "cells": {
             "fill": {
              "color": "#EBF0F8"
             },
             "line": {
              "color": "white"
             }
            },
            "header": {
             "fill": {
              "color": "#C8D4E3"
             },
             "line": {
              "color": "white"
             }
            },
            "type": "table"
           }
          ]
         },
         "layout": {
          "annotationdefaults": {
           "arrowcolor": "#2a3f5f",
           "arrowhead": 0,
           "arrowwidth": 1
          },
          "autotypenumbers": "strict",
          "coloraxis": {
           "colorbar": {
            "outlinewidth": 0,
            "ticks": ""
           }
          },
          "colorscale": {
           "diverging": [
            [
             0,
             "#8e0152"
            ],
            [
             0.1,
             "#c51b7d"
            ],
            [
             0.2,
             "#de77ae"
            ],
            [
             0.3,
             "#f1b6da"
            ],
            [
             0.4,
             "#fde0ef"
            ],
            [
             0.5,
             "#f7f7f7"
            ],
            [
             0.6,
             "#e6f5d0"
            ],
            [
             0.7,
             "#b8e186"
            ],
            [
             0.8,
             "#7fbc41"
            ],
            [
             0.9,
             "#4d9221"
            ],
            [
             1,
             "#276419"
            ]
           ],
           "sequential": [
            [
             0,
             "#0d0887"
            ],
            [
             0.1111111111111111,
             "#46039f"
            ],
            [
             0.2222222222222222,
             "#7201a8"
            ],
            [
             0.3333333333333333,
             "#9c179e"
            ],
            [
             0.4444444444444444,
             "#bd3786"
            ],
            [
             0.5555555555555556,
             "#d8576b"
            ],
            [
             0.6666666666666666,
             "#ed7953"
            ],
            [
             0.7777777777777778,
             "#fb9f3a"
            ],
            [
             0.8888888888888888,
             "#fdca26"
            ],
            [
             1,
             "#f0f921"
            ]
           ],
           "sequentialminus": [
            [
             0,
             "#0d0887"
            ],
            [
             0.1111111111111111,
             "#46039f"
            ],
            [
             0.2222222222222222,
             "#7201a8"
            ],
            [
             0.3333333333333333,
             "#9c179e"
            ],
            [
             0.4444444444444444,
             "#bd3786"
            ],
            [
             0.5555555555555556,
             "#d8576b"
            ],
            [
             0.6666666666666666,
             "#ed7953"
            ],
            [
             0.7777777777777778,
             "#fb9f3a"
            ],
            [
             0.8888888888888888,
             "#fdca26"
            ],
            [
             1,
             "#f0f921"
            ]
           ]
          },
          "colorway": [
           "#636efa",
           "#EF553B",
           "#00cc96",
           "#ab63fa",
           "#FFA15A",
           "#19d3f3",
           "#FF6692",
           "#B6E880",
           "#FF97FF",
           "#FECB52"
          ],
          "font": {
           "color": "#2a3f5f"
          },
          "geo": {
           "bgcolor": "white",
           "lakecolor": "white",
           "landcolor": "#E5ECF6",
           "showlakes": true,
           "showland": true,
           "subunitcolor": "white"
          },
          "hoverlabel": {
           "align": "left"
          },
          "hovermode": "closest",
          "mapbox": {
           "style": "light"
          },
          "paper_bgcolor": "white",
          "plot_bgcolor": "#E5ECF6",
          "polar": {
           "angularaxis": {
            "gridcolor": "white",
            "linecolor": "white",
            "ticks": ""
           },
           "bgcolor": "#E5ECF6",
           "radialaxis": {
            "gridcolor": "white",
            "linecolor": "white",
            "ticks": ""
           }
          },
          "scene": {
           "xaxis": {
            "backgroundcolor": "#E5ECF6",
            "gridcolor": "white",
            "gridwidth": 2,
            "linecolor": "white",
            "showbackground": true,
            "ticks": "",
            "zerolinecolor": "white"
           },
           "yaxis": {
            "backgroundcolor": "#E5ECF6",
            "gridcolor": "white",
            "gridwidth": 2,
            "linecolor": "white",
            "showbackground": true,
            "ticks": "",
            "zerolinecolor": "white"
           },
           "zaxis": {
            "backgroundcolor": "#E5ECF6",
            "gridcolor": "white",
            "gridwidth": 2,
            "linecolor": "white",
            "showbackground": true,
            "ticks": "",
            "zerolinecolor": "white"
           }
          },
          "shapedefaults": {
           "line": {
            "color": "#2a3f5f"
           }
          },
          "ternary": {
           "aaxis": {
            "gridcolor": "white",
            "linecolor": "white",
            "ticks": ""
           },
           "baxis": {
            "gridcolor": "white",
            "linecolor": "white",
            "ticks": ""
           },
           "bgcolor": "#E5ECF6",
           "caxis": {
            "gridcolor": "white",
            "linecolor": "white",
            "ticks": ""
           }
          },
          "title": {
           "x": 0.05
          },
          "xaxis": {
           "automargin": true,
           "gridcolor": "white",
           "linecolor": "white",
           "ticks": "",
           "title": {
            "standoff": 15
           },
           "zerolinecolor": "white",
           "zerolinewidth": 2
          },
          "yaxis": {
           "automargin": true,
           "gridcolor": "white",
           "linecolor": "white",
           "ticks": "",
           "title": {
            "standoff": 15
           },
           "zerolinecolor": "white",
           "zerolinewidth": 2
          }
         }
        },
        "title": {
         "text": "Spiled"
        },
        "xaxis": {
         "gridcolor": "rgb(0, 0, 0)",
         "showticklabels": false,
         "side": "top",
         "ticks": ""
        },
        "yaxis": {
         "showticklabels": false,
         "ticks": "",
         "ticksuffix": "  "
        }
       }
      },
      "text/html": [
       "<div>                            <div id=\"5ddb83a5-fb8d-4241-a9a9-5f6da6245df4\" class=\"plotly-graph-div\" style=\"height:525px; width:100%;\"></div>            <script type=\"text/javascript\">                require([\"plotly\"], function(Plotly) {                    window.PLOTLYENV=window.PLOTLYENV || {};                                    if (document.getElementById(\"5ddb83a5-fb8d-4241-a9a9-5f6da6245df4\")) {                    Plotly.newPlot(                        \"5ddb83a5-fb8d-4241-a9a9-5f6da6245df4\",                        [{\"colorscale\":[[0.0,\"#0d0887\"],[0.1111111111111111,\"#46039f\"],[0.2222222222222222,\"#7201a8\"],[0.3333333333333333,\"#9c179e\"],[0.4444444444444444,\"#bd3786\"],[0.5555555555555556,\"#d8576b\"],[0.6666666666666666,\"#ed7953\"],[0.7777777777777778,\"#fb9f3a\"],[0.8888888888888888,\"#fdca26\"],[1.0,\"#f0f921\"]],\"reversescale\":false,\"showscale\":true,\"z\":[[0.01,0.0,0.0,0.0,0.0,0.0,0.0,0.0,0.0,0.0,0.0,0.0],[0.01,0.0,0.0,0.0,0.0,0.0,0.0,0.0,0.0,0.0,0.0,0.0],[0.01,0.01,0.01,0.0,0.0,0.0,0.0,0.0,0.0,0.0,0.0,0.0],[0.01,0.01,0.01,0.0,0.0,0.0,0.0,0.02,0.0,0.0,0.01,0.01],[0.0,0.0,0.0,0.01,0.0,0.0,0.03,0.03,0.03,0.01,0.03,0.02],[0.0,0.0,0.0,0.0,0.0,0.02,0.03,0.05,0.04,0.05,0.04,0.04],[0.0,0.0,0.0,0.0,0.0,0.01,0.03,0.05,0.16,0.13,0.08,0.03],[0.0,0.0,0.0,0.0,0.0,0.0,0.01,0.14,0.22,0.24,0.15,0.07],[0.0,0.0,0.0,0.0,0.0,0.0,0.0,0.11,0.2,0.16,0.09,0.07],[0.0,0.0,0.0,0.0,0.0,0.0,0.0,0.08,0.17,0.12,0.05,0.03],[0.0,0.0,0.0,0.0,0.0,0.0,0.0,0.0,0.07,0.07,0.02,0.01],[0.0,0.0,0.0,0.0,0.0,0.0,0.0,0.0,0.0,0.01,0.01,0.0]],\"type\":\"heatmap\"}],                        {\"annotations\":[{\"font\":{\"color\":\"#FFFFFF\",\"size\":7},\"showarrow\":false,\"text\":\"0.01\",\"x\":0,\"xref\":\"x\",\"y\":0,\"yref\":\"y\"},{\"font\":{\"color\":\"#FFFFFF\",\"size\":7},\"showarrow\":false,\"text\":\"0.0\",\"x\":1,\"xref\":\"x\",\"y\":0,\"yref\":\"y\"},{\"font\":{\"color\":\"#FFFFFF\",\"size\":7},\"showarrow\":false,\"text\":\"0.0\",\"x\":2,\"xref\":\"x\",\"y\":0,\"yref\":\"y\"},{\"font\":{\"color\":\"#FFFFFF\",\"size\":7},\"showarrow\":false,\"text\":\"0.0\",\"x\":3,\"xref\":\"x\",\"y\":0,\"yref\":\"y\"},{\"font\":{\"color\":\"#FFFFFF\",\"size\":7},\"showarrow\":false,\"text\":\"0.0\",\"x\":4,\"xref\":\"x\",\"y\":0,\"yref\":\"y\"},{\"font\":{\"color\":\"#FFFFFF\",\"size\":7},\"showarrow\":false,\"text\":\"0.0\",\"x\":5,\"xref\":\"x\",\"y\":0,\"yref\":\"y\"},{\"font\":{\"color\":\"#FFFFFF\",\"size\":7},\"showarrow\":false,\"text\":\"0.0\",\"x\":6,\"xref\":\"x\",\"y\":0,\"yref\":\"y\"},{\"font\":{\"color\":\"#FFFFFF\",\"size\":7},\"showarrow\":false,\"text\":\"0.0\",\"x\":7,\"xref\":\"x\",\"y\":0,\"yref\":\"y\"},{\"font\":{\"color\":\"#FFFFFF\",\"size\":7},\"showarrow\":false,\"text\":\"0.0\",\"x\":8,\"xref\":\"x\",\"y\":0,\"yref\":\"y\"},{\"font\":{\"color\":\"#FFFFFF\",\"size\":7},\"showarrow\":false,\"text\":\"0.0\",\"x\":9,\"xref\":\"x\",\"y\":0,\"yref\":\"y\"},{\"font\":{\"color\":\"#FFFFFF\",\"size\":7},\"showarrow\":false,\"text\":\"0.0\",\"x\":10,\"xref\":\"x\",\"y\":0,\"yref\":\"y\"},{\"font\":{\"color\":\"#FFFFFF\",\"size\":7},\"showarrow\":false,\"text\":\"0.0\",\"x\":11,\"xref\":\"x\",\"y\":0,\"yref\":\"y\"},{\"font\":{\"color\":\"#FFFFFF\",\"size\":7},\"showarrow\":false,\"text\":\"0.01\",\"x\":0,\"xref\":\"x\",\"y\":1,\"yref\":\"y\"},{\"font\":{\"color\":\"#FFFFFF\",\"size\":7},\"showarrow\":false,\"text\":\"0.0\",\"x\":1,\"xref\":\"x\",\"y\":1,\"yref\":\"y\"},{\"font\":{\"color\":\"#FFFFFF\",\"size\":7},\"showarrow\":false,\"text\":\"0.0\",\"x\":2,\"xref\":\"x\",\"y\":1,\"yref\":\"y\"},{\"font\":{\"color\":\"#FFFFFF\",\"size\":7},\"showarrow\":false,\"text\":\"0.0\",\"x\":3,\"xref\":\"x\",\"y\":1,\"yref\":\"y\"},{\"font\":{\"color\":\"#FFFFFF\",\"size\":7},\"showarrow\":false,\"text\":\"0.0\",\"x\":4,\"xref\":\"x\",\"y\":1,\"yref\":\"y\"},{\"font\":{\"color\":\"#FFFFFF\",\"size\":7},\"showarrow\":false,\"text\":\"0.0\",\"x\":5,\"xref\":\"x\",\"y\":1,\"yref\":\"y\"},{\"font\":{\"color\":\"#FFFFFF\",\"size\":7},\"showarrow\":false,\"text\":\"0.0\",\"x\":6,\"xref\":\"x\",\"y\":1,\"yref\":\"y\"},{\"font\":{\"color\":\"#FFFFFF\",\"size\":7},\"showarrow\":false,\"text\":\"0.0\",\"x\":7,\"xref\":\"x\",\"y\":1,\"yref\":\"y\"},{\"font\":{\"color\":\"#FFFFFF\",\"size\":7},\"showarrow\":false,\"text\":\"0.0\",\"x\":8,\"xref\":\"x\",\"y\":1,\"yref\":\"y\"},{\"font\":{\"color\":\"#FFFFFF\",\"size\":7},\"showarrow\":false,\"text\":\"0.0\",\"x\":9,\"xref\":\"x\",\"y\":1,\"yref\":\"y\"},{\"font\":{\"color\":\"#FFFFFF\",\"size\":7},\"showarrow\":false,\"text\":\"0.0\",\"x\":10,\"xref\":\"x\",\"y\":1,\"yref\":\"y\"},{\"font\":{\"color\":\"#FFFFFF\",\"size\":7},\"showarrow\":false,\"text\":\"0.0\",\"x\":11,\"xref\":\"x\",\"y\":1,\"yref\":\"y\"},{\"font\":{\"color\":\"#FFFFFF\",\"size\":7},\"showarrow\":false,\"text\":\"0.01\",\"x\":0,\"xref\":\"x\",\"y\":2,\"yref\":\"y\"},{\"font\":{\"color\":\"#FFFFFF\",\"size\":7},\"showarrow\":false,\"text\":\"0.01\",\"x\":1,\"xref\":\"x\",\"y\":2,\"yref\":\"y\"},{\"font\":{\"color\":\"#FFFFFF\",\"size\":7},\"showarrow\":false,\"text\":\"0.01\",\"x\":2,\"xref\":\"x\",\"y\":2,\"yref\":\"y\"},{\"font\":{\"color\":\"#FFFFFF\",\"size\":7},\"showarrow\":false,\"text\":\"0.0\",\"x\":3,\"xref\":\"x\",\"y\":2,\"yref\":\"y\"},{\"font\":{\"color\":\"#FFFFFF\",\"size\":7},\"showarrow\":false,\"text\":\"0.0\",\"x\":4,\"xref\":\"x\",\"y\":2,\"yref\":\"y\"},{\"font\":{\"color\":\"#FFFFFF\",\"size\":7},\"showarrow\":false,\"text\":\"0.0\",\"x\":5,\"xref\":\"x\",\"y\":2,\"yref\":\"y\"},{\"font\":{\"color\":\"#FFFFFF\",\"size\":7},\"showarrow\":false,\"text\":\"0.0\",\"x\":6,\"xref\":\"x\",\"y\":2,\"yref\":\"y\"},{\"font\":{\"color\":\"#FFFFFF\",\"size\":7},\"showarrow\":false,\"text\":\"0.0\",\"x\":7,\"xref\":\"x\",\"y\":2,\"yref\":\"y\"},{\"font\":{\"color\":\"#FFFFFF\",\"size\":7},\"showarrow\":false,\"text\":\"0.0\",\"x\":8,\"xref\":\"x\",\"y\":2,\"yref\":\"y\"},{\"font\":{\"color\":\"#FFFFFF\",\"size\":7},\"showarrow\":false,\"text\":\"0.0\",\"x\":9,\"xref\":\"x\",\"y\":2,\"yref\":\"y\"},{\"font\":{\"color\":\"#FFFFFF\",\"size\":7},\"showarrow\":false,\"text\":\"0.0\",\"x\":10,\"xref\":\"x\",\"y\":2,\"yref\":\"y\"},{\"font\":{\"color\":\"#FFFFFF\",\"size\":7},\"showarrow\":false,\"text\":\"0.0\",\"x\":11,\"xref\":\"x\",\"y\":2,\"yref\":\"y\"},{\"font\":{\"color\":\"#FFFFFF\",\"size\":7},\"showarrow\":false,\"text\":\"0.01\",\"x\":0,\"xref\":\"x\",\"y\":3,\"yref\":\"y\"},{\"font\":{\"color\":\"#FFFFFF\",\"size\":7},\"showarrow\":false,\"text\":\"0.01\",\"x\":1,\"xref\":\"x\",\"y\":3,\"yref\":\"y\"},{\"font\":{\"color\":\"#FFFFFF\",\"size\":7},\"showarrow\":false,\"text\":\"0.01\",\"x\":2,\"xref\":\"x\",\"y\":3,\"yref\":\"y\"},{\"font\":{\"color\":\"#FFFFFF\",\"size\":7},\"showarrow\":false,\"text\":\"0.0\",\"x\":3,\"xref\":\"x\",\"y\":3,\"yref\":\"y\"},{\"font\":{\"color\":\"#FFFFFF\",\"size\":7},\"showarrow\":false,\"text\":\"0.0\",\"x\":4,\"xref\":\"x\",\"y\":3,\"yref\":\"y\"},{\"font\":{\"color\":\"#FFFFFF\",\"size\":7},\"showarrow\":false,\"text\":\"0.0\",\"x\":5,\"xref\":\"x\",\"y\":3,\"yref\":\"y\"},{\"font\":{\"color\":\"#FFFFFF\",\"size\":7},\"showarrow\":false,\"text\":\"0.0\",\"x\":6,\"xref\":\"x\",\"y\":3,\"yref\":\"y\"},{\"font\":{\"color\":\"#FFFFFF\",\"size\":7},\"showarrow\":false,\"text\":\"0.02\",\"x\":7,\"xref\":\"x\",\"y\":3,\"yref\":\"y\"},{\"font\":{\"color\":\"#FFFFFF\",\"size\":7},\"showarrow\":false,\"text\":\"0.0\",\"x\":8,\"xref\":\"x\",\"y\":3,\"yref\":\"y\"},{\"font\":{\"color\":\"#FFFFFF\",\"size\":7},\"showarrow\":false,\"text\":\"0.0\",\"x\":9,\"xref\":\"x\",\"y\":3,\"yref\":\"y\"},{\"font\":{\"color\":\"#FFFFFF\",\"size\":7},\"showarrow\":false,\"text\":\"0.01\",\"x\":10,\"xref\":\"x\",\"y\":3,\"yref\":\"y\"},{\"font\":{\"color\":\"#FFFFFF\",\"size\":7},\"showarrow\":false,\"text\":\"0.01\",\"x\":11,\"xref\":\"x\",\"y\":3,\"yref\":\"y\"},{\"font\":{\"color\":\"#FFFFFF\",\"size\":7},\"showarrow\":false,\"text\":\"0.0\",\"x\":0,\"xref\":\"x\",\"y\":4,\"yref\":\"y\"},{\"font\":{\"color\":\"#FFFFFF\",\"size\":7},\"showarrow\":false,\"text\":\"0.0\",\"x\":1,\"xref\":\"x\",\"y\":4,\"yref\":\"y\"},{\"font\":{\"color\":\"#FFFFFF\",\"size\":7},\"showarrow\":false,\"text\":\"0.0\",\"x\":2,\"xref\":\"x\",\"y\":4,\"yref\":\"y\"},{\"font\":{\"color\":\"#FFFFFF\",\"size\":7},\"showarrow\":false,\"text\":\"0.01\",\"x\":3,\"xref\":\"x\",\"y\":4,\"yref\":\"y\"},{\"font\":{\"color\":\"#FFFFFF\",\"size\":7},\"showarrow\":false,\"text\":\"0.0\",\"x\":4,\"xref\":\"x\",\"y\":4,\"yref\":\"y\"},{\"font\":{\"color\":\"#FFFFFF\",\"size\":7},\"showarrow\":false,\"text\":\"0.0\",\"x\":5,\"xref\":\"x\",\"y\":4,\"yref\":\"y\"},{\"font\":{\"color\":\"#FFFFFF\",\"size\":7},\"showarrow\":false,\"text\":\"0.03\",\"x\":6,\"xref\":\"x\",\"y\":4,\"yref\":\"y\"},{\"font\":{\"color\":\"#FFFFFF\",\"size\":7},\"showarrow\":false,\"text\":\"0.03\",\"x\":7,\"xref\":\"x\",\"y\":4,\"yref\":\"y\"},{\"font\":{\"color\":\"#FFFFFF\",\"size\":7},\"showarrow\":false,\"text\":\"0.03\",\"x\":8,\"xref\":\"x\",\"y\":4,\"yref\":\"y\"},{\"font\":{\"color\":\"#FFFFFF\",\"size\":7},\"showarrow\":false,\"text\":\"0.01\",\"x\":9,\"xref\":\"x\",\"y\":4,\"yref\":\"y\"},{\"font\":{\"color\":\"#FFFFFF\",\"size\":7},\"showarrow\":false,\"text\":\"0.03\",\"x\":10,\"xref\":\"x\",\"y\":4,\"yref\":\"y\"},{\"font\":{\"color\":\"#FFFFFF\",\"size\":7},\"showarrow\":false,\"text\":\"0.02\",\"x\":11,\"xref\":\"x\",\"y\":4,\"yref\":\"y\"},{\"font\":{\"color\":\"#FFFFFF\",\"size\":7},\"showarrow\":false,\"text\":\"0.0\",\"x\":0,\"xref\":\"x\",\"y\":5,\"yref\":\"y\"},{\"font\":{\"color\":\"#FFFFFF\",\"size\":7},\"showarrow\":false,\"text\":\"0.0\",\"x\":1,\"xref\":\"x\",\"y\":5,\"yref\":\"y\"},{\"font\":{\"color\":\"#FFFFFF\",\"size\":7},\"showarrow\":false,\"text\":\"0.0\",\"x\":2,\"xref\":\"x\",\"y\":5,\"yref\":\"y\"},{\"font\":{\"color\":\"#FFFFFF\",\"size\":7},\"showarrow\":false,\"text\":\"0.0\",\"x\":3,\"xref\":\"x\",\"y\":5,\"yref\":\"y\"},{\"font\":{\"color\":\"#FFFFFF\",\"size\":7},\"showarrow\":false,\"text\":\"0.0\",\"x\":4,\"xref\":\"x\",\"y\":5,\"yref\":\"y\"},{\"font\":{\"color\":\"#FFFFFF\",\"size\":7},\"showarrow\":false,\"text\":\"0.02\",\"x\":5,\"xref\":\"x\",\"y\":5,\"yref\":\"y\"},{\"font\":{\"color\":\"#FFFFFF\",\"size\":7},\"showarrow\":false,\"text\":\"0.03\",\"x\":6,\"xref\":\"x\",\"y\":5,\"yref\":\"y\"},{\"font\":{\"color\":\"#FFFFFF\",\"size\":7},\"showarrow\":false,\"text\":\"0.05\",\"x\":7,\"xref\":\"x\",\"y\":5,\"yref\":\"y\"},{\"font\":{\"color\":\"#FFFFFF\",\"size\":7},\"showarrow\":false,\"text\":\"0.04\",\"x\":8,\"xref\":\"x\",\"y\":5,\"yref\":\"y\"},{\"font\":{\"color\":\"#FFFFFF\",\"size\":7},\"showarrow\":false,\"text\":\"0.05\",\"x\":9,\"xref\":\"x\",\"y\":5,\"yref\":\"y\"},{\"font\":{\"color\":\"#FFFFFF\",\"size\":7},\"showarrow\":false,\"text\":\"0.04\",\"x\":10,\"xref\":\"x\",\"y\":5,\"yref\":\"y\"},{\"font\":{\"color\":\"#FFFFFF\",\"size\":7},\"showarrow\":false,\"text\":\"0.04\",\"x\":11,\"xref\":\"x\",\"y\":5,\"yref\":\"y\"},{\"font\":{\"color\":\"#FFFFFF\",\"size\":7},\"showarrow\":false,\"text\":\"0.0\",\"x\":0,\"xref\":\"x\",\"y\":6,\"yref\":\"y\"},{\"font\":{\"color\":\"#FFFFFF\",\"size\":7},\"showarrow\":false,\"text\":\"0.0\",\"x\":1,\"xref\":\"x\",\"y\":6,\"yref\":\"y\"},{\"font\":{\"color\":\"#FFFFFF\",\"size\":7},\"showarrow\":false,\"text\":\"0.0\",\"x\":2,\"xref\":\"x\",\"y\":6,\"yref\":\"y\"},{\"font\":{\"color\":\"#FFFFFF\",\"size\":7},\"showarrow\":false,\"text\":\"0.0\",\"x\":3,\"xref\":\"x\",\"y\":6,\"yref\":\"y\"},{\"font\":{\"color\":\"#FFFFFF\",\"size\":7},\"showarrow\":false,\"text\":\"0.0\",\"x\":4,\"xref\":\"x\",\"y\":6,\"yref\":\"y\"},{\"font\":{\"color\":\"#FFFFFF\",\"size\":7},\"showarrow\":false,\"text\":\"0.01\",\"x\":5,\"xref\":\"x\",\"y\":6,\"yref\":\"y\"},{\"font\":{\"color\":\"#FFFFFF\",\"size\":7},\"showarrow\":false,\"text\":\"0.03\",\"x\":6,\"xref\":\"x\",\"y\":6,\"yref\":\"y\"},{\"font\":{\"color\":\"#FFFFFF\",\"size\":7},\"showarrow\":false,\"text\":\"0.05\",\"x\":7,\"xref\":\"x\",\"y\":6,\"yref\":\"y\"},{\"font\":{\"color\":\"#000000\",\"size\":7},\"showarrow\":false,\"text\":\"0.16\",\"x\":8,\"xref\":\"x\",\"y\":6,\"yref\":\"y\"},{\"font\":{\"color\":\"#000000\",\"size\":7},\"showarrow\":false,\"text\":\"0.13\",\"x\":9,\"xref\":\"x\",\"y\":6,\"yref\":\"y\"},{\"font\":{\"color\":\"#FFFFFF\",\"size\":7},\"showarrow\":false,\"text\":\"0.08\",\"x\":10,\"xref\":\"x\",\"y\":6,\"yref\":\"y\"},{\"font\":{\"color\":\"#FFFFFF\",\"size\":7},\"showarrow\":false,\"text\":\"0.03\",\"x\":11,\"xref\":\"x\",\"y\":6,\"yref\":\"y\"},{\"font\":{\"color\":\"#FFFFFF\",\"size\":7},\"showarrow\":false,\"text\":\"0.0\",\"x\":0,\"xref\":\"x\",\"y\":7,\"yref\":\"y\"},{\"font\":{\"color\":\"#FFFFFF\",\"size\":7},\"showarrow\":false,\"text\":\"0.0\",\"x\":1,\"xref\":\"x\",\"y\":7,\"yref\":\"y\"},{\"font\":{\"color\":\"#FFFFFF\",\"size\":7},\"showarrow\":false,\"text\":\"0.0\",\"x\":2,\"xref\":\"x\",\"y\":7,\"yref\":\"y\"},{\"font\":{\"color\":\"#FFFFFF\",\"size\":7},\"showarrow\":false,\"text\":\"0.0\",\"x\":3,\"xref\":\"x\",\"y\":7,\"yref\":\"y\"},{\"font\":{\"color\":\"#FFFFFF\",\"size\":7},\"showarrow\":false,\"text\":\"0.0\",\"x\":4,\"xref\":\"x\",\"y\":7,\"yref\":\"y\"},{\"font\":{\"color\":\"#FFFFFF\",\"size\":7},\"showarrow\":false,\"text\":\"0.0\",\"x\":5,\"xref\":\"x\",\"y\":7,\"yref\":\"y\"},{\"font\":{\"color\":\"#FFFFFF\",\"size\":7},\"showarrow\":false,\"text\":\"0.01\",\"x\":6,\"xref\":\"x\",\"y\":7,\"yref\":\"y\"},{\"font\":{\"color\":\"#000000\",\"size\":7},\"showarrow\":false,\"text\":\"0.14\",\"x\":7,\"xref\":\"x\",\"y\":7,\"yref\":\"y\"},{\"font\":{\"color\":\"#000000\",\"size\":7},\"showarrow\":false,\"text\":\"0.22\",\"x\":8,\"xref\":\"x\",\"y\":7,\"yref\":\"y\"},{\"font\":{\"color\":\"#000000\",\"size\":7},\"showarrow\":false,\"text\":\"0.24\",\"x\":9,\"xref\":\"x\",\"y\":7,\"yref\":\"y\"},{\"font\":{\"color\":\"#000000\",\"size\":7},\"showarrow\":false,\"text\":\"0.15\",\"x\":10,\"xref\":\"x\",\"y\":7,\"yref\":\"y\"},{\"font\":{\"color\":\"#FFFFFF\",\"size\":7},\"showarrow\":false,\"text\":\"0.07\",\"x\":11,\"xref\":\"x\",\"y\":7,\"yref\":\"y\"},{\"font\":{\"color\":\"#FFFFFF\",\"size\":7},\"showarrow\":false,\"text\":\"0.0\",\"x\":0,\"xref\":\"x\",\"y\":8,\"yref\":\"y\"},{\"font\":{\"color\":\"#FFFFFF\",\"size\":7},\"showarrow\":false,\"text\":\"0.0\",\"x\":1,\"xref\":\"x\",\"y\":8,\"yref\":\"y\"},{\"font\":{\"color\":\"#FFFFFF\",\"size\":7},\"showarrow\":false,\"text\":\"0.0\",\"x\":2,\"xref\":\"x\",\"y\":8,\"yref\":\"y\"},{\"font\":{\"color\":\"#FFFFFF\",\"size\":7},\"showarrow\":false,\"text\":\"0.0\",\"x\":3,\"xref\":\"x\",\"y\":8,\"yref\":\"y\"},{\"font\":{\"color\":\"#FFFFFF\",\"size\":7},\"showarrow\":false,\"text\":\"0.0\",\"x\":4,\"xref\":\"x\",\"y\":8,\"yref\":\"y\"},{\"font\":{\"color\":\"#FFFFFF\",\"size\":7},\"showarrow\":false,\"text\":\"0.0\",\"x\":5,\"xref\":\"x\",\"y\":8,\"yref\":\"y\"},{\"font\":{\"color\":\"#FFFFFF\",\"size\":7},\"showarrow\":false,\"text\":\"0.0\",\"x\":6,\"xref\":\"x\",\"y\":8,\"yref\":\"y\"},{\"font\":{\"color\":\"#FFFFFF\",\"size\":7},\"showarrow\":false,\"text\":\"0.11\",\"x\":7,\"xref\":\"x\",\"y\":8,\"yref\":\"y\"},{\"font\":{\"color\":\"#000000\",\"size\":7},\"showarrow\":false,\"text\":\"0.2\",\"x\":8,\"xref\":\"x\",\"y\":8,\"yref\":\"y\"},{\"font\":{\"color\":\"#000000\",\"size\":7},\"showarrow\":false,\"text\":\"0.16\",\"x\":9,\"xref\":\"x\",\"y\":8,\"yref\":\"y\"},{\"font\":{\"color\":\"#FFFFFF\",\"size\":7},\"showarrow\":false,\"text\":\"0.09\",\"x\":10,\"xref\":\"x\",\"y\":8,\"yref\":\"y\"},{\"font\":{\"color\":\"#FFFFFF\",\"size\":7},\"showarrow\":false,\"text\":\"0.07\",\"x\":11,\"xref\":\"x\",\"y\":8,\"yref\":\"y\"},{\"font\":{\"color\":\"#FFFFFF\",\"size\":7},\"showarrow\":false,\"text\":\"0.0\",\"x\":0,\"xref\":\"x\",\"y\":9,\"yref\":\"y\"},{\"font\":{\"color\":\"#FFFFFF\",\"size\":7},\"showarrow\":false,\"text\":\"0.0\",\"x\":1,\"xref\":\"x\",\"y\":9,\"yref\":\"y\"},{\"font\":{\"color\":\"#FFFFFF\",\"size\":7},\"showarrow\":false,\"text\":\"0.0\",\"x\":2,\"xref\":\"x\",\"y\":9,\"yref\":\"y\"},{\"font\":{\"color\":\"#FFFFFF\",\"size\":7},\"showarrow\":false,\"text\":\"0.0\",\"x\":3,\"xref\":\"x\",\"y\":9,\"yref\":\"y\"},{\"font\":{\"color\":\"#FFFFFF\",\"size\":7},\"showarrow\":false,\"text\":\"0.0\",\"x\":4,\"xref\":\"x\",\"y\":9,\"yref\":\"y\"},{\"font\":{\"color\":\"#FFFFFF\",\"size\":7},\"showarrow\":false,\"text\":\"0.0\",\"x\":5,\"xref\":\"x\",\"y\":9,\"yref\":\"y\"},{\"font\":{\"color\":\"#FFFFFF\",\"size\":7},\"showarrow\":false,\"text\":\"0.0\",\"x\":6,\"xref\":\"x\",\"y\":9,\"yref\":\"y\"},{\"font\":{\"color\":\"#FFFFFF\",\"size\":7},\"showarrow\":false,\"text\":\"0.08\",\"x\":7,\"xref\":\"x\",\"y\":9,\"yref\":\"y\"},{\"font\":{\"color\":\"#000000\",\"size\":7},\"showarrow\":false,\"text\":\"0.17\",\"x\":8,\"xref\":\"x\",\"y\":9,\"yref\":\"y\"},{\"font\":{\"color\":\"#000000\",\"size\":7},\"showarrow\":false,\"text\":\"0.12\",\"x\":9,\"xref\":\"x\",\"y\":9,\"yref\":\"y\"},{\"font\":{\"color\":\"#FFFFFF\",\"size\":7},\"showarrow\":false,\"text\":\"0.05\",\"x\":10,\"xref\":\"x\",\"y\":9,\"yref\":\"y\"},{\"font\":{\"color\":\"#FFFFFF\",\"size\":7},\"showarrow\":false,\"text\":\"0.03\",\"x\":11,\"xref\":\"x\",\"y\":9,\"yref\":\"y\"},{\"font\":{\"color\":\"#FFFFFF\",\"size\":7},\"showarrow\":false,\"text\":\"0.0\",\"x\":0,\"xref\":\"x\",\"y\":10,\"yref\":\"y\"},{\"font\":{\"color\":\"#FFFFFF\",\"size\":7},\"showarrow\":false,\"text\":\"0.0\",\"x\":1,\"xref\":\"x\",\"y\":10,\"yref\":\"y\"},{\"font\":{\"color\":\"#FFFFFF\",\"size\":7},\"showarrow\":false,\"text\":\"0.0\",\"x\":2,\"xref\":\"x\",\"y\":10,\"yref\":\"y\"},{\"font\":{\"color\":\"#FFFFFF\",\"size\":7},\"showarrow\":false,\"text\":\"0.0\",\"x\":3,\"xref\":\"x\",\"y\":10,\"yref\":\"y\"},{\"font\":{\"color\":\"#FFFFFF\",\"size\":7},\"showarrow\":false,\"text\":\"0.0\",\"x\":4,\"xref\":\"x\",\"y\":10,\"yref\":\"y\"},{\"font\":{\"color\":\"#FFFFFF\",\"size\":7},\"showarrow\":false,\"text\":\"0.0\",\"x\":5,\"xref\":\"x\",\"y\":10,\"yref\":\"y\"},{\"font\":{\"color\":\"#FFFFFF\",\"size\":7},\"showarrow\":false,\"text\":\"0.0\",\"x\":6,\"xref\":\"x\",\"y\":10,\"yref\":\"y\"},{\"font\":{\"color\":\"#FFFFFF\",\"size\":7},\"showarrow\":false,\"text\":\"0.0\",\"x\":7,\"xref\":\"x\",\"y\":10,\"yref\":\"y\"},{\"font\":{\"color\":\"#FFFFFF\",\"size\":7},\"showarrow\":false,\"text\":\"0.07\",\"x\":8,\"xref\":\"x\",\"y\":10,\"yref\":\"y\"},{\"font\":{\"color\":\"#FFFFFF\",\"size\":7},\"showarrow\":false,\"text\":\"0.07\",\"x\":9,\"xref\":\"x\",\"y\":10,\"yref\":\"y\"},{\"font\":{\"color\":\"#FFFFFF\",\"size\":7},\"showarrow\":false,\"text\":\"0.02\",\"x\":10,\"xref\":\"x\",\"y\":10,\"yref\":\"y\"},{\"font\":{\"color\":\"#FFFFFF\",\"size\":7},\"showarrow\":false,\"text\":\"0.01\",\"x\":11,\"xref\":\"x\",\"y\":10,\"yref\":\"y\"},{\"font\":{\"color\":\"#FFFFFF\",\"size\":7},\"showarrow\":false,\"text\":\"0.0\",\"x\":0,\"xref\":\"x\",\"y\":11,\"yref\":\"y\"},{\"font\":{\"color\":\"#FFFFFF\",\"size\":7},\"showarrow\":false,\"text\":\"0.0\",\"x\":1,\"xref\":\"x\",\"y\":11,\"yref\":\"y\"},{\"font\":{\"color\":\"#FFFFFF\",\"size\":7},\"showarrow\":false,\"text\":\"0.0\",\"x\":2,\"xref\":\"x\",\"y\":11,\"yref\":\"y\"},{\"font\":{\"color\":\"#FFFFFF\",\"size\":7},\"showarrow\":false,\"text\":\"0.0\",\"x\":3,\"xref\":\"x\",\"y\":11,\"yref\":\"y\"},{\"font\":{\"color\":\"#FFFFFF\",\"size\":7},\"showarrow\":false,\"text\":\"0.0\",\"x\":4,\"xref\":\"x\",\"y\":11,\"yref\":\"y\"},{\"font\":{\"color\":\"#FFFFFF\",\"size\":7},\"showarrow\":false,\"text\":\"0.0\",\"x\":5,\"xref\":\"x\",\"y\":11,\"yref\":\"y\"},{\"font\":{\"color\":\"#FFFFFF\",\"size\":7},\"showarrow\":false,\"text\":\"0.0\",\"x\":6,\"xref\":\"x\",\"y\":11,\"yref\":\"y\"},{\"font\":{\"color\":\"#FFFFFF\",\"size\":7},\"showarrow\":false,\"text\":\"0.0\",\"x\":7,\"xref\":\"x\",\"y\":11,\"yref\":\"y\"},{\"font\":{\"color\":\"#FFFFFF\",\"size\":7},\"showarrow\":false,\"text\":\"0.0\",\"x\":8,\"xref\":\"x\",\"y\":11,\"yref\":\"y\"},{\"font\":{\"color\":\"#FFFFFF\",\"size\":7},\"showarrow\":false,\"text\":\"0.01\",\"x\":9,\"xref\":\"x\",\"y\":11,\"yref\":\"y\"},{\"font\":{\"color\":\"#FFFFFF\",\"size\":7},\"showarrow\":false,\"text\":\"0.01\",\"x\":10,\"xref\":\"x\",\"y\":11,\"yref\":\"y\"},{\"font\":{\"color\":\"#FFFFFF\",\"size\":7},\"showarrow\":false,\"text\":\"0.0\",\"x\":11,\"xref\":\"x\",\"y\":11,\"yref\":\"y\"}],\"template\":{\"data\":{\"barpolar\":[{\"marker\":{\"line\":{\"color\":\"#E5ECF6\",\"width\":0.5},\"pattern\":{\"fillmode\":\"overlay\",\"size\":10,\"solidity\":0.2}},\"type\":\"barpolar\"}],\"bar\":[{\"error_x\":{\"color\":\"#2a3f5f\"},\"error_y\":{\"color\":\"#2a3f5f\"},\"marker\":{\"line\":{\"color\":\"#E5ECF6\",\"width\":0.5},\"pattern\":{\"fillmode\":\"overlay\",\"size\":10,\"solidity\":0.2}},\"type\":\"bar\"}],\"carpet\":[{\"aaxis\":{\"endlinecolor\":\"#2a3f5f\",\"gridcolor\":\"white\",\"linecolor\":\"white\",\"minorgridcolor\":\"white\",\"startlinecolor\":\"#2a3f5f\"},\"baxis\":{\"endlinecolor\":\"#2a3f5f\",\"gridcolor\":\"white\",\"linecolor\":\"white\",\"minorgridcolor\":\"white\",\"startlinecolor\":\"#2a3f5f\"},\"type\":\"carpet\"}],\"choropleth\":[{\"colorbar\":{\"outlinewidth\":0,\"ticks\":\"\"},\"type\":\"choropleth\"}],\"contourcarpet\":[{\"colorbar\":{\"outlinewidth\":0,\"ticks\":\"\"},\"type\":\"contourcarpet\"}],\"contour\":[{\"colorbar\":{\"outlinewidth\":0,\"ticks\":\"\"},\"colorscale\":[[0.0,\"#0d0887\"],[0.1111111111111111,\"#46039f\"],[0.2222222222222222,\"#7201a8\"],[0.3333333333333333,\"#9c179e\"],[0.4444444444444444,\"#bd3786\"],[0.5555555555555556,\"#d8576b\"],[0.6666666666666666,\"#ed7953\"],[0.7777777777777778,\"#fb9f3a\"],[0.8888888888888888,\"#fdca26\"],[1.0,\"#f0f921\"]],\"type\":\"contour\"}],\"heatmapgl\":[{\"colorbar\":{\"outlinewidth\":0,\"ticks\":\"\"},\"colorscale\":[[0.0,\"#0d0887\"],[0.1111111111111111,\"#46039f\"],[0.2222222222222222,\"#7201a8\"],[0.3333333333333333,\"#9c179e\"],[0.4444444444444444,\"#bd3786\"],[0.5555555555555556,\"#d8576b\"],[0.6666666666666666,\"#ed7953\"],[0.7777777777777778,\"#fb9f3a\"],[0.8888888888888888,\"#fdca26\"],[1.0,\"#f0f921\"]],\"type\":\"heatmapgl\"}],\"heatmap\":[{\"colorbar\":{\"outlinewidth\":0,\"ticks\":\"\"},\"colorscale\":[[0.0,\"#0d0887\"],[0.1111111111111111,\"#46039f\"],[0.2222222222222222,\"#7201a8\"],[0.3333333333333333,\"#9c179e\"],[0.4444444444444444,\"#bd3786\"],[0.5555555555555556,\"#d8576b\"],[0.6666666666666666,\"#ed7953\"],[0.7777777777777778,\"#fb9f3a\"],[0.8888888888888888,\"#fdca26\"],[1.0,\"#f0f921\"]],\"type\":\"heatmap\"}],\"histogram2dcontour\":[{\"colorbar\":{\"outlinewidth\":0,\"ticks\":\"\"},\"colorscale\":[[0.0,\"#0d0887\"],[0.1111111111111111,\"#46039f\"],[0.2222222222222222,\"#7201a8\"],[0.3333333333333333,\"#9c179e\"],[0.4444444444444444,\"#bd3786\"],[0.5555555555555556,\"#d8576b\"],[0.6666666666666666,\"#ed7953\"],[0.7777777777777778,\"#fb9f3a\"],[0.8888888888888888,\"#fdca26\"],[1.0,\"#f0f921\"]],\"type\":\"histogram2dcontour\"}],\"histogram2d\":[{\"colorbar\":{\"outlinewidth\":0,\"ticks\":\"\"},\"colorscale\":[[0.0,\"#0d0887\"],[0.1111111111111111,\"#46039f\"],[0.2222222222222222,\"#7201a8\"],[0.3333333333333333,\"#9c179e\"],[0.4444444444444444,\"#bd3786\"],[0.5555555555555556,\"#d8576b\"],[0.6666666666666666,\"#ed7953\"],[0.7777777777777778,\"#fb9f3a\"],[0.8888888888888888,\"#fdca26\"],[1.0,\"#f0f921\"]],\"type\":\"histogram2d\"}],\"histogram\":[{\"marker\":{\"pattern\":{\"fillmode\":\"overlay\",\"size\":10,\"solidity\":0.2}},\"type\":\"histogram\"}],\"mesh3d\":[{\"colorbar\":{\"outlinewidth\":0,\"ticks\":\"\"},\"type\":\"mesh3d\"}],\"parcoords\":[{\"line\":{\"colorbar\":{\"outlinewidth\":0,\"ticks\":\"\"}},\"type\":\"parcoords\"}],\"pie\":[{\"automargin\":true,\"type\":\"pie\"}],\"scatter3d\":[{\"line\":{\"colorbar\":{\"outlinewidth\":0,\"ticks\":\"\"}},\"marker\":{\"colorbar\":{\"outlinewidth\":0,\"ticks\":\"\"}},\"type\":\"scatter3d\"}],\"scattercarpet\":[{\"marker\":{\"colorbar\":{\"outlinewidth\":0,\"ticks\":\"\"}},\"type\":\"scattercarpet\"}],\"scattergeo\":[{\"marker\":{\"colorbar\":{\"outlinewidth\":0,\"ticks\":\"\"}},\"type\":\"scattergeo\"}],\"scattergl\":[{\"marker\":{\"colorbar\":{\"outlinewidth\":0,\"ticks\":\"\"}},\"type\":\"scattergl\"}],\"scattermapbox\":[{\"marker\":{\"colorbar\":{\"outlinewidth\":0,\"ticks\":\"\"}},\"type\":\"scattermapbox\"}],\"scatterpolargl\":[{\"marker\":{\"colorbar\":{\"outlinewidth\":0,\"ticks\":\"\"}},\"type\":\"scatterpolargl\"}],\"scatterpolar\":[{\"marker\":{\"colorbar\":{\"outlinewidth\":0,\"ticks\":\"\"}},\"type\":\"scatterpolar\"}],\"scatter\":[{\"marker\":{\"colorbar\":{\"outlinewidth\":0,\"ticks\":\"\"}},\"type\":\"scatter\"}],\"scatterternary\":[{\"marker\":{\"colorbar\":{\"outlinewidth\":0,\"ticks\":\"\"}},\"type\":\"scatterternary\"}],\"surface\":[{\"colorbar\":{\"outlinewidth\":0,\"ticks\":\"\"},\"colorscale\":[[0.0,\"#0d0887\"],[0.1111111111111111,\"#46039f\"],[0.2222222222222222,\"#7201a8\"],[0.3333333333333333,\"#9c179e\"],[0.4444444444444444,\"#bd3786\"],[0.5555555555555556,\"#d8576b\"],[0.6666666666666666,\"#ed7953\"],[0.7777777777777778,\"#fb9f3a\"],[0.8888888888888888,\"#fdca26\"],[1.0,\"#f0f921\"]],\"type\":\"surface\"}],\"table\":[{\"cells\":{\"fill\":{\"color\":\"#EBF0F8\"},\"line\":{\"color\":\"white\"}},\"header\":{\"fill\":{\"color\":\"#C8D4E3\"},\"line\":{\"color\":\"white\"}},\"type\":\"table\"}]},\"layout\":{\"annotationdefaults\":{\"arrowcolor\":\"#2a3f5f\",\"arrowhead\":0,\"arrowwidth\":1},\"autotypenumbers\":\"strict\",\"coloraxis\":{\"colorbar\":{\"outlinewidth\":0,\"ticks\":\"\"}},\"colorscale\":{\"diverging\":[[0,\"#8e0152\"],[0.1,\"#c51b7d\"],[0.2,\"#de77ae\"],[0.3,\"#f1b6da\"],[0.4,\"#fde0ef\"],[0.5,\"#f7f7f7\"],[0.6,\"#e6f5d0\"],[0.7,\"#b8e186\"],[0.8,\"#7fbc41\"],[0.9,\"#4d9221\"],[1,\"#276419\"]],\"sequential\":[[0.0,\"#0d0887\"],[0.1111111111111111,\"#46039f\"],[0.2222222222222222,\"#7201a8\"],[0.3333333333333333,\"#9c179e\"],[0.4444444444444444,\"#bd3786\"],[0.5555555555555556,\"#d8576b\"],[0.6666666666666666,\"#ed7953\"],[0.7777777777777778,\"#fb9f3a\"],[0.8888888888888888,\"#fdca26\"],[1.0,\"#f0f921\"]],\"sequentialminus\":[[0.0,\"#0d0887\"],[0.1111111111111111,\"#46039f\"],[0.2222222222222222,\"#7201a8\"],[0.3333333333333333,\"#9c179e\"],[0.4444444444444444,\"#bd3786\"],[0.5555555555555556,\"#d8576b\"],[0.6666666666666666,\"#ed7953\"],[0.7777777777777778,\"#fb9f3a\"],[0.8888888888888888,\"#fdca26\"],[1.0,\"#f0f921\"]]},\"colorway\":[\"#636efa\",\"#EF553B\",\"#00cc96\",\"#ab63fa\",\"#FFA15A\",\"#19d3f3\",\"#FF6692\",\"#B6E880\",\"#FF97FF\",\"#FECB52\"],\"font\":{\"color\":\"#2a3f5f\"},\"geo\":{\"bgcolor\":\"white\",\"lakecolor\":\"white\",\"landcolor\":\"#E5ECF6\",\"showlakes\":true,\"showland\":true,\"subunitcolor\":\"white\"},\"hoverlabel\":{\"align\":\"left\"},\"hovermode\":\"closest\",\"mapbox\":{\"style\":\"light\"},\"paper_bgcolor\":\"white\",\"plot_bgcolor\":\"#E5ECF6\",\"polar\":{\"angularaxis\":{\"gridcolor\":\"white\",\"linecolor\":\"white\",\"ticks\":\"\"},\"bgcolor\":\"#E5ECF6\",\"radialaxis\":{\"gridcolor\":\"white\",\"linecolor\":\"white\",\"ticks\":\"\"}},\"scene\":{\"xaxis\":{\"backgroundcolor\":\"#E5ECF6\",\"gridcolor\":\"white\",\"gridwidth\":2,\"linecolor\":\"white\",\"showbackground\":true,\"ticks\":\"\",\"zerolinecolor\":\"white\"},\"yaxis\":{\"backgroundcolor\":\"#E5ECF6\",\"gridcolor\":\"white\",\"gridwidth\":2,\"linecolor\":\"white\",\"showbackground\":true,\"ticks\":\"\",\"zerolinecolor\":\"white\"},\"zaxis\":{\"backgroundcolor\":\"#E5ECF6\",\"gridcolor\":\"white\",\"gridwidth\":2,\"linecolor\":\"white\",\"showbackground\":true,\"ticks\":\"\",\"zerolinecolor\":\"white\"}},\"shapedefaults\":{\"line\":{\"color\":\"#2a3f5f\"}},\"ternary\":{\"aaxis\":{\"gridcolor\":\"white\",\"linecolor\":\"white\",\"ticks\":\"\"},\"baxis\":{\"gridcolor\":\"white\",\"linecolor\":\"white\",\"ticks\":\"\"},\"bgcolor\":\"#E5ECF6\",\"caxis\":{\"gridcolor\":\"white\",\"linecolor\":\"white\",\"ticks\":\"\"}},\"title\":{\"x\":0.05},\"xaxis\":{\"automargin\":true,\"gridcolor\":\"white\",\"linecolor\":\"white\",\"ticks\":\"\",\"title\":{\"standoff\":15},\"zerolinecolor\":\"white\",\"zerolinewidth\":2},\"yaxis\":{\"automargin\":true,\"gridcolor\":\"white\",\"linecolor\":\"white\",\"ticks\":\"\",\"title\":{\"standoff\":15},\"zerolinecolor\":\"white\",\"zerolinewidth\":2}}},\"title\":{\"text\":\"Spiled\"},\"xaxis\":{\"gridcolor\":\"rgb(0, 0, 0)\",\"showticklabels\":false,\"side\":\"top\",\"ticks\":\"\"},\"yaxis\":{\"showticklabels\":false,\"ticks\":\"\",\"ticksuffix\":\"  \"}},                        {\"responsive\": true}                    ).then(function(){\n",
       "                            \n",
       "var gd = document.getElementById('5ddb83a5-fb8d-4241-a9a9-5f6da6245df4');\n",
       "var x = new MutationObserver(function (mutations, observer) {{\n",
       "        var display = window.getComputedStyle(gd).display;\n",
       "        if (!display || display === 'none') {{\n",
       "            console.log([gd, 'removed!']);\n",
       "            Plotly.purge(gd);\n",
       "            observer.disconnect();\n",
       "        }}\n",
       "}});\n",
       "\n",
       "// Listen for the removal of the full notebook cells\n",
       "var notebookContainer = gd.closest('#notebook-container');\n",
       "if (notebookContainer) {{\n",
       "    x.observe(notebookContainer, {childList: true});\n",
       "}}\n",
       "\n",
       "// Listen for the clearing of the current output cell\n",
       "var outputEl = gd.closest('.output');\n",
       "if (outputEl) {{\n",
       "    x.observe(outputEl, {childList: true});\n",
       "}}\n",
       "\n",
       "                        })                };                });            </script>        </div>"
      ]
     },
     "metadata": {},
     "output_type": "display_data"
    },
    {
     "ename": "IndexError",
     "evalue": "index 2 is out of bounds for axis 0 with size 2",
     "output_type": "error",
     "traceback": [
      "\u001b[0;31m---------------------------------------------------------------------------\u001b[0m",
      "\u001b[0;31mIndexError\u001b[0m                                Traceback (most recent call last)",
      "Input \u001b[0;32mIn [12]\u001b[0m, in \u001b[0;36m<cell line: 1>\u001b[0;34m()\u001b[0m\n\u001b[0;32m----> 1\u001b[0m \u001b[43mGEMA\u001b[49m\u001b[38;5;241;43m.\u001b[39;49m\u001b[43mVisualization\u001b[49m\u001b[38;5;241;43m.\u001b[39;49m\u001b[43mcodebook_vectors\u001b[49m\u001b[43m(\u001b[49m\u001b[43mmain_map\u001b[49m\u001b[43m,\u001b[49m\u001b[43m \u001b[49m\u001b[43mnp\u001b[49m\u001b[38;5;241;43m.\u001b[39;49m\u001b[43marray\u001b[49m\u001b[43m(\u001b[49m\u001b[43m[\u001b[49m\u001b[38;5;124;43m\"\u001b[39;49m\u001b[38;5;124;43mNot Spiled\u001b[39;49m\u001b[38;5;124;43m\"\u001b[39;49m\u001b[43m,\u001b[49m\u001b[43m \u001b[49m\u001b[38;5;124;43m\"\u001b[39;49m\u001b[38;5;124;43mSpiled\u001b[39;49m\u001b[38;5;124;43m\"\u001b[39;49m\u001b[43m]\u001b[49m\u001b[43m)\u001b[49m\u001b[43m)\u001b[49m\n",
      "File \u001b[0;32m~/anaconda3/lib/python3.9/site-packages/GEMA/visualization.py:129\u001b[0m, in \u001b[0;36mVisualization.codebook_vectors\u001b[0;34m(map, headers)\u001b[0m\n\u001b[1;32m    127\u001b[0m     headers \u001b[38;5;241m=\u001b[39m np\u001b[38;5;241m.\u001b[39marange(\u001b[38;5;28mmap\u001b[39m\u001b[38;5;241m.\u001b[39minput_data_dimension)\n\u001b[1;32m    128\u001b[0m \u001b[38;5;28;01mfor\u001b[39;00m i \u001b[38;5;129;01min\u001b[39;00m \u001b[38;5;28mrange\u001b[39m(\u001b[38;5;241m0\u001b[39m, \u001b[38;5;28mmap\u001b[39m\u001b[38;5;241m.\u001b[39minput_data_dimension):\n\u001b[0;32m--> 129\u001b[0m     Visualization\u001b[38;5;241m.\u001b[39mcodebook_vector(\u001b[38;5;28mmap\u001b[39m, i, \u001b[38;5;28mstr\u001b[39m(\u001b[43mheaders\u001b[49m\u001b[43m[\u001b[49m\u001b[43mi\u001b[49m\u001b[43m]\u001b[49m))\n",
      "\u001b[0;31mIndexError\u001b[0m: index 2 is out of bounds for axis 0 with size 2"
     ]
    }
   ],
   "source": [
    "GEMA.Visualization.codebook_vectors(main_map, np.array([\"Not Spiled\", \"Spiled\"]))"
   ]
  },
  {
   "cell_type": "markdown",
   "id": "c227e3cf",
   "metadata": {},
   "source": [
    "## set de datos mediante técnicas de balanceo"
   ]
  },
  {
   "cell_type": "code",
   "execution_count": 13,
   "id": "d64f7dc4",
   "metadata": {
    "scrolled": true
   },
   "outputs": [
    {
     "name": "stdout",
     "output_type": "stream",
     "text": [
      "Columnas dropeadas:  []\n",
      "Numero de columnas dropeadas:  0\n",
      "Numero de columnas tras aplicar el porcentaje:  50\n",
      "1.0    896\n",
      "0.0    896\n",
      "Name: 49, dtype: int64\n",
      "Columnas dropeadas:  []\n",
      "Numero de columnas dropeadas:  0\n",
      "Numero de columnas tras aplicar el porcentaje:  50\n",
      "1.0    896\n",
      "0.0    833\n",
      "Name: 49, dtype: int64\n"
     ]
    }
   ],
   "source": [
    "## Smote + Tomed_links\n",
    "data_dropped = wf.drop_missing_values_columns(data, 5)\n",
    "datos_mode = wf.mode_imputation(data_dropped, 49)\n",
    "data_std = wf.min_max_normalization(datos_mode)\n",
    "\n",
    "Smote_tomed=wf.smote_tomed_link(data_std,49)\n",
    "print(Smote_tomed[49].value_counts())\n",
    "# Smote_tomed= Smote_tomed.reset_index(drop=True, inplace=True)\n",
    "# data_std= data_std.reset_index(drop=True, inplace=True)\n",
    "# diferentes=Smote_tomed[(Smote_tomed == data_std).all(axis=1) == False]\n",
    "# print(diferentes)\n",
    "data_balanced_dropped_smote_tomed = Smote_tomed.drop(columns = [49])\n",
    "data_balanced_dropped_smote_tomed=data_balanced_dropped_smote_tomed.to_numpy()\n",
    "\n",
    "## smote_edited_nearest_neighbor\n",
    "data_dropped = wf.drop_missing_values_columns(data, 5)\n",
    "datos_mode = wf.mode_imputation(data_dropped, 49)\n",
    "data_std = wf.min_max_normalization(datos_mode)\n",
    "\n",
    "Smote_edited=wf.smote_edited_nearest_neighbor(data_std,49)\n",
    "print(Smote_edited[49].value_counts())\n",
    "data_balanced_dropped_smote_edited = Smote_edited.drop(columns = [49])\n",
    "data_balanced_dropped_smote_edited=data_balanced_dropped_smote_edited.to_numpy()"
   ]
  },
  {
   "cell_type": "markdown",
   "id": "dbe2b51e",
   "metadata": {},
   "source": [
    "## Clasificación "
   ]
  },
  {
   "cell_type": "code",
   "execution_count": 14,
   "id": "77f89e86",
   "metadata": {},
   "outputs": [
    {
     "data": {
      "application/vnd.jupyter.widget-view+json": {
       "model_id": "1612eacc93e94495bbdfaa27c54ca19c",
       "version_major": 2,
       "version_minor": 0
      },
      "text/plain": [
       "  0%|          | 0/1792 [00:00<?, ?it/s]"
      ]
     },
     "metadata": {},
     "output_type": "display_data"
    },
    {
     "name": "stdout",
     "output_type": "stream",
     "text": [
      "Smote+tommed quantification: 0.556383052455357\n",
      "Smote+tommed topological: 0.171875\n"
     ]
    },
    {
     "data": {
      "application/vnd.jupyter.widget-view+json": {
       "model_id": "10187110de8c43038e4ef5bb45a10269",
       "version_major": 2,
       "version_minor": 0
      },
      "text/plain": [
       "  0%|          | 0/1729 [00:00<?, ?it/s]"
      ]
     },
     "metadata": {},
     "output_type": "display_data"
    },
    {
     "name": "stdout",
     "output_type": "stream",
     "text": [
      "Smote+edited quantification: 0.5577909543088491\n",
      "Smote+edited topological: 0.18854829381145172\n"
     ]
    }
   ],
   "source": [
    "main_classification_smoted_tomed = GEMA.Classification(main_map, data_balanced_dropped_smote_tomed)\n",
    "print(\"Smote+tommed quantification:\",main_classification_smoted_tomed.quantization_error)\n",
    "print(\"Smote+tommed topological:\",main_classification_smoted_tomed.topological_error)\n",
    "\n",
    "main_classification_smoted_edited= GEMA.Classification(main_map, data_balanced_dropped_smote_edited)\n",
    "print(\"Smote+edited quantification:\",main_classification_smoted_edited.quantization_error)\n",
    "print(\"Smote+edited topological:\",main_classification_smoted_edited.topological_error)"
   ]
  },
  {
   "cell_type": "markdown",
   "id": "942fb275",
   "metadata": {},
   "source": [
    "## importar dataset Cancer de mama"
   ]
  },
  {
   "cell_type": "code",
   "execution_count": 15,
   "id": "a124b4b0",
   "metadata": {},
   "outputs": [],
   "source": [
    "## Importar dataset\n",
    "url = 'https://raw.githubusercontent.com/jbrownlee/Datasets/master/haberman.csv'\n",
    "missing_values = [' ', 'NaN', 'na', 'Na', '-', '--', 'n/a', '?']\n",
    "columns = ['class']\n",
    "data = pd.read_csv(url, na_values = missing_values, header=None)"
   ]
  },
  {
   "cell_type": "code",
   "execution_count": 16,
   "id": "52f164e0",
   "metadata": {},
   "outputs": [
    {
     "data": {
      "text/html": [
       "<div>\n",
       "<style scoped>\n",
       "    .dataframe tbody tr th:only-of-type {\n",
       "        vertical-align: middle;\n",
       "    }\n",
       "\n",
       "    .dataframe tbody tr th {\n",
       "        vertical-align: top;\n",
       "    }\n",
       "\n",
       "    .dataframe thead th {\n",
       "        text-align: right;\n",
       "    }\n",
       "</style>\n",
       "<table border=\"1\" class=\"dataframe\">\n",
       "  <thead>\n",
       "    <tr style=\"text-align: right;\">\n",
       "      <th></th>\n",
       "      <th>0</th>\n",
       "      <th>1</th>\n",
       "      <th>2</th>\n",
       "      <th>3</th>\n",
       "    </tr>\n",
       "  </thead>\n",
       "  <tbody>\n",
       "    <tr>\n",
       "      <th>0</th>\n",
       "      <td>30</td>\n",
       "      <td>64</td>\n",
       "      <td>1</td>\n",
       "      <td>1</td>\n",
       "    </tr>\n",
       "    <tr>\n",
       "      <th>1</th>\n",
       "      <td>30</td>\n",
       "      <td>62</td>\n",
       "      <td>3</td>\n",
       "      <td>1</td>\n",
       "    </tr>\n",
       "    <tr>\n",
       "      <th>2</th>\n",
       "      <td>30</td>\n",
       "      <td>65</td>\n",
       "      <td>0</td>\n",
       "      <td>1</td>\n",
       "    </tr>\n",
       "    <tr>\n",
       "      <th>3</th>\n",
       "      <td>31</td>\n",
       "      <td>59</td>\n",
       "      <td>2</td>\n",
       "      <td>1</td>\n",
       "    </tr>\n",
       "    <tr>\n",
       "      <th>4</th>\n",
       "      <td>31</td>\n",
       "      <td>65</td>\n",
       "      <td>4</td>\n",
       "      <td>1</td>\n",
       "    </tr>\n",
       "    <tr>\n",
       "      <th>...</th>\n",
       "      <td>...</td>\n",
       "      <td>...</td>\n",
       "      <td>...</td>\n",
       "      <td>...</td>\n",
       "    </tr>\n",
       "    <tr>\n",
       "      <th>301</th>\n",
       "      <td>75</td>\n",
       "      <td>62</td>\n",
       "      <td>1</td>\n",
       "      <td>1</td>\n",
       "    </tr>\n",
       "    <tr>\n",
       "      <th>302</th>\n",
       "      <td>76</td>\n",
       "      <td>67</td>\n",
       "      <td>0</td>\n",
       "      <td>1</td>\n",
       "    </tr>\n",
       "    <tr>\n",
       "      <th>303</th>\n",
       "      <td>77</td>\n",
       "      <td>65</td>\n",
       "      <td>3</td>\n",
       "      <td>1</td>\n",
       "    </tr>\n",
       "    <tr>\n",
       "      <th>304</th>\n",
       "      <td>78</td>\n",
       "      <td>65</td>\n",
       "      <td>1</td>\n",
       "      <td>2</td>\n",
       "    </tr>\n",
       "    <tr>\n",
       "      <th>305</th>\n",
       "      <td>83</td>\n",
       "      <td>58</td>\n",
       "      <td>2</td>\n",
       "      <td>2</td>\n",
       "    </tr>\n",
       "  </tbody>\n",
       "</table>\n",
       "<p>306 rows × 4 columns</p>\n",
       "</div>"
      ],
      "text/plain": [
       "      0   1  2  3\n",
       "0    30  64  1  1\n",
       "1    30  62  3  1\n",
       "2    30  65  0  1\n",
       "3    31  59  2  1\n",
       "4    31  65  4  1\n",
       "..   ..  .. .. ..\n",
       "301  75  62  1  1\n",
       "302  76  67  0  1\n",
       "303  77  65  3  1\n",
       "304  78  65  1  2\n",
       "305  83  58  2  2\n",
       "\n",
       "[306 rows x 4 columns]"
      ]
     },
     "execution_count": 16,
     "metadata": {},
     "output_type": "execute_result"
    }
   ],
   "source": [
    "data"
   ]
  },
  {
   "cell_type": "code",
   "execution_count": 17,
   "id": "7da19106",
   "metadata": {},
   "outputs": [
    {
     "name": "stdout",
     "output_type": "stream",
     "text": [
      "Columnas dropeadas:  []\n",
      "Numero de columnas dropeadas:  0\n",
      "Numero de columnas tras aplicar el porcentaje:  4\n"
     ]
    },
    {
     "data": {
      "text/plain": [
       "1    225\n",
       "2     81\n",
       "Name: 3, dtype: int64"
      ]
     },
     "execution_count": 17,
     "metadata": {},
     "output_type": "execute_result"
    }
   ],
   "source": [
    "data_dropped = wf.drop_missing_values_columns(data, 5)\n",
    "datos_mode = wf.mode_imputation(data_dropped, 3)\n",
    "datos_mode[3].value_counts()"
   ]
  },
  {
   "cell_type": "code",
   "execution_count": 18,
   "id": "e85db5a0",
   "metadata": {},
   "outputs": [],
   "source": [
    "datos_mode=datos_mode.drop(columns = [3])\n",
    "data_std = wf.min_max_normalization(datos_mode)\n",
    "target = data[3].values\n",
    "label_names={1:'no c', 1:'c'}\n",
    "data_som=data_std.to_numpy()"
   ]
  },
  {
   "cell_type": "code",
   "execution_count": 19,
   "id": "662408bd",
   "metadata": {},
   "outputs": [
    {
     "name": "stdout",
     "output_type": "stream",
     "text": [
      "TRAINING...\n"
     ]
    },
    {
     "data": {
      "application/vnd.jupyter.widget-view+json": {
       "model_id": "0869a86b7aa14323a928d0408969f2c5",
       "version_major": 2,
       "version_minor": 0
      },
      "text/plain": [
       "  0%|          | 0/5000 [00:00<?, ?it/s]"
      ]
     },
     "metadata": {},
     "output_type": "display_data"
    },
    {
     "name": "stdout",
     "output_type": "stream",
     "text": [
      "FINISHED.\n"
     ]
    },
    {
     "data": {
      "application/vnd.jupyter.widget-view+json": {
       "model_id": "20faf8624eba44ffa03611de0a8c259d",
       "version_major": 2,
       "version_minor": 0
      },
      "text/plain": [
       "  0%|          | 0/306 [00:00<?, ?it/s]"
      ]
     },
     "metadata": {},
     "output_type": "display_data"
    },
    {
     "name": "stdout",
     "output_type": "stream",
     "text": [
      "quantification error: 0.07804140522875817\n",
      "Topological_error: 0.12745098039215685\n"
     ]
    }
   ],
   "source": [
    "main_map = GEMA.Map(data_som, \n",
    "                    12, \n",
    "                    5000, \n",
    "                    initial_lr=0.3, \n",
    "                    initial_neighbourhood = 0,\n",
    "                    distance = 'euclidean',\n",
    "                    use_decay= False,\n",
    "                    presentation= 'random',\n",
    "                    weights = 'random')\n",
    "\n",
    "main_classification = GEMA.Classification(main_map, data_som)\n",
    "print(\"quantification error:\",main_classification.quantization_error)\n",
    "print(\"Topological_error:\",main_classification.topological_error)"
   ]
  },
  {
   "cell_type": "markdown",
   "id": "11a8483a",
   "metadata": {},
   "source": [
    "## importar dataset de creditos bancarios\n"
   ]
  },
  {
   "cell_type": "code",
   "execution_count": 20,
   "id": "ef2eb6de",
   "metadata": {},
   "outputs": [],
   "source": [
    "## Importar dataset\n",
    "url = 'https://raw.githubusercontent.com/jbrownlee/Datasets/master/german.csv'\n",
    "missing_values = [' ', 'NaN', 'na', 'Na', '-', '--', 'n/a', '?']\n",
    "columns = ['class']\n",
    "data = pd.read_csv(url, na_values = missing_values, header=None)"
   ]
  },
  {
   "cell_type": "code",
   "execution_count": 21,
   "id": "e6bf4a07",
   "metadata": {},
   "outputs": [
    {
     "data": {
      "text/html": [
       "<div>\n",
       "<style scoped>\n",
       "    .dataframe tbody tr th:only-of-type {\n",
       "        vertical-align: middle;\n",
       "    }\n",
       "\n",
       "    .dataframe tbody tr th {\n",
       "        vertical-align: top;\n",
       "    }\n",
       "\n",
       "    .dataframe thead th {\n",
       "        text-align: right;\n",
       "    }\n",
       "</style>\n",
       "<table border=\"1\" class=\"dataframe\">\n",
       "  <thead>\n",
       "    <tr style=\"text-align: right;\">\n",
       "      <th></th>\n",
       "      <th>0</th>\n",
       "      <th>1</th>\n",
       "      <th>2</th>\n",
       "      <th>3</th>\n",
       "      <th>4</th>\n",
       "      <th>5</th>\n",
       "      <th>6</th>\n",
       "      <th>7</th>\n",
       "      <th>8</th>\n",
       "      <th>9</th>\n",
       "      <th>...</th>\n",
       "      <th>11</th>\n",
       "      <th>12</th>\n",
       "      <th>13</th>\n",
       "      <th>14</th>\n",
       "      <th>15</th>\n",
       "      <th>16</th>\n",
       "      <th>17</th>\n",
       "      <th>18</th>\n",
       "      <th>19</th>\n",
       "      <th>20</th>\n",
       "    </tr>\n",
       "  </thead>\n",
       "  <tbody>\n",
       "    <tr>\n",
       "      <th>0</th>\n",
       "      <td>A11</td>\n",
       "      <td>6</td>\n",
       "      <td>A34</td>\n",
       "      <td>A43</td>\n",
       "      <td>1169</td>\n",
       "      <td>A65</td>\n",
       "      <td>A75</td>\n",
       "      <td>4</td>\n",
       "      <td>A93</td>\n",
       "      <td>A101</td>\n",
       "      <td>...</td>\n",
       "      <td>A121</td>\n",
       "      <td>67</td>\n",
       "      <td>A143</td>\n",
       "      <td>A152</td>\n",
       "      <td>2</td>\n",
       "      <td>A173</td>\n",
       "      <td>1</td>\n",
       "      <td>A192</td>\n",
       "      <td>A201</td>\n",
       "      <td>1</td>\n",
       "    </tr>\n",
       "    <tr>\n",
       "      <th>1</th>\n",
       "      <td>A12</td>\n",
       "      <td>48</td>\n",
       "      <td>A32</td>\n",
       "      <td>A43</td>\n",
       "      <td>5951</td>\n",
       "      <td>A61</td>\n",
       "      <td>A73</td>\n",
       "      <td>2</td>\n",
       "      <td>A92</td>\n",
       "      <td>A101</td>\n",
       "      <td>...</td>\n",
       "      <td>A121</td>\n",
       "      <td>22</td>\n",
       "      <td>A143</td>\n",
       "      <td>A152</td>\n",
       "      <td>1</td>\n",
       "      <td>A173</td>\n",
       "      <td>1</td>\n",
       "      <td>A191</td>\n",
       "      <td>A201</td>\n",
       "      <td>2</td>\n",
       "    </tr>\n",
       "    <tr>\n",
       "      <th>2</th>\n",
       "      <td>A14</td>\n",
       "      <td>12</td>\n",
       "      <td>A34</td>\n",
       "      <td>A46</td>\n",
       "      <td>2096</td>\n",
       "      <td>A61</td>\n",
       "      <td>A74</td>\n",
       "      <td>2</td>\n",
       "      <td>A93</td>\n",
       "      <td>A101</td>\n",
       "      <td>...</td>\n",
       "      <td>A121</td>\n",
       "      <td>49</td>\n",
       "      <td>A143</td>\n",
       "      <td>A152</td>\n",
       "      <td>1</td>\n",
       "      <td>A172</td>\n",
       "      <td>2</td>\n",
       "      <td>A191</td>\n",
       "      <td>A201</td>\n",
       "      <td>1</td>\n",
       "    </tr>\n",
       "    <tr>\n",
       "      <th>3</th>\n",
       "      <td>A11</td>\n",
       "      <td>42</td>\n",
       "      <td>A32</td>\n",
       "      <td>A42</td>\n",
       "      <td>7882</td>\n",
       "      <td>A61</td>\n",
       "      <td>A74</td>\n",
       "      <td>2</td>\n",
       "      <td>A93</td>\n",
       "      <td>A103</td>\n",
       "      <td>...</td>\n",
       "      <td>A122</td>\n",
       "      <td>45</td>\n",
       "      <td>A143</td>\n",
       "      <td>A153</td>\n",
       "      <td>1</td>\n",
       "      <td>A173</td>\n",
       "      <td>2</td>\n",
       "      <td>A191</td>\n",
       "      <td>A201</td>\n",
       "      <td>1</td>\n",
       "    </tr>\n",
       "    <tr>\n",
       "      <th>4</th>\n",
       "      <td>A11</td>\n",
       "      <td>24</td>\n",
       "      <td>A33</td>\n",
       "      <td>A40</td>\n",
       "      <td>4870</td>\n",
       "      <td>A61</td>\n",
       "      <td>A73</td>\n",
       "      <td>3</td>\n",
       "      <td>A93</td>\n",
       "      <td>A101</td>\n",
       "      <td>...</td>\n",
       "      <td>A124</td>\n",
       "      <td>53</td>\n",
       "      <td>A143</td>\n",
       "      <td>A153</td>\n",
       "      <td>2</td>\n",
       "      <td>A173</td>\n",
       "      <td>2</td>\n",
       "      <td>A191</td>\n",
       "      <td>A201</td>\n",
       "      <td>2</td>\n",
       "    </tr>\n",
       "    <tr>\n",
       "      <th>...</th>\n",
       "      <td>...</td>\n",
       "      <td>...</td>\n",
       "      <td>...</td>\n",
       "      <td>...</td>\n",
       "      <td>...</td>\n",
       "      <td>...</td>\n",
       "      <td>...</td>\n",
       "      <td>...</td>\n",
       "      <td>...</td>\n",
       "      <td>...</td>\n",
       "      <td>...</td>\n",
       "      <td>...</td>\n",
       "      <td>...</td>\n",
       "      <td>...</td>\n",
       "      <td>...</td>\n",
       "      <td>...</td>\n",
       "      <td>...</td>\n",
       "      <td>...</td>\n",
       "      <td>...</td>\n",
       "      <td>...</td>\n",
       "      <td>...</td>\n",
       "    </tr>\n",
       "    <tr>\n",
       "      <th>995</th>\n",
       "      <td>A14</td>\n",
       "      <td>12</td>\n",
       "      <td>A32</td>\n",
       "      <td>A42</td>\n",
       "      <td>1736</td>\n",
       "      <td>A61</td>\n",
       "      <td>A74</td>\n",
       "      <td>3</td>\n",
       "      <td>A92</td>\n",
       "      <td>A101</td>\n",
       "      <td>...</td>\n",
       "      <td>A121</td>\n",
       "      <td>31</td>\n",
       "      <td>A143</td>\n",
       "      <td>A152</td>\n",
       "      <td>1</td>\n",
       "      <td>A172</td>\n",
       "      <td>1</td>\n",
       "      <td>A191</td>\n",
       "      <td>A201</td>\n",
       "      <td>1</td>\n",
       "    </tr>\n",
       "    <tr>\n",
       "      <th>996</th>\n",
       "      <td>A11</td>\n",
       "      <td>30</td>\n",
       "      <td>A32</td>\n",
       "      <td>A41</td>\n",
       "      <td>3857</td>\n",
       "      <td>A61</td>\n",
       "      <td>A73</td>\n",
       "      <td>4</td>\n",
       "      <td>A91</td>\n",
       "      <td>A101</td>\n",
       "      <td>...</td>\n",
       "      <td>A122</td>\n",
       "      <td>40</td>\n",
       "      <td>A143</td>\n",
       "      <td>A152</td>\n",
       "      <td>1</td>\n",
       "      <td>A174</td>\n",
       "      <td>1</td>\n",
       "      <td>A192</td>\n",
       "      <td>A201</td>\n",
       "      <td>1</td>\n",
       "    </tr>\n",
       "    <tr>\n",
       "      <th>997</th>\n",
       "      <td>A14</td>\n",
       "      <td>12</td>\n",
       "      <td>A32</td>\n",
       "      <td>A43</td>\n",
       "      <td>804</td>\n",
       "      <td>A61</td>\n",
       "      <td>A75</td>\n",
       "      <td>4</td>\n",
       "      <td>A93</td>\n",
       "      <td>A101</td>\n",
       "      <td>...</td>\n",
       "      <td>A123</td>\n",
       "      <td>38</td>\n",
       "      <td>A143</td>\n",
       "      <td>A152</td>\n",
       "      <td>1</td>\n",
       "      <td>A173</td>\n",
       "      <td>1</td>\n",
       "      <td>A191</td>\n",
       "      <td>A201</td>\n",
       "      <td>1</td>\n",
       "    </tr>\n",
       "    <tr>\n",
       "      <th>998</th>\n",
       "      <td>A11</td>\n",
       "      <td>45</td>\n",
       "      <td>A32</td>\n",
       "      <td>A43</td>\n",
       "      <td>1845</td>\n",
       "      <td>A61</td>\n",
       "      <td>A73</td>\n",
       "      <td>4</td>\n",
       "      <td>A93</td>\n",
       "      <td>A101</td>\n",
       "      <td>...</td>\n",
       "      <td>A124</td>\n",
       "      <td>23</td>\n",
       "      <td>A143</td>\n",
       "      <td>A153</td>\n",
       "      <td>1</td>\n",
       "      <td>A173</td>\n",
       "      <td>1</td>\n",
       "      <td>A192</td>\n",
       "      <td>A201</td>\n",
       "      <td>2</td>\n",
       "    </tr>\n",
       "    <tr>\n",
       "      <th>999</th>\n",
       "      <td>A12</td>\n",
       "      <td>45</td>\n",
       "      <td>A34</td>\n",
       "      <td>A41</td>\n",
       "      <td>4576</td>\n",
       "      <td>A62</td>\n",
       "      <td>A71</td>\n",
       "      <td>3</td>\n",
       "      <td>A93</td>\n",
       "      <td>A101</td>\n",
       "      <td>...</td>\n",
       "      <td>A123</td>\n",
       "      <td>27</td>\n",
       "      <td>A143</td>\n",
       "      <td>A152</td>\n",
       "      <td>1</td>\n",
       "      <td>A173</td>\n",
       "      <td>1</td>\n",
       "      <td>A191</td>\n",
       "      <td>A201</td>\n",
       "      <td>1</td>\n",
       "    </tr>\n",
       "  </tbody>\n",
       "</table>\n",
       "<p>1000 rows × 21 columns</p>\n",
       "</div>"
      ],
      "text/plain": [
       "      0   1    2    3     4    5    6   7    8     9   ...    11  12    13  \\\n",
       "0    A11   6  A34  A43  1169  A65  A75   4  A93  A101  ...  A121  67  A143   \n",
       "1    A12  48  A32  A43  5951  A61  A73   2  A92  A101  ...  A121  22  A143   \n",
       "2    A14  12  A34  A46  2096  A61  A74   2  A93  A101  ...  A121  49  A143   \n",
       "3    A11  42  A32  A42  7882  A61  A74   2  A93  A103  ...  A122  45  A143   \n",
       "4    A11  24  A33  A40  4870  A61  A73   3  A93  A101  ...  A124  53  A143   \n",
       "..   ...  ..  ...  ...   ...  ...  ...  ..  ...   ...  ...   ...  ..   ...   \n",
       "995  A14  12  A32  A42  1736  A61  A74   3  A92  A101  ...  A121  31  A143   \n",
       "996  A11  30  A32  A41  3857  A61  A73   4  A91  A101  ...  A122  40  A143   \n",
       "997  A14  12  A32  A43   804  A61  A75   4  A93  A101  ...  A123  38  A143   \n",
       "998  A11  45  A32  A43  1845  A61  A73   4  A93  A101  ...  A124  23  A143   \n",
       "999  A12  45  A34  A41  4576  A62  A71   3  A93  A101  ...  A123  27  A143   \n",
       "\n",
       "       14 15    16 17    18    19 20  \n",
       "0    A152  2  A173  1  A192  A201  1  \n",
       "1    A152  1  A173  1  A191  A201  2  \n",
       "2    A152  1  A172  2  A191  A201  1  \n",
       "3    A153  1  A173  2  A191  A201  1  \n",
       "4    A153  2  A173  2  A191  A201  2  \n",
       "..    ... ..   ... ..   ...   ... ..  \n",
       "995  A152  1  A172  1  A191  A201  1  \n",
       "996  A152  1  A174  1  A192  A201  1  \n",
       "997  A152  1  A173  1  A191  A201  1  \n",
       "998  A153  1  A173  1  A192  A201  2  \n",
       "999  A152  1  A173  1  A191  A201  1  \n",
       "\n",
       "[1000 rows x 21 columns]"
      ]
     },
     "execution_count": 21,
     "metadata": {},
     "output_type": "execute_result"
    }
   ],
   "source": [
    "data"
   ]
  },
  {
   "cell_type": "code",
   "execution_count": 22,
   "id": "3551ad2a",
   "metadata": {},
   "outputs": [
    {
     "name": "stdout",
     "output_type": "stream",
     "text": [
      "Columnas dropeadas:  []\n",
      "Numero de columnas dropeadas:  0\n",
      "Numero de columnas tras aplicar el porcentaje:  21\n"
     ]
    },
    {
     "ename": "TypeError",
     "evalue": "loop of ufunc does not support argument 0 of type str which has no callable rint method",
     "output_type": "error",
     "traceback": [
      "\u001b[0;31m---------------------------------------------------------------------------\u001b[0m",
      "\u001b[0;31mAttributeError\u001b[0m                            Traceback (most recent call last)",
      "\u001b[0;31mAttributeError\u001b[0m: 'str' object has no attribute 'rint'",
      "\nThe above exception was the direct cause of the following exception:\n",
      "\u001b[0;31mTypeError\u001b[0m                                 Traceback (most recent call last)",
      "Input \u001b[0;32mIn [22]\u001b[0m, in \u001b[0;36m<cell line: 2>\u001b[0;34m()\u001b[0m\n\u001b[1;32m      1\u001b[0m data_dropped \u001b[38;5;241m=\u001b[39m wf\u001b[38;5;241m.\u001b[39mdrop_missing_values_columns(data, \u001b[38;5;241m5\u001b[39m)\n\u001b[0;32m----> 2\u001b[0m datos_mode \u001b[38;5;241m=\u001b[39m \u001b[43mwf\u001b[49m\u001b[38;5;241;43m.\u001b[39;49m\u001b[43mmode_imputation\u001b[49m\u001b[43m(\u001b[49m\u001b[43mdata_dropped\u001b[49m\u001b[43m,\u001b[49m\u001b[43m \u001b[49m\u001b[38;5;241;43m3\u001b[39;49m\u001b[43m)\u001b[49m\n\u001b[1;32m      3\u001b[0m datos_mode[\u001b[38;5;241m5\u001b[39m]\u001b[38;5;241m.\u001b[39mvalue_counts()\n",
      "File \u001b[0;32m~/Repositorios Github/SOM_desbalanceado/src/workflow.py:241\u001b[0m, in \u001b[0;36mmode_imputation\u001b[0;34m(df, target)\u001b[0m\n\u001b[1;32m    237\u001b[0m imp_mean_data \u001b[38;5;241m=\u001b[39m imp_mean\u001b[38;5;241m.\u001b[39mtransform(df)\n\u001b[1;32m    239\u001b[0m data \u001b[38;5;241m=\u001b[39m pd\u001b[38;5;241m.\u001b[39mDataFrame(imp_mean_data, columns\u001b[38;5;241m=\u001b[39mdf_cols_mean)\n\u001b[0;32m--> 241\u001b[0m data[target] \u001b[38;5;241m=\u001b[39m \u001b[43mdata\u001b[49m\u001b[43m[\u001b[49m\u001b[43mtarget\u001b[49m\u001b[43m]\u001b[49m\u001b[38;5;241;43m.\u001b[39;49m\u001b[43mround\u001b[49m\u001b[43m(\u001b[49m\u001b[43m)\u001b[49m\n\u001b[1;32m    243\u001b[0m \u001b[38;5;28;01mreturn\u001b[39;00m data\n",
      "File \u001b[0;32m~/anaconda3/lib/python3.9/site-packages/pandas/core/series.py:2442\u001b[0m, in \u001b[0;36mSeries.round\u001b[0;34m(self, decimals, *args, **kwargs)\u001b[0m\n\u001b[1;32m   2410\u001b[0m \u001b[38;5;124;03m\"\"\"\u001b[39;00m\n\u001b[1;32m   2411\u001b[0m \u001b[38;5;124;03mRound each value in a Series to the given number of decimals.\u001b[39;00m\n\u001b[1;32m   2412\u001b[0m \n\u001b[0;32m   (...)\u001b[0m\n\u001b[1;32m   2439\u001b[0m \u001b[38;5;124;03mdtype: float64\u001b[39;00m\n\u001b[1;32m   2440\u001b[0m \u001b[38;5;124;03m\"\"\"\u001b[39;00m\n\u001b[1;32m   2441\u001b[0m nv\u001b[38;5;241m.\u001b[39mvalidate_round(args, kwargs)\n\u001b[0;32m-> 2442\u001b[0m result \u001b[38;5;241m=\u001b[39m \u001b[38;5;28;43mself\u001b[39;49m\u001b[38;5;241;43m.\u001b[39;49m\u001b[43m_values\u001b[49m\u001b[38;5;241;43m.\u001b[39;49m\u001b[43mround\u001b[49m\u001b[43m(\u001b[49m\u001b[43mdecimals\u001b[49m\u001b[43m)\u001b[49m\n\u001b[1;32m   2443\u001b[0m result \u001b[38;5;241m=\u001b[39m \u001b[38;5;28mself\u001b[39m\u001b[38;5;241m.\u001b[39m_constructor(result, index\u001b[38;5;241m=\u001b[39m\u001b[38;5;28mself\u001b[39m\u001b[38;5;241m.\u001b[39mindex)\u001b[38;5;241m.\u001b[39m__finalize__(\n\u001b[1;32m   2444\u001b[0m     \u001b[38;5;28mself\u001b[39m, method\u001b[38;5;241m=\u001b[39m\u001b[38;5;124m\"\u001b[39m\u001b[38;5;124mround\u001b[39m\u001b[38;5;124m\"\u001b[39m\n\u001b[1;32m   2445\u001b[0m )\n\u001b[1;32m   2447\u001b[0m \u001b[38;5;28;01mreturn\u001b[39;00m result\n",
      "\u001b[0;31mTypeError\u001b[0m: loop of ufunc does not support argument 0 of type str which has no callable rint method"
     ]
    }
   ],
   "source": [
    "data_dropped = wf.drop_missing_values_columns(data, 5)\n",
    "datos_mode = wf.mode_imputation(data_dropped, 3)\n",
    "datos_mode[5].value_counts()\n"
   ]
  },
  {
   "cell_type": "code",
   "execution_count": 23,
   "id": "39db06e8",
   "metadata": {},
   "outputs": [
    {
     "ename": "KeyError",
     "evalue": "'[5] not found in axis'",
     "output_type": "error",
     "traceback": [
      "\u001b[0;31m---------------------------------------------------------------------------\u001b[0m",
      "\u001b[0;31mKeyError\u001b[0m                                  Traceback (most recent call last)",
      "Input \u001b[0;32mIn [23]\u001b[0m, in \u001b[0;36m<cell line: 1>\u001b[0;34m()\u001b[0m\n\u001b[0;32m----> 1\u001b[0m datos_mode\u001b[38;5;241m=\u001b[39m\u001b[43mdatos_mode\u001b[49m\u001b[38;5;241;43m.\u001b[39;49m\u001b[43mdrop\u001b[49m\u001b[43m(\u001b[49m\u001b[43mcolumns\u001b[49m\u001b[43m \u001b[49m\u001b[38;5;241;43m=\u001b[39;49m\u001b[43m \u001b[49m\u001b[43m[\u001b[49m\u001b[38;5;241;43m5\u001b[39;49m\u001b[43m]\u001b[49m\u001b[43m)\u001b[49m\n\u001b[1;32m      2\u001b[0m data_std \u001b[38;5;241m=\u001b[39m wf\u001b[38;5;241m.\u001b[39mmin_max_normalization(datos_mode)\n\u001b[1;32m      3\u001b[0m target \u001b[38;5;241m=\u001b[39m data[\u001b[38;5;241m3\u001b[39m]\u001b[38;5;241m.\u001b[39mvalues\n",
      "File \u001b[0;32m~/anaconda3/lib/python3.9/site-packages/pandas/util/_decorators.py:311\u001b[0m, in \u001b[0;36mdeprecate_nonkeyword_arguments.<locals>.decorate.<locals>.wrapper\u001b[0;34m(*args, **kwargs)\u001b[0m\n\u001b[1;32m    305\u001b[0m \u001b[38;5;28;01mif\u001b[39;00m \u001b[38;5;28mlen\u001b[39m(args) \u001b[38;5;241m>\u001b[39m num_allow_args:\n\u001b[1;32m    306\u001b[0m     warnings\u001b[38;5;241m.\u001b[39mwarn(\n\u001b[1;32m    307\u001b[0m         msg\u001b[38;5;241m.\u001b[39mformat(arguments\u001b[38;5;241m=\u001b[39marguments),\n\u001b[1;32m    308\u001b[0m         \u001b[38;5;167;01mFutureWarning\u001b[39;00m,\n\u001b[1;32m    309\u001b[0m         stacklevel\u001b[38;5;241m=\u001b[39mstacklevel,\n\u001b[1;32m    310\u001b[0m     )\n\u001b[0;32m--> 311\u001b[0m \u001b[38;5;28;01mreturn\u001b[39;00m \u001b[43mfunc\u001b[49m\u001b[43m(\u001b[49m\u001b[38;5;241;43m*\u001b[39;49m\u001b[43margs\u001b[49m\u001b[43m,\u001b[49m\u001b[43m \u001b[49m\u001b[38;5;241;43m*\u001b[39;49m\u001b[38;5;241;43m*\u001b[39;49m\u001b[43mkwargs\u001b[49m\u001b[43m)\u001b[49m\n",
      "File \u001b[0;32m~/anaconda3/lib/python3.9/site-packages/pandas/core/frame.py:4954\u001b[0m, in \u001b[0;36mDataFrame.drop\u001b[0;34m(self, labels, axis, index, columns, level, inplace, errors)\u001b[0m\n\u001b[1;32m   4806\u001b[0m \u001b[38;5;129m@deprecate_nonkeyword_arguments\u001b[39m(version\u001b[38;5;241m=\u001b[39m\u001b[38;5;28;01mNone\u001b[39;00m, allowed_args\u001b[38;5;241m=\u001b[39m[\u001b[38;5;124m\"\u001b[39m\u001b[38;5;124mself\u001b[39m\u001b[38;5;124m\"\u001b[39m, \u001b[38;5;124m\"\u001b[39m\u001b[38;5;124mlabels\u001b[39m\u001b[38;5;124m\"\u001b[39m])\n\u001b[1;32m   4807\u001b[0m \u001b[38;5;28;01mdef\u001b[39;00m \u001b[38;5;21mdrop\u001b[39m(\n\u001b[1;32m   4808\u001b[0m     \u001b[38;5;28mself\u001b[39m,\n\u001b[0;32m   (...)\u001b[0m\n\u001b[1;32m   4815\u001b[0m     errors: \u001b[38;5;28mstr\u001b[39m \u001b[38;5;241m=\u001b[39m \u001b[38;5;124m\"\u001b[39m\u001b[38;5;124mraise\u001b[39m\u001b[38;5;124m\"\u001b[39m,\n\u001b[1;32m   4816\u001b[0m ):\n\u001b[1;32m   4817\u001b[0m     \u001b[38;5;124;03m\"\"\"\u001b[39;00m\n\u001b[1;32m   4818\u001b[0m \u001b[38;5;124;03m    Drop specified labels from rows or columns.\u001b[39;00m\n\u001b[1;32m   4819\u001b[0m \n\u001b[0;32m   (...)\u001b[0m\n\u001b[1;32m   4952\u001b[0m \u001b[38;5;124;03m            weight  1.0     0.8\u001b[39;00m\n\u001b[1;32m   4953\u001b[0m \u001b[38;5;124;03m    \"\"\"\u001b[39;00m\n\u001b[0;32m-> 4954\u001b[0m     \u001b[38;5;28;01mreturn\u001b[39;00m \u001b[38;5;28;43msuper\u001b[39;49m\u001b[43m(\u001b[49m\u001b[43m)\u001b[49m\u001b[38;5;241;43m.\u001b[39;49m\u001b[43mdrop\u001b[49m\u001b[43m(\u001b[49m\n\u001b[1;32m   4955\u001b[0m \u001b[43m        \u001b[49m\u001b[43mlabels\u001b[49m\u001b[38;5;241;43m=\u001b[39;49m\u001b[43mlabels\u001b[49m\u001b[43m,\u001b[49m\n\u001b[1;32m   4956\u001b[0m \u001b[43m        \u001b[49m\u001b[43maxis\u001b[49m\u001b[38;5;241;43m=\u001b[39;49m\u001b[43maxis\u001b[49m\u001b[43m,\u001b[49m\n\u001b[1;32m   4957\u001b[0m \u001b[43m        \u001b[49m\u001b[43mindex\u001b[49m\u001b[38;5;241;43m=\u001b[39;49m\u001b[43mindex\u001b[49m\u001b[43m,\u001b[49m\n\u001b[1;32m   4958\u001b[0m \u001b[43m        \u001b[49m\u001b[43mcolumns\u001b[49m\u001b[38;5;241;43m=\u001b[39;49m\u001b[43mcolumns\u001b[49m\u001b[43m,\u001b[49m\n\u001b[1;32m   4959\u001b[0m \u001b[43m        \u001b[49m\u001b[43mlevel\u001b[49m\u001b[38;5;241;43m=\u001b[39;49m\u001b[43mlevel\u001b[49m\u001b[43m,\u001b[49m\n\u001b[1;32m   4960\u001b[0m \u001b[43m        \u001b[49m\u001b[43minplace\u001b[49m\u001b[38;5;241;43m=\u001b[39;49m\u001b[43minplace\u001b[49m\u001b[43m,\u001b[49m\n\u001b[1;32m   4961\u001b[0m \u001b[43m        \u001b[49m\u001b[43merrors\u001b[49m\u001b[38;5;241;43m=\u001b[39;49m\u001b[43merrors\u001b[49m\u001b[43m,\u001b[49m\n\u001b[1;32m   4962\u001b[0m \u001b[43m    \u001b[49m\u001b[43m)\u001b[49m\n",
      "File \u001b[0;32m~/anaconda3/lib/python3.9/site-packages/pandas/core/generic.py:4267\u001b[0m, in \u001b[0;36mNDFrame.drop\u001b[0;34m(self, labels, axis, index, columns, level, inplace, errors)\u001b[0m\n\u001b[1;32m   4265\u001b[0m \u001b[38;5;28;01mfor\u001b[39;00m axis, labels \u001b[38;5;129;01min\u001b[39;00m axes\u001b[38;5;241m.\u001b[39mitems():\n\u001b[1;32m   4266\u001b[0m     \u001b[38;5;28;01mif\u001b[39;00m labels \u001b[38;5;129;01mis\u001b[39;00m \u001b[38;5;129;01mnot\u001b[39;00m \u001b[38;5;28;01mNone\u001b[39;00m:\n\u001b[0;32m-> 4267\u001b[0m         obj \u001b[38;5;241m=\u001b[39m \u001b[43mobj\u001b[49m\u001b[38;5;241;43m.\u001b[39;49m\u001b[43m_drop_axis\u001b[49m\u001b[43m(\u001b[49m\u001b[43mlabels\u001b[49m\u001b[43m,\u001b[49m\u001b[43m \u001b[49m\u001b[43maxis\u001b[49m\u001b[43m,\u001b[49m\u001b[43m \u001b[49m\u001b[43mlevel\u001b[49m\u001b[38;5;241;43m=\u001b[39;49m\u001b[43mlevel\u001b[49m\u001b[43m,\u001b[49m\u001b[43m \u001b[49m\u001b[43merrors\u001b[49m\u001b[38;5;241;43m=\u001b[39;49m\u001b[43merrors\u001b[49m\u001b[43m)\u001b[49m\n\u001b[1;32m   4269\u001b[0m \u001b[38;5;28;01mif\u001b[39;00m inplace:\n\u001b[1;32m   4270\u001b[0m     \u001b[38;5;28mself\u001b[39m\u001b[38;5;241m.\u001b[39m_update_inplace(obj)\n",
      "File \u001b[0;32m~/anaconda3/lib/python3.9/site-packages/pandas/core/generic.py:4311\u001b[0m, in \u001b[0;36mNDFrame._drop_axis\u001b[0;34m(self, labels, axis, level, errors, consolidate, only_slice)\u001b[0m\n\u001b[1;32m   4309\u001b[0m         new_axis \u001b[38;5;241m=\u001b[39m axis\u001b[38;5;241m.\u001b[39mdrop(labels, level\u001b[38;5;241m=\u001b[39mlevel, errors\u001b[38;5;241m=\u001b[39merrors)\n\u001b[1;32m   4310\u001b[0m     \u001b[38;5;28;01melse\u001b[39;00m:\n\u001b[0;32m-> 4311\u001b[0m         new_axis \u001b[38;5;241m=\u001b[39m \u001b[43maxis\u001b[49m\u001b[38;5;241;43m.\u001b[39;49m\u001b[43mdrop\u001b[49m\u001b[43m(\u001b[49m\u001b[43mlabels\u001b[49m\u001b[43m,\u001b[49m\u001b[43m \u001b[49m\u001b[43merrors\u001b[49m\u001b[38;5;241;43m=\u001b[39;49m\u001b[43merrors\u001b[49m\u001b[43m)\u001b[49m\n\u001b[1;32m   4312\u001b[0m     indexer \u001b[38;5;241m=\u001b[39m axis\u001b[38;5;241m.\u001b[39mget_indexer(new_axis)\n\u001b[1;32m   4314\u001b[0m \u001b[38;5;66;03m# Case for non-unique axis\u001b[39;00m\n\u001b[1;32m   4315\u001b[0m \u001b[38;5;28;01melse\u001b[39;00m:\n",
      "File \u001b[0;32m~/anaconda3/lib/python3.9/site-packages/pandas/core/indexes/base.py:6644\u001b[0m, in \u001b[0;36mIndex.drop\u001b[0;34m(self, labels, errors)\u001b[0m\n\u001b[1;32m   6642\u001b[0m \u001b[38;5;28;01mif\u001b[39;00m mask\u001b[38;5;241m.\u001b[39many():\n\u001b[1;32m   6643\u001b[0m     \u001b[38;5;28;01mif\u001b[39;00m errors \u001b[38;5;241m!=\u001b[39m \u001b[38;5;124m\"\u001b[39m\u001b[38;5;124mignore\u001b[39m\u001b[38;5;124m\"\u001b[39m:\n\u001b[0;32m-> 6644\u001b[0m         \u001b[38;5;28;01mraise\u001b[39;00m \u001b[38;5;167;01mKeyError\u001b[39;00m(\u001b[38;5;124mf\u001b[39m\u001b[38;5;124m\"\u001b[39m\u001b[38;5;132;01m{\u001b[39;00m\u001b[38;5;28mlist\u001b[39m(labels[mask])\u001b[38;5;132;01m}\u001b[39;00m\u001b[38;5;124m not found in axis\u001b[39m\u001b[38;5;124m\"\u001b[39m)\n\u001b[1;32m   6645\u001b[0m     indexer \u001b[38;5;241m=\u001b[39m indexer[\u001b[38;5;241m~\u001b[39mmask]\n\u001b[1;32m   6646\u001b[0m \u001b[38;5;28;01mreturn\u001b[39;00m \u001b[38;5;28mself\u001b[39m\u001b[38;5;241m.\u001b[39mdelete(indexer)\n",
      "\u001b[0;31mKeyError\u001b[0m: '[5] not found in axis'"
     ]
    }
   ],
   "source": [
    "datos_mode=datos_mode.drop(columns = [5])\n",
    "data_std = wf.min_max_normalization(datos_mode)\n",
    "target = data[3].values\n",
    "label_names={0:'no c', 1:'c'}\n",
    "data_som=data_std.to_numpy()"
   ]
  },
  {
   "cell_type": "code",
   "execution_count": 21,
   "id": "778ad19f",
   "metadata": {},
   "outputs": [
    {
     "name": "stdout",
     "output_type": "stream",
     "text": [
      "TRAINING...\n"
     ]
    },
    {
     "data": {
      "application/vnd.jupyter.widget-view+json": {
       "model_id": "af88a0a421c440838f090062412959d6",
       "version_major": 2,
       "version_minor": 0
      },
      "text/plain": [
       "  0%|          | 0/5000 [00:00<?, ?it/s]"
      ]
     },
     "metadata": {},
     "output_type": "display_data"
    },
    {
     "name": "stdout",
     "output_type": "stream",
     "text": [
      "FINISHED.\n"
     ]
    },
    {
     "data": {
      "application/vnd.jupyter.widget-view+json": {
       "model_id": "78d5d9d99f984046a579af97e9bb72b0",
       "version_major": 2,
       "version_minor": 0
      },
      "text/plain": [
       "  0%|          | 0/5404 [00:00<?, ?it/s]"
      ]
     },
     "metadata": {},
     "output_type": "display_data"
    },
    {
     "name": "stdout",
     "output_type": "stream",
     "text": [
      "quantification error: 0.11033266839378239\n",
      "Topological_error: 0.18560325684678017\n"
     ]
    }
   ],
   "source": [
    "main_map = GEMA.Map(data_som, \n",
    "                    13, \n",
    "                    5000, \n",
    "                    initial_lr=0.3, \n",
    "                    initial_neighbourhood = 0,\n",
    "                    distance = 'euclidean',\n",
    "                    use_decay= False,\n",
    "                    presentation= 'random',\n",
    "                    weights = 'random')\n",
    "\n",
    "main_classification = GEMA.Classification(main_map, data_som)\n",
    "print(\"quantification error:\",main_classification.quantization_error)\n",
    "print(\"Topological_error:\",main_classification.topological_error)"
   ]
  },
  {
   "cell_type": "code",
   "execution_count": 22,
   "id": "dc388552",
   "metadata": {},
   "outputs": [
    {
     "data": {
      "text/html": [
       "        <script type=\"text/javascript\">\n",
       "        window.PlotlyConfig = {MathJaxConfig: 'local'};\n",
       "        if (window.MathJax && window.MathJax.Hub && window.MathJax.Hub.Config) {window.MathJax.Hub.Config({SVG: {font: \"STIX-Web\"}});}\n",
       "        if (typeof require !== 'undefined') {\n",
       "        require.undef(\"plotly\");\n",
       "        requirejs.config({\n",
       "            paths: {\n",
       "                'plotly': ['https://cdn.plot.ly/plotly-2.12.1.min']\n",
       "            }\n",
       "        });\n",
       "        require(['plotly'], function(Plotly) {\n",
       "            window._Plotly = Plotly;\n",
       "        });\n",
       "        }\n",
       "        </script>\n",
       "        "
      ]
     },
     "metadata": {},
     "output_type": "display_data"
    },
    {
     "data": {
      "application/vnd.plotly.v1+json": {
       "config": {
        "linkText": "Export to plot.ly",
        "plotlyServerURL": "https://plot.ly",
        "showLink": false
       },
       "data": [
        {
         "colorscale": [
          [
           0,
           "#0d0887"
          ],
          [
           0.1111111111111111,
           "#46039f"
          ],
          [
           0.2222222222222222,
           "#7201a8"
          ],
          [
           0.3333333333333333,
           "#9c179e"
          ],
          [
           0.4444444444444444,
           "#bd3786"
          ],
          [
           0.5555555555555556,
           "#d8576b"
          ],
          [
           0.6666666666666666,
           "#ed7953"
          ],
          [
           0.7777777777777778,
           "#fb9f3a"
          ],
          [
           0.8888888888888888,
           "#fdca26"
          ],
          [
           1,
           "#f0f921"
          ]
         ],
         "reversescale": false,
         "showscale": true,
         "type": "heatmap",
         "z": [
          [
           0.4,
           0.4,
           0.41,
           0.41,
           0.42,
           0.42,
           0.41,
           0.41,
           0.39,
           0.37,
           0.35,
           0.34,
           0.34
          ],
          [
           0.42,
           0.41,
           0.41,
           0.42,
           0.43,
           0.42,
           0.42,
           0.41,
           0.41,
           0.38,
           0.35,
           0.34,
           0.34
          ],
          [
           0.46,
           0.44,
           0.41,
           0.41,
           0.43,
           0.43,
           0.42,
           0.42,
           0.4,
           0.38,
           0.36,
           0.35,
           0.35
          ],
          [
           0.48,
           0.45,
           0.41,
           0.41,
           0.4,
           0.41,
           0.42,
           0.41,
           0.39,
           0.38,
           0.37,
           0.37,
           0.37
          ],
          [
           0.48,
           0.46,
           0.43,
           0.39,
           0.39,
           0.39,
           0.4,
           0.41,
           0.39,
           0.38,
           0.37,
           0.38,
           0.38
          ],
          [
           0.46,
           0.45,
           0.42,
           0.39,
           0.37,
           0.38,
           0.39,
           0.4,
           0.38,
           0.38,
           0.37,
           0.37,
           0.38
          ],
          [
           0.46,
           0.42,
           0.38,
           0.36,
           0.37,
           0.38,
           0.38,
           0.38,
           0.38,
           0.38,
           0.37,
           0.37,
           0.36
          ],
          [
           0.43,
           0.38,
           0.34,
           0.33,
           0.33,
           0.36,
           0.37,
           0.37,
           0.37,
           0.37,
           0.36,
           0.35,
           0.36
          ],
          [
           0.48,
           0.43,
           0.38,
           0.34,
           0.33,
           0.35,
           0.36,
           0.37,
           0.37,
           0.36,
           0.35,
           0.35,
           0.35
          ],
          [
           0.59,
           0.55,
           0.5,
           0.44,
           0.38,
           0.35,
           0.35,
           0.36,
           0.36,
           0.34,
           0.33,
           0.33,
           0.34
          ],
          [
           0.69,
           0.65,
           0.6,
           0.57,
           0.51,
           0.39,
           0.35,
           0.34,
           0.34,
           0.33,
           0.33,
           0.34,
           0.34
          ],
          [
           0.78,
           0.74,
           0.68,
           0.63,
           0.53,
           0.39,
           0.35,
           0.33,
           0.33,
           0.32,
           0.33,
           0.34,
           0.35
          ],
          [
           0.8,
           0.78,
           0.73,
           0.66,
           0.54,
           0.41,
           0.34,
           0.33,
           0.32,
           0.32,
           0.33,
           0.35,
           0.35
          ]
         ]
        }
       ],
       "layout": {
        "annotations": [
         {
          "font": {
           "color": "#FFFFFF",
           "size": 7
          },
          "showarrow": false,
          "text": "0.4",
          "x": 0,
          "xref": "x",
          "y": 0,
          "yref": "y"
         },
         {
          "font": {
           "color": "#FFFFFF",
           "size": 7
          },
          "showarrow": false,
          "text": "0.4",
          "x": 1,
          "xref": "x",
          "y": 0,
          "yref": "y"
         },
         {
          "font": {
           "color": "#FFFFFF",
           "size": 7
          },
          "showarrow": false,
          "text": "0.41",
          "x": 2,
          "xref": "x",
          "y": 0,
          "yref": "y"
         },
         {
          "font": {
           "color": "#FFFFFF",
           "size": 7
          },
          "showarrow": false,
          "text": "0.41",
          "x": 3,
          "xref": "x",
          "y": 0,
          "yref": "y"
         },
         {
          "font": {
           "color": "#FFFFFF",
           "size": 7
          },
          "showarrow": false,
          "text": "0.42",
          "x": 4,
          "xref": "x",
          "y": 0,
          "yref": "y"
         },
         {
          "font": {
           "color": "#FFFFFF",
           "size": 7
          },
          "showarrow": false,
          "text": "0.42",
          "x": 5,
          "xref": "x",
          "y": 0,
          "yref": "y"
         },
         {
          "font": {
           "color": "#FFFFFF",
           "size": 7
          },
          "showarrow": false,
          "text": "0.41",
          "x": 6,
          "xref": "x",
          "y": 0,
          "yref": "y"
         },
         {
          "font": {
           "color": "#FFFFFF",
           "size": 7
          },
          "showarrow": false,
          "text": "0.41",
          "x": 7,
          "xref": "x",
          "y": 0,
          "yref": "y"
         },
         {
          "font": {
           "color": "#FFFFFF",
           "size": 7
          },
          "showarrow": false,
          "text": "0.39",
          "x": 8,
          "xref": "x",
          "y": 0,
          "yref": "y"
         },
         {
          "font": {
           "color": "#FFFFFF",
           "size": 7
          },
          "showarrow": false,
          "text": "0.37",
          "x": 9,
          "xref": "x",
          "y": 0,
          "yref": "y"
         },
         {
          "font": {
           "color": "#FFFFFF",
           "size": 7
          },
          "showarrow": false,
          "text": "0.35",
          "x": 10,
          "xref": "x",
          "y": 0,
          "yref": "y"
         },
         {
          "font": {
           "color": "#FFFFFF",
           "size": 7
          },
          "showarrow": false,
          "text": "0.34",
          "x": 11,
          "xref": "x",
          "y": 0,
          "yref": "y"
         },
         {
          "font": {
           "color": "#FFFFFF",
           "size": 7
          },
          "showarrow": false,
          "text": "0.34",
          "x": 12,
          "xref": "x",
          "y": 0,
          "yref": "y"
         },
         {
          "font": {
           "color": "#FFFFFF",
           "size": 7
          },
          "showarrow": false,
          "text": "0.42",
          "x": 0,
          "xref": "x",
          "y": 1,
          "yref": "y"
         },
         {
          "font": {
           "color": "#FFFFFF",
           "size": 7
          },
          "showarrow": false,
          "text": "0.41",
          "x": 1,
          "xref": "x",
          "y": 1,
          "yref": "y"
         },
         {
          "font": {
           "color": "#FFFFFF",
           "size": 7
          },
          "showarrow": false,
          "text": "0.41",
          "x": 2,
          "xref": "x",
          "y": 1,
          "yref": "y"
         },
         {
          "font": {
           "color": "#FFFFFF",
           "size": 7
          },
          "showarrow": false,
          "text": "0.42",
          "x": 3,
          "xref": "x",
          "y": 1,
          "yref": "y"
         },
         {
          "font": {
           "color": "#FFFFFF",
           "size": 7
          },
          "showarrow": false,
          "text": "0.43",
          "x": 4,
          "xref": "x",
          "y": 1,
          "yref": "y"
         },
         {
          "font": {
           "color": "#FFFFFF",
           "size": 7
          },
          "showarrow": false,
          "text": "0.42",
          "x": 5,
          "xref": "x",
          "y": 1,
          "yref": "y"
         },
         {
          "font": {
           "color": "#FFFFFF",
           "size": 7
          },
          "showarrow": false,
          "text": "0.42",
          "x": 6,
          "xref": "x",
          "y": 1,
          "yref": "y"
         },
         {
          "font": {
           "color": "#FFFFFF",
           "size": 7
          },
          "showarrow": false,
          "text": "0.41",
          "x": 7,
          "xref": "x",
          "y": 1,
          "yref": "y"
         },
         {
          "font": {
           "color": "#FFFFFF",
           "size": 7
          },
          "showarrow": false,
          "text": "0.41",
          "x": 8,
          "xref": "x",
          "y": 1,
          "yref": "y"
         },
         {
          "font": {
           "color": "#FFFFFF",
           "size": 7
          },
          "showarrow": false,
          "text": "0.38",
          "x": 9,
          "xref": "x",
          "y": 1,
          "yref": "y"
         },
         {
          "font": {
           "color": "#FFFFFF",
           "size": 7
          },
          "showarrow": false,
          "text": "0.35",
          "x": 10,
          "xref": "x",
          "y": 1,
          "yref": "y"
         },
         {
          "font": {
           "color": "#FFFFFF",
           "size": 7
          },
          "showarrow": false,
          "text": "0.34",
          "x": 11,
          "xref": "x",
          "y": 1,
          "yref": "y"
         },
         {
          "font": {
           "color": "#FFFFFF",
           "size": 7
          },
          "showarrow": false,
          "text": "0.34",
          "x": 12,
          "xref": "x",
          "y": 1,
          "yref": "y"
         },
         {
          "font": {
           "color": "#FFFFFF",
           "size": 7
          },
          "showarrow": false,
          "text": "0.46",
          "x": 0,
          "xref": "x",
          "y": 2,
          "yref": "y"
         },
         {
          "font": {
           "color": "#FFFFFF",
           "size": 7
          },
          "showarrow": false,
          "text": "0.44",
          "x": 1,
          "xref": "x",
          "y": 2,
          "yref": "y"
         },
         {
          "font": {
           "color": "#FFFFFF",
           "size": 7
          },
          "showarrow": false,
          "text": "0.41",
          "x": 2,
          "xref": "x",
          "y": 2,
          "yref": "y"
         },
         {
          "font": {
           "color": "#FFFFFF",
           "size": 7
          },
          "showarrow": false,
          "text": "0.41",
          "x": 3,
          "xref": "x",
          "y": 2,
          "yref": "y"
         },
         {
          "font": {
           "color": "#FFFFFF",
           "size": 7
          },
          "showarrow": false,
          "text": "0.43",
          "x": 4,
          "xref": "x",
          "y": 2,
          "yref": "y"
         },
         {
          "font": {
           "color": "#FFFFFF",
           "size": 7
          },
          "showarrow": false,
          "text": "0.43",
          "x": 5,
          "xref": "x",
          "y": 2,
          "yref": "y"
         },
         {
          "font": {
           "color": "#FFFFFF",
           "size": 7
          },
          "showarrow": false,
          "text": "0.42",
          "x": 6,
          "xref": "x",
          "y": 2,
          "yref": "y"
         },
         {
          "font": {
           "color": "#FFFFFF",
           "size": 7
          },
          "showarrow": false,
          "text": "0.42",
          "x": 7,
          "xref": "x",
          "y": 2,
          "yref": "y"
         },
         {
          "font": {
           "color": "#FFFFFF",
           "size": 7
          },
          "showarrow": false,
          "text": "0.4",
          "x": 8,
          "xref": "x",
          "y": 2,
          "yref": "y"
         },
         {
          "font": {
           "color": "#FFFFFF",
           "size": 7
          },
          "showarrow": false,
          "text": "0.38",
          "x": 9,
          "xref": "x",
          "y": 2,
          "yref": "y"
         },
         {
          "font": {
           "color": "#FFFFFF",
           "size": 7
          },
          "showarrow": false,
          "text": "0.36",
          "x": 10,
          "xref": "x",
          "y": 2,
          "yref": "y"
         },
         {
          "font": {
           "color": "#FFFFFF",
           "size": 7
          },
          "showarrow": false,
          "text": "0.35",
          "x": 11,
          "xref": "x",
          "y": 2,
          "yref": "y"
         },
         {
          "font": {
           "color": "#FFFFFF",
           "size": 7
          },
          "showarrow": false,
          "text": "0.35",
          "x": 12,
          "xref": "x",
          "y": 2,
          "yref": "y"
         },
         {
          "font": {
           "color": "#FFFFFF",
           "size": 7
          },
          "showarrow": false,
          "text": "0.48",
          "x": 0,
          "xref": "x",
          "y": 3,
          "yref": "y"
         },
         {
          "font": {
           "color": "#FFFFFF",
           "size": 7
          },
          "showarrow": false,
          "text": "0.45",
          "x": 1,
          "xref": "x",
          "y": 3,
          "yref": "y"
         },
         {
          "font": {
           "color": "#FFFFFF",
           "size": 7
          },
          "showarrow": false,
          "text": "0.41",
          "x": 2,
          "xref": "x",
          "y": 3,
          "yref": "y"
         },
         {
          "font": {
           "color": "#FFFFFF",
           "size": 7
          },
          "showarrow": false,
          "text": "0.41",
          "x": 3,
          "xref": "x",
          "y": 3,
          "yref": "y"
         },
         {
          "font": {
           "color": "#FFFFFF",
           "size": 7
          },
          "showarrow": false,
          "text": "0.4",
          "x": 4,
          "xref": "x",
          "y": 3,
          "yref": "y"
         },
         {
          "font": {
           "color": "#FFFFFF",
           "size": 7
          },
          "showarrow": false,
          "text": "0.41",
          "x": 5,
          "xref": "x",
          "y": 3,
          "yref": "y"
         },
         {
          "font": {
           "color": "#FFFFFF",
           "size": 7
          },
          "showarrow": false,
          "text": "0.42",
          "x": 6,
          "xref": "x",
          "y": 3,
          "yref": "y"
         },
         {
          "font": {
           "color": "#FFFFFF",
           "size": 7
          },
          "showarrow": false,
          "text": "0.41",
          "x": 7,
          "xref": "x",
          "y": 3,
          "yref": "y"
         },
         {
          "font": {
           "color": "#FFFFFF",
           "size": 7
          },
          "showarrow": false,
          "text": "0.39",
          "x": 8,
          "xref": "x",
          "y": 3,
          "yref": "y"
         },
         {
          "font": {
           "color": "#FFFFFF",
           "size": 7
          },
          "showarrow": false,
          "text": "0.38",
          "x": 9,
          "xref": "x",
          "y": 3,
          "yref": "y"
         },
         {
          "font": {
           "color": "#FFFFFF",
           "size": 7
          },
          "showarrow": false,
          "text": "0.37",
          "x": 10,
          "xref": "x",
          "y": 3,
          "yref": "y"
         },
         {
          "font": {
           "color": "#FFFFFF",
           "size": 7
          },
          "showarrow": false,
          "text": "0.37",
          "x": 11,
          "xref": "x",
          "y": 3,
          "yref": "y"
         },
         {
          "font": {
           "color": "#FFFFFF",
           "size": 7
          },
          "showarrow": false,
          "text": "0.37",
          "x": 12,
          "xref": "x",
          "y": 3,
          "yref": "y"
         },
         {
          "font": {
           "color": "#FFFFFF",
           "size": 7
          },
          "showarrow": false,
          "text": "0.48",
          "x": 0,
          "xref": "x",
          "y": 4,
          "yref": "y"
         },
         {
          "font": {
           "color": "#FFFFFF",
           "size": 7
          },
          "showarrow": false,
          "text": "0.46",
          "x": 1,
          "xref": "x",
          "y": 4,
          "yref": "y"
         },
         {
          "font": {
           "color": "#FFFFFF",
           "size": 7
          },
          "showarrow": false,
          "text": "0.43",
          "x": 2,
          "xref": "x",
          "y": 4,
          "yref": "y"
         },
         {
          "font": {
           "color": "#FFFFFF",
           "size": 7
          },
          "showarrow": false,
          "text": "0.39",
          "x": 3,
          "xref": "x",
          "y": 4,
          "yref": "y"
         },
         {
          "font": {
           "color": "#FFFFFF",
           "size": 7
          },
          "showarrow": false,
          "text": "0.39",
          "x": 4,
          "xref": "x",
          "y": 4,
          "yref": "y"
         },
         {
          "font": {
           "color": "#FFFFFF",
           "size": 7
          },
          "showarrow": false,
          "text": "0.39",
          "x": 5,
          "xref": "x",
          "y": 4,
          "yref": "y"
         },
         {
          "font": {
           "color": "#FFFFFF",
           "size": 7
          },
          "showarrow": false,
          "text": "0.4",
          "x": 6,
          "xref": "x",
          "y": 4,
          "yref": "y"
         },
         {
          "font": {
           "color": "#FFFFFF",
           "size": 7
          },
          "showarrow": false,
          "text": "0.41",
          "x": 7,
          "xref": "x",
          "y": 4,
          "yref": "y"
         },
         {
          "font": {
           "color": "#FFFFFF",
           "size": 7
          },
          "showarrow": false,
          "text": "0.39",
          "x": 8,
          "xref": "x",
          "y": 4,
          "yref": "y"
         },
         {
          "font": {
           "color": "#FFFFFF",
           "size": 7
          },
          "showarrow": false,
          "text": "0.38",
          "x": 9,
          "xref": "x",
          "y": 4,
          "yref": "y"
         },
         {
          "font": {
           "color": "#FFFFFF",
           "size": 7
          },
          "showarrow": false,
          "text": "0.37",
          "x": 10,
          "xref": "x",
          "y": 4,
          "yref": "y"
         },
         {
          "font": {
           "color": "#FFFFFF",
           "size": 7
          },
          "showarrow": false,
          "text": "0.38",
          "x": 11,
          "xref": "x",
          "y": 4,
          "yref": "y"
         },
         {
          "font": {
           "color": "#FFFFFF",
           "size": 7
          },
          "showarrow": false,
          "text": "0.38",
          "x": 12,
          "xref": "x",
          "y": 4,
          "yref": "y"
         },
         {
          "font": {
           "color": "#FFFFFF",
           "size": 7
          },
          "showarrow": false,
          "text": "0.46",
          "x": 0,
          "xref": "x",
          "y": 5,
          "yref": "y"
         },
         {
          "font": {
           "color": "#FFFFFF",
           "size": 7
          },
          "showarrow": false,
          "text": "0.45",
          "x": 1,
          "xref": "x",
          "y": 5,
          "yref": "y"
         },
         {
          "font": {
           "color": "#FFFFFF",
           "size": 7
          },
          "showarrow": false,
          "text": "0.42",
          "x": 2,
          "xref": "x",
          "y": 5,
          "yref": "y"
         },
         {
          "font": {
           "color": "#FFFFFF",
           "size": 7
          },
          "showarrow": false,
          "text": "0.39",
          "x": 3,
          "xref": "x",
          "y": 5,
          "yref": "y"
         },
         {
          "font": {
           "color": "#FFFFFF",
           "size": 7
          },
          "showarrow": false,
          "text": "0.37",
          "x": 4,
          "xref": "x",
          "y": 5,
          "yref": "y"
         },
         {
          "font": {
           "color": "#FFFFFF",
           "size": 7
          },
          "showarrow": false,
          "text": "0.38",
          "x": 5,
          "xref": "x",
          "y": 5,
          "yref": "y"
         },
         {
          "font": {
           "color": "#FFFFFF",
           "size": 7
          },
          "showarrow": false,
          "text": "0.39",
          "x": 6,
          "xref": "x",
          "y": 5,
          "yref": "y"
         },
         {
          "font": {
           "color": "#FFFFFF",
           "size": 7
          },
          "showarrow": false,
          "text": "0.4",
          "x": 7,
          "xref": "x",
          "y": 5,
          "yref": "y"
         },
         {
          "font": {
           "color": "#FFFFFF",
           "size": 7
          },
          "showarrow": false,
          "text": "0.38",
          "x": 8,
          "xref": "x",
          "y": 5,
          "yref": "y"
         },
         {
          "font": {
           "color": "#FFFFFF",
           "size": 7
          },
          "showarrow": false,
          "text": "0.38",
          "x": 9,
          "xref": "x",
          "y": 5,
          "yref": "y"
         },
         {
          "font": {
           "color": "#FFFFFF",
           "size": 7
          },
          "showarrow": false,
          "text": "0.37",
          "x": 10,
          "xref": "x",
          "y": 5,
          "yref": "y"
         },
         {
          "font": {
           "color": "#FFFFFF",
           "size": 7
          },
          "showarrow": false,
          "text": "0.37",
          "x": 11,
          "xref": "x",
          "y": 5,
          "yref": "y"
         },
         {
          "font": {
           "color": "#FFFFFF",
           "size": 7
          },
          "showarrow": false,
          "text": "0.38",
          "x": 12,
          "xref": "x",
          "y": 5,
          "yref": "y"
         },
         {
          "font": {
           "color": "#FFFFFF",
           "size": 7
          },
          "showarrow": false,
          "text": "0.46",
          "x": 0,
          "xref": "x",
          "y": 6,
          "yref": "y"
         },
         {
          "font": {
           "color": "#FFFFFF",
           "size": 7
          },
          "showarrow": false,
          "text": "0.42",
          "x": 1,
          "xref": "x",
          "y": 6,
          "yref": "y"
         },
         {
          "font": {
           "color": "#FFFFFF",
           "size": 7
          },
          "showarrow": false,
          "text": "0.38",
          "x": 2,
          "xref": "x",
          "y": 6,
          "yref": "y"
         },
         {
          "font": {
           "color": "#FFFFFF",
           "size": 7
          },
          "showarrow": false,
          "text": "0.36",
          "x": 3,
          "xref": "x",
          "y": 6,
          "yref": "y"
         },
         {
          "font": {
           "color": "#FFFFFF",
           "size": 7
          },
          "showarrow": false,
          "text": "0.37",
          "x": 4,
          "xref": "x",
          "y": 6,
          "yref": "y"
         },
         {
          "font": {
           "color": "#FFFFFF",
           "size": 7
          },
          "showarrow": false,
          "text": "0.38",
          "x": 5,
          "xref": "x",
          "y": 6,
          "yref": "y"
         },
         {
          "font": {
           "color": "#FFFFFF",
           "size": 7
          },
          "showarrow": false,
          "text": "0.38",
          "x": 6,
          "xref": "x",
          "y": 6,
          "yref": "y"
         },
         {
          "font": {
           "color": "#FFFFFF",
           "size": 7
          },
          "showarrow": false,
          "text": "0.38",
          "x": 7,
          "xref": "x",
          "y": 6,
          "yref": "y"
         },
         {
          "font": {
           "color": "#FFFFFF",
           "size": 7
          },
          "showarrow": false,
          "text": "0.38",
          "x": 8,
          "xref": "x",
          "y": 6,
          "yref": "y"
         },
         {
          "font": {
           "color": "#FFFFFF",
           "size": 7
          },
          "showarrow": false,
          "text": "0.38",
          "x": 9,
          "xref": "x",
          "y": 6,
          "yref": "y"
         },
         {
          "font": {
           "color": "#FFFFFF",
           "size": 7
          },
          "showarrow": false,
          "text": "0.37",
          "x": 10,
          "xref": "x",
          "y": 6,
          "yref": "y"
         },
         {
          "font": {
           "color": "#FFFFFF",
           "size": 7
          },
          "showarrow": false,
          "text": "0.37",
          "x": 11,
          "xref": "x",
          "y": 6,
          "yref": "y"
         },
         {
          "font": {
           "color": "#FFFFFF",
           "size": 7
          },
          "showarrow": false,
          "text": "0.36",
          "x": 12,
          "xref": "x",
          "y": 6,
          "yref": "y"
         },
         {
          "font": {
           "color": "#FFFFFF",
           "size": 7
          },
          "showarrow": false,
          "text": "0.43",
          "x": 0,
          "xref": "x",
          "y": 7,
          "yref": "y"
         },
         {
          "font": {
           "color": "#FFFFFF",
           "size": 7
          },
          "showarrow": false,
          "text": "0.38",
          "x": 1,
          "xref": "x",
          "y": 7,
          "yref": "y"
         },
         {
          "font": {
           "color": "#FFFFFF",
           "size": 7
          },
          "showarrow": false,
          "text": "0.34",
          "x": 2,
          "xref": "x",
          "y": 7,
          "yref": "y"
         },
         {
          "font": {
           "color": "#FFFFFF",
           "size": 7
          },
          "showarrow": false,
          "text": "0.33",
          "x": 3,
          "xref": "x",
          "y": 7,
          "yref": "y"
         },
         {
          "font": {
           "color": "#FFFFFF",
           "size": 7
          },
          "showarrow": false,
          "text": "0.33",
          "x": 4,
          "xref": "x",
          "y": 7,
          "yref": "y"
         },
         {
          "font": {
           "color": "#FFFFFF",
           "size": 7
          },
          "showarrow": false,
          "text": "0.36",
          "x": 5,
          "xref": "x",
          "y": 7,
          "yref": "y"
         },
         {
          "font": {
           "color": "#FFFFFF",
           "size": 7
          },
          "showarrow": false,
          "text": "0.37",
          "x": 6,
          "xref": "x",
          "y": 7,
          "yref": "y"
         },
         {
          "font": {
           "color": "#FFFFFF",
           "size": 7
          },
          "showarrow": false,
          "text": "0.37",
          "x": 7,
          "xref": "x",
          "y": 7,
          "yref": "y"
         },
         {
          "font": {
           "color": "#FFFFFF",
           "size": 7
          },
          "showarrow": false,
          "text": "0.37",
          "x": 8,
          "xref": "x",
          "y": 7,
          "yref": "y"
         },
         {
          "font": {
           "color": "#FFFFFF",
           "size": 7
          },
          "showarrow": false,
          "text": "0.37",
          "x": 9,
          "xref": "x",
          "y": 7,
          "yref": "y"
         },
         {
          "font": {
           "color": "#FFFFFF",
           "size": 7
          },
          "showarrow": false,
          "text": "0.36",
          "x": 10,
          "xref": "x",
          "y": 7,
          "yref": "y"
         },
         {
          "font": {
           "color": "#FFFFFF",
           "size": 7
          },
          "showarrow": false,
          "text": "0.35",
          "x": 11,
          "xref": "x",
          "y": 7,
          "yref": "y"
         },
         {
          "font": {
           "color": "#FFFFFF",
           "size": 7
          },
          "showarrow": false,
          "text": "0.36",
          "x": 12,
          "xref": "x",
          "y": 7,
          "yref": "y"
         },
         {
          "font": {
           "color": "#FFFFFF",
           "size": 7
          },
          "showarrow": false,
          "text": "0.48",
          "x": 0,
          "xref": "x",
          "y": 8,
          "yref": "y"
         },
         {
          "font": {
           "color": "#FFFFFF",
           "size": 7
          },
          "showarrow": false,
          "text": "0.43",
          "x": 1,
          "xref": "x",
          "y": 8,
          "yref": "y"
         },
         {
          "font": {
           "color": "#FFFFFF",
           "size": 7
          },
          "showarrow": false,
          "text": "0.38",
          "x": 2,
          "xref": "x",
          "y": 8,
          "yref": "y"
         },
         {
          "font": {
           "color": "#FFFFFF",
           "size": 7
          },
          "showarrow": false,
          "text": "0.34",
          "x": 3,
          "xref": "x",
          "y": 8,
          "yref": "y"
         },
         {
          "font": {
           "color": "#FFFFFF",
           "size": 7
          },
          "showarrow": false,
          "text": "0.33",
          "x": 4,
          "xref": "x",
          "y": 8,
          "yref": "y"
         },
         {
          "font": {
           "color": "#FFFFFF",
           "size": 7
          },
          "showarrow": false,
          "text": "0.35",
          "x": 5,
          "xref": "x",
          "y": 8,
          "yref": "y"
         },
         {
          "font": {
           "color": "#FFFFFF",
           "size": 7
          },
          "showarrow": false,
          "text": "0.36",
          "x": 6,
          "xref": "x",
          "y": 8,
          "yref": "y"
         },
         {
          "font": {
           "color": "#FFFFFF",
           "size": 7
          },
          "showarrow": false,
          "text": "0.37",
          "x": 7,
          "xref": "x",
          "y": 8,
          "yref": "y"
         },
         {
          "font": {
           "color": "#FFFFFF",
           "size": 7
          },
          "showarrow": false,
          "text": "0.37",
          "x": 8,
          "xref": "x",
          "y": 8,
          "yref": "y"
         },
         {
          "font": {
           "color": "#FFFFFF",
           "size": 7
          },
          "showarrow": false,
          "text": "0.36",
          "x": 9,
          "xref": "x",
          "y": 8,
          "yref": "y"
         },
         {
          "font": {
           "color": "#FFFFFF",
           "size": 7
          },
          "showarrow": false,
          "text": "0.35",
          "x": 10,
          "xref": "x",
          "y": 8,
          "yref": "y"
         },
         {
          "font": {
           "color": "#FFFFFF",
           "size": 7
          },
          "showarrow": false,
          "text": "0.35",
          "x": 11,
          "xref": "x",
          "y": 8,
          "yref": "y"
         },
         {
          "font": {
           "color": "#FFFFFF",
           "size": 7
          },
          "showarrow": false,
          "text": "0.35",
          "x": 12,
          "xref": "x",
          "y": 8,
          "yref": "y"
         },
         {
          "font": {
           "color": "#000000",
           "size": 7
          },
          "showarrow": false,
          "text": "0.59",
          "x": 0,
          "xref": "x",
          "y": 9,
          "yref": "y"
         },
         {
          "font": {
           "color": "#FFFFFF",
           "size": 7
          },
          "showarrow": false,
          "text": "0.55",
          "x": 1,
          "xref": "x",
          "y": 9,
          "yref": "y"
         },
         {
          "font": {
           "color": "#FFFFFF",
           "size": 7
          },
          "showarrow": false,
          "text": "0.5",
          "x": 2,
          "xref": "x",
          "y": 9,
          "yref": "y"
         },
         {
          "font": {
           "color": "#FFFFFF",
           "size": 7
          },
          "showarrow": false,
          "text": "0.44",
          "x": 3,
          "xref": "x",
          "y": 9,
          "yref": "y"
         },
         {
          "font": {
           "color": "#FFFFFF",
           "size": 7
          },
          "showarrow": false,
          "text": "0.38",
          "x": 4,
          "xref": "x",
          "y": 9,
          "yref": "y"
         },
         {
          "font": {
           "color": "#FFFFFF",
           "size": 7
          },
          "showarrow": false,
          "text": "0.35",
          "x": 5,
          "xref": "x",
          "y": 9,
          "yref": "y"
         },
         {
          "font": {
           "color": "#FFFFFF",
           "size": 7
          },
          "showarrow": false,
          "text": "0.35",
          "x": 6,
          "xref": "x",
          "y": 9,
          "yref": "y"
         },
         {
          "font": {
           "color": "#FFFFFF",
           "size": 7
          },
          "showarrow": false,
          "text": "0.36",
          "x": 7,
          "xref": "x",
          "y": 9,
          "yref": "y"
         },
         {
          "font": {
           "color": "#FFFFFF",
           "size": 7
          },
          "showarrow": false,
          "text": "0.36",
          "x": 8,
          "xref": "x",
          "y": 9,
          "yref": "y"
         },
         {
          "font": {
           "color": "#FFFFFF",
           "size": 7
          },
          "showarrow": false,
          "text": "0.34",
          "x": 9,
          "xref": "x",
          "y": 9,
          "yref": "y"
         },
         {
          "font": {
           "color": "#FFFFFF",
           "size": 7
          },
          "showarrow": false,
          "text": "0.33",
          "x": 10,
          "xref": "x",
          "y": 9,
          "yref": "y"
         },
         {
          "font": {
           "color": "#FFFFFF",
           "size": 7
          },
          "showarrow": false,
          "text": "0.33",
          "x": 11,
          "xref": "x",
          "y": 9,
          "yref": "y"
         },
         {
          "font": {
           "color": "#FFFFFF",
           "size": 7
          },
          "showarrow": false,
          "text": "0.34",
          "x": 12,
          "xref": "x",
          "y": 9,
          "yref": "y"
         },
         {
          "font": {
           "color": "#000000",
           "size": 7
          },
          "showarrow": false,
          "text": "0.69",
          "x": 0,
          "xref": "x",
          "y": 10,
          "yref": "y"
         },
         {
          "font": {
           "color": "#000000",
           "size": 7
          },
          "showarrow": false,
          "text": "0.65",
          "x": 1,
          "xref": "x",
          "y": 10,
          "yref": "y"
         },
         {
          "font": {
           "color": "#000000",
           "size": 7
          },
          "showarrow": false,
          "text": "0.6",
          "x": 2,
          "xref": "x",
          "y": 10,
          "yref": "y"
         },
         {
          "font": {
           "color": "#000000",
           "size": 7
          },
          "showarrow": false,
          "text": "0.57",
          "x": 3,
          "xref": "x",
          "y": 10,
          "yref": "y"
         },
         {
          "font": {
           "color": "#FFFFFF",
           "size": 7
          },
          "showarrow": false,
          "text": "0.51",
          "x": 4,
          "xref": "x",
          "y": 10,
          "yref": "y"
         },
         {
          "font": {
           "color": "#FFFFFF",
           "size": 7
          },
          "showarrow": false,
          "text": "0.39",
          "x": 5,
          "xref": "x",
          "y": 10,
          "yref": "y"
         },
         {
          "font": {
           "color": "#FFFFFF",
           "size": 7
          },
          "showarrow": false,
          "text": "0.35",
          "x": 6,
          "xref": "x",
          "y": 10,
          "yref": "y"
         },
         {
          "font": {
           "color": "#FFFFFF",
           "size": 7
          },
          "showarrow": false,
          "text": "0.34",
          "x": 7,
          "xref": "x",
          "y": 10,
          "yref": "y"
         },
         {
          "font": {
           "color": "#FFFFFF",
           "size": 7
          },
          "showarrow": false,
          "text": "0.34",
          "x": 8,
          "xref": "x",
          "y": 10,
          "yref": "y"
         },
         {
          "font": {
           "color": "#FFFFFF",
           "size": 7
          },
          "showarrow": false,
          "text": "0.33",
          "x": 9,
          "xref": "x",
          "y": 10,
          "yref": "y"
         },
         {
          "font": {
           "color": "#FFFFFF",
           "size": 7
          },
          "showarrow": false,
          "text": "0.33",
          "x": 10,
          "xref": "x",
          "y": 10,
          "yref": "y"
         },
         {
          "font": {
           "color": "#FFFFFF",
           "size": 7
          },
          "showarrow": false,
          "text": "0.34",
          "x": 11,
          "xref": "x",
          "y": 10,
          "yref": "y"
         },
         {
          "font": {
           "color": "#FFFFFF",
           "size": 7
          },
          "showarrow": false,
          "text": "0.34",
          "x": 12,
          "xref": "x",
          "y": 10,
          "yref": "y"
         },
         {
          "font": {
           "color": "#000000",
           "size": 7
          },
          "showarrow": false,
          "text": "0.78",
          "x": 0,
          "xref": "x",
          "y": 11,
          "yref": "y"
         },
         {
          "font": {
           "color": "#000000",
           "size": 7
          },
          "showarrow": false,
          "text": "0.74",
          "x": 1,
          "xref": "x",
          "y": 11,
          "yref": "y"
         },
         {
          "font": {
           "color": "#000000",
           "size": 7
          },
          "showarrow": false,
          "text": "0.68",
          "x": 2,
          "xref": "x",
          "y": 11,
          "yref": "y"
         },
         {
          "font": {
           "color": "#000000",
           "size": 7
          },
          "showarrow": false,
          "text": "0.63",
          "x": 3,
          "xref": "x",
          "y": 11,
          "yref": "y"
         },
         {
          "font": {
           "color": "#FFFFFF",
           "size": 7
          },
          "showarrow": false,
          "text": "0.53",
          "x": 4,
          "xref": "x",
          "y": 11,
          "yref": "y"
         },
         {
          "font": {
           "color": "#FFFFFF",
           "size": 7
          },
          "showarrow": false,
          "text": "0.39",
          "x": 5,
          "xref": "x",
          "y": 11,
          "yref": "y"
         },
         {
          "font": {
           "color": "#FFFFFF",
           "size": 7
          },
          "showarrow": false,
          "text": "0.35",
          "x": 6,
          "xref": "x",
          "y": 11,
          "yref": "y"
         },
         {
          "font": {
           "color": "#FFFFFF",
           "size": 7
          },
          "showarrow": false,
          "text": "0.33",
          "x": 7,
          "xref": "x",
          "y": 11,
          "yref": "y"
         },
         {
          "font": {
           "color": "#FFFFFF",
           "size": 7
          },
          "showarrow": false,
          "text": "0.33",
          "x": 8,
          "xref": "x",
          "y": 11,
          "yref": "y"
         },
         {
          "font": {
           "color": "#FFFFFF",
           "size": 7
          },
          "showarrow": false,
          "text": "0.32",
          "x": 9,
          "xref": "x",
          "y": 11,
          "yref": "y"
         },
         {
          "font": {
           "color": "#FFFFFF",
           "size": 7
          },
          "showarrow": false,
          "text": "0.33",
          "x": 10,
          "xref": "x",
          "y": 11,
          "yref": "y"
         },
         {
          "font": {
           "color": "#FFFFFF",
           "size": 7
          },
          "showarrow": false,
          "text": "0.34",
          "x": 11,
          "xref": "x",
          "y": 11,
          "yref": "y"
         },
         {
          "font": {
           "color": "#FFFFFF",
           "size": 7
          },
          "showarrow": false,
          "text": "0.35",
          "x": 12,
          "xref": "x",
          "y": 11,
          "yref": "y"
         },
         {
          "font": {
           "color": "#000000",
           "size": 7
          },
          "showarrow": false,
          "text": "0.8",
          "x": 0,
          "xref": "x",
          "y": 12,
          "yref": "y"
         },
         {
          "font": {
           "color": "#000000",
           "size": 7
          },
          "showarrow": false,
          "text": "0.78",
          "x": 1,
          "xref": "x",
          "y": 12,
          "yref": "y"
         },
         {
          "font": {
           "color": "#000000",
           "size": 7
          },
          "showarrow": false,
          "text": "0.73",
          "x": 2,
          "xref": "x",
          "y": 12,
          "yref": "y"
         },
         {
          "font": {
           "color": "#000000",
           "size": 7
          },
          "showarrow": false,
          "text": "0.66",
          "x": 3,
          "xref": "x",
          "y": 12,
          "yref": "y"
         },
         {
          "font": {
           "color": "#FFFFFF",
           "size": 7
          },
          "showarrow": false,
          "text": "0.54",
          "x": 4,
          "xref": "x",
          "y": 12,
          "yref": "y"
         },
         {
          "font": {
           "color": "#FFFFFF",
           "size": 7
          },
          "showarrow": false,
          "text": "0.41",
          "x": 5,
          "xref": "x",
          "y": 12,
          "yref": "y"
         },
         {
          "font": {
           "color": "#FFFFFF",
           "size": 7
          },
          "showarrow": false,
          "text": "0.34",
          "x": 6,
          "xref": "x",
          "y": 12,
          "yref": "y"
         },
         {
          "font": {
           "color": "#FFFFFF",
           "size": 7
          },
          "showarrow": false,
          "text": "0.33",
          "x": 7,
          "xref": "x",
          "y": 12,
          "yref": "y"
         },
         {
          "font": {
           "color": "#FFFFFF",
           "size": 7
          },
          "showarrow": false,
          "text": "0.32",
          "x": 8,
          "xref": "x",
          "y": 12,
          "yref": "y"
         },
         {
          "font": {
           "color": "#FFFFFF",
           "size": 7
          },
          "showarrow": false,
          "text": "0.32",
          "x": 9,
          "xref": "x",
          "y": 12,
          "yref": "y"
         },
         {
          "font": {
           "color": "#FFFFFF",
           "size": 7
          },
          "showarrow": false,
          "text": "0.33",
          "x": 10,
          "xref": "x",
          "y": 12,
          "yref": "y"
         },
         {
          "font": {
           "color": "#FFFFFF",
           "size": 7
          },
          "showarrow": false,
          "text": "0.35",
          "x": 11,
          "xref": "x",
          "y": 12,
          "yref": "y"
         },
         {
          "font": {
           "color": "#FFFFFF",
           "size": 7
          },
          "showarrow": false,
          "text": "0.35",
          "x": 12,
          "xref": "x",
          "y": 12,
          "yref": "y"
         }
        ],
        "template": {
         "data": {
          "bar": [
           {
            "error_x": {
             "color": "#2a3f5f"
            },
            "error_y": {
             "color": "#2a3f5f"
            },
            "marker": {
             "line": {
              "color": "#E5ECF6",
              "width": 0.5
             },
             "pattern": {
              "fillmode": "overlay",
              "size": 10,
              "solidity": 0.2
             }
            },
            "type": "bar"
           }
          ],
          "barpolar": [
           {
            "marker": {
             "line": {
              "color": "#E5ECF6",
              "width": 0.5
             },
             "pattern": {
              "fillmode": "overlay",
              "size": 10,
              "solidity": 0.2
             }
            },
            "type": "barpolar"
           }
          ],
          "carpet": [
           {
            "aaxis": {
             "endlinecolor": "#2a3f5f",
             "gridcolor": "white",
             "linecolor": "white",
             "minorgridcolor": "white",
             "startlinecolor": "#2a3f5f"
            },
            "baxis": {
             "endlinecolor": "#2a3f5f",
             "gridcolor": "white",
             "linecolor": "white",
             "minorgridcolor": "white",
             "startlinecolor": "#2a3f5f"
            },
            "type": "carpet"
           }
          ],
          "choropleth": [
           {
            "colorbar": {
             "outlinewidth": 0,
             "ticks": ""
            },
            "type": "choropleth"
           }
          ],
          "contour": [
           {
            "colorbar": {
             "outlinewidth": 0,
             "ticks": ""
            },
            "colorscale": [
             [
              0,
              "#0d0887"
             ],
             [
              0.1111111111111111,
              "#46039f"
             ],
             [
              0.2222222222222222,
              "#7201a8"
             ],
             [
              0.3333333333333333,
              "#9c179e"
             ],
             [
              0.4444444444444444,
              "#bd3786"
             ],
             [
              0.5555555555555556,
              "#d8576b"
             ],
             [
              0.6666666666666666,
              "#ed7953"
             ],
             [
              0.7777777777777778,
              "#fb9f3a"
             ],
             [
              0.8888888888888888,
              "#fdca26"
             ],
             [
              1,
              "#f0f921"
             ]
            ],
            "type": "contour"
           }
          ],
          "contourcarpet": [
           {
            "colorbar": {
             "outlinewidth": 0,
             "ticks": ""
            },
            "type": "contourcarpet"
           }
          ],
          "heatmap": [
           {
            "colorbar": {
             "outlinewidth": 0,
             "ticks": ""
            },
            "colorscale": [
             [
              0,
              "#0d0887"
             ],
             [
              0.1111111111111111,
              "#46039f"
             ],
             [
              0.2222222222222222,
              "#7201a8"
             ],
             [
              0.3333333333333333,
              "#9c179e"
             ],
             [
              0.4444444444444444,
              "#bd3786"
             ],
             [
              0.5555555555555556,
              "#d8576b"
             ],
             [
              0.6666666666666666,
              "#ed7953"
             ],
             [
              0.7777777777777778,
              "#fb9f3a"
             ],
             [
              0.8888888888888888,
              "#fdca26"
             ],
             [
              1,
              "#f0f921"
             ]
            ],
            "type": "heatmap"
           }
          ],
          "heatmapgl": [
           {
            "colorbar": {
             "outlinewidth": 0,
             "ticks": ""
            },
            "colorscale": [
             [
              0,
              "#0d0887"
             ],
             [
              0.1111111111111111,
              "#46039f"
             ],
             [
              0.2222222222222222,
              "#7201a8"
             ],
             [
              0.3333333333333333,
              "#9c179e"
             ],
             [
              0.4444444444444444,
              "#bd3786"
             ],
             [
              0.5555555555555556,
              "#d8576b"
             ],
             [
              0.6666666666666666,
              "#ed7953"
             ],
             [
              0.7777777777777778,
              "#fb9f3a"
             ],
             [
              0.8888888888888888,
              "#fdca26"
             ],
             [
              1,
              "#f0f921"
             ]
            ],
            "type": "heatmapgl"
           }
          ],
          "histogram": [
           {
            "marker": {
             "pattern": {
              "fillmode": "overlay",
              "size": 10,
              "solidity": 0.2
             }
            },
            "type": "histogram"
           }
          ],
          "histogram2d": [
           {
            "colorbar": {
             "outlinewidth": 0,
             "ticks": ""
            },
            "colorscale": [
             [
              0,
              "#0d0887"
             ],
             [
              0.1111111111111111,
              "#46039f"
             ],
             [
              0.2222222222222222,
              "#7201a8"
             ],
             [
              0.3333333333333333,
              "#9c179e"
             ],
             [
              0.4444444444444444,
              "#bd3786"
             ],
             [
              0.5555555555555556,
              "#d8576b"
             ],
             [
              0.6666666666666666,
              "#ed7953"
             ],
             [
              0.7777777777777778,
              "#fb9f3a"
             ],
             [
              0.8888888888888888,
              "#fdca26"
             ],
             [
              1,
              "#f0f921"
             ]
            ],
            "type": "histogram2d"
           }
          ],
          "histogram2dcontour": [
           {
            "colorbar": {
             "outlinewidth": 0,
             "ticks": ""
            },
            "colorscale": [
             [
              0,
              "#0d0887"
             ],
             [
              0.1111111111111111,
              "#46039f"
             ],
             [
              0.2222222222222222,
              "#7201a8"
             ],
             [
              0.3333333333333333,
              "#9c179e"
             ],
             [
              0.4444444444444444,
              "#bd3786"
             ],
             [
              0.5555555555555556,
              "#d8576b"
             ],
             [
              0.6666666666666666,
              "#ed7953"
             ],
             [
              0.7777777777777778,
              "#fb9f3a"
             ],
             [
              0.8888888888888888,
              "#fdca26"
             ],
             [
              1,
              "#f0f921"
             ]
            ],
            "type": "histogram2dcontour"
           }
          ],
          "mesh3d": [
           {
            "colorbar": {
             "outlinewidth": 0,
             "ticks": ""
            },
            "type": "mesh3d"
           }
          ],
          "parcoords": [
           {
            "line": {
             "colorbar": {
              "outlinewidth": 0,
              "ticks": ""
             }
            },
            "type": "parcoords"
           }
          ],
          "pie": [
           {
            "automargin": true,
            "type": "pie"
           }
          ],
          "scatter": [
           {
            "fillpattern": {
             "fillmode": "overlay",
             "size": 10,
             "solidity": 0.2
            },
            "type": "scatter"
           }
          ],
          "scatter3d": [
           {
            "line": {
             "colorbar": {
              "outlinewidth": 0,
              "ticks": ""
             }
            },
            "marker": {
             "colorbar": {
              "outlinewidth": 0,
              "ticks": ""
             }
            },
            "type": "scatter3d"
           }
          ],
          "scattercarpet": [
           {
            "marker": {
             "colorbar": {
              "outlinewidth": 0,
              "ticks": ""
             }
            },
            "type": "scattercarpet"
           }
          ],
          "scattergeo": [
           {
            "marker": {
             "colorbar": {
              "outlinewidth": 0,
              "ticks": ""
             }
            },
            "type": "scattergeo"
           }
          ],
          "scattergl": [
           {
            "marker": {
             "colorbar": {
              "outlinewidth": 0,
              "ticks": ""
             }
            },
            "type": "scattergl"
           }
          ],
          "scattermapbox": [
           {
            "marker": {
             "colorbar": {
              "outlinewidth": 0,
              "ticks": ""
             }
            },
            "type": "scattermapbox"
           }
          ],
          "scatterpolar": [
           {
            "marker": {
             "colorbar": {
              "outlinewidth": 0,
              "ticks": ""
             }
            },
            "type": "scatterpolar"
           }
          ],
          "scatterpolargl": [
           {
            "marker": {
             "colorbar": {
              "outlinewidth": 0,
              "ticks": ""
             }
            },
            "type": "scatterpolargl"
           }
          ],
          "scatterternary": [
           {
            "marker": {
             "colorbar": {
              "outlinewidth": 0,
              "ticks": ""
             }
            },
            "type": "scatterternary"
           }
          ],
          "surface": [
           {
            "colorbar": {
             "outlinewidth": 0,
             "ticks": ""
            },
            "colorscale": [
             [
              0,
              "#0d0887"
             ],
             [
              0.1111111111111111,
              "#46039f"
             ],
             [
              0.2222222222222222,
              "#7201a8"
             ],
             [
              0.3333333333333333,
              "#9c179e"
             ],
             [
              0.4444444444444444,
              "#bd3786"
             ],
             [
              0.5555555555555556,
              "#d8576b"
             ],
             [
              0.6666666666666666,
              "#ed7953"
             ],
             [
              0.7777777777777778,
              "#fb9f3a"
             ],
             [
              0.8888888888888888,
              "#fdca26"
             ],
             [
              1,
              "#f0f921"
             ]
            ],
            "type": "surface"
           }
          ],
          "table": [
           {
            "cells": {
             "fill": {
              "color": "#EBF0F8"
             },
             "line": {
              "color": "white"
             }
            },
            "header": {
             "fill": {
              "color": "#C8D4E3"
             },
             "line": {
              "color": "white"
             }
            },
            "type": "table"
           }
          ]
         },
         "layout": {
          "annotationdefaults": {
           "arrowcolor": "#2a3f5f",
           "arrowhead": 0,
           "arrowwidth": 1
          },
          "autotypenumbers": "strict",
          "coloraxis": {
           "colorbar": {
            "outlinewidth": 0,
            "ticks": ""
           }
          },
          "colorscale": {
           "diverging": [
            [
             0,
             "#8e0152"
            ],
            [
             0.1,
             "#c51b7d"
            ],
            [
             0.2,
             "#de77ae"
            ],
            [
             0.3,
             "#f1b6da"
            ],
            [
             0.4,
             "#fde0ef"
            ],
            [
             0.5,
             "#f7f7f7"
            ],
            [
             0.6,
             "#e6f5d0"
            ],
            [
             0.7,
             "#b8e186"
            ],
            [
             0.8,
             "#7fbc41"
            ],
            [
             0.9,
             "#4d9221"
            ],
            [
             1,
             "#276419"
            ]
           ],
           "sequential": [
            [
             0,
             "#0d0887"
            ],
            [
             0.1111111111111111,
             "#46039f"
            ],
            [
             0.2222222222222222,
             "#7201a8"
            ],
            [
             0.3333333333333333,
             "#9c179e"
            ],
            [
             0.4444444444444444,
             "#bd3786"
            ],
            [
             0.5555555555555556,
             "#d8576b"
            ],
            [
             0.6666666666666666,
             "#ed7953"
            ],
            [
             0.7777777777777778,
             "#fb9f3a"
            ],
            [
             0.8888888888888888,
             "#fdca26"
            ],
            [
             1,
             "#f0f921"
            ]
           ],
           "sequentialminus": [
            [
             0,
             "#0d0887"
            ],
            [
             0.1111111111111111,
             "#46039f"
            ],
            [
             0.2222222222222222,
             "#7201a8"
            ],
            [
             0.3333333333333333,
             "#9c179e"
            ],
            [
             0.4444444444444444,
             "#bd3786"
            ],
            [
             0.5555555555555556,
             "#d8576b"
            ],
            [
             0.6666666666666666,
             "#ed7953"
            ],
            [
             0.7777777777777778,
             "#fb9f3a"
            ],
            [
             0.8888888888888888,
             "#fdca26"
            ],
            [
             1,
             "#f0f921"
            ]
           ]
          },
          "colorway": [
           "#636efa",
           "#EF553B",
           "#00cc96",
           "#ab63fa",
           "#FFA15A",
           "#19d3f3",
           "#FF6692",
           "#B6E880",
           "#FF97FF",
           "#FECB52"
          ],
          "font": {
           "color": "#2a3f5f"
          },
          "geo": {
           "bgcolor": "white",
           "lakecolor": "white",
           "landcolor": "#E5ECF6",
           "showlakes": true,
           "showland": true,
           "subunitcolor": "white"
          },
          "hoverlabel": {
           "align": "left"
          },
          "hovermode": "closest",
          "mapbox": {
           "style": "light"
          },
          "paper_bgcolor": "white",
          "plot_bgcolor": "#E5ECF6",
          "polar": {
           "angularaxis": {
            "gridcolor": "white",
            "linecolor": "white",
            "ticks": ""
           },
           "bgcolor": "#E5ECF6",
           "radialaxis": {
            "gridcolor": "white",
            "linecolor": "white",
            "ticks": ""
           }
          },
          "scene": {
           "xaxis": {
            "backgroundcolor": "#E5ECF6",
            "gridcolor": "white",
            "gridwidth": 2,
            "linecolor": "white",
            "showbackground": true,
            "ticks": "",
            "zerolinecolor": "white"
           },
           "yaxis": {
            "backgroundcolor": "#E5ECF6",
            "gridcolor": "white",
            "gridwidth": 2,
            "linecolor": "white",
            "showbackground": true,
            "ticks": "",
            "zerolinecolor": "white"
           },
           "zaxis": {
            "backgroundcolor": "#E5ECF6",
            "gridcolor": "white",
            "gridwidth": 2,
            "linecolor": "white",
            "showbackground": true,
            "ticks": "",
            "zerolinecolor": "white"
           }
          },
          "shapedefaults": {
           "line": {
            "color": "#2a3f5f"
           }
          },
          "ternary": {
           "aaxis": {
            "gridcolor": "white",
            "linecolor": "white",
            "ticks": ""
           },
           "baxis": {
            "gridcolor": "white",
            "linecolor": "white",
            "ticks": ""
           },
           "bgcolor": "#E5ECF6",
           "caxis": {
            "gridcolor": "white",
            "linecolor": "white",
            "ticks": ""
           }
          },
          "title": {
           "x": 0.05
          },
          "xaxis": {
           "automargin": true,
           "gridcolor": "white",
           "linecolor": "white",
           "ticks": "",
           "title": {
            "standoff": 15
           },
           "zerolinecolor": "white",
           "zerolinewidth": 2
          },
          "yaxis": {
           "automargin": true,
           "gridcolor": "white",
           "linecolor": "white",
           "ticks": "",
           "title": {
            "standoff": 15
           },
           "zerolinecolor": "white",
           "zerolinewidth": 2
          }
         }
        },
        "title": {
         "text": "Not Spiled"
        },
        "xaxis": {
         "gridcolor": "rgb(0, 0, 0)",
         "showticklabels": false,
         "side": "top",
         "ticks": ""
        },
        "yaxis": {
         "showticklabels": false,
         "ticks": "",
         "ticksuffix": "  "
        }
       }
      },
      "text/html": [
       "<div>                            <div id=\"c625919a-3f71-4a2e-9d4e-301ff9079cb0\" class=\"plotly-graph-div\" style=\"height:525px; width:100%;\"></div>            <script type=\"text/javascript\">                require([\"plotly\"], function(Plotly) {                    window.PLOTLYENV=window.PLOTLYENV || {};                                    if (document.getElementById(\"c625919a-3f71-4a2e-9d4e-301ff9079cb0\")) {                    Plotly.newPlot(                        \"c625919a-3f71-4a2e-9d4e-301ff9079cb0\",                        [{\"colorscale\":[[0.0,\"#0d0887\"],[0.1111111111111111,\"#46039f\"],[0.2222222222222222,\"#7201a8\"],[0.3333333333333333,\"#9c179e\"],[0.4444444444444444,\"#bd3786\"],[0.5555555555555556,\"#d8576b\"],[0.6666666666666666,\"#ed7953\"],[0.7777777777777778,\"#fb9f3a\"],[0.8888888888888888,\"#fdca26\"],[1.0,\"#f0f921\"]],\"reversescale\":false,\"showscale\":true,\"z\":[[0.4,0.4,0.41,0.41,0.42,0.42,0.41,0.41,0.39,0.37,0.35,0.34,0.34],[0.42,0.41,0.41,0.42,0.43,0.42,0.42,0.41,0.41,0.38,0.35,0.34,0.34],[0.46,0.44,0.41,0.41,0.43,0.43,0.42,0.42,0.4,0.38,0.36,0.35,0.35],[0.48,0.45,0.41,0.41,0.4,0.41,0.42,0.41,0.39,0.38,0.37,0.37,0.37],[0.48,0.46,0.43,0.39,0.39,0.39,0.4,0.41,0.39,0.38,0.37,0.38,0.38],[0.46,0.45,0.42,0.39,0.37,0.38,0.39,0.4,0.38,0.38,0.37,0.37,0.38],[0.46,0.42,0.38,0.36,0.37,0.38,0.38,0.38,0.38,0.38,0.37,0.37,0.36],[0.43,0.38,0.34,0.33,0.33,0.36,0.37,0.37,0.37,0.37,0.36,0.35,0.36],[0.48,0.43,0.38,0.34,0.33,0.35,0.36,0.37,0.37,0.36,0.35,0.35,0.35],[0.59,0.55,0.5,0.44,0.38,0.35,0.35,0.36,0.36,0.34,0.33,0.33,0.34],[0.69,0.65,0.6,0.57,0.51,0.39,0.35,0.34,0.34,0.33,0.33,0.34,0.34],[0.78,0.74,0.68,0.63,0.53,0.39,0.35,0.33,0.33,0.32,0.33,0.34,0.35],[0.8,0.78,0.73,0.66,0.54,0.41,0.34,0.33,0.32,0.32,0.33,0.35,0.35]],\"type\":\"heatmap\"}],                        {\"annotations\":[{\"font\":{\"color\":\"#FFFFFF\",\"size\":7},\"showarrow\":false,\"text\":\"0.4\",\"x\":0,\"xref\":\"x\",\"y\":0,\"yref\":\"y\"},{\"font\":{\"color\":\"#FFFFFF\",\"size\":7},\"showarrow\":false,\"text\":\"0.4\",\"x\":1,\"xref\":\"x\",\"y\":0,\"yref\":\"y\"},{\"font\":{\"color\":\"#FFFFFF\",\"size\":7},\"showarrow\":false,\"text\":\"0.41\",\"x\":2,\"xref\":\"x\",\"y\":0,\"yref\":\"y\"},{\"font\":{\"color\":\"#FFFFFF\",\"size\":7},\"showarrow\":false,\"text\":\"0.41\",\"x\":3,\"xref\":\"x\",\"y\":0,\"yref\":\"y\"},{\"font\":{\"color\":\"#FFFFFF\",\"size\":7},\"showarrow\":false,\"text\":\"0.42\",\"x\":4,\"xref\":\"x\",\"y\":0,\"yref\":\"y\"},{\"font\":{\"color\":\"#FFFFFF\",\"size\":7},\"showarrow\":false,\"text\":\"0.42\",\"x\":5,\"xref\":\"x\",\"y\":0,\"yref\":\"y\"},{\"font\":{\"color\":\"#FFFFFF\",\"size\":7},\"showarrow\":false,\"text\":\"0.41\",\"x\":6,\"xref\":\"x\",\"y\":0,\"yref\":\"y\"},{\"font\":{\"color\":\"#FFFFFF\",\"size\":7},\"showarrow\":false,\"text\":\"0.41\",\"x\":7,\"xref\":\"x\",\"y\":0,\"yref\":\"y\"},{\"font\":{\"color\":\"#FFFFFF\",\"size\":7},\"showarrow\":false,\"text\":\"0.39\",\"x\":8,\"xref\":\"x\",\"y\":0,\"yref\":\"y\"},{\"font\":{\"color\":\"#FFFFFF\",\"size\":7},\"showarrow\":false,\"text\":\"0.37\",\"x\":9,\"xref\":\"x\",\"y\":0,\"yref\":\"y\"},{\"font\":{\"color\":\"#FFFFFF\",\"size\":7},\"showarrow\":false,\"text\":\"0.35\",\"x\":10,\"xref\":\"x\",\"y\":0,\"yref\":\"y\"},{\"font\":{\"color\":\"#FFFFFF\",\"size\":7},\"showarrow\":false,\"text\":\"0.34\",\"x\":11,\"xref\":\"x\",\"y\":0,\"yref\":\"y\"},{\"font\":{\"color\":\"#FFFFFF\",\"size\":7},\"showarrow\":false,\"text\":\"0.34\",\"x\":12,\"xref\":\"x\",\"y\":0,\"yref\":\"y\"},{\"font\":{\"color\":\"#FFFFFF\",\"size\":7},\"showarrow\":false,\"text\":\"0.42\",\"x\":0,\"xref\":\"x\",\"y\":1,\"yref\":\"y\"},{\"font\":{\"color\":\"#FFFFFF\",\"size\":7},\"showarrow\":false,\"text\":\"0.41\",\"x\":1,\"xref\":\"x\",\"y\":1,\"yref\":\"y\"},{\"font\":{\"color\":\"#FFFFFF\",\"size\":7},\"showarrow\":false,\"text\":\"0.41\",\"x\":2,\"xref\":\"x\",\"y\":1,\"yref\":\"y\"},{\"font\":{\"color\":\"#FFFFFF\",\"size\":7},\"showarrow\":false,\"text\":\"0.42\",\"x\":3,\"xref\":\"x\",\"y\":1,\"yref\":\"y\"},{\"font\":{\"color\":\"#FFFFFF\",\"size\":7},\"showarrow\":false,\"text\":\"0.43\",\"x\":4,\"xref\":\"x\",\"y\":1,\"yref\":\"y\"},{\"font\":{\"color\":\"#FFFFFF\",\"size\":7},\"showarrow\":false,\"text\":\"0.42\",\"x\":5,\"xref\":\"x\",\"y\":1,\"yref\":\"y\"},{\"font\":{\"color\":\"#FFFFFF\",\"size\":7},\"showarrow\":false,\"text\":\"0.42\",\"x\":6,\"xref\":\"x\",\"y\":1,\"yref\":\"y\"},{\"font\":{\"color\":\"#FFFFFF\",\"size\":7},\"showarrow\":false,\"text\":\"0.41\",\"x\":7,\"xref\":\"x\",\"y\":1,\"yref\":\"y\"},{\"font\":{\"color\":\"#FFFFFF\",\"size\":7},\"showarrow\":false,\"text\":\"0.41\",\"x\":8,\"xref\":\"x\",\"y\":1,\"yref\":\"y\"},{\"font\":{\"color\":\"#FFFFFF\",\"size\":7},\"showarrow\":false,\"text\":\"0.38\",\"x\":9,\"xref\":\"x\",\"y\":1,\"yref\":\"y\"},{\"font\":{\"color\":\"#FFFFFF\",\"size\":7},\"showarrow\":false,\"text\":\"0.35\",\"x\":10,\"xref\":\"x\",\"y\":1,\"yref\":\"y\"},{\"font\":{\"color\":\"#FFFFFF\",\"size\":7},\"showarrow\":false,\"text\":\"0.34\",\"x\":11,\"xref\":\"x\",\"y\":1,\"yref\":\"y\"},{\"font\":{\"color\":\"#FFFFFF\",\"size\":7},\"showarrow\":false,\"text\":\"0.34\",\"x\":12,\"xref\":\"x\",\"y\":1,\"yref\":\"y\"},{\"font\":{\"color\":\"#FFFFFF\",\"size\":7},\"showarrow\":false,\"text\":\"0.46\",\"x\":0,\"xref\":\"x\",\"y\":2,\"yref\":\"y\"},{\"font\":{\"color\":\"#FFFFFF\",\"size\":7},\"showarrow\":false,\"text\":\"0.44\",\"x\":1,\"xref\":\"x\",\"y\":2,\"yref\":\"y\"},{\"font\":{\"color\":\"#FFFFFF\",\"size\":7},\"showarrow\":false,\"text\":\"0.41\",\"x\":2,\"xref\":\"x\",\"y\":2,\"yref\":\"y\"},{\"font\":{\"color\":\"#FFFFFF\",\"size\":7},\"showarrow\":false,\"text\":\"0.41\",\"x\":3,\"xref\":\"x\",\"y\":2,\"yref\":\"y\"},{\"font\":{\"color\":\"#FFFFFF\",\"size\":7},\"showarrow\":false,\"text\":\"0.43\",\"x\":4,\"xref\":\"x\",\"y\":2,\"yref\":\"y\"},{\"font\":{\"color\":\"#FFFFFF\",\"size\":7},\"showarrow\":false,\"text\":\"0.43\",\"x\":5,\"xref\":\"x\",\"y\":2,\"yref\":\"y\"},{\"font\":{\"color\":\"#FFFFFF\",\"size\":7},\"showarrow\":false,\"text\":\"0.42\",\"x\":6,\"xref\":\"x\",\"y\":2,\"yref\":\"y\"},{\"font\":{\"color\":\"#FFFFFF\",\"size\":7},\"showarrow\":false,\"text\":\"0.42\",\"x\":7,\"xref\":\"x\",\"y\":2,\"yref\":\"y\"},{\"font\":{\"color\":\"#FFFFFF\",\"size\":7},\"showarrow\":false,\"text\":\"0.4\",\"x\":8,\"xref\":\"x\",\"y\":2,\"yref\":\"y\"},{\"font\":{\"color\":\"#FFFFFF\",\"size\":7},\"showarrow\":false,\"text\":\"0.38\",\"x\":9,\"xref\":\"x\",\"y\":2,\"yref\":\"y\"},{\"font\":{\"color\":\"#FFFFFF\",\"size\":7},\"showarrow\":false,\"text\":\"0.36\",\"x\":10,\"xref\":\"x\",\"y\":2,\"yref\":\"y\"},{\"font\":{\"color\":\"#FFFFFF\",\"size\":7},\"showarrow\":false,\"text\":\"0.35\",\"x\":11,\"xref\":\"x\",\"y\":2,\"yref\":\"y\"},{\"font\":{\"color\":\"#FFFFFF\",\"size\":7},\"showarrow\":false,\"text\":\"0.35\",\"x\":12,\"xref\":\"x\",\"y\":2,\"yref\":\"y\"},{\"font\":{\"color\":\"#FFFFFF\",\"size\":7},\"showarrow\":false,\"text\":\"0.48\",\"x\":0,\"xref\":\"x\",\"y\":3,\"yref\":\"y\"},{\"font\":{\"color\":\"#FFFFFF\",\"size\":7},\"showarrow\":false,\"text\":\"0.45\",\"x\":1,\"xref\":\"x\",\"y\":3,\"yref\":\"y\"},{\"font\":{\"color\":\"#FFFFFF\",\"size\":7},\"showarrow\":false,\"text\":\"0.41\",\"x\":2,\"xref\":\"x\",\"y\":3,\"yref\":\"y\"},{\"font\":{\"color\":\"#FFFFFF\",\"size\":7},\"showarrow\":false,\"text\":\"0.41\",\"x\":3,\"xref\":\"x\",\"y\":3,\"yref\":\"y\"},{\"font\":{\"color\":\"#FFFFFF\",\"size\":7},\"showarrow\":false,\"text\":\"0.4\",\"x\":4,\"xref\":\"x\",\"y\":3,\"yref\":\"y\"},{\"font\":{\"color\":\"#FFFFFF\",\"size\":7},\"showarrow\":false,\"text\":\"0.41\",\"x\":5,\"xref\":\"x\",\"y\":3,\"yref\":\"y\"},{\"font\":{\"color\":\"#FFFFFF\",\"size\":7},\"showarrow\":false,\"text\":\"0.42\",\"x\":6,\"xref\":\"x\",\"y\":3,\"yref\":\"y\"},{\"font\":{\"color\":\"#FFFFFF\",\"size\":7},\"showarrow\":false,\"text\":\"0.41\",\"x\":7,\"xref\":\"x\",\"y\":3,\"yref\":\"y\"},{\"font\":{\"color\":\"#FFFFFF\",\"size\":7},\"showarrow\":false,\"text\":\"0.39\",\"x\":8,\"xref\":\"x\",\"y\":3,\"yref\":\"y\"},{\"font\":{\"color\":\"#FFFFFF\",\"size\":7},\"showarrow\":false,\"text\":\"0.38\",\"x\":9,\"xref\":\"x\",\"y\":3,\"yref\":\"y\"},{\"font\":{\"color\":\"#FFFFFF\",\"size\":7},\"showarrow\":false,\"text\":\"0.37\",\"x\":10,\"xref\":\"x\",\"y\":3,\"yref\":\"y\"},{\"font\":{\"color\":\"#FFFFFF\",\"size\":7},\"showarrow\":false,\"text\":\"0.37\",\"x\":11,\"xref\":\"x\",\"y\":3,\"yref\":\"y\"},{\"font\":{\"color\":\"#FFFFFF\",\"size\":7},\"showarrow\":false,\"text\":\"0.37\",\"x\":12,\"xref\":\"x\",\"y\":3,\"yref\":\"y\"},{\"font\":{\"color\":\"#FFFFFF\",\"size\":7},\"showarrow\":false,\"text\":\"0.48\",\"x\":0,\"xref\":\"x\",\"y\":4,\"yref\":\"y\"},{\"font\":{\"color\":\"#FFFFFF\",\"size\":7},\"showarrow\":false,\"text\":\"0.46\",\"x\":1,\"xref\":\"x\",\"y\":4,\"yref\":\"y\"},{\"font\":{\"color\":\"#FFFFFF\",\"size\":7},\"showarrow\":false,\"text\":\"0.43\",\"x\":2,\"xref\":\"x\",\"y\":4,\"yref\":\"y\"},{\"font\":{\"color\":\"#FFFFFF\",\"size\":7},\"showarrow\":false,\"text\":\"0.39\",\"x\":3,\"xref\":\"x\",\"y\":4,\"yref\":\"y\"},{\"font\":{\"color\":\"#FFFFFF\",\"size\":7},\"showarrow\":false,\"text\":\"0.39\",\"x\":4,\"xref\":\"x\",\"y\":4,\"yref\":\"y\"},{\"font\":{\"color\":\"#FFFFFF\",\"size\":7},\"showarrow\":false,\"text\":\"0.39\",\"x\":5,\"xref\":\"x\",\"y\":4,\"yref\":\"y\"},{\"font\":{\"color\":\"#FFFFFF\",\"size\":7},\"showarrow\":false,\"text\":\"0.4\",\"x\":6,\"xref\":\"x\",\"y\":4,\"yref\":\"y\"},{\"font\":{\"color\":\"#FFFFFF\",\"size\":7},\"showarrow\":false,\"text\":\"0.41\",\"x\":7,\"xref\":\"x\",\"y\":4,\"yref\":\"y\"},{\"font\":{\"color\":\"#FFFFFF\",\"size\":7},\"showarrow\":false,\"text\":\"0.39\",\"x\":8,\"xref\":\"x\",\"y\":4,\"yref\":\"y\"},{\"font\":{\"color\":\"#FFFFFF\",\"size\":7},\"showarrow\":false,\"text\":\"0.38\",\"x\":9,\"xref\":\"x\",\"y\":4,\"yref\":\"y\"},{\"font\":{\"color\":\"#FFFFFF\",\"size\":7},\"showarrow\":false,\"text\":\"0.37\",\"x\":10,\"xref\":\"x\",\"y\":4,\"yref\":\"y\"},{\"font\":{\"color\":\"#FFFFFF\",\"size\":7},\"showarrow\":false,\"text\":\"0.38\",\"x\":11,\"xref\":\"x\",\"y\":4,\"yref\":\"y\"},{\"font\":{\"color\":\"#FFFFFF\",\"size\":7},\"showarrow\":false,\"text\":\"0.38\",\"x\":12,\"xref\":\"x\",\"y\":4,\"yref\":\"y\"},{\"font\":{\"color\":\"#FFFFFF\",\"size\":7},\"showarrow\":false,\"text\":\"0.46\",\"x\":0,\"xref\":\"x\",\"y\":5,\"yref\":\"y\"},{\"font\":{\"color\":\"#FFFFFF\",\"size\":7},\"showarrow\":false,\"text\":\"0.45\",\"x\":1,\"xref\":\"x\",\"y\":5,\"yref\":\"y\"},{\"font\":{\"color\":\"#FFFFFF\",\"size\":7},\"showarrow\":false,\"text\":\"0.42\",\"x\":2,\"xref\":\"x\",\"y\":5,\"yref\":\"y\"},{\"font\":{\"color\":\"#FFFFFF\",\"size\":7},\"showarrow\":false,\"text\":\"0.39\",\"x\":3,\"xref\":\"x\",\"y\":5,\"yref\":\"y\"},{\"font\":{\"color\":\"#FFFFFF\",\"size\":7},\"showarrow\":false,\"text\":\"0.37\",\"x\":4,\"xref\":\"x\",\"y\":5,\"yref\":\"y\"},{\"font\":{\"color\":\"#FFFFFF\",\"size\":7},\"showarrow\":false,\"text\":\"0.38\",\"x\":5,\"xref\":\"x\",\"y\":5,\"yref\":\"y\"},{\"font\":{\"color\":\"#FFFFFF\",\"size\":7},\"showarrow\":false,\"text\":\"0.39\",\"x\":6,\"xref\":\"x\",\"y\":5,\"yref\":\"y\"},{\"font\":{\"color\":\"#FFFFFF\",\"size\":7},\"showarrow\":false,\"text\":\"0.4\",\"x\":7,\"xref\":\"x\",\"y\":5,\"yref\":\"y\"},{\"font\":{\"color\":\"#FFFFFF\",\"size\":7},\"showarrow\":false,\"text\":\"0.38\",\"x\":8,\"xref\":\"x\",\"y\":5,\"yref\":\"y\"},{\"font\":{\"color\":\"#FFFFFF\",\"size\":7},\"showarrow\":false,\"text\":\"0.38\",\"x\":9,\"xref\":\"x\",\"y\":5,\"yref\":\"y\"},{\"font\":{\"color\":\"#FFFFFF\",\"size\":7},\"showarrow\":false,\"text\":\"0.37\",\"x\":10,\"xref\":\"x\",\"y\":5,\"yref\":\"y\"},{\"font\":{\"color\":\"#FFFFFF\",\"size\":7},\"showarrow\":false,\"text\":\"0.37\",\"x\":11,\"xref\":\"x\",\"y\":5,\"yref\":\"y\"},{\"font\":{\"color\":\"#FFFFFF\",\"size\":7},\"showarrow\":false,\"text\":\"0.38\",\"x\":12,\"xref\":\"x\",\"y\":5,\"yref\":\"y\"},{\"font\":{\"color\":\"#FFFFFF\",\"size\":7},\"showarrow\":false,\"text\":\"0.46\",\"x\":0,\"xref\":\"x\",\"y\":6,\"yref\":\"y\"},{\"font\":{\"color\":\"#FFFFFF\",\"size\":7},\"showarrow\":false,\"text\":\"0.42\",\"x\":1,\"xref\":\"x\",\"y\":6,\"yref\":\"y\"},{\"font\":{\"color\":\"#FFFFFF\",\"size\":7},\"showarrow\":false,\"text\":\"0.38\",\"x\":2,\"xref\":\"x\",\"y\":6,\"yref\":\"y\"},{\"font\":{\"color\":\"#FFFFFF\",\"size\":7},\"showarrow\":false,\"text\":\"0.36\",\"x\":3,\"xref\":\"x\",\"y\":6,\"yref\":\"y\"},{\"font\":{\"color\":\"#FFFFFF\",\"size\":7},\"showarrow\":false,\"text\":\"0.37\",\"x\":4,\"xref\":\"x\",\"y\":6,\"yref\":\"y\"},{\"font\":{\"color\":\"#FFFFFF\",\"size\":7},\"showarrow\":false,\"text\":\"0.38\",\"x\":5,\"xref\":\"x\",\"y\":6,\"yref\":\"y\"},{\"font\":{\"color\":\"#FFFFFF\",\"size\":7},\"showarrow\":false,\"text\":\"0.38\",\"x\":6,\"xref\":\"x\",\"y\":6,\"yref\":\"y\"},{\"font\":{\"color\":\"#FFFFFF\",\"size\":7},\"showarrow\":false,\"text\":\"0.38\",\"x\":7,\"xref\":\"x\",\"y\":6,\"yref\":\"y\"},{\"font\":{\"color\":\"#FFFFFF\",\"size\":7},\"showarrow\":false,\"text\":\"0.38\",\"x\":8,\"xref\":\"x\",\"y\":6,\"yref\":\"y\"},{\"font\":{\"color\":\"#FFFFFF\",\"size\":7},\"showarrow\":false,\"text\":\"0.38\",\"x\":9,\"xref\":\"x\",\"y\":6,\"yref\":\"y\"},{\"font\":{\"color\":\"#FFFFFF\",\"size\":7},\"showarrow\":false,\"text\":\"0.37\",\"x\":10,\"xref\":\"x\",\"y\":6,\"yref\":\"y\"},{\"font\":{\"color\":\"#FFFFFF\",\"size\":7},\"showarrow\":false,\"text\":\"0.37\",\"x\":11,\"xref\":\"x\",\"y\":6,\"yref\":\"y\"},{\"font\":{\"color\":\"#FFFFFF\",\"size\":7},\"showarrow\":false,\"text\":\"0.36\",\"x\":12,\"xref\":\"x\",\"y\":6,\"yref\":\"y\"},{\"font\":{\"color\":\"#FFFFFF\",\"size\":7},\"showarrow\":false,\"text\":\"0.43\",\"x\":0,\"xref\":\"x\",\"y\":7,\"yref\":\"y\"},{\"font\":{\"color\":\"#FFFFFF\",\"size\":7},\"showarrow\":false,\"text\":\"0.38\",\"x\":1,\"xref\":\"x\",\"y\":7,\"yref\":\"y\"},{\"font\":{\"color\":\"#FFFFFF\",\"size\":7},\"showarrow\":false,\"text\":\"0.34\",\"x\":2,\"xref\":\"x\",\"y\":7,\"yref\":\"y\"},{\"font\":{\"color\":\"#FFFFFF\",\"size\":7},\"showarrow\":false,\"text\":\"0.33\",\"x\":3,\"xref\":\"x\",\"y\":7,\"yref\":\"y\"},{\"font\":{\"color\":\"#FFFFFF\",\"size\":7},\"showarrow\":false,\"text\":\"0.33\",\"x\":4,\"xref\":\"x\",\"y\":7,\"yref\":\"y\"},{\"font\":{\"color\":\"#FFFFFF\",\"size\":7},\"showarrow\":false,\"text\":\"0.36\",\"x\":5,\"xref\":\"x\",\"y\":7,\"yref\":\"y\"},{\"font\":{\"color\":\"#FFFFFF\",\"size\":7},\"showarrow\":false,\"text\":\"0.37\",\"x\":6,\"xref\":\"x\",\"y\":7,\"yref\":\"y\"},{\"font\":{\"color\":\"#FFFFFF\",\"size\":7},\"showarrow\":false,\"text\":\"0.37\",\"x\":7,\"xref\":\"x\",\"y\":7,\"yref\":\"y\"},{\"font\":{\"color\":\"#FFFFFF\",\"size\":7},\"showarrow\":false,\"text\":\"0.37\",\"x\":8,\"xref\":\"x\",\"y\":7,\"yref\":\"y\"},{\"font\":{\"color\":\"#FFFFFF\",\"size\":7},\"showarrow\":false,\"text\":\"0.37\",\"x\":9,\"xref\":\"x\",\"y\":7,\"yref\":\"y\"},{\"font\":{\"color\":\"#FFFFFF\",\"size\":7},\"showarrow\":false,\"text\":\"0.36\",\"x\":10,\"xref\":\"x\",\"y\":7,\"yref\":\"y\"},{\"font\":{\"color\":\"#FFFFFF\",\"size\":7},\"showarrow\":false,\"text\":\"0.35\",\"x\":11,\"xref\":\"x\",\"y\":7,\"yref\":\"y\"},{\"font\":{\"color\":\"#FFFFFF\",\"size\":7},\"showarrow\":false,\"text\":\"0.36\",\"x\":12,\"xref\":\"x\",\"y\":7,\"yref\":\"y\"},{\"font\":{\"color\":\"#FFFFFF\",\"size\":7},\"showarrow\":false,\"text\":\"0.48\",\"x\":0,\"xref\":\"x\",\"y\":8,\"yref\":\"y\"},{\"font\":{\"color\":\"#FFFFFF\",\"size\":7},\"showarrow\":false,\"text\":\"0.43\",\"x\":1,\"xref\":\"x\",\"y\":8,\"yref\":\"y\"},{\"font\":{\"color\":\"#FFFFFF\",\"size\":7},\"showarrow\":false,\"text\":\"0.38\",\"x\":2,\"xref\":\"x\",\"y\":8,\"yref\":\"y\"},{\"font\":{\"color\":\"#FFFFFF\",\"size\":7},\"showarrow\":false,\"text\":\"0.34\",\"x\":3,\"xref\":\"x\",\"y\":8,\"yref\":\"y\"},{\"font\":{\"color\":\"#FFFFFF\",\"size\":7},\"showarrow\":false,\"text\":\"0.33\",\"x\":4,\"xref\":\"x\",\"y\":8,\"yref\":\"y\"},{\"font\":{\"color\":\"#FFFFFF\",\"size\":7},\"showarrow\":false,\"text\":\"0.35\",\"x\":5,\"xref\":\"x\",\"y\":8,\"yref\":\"y\"},{\"font\":{\"color\":\"#FFFFFF\",\"size\":7},\"showarrow\":false,\"text\":\"0.36\",\"x\":6,\"xref\":\"x\",\"y\":8,\"yref\":\"y\"},{\"font\":{\"color\":\"#FFFFFF\",\"size\":7},\"showarrow\":false,\"text\":\"0.37\",\"x\":7,\"xref\":\"x\",\"y\":8,\"yref\":\"y\"},{\"font\":{\"color\":\"#FFFFFF\",\"size\":7},\"showarrow\":false,\"text\":\"0.37\",\"x\":8,\"xref\":\"x\",\"y\":8,\"yref\":\"y\"},{\"font\":{\"color\":\"#FFFFFF\",\"size\":7},\"showarrow\":false,\"text\":\"0.36\",\"x\":9,\"xref\":\"x\",\"y\":8,\"yref\":\"y\"},{\"font\":{\"color\":\"#FFFFFF\",\"size\":7},\"showarrow\":false,\"text\":\"0.35\",\"x\":10,\"xref\":\"x\",\"y\":8,\"yref\":\"y\"},{\"font\":{\"color\":\"#FFFFFF\",\"size\":7},\"showarrow\":false,\"text\":\"0.35\",\"x\":11,\"xref\":\"x\",\"y\":8,\"yref\":\"y\"},{\"font\":{\"color\":\"#FFFFFF\",\"size\":7},\"showarrow\":false,\"text\":\"0.35\",\"x\":12,\"xref\":\"x\",\"y\":8,\"yref\":\"y\"},{\"font\":{\"color\":\"#000000\",\"size\":7},\"showarrow\":false,\"text\":\"0.59\",\"x\":0,\"xref\":\"x\",\"y\":9,\"yref\":\"y\"},{\"font\":{\"color\":\"#FFFFFF\",\"size\":7},\"showarrow\":false,\"text\":\"0.55\",\"x\":1,\"xref\":\"x\",\"y\":9,\"yref\":\"y\"},{\"font\":{\"color\":\"#FFFFFF\",\"size\":7},\"showarrow\":false,\"text\":\"0.5\",\"x\":2,\"xref\":\"x\",\"y\":9,\"yref\":\"y\"},{\"font\":{\"color\":\"#FFFFFF\",\"size\":7},\"showarrow\":false,\"text\":\"0.44\",\"x\":3,\"xref\":\"x\",\"y\":9,\"yref\":\"y\"},{\"font\":{\"color\":\"#FFFFFF\",\"size\":7},\"showarrow\":false,\"text\":\"0.38\",\"x\":4,\"xref\":\"x\",\"y\":9,\"yref\":\"y\"},{\"font\":{\"color\":\"#FFFFFF\",\"size\":7},\"showarrow\":false,\"text\":\"0.35\",\"x\":5,\"xref\":\"x\",\"y\":9,\"yref\":\"y\"},{\"font\":{\"color\":\"#FFFFFF\",\"size\":7},\"showarrow\":false,\"text\":\"0.35\",\"x\":6,\"xref\":\"x\",\"y\":9,\"yref\":\"y\"},{\"font\":{\"color\":\"#FFFFFF\",\"size\":7},\"showarrow\":false,\"text\":\"0.36\",\"x\":7,\"xref\":\"x\",\"y\":9,\"yref\":\"y\"},{\"font\":{\"color\":\"#FFFFFF\",\"size\":7},\"showarrow\":false,\"text\":\"0.36\",\"x\":8,\"xref\":\"x\",\"y\":9,\"yref\":\"y\"},{\"font\":{\"color\":\"#FFFFFF\",\"size\":7},\"showarrow\":false,\"text\":\"0.34\",\"x\":9,\"xref\":\"x\",\"y\":9,\"yref\":\"y\"},{\"font\":{\"color\":\"#FFFFFF\",\"size\":7},\"showarrow\":false,\"text\":\"0.33\",\"x\":10,\"xref\":\"x\",\"y\":9,\"yref\":\"y\"},{\"font\":{\"color\":\"#FFFFFF\",\"size\":7},\"showarrow\":false,\"text\":\"0.33\",\"x\":11,\"xref\":\"x\",\"y\":9,\"yref\":\"y\"},{\"font\":{\"color\":\"#FFFFFF\",\"size\":7},\"showarrow\":false,\"text\":\"0.34\",\"x\":12,\"xref\":\"x\",\"y\":9,\"yref\":\"y\"},{\"font\":{\"color\":\"#000000\",\"size\":7},\"showarrow\":false,\"text\":\"0.69\",\"x\":0,\"xref\":\"x\",\"y\":10,\"yref\":\"y\"},{\"font\":{\"color\":\"#000000\",\"size\":7},\"showarrow\":false,\"text\":\"0.65\",\"x\":1,\"xref\":\"x\",\"y\":10,\"yref\":\"y\"},{\"font\":{\"color\":\"#000000\",\"size\":7},\"showarrow\":false,\"text\":\"0.6\",\"x\":2,\"xref\":\"x\",\"y\":10,\"yref\":\"y\"},{\"font\":{\"color\":\"#000000\",\"size\":7},\"showarrow\":false,\"text\":\"0.57\",\"x\":3,\"xref\":\"x\",\"y\":10,\"yref\":\"y\"},{\"font\":{\"color\":\"#FFFFFF\",\"size\":7},\"showarrow\":false,\"text\":\"0.51\",\"x\":4,\"xref\":\"x\",\"y\":10,\"yref\":\"y\"},{\"font\":{\"color\":\"#FFFFFF\",\"size\":7},\"showarrow\":false,\"text\":\"0.39\",\"x\":5,\"xref\":\"x\",\"y\":10,\"yref\":\"y\"},{\"font\":{\"color\":\"#FFFFFF\",\"size\":7},\"showarrow\":false,\"text\":\"0.35\",\"x\":6,\"xref\":\"x\",\"y\":10,\"yref\":\"y\"},{\"font\":{\"color\":\"#FFFFFF\",\"size\":7},\"showarrow\":false,\"text\":\"0.34\",\"x\":7,\"xref\":\"x\",\"y\":10,\"yref\":\"y\"},{\"font\":{\"color\":\"#FFFFFF\",\"size\":7},\"showarrow\":false,\"text\":\"0.34\",\"x\":8,\"xref\":\"x\",\"y\":10,\"yref\":\"y\"},{\"font\":{\"color\":\"#FFFFFF\",\"size\":7},\"showarrow\":false,\"text\":\"0.33\",\"x\":9,\"xref\":\"x\",\"y\":10,\"yref\":\"y\"},{\"font\":{\"color\":\"#FFFFFF\",\"size\":7},\"showarrow\":false,\"text\":\"0.33\",\"x\":10,\"xref\":\"x\",\"y\":10,\"yref\":\"y\"},{\"font\":{\"color\":\"#FFFFFF\",\"size\":7},\"showarrow\":false,\"text\":\"0.34\",\"x\":11,\"xref\":\"x\",\"y\":10,\"yref\":\"y\"},{\"font\":{\"color\":\"#FFFFFF\",\"size\":7},\"showarrow\":false,\"text\":\"0.34\",\"x\":12,\"xref\":\"x\",\"y\":10,\"yref\":\"y\"},{\"font\":{\"color\":\"#000000\",\"size\":7},\"showarrow\":false,\"text\":\"0.78\",\"x\":0,\"xref\":\"x\",\"y\":11,\"yref\":\"y\"},{\"font\":{\"color\":\"#000000\",\"size\":7},\"showarrow\":false,\"text\":\"0.74\",\"x\":1,\"xref\":\"x\",\"y\":11,\"yref\":\"y\"},{\"font\":{\"color\":\"#000000\",\"size\":7},\"showarrow\":false,\"text\":\"0.68\",\"x\":2,\"xref\":\"x\",\"y\":11,\"yref\":\"y\"},{\"font\":{\"color\":\"#000000\",\"size\":7},\"showarrow\":false,\"text\":\"0.63\",\"x\":3,\"xref\":\"x\",\"y\":11,\"yref\":\"y\"},{\"font\":{\"color\":\"#FFFFFF\",\"size\":7},\"showarrow\":false,\"text\":\"0.53\",\"x\":4,\"xref\":\"x\",\"y\":11,\"yref\":\"y\"},{\"font\":{\"color\":\"#FFFFFF\",\"size\":7},\"showarrow\":false,\"text\":\"0.39\",\"x\":5,\"xref\":\"x\",\"y\":11,\"yref\":\"y\"},{\"font\":{\"color\":\"#FFFFFF\",\"size\":7},\"showarrow\":false,\"text\":\"0.35\",\"x\":6,\"xref\":\"x\",\"y\":11,\"yref\":\"y\"},{\"font\":{\"color\":\"#FFFFFF\",\"size\":7},\"showarrow\":false,\"text\":\"0.33\",\"x\":7,\"xref\":\"x\",\"y\":11,\"yref\":\"y\"},{\"font\":{\"color\":\"#FFFFFF\",\"size\":7},\"showarrow\":false,\"text\":\"0.33\",\"x\":8,\"xref\":\"x\",\"y\":11,\"yref\":\"y\"},{\"font\":{\"color\":\"#FFFFFF\",\"size\":7},\"showarrow\":false,\"text\":\"0.32\",\"x\":9,\"xref\":\"x\",\"y\":11,\"yref\":\"y\"},{\"font\":{\"color\":\"#FFFFFF\",\"size\":7},\"showarrow\":false,\"text\":\"0.33\",\"x\":10,\"xref\":\"x\",\"y\":11,\"yref\":\"y\"},{\"font\":{\"color\":\"#FFFFFF\",\"size\":7},\"showarrow\":false,\"text\":\"0.34\",\"x\":11,\"xref\":\"x\",\"y\":11,\"yref\":\"y\"},{\"font\":{\"color\":\"#FFFFFF\",\"size\":7},\"showarrow\":false,\"text\":\"0.35\",\"x\":12,\"xref\":\"x\",\"y\":11,\"yref\":\"y\"},{\"font\":{\"color\":\"#000000\",\"size\":7},\"showarrow\":false,\"text\":\"0.8\",\"x\":0,\"xref\":\"x\",\"y\":12,\"yref\":\"y\"},{\"font\":{\"color\":\"#000000\",\"size\":7},\"showarrow\":false,\"text\":\"0.78\",\"x\":1,\"xref\":\"x\",\"y\":12,\"yref\":\"y\"},{\"font\":{\"color\":\"#000000\",\"size\":7},\"showarrow\":false,\"text\":\"0.73\",\"x\":2,\"xref\":\"x\",\"y\":12,\"yref\":\"y\"},{\"font\":{\"color\":\"#000000\",\"size\":7},\"showarrow\":false,\"text\":\"0.66\",\"x\":3,\"xref\":\"x\",\"y\":12,\"yref\":\"y\"},{\"font\":{\"color\":\"#FFFFFF\",\"size\":7},\"showarrow\":false,\"text\":\"0.54\",\"x\":4,\"xref\":\"x\",\"y\":12,\"yref\":\"y\"},{\"font\":{\"color\":\"#FFFFFF\",\"size\":7},\"showarrow\":false,\"text\":\"0.41\",\"x\":5,\"xref\":\"x\",\"y\":12,\"yref\":\"y\"},{\"font\":{\"color\":\"#FFFFFF\",\"size\":7},\"showarrow\":false,\"text\":\"0.34\",\"x\":6,\"xref\":\"x\",\"y\":12,\"yref\":\"y\"},{\"font\":{\"color\":\"#FFFFFF\",\"size\":7},\"showarrow\":false,\"text\":\"0.33\",\"x\":7,\"xref\":\"x\",\"y\":12,\"yref\":\"y\"},{\"font\":{\"color\":\"#FFFFFF\",\"size\":7},\"showarrow\":false,\"text\":\"0.32\",\"x\":8,\"xref\":\"x\",\"y\":12,\"yref\":\"y\"},{\"font\":{\"color\":\"#FFFFFF\",\"size\":7},\"showarrow\":false,\"text\":\"0.32\",\"x\":9,\"xref\":\"x\",\"y\":12,\"yref\":\"y\"},{\"font\":{\"color\":\"#FFFFFF\",\"size\":7},\"showarrow\":false,\"text\":\"0.33\",\"x\":10,\"xref\":\"x\",\"y\":12,\"yref\":\"y\"},{\"font\":{\"color\":\"#FFFFFF\",\"size\":7},\"showarrow\":false,\"text\":\"0.35\",\"x\":11,\"xref\":\"x\",\"y\":12,\"yref\":\"y\"},{\"font\":{\"color\":\"#FFFFFF\",\"size\":7},\"showarrow\":false,\"text\":\"0.35\",\"x\":12,\"xref\":\"x\",\"y\":12,\"yref\":\"y\"}],\"template\":{\"data\":{\"barpolar\":[{\"marker\":{\"line\":{\"color\":\"#E5ECF6\",\"width\":0.5},\"pattern\":{\"fillmode\":\"overlay\",\"size\":10,\"solidity\":0.2}},\"type\":\"barpolar\"}],\"bar\":[{\"error_x\":{\"color\":\"#2a3f5f\"},\"error_y\":{\"color\":\"#2a3f5f\"},\"marker\":{\"line\":{\"color\":\"#E5ECF6\",\"width\":0.5},\"pattern\":{\"fillmode\":\"overlay\",\"size\":10,\"solidity\":0.2}},\"type\":\"bar\"}],\"carpet\":[{\"aaxis\":{\"endlinecolor\":\"#2a3f5f\",\"gridcolor\":\"white\",\"linecolor\":\"white\",\"minorgridcolor\":\"white\",\"startlinecolor\":\"#2a3f5f\"},\"baxis\":{\"endlinecolor\":\"#2a3f5f\",\"gridcolor\":\"white\",\"linecolor\":\"white\",\"minorgridcolor\":\"white\",\"startlinecolor\":\"#2a3f5f\"},\"type\":\"carpet\"}],\"choropleth\":[{\"colorbar\":{\"outlinewidth\":0,\"ticks\":\"\"},\"type\":\"choropleth\"}],\"contourcarpet\":[{\"colorbar\":{\"outlinewidth\":0,\"ticks\":\"\"},\"type\":\"contourcarpet\"}],\"contour\":[{\"colorbar\":{\"outlinewidth\":0,\"ticks\":\"\"},\"colorscale\":[[0.0,\"#0d0887\"],[0.1111111111111111,\"#46039f\"],[0.2222222222222222,\"#7201a8\"],[0.3333333333333333,\"#9c179e\"],[0.4444444444444444,\"#bd3786\"],[0.5555555555555556,\"#d8576b\"],[0.6666666666666666,\"#ed7953\"],[0.7777777777777778,\"#fb9f3a\"],[0.8888888888888888,\"#fdca26\"],[1.0,\"#f0f921\"]],\"type\":\"contour\"}],\"heatmapgl\":[{\"colorbar\":{\"outlinewidth\":0,\"ticks\":\"\"},\"colorscale\":[[0.0,\"#0d0887\"],[0.1111111111111111,\"#46039f\"],[0.2222222222222222,\"#7201a8\"],[0.3333333333333333,\"#9c179e\"],[0.4444444444444444,\"#bd3786\"],[0.5555555555555556,\"#d8576b\"],[0.6666666666666666,\"#ed7953\"],[0.7777777777777778,\"#fb9f3a\"],[0.8888888888888888,\"#fdca26\"],[1.0,\"#f0f921\"]],\"type\":\"heatmapgl\"}],\"heatmap\":[{\"colorbar\":{\"outlinewidth\":0,\"ticks\":\"\"},\"colorscale\":[[0.0,\"#0d0887\"],[0.1111111111111111,\"#46039f\"],[0.2222222222222222,\"#7201a8\"],[0.3333333333333333,\"#9c179e\"],[0.4444444444444444,\"#bd3786\"],[0.5555555555555556,\"#d8576b\"],[0.6666666666666666,\"#ed7953\"],[0.7777777777777778,\"#fb9f3a\"],[0.8888888888888888,\"#fdca26\"],[1.0,\"#f0f921\"]],\"type\":\"heatmap\"}],\"histogram2dcontour\":[{\"colorbar\":{\"outlinewidth\":0,\"ticks\":\"\"},\"colorscale\":[[0.0,\"#0d0887\"],[0.1111111111111111,\"#46039f\"],[0.2222222222222222,\"#7201a8\"],[0.3333333333333333,\"#9c179e\"],[0.4444444444444444,\"#bd3786\"],[0.5555555555555556,\"#d8576b\"],[0.6666666666666666,\"#ed7953\"],[0.7777777777777778,\"#fb9f3a\"],[0.8888888888888888,\"#fdca26\"],[1.0,\"#f0f921\"]],\"type\":\"histogram2dcontour\"}],\"histogram2d\":[{\"colorbar\":{\"outlinewidth\":0,\"ticks\":\"\"},\"colorscale\":[[0.0,\"#0d0887\"],[0.1111111111111111,\"#46039f\"],[0.2222222222222222,\"#7201a8\"],[0.3333333333333333,\"#9c179e\"],[0.4444444444444444,\"#bd3786\"],[0.5555555555555556,\"#d8576b\"],[0.6666666666666666,\"#ed7953\"],[0.7777777777777778,\"#fb9f3a\"],[0.8888888888888888,\"#fdca26\"],[1.0,\"#f0f921\"]],\"type\":\"histogram2d\"}],\"histogram\":[{\"marker\":{\"pattern\":{\"fillmode\":\"overlay\",\"size\":10,\"solidity\":0.2}},\"type\":\"histogram\"}],\"mesh3d\":[{\"colorbar\":{\"outlinewidth\":0,\"ticks\":\"\"},\"type\":\"mesh3d\"}],\"parcoords\":[{\"line\":{\"colorbar\":{\"outlinewidth\":0,\"ticks\":\"\"}},\"type\":\"parcoords\"}],\"pie\":[{\"automargin\":true,\"type\":\"pie\"}],\"scatter3d\":[{\"line\":{\"colorbar\":{\"outlinewidth\":0,\"ticks\":\"\"}},\"marker\":{\"colorbar\":{\"outlinewidth\":0,\"ticks\":\"\"}},\"type\":\"scatter3d\"}],\"scattercarpet\":[{\"marker\":{\"colorbar\":{\"outlinewidth\":0,\"ticks\":\"\"}},\"type\":\"scattercarpet\"}],\"scattergeo\":[{\"marker\":{\"colorbar\":{\"outlinewidth\":0,\"ticks\":\"\"}},\"type\":\"scattergeo\"}],\"scattergl\":[{\"marker\":{\"colorbar\":{\"outlinewidth\":0,\"ticks\":\"\"}},\"type\":\"scattergl\"}],\"scattermapbox\":[{\"marker\":{\"colorbar\":{\"outlinewidth\":0,\"ticks\":\"\"}},\"type\":\"scattermapbox\"}],\"scatterpolargl\":[{\"marker\":{\"colorbar\":{\"outlinewidth\":0,\"ticks\":\"\"}},\"type\":\"scatterpolargl\"}],\"scatterpolar\":[{\"marker\":{\"colorbar\":{\"outlinewidth\":0,\"ticks\":\"\"}},\"type\":\"scatterpolar\"}],\"scatter\":[{\"fillpattern\":{\"fillmode\":\"overlay\",\"size\":10,\"solidity\":0.2},\"type\":\"scatter\"}],\"scatterternary\":[{\"marker\":{\"colorbar\":{\"outlinewidth\":0,\"ticks\":\"\"}},\"type\":\"scatterternary\"}],\"surface\":[{\"colorbar\":{\"outlinewidth\":0,\"ticks\":\"\"},\"colorscale\":[[0.0,\"#0d0887\"],[0.1111111111111111,\"#46039f\"],[0.2222222222222222,\"#7201a8\"],[0.3333333333333333,\"#9c179e\"],[0.4444444444444444,\"#bd3786\"],[0.5555555555555556,\"#d8576b\"],[0.6666666666666666,\"#ed7953\"],[0.7777777777777778,\"#fb9f3a\"],[0.8888888888888888,\"#fdca26\"],[1.0,\"#f0f921\"]],\"type\":\"surface\"}],\"table\":[{\"cells\":{\"fill\":{\"color\":\"#EBF0F8\"},\"line\":{\"color\":\"white\"}},\"header\":{\"fill\":{\"color\":\"#C8D4E3\"},\"line\":{\"color\":\"white\"}},\"type\":\"table\"}]},\"layout\":{\"annotationdefaults\":{\"arrowcolor\":\"#2a3f5f\",\"arrowhead\":0,\"arrowwidth\":1},\"autotypenumbers\":\"strict\",\"coloraxis\":{\"colorbar\":{\"outlinewidth\":0,\"ticks\":\"\"}},\"colorscale\":{\"diverging\":[[0,\"#8e0152\"],[0.1,\"#c51b7d\"],[0.2,\"#de77ae\"],[0.3,\"#f1b6da\"],[0.4,\"#fde0ef\"],[0.5,\"#f7f7f7\"],[0.6,\"#e6f5d0\"],[0.7,\"#b8e186\"],[0.8,\"#7fbc41\"],[0.9,\"#4d9221\"],[1,\"#276419\"]],\"sequential\":[[0.0,\"#0d0887\"],[0.1111111111111111,\"#46039f\"],[0.2222222222222222,\"#7201a8\"],[0.3333333333333333,\"#9c179e\"],[0.4444444444444444,\"#bd3786\"],[0.5555555555555556,\"#d8576b\"],[0.6666666666666666,\"#ed7953\"],[0.7777777777777778,\"#fb9f3a\"],[0.8888888888888888,\"#fdca26\"],[1.0,\"#f0f921\"]],\"sequentialminus\":[[0.0,\"#0d0887\"],[0.1111111111111111,\"#46039f\"],[0.2222222222222222,\"#7201a8\"],[0.3333333333333333,\"#9c179e\"],[0.4444444444444444,\"#bd3786\"],[0.5555555555555556,\"#d8576b\"],[0.6666666666666666,\"#ed7953\"],[0.7777777777777778,\"#fb9f3a\"],[0.8888888888888888,\"#fdca26\"],[1.0,\"#f0f921\"]]},\"colorway\":[\"#636efa\",\"#EF553B\",\"#00cc96\",\"#ab63fa\",\"#FFA15A\",\"#19d3f3\",\"#FF6692\",\"#B6E880\",\"#FF97FF\",\"#FECB52\"],\"font\":{\"color\":\"#2a3f5f\"},\"geo\":{\"bgcolor\":\"white\",\"lakecolor\":\"white\",\"landcolor\":\"#E5ECF6\",\"showlakes\":true,\"showland\":true,\"subunitcolor\":\"white\"},\"hoverlabel\":{\"align\":\"left\"},\"hovermode\":\"closest\",\"mapbox\":{\"style\":\"light\"},\"paper_bgcolor\":\"white\",\"plot_bgcolor\":\"#E5ECF6\",\"polar\":{\"angularaxis\":{\"gridcolor\":\"white\",\"linecolor\":\"white\",\"ticks\":\"\"},\"bgcolor\":\"#E5ECF6\",\"radialaxis\":{\"gridcolor\":\"white\",\"linecolor\":\"white\",\"ticks\":\"\"}},\"scene\":{\"xaxis\":{\"backgroundcolor\":\"#E5ECF6\",\"gridcolor\":\"white\",\"gridwidth\":2,\"linecolor\":\"white\",\"showbackground\":true,\"ticks\":\"\",\"zerolinecolor\":\"white\"},\"yaxis\":{\"backgroundcolor\":\"#E5ECF6\",\"gridcolor\":\"white\",\"gridwidth\":2,\"linecolor\":\"white\",\"showbackground\":true,\"ticks\":\"\",\"zerolinecolor\":\"white\"},\"zaxis\":{\"backgroundcolor\":\"#E5ECF6\",\"gridcolor\":\"white\",\"gridwidth\":2,\"linecolor\":\"white\",\"showbackground\":true,\"ticks\":\"\",\"zerolinecolor\":\"white\"}},\"shapedefaults\":{\"line\":{\"color\":\"#2a3f5f\"}},\"ternary\":{\"aaxis\":{\"gridcolor\":\"white\",\"linecolor\":\"white\",\"ticks\":\"\"},\"baxis\":{\"gridcolor\":\"white\",\"linecolor\":\"white\",\"ticks\":\"\"},\"bgcolor\":\"#E5ECF6\",\"caxis\":{\"gridcolor\":\"white\",\"linecolor\":\"white\",\"ticks\":\"\"}},\"title\":{\"x\":0.05},\"xaxis\":{\"automargin\":true,\"gridcolor\":\"white\",\"linecolor\":\"white\",\"ticks\":\"\",\"title\":{\"standoff\":15},\"zerolinecolor\":\"white\",\"zerolinewidth\":2},\"yaxis\":{\"automargin\":true,\"gridcolor\":\"white\",\"linecolor\":\"white\",\"ticks\":\"\",\"title\":{\"standoff\":15},\"zerolinecolor\":\"white\",\"zerolinewidth\":2}}},\"title\":{\"text\":\"Not Spiled\"},\"xaxis\":{\"gridcolor\":\"rgb(0, 0, 0)\",\"showticklabels\":false,\"side\":\"top\",\"ticks\":\"\"},\"yaxis\":{\"showticklabels\":false,\"ticks\":\"\",\"ticksuffix\":\"  \"}},                        {\"responsive\": true}                    ).then(function(){\n",
       "                            \n",
       "var gd = document.getElementById('c625919a-3f71-4a2e-9d4e-301ff9079cb0');\n",
       "var x = new MutationObserver(function (mutations, observer) {{\n",
       "        var display = window.getComputedStyle(gd).display;\n",
       "        if (!display || display === 'none') {{\n",
       "            console.log([gd, 'removed!']);\n",
       "            Plotly.purge(gd);\n",
       "            observer.disconnect();\n",
       "        }}\n",
       "}});\n",
       "\n",
       "// Listen for the removal of the full notebook cells\n",
       "var notebookContainer = gd.closest('#notebook-container');\n",
       "if (notebookContainer) {{\n",
       "    x.observe(notebookContainer, {childList: true});\n",
       "}}\n",
       "\n",
       "// Listen for the clearing of the current output cell\n",
       "var outputEl = gd.closest('.output');\n",
       "if (outputEl) {{\n",
       "    x.observe(outputEl, {childList: true});\n",
       "}}\n",
       "\n",
       "                        })                };                });            </script>        </div>"
      ]
     },
     "metadata": {},
     "output_type": "display_data"
    },
    {
     "data": {
      "text/html": [
       "        <script type=\"text/javascript\">\n",
       "        window.PlotlyConfig = {MathJaxConfig: 'local'};\n",
       "        if (window.MathJax && window.MathJax.Hub && window.MathJax.Hub.Config) {window.MathJax.Hub.Config({SVG: {font: \"STIX-Web\"}});}\n",
       "        if (typeof require !== 'undefined') {\n",
       "        require.undef(\"plotly\");\n",
       "        requirejs.config({\n",
       "            paths: {\n",
       "                'plotly': ['https://cdn.plot.ly/plotly-2.12.1.min']\n",
       "            }\n",
       "        });\n",
       "        require(['plotly'], function(Plotly) {\n",
       "            window._Plotly = Plotly;\n",
       "        });\n",
       "        }\n",
       "        </script>\n",
       "        "
      ]
     },
     "metadata": {},
     "output_type": "display_data"
    },
    {
     "data": {
      "application/vnd.plotly.v1+json": {
       "config": {
        "linkText": "Export to plot.ly",
        "plotlyServerURL": "https://plot.ly",
        "showLink": false
       },
       "data": [
        {
         "colorscale": [
          [
           0,
           "#0d0887"
          ],
          [
           0.1111111111111111,
           "#46039f"
          ],
          [
           0.2222222222222222,
           "#7201a8"
          ],
          [
           0.3333333333333333,
           "#9c179e"
          ],
          [
           0.4444444444444444,
           "#bd3786"
          ],
          [
           0.5555555555555556,
           "#d8576b"
          ],
          [
           0.6666666666666666,
           "#ed7953"
          ],
          [
           0.7777777777777778,
           "#fb9f3a"
          ],
          [
           0.8888888888888888,
           "#fdca26"
          ],
          [
           1,
           "#f0f921"
          ]
         ],
         "reversescale": false,
         "showscale": true,
         "type": "heatmap",
         "z": [
          [
           0.74,
           0.74,
           0.74,
           0.73,
           0.69,
           0.66,
           0.66,
           0.65,
           0.63,
           0.52,
           0.45,
           0.42,
           0.41
          ],
          [
           0.7,
           0.7,
           0.71,
           0.71,
           0.67,
           0.65,
           0.65,
           0.64,
           0.61,
           0.53,
           0.44,
           0.43,
           0.42
          ],
          [
           0.66,
           0.66,
           0.66,
           0.66,
           0.64,
           0.64,
           0.63,
           0.62,
           0.59,
           0.54,
           0.48,
           0.44,
           0.43
          ],
          [
           0.62,
           0.61,
           0.61,
           0.59,
           0.58,
           0.59,
           0.61,
           0.61,
           0.58,
           0.54,
           0.5,
           0.46,
           0.43
          ],
          [
           0.57,
           0.58,
           0.56,
           0.55,
           0.54,
           0.56,
           0.58,
           0.57,
           0.54,
           0.51,
           0.49,
           0.46,
           0.44
          ],
          [
           0.53,
           0.53,
           0.52,
           0.51,
           0.51,
           0.52,
           0.53,
           0.51,
           0.47,
           0.45,
           0.44,
           0.43,
           0.42
          ],
          [
           0.47,
           0.45,
           0.41,
           0.4,
           0.45,
           0.47,
           0.47,
           0.44,
           0.42,
           0.4,
           0.4,
           0.39,
           0.4
          ],
          [
           0.42,
           0.37,
           0.34,
           0.33,
           0.34,
           0.4,
           0.39,
           0.4,
           0.39,
           0.37,
           0.38,
           0.38,
           0.38
          ],
          [
           0.33,
           0.32,
           0.32,
           0.31,
           0.33,
           0.37,
           0.38,
           0.39,
           0.38,
           0.37,
           0.36,
           0.36,
           0.37
          ],
          [
           0.32,
           0.33,
           0.36,
           0.36,
           0.35,
           0.35,
           0.37,
           0.37,
           0.37,
           0.36,
           0.36,
           0.36,
           0.36
          ],
          [
           0.32,
           0.35,
           0.39,
           0.41,
           0.4,
           0.37,
           0.37,
           0.36,
           0.36,
           0.35,
           0.35,
           0.35,
           0.36
          ],
          [
           0.31,
           0.35,
           0.41,
           0.42,
           0.39,
           0.36,
           0.36,
           0.34,
           0.36,
           0.34,
           0.35,
           0.34,
           0.34
          ],
          [
           0.31,
           0.33,
           0.39,
           0.39,
           0.38,
           0.35,
           0.33,
           0.34,
           0.34,
           0.34,
           0.34,
           0.34,
           0.34
          ]
         ]
        }
       ],
       "layout": {
        "annotations": [
         {
          "font": {
           "color": "#000000",
           "size": 7
          },
          "showarrow": false,
          "text": "0.74",
          "x": 0,
          "xref": "x",
          "y": 0,
          "yref": "y"
         },
         {
          "font": {
           "color": "#000000",
           "size": 7
          },
          "showarrow": false,
          "text": "0.74",
          "x": 1,
          "xref": "x",
          "y": 0,
          "yref": "y"
         },
         {
          "font": {
           "color": "#000000",
           "size": 7
          },
          "showarrow": false,
          "text": "0.74",
          "x": 2,
          "xref": "x",
          "y": 0,
          "yref": "y"
         },
         {
          "font": {
           "color": "#000000",
           "size": 7
          },
          "showarrow": false,
          "text": "0.73",
          "x": 3,
          "xref": "x",
          "y": 0,
          "yref": "y"
         },
         {
          "font": {
           "color": "#000000",
           "size": 7
          },
          "showarrow": false,
          "text": "0.69",
          "x": 4,
          "xref": "x",
          "y": 0,
          "yref": "y"
         },
         {
          "font": {
           "color": "#000000",
           "size": 7
          },
          "showarrow": false,
          "text": "0.66",
          "x": 5,
          "xref": "x",
          "y": 0,
          "yref": "y"
         },
         {
          "font": {
           "color": "#000000",
           "size": 7
          },
          "showarrow": false,
          "text": "0.66",
          "x": 6,
          "xref": "x",
          "y": 0,
          "yref": "y"
         },
         {
          "font": {
           "color": "#000000",
           "size": 7
          },
          "showarrow": false,
          "text": "0.65",
          "x": 7,
          "xref": "x",
          "y": 0,
          "yref": "y"
         },
         {
          "font": {
           "color": "#000000",
           "size": 7
          },
          "showarrow": false,
          "text": "0.63",
          "x": 8,
          "xref": "x",
          "y": 0,
          "yref": "y"
         },
         {
          "font": {
           "color": "#FFFFFF",
           "size": 7
          },
          "showarrow": false,
          "text": "0.52",
          "x": 9,
          "xref": "x",
          "y": 0,
          "yref": "y"
         },
         {
          "font": {
           "color": "#FFFFFF",
           "size": 7
          },
          "showarrow": false,
          "text": "0.45",
          "x": 10,
          "xref": "x",
          "y": 0,
          "yref": "y"
         },
         {
          "font": {
           "color": "#FFFFFF",
           "size": 7
          },
          "showarrow": false,
          "text": "0.42",
          "x": 11,
          "xref": "x",
          "y": 0,
          "yref": "y"
         },
         {
          "font": {
           "color": "#FFFFFF",
           "size": 7
          },
          "showarrow": false,
          "text": "0.41",
          "x": 12,
          "xref": "x",
          "y": 0,
          "yref": "y"
         },
         {
          "font": {
           "color": "#000000",
           "size": 7
          },
          "showarrow": false,
          "text": "0.7",
          "x": 0,
          "xref": "x",
          "y": 1,
          "yref": "y"
         },
         {
          "font": {
           "color": "#000000",
           "size": 7
          },
          "showarrow": false,
          "text": "0.7",
          "x": 1,
          "xref": "x",
          "y": 1,
          "yref": "y"
         },
         {
          "font": {
           "color": "#000000",
           "size": 7
          },
          "showarrow": false,
          "text": "0.71",
          "x": 2,
          "xref": "x",
          "y": 1,
          "yref": "y"
         },
         {
          "font": {
           "color": "#000000",
           "size": 7
          },
          "showarrow": false,
          "text": "0.71",
          "x": 3,
          "xref": "x",
          "y": 1,
          "yref": "y"
         },
         {
          "font": {
           "color": "#000000",
           "size": 7
          },
          "showarrow": false,
          "text": "0.67",
          "x": 4,
          "xref": "x",
          "y": 1,
          "yref": "y"
         },
         {
          "font": {
           "color": "#000000",
           "size": 7
          },
          "showarrow": false,
          "text": "0.65",
          "x": 5,
          "xref": "x",
          "y": 1,
          "yref": "y"
         },
         {
          "font": {
           "color": "#000000",
           "size": 7
          },
          "showarrow": false,
          "text": "0.65",
          "x": 6,
          "xref": "x",
          "y": 1,
          "yref": "y"
         },
         {
          "font": {
           "color": "#000000",
           "size": 7
          },
          "showarrow": false,
          "text": "0.64",
          "x": 7,
          "xref": "x",
          "y": 1,
          "yref": "y"
         },
         {
          "font": {
           "color": "#000000",
           "size": 7
          },
          "showarrow": false,
          "text": "0.61",
          "x": 8,
          "xref": "x",
          "y": 1,
          "yref": "y"
         },
         {
          "font": {
           "color": "#000000",
           "size": 7
          },
          "showarrow": false,
          "text": "0.53",
          "x": 9,
          "xref": "x",
          "y": 1,
          "yref": "y"
         },
         {
          "font": {
           "color": "#FFFFFF",
           "size": 7
          },
          "showarrow": false,
          "text": "0.44",
          "x": 10,
          "xref": "x",
          "y": 1,
          "yref": "y"
         },
         {
          "font": {
           "color": "#FFFFFF",
           "size": 7
          },
          "showarrow": false,
          "text": "0.43",
          "x": 11,
          "xref": "x",
          "y": 1,
          "yref": "y"
         },
         {
          "font": {
           "color": "#FFFFFF",
           "size": 7
          },
          "showarrow": false,
          "text": "0.42",
          "x": 12,
          "xref": "x",
          "y": 1,
          "yref": "y"
         },
         {
          "font": {
           "color": "#000000",
           "size": 7
          },
          "showarrow": false,
          "text": "0.66",
          "x": 0,
          "xref": "x",
          "y": 2,
          "yref": "y"
         },
         {
          "font": {
           "color": "#000000",
           "size": 7
          },
          "showarrow": false,
          "text": "0.66",
          "x": 1,
          "xref": "x",
          "y": 2,
          "yref": "y"
         },
         {
          "font": {
           "color": "#000000",
           "size": 7
          },
          "showarrow": false,
          "text": "0.66",
          "x": 2,
          "xref": "x",
          "y": 2,
          "yref": "y"
         },
         {
          "font": {
           "color": "#000000",
           "size": 7
          },
          "showarrow": false,
          "text": "0.66",
          "x": 3,
          "xref": "x",
          "y": 2,
          "yref": "y"
         },
         {
          "font": {
           "color": "#000000",
           "size": 7
          },
          "showarrow": false,
          "text": "0.64",
          "x": 4,
          "xref": "x",
          "y": 2,
          "yref": "y"
         },
         {
          "font": {
           "color": "#000000",
           "size": 7
          },
          "showarrow": false,
          "text": "0.64",
          "x": 5,
          "xref": "x",
          "y": 2,
          "yref": "y"
         },
         {
          "font": {
           "color": "#000000",
           "size": 7
          },
          "showarrow": false,
          "text": "0.63",
          "x": 6,
          "xref": "x",
          "y": 2,
          "yref": "y"
         },
         {
          "font": {
           "color": "#000000",
           "size": 7
          },
          "showarrow": false,
          "text": "0.62",
          "x": 7,
          "xref": "x",
          "y": 2,
          "yref": "y"
         },
         {
          "font": {
           "color": "#000000",
           "size": 7
          },
          "showarrow": false,
          "text": "0.59",
          "x": 8,
          "xref": "x",
          "y": 2,
          "yref": "y"
         },
         {
          "font": {
           "color": "#000000",
           "size": 7
          },
          "showarrow": false,
          "text": "0.54",
          "x": 9,
          "xref": "x",
          "y": 2,
          "yref": "y"
         },
         {
          "font": {
           "color": "#FFFFFF",
           "size": 7
          },
          "showarrow": false,
          "text": "0.48",
          "x": 10,
          "xref": "x",
          "y": 2,
          "yref": "y"
         },
         {
          "font": {
           "color": "#FFFFFF",
           "size": 7
          },
          "showarrow": false,
          "text": "0.44",
          "x": 11,
          "xref": "x",
          "y": 2,
          "yref": "y"
         },
         {
          "font": {
           "color": "#FFFFFF",
           "size": 7
          },
          "showarrow": false,
          "text": "0.43",
          "x": 12,
          "xref": "x",
          "y": 2,
          "yref": "y"
         },
         {
          "font": {
           "color": "#000000",
           "size": 7
          },
          "showarrow": false,
          "text": "0.62",
          "x": 0,
          "xref": "x",
          "y": 3,
          "yref": "y"
         },
         {
          "font": {
           "color": "#000000",
           "size": 7
          },
          "showarrow": false,
          "text": "0.61",
          "x": 1,
          "xref": "x",
          "y": 3,
          "yref": "y"
         },
         {
          "font": {
           "color": "#000000",
           "size": 7
          },
          "showarrow": false,
          "text": "0.61",
          "x": 2,
          "xref": "x",
          "y": 3,
          "yref": "y"
         },
         {
          "font": {
           "color": "#000000",
           "size": 7
          },
          "showarrow": false,
          "text": "0.59",
          "x": 3,
          "xref": "x",
          "y": 3,
          "yref": "y"
         },
         {
          "font": {
           "color": "#000000",
           "size": 7
          },
          "showarrow": false,
          "text": "0.58",
          "x": 4,
          "xref": "x",
          "y": 3,
          "yref": "y"
         },
         {
          "font": {
           "color": "#000000",
           "size": 7
          },
          "showarrow": false,
          "text": "0.59",
          "x": 5,
          "xref": "x",
          "y": 3,
          "yref": "y"
         },
         {
          "font": {
           "color": "#000000",
           "size": 7
          },
          "showarrow": false,
          "text": "0.61",
          "x": 6,
          "xref": "x",
          "y": 3,
          "yref": "y"
         },
         {
          "font": {
           "color": "#000000",
           "size": 7
          },
          "showarrow": false,
          "text": "0.61",
          "x": 7,
          "xref": "x",
          "y": 3,
          "yref": "y"
         },
         {
          "font": {
           "color": "#000000",
           "size": 7
          },
          "showarrow": false,
          "text": "0.58",
          "x": 8,
          "xref": "x",
          "y": 3,
          "yref": "y"
         },
         {
          "font": {
           "color": "#000000",
           "size": 7
          },
          "showarrow": false,
          "text": "0.54",
          "x": 9,
          "xref": "x",
          "y": 3,
          "yref": "y"
         },
         {
          "font": {
           "color": "#FFFFFF",
           "size": 7
          },
          "showarrow": false,
          "text": "0.5",
          "x": 10,
          "xref": "x",
          "y": 3,
          "yref": "y"
         },
         {
          "font": {
           "color": "#FFFFFF",
           "size": 7
          },
          "showarrow": false,
          "text": "0.46",
          "x": 11,
          "xref": "x",
          "y": 3,
          "yref": "y"
         },
         {
          "font": {
           "color": "#FFFFFF",
           "size": 7
          },
          "showarrow": false,
          "text": "0.43",
          "x": 12,
          "xref": "x",
          "y": 3,
          "yref": "y"
         },
         {
          "font": {
           "color": "#000000",
           "size": 7
          },
          "showarrow": false,
          "text": "0.57",
          "x": 0,
          "xref": "x",
          "y": 4,
          "yref": "y"
         },
         {
          "font": {
           "color": "#000000",
           "size": 7
          },
          "showarrow": false,
          "text": "0.58",
          "x": 1,
          "xref": "x",
          "y": 4,
          "yref": "y"
         },
         {
          "font": {
           "color": "#000000",
           "size": 7
          },
          "showarrow": false,
          "text": "0.56",
          "x": 2,
          "xref": "x",
          "y": 4,
          "yref": "y"
         },
         {
          "font": {
           "color": "#000000",
           "size": 7
          },
          "showarrow": false,
          "text": "0.55",
          "x": 3,
          "xref": "x",
          "y": 4,
          "yref": "y"
         },
         {
          "font": {
           "color": "#000000",
           "size": 7
          },
          "showarrow": false,
          "text": "0.54",
          "x": 4,
          "xref": "x",
          "y": 4,
          "yref": "y"
         },
         {
          "font": {
           "color": "#000000",
           "size": 7
          },
          "showarrow": false,
          "text": "0.56",
          "x": 5,
          "xref": "x",
          "y": 4,
          "yref": "y"
         },
         {
          "font": {
           "color": "#000000",
           "size": 7
          },
          "showarrow": false,
          "text": "0.58",
          "x": 6,
          "xref": "x",
          "y": 4,
          "yref": "y"
         },
         {
          "font": {
           "color": "#000000",
           "size": 7
          },
          "showarrow": false,
          "text": "0.57",
          "x": 7,
          "xref": "x",
          "y": 4,
          "yref": "y"
         },
         {
          "font": {
           "color": "#000000",
           "size": 7
          },
          "showarrow": false,
          "text": "0.54",
          "x": 8,
          "xref": "x",
          "y": 4,
          "yref": "y"
         },
         {
          "font": {
           "color": "#FFFFFF",
           "size": 7
          },
          "showarrow": false,
          "text": "0.51",
          "x": 9,
          "xref": "x",
          "y": 4,
          "yref": "y"
         },
         {
          "font": {
           "color": "#FFFFFF",
           "size": 7
          },
          "showarrow": false,
          "text": "0.49",
          "x": 10,
          "xref": "x",
          "y": 4,
          "yref": "y"
         },
         {
          "font": {
           "color": "#FFFFFF",
           "size": 7
          },
          "showarrow": false,
          "text": "0.46",
          "x": 11,
          "xref": "x",
          "y": 4,
          "yref": "y"
         },
         {
          "font": {
           "color": "#FFFFFF",
           "size": 7
          },
          "showarrow": false,
          "text": "0.44",
          "x": 12,
          "xref": "x",
          "y": 4,
          "yref": "y"
         },
         {
          "font": {
           "color": "#000000",
           "size": 7
          },
          "showarrow": false,
          "text": "0.53",
          "x": 0,
          "xref": "x",
          "y": 5,
          "yref": "y"
         },
         {
          "font": {
           "color": "#000000",
           "size": 7
          },
          "showarrow": false,
          "text": "0.53",
          "x": 1,
          "xref": "x",
          "y": 5,
          "yref": "y"
         },
         {
          "font": {
           "color": "#FFFFFF",
           "size": 7
          },
          "showarrow": false,
          "text": "0.52",
          "x": 2,
          "xref": "x",
          "y": 5,
          "yref": "y"
         },
         {
          "font": {
           "color": "#FFFFFF",
           "size": 7
          },
          "showarrow": false,
          "text": "0.51",
          "x": 3,
          "xref": "x",
          "y": 5,
          "yref": "y"
         },
         {
          "font": {
           "color": "#FFFFFF",
           "size": 7
          },
          "showarrow": false,
          "text": "0.51",
          "x": 4,
          "xref": "x",
          "y": 5,
          "yref": "y"
         },
         {
          "font": {
           "color": "#FFFFFF",
           "size": 7
          },
          "showarrow": false,
          "text": "0.52",
          "x": 5,
          "xref": "x",
          "y": 5,
          "yref": "y"
         },
         {
          "font": {
           "color": "#000000",
           "size": 7
          },
          "showarrow": false,
          "text": "0.53",
          "x": 6,
          "xref": "x",
          "y": 5,
          "yref": "y"
         },
         {
          "font": {
           "color": "#FFFFFF",
           "size": 7
          },
          "showarrow": false,
          "text": "0.51",
          "x": 7,
          "xref": "x",
          "y": 5,
          "yref": "y"
         },
         {
          "font": {
           "color": "#FFFFFF",
           "size": 7
          },
          "showarrow": false,
          "text": "0.47",
          "x": 8,
          "xref": "x",
          "y": 5,
          "yref": "y"
         },
         {
          "font": {
           "color": "#FFFFFF",
           "size": 7
          },
          "showarrow": false,
          "text": "0.45",
          "x": 9,
          "xref": "x",
          "y": 5,
          "yref": "y"
         },
         {
          "font": {
           "color": "#FFFFFF",
           "size": 7
          },
          "showarrow": false,
          "text": "0.44",
          "x": 10,
          "xref": "x",
          "y": 5,
          "yref": "y"
         },
         {
          "font": {
           "color": "#FFFFFF",
           "size": 7
          },
          "showarrow": false,
          "text": "0.43",
          "x": 11,
          "xref": "x",
          "y": 5,
          "yref": "y"
         },
         {
          "font": {
           "color": "#FFFFFF",
           "size": 7
          },
          "showarrow": false,
          "text": "0.42",
          "x": 12,
          "xref": "x",
          "y": 5,
          "yref": "y"
         },
         {
          "font": {
           "color": "#FFFFFF",
           "size": 7
          },
          "showarrow": false,
          "text": "0.47",
          "x": 0,
          "xref": "x",
          "y": 6,
          "yref": "y"
         },
         {
          "font": {
           "color": "#FFFFFF",
           "size": 7
          },
          "showarrow": false,
          "text": "0.45",
          "x": 1,
          "xref": "x",
          "y": 6,
          "yref": "y"
         },
         {
          "font": {
           "color": "#FFFFFF",
           "size": 7
          },
          "showarrow": false,
          "text": "0.41",
          "x": 2,
          "xref": "x",
          "y": 6,
          "yref": "y"
         },
         {
          "font": {
           "color": "#FFFFFF",
           "size": 7
          },
          "showarrow": false,
          "text": "0.4",
          "x": 3,
          "xref": "x",
          "y": 6,
          "yref": "y"
         },
         {
          "font": {
           "color": "#FFFFFF",
           "size": 7
          },
          "showarrow": false,
          "text": "0.45",
          "x": 4,
          "xref": "x",
          "y": 6,
          "yref": "y"
         },
         {
          "font": {
           "color": "#FFFFFF",
           "size": 7
          },
          "showarrow": false,
          "text": "0.47",
          "x": 5,
          "xref": "x",
          "y": 6,
          "yref": "y"
         },
         {
          "font": {
           "color": "#FFFFFF",
           "size": 7
          },
          "showarrow": false,
          "text": "0.47",
          "x": 6,
          "xref": "x",
          "y": 6,
          "yref": "y"
         },
         {
          "font": {
           "color": "#FFFFFF",
           "size": 7
          },
          "showarrow": false,
          "text": "0.44",
          "x": 7,
          "xref": "x",
          "y": 6,
          "yref": "y"
         },
         {
          "font": {
           "color": "#FFFFFF",
           "size": 7
          },
          "showarrow": false,
          "text": "0.42",
          "x": 8,
          "xref": "x",
          "y": 6,
          "yref": "y"
         },
         {
          "font": {
           "color": "#FFFFFF",
           "size": 7
          },
          "showarrow": false,
          "text": "0.4",
          "x": 9,
          "xref": "x",
          "y": 6,
          "yref": "y"
         },
         {
          "font": {
           "color": "#FFFFFF",
           "size": 7
          },
          "showarrow": false,
          "text": "0.4",
          "x": 10,
          "xref": "x",
          "y": 6,
          "yref": "y"
         },
         {
          "font": {
           "color": "#FFFFFF",
           "size": 7
          },
          "showarrow": false,
          "text": "0.39",
          "x": 11,
          "xref": "x",
          "y": 6,
          "yref": "y"
         },
         {
          "font": {
           "color": "#FFFFFF",
           "size": 7
          },
          "showarrow": false,
          "text": "0.4",
          "x": 12,
          "xref": "x",
          "y": 6,
          "yref": "y"
         },
         {
          "font": {
           "color": "#FFFFFF",
           "size": 7
          },
          "showarrow": false,
          "text": "0.42",
          "x": 0,
          "xref": "x",
          "y": 7,
          "yref": "y"
         },
         {
          "font": {
           "color": "#FFFFFF",
           "size": 7
          },
          "showarrow": false,
          "text": "0.37",
          "x": 1,
          "xref": "x",
          "y": 7,
          "yref": "y"
         },
         {
          "font": {
           "color": "#FFFFFF",
           "size": 7
          },
          "showarrow": false,
          "text": "0.34",
          "x": 2,
          "xref": "x",
          "y": 7,
          "yref": "y"
         },
         {
          "font": {
           "color": "#FFFFFF",
           "size": 7
          },
          "showarrow": false,
          "text": "0.33",
          "x": 3,
          "xref": "x",
          "y": 7,
          "yref": "y"
         },
         {
          "font": {
           "color": "#FFFFFF",
           "size": 7
          },
          "showarrow": false,
          "text": "0.34",
          "x": 4,
          "xref": "x",
          "y": 7,
          "yref": "y"
         },
         {
          "font": {
           "color": "#FFFFFF",
           "size": 7
          },
          "showarrow": false,
          "text": "0.4",
          "x": 5,
          "xref": "x",
          "y": 7,
          "yref": "y"
         },
         {
          "font": {
           "color": "#FFFFFF",
           "size": 7
          },
          "showarrow": false,
          "text": "0.39",
          "x": 6,
          "xref": "x",
          "y": 7,
          "yref": "y"
         },
         {
          "font": {
           "color": "#FFFFFF",
           "size": 7
          },
          "showarrow": false,
          "text": "0.4",
          "x": 7,
          "xref": "x",
          "y": 7,
          "yref": "y"
         },
         {
          "font": {
           "color": "#FFFFFF",
           "size": 7
          },
          "showarrow": false,
          "text": "0.39",
          "x": 8,
          "xref": "x",
          "y": 7,
          "yref": "y"
         },
         {
          "font": {
           "color": "#FFFFFF",
           "size": 7
          },
          "showarrow": false,
          "text": "0.37",
          "x": 9,
          "xref": "x",
          "y": 7,
          "yref": "y"
         },
         {
          "font": {
           "color": "#FFFFFF",
           "size": 7
          },
          "showarrow": false,
          "text": "0.38",
          "x": 10,
          "xref": "x",
          "y": 7,
          "yref": "y"
         },
         {
          "font": {
           "color": "#FFFFFF",
           "size": 7
          },
          "showarrow": false,
          "text": "0.38",
          "x": 11,
          "xref": "x",
          "y": 7,
          "yref": "y"
         },
         {
          "font": {
           "color": "#FFFFFF",
           "size": 7
          },
          "showarrow": false,
          "text": "0.38",
          "x": 12,
          "xref": "x",
          "y": 7,
          "yref": "y"
         },
         {
          "font": {
           "color": "#FFFFFF",
           "size": 7
          },
          "showarrow": false,
          "text": "0.33",
          "x": 0,
          "xref": "x",
          "y": 8,
          "yref": "y"
         },
         {
          "font": {
           "color": "#FFFFFF",
           "size": 7
          },
          "showarrow": false,
          "text": "0.32",
          "x": 1,
          "xref": "x",
          "y": 8,
          "yref": "y"
         },
         {
          "font": {
           "color": "#FFFFFF",
           "size": 7
          },
          "showarrow": false,
          "text": "0.32",
          "x": 2,
          "xref": "x",
          "y": 8,
          "yref": "y"
         },
         {
          "font": {
           "color": "#FFFFFF",
           "size": 7
          },
          "showarrow": false,
          "text": "0.31",
          "x": 3,
          "xref": "x",
          "y": 8,
          "yref": "y"
         },
         {
          "font": {
           "color": "#FFFFFF",
           "size": 7
          },
          "showarrow": false,
          "text": "0.33",
          "x": 4,
          "xref": "x",
          "y": 8,
          "yref": "y"
         },
         {
          "font": {
           "color": "#FFFFFF",
           "size": 7
          },
          "showarrow": false,
          "text": "0.37",
          "x": 5,
          "xref": "x",
          "y": 8,
          "yref": "y"
         },
         {
          "font": {
           "color": "#FFFFFF",
           "size": 7
          },
          "showarrow": false,
          "text": "0.38",
          "x": 6,
          "xref": "x",
          "y": 8,
          "yref": "y"
         },
         {
          "font": {
           "color": "#FFFFFF",
           "size": 7
          },
          "showarrow": false,
          "text": "0.39",
          "x": 7,
          "xref": "x",
          "y": 8,
          "yref": "y"
         },
         {
          "font": {
           "color": "#FFFFFF",
           "size": 7
          },
          "showarrow": false,
          "text": "0.38",
          "x": 8,
          "xref": "x",
          "y": 8,
          "yref": "y"
         },
         {
          "font": {
           "color": "#FFFFFF",
           "size": 7
          },
          "showarrow": false,
          "text": "0.37",
          "x": 9,
          "xref": "x",
          "y": 8,
          "yref": "y"
         },
         {
          "font": {
           "color": "#FFFFFF",
           "size": 7
          },
          "showarrow": false,
          "text": "0.36",
          "x": 10,
          "xref": "x",
          "y": 8,
          "yref": "y"
         },
         {
          "font": {
           "color": "#FFFFFF",
           "size": 7
          },
          "showarrow": false,
          "text": "0.36",
          "x": 11,
          "xref": "x",
          "y": 8,
          "yref": "y"
         },
         {
          "font": {
           "color": "#FFFFFF",
           "size": 7
          },
          "showarrow": false,
          "text": "0.37",
          "x": 12,
          "xref": "x",
          "y": 8,
          "yref": "y"
         },
         {
          "font": {
           "color": "#FFFFFF",
           "size": 7
          },
          "showarrow": false,
          "text": "0.32",
          "x": 0,
          "xref": "x",
          "y": 9,
          "yref": "y"
         },
         {
          "font": {
           "color": "#FFFFFF",
           "size": 7
          },
          "showarrow": false,
          "text": "0.33",
          "x": 1,
          "xref": "x",
          "y": 9,
          "yref": "y"
         },
         {
          "font": {
           "color": "#FFFFFF",
           "size": 7
          },
          "showarrow": false,
          "text": "0.36",
          "x": 2,
          "xref": "x",
          "y": 9,
          "yref": "y"
         },
         {
          "font": {
           "color": "#FFFFFF",
           "size": 7
          },
          "showarrow": false,
          "text": "0.36",
          "x": 3,
          "xref": "x",
          "y": 9,
          "yref": "y"
         },
         {
          "font": {
           "color": "#FFFFFF",
           "size": 7
          },
          "showarrow": false,
          "text": "0.35",
          "x": 4,
          "xref": "x",
          "y": 9,
          "yref": "y"
         },
         {
          "font": {
           "color": "#FFFFFF",
           "size": 7
          },
          "showarrow": false,
          "text": "0.35",
          "x": 5,
          "xref": "x",
          "y": 9,
          "yref": "y"
         },
         {
          "font": {
           "color": "#FFFFFF",
           "size": 7
          },
          "showarrow": false,
          "text": "0.37",
          "x": 6,
          "xref": "x",
          "y": 9,
          "yref": "y"
         },
         {
          "font": {
           "color": "#FFFFFF",
           "size": 7
          },
          "showarrow": false,
          "text": "0.37",
          "x": 7,
          "xref": "x",
          "y": 9,
          "yref": "y"
         },
         {
          "font": {
           "color": "#FFFFFF",
           "size": 7
          },
          "showarrow": false,
          "text": "0.37",
          "x": 8,
          "xref": "x",
          "y": 9,
          "yref": "y"
         },
         {
          "font": {
           "color": "#FFFFFF",
           "size": 7
          },
          "showarrow": false,
          "text": "0.36",
          "x": 9,
          "xref": "x",
          "y": 9,
          "yref": "y"
         },
         {
          "font": {
           "color": "#FFFFFF",
           "size": 7
          },
          "showarrow": false,
          "text": "0.36",
          "x": 10,
          "xref": "x",
          "y": 9,
          "yref": "y"
         },
         {
          "font": {
           "color": "#FFFFFF",
           "size": 7
          },
          "showarrow": false,
          "text": "0.36",
          "x": 11,
          "xref": "x",
          "y": 9,
          "yref": "y"
         },
         {
          "font": {
           "color": "#FFFFFF",
           "size": 7
          },
          "showarrow": false,
          "text": "0.36",
          "x": 12,
          "xref": "x",
          "y": 9,
          "yref": "y"
         },
         {
          "font": {
           "color": "#FFFFFF",
           "size": 7
          },
          "showarrow": false,
          "text": "0.32",
          "x": 0,
          "xref": "x",
          "y": 10,
          "yref": "y"
         },
         {
          "font": {
           "color": "#FFFFFF",
           "size": 7
          },
          "showarrow": false,
          "text": "0.35",
          "x": 1,
          "xref": "x",
          "y": 10,
          "yref": "y"
         },
         {
          "font": {
           "color": "#FFFFFF",
           "size": 7
          },
          "showarrow": false,
          "text": "0.39",
          "x": 2,
          "xref": "x",
          "y": 10,
          "yref": "y"
         },
         {
          "font": {
           "color": "#FFFFFF",
           "size": 7
          },
          "showarrow": false,
          "text": "0.41",
          "x": 3,
          "xref": "x",
          "y": 10,
          "yref": "y"
         },
         {
          "font": {
           "color": "#FFFFFF",
           "size": 7
          },
          "showarrow": false,
          "text": "0.4",
          "x": 4,
          "xref": "x",
          "y": 10,
          "yref": "y"
         },
         {
          "font": {
           "color": "#FFFFFF",
           "size": 7
          },
          "showarrow": false,
          "text": "0.37",
          "x": 5,
          "xref": "x",
          "y": 10,
          "yref": "y"
         },
         {
          "font": {
           "color": "#FFFFFF",
           "size": 7
          },
          "showarrow": false,
          "text": "0.37",
          "x": 6,
          "xref": "x",
          "y": 10,
          "yref": "y"
         },
         {
          "font": {
           "color": "#FFFFFF",
           "size": 7
          },
          "showarrow": false,
          "text": "0.36",
          "x": 7,
          "xref": "x",
          "y": 10,
          "yref": "y"
         },
         {
          "font": {
           "color": "#FFFFFF",
           "size": 7
          },
          "showarrow": false,
          "text": "0.36",
          "x": 8,
          "xref": "x",
          "y": 10,
          "yref": "y"
         },
         {
          "font": {
           "color": "#FFFFFF",
           "size": 7
          },
          "showarrow": false,
          "text": "0.35",
          "x": 9,
          "xref": "x",
          "y": 10,
          "yref": "y"
         },
         {
          "font": {
           "color": "#FFFFFF",
           "size": 7
          },
          "showarrow": false,
          "text": "0.35",
          "x": 10,
          "xref": "x",
          "y": 10,
          "yref": "y"
         },
         {
          "font": {
           "color": "#FFFFFF",
           "size": 7
          },
          "showarrow": false,
          "text": "0.35",
          "x": 11,
          "xref": "x",
          "y": 10,
          "yref": "y"
         },
         {
          "font": {
           "color": "#FFFFFF",
           "size": 7
          },
          "showarrow": false,
          "text": "0.36",
          "x": 12,
          "xref": "x",
          "y": 10,
          "yref": "y"
         },
         {
          "font": {
           "color": "#FFFFFF",
           "size": 7
          },
          "showarrow": false,
          "text": "0.31",
          "x": 0,
          "xref": "x",
          "y": 11,
          "yref": "y"
         },
         {
          "font": {
           "color": "#FFFFFF",
           "size": 7
          },
          "showarrow": false,
          "text": "0.35",
          "x": 1,
          "xref": "x",
          "y": 11,
          "yref": "y"
         },
         {
          "font": {
           "color": "#FFFFFF",
           "size": 7
          },
          "showarrow": false,
          "text": "0.41",
          "x": 2,
          "xref": "x",
          "y": 11,
          "yref": "y"
         },
         {
          "font": {
           "color": "#FFFFFF",
           "size": 7
          },
          "showarrow": false,
          "text": "0.42",
          "x": 3,
          "xref": "x",
          "y": 11,
          "yref": "y"
         },
         {
          "font": {
           "color": "#FFFFFF",
           "size": 7
          },
          "showarrow": false,
          "text": "0.39",
          "x": 4,
          "xref": "x",
          "y": 11,
          "yref": "y"
         },
         {
          "font": {
           "color": "#FFFFFF",
           "size": 7
          },
          "showarrow": false,
          "text": "0.36",
          "x": 5,
          "xref": "x",
          "y": 11,
          "yref": "y"
         },
         {
          "font": {
           "color": "#FFFFFF",
           "size": 7
          },
          "showarrow": false,
          "text": "0.36",
          "x": 6,
          "xref": "x",
          "y": 11,
          "yref": "y"
         },
         {
          "font": {
           "color": "#FFFFFF",
           "size": 7
          },
          "showarrow": false,
          "text": "0.34",
          "x": 7,
          "xref": "x",
          "y": 11,
          "yref": "y"
         },
         {
          "font": {
           "color": "#FFFFFF",
           "size": 7
          },
          "showarrow": false,
          "text": "0.36",
          "x": 8,
          "xref": "x",
          "y": 11,
          "yref": "y"
         },
         {
          "font": {
           "color": "#FFFFFF",
           "size": 7
          },
          "showarrow": false,
          "text": "0.34",
          "x": 9,
          "xref": "x",
          "y": 11,
          "yref": "y"
         },
         {
          "font": {
           "color": "#FFFFFF",
           "size": 7
          },
          "showarrow": false,
          "text": "0.35",
          "x": 10,
          "xref": "x",
          "y": 11,
          "yref": "y"
         },
         {
          "font": {
           "color": "#FFFFFF",
           "size": 7
          },
          "showarrow": false,
          "text": "0.34",
          "x": 11,
          "xref": "x",
          "y": 11,
          "yref": "y"
         },
         {
          "font": {
           "color": "#FFFFFF",
           "size": 7
          },
          "showarrow": false,
          "text": "0.34",
          "x": 12,
          "xref": "x",
          "y": 11,
          "yref": "y"
         },
         {
          "font": {
           "color": "#FFFFFF",
           "size": 7
          },
          "showarrow": false,
          "text": "0.31",
          "x": 0,
          "xref": "x",
          "y": 12,
          "yref": "y"
         },
         {
          "font": {
           "color": "#FFFFFF",
           "size": 7
          },
          "showarrow": false,
          "text": "0.33",
          "x": 1,
          "xref": "x",
          "y": 12,
          "yref": "y"
         },
         {
          "font": {
           "color": "#FFFFFF",
           "size": 7
          },
          "showarrow": false,
          "text": "0.39",
          "x": 2,
          "xref": "x",
          "y": 12,
          "yref": "y"
         },
         {
          "font": {
           "color": "#FFFFFF",
           "size": 7
          },
          "showarrow": false,
          "text": "0.39",
          "x": 3,
          "xref": "x",
          "y": 12,
          "yref": "y"
         },
         {
          "font": {
           "color": "#FFFFFF",
           "size": 7
          },
          "showarrow": false,
          "text": "0.38",
          "x": 4,
          "xref": "x",
          "y": 12,
          "yref": "y"
         },
         {
          "font": {
           "color": "#FFFFFF",
           "size": 7
          },
          "showarrow": false,
          "text": "0.35",
          "x": 5,
          "xref": "x",
          "y": 12,
          "yref": "y"
         },
         {
          "font": {
           "color": "#FFFFFF",
           "size": 7
          },
          "showarrow": false,
          "text": "0.33",
          "x": 6,
          "xref": "x",
          "y": 12,
          "yref": "y"
         },
         {
          "font": {
           "color": "#FFFFFF",
           "size": 7
          },
          "showarrow": false,
          "text": "0.34",
          "x": 7,
          "xref": "x",
          "y": 12,
          "yref": "y"
         },
         {
          "font": {
           "color": "#FFFFFF",
           "size": 7
          },
          "showarrow": false,
          "text": "0.34",
          "x": 8,
          "xref": "x",
          "y": 12,
          "yref": "y"
         },
         {
          "font": {
           "color": "#FFFFFF",
           "size": 7
          },
          "showarrow": false,
          "text": "0.34",
          "x": 9,
          "xref": "x",
          "y": 12,
          "yref": "y"
         },
         {
          "font": {
           "color": "#FFFFFF",
           "size": 7
          },
          "showarrow": false,
          "text": "0.34",
          "x": 10,
          "xref": "x",
          "y": 12,
          "yref": "y"
         },
         {
          "font": {
           "color": "#FFFFFF",
           "size": 7
          },
          "showarrow": false,
          "text": "0.34",
          "x": 11,
          "xref": "x",
          "y": 12,
          "yref": "y"
         },
         {
          "font": {
           "color": "#FFFFFF",
           "size": 7
          },
          "showarrow": false,
          "text": "0.34",
          "x": 12,
          "xref": "x",
          "y": 12,
          "yref": "y"
         }
        ],
        "template": {
         "data": {
          "bar": [
           {
            "error_x": {
             "color": "#2a3f5f"
            },
            "error_y": {
             "color": "#2a3f5f"
            },
            "marker": {
             "line": {
              "color": "#E5ECF6",
              "width": 0.5
             },
             "pattern": {
              "fillmode": "overlay",
              "size": 10,
              "solidity": 0.2
             }
            },
            "type": "bar"
           }
          ],
          "barpolar": [
           {
            "marker": {
             "line": {
              "color": "#E5ECF6",
              "width": 0.5
             },
             "pattern": {
              "fillmode": "overlay",
              "size": 10,
              "solidity": 0.2
             }
            },
            "type": "barpolar"
           }
          ],
          "carpet": [
           {
            "aaxis": {
             "endlinecolor": "#2a3f5f",
             "gridcolor": "white",
             "linecolor": "white",
             "minorgridcolor": "white",
             "startlinecolor": "#2a3f5f"
            },
            "baxis": {
             "endlinecolor": "#2a3f5f",
             "gridcolor": "white",
             "linecolor": "white",
             "minorgridcolor": "white",
             "startlinecolor": "#2a3f5f"
            },
            "type": "carpet"
           }
          ],
          "choropleth": [
           {
            "colorbar": {
             "outlinewidth": 0,
             "ticks": ""
            },
            "type": "choropleth"
           }
          ],
          "contour": [
           {
            "colorbar": {
             "outlinewidth": 0,
             "ticks": ""
            },
            "colorscale": [
             [
              0,
              "#0d0887"
             ],
             [
              0.1111111111111111,
              "#46039f"
             ],
             [
              0.2222222222222222,
              "#7201a8"
             ],
             [
              0.3333333333333333,
              "#9c179e"
             ],
             [
              0.4444444444444444,
              "#bd3786"
             ],
             [
              0.5555555555555556,
              "#d8576b"
             ],
             [
              0.6666666666666666,
              "#ed7953"
             ],
             [
              0.7777777777777778,
              "#fb9f3a"
             ],
             [
              0.8888888888888888,
              "#fdca26"
             ],
             [
              1,
              "#f0f921"
             ]
            ],
            "type": "contour"
           }
          ],
          "contourcarpet": [
           {
            "colorbar": {
             "outlinewidth": 0,
             "ticks": ""
            },
            "type": "contourcarpet"
           }
          ],
          "heatmap": [
           {
            "colorbar": {
             "outlinewidth": 0,
             "ticks": ""
            },
            "colorscale": [
             [
              0,
              "#0d0887"
             ],
             [
              0.1111111111111111,
              "#46039f"
             ],
             [
              0.2222222222222222,
              "#7201a8"
             ],
             [
              0.3333333333333333,
              "#9c179e"
             ],
             [
              0.4444444444444444,
              "#bd3786"
             ],
             [
              0.5555555555555556,
              "#d8576b"
             ],
             [
              0.6666666666666666,
              "#ed7953"
             ],
             [
              0.7777777777777778,
              "#fb9f3a"
             ],
             [
              0.8888888888888888,
              "#fdca26"
             ],
             [
              1,
              "#f0f921"
             ]
            ],
            "type": "heatmap"
           }
          ],
          "heatmapgl": [
           {
            "colorbar": {
             "outlinewidth": 0,
             "ticks": ""
            },
            "colorscale": [
             [
              0,
              "#0d0887"
             ],
             [
              0.1111111111111111,
              "#46039f"
             ],
             [
              0.2222222222222222,
              "#7201a8"
             ],
             [
              0.3333333333333333,
              "#9c179e"
             ],
             [
              0.4444444444444444,
              "#bd3786"
             ],
             [
              0.5555555555555556,
              "#d8576b"
             ],
             [
              0.6666666666666666,
              "#ed7953"
             ],
             [
              0.7777777777777778,
              "#fb9f3a"
             ],
             [
              0.8888888888888888,
              "#fdca26"
             ],
             [
              1,
              "#f0f921"
             ]
            ],
            "type": "heatmapgl"
           }
          ],
          "histogram": [
           {
            "marker": {
             "pattern": {
              "fillmode": "overlay",
              "size": 10,
              "solidity": 0.2
             }
            },
            "type": "histogram"
           }
          ],
          "histogram2d": [
           {
            "colorbar": {
             "outlinewidth": 0,
             "ticks": ""
            },
            "colorscale": [
             [
              0,
              "#0d0887"
             ],
             [
              0.1111111111111111,
              "#46039f"
             ],
             [
              0.2222222222222222,
              "#7201a8"
             ],
             [
              0.3333333333333333,
              "#9c179e"
             ],
             [
              0.4444444444444444,
              "#bd3786"
             ],
             [
              0.5555555555555556,
              "#d8576b"
             ],
             [
              0.6666666666666666,
              "#ed7953"
             ],
             [
              0.7777777777777778,
              "#fb9f3a"
             ],
             [
              0.8888888888888888,
              "#fdca26"
             ],
             [
              1,
              "#f0f921"
             ]
            ],
            "type": "histogram2d"
           }
          ],
          "histogram2dcontour": [
           {
            "colorbar": {
             "outlinewidth": 0,
             "ticks": ""
            },
            "colorscale": [
             [
              0,
              "#0d0887"
             ],
             [
              0.1111111111111111,
              "#46039f"
             ],
             [
              0.2222222222222222,
              "#7201a8"
             ],
             [
              0.3333333333333333,
              "#9c179e"
             ],
             [
              0.4444444444444444,
              "#bd3786"
             ],
             [
              0.5555555555555556,
              "#d8576b"
             ],
             [
              0.6666666666666666,
              "#ed7953"
             ],
             [
              0.7777777777777778,
              "#fb9f3a"
             ],
             [
              0.8888888888888888,
              "#fdca26"
             ],
             [
              1,
              "#f0f921"
             ]
            ],
            "type": "histogram2dcontour"
           }
          ],
          "mesh3d": [
           {
            "colorbar": {
             "outlinewidth": 0,
             "ticks": ""
            },
            "type": "mesh3d"
           }
          ],
          "parcoords": [
           {
            "line": {
             "colorbar": {
              "outlinewidth": 0,
              "ticks": ""
             }
            },
            "type": "parcoords"
           }
          ],
          "pie": [
           {
            "automargin": true,
            "type": "pie"
           }
          ],
          "scatter": [
           {
            "fillpattern": {
             "fillmode": "overlay",
             "size": 10,
             "solidity": 0.2
            },
            "type": "scatter"
           }
          ],
          "scatter3d": [
           {
            "line": {
             "colorbar": {
              "outlinewidth": 0,
              "ticks": ""
             }
            },
            "marker": {
             "colorbar": {
              "outlinewidth": 0,
              "ticks": ""
             }
            },
            "type": "scatter3d"
           }
          ],
          "scattercarpet": [
           {
            "marker": {
             "colorbar": {
              "outlinewidth": 0,
              "ticks": ""
             }
            },
            "type": "scattercarpet"
           }
          ],
          "scattergeo": [
           {
            "marker": {
             "colorbar": {
              "outlinewidth": 0,
              "ticks": ""
             }
            },
            "type": "scattergeo"
           }
          ],
          "scattergl": [
           {
            "marker": {
             "colorbar": {
              "outlinewidth": 0,
              "ticks": ""
             }
            },
            "type": "scattergl"
           }
          ],
          "scattermapbox": [
           {
            "marker": {
             "colorbar": {
              "outlinewidth": 0,
              "ticks": ""
             }
            },
            "type": "scattermapbox"
           }
          ],
          "scatterpolar": [
           {
            "marker": {
             "colorbar": {
              "outlinewidth": 0,
              "ticks": ""
             }
            },
            "type": "scatterpolar"
           }
          ],
          "scatterpolargl": [
           {
            "marker": {
             "colorbar": {
              "outlinewidth": 0,
              "ticks": ""
             }
            },
            "type": "scatterpolargl"
           }
          ],
          "scatterternary": [
           {
            "marker": {
             "colorbar": {
              "outlinewidth": 0,
              "ticks": ""
             }
            },
            "type": "scatterternary"
           }
          ],
          "surface": [
           {
            "colorbar": {
             "outlinewidth": 0,
             "ticks": ""
            },
            "colorscale": [
             [
              0,
              "#0d0887"
             ],
             [
              0.1111111111111111,
              "#46039f"
             ],
             [
              0.2222222222222222,
              "#7201a8"
             ],
             [
              0.3333333333333333,
              "#9c179e"
             ],
             [
              0.4444444444444444,
              "#bd3786"
             ],
             [
              0.5555555555555556,
              "#d8576b"
             ],
             [
              0.6666666666666666,
              "#ed7953"
             ],
             [
              0.7777777777777778,
              "#fb9f3a"
             ],
             [
              0.8888888888888888,
              "#fdca26"
             ],
             [
              1,
              "#f0f921"
             ]
            ],
            "type": "surface"
           }
          ],
          "table": [
           {
            "cells": {
             "fill": {
              "color": "#EBF0F8"
             },
             "line": {
              "color": "white"
             }
            },
            "header": {
             "fill": {
              "color": "#C8D4E3"
             },
             "line": {
              "color": "white"
             }
            },
            "type": "table"
           }
          ]
         },
         "layout": {
          "annotationdefaults": {
           "arrowcolor": "#2a3f5f",
           "arrowhead": 0,
           "arrowwidth": 1
          },
          "autotypenumbers": "strict",
          "coloraxis": {
           "colorbar": {
            "outlinewidth": 0,
            "ticks": ""
           }
          },
          "colorscale": {
           "diverging": [
            [
             0,
             "#8e0152"
            ],
            [
             0.1,
             "#c51b7d"
            ],
            [
             0.2,
             "#de77ae"
            ],
            [
             0.3,
             "#f1b6da"
            ],
            [
             0.4,
             "#fde0ef"
            ],
            [
             0.5,
             "#f7f7f7"
            ],
            [
             0.6,
             "#e6f5d0"
            ],
            [
             0.7,
             "#b8e186"
            ],
            [
             0.8,
             "#7fbc41"
            ],
            [
             0.9,
             "#4d9221"
            ],
            [
             1,
             "#276419"
            ]
           ],
           "sequential": [
            [
             0,
             "#0d0887"
            ],
            [
             0.1111111111111111,
             "#46039f"
            ],
            [
             0.2222222222222222,
             "#7201a8"
            ],
            [
             0.3333333333333333,
             "#9c179e"
            ],
            [
             0.4444444444444444,
             "#bd3786"
            ],
            [
             0.5555555555555556,
             "#d8576b"
            ],
            [
             0.6666666666666666,
             "#ed7953"
            ],
            [
             0.7777777777777778,
             "#fb9f3a"
            ],
            [
             0.8888888888888888,
             "#fdca26"
            ],
            [
             1,
             "#f0f921"
            ]
           ],
           "sequentialminus": [
            [
             0,
             "#0d0887"
            ],
            [
             0.1111111111111111,
             "#46039f"
            ],
            [
             0.2222222222222222,
             "#7201a8"
            ],
            [
             0.3333333333333333,
             "#9c179e"
            ],
            [
             0.4444444444444444,
             "#bd3786"
            ],
            [
             0.5555555555555556,
             "#d8576b"
            ],
            [
             0.6666666666666666,
             "#ed7953"
            ],
            [
             0.7777777777777778,
             "#fb9f3a"
            ],
            [
             0.8888888888888888,
             "#fdca26"
            ],
            [
             1,
             "#f0f921"
            ]
           ]
          },
          "colorway": [
           "#636efa",
           "#EF553B",
           "#00cc96",
           "#ab63fa",
           "#FFA15A",
           "#19d3f3",
           "#FF6692",
           "#B6E880",
           "#FF97FF",
           "#FECB52"
          ],
          "font": {
           "color": "#2a3f5f"
          },
          "geo": {
           "bgcolor": "white",
           "lakecolor": "white",
           "landcolor": "#E5ECF6",
           "showlakes": true,
           "showland": true,
           "subunitcolor": "white"
          },
          "hoverlabel": {
           "align": "left"
          },
          "hovermode": "closest",
          "mapbox": {
           "style": "light"
          },
          "paper_bgcolor": "white",
          "plot_bgcolor": "#E5ECF6",
          "polar": {
           "angularaxis": {
            "gridcolor": "white",
            "linecolor": "white",
            "ticks": ""
           },
           "bgcolor": "#E5ECF6",
           "radialaxis": {
            "gridcolor": "white",
            "linecolor": "white",
            "ticks": ""
           }
          },
          "scene": {
           "xaxis": {
            "backgroundcolor": "#E5ECF6",
            "gridcolor": "white",
            "gridwidth": 2,
            "linecolor": "white",
            "showbackground": true,
            "ticks": "",
            "zerolinecolor": "white"
           },
           "yaxis": {
            "backgroundcolor": "#E5ECF6",
            "gridcolor": "white",
            "gridwidth": 2,
            "linecolor": "white",
            "showbackground": true,
            "ticks": "",
            "zerolinecolor": "white"
           },
           "zaxis": {
            "backgroundcolor": "#E5ECF6",
            "gridcolor": "white",
            "gridwidth": 2,
            "linecolor": "white",
            "showbackground": true,
            "ticks": "",
            "zerolinecolor": "white"
           }
          },
          "shapedefaults": {
           "line": {
            "color": "#2a3f5f"
           }
          },
          "ternary": {
           "aaxis": {
            "gridcolor": "white",
            "linecolor": "white",
            "ticks": ""
           },
           "baxis": {
            "gridcolor": "white",
            "linecolor": "white",
            "ticks": ""
           },
           "bgcolor": "#E5ECF6",
           "caxis": {
            "gridcolor": "white",
            "linecolor": "white",
            "ticks": ""
           }
          },
          "title": {
           "x": 0.05
          },
          "xaxis": {
           "automargin": true,
           "gridcolor": "white",
           "linecolor": "white",
           "ticks": "",
           "title": {
            "standoff": 15
           },
           "zerolinecolor": "white",
           "zerolinewidth": 2
          },
          "yaxis": {
           "automargin": true,
           "gridcolor": "white",
           "linecolor": "white",
           "ticks": "",
           "title": {
            "standoff": 15
           },
           "zerolinecolor": "white",
           "zerolinewidth": 2
          }
         }
        },
        "title": {
         "text": "Spiled"
        },
        "xaxis": {
         "gridcolor": "rgb(0, 0, 0)",
         "showticklabels": false,
         "side": "top",
         "ticks": ""
        },
        "yaxis": {
         "showticklabels": false,
         "ticks": "",
         "ticksuffix": "  "
        }
       }
      },
      "text/html": [
       "<div>                            <div id=\"a8d716fc-e19f-4562-9d17-14c8c48d33e5\" class=\"plotly-graph-div\" style=\"height:525px; width:100%;\"></div>            <script type=\"text/javascript\">                require([\"plotly\"], function(Plotly) {                    window.PLOTLYENV=window.PLOTLYENV || {};                                    if (document.getElementById(\"a8d716fc-e19f-4562-9d17-14c8c48d33e5\")) {                    Plotly.newPlot(                        \"a8d716fc-e19f-4562-9d17-14c8c48d33e5\",                        [{\"colorscale\":[[0.0,\"#0d0887\"],[0.1111111111111111,\"#46039f\"],[0.2222222222222222,\"#7201a8\"],[0.3333333333333333,\"#9c179e\"],[0.4444444444444444,\"#bd3786\"],[0.5555555555555556,\"#d8576b\"],[0.6666666666666666,\"#ed7953\"],[0.7777777777777778,\"#fb9f3a\"],[0.8888888888888888,\"#fdca26\"],[1.0,\"#f0f921\"]],\"reversescale\":false,\"showscale\":true,\"z\":[[0.74,0.74,0.74,0.73,0.69,0.66,0.66,0.65,0.63,0.52,0.45,0.42,0.41],[0.7,0.7,0.71,0.71,0.67,0.65,0.65,0.64,0.61,0.53,0.44,0.43,0.42],[0.66,0.66,0.66,0.66,0.64,0.64,0.63,0.62,0.59,0.54,0.48,0.44,0.43],[0.62,0.61,0.61,0.59,0.58,0.59,0.61,0.61,0.58,0.54,0.5,0.46,0.43],[0.57,0.58,0.56,0.55,0.54,0.56,0.58,0.57,0.54,0.51,0.49,0.46,0.44],[0.53,0.53,0.52,0.51,0.51,0.52,0.53,0.51,0.47,0.45,0.44,0.43,0.42],[0.47,0.45,0.41,0.4,0.45,0.47,0.47,0.44,0.42,0.4,0.4,0.39,0.4],[0.42,0.37,0.34,0.33,0.34,0.4,0.39,0.4,0.39,0.37,0.38,0.38,0.38],[0.33,0.32,0.32,0.31,0.33,0.37,0.38,0.39,0.38,0.37,0.36,0.36,0.37],[0.32,0.33,0.36,0.36,0.35,0.35,0.37,0.37,0.37,0.36,0.36,0.36,0.36],[0.32,0.35,0.39,0.41,0.4,0.37,0.37,0.36,0.36,0.35,0.35,0.35,0.36],[0.31,0.35,0.41,0.42,0.39,0.36,0.36,0.34,0.36,0.34,0.35,0.34,0.34],[0.31,0.33,0.39,0.39,0.38,0.35,0.33,0.34,0.34,0.34,0.34,0.34,0.34]],\"type\":\"heatmap\"}],                        {\"annotations\":[{\"font\":{\"color\":\"#000000\",\"size\":7},\"showarrow\":false,\"text\":\"0.74\",\"x\":0,\"xref\":\"x\",\"y\":0,\"yref\":\"y\"},{\"font\":{\"color\":\"#000000\",\"size\":7},\"showarrow\":false,\"text\":\"0.74\",\"x\":1,\"xref\":\"x\",\"y\":0,\"yref\":\"y\"},{\"font\":{\"color\":\"#000000\",\"size\":7},\"showarrow\":false,\"text\":\"0.74\",\"x\":2,\"xref\":\"x\",\"y\":0,\"yref\":\"y\"},{\"font\":{\"color\":\"#000000\",\"size\":7},\"showarrow\":false,\"text\":\"0.73\",\"x\":3,\"xref\":\"x\",\"y\":0,\"yref\":\"y\"},{\"font\":{\"color\":\"#000000\",\"size\":7},\"showarrow\":false,\"text\":\"0.69\",\"x\":4,\"xref\":\"x\",\"y\":0,\"yref\":\"y\"},{\"font\":{\"color\":\"#000000\",\"size\":7},\"showarrow\":false,\"text\":\"0.66\",\"x\":5,\"xref\":\"x\",\"y\":0,\"yref\":\"y\"},{\"font\":{\"color\":\"#000000\",\"size\":7},\"showarrow\":false,\"text\":\"0.66\",\"x\":6,\"xref\":\"x\",\"y\":0,\"yref\":\"y\"},{\"font\":{\"color\":\"#000000\",\"size\":7},\"showarrow\":false,\"text\":\"0.65\",\"x\":7,\"xref\":\"x\",\"y\":0,\"yref\":\"y\"},{\"font\":{\"color\":\"#000000\",\"size\":7},\"showarrow\":false,\"text\":\"0.63\",\"x\":8,\"xref\":\"x\",\"y\":0,\"yref\":\"y\"},{\"font\":{\"color\":\"#FFFFFF\",\"size\":7},\"showarrow\":false,\"text\":\"0.52\",\"x\":9,\"xref\":\"x\",\"y\":0,\"yref\":\"y\"},{\"font\":{\"color\":\"#FFFFFF\",\"size\":7},\"showarrow\":false,\"text\":\"0.45\",\"x\":10,\"xref\":\"x\",\"y\":0,\"yref\":\"y\"},{\"font\":{\"color\":\"#FFFFFF\",\"size\":7},\"showarrow\":false,\"text\":\"0.42\",\"x\":11,\"xref\":\"x\",\"y\":0,\"yref\":\"y\"},{\"font\":{\"color\":\"#FFFFFF\",\"size\":7},\"showarrow\":false,\"text\":\"0.41\",\"x\":12,\"xref\":\"x\",\"y\":0,\"yref\":\"y\"},{\"font\":{\"color\":\"#000000\",\"size\":7},\"showarrow\":false,\"text\":\"0.7\",\"x\":0,\"xref\":\"x\",\"y\":1,\"yref\":\"y\"},{\"font\":{\"color\":\"#000000\",\"size\":7},\"showarrow\":false,\"text\":\"0.7\",\"x\":1,\"xref\":\"x\",\"y\":1,\"yref\":\"y\"},{\"font\":{\"color\":\"#000000\",\"size\":7},\"showarrow\":false,\"text\":\"0.71\",\"x\":2,\"xref\":\"x\",\"y\":1,\"yref\":\"y\"},{\"font\":{\"color\":\"#000000\",\"size\":7},\"showarrow\":false,\"text\":\"0.71\",\"x\":3,\"xref\":\"x\",\"y\":1,\"yref\":\"y\"},{\"font\":{\"color\":\"#000000\",\"size\":7},\"showarrow\":false,\"text\":\"0.67\",\"x\":4,\"xref\":\"x\",\"y\":1,\"yref\":\"y\"},{\"font\":{\"color\":\"#000000\",\"size\":7},\"showarrow\":false,\"text\":\"0.65\",\"x\":5,\"xref\":\"x\",\"y\":1,\"yref\":\"y\"},{\"font\":{\"color\":\"#000000\",\"size\":7},\"showarrow\":false,\"text\":\"0.65\",\"x\":6,\"xref\":\"x\",\"y\":1,\"yref\":\"y\"},{\"font\":{\"color\":\"#000000\",\"size\":7},\"showarrow\":false,\"text\":\"0.64\",\"x\":7,\"xref\":\"x\",\"y\":1,\"yref\":\"y\"},{\"font\":{\"color\":\"#000000\",\"size\":7},\"showarrow\":false,\"text\":\"0.61\",\"x\":8,\"xref\":\"x\",\"y\":1,\"yref\":\"y\"},{\"font\":{\"color\":\"#000000\",\"size\":7},\"showarrow\":false,\"text\":\"0.53\",\"x\":9,\"xref\":\"x\",\"y\":1,\"yref\":\"y\"},{\"font\":{\"color\":\"#FFFFFF\",\"size\":7},\"showarrow\":false,\"text\":\"0.44\",\"x\":10,\"xref\":\"x\",\"y\":1,\"yref\":\"y\"},{\"font\":{\"color\":\"#FFFFFF\",\"size\":7},\"showarrow\":false,\"text\":\"0.43\",\"x\":11,\"xref\":\"x\",\"y\":1,\"yref\":\"y\"},{\"font\":{\"color\":\"#FFFFFF\",\"size\":7},\"showarrow\":false,\"text\":\"0.42\",\"x\":12,\"xref\":\"x\",\"y\":1,\"yref\":\"y\"},{\"font\":{\"color\":\"#000000\",\"size\":7},\"showarrow\":false,\"text\":\"0.66\",\"x\":0,\"xref\":\"x\",\"y\":2,\"yref\":\"y\"},{\"font\":{\"color\":\"#000000\",\"size\":7},\"showarrow\":false,\"text\":\"0.66\",\"x\":1,\"xref\":\"x\",\"y\":2,\"yref\":\"y\"},{\"font\":{\"color\":\"#000000\",\"size\":7},\"showarrow\":false,\"text\":\"0.66\",\"x\":2,\"xref\":\"x\",\"y\":2,\"yref\":\"y\"},{\"font\":{\"color\":\"#000000\",\"size\":7},\"showarrow\":false,\"text\":\"0.66\",\"x\":3,\"xref\":\"x\",\"y\":2,\"yref\":\"y\"},{\"font\":{\"color\":\"#000000\",\"size\":7},\"showarrow\":false,\"text\":\"0.64\",\"x\":4,\"xref\":\"x\",\"y\":2,\"yref\":\"y\"},{\"font\":{\"color\":\"#000000\",\"size\":7},\"showarrow\":false,\"text\":\"0.64\",\"x\":5,\"xref\":\"x\",\"y\":2,\"yref\":\"y\"},{\"font\":{\"color\":\"#000000\",\"size\":7},\"showarrow\":false,\"text\":\"0.63\",\"x\":6,\"xref\":\"x\",\"y\":2,\"yref\":\"y\"},{\"font\":{\"color\":\"#000000\",\"size\":7},\"showarrow\":false,\"text\":\"0.62\",\"x\":7,\"xref\":\"x\",\"y\":2,\"yref\":\"y\"},{\"font\":{\"color\":\"#000000\",\"size\":7},\"showarrow\":false,\"text\":\"0.59\",\"x\":8,\"xref\":\"x\",\"y\":2,\"yref\":\"y\"},{\"font\":{\"color\":\"#000000\",\"size\":7},\"showarrow\":false,\"text\":\"0.54\",\"x\":9,\"xref\":\"x\",\"y\":2,\"yref\":\"y\"},{\"font\":{\"color\":\"#FFFFFF\",\"size\":7},\"showarrow\":false,\"text\":\"0.48\",\"x\":10,\"xref\":\"x\",\"y\":2,\"yref\":\"y\"},{\"font\":{\"color\":\"#FFFFFF\",\"size\":7},\"showarrow\":false,\"text\":\"0.44\",\"x\":11,\"xref\":\"x\",\"y\":2,\"yref\":\"y\"},{\"font\":{\"color\":\"#FFFFFF\",\"size\":7},\"showarrow\":false,\"text\":\"0.43\",\"x\":12,\"xref\":\"x\",\"y\":2,\"yref\":\"y\"},{\"font\":{\"color\":\"#000000\",\"size\":7},\"showarrow\":false,\"text\":\"0.62\",\"x\":0,\"xref\":\"x\",\"y\":3,\"yref\":\"y\"},{\"font\":{\"color\":\"#000000\",\"size\":7},\"showarrow\":false,\"text\":\"0.61\",\"x\":1,\"xref\":\"x\",\"y\":3,\"yref\":\"y\"},{\"font\":{\"color\":\"#000000\",\"size\":7},\"showarrow\":false,\"text\":\"0.61\",\"x\":2,\"xref\":\"x\",\"y\":3,\"yref\":\"y\"},{\"font\":{\"color\":\"#000000\",\"size\":7},\"showarrow\":false,\"text\":\"0.59\",\"x\":3,\"xref\":\"x\",\"y\":3,\"yref\":\"y\"},{\"font\":{\"color\":\"#000000\",\"size\":7},\"showarrow\":false,\"text\":\"0.58\",\"x\":4,\"xref\":\"x\",\"y\":3,\"yref\":\"y\"},{\"font\":{\"color\":\"#000000\",\"size\":7},\"showarrow\":false,\"text\":\"0.59\",\"x\":5,\"xref\":\"x\",\"y\":3,\"yref\":\"y\"},{\"font\":{\"color\":\"#000000\",\"size\":7},\"showarrow\":false,\"text\":\"0.61\",\"x\":6,\"xref\":\"x\",\"y\":3,\"yref\":\"y\"},{\"font\":{\"color\":\"#000000\",\"size\":7},\"showarrow\":false,\"text\":\"0.61\",\"x\":7,\"xref\":\"x\",\"y\":3,\"yref\":\"y\"},{\"font\":{\"color\":\"#000000\",\"size\":7},\"showarrow\":false,\"text\":\"0.58\",\"x\":8,\"xref\":\"x\",\"y\":3,\"yref\":\"y\"},{\"font\":{\"color\":\"#000000\",\"size\":7},\"showarrow\":false,\"text\":\"0.54\",\"x\":9,\"xref\":\"x\",\"y\":3,\"yref\":\"y\"},{\"font\":{\"color\":\"#FFFFFF\",\"size\":7},\"showarrow\":false,\"text\":\"0.5\",\"x\":10,\"xref\":\"x\",\"y\":3,\"yref\":\"y\"},{\"font\":{\"color\":\"#FFFFFF\",\"size\":7},\"showarrow\":false,\"text\":\"0.46\",\"x\":11,\"xref\":\"x\",\"y\":3,\"yref\":\"y\"},{\"font\":{\"color\":\"#FFFFFF\",\"size\":7},\"showarrow\":false,\"text\":\"0.43\",\"x\":12,\"xref\":\"x\",\"y\":3,\"yref\":\"y\"},{\"font\":{\"color\":\"#000000\",\"size\":7},\"showarrow\":false,\"text\":\"0.57\",\"x\":0,\"xref\":\"x\",\"y\":4,\"yref\":\"y\"},{\"font\":{\"color\":\"#000000\",\"size\":7},\"showarrow\":false,\"text\":\"0.58\",\"x\":1,\"xref\":\"x\",\"y\":4,\"yref\":\"y\"},{\"font\":{\"color\":\"#000000\",\"size\":7},\"showarrow\":false,\"text\":\"0.56\",\"x\":2,\"xref\":\"x\",\"y\":4,\"yref\":\"y\"},{\"font\":{\"color\":\"#000000\",\"size\":7},\"showarrow\":false,\"text\":\"0.55\",\"x\":3,\"xref\":\"x\",\"y\":4,\"yref\":\"y\"},{\"font\":{\"color\":\"#000000\",\"size\":7},\"showarrow\":false,\"text\":\"0.54\",\"x\":4,\"xref\":\"x\",\"y\":4,\"yref\":\"y\"},{\"font\":{\"color\":\"#000000\",\"size\":7},\"showarrow\":false,\"text\":\"0.56\",\"x\":5,\"xref\":\"x\",\"y\":4,\"yref\":\"y\"},{\"font\":{\"color\":\"#000000\",\"size\":7},\"showarrow\":false,\"text\":\"0.58\",\"x\":6,\"xref\":\"x\",\"y\":4,\"yref\":\"y\"},{\"font\":{\"color\":\"#000000\",\"size\":7},\"showarrow\":false,\"text\":\"0.57\",\"x\":7,\"xref\":\"x\",\"y\":4,\"yref\":\"y\"},{\"font\":{\"color\":\"#000000\",\"size\":7},\"showarrow\":false,\"text\":\"0.54\",\"x\":8,\"xref\":\"x\",\"y\":4,\"yref\":\"y\"},{\"font\":{\"color\":\"#FFFFFF\",\"size\":7},\"showarrow\":false,\"text\":\"0.51\",\"x\":9,\"xref\":\"x\",\"y\":4,\"yref\":\"y\"},{\"font\":{\"color\":\"#FFFFFF\",\"size\":7},\"showarrow\":false,\"text\":\"0.49\",\"x\":10,\"xref\":\"x\",\"y\":4,\"yref\":\"y\"},{\"font\":{\"color\":\"#FFFFFF\",\"size\":7},\"showarrow\":false,\"text\":\"0.46\",\"x\":11,\"xref\":\"x\",\"y\":4,\"yref\":\"y\"},{\"font\":{\"color\":\"#FFFFFF\",\"size\":7},\"showarrow\":false,\"text\":\"0.44\",\"x\":12,\"xref\":\"x\",\"y\":4,\"yref\":\"y\"},{\"font\":{\"color\":\"#000000\",\"size\":7},\"showarrow\":false,\"text\":\"0.53\",\"x\":0,\"xref\":\"x\",\"y\":5,\"yref\":\"y\"},{\"font\":{\"color\":\"#000000\",\"size\":7},\"showarrow\":false,\"text\":\"0.53\",\"x\":1,\"xref\":\"x\",\"y\":5,\"yref\":\"y\"},{\"font\":{\"color\":\"#FFFFFF\",\"size\":7},\"showarrow\":false,\"text\":\"0.52\",\"x\":2,\"xref\":\"x\",\"y\":5,\"yref\":\"y\"},{\"font\":{\"color\":\"#FFFFFF\",\"size\":7},\"showarrow\":false,\"text\":\"0.51\",\"x\":3,\"xref\":\"x\",\"y\":5,\"yref\":\"y\"},{\"font\":{\"color\":\"#FFFFFF\",\"size\":7},\"showarrow\":false,\"text\":\"0.51\",\"x\":4,\"xref\":\"x\",\"y\":5,\"yref\":\"y\"},{\"font\":{\"color\":\"#FFFFFF\",\"size\":7},\"showarrow\":false,\"text\":\"0.52\",\"x\":5,\"xref\":\"x\",\"y\":5,\"yref\":\"y\"},{\"font\":{\"color\":\"#000000\",\"size\":7},\"showarrow\":false,\"text\":\"0.53\",\"x\":6,\"xref\":\"x\",\"y\":5,\"yref\":\"y\"},{\"font\":{\"color\":\"#FFFFFF\",\"size\":7},\"showarrow\":false,\"text\":\"0.51\",\"x\":7,\"xref\":\"x\",\"y\":5,\"yref\":\"y\"},{\"font\":{\"color\":\"#FFFFFF\",\"size\":7},\"showarrow\":false,\"text\":\"0.47\",\"x\":8,\"xref\":\"x\",\"y\":5,\"yref\":\"y\"},{\"font\":{\"color\":\"#FFFFFF\",\"size\":7},\"showarrow\":false,\"text\":\"0.45\",\"x\":9,\"xref\":\"x\",\"y\":5,\"yref\":\"y\"},{\"font\":{\"color\":\"#FFFFFF\",\"size\":7},\"showarrow\":false,\"text\":\"0.44\",\"x\":10,\"xref\":\"x\",\"y\":5,\"yref\":\"y\"},{\"font\":{\"color\":\"#FFFFFF\",\"size\":7},\"showarrow\":false,\"text\":\"0.43\",\"x\":11,\"xref\":\"x\",\"y\":5,\"yref\":\"y\"},{\"font\":{\"color\":\"#FFFFFF\",\"size\":7},\"showarrow\":false,\"text\":\"0.42\",\"x\":12,\"xref\":\"x\",\"y\":5,\"yref\":\"y\"},{\"font\":{\"color\":\"#FFFFFF\",\"size\":7},\"showarrow\":false,\"text\":\"0.47\",\"x\":0,\"xref\":\"x\",\"y\":6,\"yref\":\"y\"},{\"font\":{\"color\":\"#FFFFFF\",\"size\":7},\"showarrow\":false,\"text\":\"0.45\",\"x\":1,\"xref\":\"x\",\"y\":6,\"yref\":\"y\"},{\"font\":{\"color\":\"#FFFFFF\",\"size\":7},\"showarrow\":false,\"text\":\"0.41\",\"x\":2,\"xref\":\"x\",\"y\":6,\"yref\":\"y\"},{\"font\":{\"color\":\"#FFFFFF\",\"size\":7},\"showarrow\":false,\"text\":\"0.4\",\"x\":3,\"xref\":\"x\",\"y\":6,\"yref\":\"y\"},{\"font\":{\"color\":\"#FFFFFF\",\"size\":7},\"showarrow\":false,\"text\":\"0.45\",\"x\":4,\"xref\":\"x\",\"y\":6,\"yref\":\"y\"},{\"font\":{\"color\":\"#FFFFFF\",\"size\":7},\"showarrow\":false,\"text\":\"0.47\",\"x\":5,\"xref\":\"x\",\"y\":6,\"yref\":\"y\"},{\"font\":{\"color\":\"#FFFFFF\",\"size\":7},\"showarrow\":false,\"text\":\"0.47\",\"x\":6,\"xref\":\"x\",\"y\":6,\"yref\":\"y\"},{\"font\":{\"color\":\"#FFFFFF\",\"size\":7},\"showarrow\":false,\"text\":\"0.44\",\"x\":7,\"xref\":\"x\",\"y\":6,\"yref\":\"y\"},{\"font\":{\"color\":\"#FFFFFF\",\"size\":7},\"showarrow\":false,\"text\":\"0.42\",\"x\":8,\"xref\":\"x\",\"y\":6,\"yref\":\"y\"},{\"font\":{\"color\":\"#FFFFFF\",\"size\":7},\"showarrow\":false,\"text\":\"0.4\",\"x\":9,\"xref\":\"x\",\"y\":6,\"yref\":\"y\"},{\"font\":{\"color\":\"#FFFFFF\",\"size\":7},\"showarrow\":false,\"text\":\"0.4\",\"x\":10,\"xref\":\"x\",\"y\":6,\"yref\":\"y\"},{\"font\":{\"color\":\"#FFFFFF\",\"size\":7},\"showarrow\":false,\"text\":\"0.39\",\"x\":11,\"xref\":\"x\",\"y\":6,\"yref\":\"y\"},{\"font\":{\"color\":\"#FFFFFF\",\"size\":7},\"showarrow\":false,\"text\":\"0.4\",\"x\":12,\"xref\":\"x\",\"y\":6,\"yref\":\"y\"},{\"font\":{\"color\":\"#FFFFFF\",\"size\":7},\"showarrow\":false,\"text\":\"0.42\",\"x\":0,\"xref\":\"x\",\"y\":7,\"yref\":\"y\"},{\"font\":{\"color\":\"#FFFFFF\",\"size\":7},\"showarrow\":false,\"text\":\"0.37\",\"x\":1,\"xref\":\"x\",\"y\":7,\"yref\":\"y\"},{\"font\":{\"color\":\"#FFFFFF\",\"size\":7},\"showarrow\":false,\"text\":\"0.34\",\"x\":2,\"xref\":\"x\",\"y\":7,\"yref\":\"y\"},{\"font\":{\"color\":\"#FFFFFF\",\"size\":7},\"showarrow\":false,\"text\":\"0.33\",\"x\":3,\"xref\":\"x\",\"y\":7,\"yref\":\"y\"},{\"font\":{\"color\":\"#FFFFFF\",\"size\":7},\"showarrow\":false,\"text\":\"0.34\",\"x\":4,\"xref\":\"x\",\"y\":7,\"yref\":\"y\"},{\"font\":{\"color\":\"#FFFFFF\",\"size\":7},\"showarrow\":false,\"text\":\"0.4\",\"x\":5,\"xref\":\"x\",\"y\":7,\"yref\":\"y\"},{\"font\":{\"color\":\"#FFFFFF\",\"size\":7},\"showarrow\":false,\"text\":\"0.39\",\"x\":6,\"xref\":\"x\",\"y\":7,\"yref\":\"y\"},{\"font\":{\"color\":\"#FFFFFF\",\"size\":7},\"showarrow\":false,\"text\":\"0.4\",\"x\":7,\"xref\":\"x\",\"y\":7,\"yref\":\"y\"},{\"font\":{\"color\":\"#FFFFFF\",\"size\":7},\"showarrow\":false,\"text\":\"0.39\",\"x\":8,\"xref\":\"x\",\"y\":7,\"yref\":\"y\"},{\"font\":{\"color\":\"#FFFFFF\",\"size\":7},\"showarrow\":false,\"text\":\"0.37\",\"x\":9,\"xref\":\"x\",\"y\":7,\"yref\":\"y\"},{\"font\":{\"color\":\"#FFFFFF\",\"size\":7},\"showarrow\":false,\"text\":\"0.38\",\"x\":10,\"xref\":\"x\",\"y\":7,\"yref\":\"y\"},{\"font\":{\"color\":\"#FFFFFF\",\"size\":7},\"showarrow\":false,\"text\":\"0.38\",\"x\":11,\"xref\":\"x\",\"y\":7,\"yref\":\"y\"},{\"font\":{\"color\":\"#FFFFFF\",\"size\":7},\"showarrow\":false,\"text\":\"0.38\",\"x\":12,\"xref\":\"x\",\"y\":7,\"yref\":\"y\"},{\"font\":{\"color\":\"#FFFFFF\",\"size\":7},\"showarrow\":false,\"text\":\"0.33\",\"x\":0,\"xref\":\"x\",\"y\":8,\"yref\":\"y\"},{\"font\":{\"color\":\"#FFFFFF\",\"size\":7},\"showarrow\":false,\"text\":\"0.32\",\"x\":1,\"xref\":\"x\",\"y\":8,\"yref\":\"y\"},{\"font\":{\"color\":\"#FFFFFF\",\"size\":7},\"showarrow\":false,\"text\":\"0.32\",\"x\":2,\"xref\":\"x\",\"y\":8,\"yref\":\"y\"},{\"font\":{\"color\":\"#FFFFFF\",\"size\":7},\"showarrow\":false,\"text\":\"0.31\",\"x\":3,\"xref\":\"x\",\"y\":8,\"yref\":\"y\"},{\"font\":{\"color\":\"#FFFFFF\",\"size\":7},\"showarrow\":false,\"text\":\"0.33\",\"x\":4,\"xref\":\"x\",\"y\":8,\"yref\":\"y\"},{\"font\":{\"color\":\"#FFFFFF\",\"size\":7},\"showarrow\":false,\"text\":\"0.37\",\"x\":5,\"xref\":\"x\",\"y\":8,\"yref\":\"y\"},{\"font\":{\"color\":\"#FFFFFF\",\"size\":7},\"showarrow\":false,\"text\":\"0.38\",\"x\":6,\"xref\":\"x\",\"y\":8,\"yref\":\"y\"},{\"font\":{\"color\":\"#FFFFFF\",\"size\":7},\"showarrow\":false,\"text\":\"0.39\",\"x\":7,\"xref\":\"x\",\"y\":8,\"yref\":\"y\"},{\"font\":{\"color\":\"#FFFFFF\",\"size\":7},\"showarrow\":false,\"text\":\"0.38\",\"x\":8,\"xref\":\"x\",\"y\":8,\"yref\":\"y\"},{\"font\":{\"color\":\"#FFFFFF\",\"size\":7},\"showarrow\":false,\"text\":\"0.37\",\"x\":9,\"xref\":\"x\",\"y\":8,\"yref\":\"y\"},{\"font\":{\"color\":\"#FFFFFF\",\"size\":7},\"showarrow\":false,\"text\":\"0.36\",\"x\":10,\"xref\":\"x\",\"y\":8,\"yref\":\"y\"},{\"font\":{\"color\":\"#FFFFFF\",\"size\":7},\"showarrow\":false,\"text\":\"0.36\",\"x\":11,\"xref\":\"x\",\"y\":8,\"yref\":\"y\"},{\"font\":{\"color\":\"#FFFFFF\",\"size\":7},\"showarrow\":false,\"text\":\"0.37\",\"x\":12,\"xref\":\"x\",\"y\":8,\"yref\":\"y\"},{\"font\":{\"color\":\"#FFFFFF\",\"size\":7},\"showarrow\":false,\"text\":\"0.32\",\"x\":0,\"xref\":\"x\",\"y\":9,\"yref\":\"y\"},{\"font\":{\"color\":\"#FFFFFF\",\"size\":7},\"showarrow\":false,\"text\":\"0.33\",\"x\":1,\"xref\":\"x\",\"y\":9,\"yref\":\"y\"},{\"font\":{\"color\":\"#FFFFFF\",\"size\":7},\"showarrow\":false,\"text\":\"0.36\",\"x\":2,\"xref\":\"x\",\"y\":9,\"yref\":\"y\"},{\"font\":{\"color\":\"#FFFFFF\",\"size\":7},\"showarrow\":false,\"text\":\"0.36\",\"x\":3,\"xref\":\"x\",\"y\":9,\"yref\":\"y\"},{\"font\":{\"color\":\"#FFFFFF\",\"size\":7},\"showarrow\":false,\"text\":\"0.35\",\"x\":4,\"xref\":\"x\",\"y\":9,\"yref\":\"y\"},{\"font\":{\"color\":\"#FFFFFF\",\"size\":7},\"showarrow\":false,\"text\":\"0.35\",\"x\":5,\"xref\":\"x\",\"y\":9,\"yref\":\"y\"},{\"font\":{\"color\":\"#FFFFFF\",\"size\":7},\"showarrow\":false,\"text\":\"0.37\",\"x\":6,\"xref\":\"x\",\"y\":9,\"yref\":\"y\"},{\"font\":{\"color\":\"#FFFFFF\",\"size\":7},\"showarrow\":false,\"text\":\"0.37\",\"x\":7,\"xref\":\"x\",\"y\":9,\"yref\":\"y\"},{\"font\":{\"color\":\"#FFFFFF\",\"size\":7},\"showarrow\":false,\"text\":\"0.37\",\"x\":8,\"xref\":\"x\",\"y\":9,\"yref\":\"y\"},{\"font\":{\"color\":\"#FFFFFF\",\"size\":7},\"showarrow\":false,\"text\":\"0.36\",\"x\":9,\"xref\":\"x\",\"y\":9,\"yref\":\"y\"},{\"font\":{\"color\":\"#FFFFFF\",\"size\":7},\"showarrow\":false,\"text\":\"0.36\",\"x\":10,\"xref\":\"x\",\"y\":9,\"yref\":\"y\"},{\"font\":{\"color\":\"#FFFFFF\",\"size\":7},\"showarrow\":false,\"text\":\"0.36\",\"x\":11,\"xref\":\"x\",\"y\":9,\"yref\":\"y\"},{\"font\":{\"color\":\"#FFFFFF\",\"size\":7},\"showarrow\":false,\"text\":\"0.36\",\"x\":12,\"xref\":\"x\",\"y\":9,\"yref\":\"y\"},{\"font\":{\"color\":\"#FFFFFF\",\"size\":7},\"showarrow\":false,\"text\":\"0.32\",\"x\":0,\"xref\":\"x\",\"y\":10,\"yref\":\"y\"},{\"font\":{\"color\":\"#FFFFFF\",\"size\":7},\"showarrow\":false,\"text\":\"0.35\",\"x\":1,\"xref\":\"x\",\"y\":10,\"yref\":\"y\"},{\"font\":{\"color\":\"#FFFFFF\",\"size\":7},\"showarrow\":false,\"text\":\"0.39\",\"x\":2,\"xref\":\"x\",\"y\":10,\"yref\":\"y\"},{\"font\":{\"color\":\"#FFFFFF\",\"size\":7},\"showarrow\":false,\"text\":\"0.41\",\"x\":3,\"xref\":\"x\",\"y\":10,\"yref\":\"y\"},{\"font\":{\"color\":\"#FFFFFF\",\"size\":7},\"showarrow\":false,\"text\":\"0.4\",\"x\":4,\"xref\":\"x\",\"y\":10,\"yref\":\"y\"},{\"font\":{\"color\":\"#FFFFFF\",\"size\":7},\"showarrow\":false,\"text\":\"0.37\",\"x\":5,\"xref\":\"x\",\"y\":10,\"yref\":\"y\"},{\"font\":{\"color\":\"#FFFFFF\",\"size\":7},\"showarrow\":false,\"text\":\"0.37\",\"x\":6,\"xref\":\"x\",\"y\":10,\"yref\":\"y\"},{\"font\":{\"color\":\"#FFFFFF\",\"size\":7},\"showarrow\":false,\"text\":\"0.36\",\"x\":7,\"xref\":\"x\",\"y\":10,\"yref\":\"y\"},{\"font\":{\"color\":\"#FFFFFF\",\"size\":7},\"showarrow\":false,\"text\":\"0.36\",\"x\":8,\"xref\":\"x\",\"y\":10,\"yref\":\"y\"},{\"font\":{\"color\":\"#FFFFFF\",\"size\":7},\"showarrow\":false,\"text\":\"0.35\",\"x\":9,\"xref\":\"x\",\"y\":10,\"yref\":\"y\"},{\"font\":{\"color\":\"#FFFFFF\",\"size\":7},\"showarrow\":false,\"text\":\"0.35\",\"x\":10,\"xref\":\"x\",\"y\":10,\"yref\":\"y\"},{\"font\":{\"color\":\"#FFFFFF\",\"size\":7},\"showarrow\":false,\"text\":\"0.35\",\"x\":11,\"xref\":\"x\",\"y\":10,\"yref\":\"y\"},{\"font\":{\"color\":\"#FFFFFF\",\"size\":7},\"showarrow\":false,\"text\":\"0.36\",\"x\":12,\"xref\":\"x\",\"y\":10,\"yref\":\"y\"},{\"font\":{\"color\":\"#FFFFFF\",\"size\":7},\"showarrow\":false,\"text\":\"0.31\",\"x\":0,\"xref\":\"x\",\"y\":11,\"yref\":\"y\"},{\"font\":{\"color\":\"#FFFFFF\",\"size\":7},\"showarrow\":false,\"text\":\"0.35\",\"x\":1,\"xref\":\"x\",\"y\":11,\"yref\":\"y\"},{\"font\":{\"color\":\"#FFFFFF\",\"size\":7},\"showarrow\":false,\"text\":\"0.41\",\"x\":2,\"xref\":\"x\",\"y\":11,\"yref\":\"y\"},{\"font\":{\"color\":\"#FFFFFF\",\"size\":7},\"showarrow\":false,\"text\":\"0.42\",\"x\":3,\"xref\":\"x\",\"y\":11,\"yref\":\"y\"},{\"font\":{\"color\":\"#FFFFFF\",\"size\":7},\"showarrow\":false,\"text\":\"0.39\",\"x\":4,\"xref\":\"x\",\"y\":11,\"yref\":\"y\"},{\"font\":{\"color\":\"#FFFFFF\",\"size\":7},\"showarrow\":false,\"text\":\"0.36\",\"x\":5,\"xref\":\"x\",\"y\":11,\"yref\":\"y\"},{\"font\":{\"color\":\"#FFFFFF\",\"size\":7},\"showarrow\":false,\"text\":\"0.36\",\"x\":6,\"xref\":\"x\",\"y\":11,\"yref\":\"y\"},{\"font\":{\"color\":\"#FFFFFF\",\"size\":7},\"showarrow\":false,\"text\":\"0.34\",\"x\":7,\"xref\":\"x\",\"y\":11,\"yref\":\"y\"},{\"font\":{\"color\":\"#FFFFFF\",\"size\":7},\"showarrow\":false,\"text\":\"0.36\",\"x\":8,\"xref\":\"x\",\"y\":11,\"yref\":\"y\"},{\"font\":{\"color\":\"#FFFFFF\",\"size\":7},\"showarrow\":false,\"text\":\"0.34\",\"x\":9,\"xref\":\"x\",\"y\":11,\"yref\":\"y\"},{\"font\":{\"color\":\"#FFFFFF\",\"size\":7},\"showarrow\":false,\"text\":\"0.35\",\"x\":10,\"xref\":\"x\",\"y\":11,\"yref\":\"y\"},{\"font\":{\"color\":\"#FFFFFF\",\"size\":7},\"showarrow\":false,\"text\":\"0.34\",\"x\":11,\"xref\":\"x\",\"y\":11,\"yref\":\"y\"},{\"font\":{\"color\":\"#FFFFFF\",\"size\":7},\"showarrow\":false,\"text\":\"0.34\",\"x\":12,\"xref\":\"x\",\"y\":11,\"yref\":\"y\"},{\"font\":{\"color\":\"#FFFFFF\",\"size\":7},\"showarrow\":false,\"text\":\"0.31\",\"x\":0,\"xref\":\"x\",\"y\":12,\"yref\":\"y\"},{\"font\":{\"color\":\"#FFFFFF\",\"size\":7},\"showarrow\":false,\"text\":\"0.33\",\"x\":1,\"xref\":\"x\",\"y\":12,\"yref\":\"y\"},{\"font\":{\"color\":\"#FFFFFF\",\"size\":7},\"showarrow\":false,\"text\":\"0.39\",\"x\":2,\"xref\":\"x\",\"y\":12,\"yref\":\"y\"},{\"font\":{\"color\":\"#FFFFFF\",\"size\":7},\"showarrow\":false,\"text\":\"0.39\",\"x\":3,\"xref\":\"x\",\"y\":12,\"yref\":\"y\"},{\"font\":{\"color\":\"#FFFFFF\",\"size\":7},\"showarrow\":false,\"text\":\"0.38\",\"x\":4,\"xref\":\"x\",\"y\":12,\"yref\":\"y\"},{\"font\":{\"color\":\"#FFFFFF\",\"size\":7},\"showarrow\":false,\"text\":\"0.35\",\"x\":5,\"xref\":\"x\",\"y\":12,\"yref\":\"y\"},{\"font\":{\"color\":\"#FFFFFF\",\"size\":7},\"showarrow\":false,\"text\":\"0.33\",\"x\":6,\"xref\":\"x\",\"y\":12,\"yref\":\"y\"},{\"font\":{\"color\":\"#FFFFFF\",\"size\":7},\"showarrow\":false,\"text\":\"0.34\",\"x\":7,\"xref\":\"x\",\"y\":12,\"yref\":\"y\"},{\"font\":{\"color\":\"#FFFFFF\",\"size\":7},\"showarrow\":false,\"text\":\"0.34\",\"x\":8,\"xref\":\"x\",\"y\":12,\"yref\":\"y\"},{\"font\":{\"color\":\"#FFFFFF\",\"size\":7},\"showarrow\":false,\"text\":\"0.34\",\"x\":9,\"xref\":\"x\",\"y\":12,\"yref\":\"y\"},{\"font\":{\"color\":\"#FFFFFF\",\"size\":7},\"showarrow\":false,\"text\":\"0.34\",\"x\":10,\"xref\":\"x\",\"y\":12,\"yref\":\"y\"},{\"font\":{\"color\":\"#FFFFFF\",\"size\":7},\"showarrow\":false,\"text\":\"0.34\",\"x\":11,\"xref\":\"x\",\"y\":12,\"yref\":\"y\"},{\"font\":{\"color\":\"#FFFFFF\",\"size\":7},\"showarrow\":false,\"text\":\"0.34\",\"x\":12,\"xref\":\"x\",\"y\":12,\"yref\":\"y\"}],\"template\":{\"data\":{\"barpolar\":[{\"marker\":{\"line\":{\"color\":\"#E5ECF6\",\"width\":0.5},\"pattern\":{\"fillmode\":\"overlay\",\"size\":10,\"solidity\":0.2}},\"type\":\"barpolar\"}],\"bar\":[{\"error_x\":{\"color\":\"#2a3f5f\"},\"error_y\":{\"color\":\"#2a3f5f\"},\"marker\":{\"line\":{\"color\":\"#E5ECF6\",\"width\":0.5},\"pattern\":{\"fillmode\":\"overlay\",\"size\":10,\"solidity\":0.2}},\"type\":\"bar\"}],\"carpet\":[{\"aaxis\":{\"endlinecolor\":\"#2a3f5f\",\"gridcolor\":\"white\",\"linecolor\":\"white\",\"minorgridcolor\":\"white\",\"startlinecolor\":\"#2a3f5f\"},\"baxis\":{\"endlinecolor\":\"#2a3f5f\",\"gridcolor\":\"white\",\"linecolor\":\"white\",\"minorgridcolor\":\"white\",\"startlinecolor\":\"#2a3f5f\"},\"type\":\"carpet\"}],\"choropleth\":[{\"colorbar\":{\"outlinewidth\":0,\"ticks\":\"\"},\"type\":\"choropleth\"}],\"contourcarpet\":[{\"colorbar\":{\"outlinewidth\":0,\"ticks\":\"\"},\"type\":\"contourcarpet\"}],\"contour\":[{\"colorbar\":{\"outlinewidth\":0,\"ticks\":\"\"},\"colorscale\":[[0.0,\"#0d0887\"],[0.1111111111111111,\"#46039f\"],[0.2222222222222222,\"#7201a8\"],[0.3333333333333333,\"#9c179e\"],[0.4444444444444444,\"#bd3786\"],[0.5555555555555556,\"#d8576b\"],[0.6666666666666666,\"#ed7953\"],[0.7777777777777778,\"#fb9f3a\"],[0.8888888888888888,\"#fdca26\"],[1.0,\"#f0f921\"]],\"type\":\"contour\"}],\"heatmapgl\":[{\"colorbar\":{\"outlinewidth\":0,\"ticks\":\"\"},\"colorscale\":[[0.0,\"#0d0887\"],[0.1111111111111111,\"#46039f\"],[0.2222222222222222,\"#7201a8\"],[0.3333333333333333,\"#9c179e\"],[0.4444444444444444,\"#bd3786\"],[0.5555555555555556,\"#d8576b\"],[0.6666666666666666,\"#ed7953\"],[0.7777777777777778,\"#fb9f3a\"],[0.8888888888888888,\"#fdca26\"],[1.0,\"#f0f921\"]],\"type\":\"heatmapgl\"}],\"heatmap\":[{\"colorbar\":{\"outlinewidth\":0,\"ticks\":\"\"},\"colorscale\":[[0.0,\"#0d0887\"],[0.1111111111111111,\"#46039f\"],[0.2222222222222222,\"#7201a8\"],[0.3333333333333333,\"#9c179e\"],[0.4444444444444444,\"#bd3786\"],[0.5555555555555556,\"#d8576b\"],[0.6666666666666666,\"#ed7953\"],[0.7777777777777778,\"#fb9f3a\"],[0.8888888888888888,\"#fdca26\"],[1.0,\"#f0f921\"]],\"type\":\"heatmap\"}],\"histogram2dcontour\":[{\"colorbar\":{\"outlinewidth\":0,\"ticks\":\"\"},\"colorscale\":[[0.0,\"#0d0887\"],[0.1111111111111111,\"#46039f\"],[0.2222222222222222,\"#7201a8\"],[0.3333333333333333,\"#9c179e\"],[0.4444444444444444,\"#bd3786\"],[0.5555555555555556,\"#d8576b\"],[0.6666666666666666,\"#ed7953\"],[0.7777777777777778,\"#fb9f3a\"],[0.8888888888888888,\"#fdca26\"],[1.0,\"#f0f921\"]],\"type\":\"histogram2dcontour\"}],\"histogram2d\":[{\"colorbar\":{\"outlinewidth\":0,\"ticks\":\"\"},\"colorscale\":[[0.0,\"#0d0887\"],[0.1111111111111111,\"#46039f\"],[0.2222222222222222,\"#7201a8\"],[0.3333333333333333,\"#9c179e\"],[0.4444444444444444,\"#bd3786\"],[0.5555555555555556,\"#d8576b\"],[0.6666666666666666,\"#ed7953\"],[0.7777777777777778,\"#fb9f3a\"],[0.8888888888888888,\"#fdca26\"],[1.0,\"#f0f921\"]],\"type\":\"histogram2d\"}],\"histogram\":[{\"marker\":{\"pattern\":{\"fillmode\":\"overlay\",\"size\":10,\"solidity\":0.2}},\"type\":\"histogram\"}],\"mesh3d\":[{\"colorbar\":{\"outlinewidth\":0,\"ticks\":\"\"},\"type\":\"mesh3d\"}],\"parcoords\":[{\"line\":{\"colorbar\":{\"outlinewidth\":0,\"ticks\":\"\"}},\"type\":\"parcoords\"}],\"pie\":[{\"automargin\":true,\"type\":\"pie\"}],\"scatter3d\":[{\"line\":{\"colorbar\":{\"outlinewidth\":0,\"ticks\":\"\"}},\"marker\":{\"colorbar\":{\"outlinewidth\":0,\"ticks\":\"\"}},\"type\":\"scatter3d\"}],\"scattercarpet\":[{\"marker\":{\"colorbar\":{\"outlinewidth\":0,\"ticks\":\"\"}},\"type\":\"scattercarpet\"}],\"scattergeo\":[{\"marker\":{\"colorbar\":{\"outlinewidth\":0,\"ticks\":\"\"}},\"type\":\"scattergeo\"}],\"scattergl\":[{\"marker\":{\"colorbar\":{\"outlinewidth\":0,\"ticks\":\"\"}},\"type\":\"scattergl\"}],\"scattermapbox\":[{\"marker\":{\"colorbar\":{\"outlinewidth\":0,\"ticks\":\"\"}},\"type\":\"scattermapbox\"}],\"scatterpolargl\":[{\"marker\":{\"colorbar\":{\"outlinewidth\":0,\"ticks\":\"\"}},\"type\":\"scatterpolargl\"}],\"scatterpolar\":[{\"marker\":{\"colorbar\":{\"outlinewidth\":0,\"ticks\":\"\"}},\"type\":\"scatterpolar\"}],\"scatter\":[{\"fillpattern\":{\"fillmode\":\"overlay\",\"size\":10,\"solidity\":0.2},\"type\":\"scatter\"}],\"scatterternary\":[{\"marker\":{\"colorbar\":{\"outlinewidth\":0,\"ticks\":\"\"}},\"type\":\"scatterternary\"}],\"surface\":[{\"colorbar\":{\"outlinewidth\":0,\"ticks\":\"\"},\"colorscale\":[[0.0,\"#0d0887\"],[0.1111111111111111,\"#46039f\"],[0.2222222222222222,\"#7201a8\"],[0.3333333333333333,\"#9c179e\"],[0.4444444444444444,\"#bd3786\"],[0.5555555555555556,\"#d8576b\"],[0.6666666666666666,\"#ed7953\"],[0.7777777777777778,\"#fb9f3a\"],[0.8888888888888888,\"#fdca26\"],[1.0,\"#f0f921\"]],\"type\":\"surface\"}],\"table\":[{\"cells\":{\"fill\":{\"color\":\"#EBF0F8\"},\"line\":{\"color\":\"white\"}},\"header\":{\"fill\":{\"color\":\"#C8D4E3\"},\"line\":{\"color\":\"white\"}},\"type\":\"table\"}]},\"layout\":{\"annotationdefaults\":{\"arrowcolor\":\"#2a3f5f\",\"arrowhead\":0,\"arrowwidth\":1},\"autotypenumbers\":\"strict\",\"coloraxis\":{\"colorbar\":{\"outlinewidth\":0,\"ticks\":\"\"}},\"colorscale\":{\"diverging\":[[0,\"#8e0152\"],[0.1,\"#c51b7d\"],[0.2,\"#de77ae\"],[0.3,\"#f1b6da\"],[0.4,\"#fde0ef\"],[0.5,\"#f7f7f7\"],[0.6,\"#e6f5d0\"],[0.7,\"#b8e186\"],[0.8,\"#7fbc41\"],[0.9,\"#4d9221\"],[1,\"#276419\"]],\"sequential\":[[0.0,\"#0d0887\"],[0.1111111111111111,\"#46039f\"],[0.2222222222222222,\"#7201a8\"],[0.3333333333333333,\"#9c179e\"],[0.4444444444444444,\"#bd3786\"],[0.5555555555555556,\"#d8576b\"],[0.6666666666666666,\"#ed7953\"],[0.7777777777777778,\"#fb9f3a\"],[0.8888888888888888,\"#fdca26\"],[1.0,\"#f0f921\"]],\"sequentialminus\":[[0.0,\"#0d0887\"],[0.1111111111111111,\"#46039f\"],[0.2222222222222222,\"#7201a8\"],[0.3333333333333333,\"#9c179e\"],[0.4444444444444444,\"#bd3786\"],[0.5555555555555556,\"#d8576b\"],[0.6666666666666666,\"#ed7953\"],[0.7777777777777778,\"#fb9f3a\"],[0.8888888888888888,\"#fdca26\"],[1.0,\"#f0f921\"]]},\"colorway\":[\"#636efa\",\"#EF553B\",\"#00cc96\",\"#ab63fa\",\"#FFA15A\",\"#19d3f3\",\"#FF6692\",\"#B6E880\",\"#FF97FF\",\"#FECB52\"],\"font\":{\"color\":\"#2a3f5f\"},\"geo\":{\"bgcolor\":\"white\",\"lakecolor\":\"white\",\"landcolor\":\"#E5ECF6\",\"showlakes\":true,\"showland\":true,\"subunitcolor\":\"white\"},\"hoverlabel\":{\"align\":\"left\"},\"hovermode\":\"closest\",\"mapbox\":{\"style\":\"light\"},\"paper_bgcolor\":\"white\",\"plot_bgcolor\":\"#E5ECF6\",\"polar\":{\"angularaxis\":{\"gridcolor\":\"white\",\"linecolor\":\"white\",\"ticks\":\"\"},\"bgcolor\":\"#E5ECF6\",\"radialaxis\":{\"gridcolor\":\"white\",\"linecolor\":\"white\",\"ticks\":\"\"}},\"scene\":{\"xaxis\":{\"backgroundcolor\":\"#E5ECF6\",\"gridcolor\":\"white\",\"gridwidth\":2,\"linecolor\":\"white\",\"showbackground\":true,\"ticks\":\"\",\"zerolinecolor\":\"white\"},\"yaxis\":{\"backgroundcolor\":\"#E5ECF6\",\"gridcolor\":\"white\",\"gridwidth\":2,\"linecolor\":\"white\",\"showbackground\":true,\"ticks\":\"\",\"zerolinecolor\":\"white\"},\"zaxis\":{\"backgroundcolor\":\"#E5ECF6\",\"gridcolor\":\"white\",\"gridwidth\":2,\"linecolor\":\"white\",\"showbackground\":true,\"ticks\":\"\",\"zerolinecolor\":\"white\"}},\"shapedefaults\":{\"line\":{\"color\":\"#2a3f5f\"}},\"ternary\":{\"aaxis\":{\"gridcolor\":\"white\",\"linecolor\":\"white\",\"ticks\":\"\"},\"baxis\":{\"gridcolor\":\"white\",\"linecolor\":\"white\",\"ticks\":\"\"},\"bgcolor\":\"#E5ECF6\",\"caxis\":{\"gridcolor\":\"white\",\"linecolor\":\"white\",\"ticks\":\"\"}},\"title\":{\"x\":0.05},\"xaxis\":{\"automargin\":true,\"gridcolor\":\"white\",\"linecolor\":\"white\",\"ticks\":\"\",\"title\":{\"standoff\":15},\"zerolinecolor\":\"white\",\"zerolinewidth\":2},\"yaxis\":{\"automargin\":true,\"gridcolor\":\"white\",\"linecolor\":\"white\",\"ticks\":\"\",\"title\":{\"standoff\":15},\"zerolinecolor\":\"white\",\"zerolinewidth\":2}}},\"title\":{\"text\":\"Spiled\"},\"xaxis\":{\"gridcolor\":\"rgb(0, 0, 0)\",\"showticklabels\":false,\"side\":\"top\",\"ticks\":\"\"},\"yaxis\":{\"showticklabels\":false,\"ticks\":\"\",\"ticksuffix\":\"  \"}},                        {\"responsive\": true}                    ).then(function(){\n",
       "                            \n",
       "var gd = document.getElementById('a8d716fc-e19f-4562-9d17-14c8c48d33e5');\n",
       "var x = new MutationObserver(function (mutations, observer) {{\n",
       "        var display = window.getComputedStyle(gd).display;\n",
       "        if (!display || display === 'none') {{\n",
       "            console.log([gd, 'removed!']);\n",
       "            Plotly.purge(gd);\n",
       "            observer.disconnect();\n",
       "        }}\n",
       "}});\n",
       "\n",
       "// Listen for the removal of the full notebook cells\n",
       "var notebookContainer = gd.closest('#notebook-container');\n",
       "if (notebookContainer) {{\n",
       "    x.observe(notebookContainer, {childList: true});\n",
       "}}\n",
       "\n",
       "// Listen for the clearing of the current output cell\n",
       "var outputEl = gd.closest('.output');\n",
       "if (outputEl) {{\n",
       "    x.observe(outputEl, {childList: true});\n",
       "}}\n",
       "\n",
       "                        })                };                });            </script>        </div>"
      ]
     },
     "metadata": {},
     "output_type": "display_data"
    },
    {
     "ename": "IndexError",
     "evalue": "index 2 is out of bounds for axis 0 with size 2",
     "output_type": "error",
     "traceback": [
      "\u001b[1;31m---------------------------------------------------------------------------\u001b[0m",
      "\u001b[1;31mIndexError\u001b[0m                                Traceback (most recent call last)",
      "\u001b[1;32md:\\CEIEC\\SOM_desbalanceado\\SOM.ipynb Celda 30\u001b[0m in \u001b[0;36m<cell line: 1>\u001b[1;34m()\u001b[0m\n\u001b[1;32m----> <a href='vscode-notebook-cell:/d%3A/CEIEC/SOM_desbalanceado/SOM.ipynb#ch0000047?line=0'>1</a>\u001b[0m GEMA\u001b[39m.\u001b[39;49mVisualization\u001b[39m.\u001b[39;49mcodebook_vectors(main_map, np\u001b[39m.\u001b[39;49marray([\u001b[39m\"\u001b[39;49m\u001b[39mNot Spiled\u001b[39;49m\u001b[39m\"\u001b[39;49m, \u001b[39m\"\u001b[39;49m\u001b[39mSpiled\u001b[39;49m\u001b[39m\"\u001b[39;49m]))\n",
      "File \u001b[1;32mc:\\Users\\javca\\anaconda3\\envs\\Ceiec\\lib\\site-packages\\GEMA\\visualization.py:129\u001b[0m, in \u001b[0;36mVisualization.codebook_vectors\u001b[1;34m(map, headers)\u001b[0m\n\u001b[0;32m    127\u001b[0m     headers \u001b[39m=\u001b[39m np\u001b[39m.\u001b[39marange(\u001b[39mmap\u001b[39m\u001b[39m.\u001b[39minput_data_dimension)\n\u001b[0;32m    128\u001b[0m \u001b[39mfor\u001b[39;00m i \u001b[39min\u001b[39;00m \u001b[39mrange\u001b[39m(\u001b[39m0\u001b[39m, \u001b[39mmap\u001b[39m\u001b[39m.\u001b[39minput_data_dimension):\n\u001b[1;32m--> 129\u001b[0m     Visualization\u001b[39m.\u001b[39mcodebook_vector(\u001b[39mmap\u001b[39m, i, \u001b[39mstr\u001b[39m(headers[i]))\n",
      "\u001b[1;31mIndexError\u001b[0m: index 2 is out of bounds for axis 0 with size 2"
     ]
    }
   ],
   "source": [
    "GEMA.Visualization.codebook_vectors(main_map, np.array([\"Not Spiled\", \"Spiled\"]))"
   ]
  },
  {
   "cell_type": "markdown",
   "id": "0dbca36b",
   "metadata": {},
   "source": []
  },
  {
   "cell_type": "markdown",
   "id": "730ffd53",
   "metadata": {},
   "source": [
    "## Fonemas"
   ]
  },
  {
   "cell_type": "code",
   "execution_count": 24,
   "id": "81c89774",
   "metadata": {},
   "outputs": [],
   "source": [
    "## Importar dataset\n",
    "url = 'https://raw.githubusercontent.com/jbrownlee/Datasets/master/phoneme.csv'\n",
    "missing_values = [' ', 'NaN', 'na', 'Na', '-', '--', 'n/a', '?']\n",
    "columns = ['class']\n",
    "data = pd.read_csv(url, na_values = missing_values, header=None)"
   ]
  },
  {
   "cell_type": "code",
   "execution_count": 25,
   "id": "b688146c",
   "metadata": {},
   "outputs": [
    {
     "data": {
      "text/html": [
       "<div>\n",
       "<style scoped>\n",
       "    .dataframe tbody tr th:only-of-type {\n",
       "        vertical-align: middle;\n",
       "    }\n",
       "\n",
       "    .dataframe tbody tr th {\n",
       "        vertical-align: top;\n",
       "    }\n",
       "\n",
       "    .dataframe thead th {\n",
       "        text-align: right;\n",
       "    }\n",
       "</style>\n",
       "<table border=\"1\" class=\"dataframe\">\n",
       "  <thead>\n",
       "    <tr style=\"text-align: right;\">\n",
       "      <th></th>\n",
       "      <th>0</th>\n",
       "      <th>1</th>\n",
       "      <th>2</th>\n",
       "      <th>3</th>\n",
       "      <th>4</th>\n",
       "      <th>5</th>\n",
       "    </tr>\n",
       "  </thead>\n",
       "  <tbody>\n",
       "    <tr>\n",
       "      <th>0</th>\n",
       "      <td>1.240</td>\n",
       "      <td>0.875</td>\n",
       "      <td>-0.205</td>\n",
       "      <td>-0.078</td>\n",
       "      <td>0.067</td>\n",
       "      <td>0</td>\n",
       "    </tr>\n",
       "    <tr>\n",
       "      <th>1</th>\n",
       "      <td>0.268</td>\n",
       "      <td>1.352</td>\n",
       "      <td>1.035</td>\n",
       "      <td>-0.332</td>\n",
       "      <td>0.217</td>\n",
       "      <td>0</td>\n",
       "    </tr>\n",
       "    <tr>\n",
       "      <th>2</th>\n",
       "      <td>1.567</td>\n",
       "      <td>0.867</td>\n",
       "      <td>1.300</td>\n",
       "      <td>1.041</td>\n",
       "      <td>0.559</td>\n",
       "      <td>0</td>\n",
       "    </tr>\n",
       "    <tr>\n",
       "      <th>3</th>\n",
       "      <td>0.279</td>\n",
       "      <td>0.990</td>\n",
       "      <td>2.555</td>\n",
       "      <td>-0.738</td>\n",
       "      <td>0.000</td>\n",
       "      <td>0</td>\n",
       "    </tr>\n",
       "    <tr>\n",
       "      <th>4</th>\n",
       "      <td>0.307</td>\n",
       "      <td>1.272</td>\n",
       "      <td>2.656</td>\n",
       "      <td>-0.946</td>\n",
       "      <td>-0.467</td>\n",
       "      <td>0</td>\n",
       "    </tr>\n",
       "    <tr>\n",
       "      <th>...</th>\n",
       "      <td>...</td>\n",
       "      <td>...</td>\n",
       "      <td>...</td>\n",
       "      <td>...</td>\n",
       "      <td>...</td>\n",
       "      <td>...</td>\n",
       "    </tr>\n",
       "    <tr>\n",
       "      <th>5399</th>\n",
       "      <td>0.254</td>\n",
       "      <td>2.392</td>\n",
       "      <td>0.689</td>\n",
       "      <td>1.828</td>\n",
       "      <td>-0.544</td>\n",
       "      <td>0</td>\n",
       "    </tr>\n",
       "    <tr>\n",
       "      <th>5400</th>\n",
       "      <td>0.781</td>\n",
       "      <td>1.250</td>\n",
       "      <td>0.793</td>\n",
       "      <td>0.383</td>\n",
       "      <td>0.816</td>\n",
       "      <td>1</td>\n",
       "    </tr>\n",
       "    <tr>\n",
       "      <th>5401</th>\n",
       "      <td>1.031</td>\n",
       "      <td>0.584</td>\n",
       "      <td>1.866</td>\n",
       "      <td>1.532</td>\n",
       "      <td>-0.671</td>\n",
       "      <td>1</td>\n",
       "    </tr>\n",
       "    <tr>\n",
       "      <th>5402</th>\n",
       "      <td>0.150</td>\n",
       "      <td>0.933</td>\n",
       "      <td>2.363</td>\n",
       "      <td>-0.742</td>\n",
       "      <td>-0.617</td>\n",
       "      <td>0</td>\n",
       "    </tr>\n",
       "    <tr>\n",
       "      <th>5403</th>\n",
       "      <td>0.137</td>\n",
       "      <td>0.714</td>\n",
       "      <td>1.350</td>\n",
       "      <td>0.972</td>\n",
       "      <td>-0.630</td>\n",
       "      <td>1</td>\n",
       "    </tr>\n",
       "  </tbody>\n",
       "</table>\n",
       "<p>5404 rows × 6 columns</p>\n",
       "</div>"
      ],
      "text/plain": [
       "          0      1      2      3      4  5\n",
       "0     1.240  0.875 -0.205 -0.078  0.067  0\n",
       "1     0.268  1.352  1.035 -0.332  0.217  0\n",
       "2     1.567  0.867  1.300  1.041  0.559  0\n",
       "3     0.279  0.990  2.555 -0.738  0.000  0\n",
       "4     0.307  1.272  2.656 -0.946 -0.467  0\n",
       "...     ...    ...    ...    ...    ... ..\n",
       "5399  0.254  2.392  0.689  1.828 -0.544  0\n",
       "5400  0.781  1.250  0.793  0.383  0.816  1\n",
       "5401  1.031  0.584  1.866  1.532 -0.671  1\n",
       "5402  0.150  0.933  2.363 -0.742 -0.617  0\n",
       "5403  0.137  0.714  1.350  0.972 -0.630  1\n",
       "\n",
       "[5404 rows x 6 columns]"
      ]
     },
     "execution_count": 25,
     "metadata": {},
     "output_type": "execute_result"
    }
   ],
   "source": [
    "data"
   ]
  },
  {
   "cell_type": "code",
   "execution_count": 26,
   "id": "fe7ef98c",
   "metadata": {},
   "outputs": [
    {
     "name": "stdout",
     "output_type": "stream",
     "text": [
      "Columnas dropeadas:  []\n",
      "Numero de columnas dropeadas:  0\n",
      "Numero de columnas tras aplicar el porcentaje:  6\n"
     ]
    },
    {
     "data": {
      "text/plain": [
       "0.0    3818\n",
       "1.0    1586\n",
       "Name: 5, dtype: int64"
      ]
     },
     "execution_count": 26,
     "metadata": {},
     "output_type": "execute_result"
    }
   ],
   "source": [
    "data_dropped = wf.drop_missing_values_columns(data, 5)\n",
    "datos_mode = wf.mode_imputation(data_dropped, 3)\n",
    "datos_mode[5].value_counts()"
   ]
  },
  {
   "cell_type": "code",
   "execution_count": 27,
   "id": "b2c8a5ab",
   "metadata": {},
   "outputs": [],
   "source": [
    "datos_mode=datos_mode.drop(columns = [5])\n",
    "data_std = wf.min_max_normalization(datos_mode)\n",
    "target = data[5].values\n",
    "label_names={0:'no c', 1:'c'}\n",
    "data_som=data_std.to_numpy()"
   ]
  },
  {
   "cell_type": "code",
   "execution_count": 28,
   "id": "a72d297b",
   "metadata": {
    "scrolled": true
   },
   "outputs": [
    {
     "name": "stdout",
     "output_type": "stream",
     "text": [
      "TRAINING...\n"
     ]
    },
    {
     "data": {
      "application/vnd.jupyter.widget-view+json": {
       "model_id": "0b074e856c804402969028b41d563a7f",
       "version_major": 2,
       "version_minor": 0
      },
      "text/plain": [
       "  0%|          | 0/1000 [00:00<?, ?it/s]"
      ]
     },
     "metadata": {},
     "output_type": "display_data"
    },
    {
     "name": "stdout",
     "output_type": "stream",
     "text": [
      "FINISHED.\n"
     ]
    },
    {
     "data": {
      "application/vnd.jupyter.widget-view+json": {
       "model_id": "9ffea0d56f57423e98b63757a3367698",
       "version_major": 2,
       "version_minor": 0
      },
      "text/plain": [
       "  0%|          | 0/5404 [00:00<?, ?it/s]"
      ]
     },
     "metadata": {},
     "output_type": "display_data"
    },
    {
     "name": "stdout",
     "output_type": "stream",
     "text": [
      "quantification error: 0.13862273871206515\n",
      "Topological_error: 0.17079940784603997\n"
     ]
    }
   ],
   "source": [
    "main_map = GEMA.Map(data_som, \n",
    "                    19, \n",
    "                    1000, \n",
    "                    initial_lr=0.2, \n",
    "                    initial_neighbourhood = 0,\n",
    "                    distance = 'euclidean',\n",
    "                    use_decay= False,\n",
    "                    presentation= 'random',\n",
    "                    weights = 'random')\n",
    "\n",
    "main_classification = GEMA.Classification(main_map, data_som)\n",
    "print(\"quantification error:\",main_classification.quantization_error)\n",
    "print(\"Topological_error:\",main_classification.topological_error)"
   ]
  },
  {
   "cell_type": "code",
   "execution_count": 29,
   "id": "fe0c4cd8",
   "metadata": {
    "scrolled": true
   },
   "outputs": [
    {
     "data": {
      "text/html": [
       "        <script type=\"text/javascript\">\n",
       "        window.PlotlyConfig = {MathJaxConfig: 'local'};\n",
       "        if (window.MathJax) {MathJax.Hub.Config({SVG: {font: \"STIX-Web\"}});}\n",
       "        if (typeof require !== 'undefined') {\n",
       "        require.undef(\"plotly\");\n",
       "        requirejs.config({\n",
       "            paths: {\n",
       "                'plotly': ['https://cdn.plot.ly/plotly-2.9.0.min']\n",
       "            }\n",
       "        });\n",
       "        require(['plotly'], function(Plotly) {\n",
       "            window._Plotly = Plotly;\n",
       "        });\n",
       "        }\n",
       "        </script>\n",
       "        "
      ]
     },
     "metadata": {},
     "output_type": "display_data"
    },
    {
     "data": {
      "application/vnd.plotly.v1+json": {
       "config": {
        "linkText": "Export to plot.ly",
        "plotlyServerURL": "https://plot.ly",
        "showLink": false
       },
       "data": [
        {
         "colorscale": [
          [
           0,
           "#0d0887"
          ],
          [
           0.1111111111111111,
           "#46039f"
          ],
          [
           0.2222222222222222,
           "#7201a8"
          ],
          [
           0.3333333333333333,
           "#9c179e"
          ],
          [
           0.4444444444444444,
           "#bd3786"
          ],
          [
           0.5555555555555556,
           "#d8576b"
          ],
          [
           0.6666666666666666,
           "#ed7953"
          ],
          [
           0.7777777777777778,
           "#fb9f3a"
          ],
          [
           0.8888888888888888,
           "#fdca26"
          ],
          [
           1,
           "#f0f921"
          ]
         ],
         "reversescale": false,
         "showscale": true,
         "type": "heatmap",
         "z": [
          [
           0.33,
           0.34,
           0.34,
           0.34,
           0.35,
           0.35,
           0.35,
           0.36,
           0.36,
           0.36,
           0.37,
           0.36,
           0.37,
           0.36,
           0.37,
           0.37,
           0.37,
           0.36,
           0.36
          ],
          [
           0.33,
           0.34,
           0.34,
           0.35,
           0.35,
           0.35,
           0.36,
           0.36,
           0.36,
           0.36,
           0.37,
           0.37,
           0.36,
           0.37,
           0.37,
           0.37,
           0.37,
           0.36,
           0.37
          ],
          [
           0.34,
           0.34,
           0.35,
           0.34,
           0.35,
           0.35,
           0.36,
           0.37,
           0.37,
           0.36,
           0.37,
           0.37,
           0.37,
           0.37,
           0.37,
           0.36,
           0.36,
           0.36,
           0.36
          ],
          [
           0.34,
           0.34,
           0.33,
           0.34,
           0.35,
           0.36,
           0.37,
           0.37,
           0.37,
           0.37,
           0.37,
           0.37,
           0.37,
           0.38,
           0.38,
           0.37,
           0.36,
           0.37,
           0.36
          ],
          [
           0.33,
           0.33,
           0.33,
           0.34,
           0.34,
           0.36,
           0.36,
           0.36,
           0.37,
           0.37,
           0.37,
           0.37,
           0.37,
           0.38,
           0.38,
           0.37,
           0.37,
           0.37,
           0.37
          ],
          [
           0.33,
           0.34,
           0.34,
           0.35,
           0.35,
           0.35,
           0.36,
           0.37,
           0.37,
           0.37,
           0.37,
           0.38,
           0.38,
           0.38,
           0.39,
           0.38,
           0.38,
           0.37,
           0.37
          ],
          [
           0.33,
           0.34,
           0.35,
           0.35,
           0.35,
           0.35,
           0.36,
           0.37,
           0.37,
           0.38,
           0.38,
           0.38,
           0.39,
           0.39,
           0.39,
           0.39,
           0.39,
           0.38,
           0.39
          ],
          [
           0.34,
           0.34,
           0.35,
           0.35,
           0.35,
           0.35,
           0.37,
           0.37,
           0.37,
           0.38,
           0.38,
           0.38,
           0.39,
           0.4,
           0.4,
           0.39,
           0.39,
           0.39,
           0.4
          ],
          [
           0.34,
           0.34,
           0.35,
           0.35,
           0.35,
           0.36,
           0.36,
           0.37,
           0.37,
           0.38,
           0.38,
           0.38,
           0.39,
           0.39,
           0.4,
           0.4,
           0.4,
           0.39,
           0.4
          ],
          [
           0.35,
           0.35,
           0.36,
           0.36,
           0.36,
           0.36,
           0.38,
           0.39,
           0.39,
           0.39,
           0.39,
           0.39,
           0.39,
           0.39,
           0.39,
           0.39,
           0.4,
           0.4,
           0.4
          ],
          [
           0.39,
           0.39,
           0.39,
           0.38,
           0.38,
           0.38,
           0.39,
           0.39,
           0.39,
           0.4,
           0.4,
           0.41,
           0.39,
           0.39,
           0.39,
           0.39,
           0.39,
           0.39,
           0.4
          ],
          [
           0.43,
           0.41,
           0.41,
           0.4,
           0.41,
           0.39,
           0.4,
           0.4,
           0.4,
           0.41,
           0.41,
           0.41,
           0.4,
           0.39,
           0.4,
           0.4,
           0.4,
           0.4,
           0.4
          ],
          [
           0.47,
           0.45,
           0.44,
           0.43,
           0.42,
           0.42,
           0.41,
           0.4,
           0.41,
           0.41,
           0.42,
           0.42,
           0.42,
           0.4,
           0.4,
           0.41,
           0.41,
           0.41,
           0.41
          ],
          [
           0.55,
           0.54,
           0.53,
           0.48,
           0.47,
           0.46,
           0.45,
           0.43,
           0.43,
           0.43,
           0.43,
           0.44,
           0.43,
           0.41,
           0.4,
           0.41,
           0.41,
           0.41,
           0.41
          ],
          [
           0.62,
           0.61,
           0.61,
           0.59,
           0.54,
           0.51,
           0.49,
           0.47,
           0.44,
           0.44,
           0.45,
           0.46,
           0.45,
           0.42,
           0.41,
           0.4,
           0.41,
           0.41,
           0.41
          ],
          [
           0.69,
           0.66,
           0.65,
           0.62,
           0.59,
           0.55,
           0.52,
           0.48,
           0.47,
           0.46,
           0.46,
           0.46,
           0.46,
           0.43,
           0.42,
           0.41,
           0.41,
           0.42,
           0.42
          ],
          [
           0.7,
           0.69,
           0.68,
           0.65,
           0.62,
           0.58,
           0.54,
           0.5,
           0.48,
           0.47,
           0.47,
           0.47,
           0.44,
           0.44,
           0.42,
           0.42,
           0.43,
           0.43,
           0.43
          ],
          [
           0.72,
           0.71,
           0.69,
           0.67,
           0.64,
           0.6,
           0.57,
           0.52,
           0.49,
           0.47,
           0.47,
           0.46,
           0.45,
           0.43,
           0.43,
           0.43,
           0.43,
           0.43,
           0.43
          ],
          [
           0.73,
           0.71,
           0.69,
           0.67,
           0.64,
           0.61,
           0.58,
           0.53,
           0.49,
           0.47,
           0.47,
           0.46,
           0.44,
           0.43,
           0.43,
           0.43,
           0.44,
           0.44,
           0.44
          ]
         ]
        }
       ],
       "layout": {
        "annotations": [
         {
          "font": {
           "color": "#FFFFFF",
           "size": 7
          },
          "showarrow": false,
          "text": "0.33",
          "x": 0,
          "xref": "x",
          "y": 0,
          "yref": "y"
         },
         {
          "font": {
           "color": "#FFFFFF",
           "size": 7
          },
          "showarrow": false,
          "text": "0.34",
          "x": 1,
          "xref": "x",
          "y": 0,
          "yref": "y"
         },
         {
          "font": {
           "color": "#FFFFFF",
           "size": 7
          },
          "showarrow": false,
          "text": "0.34",
          "x": 2,
          "xref": "x",
          "y": 0,
          "yref": "y"
         },
         {
          "font": {
           "color": "#FFFFFF",
           "size": 7
          },
          "showarrow": false,
          "text": "0.34",
          "x": 3,
          "xref": "x",
          "y": 0,
          "yref": "y"
         },
         {
          "font": {
           "color": "#FFFFFF",
           "size": 7
          },
          "showarrow": false,
          "text": "0.35",
          "x": 4,
          "xref": "x",
          "y": 0,
          "yref": "y"
         },
         {
          "font": {
           "color": "#FFFFFF",
           "size": 7
          },
          "showarrow": false,
          "text": "0.35",
          "x": 5,
          "xref": "x",
          "y": 0,
          "yref": "y"
         },
         {
          "font": {
           "color": "#FFFFFF",
           "size": 7
          },
          "showarrow": false,
          "text": "0.35",
          "x": 6,
          "xref": "x",
          "y": 0,
          "yref": "y"
         },
         {
          "font": {
           "color": "#FFFFFF",
           "size": 7
          },
          "showarrow": false,
          "text": "0.36",
          "x": 7,
          "xref": "x",
          "y": 0,
          "yref": "y"
         },
         {
          "font": {
           "color": "#FFFFFF",
           "size": 7
          },
          "showarrow": false,
          "text": "0.36",
          "x": 8,
          "xref": "x",
          "y": 0,
          "yref": "y"
         },
         {
          "font": {
           "color": "#FFFFFF",
           "size": 7
          },
          "showarrow": false,
          "text": "0.36",
          "x": 9,
          "xref": "x",
          "y": 0,
          "yref": "y"
         },
         {
          "font": {
           "color": "#FFFFFF",
           "size": 7
          },
          "showarrow": false,
          "text": "0.37",
          "x": 10,
          "xref": "x",
          "y": 0,
          "yref": "y"
         },
         {
          "font": {
           "color": "#FFFFFF",
           "size": 7
          },
          "showarrow": false,
          "text": "0.36",
          "x": 11,
          "xref": "x",
          "y": 0,
          "yref": "y"
         },
         {
          "font": {
           "color": "#FFFFFF",
           "size": 7
          },
          "showarrow": false,
          "text": "0.37",
          "x": 12,
          "xref": "x",
          "y": 0,
          "yref": "y"
         },
         {
          "font": {
           "color": "#FFFFFF",
           "size": 7
          },
          "showarrow": false,
          "text": "0.36",
          "x": 13,
          "xref": "x",
          "y": 0,
          "yref": "y"
         },
         {
          "font": {
           "color": "#FFFFFF",
           "size": 7
          },
          "showarrow": false,
          "text": "0.37",
          "x": 14,
          "xref": "x",
          "y": 0,
          "yref": "y"
         },
         {
          "font": {
           "color": "#FFFFFF",
           "size": 7
          },
          "showarrow": false,
          "text": "0.37",
          "x": 15,
          "xref": "x",
          "y": 0,
          "yref": "y"
         },
         {
          "font": {
           "color": "#FFFFFF",
           "size": 7
          },
          "showarrow": false,
          "text": "0.37",
          "x": 16,
          "xref": "x",
          "y": 0,
          "yref": "y"
         },
         {
          "font": {
           "color": "#FFFFFF",
           "size": 7
          },
          "showarrow": false,
          "text": "0.36",
          "x": 17,
          "xref": "x",
          "y": 0,
          "yref": "y"
         },
         {
          "font": {
           "color": "#FFFFFF",
           "size": 7
          },
          "showarrow": false,
          "text": "0.36",
          "x": 18,
          "xref": "x",
          "y": 0,
          "yref": "y"
         },
         {
          "font": {
           "color": "#FFFFFF",
           "size": 7
          },
          "showarrow": false,
          "text": "0.33",
          "x": 0,
          "xref": "x",
          "y": 1,
          "yref": "y"
         },
         {
          "font": {
           "color": "#FFFFFF",
           "size": 7
          },
          "showarrow": false,
          "text": "0.34",
          "x": 1,
          "xref": "x",
          "y": 1,
          "yref": "y"
         },
         {
          "font": {
           "color": "#FFFFFF",
           "size": 7
          },
          "showarrow": false,
          "text": "0.34",
          "x": 2,
          "xref": "x",
          "y": 1,
          "yref": "y"
         },
         {
          "font": {
           "color": "#FFFFFF",
           "size": 7
          },
          "showarrow": false,
          "text": "0.35",
          "x": 3,
          "xref": "x",
          "y": 1,
          "yref": "y"
         },
         {
          "font": {
           "color": "#FFFFFF",
           "size": 7
          },
          "showarrow": false,
          "text": "0.35",
          "x": 4,
          "xref": "x",
          "y": 1,
          "yref": "y"
         },
         {
          "font": {
           "color": "#FFFFFF",
           "size": 7
          },
          "showarrow": false,
          "text": "0.35",
          "x": 5,
          "xref": "x",
          "y": 1,
          "yref": "y"
         },
         {
          "font": {
           "color": "#FFFFFF",
           "size": 7
          },
          "showarrow": false,
          "text": "0.36",
          "x": 6,
          "xref": "x",
          "y": 1,
          "yref": "y"
         },
         {
          "font": {
           "color": "#FFFFFF",
           "size": 7
          },
          "showarrow": false,
          "text": "0.36",
          "x": 7,
          "xref": "x",
          "y": 1,
          "yref": "y"
         },
         {
          "font": {
           "color": "#FFFFFF",
           "size": 7
          },
          "showarrow": false,
          "text": "0.36",
          "x": 8,
          "xref": "x",
          "y": 1,
          "yref": "y"
         },
         {
          "font": {
           "color": "#FFFFFF",
           "size": 7
          },
          "showarrow": false,
          "text": "0.36",
          "x": 9,
          "xref": "x",
          "y": 1,
          "yref": "y"
         },
         {
          "font": {
           "color": "#FFFFFF",
           "size": 7
          },
          "showarrow": false,
          "text": "0.37",
          "x": 10,
          "xref": "x",
          "y": 1,
          "yref": "y"
         },
         {
          "font": {
           "color": "#FFFFFF",
           "size": 7
          },
          "showarrow": false,
          "text": "0.37",
          "x": 11,
          "xref": "x",
          "y": 1,
          "yref": "y"
         },
         {
          "font": {
           "color": "#FFFFFF",
           "size": 7
          },
          "showarrow": false,
          "text": "0.36",
          "x": 12,
          "xref": "x",
          "y": 1,
          "yref": "y"
         },
         {
          "font": {
           "color": "#FFFFFF",
           "size": 7
          },
          "showarrow": false,
          "text": "0.37",
          "x": 13,
          "xref": "x",
          "y": 1,
          "yref": "y"
         },
         {
          "font": {
           "color": "#FFFFFF",
           "size": 7
          },
          "showarrow": false,
          "text": "0.37",
          "x": 14,
          "xref": "x",
          "y": 1,
          "yref": "y"
         },
         {
          "font": {
           "color": "#FFFFFF",
           "size": 7
          },
          "showarrow": false,
          "text": "0.37",
          "x": 15,
          "xref": "x",
          "y": 1,
          "yref": "y"
         },
         {
          "font": {
           "color": "#FFFFFF",
           "size": 7
          },
          "showarrow": false,
          "text": "0.37",
          "x": 16,
          "xref": "x",
          "y": 1,
          "yref": "y"
         },
         {
          "font": {
           "color": "#FFFFFF",
           "size": 7
          },
          "showarrow": false,
          "text": "0.36",
          "x": 17,
          "xref": "x",
          "y": 1,
          "yref": "y"
         },
         {
          "font": {
           "color": "#FFFFFF",
           "size": 7
          },
          "showarrow": false,
          "text": "0.37",
          "x": 18,
          "xref": "x",
          "y": 1,
          "yref": "y"
         },
         {
          "font": {
           "color": "#FFFFFF",
           "size": 7
          },
          "showarrow": false,
          "text": "0.34",
          "x": 0,
          "xref": "x",
          "y": 2,
          "yref": "y"
         },
         {
          "font": {
           "color": "#FFFFFF",
           "size": 7
          },
          "showarrow": false,
          "text": "0.34",
          "x": 1,
          "xref": "x",
          "y": 2,
          "yref": "y"
         },
         {
          "font": {
           "color": "#FFFFFF",
           "size": 7
          },
          "showarrow": false,
          "text": "0.35",
          "x": 2,
          "xref": "x",
          "y": 2,
          "yref": "y"
         },
         {
          "font": {
           "color": "#FFFFFF",
           "size": 7
          },
          "showarrow": false,
          "text": "0.34",
          "x": 3,
          "xref": "x",
          "y": 2,
          "yref": "y"
         },
         {
          "font": {
           "color": "#FFFFFF",
           "size": 7
          },
          "showarrow": false,
          "text": "0.35",
          "x": 4,
          "xref": "x",
          "y": 2,
          "yref": "y"
         },
         {
          "font": {
           "color": "#FFFFFF",
           "size": 7
          },
          "showarrow": false,
          "text": "0.35",
          "x": 5,
          "xref": "x",
          "y": 2,
          "yref": "y"
         },
         {
          "font": {
           "color": "#FFFFFF",
           "size": 7
          },
          "showarrow": false,
          "text": "0.36",
          "x": 6,
          "xref": "x",
          "y": 2,
          "yref": "y"
         },
         {
          "font": {
           "color": "#FFFFFF",
           "size": 7
          },
          "showarrow": false,
          "text": "0.37",
          "x": 7,
          "xref": "x",
          "y": 2,
          "yref": "y"
         },
         {
          "font": {
           "color": "#FFFFFF",
           "size": 7
          },
          "showarrow": false,
          "text": "0.37",
          "x": 8,
          "xref": "x",
          "y": 2,
          "yref": "y"
         },
         {
          "font": {
           "color": "#FFFFFF",
           "size": 7
          },
          "showarrow": false,
          "text": "0.36",
          "x": 9,
          "xref": "x",
          "y": 2,
          "yref": "y"
         },
         {
          "font": {
           "color": "#FFFFFF",
           "size": 7
          },
          "showarrow": false,
          "text": "0.37",
          "x": 10,
          "xref": "x",
          "y": 2,
          "yref": "y"
         },
         {
          "font": {
           "color": "#FFFFFF",
           "size": 7
          },
          "showarrow": false,
          "text": "0.37",
          "x": 11,
          "xref": "x",
          "y": 2,
          "yref": "y"
         },
         {
          "font": {
           "color": "#FFFFFF",
           "size": 7
          },
          "showarrow": false,
          "text": "0.37",
          "x": 12,
          "xref": "x",
          "y": 2,
          "yref": "y"
         },
         {
          "font": {
           "color": "#FFFFFF",
           "size": 7
          },
          "showarrow": false,
          "text": "0.37",
          "x": 13,
          "xref": "x",
          "y": 2,
          "yref": "y"
         },
         {
          "font": {
           "color": "#FFFFFF",
           "size": 7
          },
          "showarrow": false,
          "text": "0.37",
          "x": 14,
          "xref": "x",
          "y": 2,
          "yref": "y"
         },
         {
          "font": {
           "color": "#FFFFFF",
           "size": 7
          },
          "showarrow": false,
          "text": "0.36",
          "x": 15,
          "xref": "x",
          "y": 2,
          "yref": "y"
         },
         {
          "font": {
           "color": "#FFFFFF",
           "size": 7
          },
          "showarrow": false,
          "text": "0.36",
          "x": 16,
          "xref": "x",
          "y": 2,
          "yref": "y"
         },
         {
          "font": {
           "color": "#FFFFFF",
           "size": 7
          },
          "showarrow": false,
          "text": "0.36",
          "x": 17,
          "xref": "x",
          "y": 2,
          "yref": "y"
         },
         {
          "font": {
           "color": "#FFFFFF",
           "size": 7
          },
          "showarrow": false,
          "text": "0.36",
          "x": 18,
          "xref": "x",
          "y": 2,
          "yref": "y"
         },
         {
          "font": {
           "color": "#FFFFFF",
           "size": 7
          },
          "showarrow": false,
          "text": "0.34",
          "x": 0,
          "xref": "x",
          "y": 3,
          "yref": "y"
         },
         {
          "font": {
           "color": "#FFFFFF",
           "size": 7
          },
          "showarrow": false,
          "text": "0.34",
          "x": 1,
          "xref": "x",
          "y": 3,
          "yref": "y"
         },
         {
          "font": {
           "color": "#FFFFFF",
           "size": 7
          },
          "showarrow": false,
          "text": "0.33",
          "x": 2,
          "xref": "x",
          "y": 3,
          "yref": "y"
         },
         {
          "font": {
           "color": "#FFFFFF",
           "size": 7
          },
          "showarrow": false,
          "text": "0.34",
          "x": 3,
          "xref": "x",
          "y": 3,
          "yref": "y"
         },
         {
          "font": {
           "color": "#FFFFFF",
           "size": 7
          },
          "showarrow": false,
          "text": "0.35",
          "x": 4,
          "xref": "x",
          "y": 3,
          "yref": "y"
         },
         {
          "font": {
           "color": "#FFFFFF",
           "size": 7
          },
          "showarrow": false,
          "text": "0.36",
          "x": 5,
          "xref": "x",
          "y": 3,
          "yref": "y"
         },
         {
          "font": {
           "color": "#FFFFFF",
           "size": 7
          },
          "showarrow": false,
          "text": "0.37",
          "x": 6,
          "xref": "x",
          "y": 3,
          "yref": "y"
         },
         {
          "font": {
           "color": "#FFFFFF",
           "size": 7
          },
          "showarrow": false,
          "text": "0.37",
          "x": 7,
          "xref": "x",
          "y": 3,
          "yref": "y"
         },
         {
          "font": {
           "color": "#FFFFFF",
           "size": 7
          },
          "showarrow": false,
          "text": "0.37",
          "x": 8,
          "xref": "x",
          "y": 3,
          "yref": "y"
         },
         {
          "font": {
           "color": "#FFFFFF",
           "size": 7
          },
          "showarrow": false,
          "text": "0.37",
          "x": 9,
          "xref": "x",
          "y": 3,
          "yref": "y"
         },
         {
          "font": {
           "color": "#FFFFFF",
           "size": 7
          },
          "showarrow": false,
          "text": "0.37",
          "x": 10,
          "xref": "x",
          "y": 3,
          "yref": "y"
         },
         {
          "font": {
           "color": "#FFFFFF",
           "size": 7
          },
          "showarrow": false,
          "text": "0.37",
          "x": 11,
          "xref": "x",
          "y": 3,
          "yref": "y"
         },
         {
          "font": {
           "color": "#FFFFFF",
           "size": 7
          },
          "showarrow": false,
          "text": "0.37",
          "x": 12,
          "xref": "x",
          "y": 3,
          "yref": "y"
         },
         {
          "font": {
           "color": "#FFFFFF",
           "size": 7
          },
          "showarrow": false,
          "text": "0.38",
          "x": 13,
          "xref": "x",
          "y": 3,
          "yref": "y"
         },
         {
          "font": {
           "color": "#FFFFFF",
           "size": 7
          },
          "showarrow": false,
          "text": "0.38",
          "x": 14,
          "xref": "x",
          "y": 3,
          "yref": "y"
         },
         {
          "font": {
           "color": "#FFFFFF",
           "size": 7
          },
          "showarrow": false,
          "text": "0.37",
          "x": 15,
          "xref": "x",
          "y": 3,
          "yref": "y"
         },
         {
          "font": {
           "color": "#FFFFFF",
           "size": 7
          },
          "showarrow": false,
          "text": "0.36",
          "x": 16,
          "xref": "x",
          "y": 3,
          "yref": "y"
         },
         {
          "font": {
           "color": "#FFFFFF",
           "size": 7
          },
          "showarrow": false,
          "text": "0.37",
          "x": 17,
          "xref": "x",
          "y": 3,
          "yref": "y"
         },
         {
          "font": {
           "color": "#FFFFFF",
           "size": 7
          },
          "showarrow": false,
          "text": "0.36",
          "x": 18,
          "xref": "x",
          "y": 3,
          "yref": "y"
         },
         {
          "font": {
           "color": "#FFFFFF",
           "size": 7
          },
          "showarrow": false,
          "text": "0.33",
          "x": 0,
          "xref": "x",
          "y": 4,
          "yref": "y"
         },
         {
          "font": {
           "color": "#FFFFFF",
           "size": 7
          },
          "showarrow": false,
          "text": "0.33",
          "x": 1,
          "xref": "x",
          "y": 4,
          "yref": "y"
         },
         {
          "font": {
           "color": "#FFFFFF",
           "size": 7
          },
          "showarrow": false,
          "text": "0.33",
          "x": 2,
          "xref": "x",
          "y": 4,
          "yref": "y"
         },
         {
          "font": {
           "color": "#FFFFFF",
           "size": 7
          },
          "showarrow": false,
          "text": "0.34",
          "x": 3,
          "xref": "x",
          "y": 4,
          "yref": "y"
         },
         {
          "font": {
           "color": "#FFFFFF",
           "size": 7
          },
          "showarrow": false,
          "text": "0.34",
          "x": 4,
          "xref": "x",
          "y": 4,
          "yref": "y"
         },
         {
          "font": {
           "color": "#FFFFFF",
           "size": 7
          },
          "showarrow": false,
          "text": "0.36",
          "x": 5,
          "xref": "x",
          "y": 4,
          "yref": "y"
         },
         {
          "font": {
           "color": "#FFFFFF",
           "size": 7
          },
          "showarrow": false,
          "text": "0.36",
          "x": 6,
          "xref": "x",
          "y": 4,
          "yref": "y"
         },
         {
          "font": {
           "color": "#FFFFFF",
           "size": 7
          },
          "showarrow": false,
          "text": "0.36",
          "x": 7,
          "xref": "x",
          "y": 4,
          "yref": "y"
         },
         {
          "font": {
           "color": "#FFFFFF",
           "size": 7
          },
          "showarrow": false,
          "text": "0.37",
          "x": 8,
          "xref": "x",
          "y": 4,
          "yref": "y"
         },
         {
          "font": {
           "color": "#FFFFFF",
           "size": 7
          },
          "showarrow": false,
          "text": "0.37",
          "x": 9,
          "xref": "x",
          "y": 4,
          "yref": "y"
         },
         {
          "font": {
           "color": "#FFFFFF",
           "size": 7
          },
          "showarrow": false,
          "text": "0.37",
          "x": 10,
          "xref": "x",
          "y": 4,
          "yref": "y"
         },
         {
          "font": {
           "color": "#FFFFFF",
           "size": 7
          },
          "showarrow": false,
          "text": "0.37",
          "x": 11,
          "xref": "x",
          "y": 4,
          "yref": "y"
         },
         {
          "font": {
           "color": "#FFFFFF",
           "size": 7
          },
          "showarrow": false,
          "text": "0.37",
          "x": 12,
          "xref": "x",
          "y": 4,
          "yref": "y"
         },
         {
          "font": {
           "color": "#FFFFFF",
           "size": 7
          },
          "showarrow": false,
          "text": "0.38",
          "x": 13,
          "xref": "x",
          "y": 4,
          "yref": "y"
         },
         {
          "font": {
           "color": "#FFFFFF",
           "size": 7
          },
          "showarrow": false,
          "text": "0.38",
          "x": 14,
          "xref": "x",
          "y": 4,
          "yref": "y"
         },
         {
          "font": {
           "color": "#FFFFFF",
           "size": 7
          },
          "showarrow": false,
          "text": "0.37",
          "x": 15,
          "xref": "x",
          "y": 4,
          "yref": "y"
         },
         {
          "font": {
           "color": "#FFFFFF",
           "size": 7
          },
          "showarrow": false,
          "text": "0.37",
          "x": 16,
          "xref": "x",
          "y": 4,
          "yref": "y"
         },
         {
          "font": {
           "color": "#FFFFFF",
           "size": 7
          },
          "showarrow": false,
          "text": "0.37",
          "x": 17,
          "xref": "x",
          "y": 4,
          "yref": "y"
         },
         {
          "font": {
           "color": "#FFFFFF",
           "size": 7
          },
          "showarrow": false,
          "text": "0.37",
          "x": 18,
          "xref": "x",
          "y": 4,
          "yref": "y"
         },
         {
          "font": {
           "color": "#FFFFFF",
           "size": 7
          },
          "showarrow": false,
          "text": "0.33",
          "x": 0,
          "xref": "x",
          "y": 5,
          "yref": "y"
         },
         {
          "font": {
           "color": "#FFFFFF",
           "size": 7
          },
          "showarrow": false,
          "text": "0.34",
          "x": 1,
          "xref": "x",
          "y": 5,
          "yref": "y"
         },
         {
          "font": {
           "color": "#FFFFFF",
           "size": 7
          },
          "showarrow": false,
          "text": "0.34",
          "x": 2,
          "xref": "x",
          "y": 5,
          "yref": "y"
         },
         {
          "font": {
           "color": "#FFFFFF",
           "size": 7
          },
          "showarrow": false,
          "text": "0.35",
          "x": 3,
          "xref": "x",
          "y": 5,
          "yref": "y"
         },
         {
          "font": {
           "color": "#FFFFFF",
           "size": 7
          },
          "showarrow": false,
          "text": "0.35",
          "x": 4,
          "xref": "x",
          "y": 5,
          "yref": "y"
         },
         {
          "font": {
           "color": "#FFFFFF",
           "size": 7
          },
          "showarrow": false,
          "text": "0.35",
          "x": 5,
          "xref": "x",
          "y": 5,
          "yref": "y"
         },
         {
          "font": {
           "color": "#FFFFFF",
           "size": 7
          },
          "showarrow": false,
          "text": "0.36",
          "x": 6,
          "xref": "x",
          "y": 5,
          "yref": "y"
         },
         {
          "font": {
           "color": "#FFFFFF",
           "size": 7
          },
          "showarrow": false,
          "text": "0.37",
          "x": 7,
          "xref": "x",
          "y": 5,
          "yref": "y"
         },
         {
          "font": {
           "color": "#FFFFFF",
           "size": 7
          },
          "showarrow": false,
          "text": "0.37",
          "x": 8,
          "xref": "x",
          "y": 5,
          "yref": "y"
         },
         {
          "font": {
           "color": "#FFFFFF",
           "size": 7
          },
          "showarrow": false,
          "text": "0.37",
          "x": 9,
          "xref": "x",
          "y": 5,
          "yref": "y"
         },
         {
          "font": {
           "color": "#FFFFFF",
           "size": 7
          },
          "showarrow": false,
          "text": "0.37",
          "x": 10,
          "xref": "x",
          "y": 5,
          "yref": "y"
         },
         {
          "font": {
           "color": "#FFFFFF",
           "size": 7
          },
          "showarrow": false,
          "text": "0.38",
          "x": 11,
          "xref": "x",
          "y": 5,
          "yref": "y"
         },
         {
          "font": {
           "color": "#FFFFFF",
           "size": 7
          },
          "showarrow": false,
          "text": "0.38",
          "x": 12,
          "xref": "x",
          "y": 5,
          "yref": "y"
         },
         {
          "font": {
           "color": "#FFFFFF",
           "size": 7
          },
          "showarrow": false,
          "text": "0.38",
          "x": 13,
          "xref": "x",
          "y": 5,
          "yref": "y"
         },
         {
          "font": {
           "color": "#FFFFFF",
           "size": 7
          },
          "showarrow": false,
          "text": "0.39",
          "x": 14,
          "xref": "x",
          "y": 5,
          "yref": "y"
         },
         {
          "font": {
           "color": "#FFFFFF",
           "size": 7
          },
          "showarrow": false,
          "text": "0.38",
          "x": 15,
          "xref": "x",
          "y": 5,
          "yref": "y"
         },
         {
          "font": {
           "color": "#FFFFFF",
           "size": 7
          },
          "showarrow": false,
          "text": "0.38",
          "x": 16,
          "xref": "x",
          "y": 5,
          "yref": "y"
         },
         {
          "font": {
           "color": "#FFFFFF",
           "size": 7
          },
          "showarrow": false,
          "text": "0.37",
          "x": 17,
          "xref": "x",
          "y": 5,
          "yref": "y"
         },
         {
          "font": {
           "color": "#FFFFFF",
           "size": 7
          },
          "showarrow": false,
          "text": "0.37",
          "x": 18,
          "xref": "x",
          "y": 5,
          "yref": "y"
         },
         {
          "font": {
           "color": "#FFFFFF",
           "size": 7
          },
          "showarrow": false,
          "text": "0.33",
          "x": 0,
          "xref": "x",
          "y": 6,
          "yref": "y"
         },
         {
          "font": {
           "color": "#FFFFFF",
           "size": 7
          },
          "showarrow": false,
          "text": "0.34",
          "x": 1,
          "xref": "x",
          "y": 6,
          "yref": "y"
         },
         {
          "font": {
           "color": "#FFFFFF",
           "size": 7
          },
          "showarrow": false,
          "text": "0.35",
          "x": 2,
          "xref": "x",
          "y": 6,
          "yref": "y"
         },
         {
          "font": {
           "color": "#FFFFFF",
           "size": 7
          },
          "showarrow": false,
          "text": "0.35",
          "x": 3,
          "xref": "x",
          "y": 6,
          "yref": "y"
         },
         {
          "font": {
           "color": "#FFFFFF",
           "size": 7
          },
          "showarrow": false,
          "text": "0.35",
          "x": 4,
          "xref": "x",
          "y": 6,
          "yref": "y"
         },
         {
          "font": {
           "color": "#FFFFFF",
           "size": 7
          },
          "showarrow": false,
          "text": "0.35",
          "x": 5,
          "xref": "x",
          "y": 6,
          "yref": "y"
         },
         {
          "font": {
           "color": "#FFFFFF",
           "size": 7
          },
          "showarrow": false,
          "text": "0.36",
          "x": 6,
          "xref": "x",
          "y": 6,
          "yref": "y"
         },
         {
          "font": {
           "color": "#FFFFFF",
           "size": 7
          },
          "showarrow": false,
          "text": "0.37",
          "x": 7,
          "xref": "x",
          "y": 6,
          "yref": "y"
         },
         {
          "font": {
           "color": "#FFFFFF",
           "size": 7
          },
          "showarrow": false,
          "text": "0.37",
          "x": 8,
          "xref": "x",
          "y": 6,
          "yref": "y"
         },
         {
          "font": {
           "color": "#FFFFFF",
           "size": 7
          },
          "showarrow": false,
          "text": "0.38",
          "x": 9,
          "xref": "x",
          "y": 6,
          "yref": "y"
         },
         {
          "font": {
           "color": "#FFFFFF",
           "size": 7
          },
          "showarrow": false,
          "text": "0.38",
          "x": 10,
          "xref": "x",
          "y": 6,
          "yref": "y"
         },
         {
          "font": {
           "color": "#FFFFFF",
           "size": 7
          },
          "showarrow": false,
          "text": "0.38",
          "x": 11,
          "xref": "x",
          "y": 6,
          "yref": "y"
         },
         {
          "font": {
           "color": "#FFFFFF",
           "size": 7
          },
          "showarrow": false,
          "text": "0.39",
          "x": 12,
          "xref": "x",
          "y": 6,
          "yref": "y"
         },
         {
          "font": {
           "color": "#FFFFFF",
           "size": 7
          },
          "showarrow": false,
          "text": "0.39",
          "x": 13,
          "xref": "x",
          "y": 6,
          "yref": "y"
         },
         {
          "font": {
           "color": "#FFFFFF",
           "size": 7
          },
          "showarrow": false,
          "text": "0.39",
          "x": 14,
          "xref": "x",
          "y": 6,
          "yref": "y"
         },
         {
          "font": {
           "color": "#FFFFFF",
           "size": 7
          },
          "showarrow": false,
          "text": "0.39",
          "x": 15,
          "xref": "x",
          "y": 6,
          "yref": "y"
         },
         {
          "font": {
           "color": "#FFFFFF",
           "size": 7
          },
          "showarrow": false,
          "text": "0.39",
          "x": 16,
          "xref": "x",
          "y": 6,
          "yref": "y"
         },
         {
          "font": {
           "color": "#FFFFFF",
           "size": 7
          },
          "showarrow": false,
          "text": "0.38",
          "x": 17,
          "xref": "x",
          "y": 6,
          "yref": "y"
         },
         {
          "font": {
           "color": "#FFFFFF",
           "size": 7
          },
          "showarrow": false,
          "text": "0.39",
          "x": 18,
          "xref": "x",
          "y": 6,
          "yref": "y"
         },
         {
          "font": {
           "color": "#FFFFFF",
           "size": 7
          },
          "showarrow": false,
          "text": "0.34",
          "x": 0,
          "xref": "x",
          "y": 7,
          "yref": "y"
         },
         {
          "font": {
           "color": "#FFFFFF",
           "size": 7
          },
          "showarrow": false,
          "text": "0.34",
          "x": 1,
          "xref": "x",
          "y": 7,
          "yref": "y"
         },
         {
          "font": {
           "color": "#FFFFFF",
           "size": 7
          },
          "showarrow": false,
          "text": "0.35",
          "x": 2,
          "xref": "x",
          "y": 7,
          "yref": "y"
         },
         {
          "font": {
           "color": "#FFFFFF",
           "size": 7
          },
          "showarrow": false,
          "text": "0.35",
          "x": 3,
          "xref": "x",
          "y": 7,
          "yref": "y"
         },
         {
          "font": {
           "color": "#FFFFFF",
           "size": 7
          },
          "showarrow": false,
          "text": "0.35",
          "x": 4,
          "xref": "x",
          "y": 7,
          "yref": "y"
         },
         {
          "font": {
           "color": "#FFFFFF",
           "size": 7
          },
          "showarrow": false,
          "text": "0.35",
          "x": 5,
          "xref": "x",
          "y": 7,
          "yref": "y"
         },
         {
          "font": {
           "color": "#FFFFFF",
           "size": 7
          },
          "showarrow": false,
          "text": "0.37",
          "x": 6,
          "xref": "x",
          "y": 7,
          "yref": "y"
         },
         {
          "font": {
           "color": "#FFFFFF",
           "size": 7
          },
          "showarrow": false,
          "text": "0.37",
          "x": 7,
          "xref": "x",
          "y": 7,
          "yref": "y"
         },
         {
          "font": {
           "color": "#FFFFFF",
           "size": 7
          },
          "showarrow": false,
          "text": "0.37",
          "x": 8,
          "xref": "x",
          "y": 7,
          "yref": "y"
         },
         {
          "font": {
           "color": "#FFFFFF",
           "size": 7
          },
          "showarrow": false,
          "text": "0.38",
          "x": 9,
          "xref": "x",
          "y": 7,
          "yref": "y"
         },
         {
          "font": {
           "color": "#FFFFFF",
           "size": 7
          },
          "showarrow": false,
          "text": "0.38",
          "x": 10,
          "xref": "x",
          "y": 7,
          "yref": "y"
         },
         {
          "font": {
           "color": "#FFFFFF",
           "size": 7
          },
          "showarrow": false,
          "text": "0.38",
          "x": 11,
          "xref": "x",
          "y": 7,
          "yref": "y"
         },
         {
          "font": {
           "color": "#FFFFFF",
           "size": 7
          },
          "showarrow": false,
          "text": "0.39",
          "x": 12,
          "xref": "x",
          "y": 7,
          "yref": "y"
         },
         {
          "font": {
           "color": "#FFFFFF",
           "size": 7
          },
          "showarrow": false,
          "text": "0.4",
          "x": 13,
          "xref": "x",
          "y": 7,
          "yref": "y"
         },
         {
          "font": {
           "color": "#FFFFFF",
           "size": 7
          },
          "showarrow": false,
          "text": "0.4",
          "x": 14,
          "xref": "x",
          "y": 7,
          "yref": "y"
         },
         {
          "font": {
           "color": "#FFFFFF",
           "size": 7
          },
          "showarrow": false,
          "text": "0.39",
          "x": 15,
          "xref": "x",
          "y": 7,
          "yref": "y"
         },
         {
          "font": {
           "color": "#FFFFFF",
           "size": 7
          },
          "showarrow": false,
          "text": "0.39",
          "x": 16,
          "xref": "x",
          "y": 7,
          "yref": "y"
         },
         {
          "font": {
           "color": "#FFFFFF",
           "size": 7
          },
          "showarrow": false,
          "text": "0.39",
          "x": 17,
          "xref": "x",
          "y": 7,
          "yref": "y"
         },
         {
          "font": {
           "color": "#FFFFFF",
           "size": 7
          },
          "showarrow": false,
          "text": "0.4",
          "x": 18,
          "xref": "x",
          "y": 7,
          "yref": "y"
         },
         {
          "font": {
           "color": "#FFFFFF",
           "size": 7
          },
          "showarrow": false,
          "text": "0.34",
          "x": 0,
          "xref": "x",
          "y": 8,
          "yref": "y"
         },
         {
          "font": {
           "color": "#FFFFFF",
           "size": 7
          },
          "showarrow": false,
          "text": "0.34",
          "x": 1,
          "xref": "x",
          "y": 8,
          "yref": "y"
         },
         {
          "font": {
           "color": "#FFFFFF",
           "size": 7
          },
          "showarrow": false,
          "text": "0.35",
          "x": 2,
          "xref": "x",
          "y": 8,
          "yref": "y"
         },
         {
          "font": {
           "color": "#FFFFFF",
           "size": 7
          },
          "showarrow": false,
          "text": "0.35",
          "x": 3,
          "xref": "x",
          "y": 8,
          "yref": "y"
         },
         {
          "font": {
           "color": "#FFFFFF",
           "size": 7
          },
          "showarrow": false,
          "text": "0.35",
          "x": 4,
          "xref": "x",
          "y": 8,
          "yref": "y"
         },
         {
          "font": {
           "color": "#FFFFFF",
           "size": 7
          },
          "showarrow": false,
          "text": "0.36",
          "x": 5,
          "xref": "x",
          "y": 8,
          "yref": "y"
         },
         {
          "font": {
           "color": "#FFFFFF",
           "size": 7
          },
          "showarrow": false,
          "text": "0.36",
          "x": 6,
          "xref": "x",
          "y": 8,
          "yref": "y"
         },
         {
          "font": {
           "color": "#FFFFFF",
           "size": 7
          },
          "showarrow": false,
          "text": "0.37",
          "x": 7,
          "xref": "x",
          "y": 8,
          "yref": "y"
         },
         {
          "font": {
           "color": "#FFFFFF",
           "size": 7
          },
          "showarrow": false,
          "text": "0.37",
          "x": 8,
          "xref": "x",
          "y": 8,
          "yref": "y"
         },
         {
          "font": {
           "color": "#FFFFFF",
           "size": 7
          },
          "showarrow": false,
          "text": "0.38",
          "x": 9,
          "xref": "x",
          "y": 8,
          "yref": "y"
         },
         {
          "font": {
           "color": "#FFFFFF",
           "size": 7
          },
          "showarrow": false,
          "text": "0.38",
          "x": 10,
          "xref": "x",
          "y": 8,
          "yref": "y"
         },
         {
          "font": {
           "color": "#FFFFFF",
           "size": 7
          },
          "showarrow": false,
          "text": "0.38",
          "x": 11,
          "xref": "x",
          "y": 8,
          "yref": "y"
         },
         {
          "font": {
           "color": "#FFFFFF",
           "size": 7
          },
          "showarrow": false,
          "text": "0.39",
          "x": 12,
          "xref": "x",
          "y": 8,
          "yref": "y"
         },
         {
          "font": {
           "color": "#FFFFFF",
           "size": 7
          },
          "showarrow": false,
          "text": "0.39",
          "x": 13,
          "xref": "x",
          "y": 8,
          "yref": "y"
         },
         {
          "font": {
           "color": "#FFFFFF",
           "size": 7
          },
          "showarrow": false,
          "text": "0.4",
          "x": 14,
          "xref": "x",
          "y": 8,
          "yref": "y"
         },
         {
          "font": {
           "color": "#FFFFFF",
           "size": 7
          },
          "showarrow": false,
          "text": "0.4",
          "x": 15,
          "xref": "x",
          "y": 8,
          "yref": "y"
         },
         {
          "font": {
           "color": "#FFFFFF",
           "size": 7
          },
          "showarrow": false,
          "text": "0.4",
          "x": 16,
          "xref": "x",
          "y": 8,
          "yref": "y"
         },
         {
          "font": {
           "color": "#FFFFFF",
           "size": 7
          },
          "showarrow": false,
          "text": "0.39",
          "x": 17,
          "xref": "x",
          "y": 8,
          "yref": "y"
         },
         {
          "font": {
           "color": "#FFFFFF",
           "size": 7
          },
          "showarrow": false,
          "text": "0.4",
          "x": 18,
          "xref": "x",
          "y": 8,
          "yref": "y"
         },
         {
          "font": {
           "color": "#FFFFFF",
           "size": 7
          },
          "showarrow": false,
          "text": "0.35",
          "x": 0,
          "xref": "x",
          "y": 9,
          "yref": "y"
         },
         {
          "font": {
           "color": "#FFFFFF",
           "size": 7
          },
          "showarrow": false,
          "text": "0.35",
          "x": 1,
          "xref": "x",
          "y": 9,
          "yref": "y"
         },
         {
          "font": {
           "color": "#FFFFFF",
           "size": 7
          },
          "showarrow": false,
          "text": "0.36",
          "x": 2,
          "xref": "x",
          "y": 9,
          "yref": "y"
         },
         {
          "font": {
           "color": "#FFFFFF",
           "size": 7
          },
          "showarrow": false,
          "text": "0.36",
          "x": 3,
          "xref": "x",
          "y": 9,
          "yref": "y"
         },
         {
          "font": {
           "color": "#FFFFFF",
           "size": 7
          },
          "showarrow": false,
          "text": "0.36",
          "x": 4,
          "xref": "x",
          "y": 9,
          "yref": "y"
         },
         {
          "font": {
           "color": "#FFFFFF",
           "size": 7
          },
          "showarrow": false,
          "text": "0.36",
          "x": 5,
          "xref": "x",
          "y": 9,
          "yref": "y"
         },
         {
          "font": {
           "color": "#FFFFFF",
           "size": 7
          },
          "showarrow": false,
          "text": "0.38",
          "x": 6,
          "xref": "x",
          "y": 9,
          "yref": "y"
         },
         {
          "font": {
           "color": "#FFFFFF",
           "size": 7
          },
          "showarrow": false,
          "text": "0.39",
          "x": 7,
          "xref": "x",
          "y": 9,
          "yref": "y"
         },
         {
          "font": {
           "color": "#FFFFFF",
           "size": 7
          },
          "showarrow": false,
          "text": "0.39",
          "x": 8,
          "xref": "x",
          "y": 9,
          "yref": "y"
         },
         {
          "font": {
           "color": "#FFFFFF",
           "size": 7
          },
          "showarrow": false,
          "text": "0.39",
          "x": 9,
          "xref": "x",
          "y": 9,
          "yref": "y"
         },
         {
          "font": {
           "color": "#FFFFFF",
           "size": 7
          },
          "showarrow": false,
          "text": "0.39",
          "x": 10,
          "xref": "x",
          "y": 9,
          "yref": "y"
         },
         {
          "font": {
           "color": "#FFFFFF",
           "size": 7
          },
          "showarrow": false,
          "text": "0.39",
          "x": 11,
          "xref": "x",
          "y": 9,
          "yref": "y"
         },
         {
          "font": {
           "color": "#FFFFFF",
           "size": 7
          },
          "showarrow": false,
          "text": "0.39",
          "x": 12,
          "xref": "x",
          "y": 9,
          "yref": "y"
         },
         {
          "font": {
           "color": "#FFFFFF",
           "size": 7
          },
          "showarrow": false,
          "text": "0.39",
          "x": 13,
          "xref": "x",
          "y": 9,
          "yref": "y"
         },
         {
          "font": {
           "color": "#FFFFFF",
           "size": 7
          },
          "showarrow": false,
          "text": "0.39",
          "x": 14,
          "xref": "x",
          "y": 9,
          "yref": "y"
         },
         {
          "font": {
           "color": "#FFFFFF",
           "size": 7
          },
          "showarrow": false,
          "text": "0.39",
          "x": 15,
          "xref": "x",
          "y": 9,
          "yref": "y"
         },
         {
          "font": {
           "color": "#FFFFFF",
           "size": 7
          },
          "showarrow": false,
          "text": "0.4",
          "x": 16,
          "xref": "x",
          "y": 9,
          "yref": "y"
         },
         {
          "font": {
           "color": "#FFFFFF",
           "size": 7
          },
          "showarrow": false,
          "text": "0.4",
          "x": 17,
          "xref": "x",
          "y": 9,
          "yref": "y"
         },
         {
          "font": {
           "color": "#FFFFFF",
           "size": 7
          },
          "showarrow": false,
          "text": "0.4",
          "x": 18,
          "xref": "x",
          "y": 9,
          "yref": "y"
         },
         {
          "font": {
           "color": "#FFFFFF",
           "size": 7
          },
          "showarrow": false,
          "text": "0.39",
          "x": 0,
          "xref": "x",
          "y": 10,
          "yref": "y"
         },
         {
          "font": {
           "color": "#FFFFFF",
           "size": 7
          },
          "showarrow": false,
          "text": "0.39",
          "x": 1,
          "xref": "x",
          "y": 10,
          "yref": "y"
         },
         {
          "font": {
           "color": "#FFFFFF",
           "size": 7
          },
          "showarrow": false,
          "text": "0.39",
          "x": 2,
          "xref": "x",
          "y": 10,
          "yref": "y"
         },
         {
          "font": {
           "color": "#FFFFFF",
           "size": 7
          },
          "showarrow": false,
          "text": "0.38",
          "x": 3,
          "xref": "x",
          "y": 10,
          "yref": "y"
         },
         {
          "font": {
           "color": "#FFFFFF",
           "size": 7
          },
          "showarrow": false,
          "text": "0.38",
          "x": 4,
          "xref": "x",
          "y": 10,
          "yref": "y"
         },
         {
          "font": {
           "color": "#FFFFFF",
           "size": 7
          },
          "showarrow": false,
          "text": "0.38",
          "x": 5,
          "xref": "x",
          "y": 10,
          "yref": "y"
         },
         {
          "font": {
           "color": "#FFFFFF",
           "size": 7
          },
          "showarrow": false,
          "text": "0.39",
          "x": 6,
          "xref": "x",
          "y": 10,
          "yref": "y"
         },
         {
          "font": {
           "color": "#FFFFFF",
           "size": 7
          },
          "showarrow": false,
          "text": "0.39",
          "x": 7,
          "xref": "x",
          "y": 10,
          "yref": "y"
         },
         {
          "font": {
           "color": "#FFFFFF",
           "size": 7
          },
          "showarrow": false,
          "text": "0.39",
          "x": 8,
          "xref": "x",
          "y": 10,
          "yref": "y"
         },
         {
          "font": {
           "color": "#FFFFFF",
           "size": 7
          },
          "showarrow": false,
          "text": "0.4",
          "x": 9,
          "xref": "x",
          "y": 10,
          "yref": "y"
         },
         {
          "font": {
           "color": "#FFFFFF",
           "size": 7
          },
          "showarrow": false,
          "text": "0.4",
          "x": 10,
          "xref": "x",
          "y": 10,
          "yref": "y"
         },
         {
          "font": {
           "color": "#FFFFFF",
           "size": 7
          },
          "showarrow": false,
          "text": "0.41",
          "x": 11,
          "xref": "x",
          "y": 10,
          "yref": "y"
         },
         {
          "font": {
           "color": "#FFFFFF",
           "size": 7
          },
          "showarrow": false,
          "text": "0.39",
          "x": 12,
          "xref": "x",
          "y": 10,
          "yref": "y"
         },
         {
          "font": {
           "color": "#FFFFFF",
           "size": 7
          },
          "showarrow": false,
          "text": "0.39",
          "x": 13,
          "xref": "x",
          "y": 10,
          "yref": "y"
         },
         {
          "font": {
           "color": "#FFFFFF",
           "size": 7
          },
          "showarrow": false,
          "text": "0.39",
          "x": 14,
          "xref": "x",
          "y": 10,
          "yref": "y"
         },
         {
          "font": {
           "color": "#FFFFFF",
           "size": 7
          },
          "showarrow": false,
          "text": "0.39",
          "x": 15,
          "xref": "x",
          "y": 10,
          "yref": "y"
         },
         {
          "font": {
           "color": "#FFFFFF",
           "size": 7
          },
          "showarrow": false,
          "text": "0.39",
          "x": 16,
          "xref": "x",
          "y": 10,
          "yref": "y"
         },
         {
          "font": {
           "color": "#FFFFFF",
           "size": 7
          },
          "showarrow": false,
          "text": "0.39",
          "x": 17,
          "xref": "x",
          "y": 10,
          "yref": "y"
         },
         {
          "font": {
           "color": "#FFFFFF",
           "size": 7
          },
          "showarrow": false,
          "text": "0.4",
          "x": 18,
          "xref": "x",
          "y": 10,
          "yref": "y"
         },
         {
          "font": {
           "color": "#FFFFFF",
           "size": 7
          },
          "showarrow": false,
          "text": "0.43",
          "x": 0,
          "xref": "x",
          "y": 11,
          "yref": "y"
         },
         {
          "font": {
           "color": "#FFFFFF",
           "size": 7
          },
          "showarrow": false,
          "text": "0.41",
          "x": 1,
          "xref": "x",
          "y": 11,
          "yref": "y"
         },
         {
          "font": {
           "color": "#FFFFFF",
           "size": 7
          },
          "showarrow": false,
          "text": "0.41",
          "x": 2,
          "xref": "x",
          "y": 11,
          "yref": "y"
         },
         {
          "font": {
           "color": "#FFFFFF",
           "size": 7
          },
          "showarrow": false,
          "text": "0.4",
          "x": 3,
          "xref": "x",
          "y": 11,
          "yref": "y"
         },
         {
          "font": {
           "color": "#FFFFFF",
           "size": 7
          },
          "showarrow": false,
          "text": "0.41",
          "x": 4,
          "xref": "x",
          "y": 11,
          "yref": "y"
         },
         {
          "font": {
           "color": "#FFFFFF",
           "size": 7
          },
          "showarrow": false,
          "text": "0.39",
          "x": 5,
          "xref": "x",
          "y": 11,
          "yref": "y"
         },
         {
          "font": {
           "color": "#FFFFFF",
           "size": 7
          },
          "showarrow": false,
          "text": "0.4",
          "x": 6,
          "xref": "x",
          "y": 11,
          "yref": "y"
         },
         {
          "font": {
           "color": "#FFFFFF",
           "size": 7
          },
          "showarrow": false,
          "text": "0.4",
          "x": 7,
          "xref": "x",
          "y": 11,
          "yref": "y"
         },
         {
          "font": {
           "color": "#FFFFFF",
           "size": 7
          },
          "showarrow": false,
          "text": "0.4",
          "x": 8,
          "xref": "x",
          "y": 11,
          "yref": "y"
         },
         {
          "font": {
           "color": "#FFFFFF",
           "size": 7
          },
          "showarrow": false,
          "text": "0.41",
          "x": 9,
          "xref": "x",
          "y": 11,
          "yref": "y"
         },
         {
          "font": {
           "color": "#FFFFFF",
           "size": 7
          },
          "showarrow": false,
          "text": "0.41",
          "x": 10,
          "xref": "x",
          "y": 11,
          "yref": "y"
         },
         {
          "font": {
           "color": "#FFFFFF",
           "size": 7
          },
          "showarrow": false,
          "text": "0.41",
          "x": 11,
          "xref": "x",
          "y": 11,
          "yref": "y"
         },
         {
          "font": {
           "color": "#FFFFFF",
           "size": 7
          },
          "showarrow": false,
          "text": "0.4",
          "x": 12,
          "xref": "x",
          "y": 11,
          "yref": "y"
         },
         {
          "font": {
           "color": "#FFFFFF",
           "size": 7
          },
          "showarrow": false,
          "text": "0.39",
          "x": 13,
          "xref": "x",
          "y": 11,
          "yref": "y"
         },
         {
          "font": {
           "color": "#FFFFFF",
           "size": 7
          },
          "showarrow": false,
          "text": "0.4",
          "x": 14,
          "xref": "x",
          "y": 11,
          "yref": "y"
         },
         {
          "font": {
           "color": "#FFFFFF",
           "size": 7
          },
          "showarrow": false,
          "text": "0.4",
          "x": 15,
          "xref": "x",
          "y": 11,
          "yref": "y"
         },
         {
          "font": {
           "color": "#FFFFFF",
           "size": 7
          },
          "showarrow": false,
          "text": "0.4",
          "x": 16,
          "xref": "x",
          "y": 11,
          "yref": "y"
         },
         {
          "font": {
           "color": "#FFFFFF",
           "size": 7
          },
          "showarrow": false,
          "text": "0.4",
          "x": 17,
          "xref": "x",
          "y": 11,
          "yref": "y"
         },
         {
          "font": {
           "color": "#FFFFFF",
           "size": 7
          },
          "showarrow": false,
          "text": "0.4",
          "x": 18,
          "xref": "x",
          "y": 11,
          "yref": "y"
         },
         {
          "font": {
           "color": "#FFFFFF",
           "size": 7
          },
          "showarrow": false,
          "text": "0.47",
          "x": 0,
          "xref": "x",
          "y": 12,
          "yref": "y"
         },
         {
          "font": {
           "color": "#FFFFFF",
           "size": 7
          },
          "showarrow": false,
          "text": "0.45",
          "x": 1,
          "xref": "x",
          "y": 12,
          "yref": "y"
         },
         {
          "font": {
           "color": "#FFFFFF",
           "size": 7
          },
          "showarrow": false,
          "text": "0.44",
          "x": 2,
          "xref": "x",
          "y": 12,
          "yref": "y"
         },
         {
          "font": {
           "color": "#FFFFFF",
           "size": 7
          },
          "showarrow": false,
          "text": "0.43",
          "x": 3,
          "xref": "x",
          "y": 12,
          "yref": "y"
         },
         {
          "font": {
           "color": "#FFFFFF",
           "size": 7
          },
          "showarrow": false,
          "text": "0.42",
          "x": 4,
          "xref": "x",
          "y": 12,
          "yref": "y"
         },
         {
          "font": {
           "color": "#FFFFFF",
           "size": 7
          },
          "showarrow": false,
          "text": "0.42",
          "x": 5,
          "xref": "x",
          "y": 12,
          "yref": "y"
         },
         {
          "font": {
           "color": "#FFFFFF",
           "size": 7
          },
          "showarrow": false,
          "text": "0.41",
          "x": 6,
          "xref": "x",
          "y": 12,
          "yref": "y"
         },
         {
          "font": {
           "color": "#FFFFFF",
           "size": 7
          },
          "showarrow": false,
          "text": "0.4",
          "x": 7,
          "xref": "x",
          "y": 12,
          "yref": "y"
         },
         {
          "font": {
           "color": "#FFFFFF",
           "size": 7
          },
          "showarrow": false,
          "text": "0.41",
          "x": 8,
          "xref": "x",
          "y": 12,
          "yref": "y"
         },
         {
          "font": {
           "color": "#FFFFFF",
           "size": 7
          },
          "showarrow": false,
          "text": "0.41",
          "x": 9,
          "xref": "x",
          "y": 12,
          "yref": "y"
         },
         {
          "font": {
           "color": "#FFFFFF",
           "size": 7
          },
          "showarrow": false,
          "text": "0.42",
          "x": 10,
          "xref": "x",
          "y": 12,
          "yref": "y"
         },
         {
          "font": {
           "color": "#FFFFFF",
           "size": 7
          },
          "showarrow": false,
          "text": "0.42",
          "x": 11,
          "xref": "x",
          "y": 12,
          "yref": "y"
         },
         {
          "font": {
           "color": "#FFFFFF",
           "size": 7
          },
          "showarrow": false,
          "text": "0.42",
          "x": 12,
          "xref": "x",
          "y": 12,
          "yref": "y"
         },
         {
          "font": {
           "color": "#FFFFFF",
           "size": 7
          },
          "showarrow": false,
          "text": "0.4",
          "x": 13,
          "xref": "x",
          "y": 12,
          "yref": "y"
         },
         {
          "font": {
           "color": "#FFFFFF",
           "size": 7
          },
          "showarrow": false,
          "text": "0.4",
          "x": 14,
          "xref": "x",
          "y": 12,
          "yref": "y"
         },
         {
          "font": {
           "color": "#FFFFFF",
           "size": 7
          },
          "showarrow": false,
          "text": "0.41",
          "x": 15,
          "xref": "x",
          "y": 12,
          "yref": "y"
         },
         {
          "font": {
           "color": "#FFFFFF",
           "size": 7
          },
          "showarrow": false,
          "text": "0.41",
          "x": 16,
          "xref": "x",
          "y": 12,
          "yref": "y"
         },
         {
          "font": {
           "color": "#FFFFFF",
           "size": 7
          },
          "showarrow": false,
          "text": "0.41",
          "x": 17,
          "xref": "x",
          "y": 12,
          "yref": "y"
         },
         {
          "font": {
           "color": "#FFFFFF",
           "size": 7
          },
          "showarrow": false,
          "text": "0.41",
          "x": 18,
          "xref": "x",
          "y": 12,
          "yref": "y"
         },
         {
          "font": {
           "color": "#000000",
           "size": 7
          },
          "showarrow": false,
          "text": "0.55",
          "x": 0,
          "xref": "x",
          "y": 13,
          "yref": "y"
         },
         {
          "font": {
           "color": "#000000",
           "size": 7
          },
          "showarrow": false,
          "text": "0.54",
          "x": 1,
          "xref": "x",
          "y": 13,
          "yref": "y"
         },
         {
          "font": {
           "color": "#000000",
           "size": 7
          },
          "showarrow": false,
          "text": "0.53",
          "x": 2,
          "xref": "x",
          "y": 13,
          "yref": "y"
         },
         {
          "font": {
           "color": "#FFFFFF",
           "size": 7
          },
          "showarrow": false,
          "text": "0.48",
          "x": 3,
          "xref": "x",
          "y": 13,
          "yref": "y"
         },
         {
          "font": {
           "color": "#FFFFFF",
           "size": 7
          },
          "showarrow": false,
          "text": "0.47",
          "x": 4,
          "xref": "x",
          "y": 13,
          "yref": "y"
         },
         {
          "font": {
           "color": "#FFFFFF",
           "size": 7
          },
          "showarrow": false,
          "text": "0.46",
          "x": 5,
          "xref": "x",
          "y": 13,
          "yref": "y"
         },
         {
          "font": {
           "color": "#FFFFFF",
           "size": 7
          },
          "showarrow": false,
          "text": "0.45",
          "x": 6,
          "xref": "x",
          "y": 13,
          "yref": "y"
         },
         {
          "font": {
           "color": "#FFFFFF",
           "size": 7
          },
          "showarrow": false,
          "text": "0.43",
          "x": 7,
          "xref": "x",
          "y": 13,
          "yref": "y"
         },
         {
          "font": {
           "color": "#FFFFFF",
           "size": 7
          },
          "showarrow": false,
          "text": "0.43",
          "x": 8,
          "xref": "x",
          "y": 13,
          "yref": "y"
         },
         {
          "font": {
           "color": "#FFFFFF",
           "size": 7
          },
          "showarrow": false,
          "text": "0.43",
          "x": 9,
          "xref": "x",
          "y": 13,
          "yref": "y"
         },
         {
          "font": {
           "color": "#FFFFFF",
           "size": 7
          },
          "showarrow": false,
          "text": "0.43",
          "x": 10,
          "xref": "x",
          "y": 13,
          "yref": "y"
         },
         {
          "font": {
           "color": "#FFFFFF",
           "size": 7
          },
          "showarrow": false,
          "text": "0.44",
          "x": 11,
          "xref": "x",
          "y": 13,
          "yref": "y"
         },
         {
          "font": {
           "color": "#FFFFFF",
           "size": 7
          },
          "showarrow": false,
          "text": "0.43",
          "x": 12,
          "xref": "x",
          "y": 13,
          "yref": "y"
         },
         {
          "font": {
           "color": "#FFFFFF",
           "size": 7
          },
          "showarrow": false,
          "text": "0.41",
          "x": 13,
          "xref": "x",
          "y": 13,
          "yref": "y"
         },
         {
          "font": {
           "color": "#FFFFFF",
           "size": 7
          },
          "showarrow": false,
          "text": "0.4",
          "x": 14,
          "xref": "x",
          "y": 13,
          "yref": "y"
         },
         {
          "font": {
           "color": "#FFFFFF",
           "size": 7
          },
          "showarrow": false,
          "text": "0.41",
          "x": 15,
          "xref": "x",
          "y": 13,
          "yref": "y"
         },
         {
          "font": {
           "color": "#FFFFFF",
           "size": 7
          },
          "showarrow": false,
          "text": "0.41",
          "x": 16,
          "xref": "x",
          "y": 13,
          "yref": "y"
         },
         {
          "font": {
           "color": "#FFFFFF",
           "size": 7
          },
          "showarrow": false,
          "text": "0.41",
          "x": 17,
          "xref": "x",
          "y": 13,
          "yref": "y"
         },
         {
          "font": {
           "color": "#FFFFFF",
           "size": 7
          },
          "showarrow": false,
          "text": "0.41",
          "x": 18,
          "xref": "x",
          "y": 13,
          "yref": "y"
         },
         {
          "font": {
           "color": "#000000",
           "size": 7
          },
          "showarrow": false,
          "text": "0.62",
          "x": 0,
          "xref": "x",
          "y": 14,
          "yref": "y"
         },
         {
          "font": {
           "color": "#000000",
           "size": 7
          },
          "showarrow": false,
          "text": "0.61",
          "x": 1,
          "xref": "x",
          "y": 14,
          "yref": "y"
         },
         {
          "font": {
           "color": "#000000",
           "size": 7
          },
          "showarrow": false,
          "text": "0.61",
          "x": 2,
          "xref": "x",
          "y": 14,
          "yref": "y"
         },
         {
          "font": {
           "color": "#000000",
           "size": 7
          },
          "showarrow": false,
          "text": "0.59",
          "x": 3,
          "xref": "x",
          "y": 14,
          "yref": "y"
         },
         {
          "font": {
           "color": "#000000",
           "size": 7
          },
          "showarrow": false,
          "text": "0.54",
          "x": 4,
          "xref": "x",
          "y": 14,
          "yref": "y"
         },
         {
          "font": {
           "color": "#FFFFFF",
           "size": 7
          },
          "showarrow": false,
          "text": "0.51",
          "x": 5,
          "xref": "x",
          "y": 14,
          "yref": "y"
         },
         {
          "font": {
           "color": "#FFFFFF",
           "size": 7
          },
          "showarrow": false,
          "text": "0.49",
          "x": 6,
          "xref": "x",
          "y": 14,
          "yref": "y"
         },
         {
          "font": {
           "color": "#FFFFFF",
           "size": 7
          },
          "showarrow": false,
          "text": "0.47",
          "x": 7,
          "xref": "x",
          "y": 14,
          "yref": "y"
         },
         {
          "font": {
           "color": "#FFFFFF",
           "size": 7
          },
          "showarrow": false,
          "text": "0.44",
          "x": 8,
          "xref": "x",
          "y": 14,
          "yref": "y"
         },
         {
          "font": {
           "color": "#FFFFFF",
           "size": 7
          },
          "showarrow": false,
          "text": "0.44",
          "x": 9,
          "xref": "x",
          "y": 14,
          "yref": "y"
         },
         {
          "font": {
           "color": "#FFFFFF",
           "size": 7
          },
          "showarrow": false,
          "text": "0.45",
          "x": 10,
          "xref": "x",
          "y": 14,
          "yref": "y"
         },
         {
          "font": {
           "color": "#FFFFFF",
           "size": 7
          },
          "showarrow": false,
          "text": "0.46",
          "x": 11,
          "xref": "x",
          "y": 14,
          "yref": "y"
         },
         {
          "font": {
           "color": "#FFFFFF",
           "size": 7
          },
          "showarrow": false,
          "text": "0.45",
          "x": 12,
          "xref": "x",
          "y": 14,
          "yref": "y"
         },
         {
          "font": {
           "color": "#FFFFFF",
           "size": 7
          },
          "showarrow": false,
          "text": "0.42",
          "x": 13,
          "xref": "x",
          "y": 14,
          "yref": "y"
         },
         {
          "font": {
           "color": "#FFFFFF",
           "size": 7
          },
          "showarrow": false,
          "text": "0.41",
          "x": 14,
          "xref": "x",
          "y": 14,
          "yref": "y"
         },
         {
          "font": {
           "color": "#FFFFFF",
           "size": 7
          },
          "showarrow": false,
          "text": "0.4",
          "x": 15,
          "xref": "x",
          "y": 14,
          "yref": "y"
         },
         {
          "font": {
           "color": "#FFFFFF",
           "size": 7
          },
          "showarrow": false,
          "text": "0.41",
          "x": 16,
          "xref": "x",
          "y": 14,
          "yref": "y"
         },
         {
          "font": {
           "color": "#FFFFFF",
           "size": 7
          },
          "showarrow": false,
          "text": "0.41",
          "x": 17,
          "xref": "x",
          "y": 14,
          "yref": "y"
         },
         {
          "font": {
           "color": "#FFFFFF",
           "size": 7
          },
          "showarrow": false,
          "text": "0.41",
          "x": 18,
          "xref": "x",
          "y": 14,
          "yref": "y"
         },
         {
          "font": {
           "color": "#000000",
           "size": 7
          },
          "showarrow": false,
          "text": "0.69",
          "x": 0,
          "xref": "x",
          "y": 15,
          "yref": "y"
         },
         {
          "font": {
           "color": "#000000",
           "size": 7
          },
          "showarrow": false,
          "text": "0.66",
          "x": 1,
          "xref": "x",
          "y": 15,
          "yref": "y"
         },
         {
          "font": {
           "color": "#000000",
           "size": 7
          },
          "showarrow": false,
          "text": "0.65",
          "x": 2,
          "xref": "x",
          "y": 15,
          "yref": "y"
         },
         {
          "font": {
           "color": "#000000",
           "size": 7
          },
          "showarrow": false,
          "text": "0.62",
          "x": 3,
          "xref": "x",
          "y": 15,
          "yref": "y"
         },
         {
          "font": {
           "color": "#000000",
           "size": 7
          },
          "showarrow": false,
          "text": "0.59",
          "x": 4,
          "xref": "x",
          "y": 15,
          "yref": "y"
         },
         {
          "font": {
           "color": "#000000",
           "size": 7
          },
          "showarrow": false,
          "text": "0.55",
          "x": 5,
          "xref": "x",
          "y": 15,
          "yref": "y"
         },
         {
          "font": {
           "color": "#FFFFFF",
           "size": 7
          },
          "showarrow": false,
          "text": "0.52",
          "x": 6,
          "xref": "x",
          "y": 15,
          "yref": "y"
         },
         {
          "font": {
           "color": "#FFFFFF",
           "size": 7
          },
          "showarrow": false,
          "text": "0.48",
          "x": 7,
          "xref": "x",
          "y": 15,
          "yref": "y"
         },
         {
          "font": {
           "color": "#FFFFFF",
           "size": 7
          },
          "showarrow": false,
          "text": "0.47",
          "x": 8,
          "xref": "x",
          "y": 15,
          "yref": "y"
         },
         {
          "font": {
           "color": "#FFFFFF",
           "size": 7
          },
          "showarrow": false,
          "text": "0.46",
          "x": 9,
          "xref": "x",
          "y": 15,
          "yref": "y"
         },
         {
          "font": {
           "color": "#FFFFFF",
           "size": 7
          },
          "showarrow": false,
          "text": "0.46",
          "x": 10,
          "xref": "x",
          "y": 15,
          "yref": "y"
         },
         {
          "font": {
           "color": "#FFFFFF",
           "size": 7
          },
          "showarrow": false,
          "text": "0.46",
          "x": 11,
          "xref": "x",
          "y": 15,
          "yref": "y"
         },
         {
          "font": {
           "color": "#FFFFFF",
           "size": 7
          },
          "showarrow": false,
          "text": "0.46",
          "x": 12,
          "xref": "x",
          "y": 15,
          "yref": "y"
         },
         {
          "font": {
           "color": "#FFFFFF",
           "size": 7
          },
          "showarrow": false,
          "text": "0.43",
          "x": 13,
          "xref": "x",
          "y": 15,
          "yref": "y"
         },
         {
          "font": {
           "color": "#FFFFFF",
           "size": 7
          },
          "showarrow": false,
          "text": "0.42",
          "x": 14,
          "xref": "x",
          "y": 15,
          "yref": "y"
         },
         {
          "font": {
           "color": "#FFFFFF",
           "size": 7
          },
          "showarrow": false,
          "text": "0.41",
          "x": 15,
          "xref": "x",
          "y": 15,
          "yref": "y"
         },
         {
          "font": {
           "color": "#FFFFFF",
           "size": 7
          },
          "showarrow": false,
          "text": "0.41",
          "x": 16,
          "xref": "x",
          "y": 15,
          "yref": "y"
         },
         {
          "font": {
           "color": "#FFFFFF",
           "size": 7
          },
          "showarrow": false,
          "text": "0.42",
          "x": 17,
          "xref": "x",
          "y": 15,
          "yref": "y"
         },
         {
          "font": {
           "color": "#FFFFFF",
           "size": 7
          },
          "showarrow": false,
          "text": "0.42",
          "x": 18,
          "xref": "x",
          "y": 15,
          "yref": "y"
         },
         {
          "font": {
           "color": "#000000",
           "size": 7
          },
          "showarrow": false,
          "text": "0.7",
          "x": 0,
          "xref": "x",
          "y": 16,
          "yref": "y"
         },
         {
          "font": {
           "color": "#000000",
           "size": 7
          },
          "showarrow": false,
          "text": "0.69",
          "x": 1,
          "xref": "x",
          "y": 16,
          "yref": "y"
         },
         {
          "font": {
           "color": "#000000",
           "size": 7
          },
          "showarrow": false,
          "text": "0.68",
          "x": 2,
          "xref": "x",
          "y": 16,
          "yref": "y"
         },
         {
          "font": {
           "color": "#000000",
           "size": 7
          },
          "showarrow": false,
          "text": "0.65",
          "x": 3,
          "xref": "x",
          "y": 16,
          "yref": "y"
         },
         {
          "font": {
           "color": "#000000",
           "size": 7
          },
          "showarrow": false,
          "text": "0.62",
          "x": 4,
          "xref": "x",
          "y": 16,
          "yref": "y"
         },
         {
          "font": {
           "color": "#000000",
           "size": 7
          },
          "showarrow": false,
          "text": "0.58",
          "x": 5,
          "xref": "x",
          "y": 16,
          "yref": "y"
         },
         {
          "font": {
           "color": "#000000",
           "size": 7
          },
          "showarrow": false,
          "text": "0.54",
          "x": 6,
          "xref": "x",
          "y": 16,
          "yref": "y"
         },
         {
          "font": {
           "color": "#FFFFFF",
           "size": 7
          },
          "showarrow": false,
          "text": "0.5",
          "x": 7,
          "xref": "x",
          "y": 16,
          "yref": "y"
         },
         {
          "font": {
           "color": "#FFFFFF",
           "size": 7
          },
          "showarrow": false,
          "text": "0.48",
          "x": 8,
          "xref": "x",
          "y": 16,
          "yref": "y"
         },
         {
          "font": {
           "color": "#FFFFFF",
           "size": 7
          },
          "showarrow": false,
          "text": "0.47",
          "x": 9,
          "xref": "x",
          "y": 16,
          "yref": "y"
         },
         {
          "font": {
           "color": "#FFFFFF",
           "size": 7
          },
          "showarrow": false,
          "text": "0.47",
          "x": 10,
          "xref": "x",
          "y": 16,
          "yref": "y"
         },
         {
          "font": {
           "color": "#FFFFFF",
           "size": 7
          },
          "showarrow": false,
          "text": "0.47",
          "x": 11,
          "xref": "x",
          "y": 16,
          "yref": "y"
         },
         {
          "font": {
           "color": "#FFFFFF",
           "size": 7
          },
          "showarrow": false,
          "text": "0.44",
          "x": 12,
          "xref": "x",
          "y": 16,
          "yref": "y"
         },
         {
          "font": {
           "color": "#FFFFFF",
           "size": 7
          },
          "showarrow": false,
          "text": "0.44",
          "x": 13,
          "xref": "x",
          "y": 16,
          "yref": "y"
         },
         {
          "font": {
           "color": "#FFFFFF",
           "size": 7
          },
          "showarrow": false,
          "text": "0.42",
          "x": 14,
          "xref": "x",
          "y": 16,
          "yref": "y"
         },
         {
          "font": {
           "color": "#FFFFFF",
           "size": 7
          },
          "showarrow": false,
          "text": "0.42",
          "x": 15,
          "xref": "x",
          "y": 16,
          "yref": "y"
         },
         {
          "font": {
           "color": "#FFFFFF",
           "size": 7
          },
          "showarrow": false,
          "text": "0.43",
          "x": 16,
          "xref": "x",
          "y": 16,
          "yref": "y"
         },
         {
          "font": {
           "color": "#FFFFFF",
           "size": 7
          },
          "showarrow": false,
          "text": "0.43",
          "x": 17,
          "xref": "x",
          "y": 16,
          "yref": "y"
         },
         {
          "font": {
           "color": "#FFFFFF",
           "size": 7
          },
          "showarrow": false,
          "text": "0.43",
          "x": 18,
          "xref": "x",
          "y": 16,
          "yref": "y"
         },
         {
          "font": {
           "color": "#000000",
           "size": 7
          },
          "showarrow": false,
          "text": "0.72",
          "x": 0,
          "xref": "x",
          "y": 17,
          "yref": "y"
         },
         {
          "font": {
           "color": "#000000",
           "size": 7
          },
          "showarrow": false,
          "text": "0.71",
          "x": 1,
          "xref": "x",
          "y": 17,
          "yref": "y"
         },
         {
          "font": {
           "color": "#000000",
           "size": 7
          },
          "showarrow": false,
          "text": "0.69",
          "x": 2,
          "xref": "x",
          "y": 17,
          "yref": "y"
         },
         {
          "font": {
           "color": "#000000",
           "size": 7
          },
          "showarrow": false,
          "text": "0.67",
          "x": 3,
          "xref": "x",
          "y": 17,
          "yref": "y"
         },
         {
          "font": {
           "color": "#000000",
           "size": 7
          },
          "showarrow": false,
          "text": "0.64",
          "x": 4,
          "xref": "x",
          "y": 17,
          "yref": "y"
         },
         {
          "font": {
           "color": "#000000",
           "size": 7
          },
          "showarrow": false,
          "text": "0.6",
          "x": 5,
          "xref": "x",
          "y": 17,
          "yref": "y"
         },
         {
          "font": {
           "color": "#000000",
           "size": 7
          },
          "showarrow": false,
          "text": "0.57",
          "x": 6,
          "xref": "x",
          "y": 17,
          "yref": "y"
         },
         {
          "font": {
           "color": "#FFFFFF",
           "size": 7
          },
          "showarrow": false,
          "text": "0.52",
          "x": 7,
          "xref": "x",
          "y": 17,
          "yref": "y"
         },
         {
          "font": {
           "color": "#FFFFFF",
           "size": 7
          },
          "showarrow": false,
          "text": "0.49",
          "x": 8,
          "xref": "x",
          "y": 17,
          "yref": "y"
         },
         {
          "font": {
           "color": "#FFFFFF",
           "size": 7
          },
          "showarrow": false,
          "text": "0.47",
          "x": 9,
          "xref": "x",
          "y": 17,
          "yref": "y"
         },
         {
          "font": {
           "color": "#FFFFFF",
           "size": 7
          },
          "showarrow": false,
          "text": "0.47",
          "x": 10,
          "xref": "x",
          "y": 17,
          "yref": "y"
         },
         {
          "font": {
           "color": "#FFFFFF",
           "size": 7
          },
          "showarrow": false,
          "text": "0.46",
          "x": 11,
          "xref": "x",
          "y": 17,
          "yref": "y"
         },
         {
          "font": {
           "color": "#FFFFFF",
           "size": 7
          },
          "showarrow": false,
          "text": "0.45",
          "x": 12,
          "xref": "x",
          "y": 17,
          "yref": "y"
         },
         {
          "font": {
           "color": "#FFFFFF",
           "size": 7
          },
          "showarrow": false,
          "text": "0.43",
          "x": 13,
          "xref": "x",
          "y": 17,
          "yref": "y"
         },
         {
          "font": {
           "color": "#FFFFFF",
           "size": 7
          },
          "showarrow": false,
          "text": "0.43",
          "x": 14,
          "xref": "x",
          "y": 17,
          "yref": "y"
         },
         {
          "font": {
           "color": "#FFFFFF",
           "size": 7
          },
          "showarrow": false,
          "text": "0.43",
          "x": 15,
          "xref": "x",
          "y": 17,
          "yref": "y"
         },
         {
          "font": {
           "color": "#FFFFFF",
           "size": 7
          },
          "showarrow": false,
          "text": "0.43",
          "x": 16,
          "xref": "x",
          "y": 17,
          "yref": "y"
         },
         {
          "font": {
           "color": "#FFFFFF",
           "size": 7
          },
          "showarrow": false,
          "text": "0.43",
          "x": 17,
          "xref": "x",
          "y": 17,
          "yref": "y"
         },
         {
          "font": {
           "color": "#FFFFFF",
           "size": 7
          },
          "showarrow": false,
          "text": "0.43",
          "x": 18,
          "xref": "x",
          "y": 17,
          "yref": "y"
         },
         {
          "font": {
           "color": "#000000",
           "size": 7
          },
          "showarrow": false,
          "text": "0.73",
          "x": 0,
          "xref": "x",
          "y": 18,
          "yref": "y"
         },
         {
          "font": {
           "color": "#000000",
           "size": 7
          },
          "showarrow": false,
          "text": "0.71",
          "x": 1,
          "xref": "x",
          "y": 18,
          "yref": "y"
         },
         {
          "font": {
           "color": "#000000",
           "size": 7
          },
          "showarrow": false,
          "text": "0.69",
          "x": 2,
          "xref": "x",
          "y": 18,
          "yref": "y"
         },
         {
          "font": {
           "color": "#000000",
           "size": 7
          },
          "showarrow": false,
          "text": "0.67",
          "x": 3,
          "xref": "x",
          "y": 18,
          "yref": "y"
         },
         {
          "font": {
           "color": "#000000",
           "size": 7
          },
          "showarrow": false,
          "text": "0.64",
          "x": 4,
          "xref": "x",
          "y": 18,
          "yref": "y"
         },
         {
          "font": {
           "color": "#000000",
           "size": 7
          },
          "showarrow": false,
          "text": "0.61",
          "x": 5,
          "xref": "x",
          "y": 18,
          "yref": "y"
         },
         {
          "font": {
           "color": "#000000",
           "size": 7
          },
          "showarrow": false,
          "text": "0.58",
          "x": 6,
          "xref": "x",
          "y": 18,
          "yref": "y"
         },
         {
          "font": {
           "color": "#000000",
           "size": 7
          },
          "showarrow": false,
          "text": "0.53",
          "x": 7,
          "xref": "x",
          "y": 18,
          "yref": "y"
         },
         {
          "font": {
           "color": "#FFFFFF",
           "size": 7
          },
          "showarrow": false,
          "text": "0.49",
          "x": 8,
          "xref": "x",
          "y": 18,
          "yref": "y"
         },
         {
          "font": {
           "color": "#FFFFFF",
           "size": 7
          },
          "showarrow": false,
          "text": "0.47",
          "x": 9,
          "xref": "x",
          "y": 18,
          "yref": "y"
         },
         {
          "font": {
           "color": "#FFFFFF",
           "size": 7
          },
          "showarrow": false,
          "text": "0.47",
          "x": 10,
          "xref": "x",
          "y": 18,
          "yref": "y"
         },
         {
          "font": {
           "color": "#FFFFFF",
           "size": 7
          },
          "showarrow": false,
          "text": "0.46",
          "x": 11,
          "xref": "x",
          "y": 18,
          "yref": "y"
         },
         {
          "font": {
           "color": "#FFFFFF",
           "size": 7
          },
          "showarrow": false,
          "text": "0.44",
          "x": 12,
          "xref": "x",
          "y": 18,
          "yref": "y"
         },
         {
          "font": {
           "color": "#FFFFFF",
           "size": 7
          },
          "showarrow": false,
          "text": "0.43",
          "x": 13,
          "xref": "x",
          "y": 18,
          "yref": "y"
         },
         {
          "font": {
           "color": "#FFFFFF",
           "size": 7
          },
          "showarrow": false,
          "text": "0.43",
          "x": 14,
          "xref": "x",
          "y": 18,
          "yref": "y"
         },
         {
          "font": {
           "color": "#FFFFFF",
           "size": 7
          },
          "showarrow": false,
          "text": "0.43",
          "x": 15,
          "xref": "x",
          "y": 18,
          "yref": "y"
         },
         {
          "font": {
           "color": "#FFFFFF",
           "size": 7
          },
          "showarrow": false,
          "text": "0.44",
          "x": 16,
          "xref": "x",
          "y": 18,
          "yref": "y"
         },
         {
          "font": {
           "color": "#FFFFFF",
           "size": 7
          },
          "showarrow": false,
          "text": "0.44",
          "x": 17,
          "xref": "x",
          "y": 18,
          "yref": "y"
         },
         {
          "font": {
           "color": "#FFFFFF",
           "size": 7
          },
          "showarrow": false,
          "text": "0.44",
          "x": 18,
          "xref": "x",
          "y": 18,
          "yref": "y"
         }
        ],
        "template": {
         "data": {
          "bar": [
           {
            "error_x": {
             "color": "#2a3f5f"
            },
            "error_y": {
             "color": "#2a3f5f"
            },
            "marker": {
             "line": {
              "color": "#E5ECF6",
              "width": 0.5
             },
             "pattern": {
              "fillmode": "overlay",
              "size": 10,
              "solidity": 0.2
             }
            },
            "type": "bar"
           }
          ],
          "barpolar": [
           {
            "marker": {
             "line": {
              "color": "#E5ECF6",
              "width": 0.5
             },
             "pattern": {
              "fillmode": "overlay",
              "size": 10,
              "solidity": 0.2
             }
            },
            "type": "barpolar"
           }
          ],
          "carpet": [
           {
            "aaxis": {
             "endlinecolor": "#2a3f5f",
             "gridcolor": "white",
             "linecolor": "white",
             "minorgridcolor": "white",
             "startlinecolor": "#2a3f5f"
            },
            "baxis": {
             "endlinecolor": "#2a3f5f",
             "gridcolor": "white",
             "linecolor": "white",
             "minorgridcolor": "white",
             "startlinecolor": "#2a3f5f"
            },
            "type": "carpet"
           }
          ],
          "choropleth": [
           {
            "colorbar": {
             "outlinewidth": 0,
             "ticks": ""
            },
            "type": "choropleth"
           }
          ],
          "contour": [
           {
            "colorbar": {
             "outlinewidth": 0,
             "ticks": ""
            },
            "colorscale": [
             [
              0,
              "#0d0887"
             ],
             [
              0.1111111111111111,
              "#46039f"
             ],
             [
              0.2222222222222222,
              "#7201a8"
             ],
             [
              0.3333333333333333,
              "#9c179e"
             ],
             [
              0.4444444444444444,
              "#bd3786"
             ],
             [
              0.5555555555555556,
              "#d8576b"
             ],
             [
              0.6666666666666666,
              "#ed7953"
             ],
             [
              0.7777777777777778,
              "#fb9f3a"
             ],
             [
              0.8888888888888888,
              "#fdca26"
             ],
             [
              1,
              "#f0f921"
             ]
            ],
            "type": "contour"
           }
          ],
          "contourcarpet": [
           {
            "colorbar": {
             "outlinewidth": 0,
             "ticks": ""
            },
            "type": "contourcarpet"
           }
          ],
          "heatmap": [
           {
            "colorbar": {
             "outlinewidth": 0,
             "ticks": ""
            },
            "colorscale": [
             [
              0,
              "#0d0887"
             ],
             [
              0.1111111111111111,
              "#46039f"
             ],
             [
              0.2222222222222222,
              "#7201a8"
             ],
             [
              0.3333333333333333,
              "#9c179e"
             ],
             [
              0.4444444444444444,
              "#bd3786"
             ],
             [
              0.5555555555555556,
              "#d8576b"
             ],
             [
              0.6666666666666666,
              "#ed7953"
             ],
             [
              0.7777777777777778,
              "#fb9f3a"
             ],
             [
              0.8888888888888888,
              "#fdca26"
             ],
             [
              1,
              "#f0f921"
             ]
            ],
            "type": "heatmap"
           }
          ],
          "heatmapgl": [
           {
            "colorbar": {
             "outlinewidth": 0,
             "ticks": ""
            },
            "colorscale": [
             [
              0,
              "#0d0887"
             ],
             [
              0.1111111111111111,
              "#46039f"
             ],
             [
              0.2222222222222222,
              "#7201a8"
             ],
             [
              0.3333333333333333,
              "#9c179e"
             ],
             [
              0.4444444444444444,
              "#bd3786"
             ],
             [
              0.5555555555555556,
              "#d8576b"
             ],
             [
              0.6666666666666666,
              "#ed7953"
             ],
             [
              0.7777777777777778,
              "#fb9f3a"
             ],
             [
              0.8888888888888888,
              "#fdca26"
             ],
             [
              1,
              "#f0f921"
             ]
            ],
            "type": "heatmapgl"
           }
          ],
          "histogram": [
           {
            "marker": {
             "pattern": {
              "fillmode": "overlay",
              "size": 10,
              "solidity": 0.2
             }
            },
            "type": "histogram"
           }
          ],
          "histogram2d": [
           {
            "colorbar": {
             "outlinewidth": 0,
             "ticks": ""
            },
            "colorscale": [
             [
              0,
              "#0d0887"
             ],
             [
              0.1111111111111111,
              "#46039f"
             ],
             [
              0.2222222222222222,
              "#7201a8"
             ],
             [
              0.3333333333333333,
              "#9c179e"
             ],
             [
              0.4444444444444444,
              "#bd3786"
             ],
             [
              0.5555555555555556,
              "#d8576b"
             ],
             [
              0.6666666666666666,
              "#ed7953"
             ],
             [
              0.7777777777777778,
              "#fb9f3a"
             ],
             [
              0.8888888888888888,
              "#fdca26"
             ],
             [
              1,
              "#f0f921"
             ]
            ],
            "type": "histogram2d"
           }
          ],
          "histogram2dcontour": [
           {
            "colorbar": {
             "outlinewidth": 0,
             "ticks": ""
            },
            "colorscale": [
             [
              0,
              "#0d0887"
             ],
             [
              0.1111111111111111,
              "#46039f"
             ],
             [
              0.2222222222222222,
              "#7201a8"
             ],
             [
              0.3333333333333333,
              "#9c179e"
             ],
             [
              0.4444444444444444,
              "#bd3786"
             ],
             [
              0.5555555555555556,
              "#d8576b"
             ],
             [
              0.6666666666666666,
              "#ed7953"
             ],
             [
              0.7777777777777778,
              "#fb9f3a"
             ],
             [
              0.8888888888888888,
              "#fdca26"
             ],
             [
              1,
              "#f0f921"
             ]
            ],
            "type": "histogram2dcontour"
           }
          ],
          "mesh3d": [
           {
            "colorbar": {
             "outlinewidth": 0,
             "ticks": ""
            },
            "type": "mesh3d"
           }
          ],
          "parcoords": [
           {
            "line": {
             "colorbar": {
              "outlinewidth": 0,
              "ticks": ""
             }
            },
            "type": "parcoords"
           }
          ],
          "pie": [
           {
            "automargin": true,
            "type": "pie"
           }
          ],
          "scatter": [
           {
            "marker": {
             "colorbar": {
              "outlinewidth": 0,
              "ticks": ""
             }
            },
            "type": "scatter"
           }
          ],
          "scatter3d": [
           {
            "line": {
             "colorbar": {
              "outlinewidth": 0,
              "ticks": ""
             }
            },
            "marker": {
             "colorbar": {
              "outlinewidth": 0,
              "ticks": ""
             }
            },
            "type": "scatter3d"
           }
          ],
          "scattercarpet": [
           {
            "marker": {
             "colorbar": {
              "outlinewidth": 0,
              "ticks": ""
             }
            },
            "type": "scattercarpet"
           }
          ],
          "scattergeo": [
           {
            "marker": {
             "colorbar": {
              "outlinewidth": 0,
              "ticks": ""
             }
            },
            "type": "scattergeo"
           }
          ],
          "scattergl": [
           {
            "marker": {
             "colorbar": {
              "outlinewidth": 0,
              "ticks": ""
             }
            },
            "type": "scattergl"
           }
          ],
          "scattermapbox": [
           {
            "marker": {
             "colorbar": {
              "outlinewidth": 0,
              "ticks": ""
             }
            },
            "type": "scattermapbox"
           }
          ],
          "scatterpolar": [
           {
            "marker": {
             "colorbar": {
              "outlinewidth": 0,
              "ticks": ""
             }
            },
            "type": "scatterpolar"
           }
          ],
          "scatterpolargl": [
           {
            "marker": {
             "colorbar": {
              "outlinewidth": 0,
              "ticks": ""
             }
            },
            "type": "scatterpolargl"
           }
          ],
          "scatterternary": [
           {
            "marker": {
             "colorbar": {
              "outlinewidth": 0,
              "ticks": ""
             }
            },
            "type": "scatterternary"
           }
          ],
          "surface": [
           {
            "colorbar": {
             "outlinewidth": 0,
             "ticks": ""
            },
            "colorscale": [
             [
              0,
              "#0d0887"
             ],
             [
              0.1111111111111111,
              "#46039f"
             ],
             [
              0.2222222222222222,
              "#7201a8"
             ],
             [
              0.3333333333333333,
              "#9c179e"
             ],
             [
              0.4444444444444444,
              "#bd3786"
             ],
             [
              0.5555555555555556,
              "#d8576b"
             ],
             [
              0.6666666666666666,
              "#ed7953"
             ],
             [
              0.7777777777777778,
              "#fb9f3a"
             ],
             [
              0.8888888888888888,
              "#fdca26"
             ],
             [
              1,
              "#f0f921"
             ]
            ],
            "type": "surface"
           }
          ],
          "table": [
           {
            "cells": {
             "fill": {
              "color": "#EBF0F8"
             },
             "line": {
              "color": "white"
             }
            },
            "header": {
             "fill": {
              "color": "#C8D4E3"
             },
             "line": {
              "color": "white"
             }
            },
            "type": "table"
           }
          ]
         },
         "layout": {
          "annotationdefaults": {
           "arrowcolor": "#2a3f5f",
           "arrowhead": 0,
           "arrowwidth": 1
          },
          "autotypenumbers": "strict",
          "coloraxis": {
           "colorbar": {
            "outlinewidth": 0,
            "ticks": ""
           }
          },
          "colorscale": {
           "diverging": [
            [
             0,
             "#8e0152"
            ],
            [
             0.1,
             "#c51b7d"
            ],
            [
             0.2,
             "#de77ae"
            ],
            [
             0.3,
             "#f1b6da"
            ],
            [
             0.4,
             "#fde0ef"
            ],
            [
             0.5,
             "#f7f7f7"
            ],
            [
             0.6,
             "#e6f5d0"
            ],
            [
             0.7,
             "#b8e186"
            ],
            [
             0.8,
             "#7fbc41"
            ],
            [
             0.9,
             "#4d9221"
            ],
            [
             1,
             "#276419"
            ]
           ],
           "sequential": [
            [
             0,
             "#0d0887"
            ],
            [
             0.1111111111111111,
             "#46039f"
            ],
            [
             0.2222222222222222,
             "#7201a8"
            ],
            [
             0.3333333333333333,
             "#9c179e"
            ],
            [
             0.4444444444444444,
             "#bd3786"
            ],
            [
             0.5555555555555556,
             "#d8576b"
            ],
            [
             0.6666666666666666,
             "#ed7953"
            ],
            [
             0.7777777777777778,
             "#fb9f3a"
            ],
            [
             0.8888888888888888,
             "#fdca26"
            ],
            [
             1,
             "#f0f921"
            ]
           ],
           "sequentialminus": [
            [
             0,
             "#0d0887"
            ],
            [
             0.1111111111111111,
             "#46039f"
            ],
            [
             0.2222222222222222,
             "#7201a8"
            ],
            [
             0.3333333333333333,
             "#9c179e"
            ],
            [
             0.4444444444444444,
             "#bd3786"
            ],
            [
             0.5555555555555556,
             "#d8576b"
            ],
            [
             0.6666666666666666,
             "#ed7953"
            ],
            [
             0.7777777777777778,
             "#fb9f3a"
            ],
            [
             0.8888888888888888,
             "#fdca26"
            ],
            [
             1,
             "#f0f921"
            ]
           ]
          },
          "colorway": [
           "#636efa",
           "#EF553B",
           "#00cc96",
           "#ab63fa",
           "#FFA15A",
           "#19d3f3",
           "#FF6692",
           "#B6E880",
           "#FF97FF",
           "#FECB52"
          ],
          "font": {
           "color": "#2a3f5f"
          },
          "geo": {
           "bgcolor": "white",
           "lakecolor": "white",
           "landcolor": "#E5ECF6",
           "showlakes": true,
           "showland": true,
           "subunitcolor": "white"
          },
          "hoverlabel": {
           "align": "left"
          },
          "hovermode": "closest",
          "mapbox": {
           "style": "light"
          },
          "paper_bgcolor": "white",
          "plot_bgcolor": "#E5ECF6",
          "polar": {
           "angularaxis": {
            "gridcolor": "white",
            "linecolor": "white",
            "ticks": ""
           },
           "bgcolor": "#E5ECF6",
           "radialaxis": {
            "gridcolor": "white",
            "linecolor": "white",
            "ticks": ""
           }
          },
          "scene": {
           "xaxis": {
            "backgroundcolor": "#E5ECF6",
            "gridcolor": "white",
            "gridwidth": 2,
            "linecolor": "white",
            "showbackground": true,
            "ticks": "",
            "zerolinecolor": "white"
           },
           "yaxis": {
            "backgroundcolor": "#E5ECF6",
            "gridcolor": "white",
            "gridwidth": 2,
            "linecolor": "white",
            "showbackground": true,
            "ticks": "",
            "zerolinecolor": "white"
           },
           "zaxis": {
            "backgroundcolor": "#E5ECF6",
            "gridcolor": "white",
            "gridwidth": 2,
            "linecolor": "white",
            "showbackground": true,
            "ticks": "",
            "zerolinecolor": "white"
           }
          },
          "shapedefaults": {
           "line": {
            "color": "#2a3f5f"
           }
          },
          "ternary": {
           "aaxis": {
            "gridcolor": "white",
            "linecolor": "white",
            "ticks": ""
           },
           "baxis": {
            "gridcolor": "white",
            "linecolor": "white",
            "ticks": ""
           },
           "bgcolor": "#E5ECF6",
           "caxis": {
            "gridcolor": "white",
            "linecolor": "white",
            "ticks": ""
           }
          },
          "title": {
           "x": 0.05
          },
          "xaxis": {
           "automargin": true,
           "gridcolor": "white",
           "linecolor": "white",
           "ticks": "",
           "title": {
            "standoff": 15
           },
           "zerolinecolor": "white",
           "zerolinewidth": 2
          },
          "yaxis": {
           "automargin": true,
           "gridcolor": "white",
           "linecolor": "white",
           "ticks": "",
           "title": {
            "standoff": 15
           },
           "zerolinecolor": "white",
           "zerolinewidth": 2
          }
         }
        },
        "title": {
         "text": "Not Spiled"
        },
        "xaxis": {
         "gridcolor": "rgb(0, 0, 0)",
         "showticklabels": false,
         "side": "top",
         "ticks": ""
        },
        "yaxis": {
         "showticklabels": false,
         "ticks": "",
         "ticksuffix": "  "
        }
       }
      },
      "text/html": [
       "<div>                            <div id=\"2ae92cec-c2fc-4e4e-8d02-f0fefd856b50\" class=\"plotly-graph-div\" style=\"height:525px; width:100%;\"></div>            <script type=\"text/javascript\">                require([\"plotly\"], function(Plotly) {                    window.PLOTLYENV=window.PLOTLYENV || {};                                    if (document.getElementById(\"2ae92cec-c2fc-4e4e-8d02-f0fefd856b50\")) {                    Plotly.newPlot(                        \"2ae92cec-c2fc-4e4e-8d02-f0fefd856b50\",                        [{\"colorscale\":[[0.0,\"#0d0887\"],[0.1111111111111111,\"#46039f\"],[0.2222222222222222,\"#7201a8\"],[0.3333333333333333,\"#9c179e\"],[0.4444444444444444,\"#bd3786\"],[0.5555555555555556,\"#d8576b\"],[0.6666666666666666,\"#ed7953\"],[0.7777777777777778,\"#fb9f3a\"],[0.8888888888888888,\"#fdca26\"],[1.0,\"#f0f921\"]],\"reversescale\":false,\"showscale\":true,\"z\":[[0.33,0.34,0.34,0.34,0.35,0.35,0.35,0.36,0.36,0.36,0.37,0.36,0.37,0.36,0.37,0.37,0.37,0.36,0.36],[0.33,0.34,0.34,0.35,0.35,0.35,0.36,0.36,0.36,0.36,0.37,0.37,0.36,0.37,0.37,0.37,0.37,0.36,0.37],[0.34,0.34,0.35,0.34,0.35,0.35,0.36,0.37,0.37,0.36,0.37,0.37,0.37,0.37,0.37,0.36,0.36,0.36,0.36],[0.34,0.34,0.33,0.34,0.35,0.36,0.37,0.37,0.37,0.37,0.37,0.37,0.37,0.38,0.38,0.37,0.36,0.37,0.36],[0.33,0.33,0.33,0.34,0.34,0.36,0.36,0.36,0.37,0.37,0.37,0.37,0.37,0.38,0.38,0.37,0.37,0.37,0.37],[0.33,0.34,0.34,0.35,0.35,0.35,0.36,0.37,0.37,0.37,0.37,0.38,0.38,0.38,0.39,0.38,0.38,0.37,0.37],[0.33,0.34,0.35,0.35,0.35,0.35,0.36,0.37,0.37,0.38,0.38,0.38,0.39,0.39,0.39,0.39,0.39,0.38,0.39],[0.34,0.34,0.35,0.35,0.35,0.35,0.37,0.37,0.37,0.38,0.38,0.38,0.39,0.4,0.4,0.39,0.39,0.39,0.4],[0.34,0.34,0.35,0.35,0.35,0.36,0.36,0.37,0.37,0.38,0.38,0.38,0.39,0.39,0.4,0.4,0.4,0.39,0.4],[0.35,0.35,0.36,0.36,0.36,0.36,0.38,0.39,0.39,0.39,0.39,0.39,0.39,0.39,0.39,0.39,0.4,0.4,0.4],[0.39,0.39,0.39,0.38,0.38,0.38,0.39,0.39,0.39,0.4,0.4,0.41,0.39,0.39,0.39,0.39,0.39,0.39,0.4],[0.43,0.41,0.41,0.4,0.41,0.39,0.4,0.4,0.4,0.41,0.41,0.41,0.4,0.39,0.4,0.4,0.4,0.4,0.4],[0.47,0.45,0.44,0.43,0.42,0.42,0.41,0.4,0.41,0.41,0.42,0.42,0.42,0.4,0.4,0.41,0.41,0.41,0.41],[0.55,0.54,0.53,0.48,0.47,0.46,0.45,0.43,0.43,0.43,0.43,0.44,0.43,0.41,0.4,0.41,0.41,0.41,0.41],[0.62,0.61,0.61,0.59,0.54,0.51,0.49,0.47,0.44,0.44,0.45,0.46,0.45,0.42,0.41,0.4,0.41,0.41,0.41],[0.69,0.66,0.65,0.62,0.59,0.55,0.52,0.48,0.47,0.46,0.46,0.46,0.46,0.43,0.42,0.41,0.41,0.42,0.42],[0.7,0.69,0.68,0.65,0.62,0.58,0.54,0.5,0.48,0.47,0.47,0.47,0.44,0.44,0.42,0.42,0.43,0.43,0.43],[0.72,0.71,0.69,0.67,0.64,0.6,0.57,0.52,0.49,0.47,0.47,0.46,0.45,0.43,0.43,0.43,0.43,0.43,0.43],[0.73,0.71,0.69,0.67,0.64,0.61,0.58,0.53,0.49,0.47,0.47,0.46,0.44,0.43,0.43,0.43,0.44,0.44,0.44]],\"type\":\"heatmap\"}],                        {\"annotations\":[{\"font\":{\"color\":\"#FFFFFF\",\"size\":7},\"showarrow\":false,\"text\":\"0.33\",\"x\":0,\"xref\":\"x\",\"y\":0,\"yref\":\"y\"},{\"font\":{\"color\":\"#FFFFFF\",\"size\":7},\"showarrow\":false,\"text\":\"0.34\",\"x\":1,\"xref\":\"x\",\"y\":0,\"yref\":\"y\"},{\"font\":{\"color\":\"#FFFFFF\",\"size\":7},\"showarrow\":false,\"text\":\"0.34\",\"x\":2,\"xref\":\"x\",\"y\":0,\"yref\":\"y\"},{\"font\":{\"color\":\"#FFFFFF\",\"size\":7},\"showarrow\":false,\"text\":\"0.34\",\"x\":3,\"xref\":\"x\",\"y\":0,\"yref\":\"y\"},{\"font\":{\"color\":\"#FFFFFF\",\"size\":7},\"showarrow\":false,\"text\":\"0.35\",\"x\":4,\"xref\":\"x\",\"y\":0,\"yref\":\"y\"},{\"font\":{\"color\":\"#FFFFFF\",\"size\":7},\"showarrow\":false,\"text\":\"0.35\",\"x\":5,\"xref\":\"x\",\"y\":0,\"yref\":\"y\"},{\"font\":{\"color\":\"#FFFFFF\",\"size\":7},\"showarrow\":false,\"text\":\"0.35\",\"x\":6,\"xref\":\"x\",\"y\":0,\"yref\":\"y\"},{\"font\":{\"color\":\"#FFFFFF\",\"size\":7},\"showarrow\":false,\"text\":\"0.36\",\"x\":7,\"xref\":\"x\",\"y\":0,\"yref\":\"y\"},{\"font\":{\"color\":\"#FFFFFF\",\"size\":7},\"showarrow\":false,\"text\":\"0.36\",\"x\":8,\"xref\":\"x\",\"y\":0,\"yref\":\"y\"},{\"font\":{\"color\":\"#FFFFFF\",\"size\":7},\"showarrow\":false,\"text\":\"0.36\",\"x\":9,\"xref\":\"x\",\"y\":0,\"yref\":\"y\"},{\"font\":{\"color\":\"#FFFFFF\",\"size\":7},\"showarrow\":false,\"text\":\"0.37\",\"x\":10,\"xref\":\"x\",\"y\":0,\"yref\":\"y\"},{\"font\":{\"color\":\"#FFFFFF\",\"size\":7},\"showarrow\":false,\"text\":\"0.36\",\"x\":11,\"xref\":\"x\",\"y\":0,\"yref\":\"y\"},{\"font\":{\"color\":\"#FFFFFF\",\"size\":7},\"showarrow\":false,\"text\":\"0.37\",\"x\":12,\"xref\":\"x\",\"y\":0,\"yref\":\"y\"},{\"font\":{\"color\":\"#FFFFFF\",\"size\":7},\"showarrow\":false,\"text\":\"0.36\",\"x\":13,\"xref\":\"x\",\"y\":0,\"yref\":\"y\"},{\"font\":{\"color\":\"#FFFFFF\",\"size\":7},\"showarrow\":false,\"text\":\"0.37\",\"x\":14,\"xref\":\"x\",\"y\":0,\"yref\":\"y\"},{\"font\":{\"color\":\"#FFFFFF\",\"size\":7},\"showarrow\":false,\"text\":\"0.37\",\"x\":15,\"xref\":\"x\",\"y\":0,\"yref\":\"y\"},{\"font\":{\"color\":\"#FFFFFF\",\"size\":7},\"showarrow\":false,\"text\":\"0.37\",\"x\":16,\"xref\":\"x\",\"y\":0,\"yref\":\"y\"},{\"font\":{\"color\":\"#FFFFFF\",\"size\":7},\"showarrow\":false,\"text\":\"0.36\",\"x\":17,\"xref\":\"x\",\"y\":0,\"yref\":\"y\"},{\"font\":{\"color\":\"#FFFFFF\",\"size\":7},\"showarrow\":false,\"text\":\"0.36\",\"x\":18,\"xref\":\"x\",\"y\":0,\"yref\":\"y\"},{\"font\":{\"color\":\"#FFFFFF\",\"size\":7},\"showarrow\":false,\"text\":\"0.33\",\"x\":0,\"xref\":\"x\",\"y\":1,\"yref\":\"y\"},{\"font\":{\"color\":\"#FFFFFF\",\"size\":7},\"showarrow\":false,\"text\":\"0.34\",\"x\":1,\"xref\":\"x\",\"y\":1,\"yref\":\"y\"},{\"font\":{\"color\":\"#FFFFFF\",\"size\":7},\"showarrow\":false,\"text\":\"0.34\",\"x\":2,\"xref\":\"x\",\"y\":1,\"yref\":\"y\"},{\"font\":{\"color\":\"#FFFFFF\",\"size\":7},\"showarrow\":false,\"text\":\"0.35\",\"x\":3,\"xref\":\"x\",\"y\":1,\"yref\":\"y\"},{\"font\":{\"color\":\"#FFFFFF\",\"size\":7},\"showarrow\":false,\"text\":\"0.35\",\"x\":4,\"xref\":\"x\",\"y\":1,\"yref\":\"y\"},{\"font\":{\"color\":\"#FFFFFF\",\"size\":7},\"showarrow\":false,\"text\":\"0.35\",\"x\":5,\"xref\":\"x\",\"y\":1,\"yref\":\"y\"},{\"font\":{\"color\":\"#FFFFFF\",\"size\":7},\"showarrow\":false,\"text\":\"0.36\",\"x\":6,\"xref\":\"x\",\"y\":1,\"yref\":\"y\"},{\"font\":{\"color\":\"#FFFFFF\",\"size\":7},\"showarrow\":false,\"text\":\"0.36\",\"x\":7,\"xref\":\"x\",\"y\":1,\"yref\":\"y\"},{\"font\":{\"color\":\"#FFFFFF\",\"size\":7},\"showarrow\":false,\"text\":\"0.36\",\"x\":8,\"xref\":\"x\",\"y\":1,\"yref\":\"y\"},{\"font\":{\"color\":\"#FFFFFF\",\"size\":7},\"showarrow\":false,\"text\":\"0.36\",\"x\":9,\"xref\":\"x\",\"y\":1,\"yref\":\"y\"},{\"font\":{\"color\":\"#FFFFFF\",\"size\":7},\"showarrow\":false,\"text\":\"0.37\",\"x\":10,\"xref\":\"x\",\"y\":1,\"yref\":\"y\"},{\"font\":{\"color\":\"#FFFFFF\",\"size\":7},\"showarrow\":false,\"text\":\"0.37\",\"x\":11,\"xref\":\"x\",\"y\":1,\"yref\":\"y\"},{\"font\":{\"color\":\"#FFFFFF\",\"size\":7},\"showarrow\":false,\"text\":\"0.36\",\"x\":12,\"xref\":\"x\",\"y\":1,\"yref\":\"y\"},{\"font\":{\"color\":\"#FFFFFF\",\"size\":7},\"showarrow\":false,\"text\":\"0.37\",\"x\":13,\"xref\":\"x\",\"y\":1,\"yref\":\"y\"},{\"font\":{\"color\":\"#FFFFFF\",\"size\":7},\"showarrow\":false,\"text\":\"0.37\",\"x\":14,\"xref\":\"x\",\"y\":1,\"yref\":\"y\"},{\"font\":{\"color\":\"#FFFFFF\",\"size\":7},\"showarrow\":false,\"text\":\"0.37\",\"x\":15,\"xref\":\"x\",\"y\":1,\"yref\":\"y\"},{\"font\":{\"color\":\"#FFFFFF\",\"size\":7},\"showarrow\":false,\"text\":\"0.37\",\"x\":16,\"xref\":\"x\",\"y\":1,\"yref\":\"y\"},{\"font\":{\"color\":\"#FFFFFF\",\"size\":7},\"showarrow\":false,\"text\":\"0.36\",\"x\":17,\"xref\":\"x\",\"y\":1,\"yref\":\"y\"},{\"font\":{\"color\":\"#FFFFFF\",\"size\":7},\"showarrow\":false,\"text\":\"0.37\",\"x\":18,\"xref\":\"x\",\"y\":1,\"yref\":\"y\"},{\"font\":{\"color\":\"#FFFFFF\",\"size\":7},\"showarrow\":false,\"text\":\"0.34\",\"x\":0,\"xref\":\"x\",\"y\":2,\"yref\":\"y\"},{\"font\":{\"color\":\"#FFFFFF\",\"size\":7},\"showarrow\":false,\"text\":\"0.34\",\"x\":1,\"xref\":\"x\",\"y\":2,\"yref\":\"y\"},{\"font\":{\"color\":\"#FFFFFF\",\"size\":7},\"showarrow\":false,\"text\":\"0.35\",\"x\":2,\"xref\":\"x\",\"y\":2,\"yref\":\"y\"},{\"font\":{\"color\":\"#FFFFFF\",\"size\":7},\"showarrow\":false,\"text\":\"0.34\",\"x\":3,\"xref\":\"x\",\"y\":2,\"yref\":\"y\"},{\"font\":{\"color\":\"#FFFFFF\",\"size\":7},\"showarrow\":false,\"text\":\"0.35\",\"x\":4,\"xref\":\"x\",\"y\":2,\"yref\":\"y\"},{\"font\":{\"color\":\"#FFFFFF\",\"size\":7},\"showarrow\":false,\"text\":\"0.35\",\"x\":5,\"xref\":\"x\",\"y\":2,\"yref\":\"y\"},{\"font\":{\"color\":\"#FFFFFF\",\"size\":7},\"showarrow\":false,\"text\":\"0.36\",\"x\":6,\"xref\":\"x\",\"y\":2,\"yref\":\"y\"},{\"font\":{\"color\":\"#FFFFFF\",\"size\":7},\"showarrow\":false,\"text\":\"0.37\",\"x\":7,\"xref\":\"x\",\"y\":2,\"yref\":\"y\"},{\"font\":{\"color\":\"#FFFFFF\",\"size\":7},\"showarrow\":false,\"text\":\"0.37\",\"x\":8,\"xref\":\"x\",\"y\":2,\"yref\":\"y\"},{\"font\":{\"color\":\"#FFFFFF\",\"size\":7},\"showarrow\":false,\"text\":\"0.36\",\"x\":9,\"xref\":\"x\",\"y\":2,\"yref\":\"y\"},{\"font\":{\"color\":\"#FFFFFF\",\"size\":7},\"showarrow\":false,\"text\":\"0.37\",\"x\":10,\"xref\":\"x\",\"y\":2,\"yref\":\"y\"},{\"font\":{\"color\":\"#FFFFFF\",\"size\":7},\"showarrow\":false,\"text\":\"0.37\",\"x\":11,\"xref\":\"x\",\"y\":2,\"yref\":\"y\"},{\"font\":{\"color\":\"#FFFFFF\",\"size\":7},\"showarrow\":false,\"text\":\"0.37\",\"x\":12,\"xref\":\"x\",\"y\":2,\"yref\":\"y\"},{\"font\":{\"color\":\"#FFFFFF\",\"size\":7},\"showarrow\":false,\"text\":\"0.37\",\"x\":13,\"xref\":\"x\",\"y\":2,\"yref\":\"y\"},{\"font\":{\"color\":\"#FFFFFF\",\"size\":7},\"showarrow\":false,\"text\":\"0.37\",\"x\":14,\"xref\":\"x\",\"y\":2,\"yref\":\"y\"},{\"font\":{\"color\":\"#FFFFFF\",\"size\":7},\"showarrow\":false,\"text\":\"0.36\",\"x\":15,\"xref\":\"x\",\"y\":2,\"yref\":\"y\"},{\"font\":{\"color\":\"#FFFFFF\",\"size\":7},\"showarrow\":false,\"text\":\"0.36\",\"x\":16,\"xref\":\"x\",\"y\":2,\"yref\":\"y\"},{\"font\":{\"color\":\"#FFFFFF\",\"size\":7},\"showarrow\":false,\"text\":\"0.36\",\"x\":17,\"xref\":\"x\",\"y\":2,\"yref\":\"y\"},{\"font\":{\"color\":\"#FFFFFF\",\"size\":7},\"showarrow\":false,\"text\":\"0.36\",\"x\":18,\"xref\":\"x\",\"y\":2,\"yref\":\"y\"},{\"font\":{\"color\":\"#FFFFFF\",\"size\":7},\"showarrow\":false,\"text\":\"0.34\",\"x\":0,\"xref\":\"x\",\"y\":3,\"yref\":\"y\"},{\"font\":{\"color\":\"#FFFFFF\",\"size\":7},\"showarrow\":false,\"text\":\"0.34\",\"x\":1,\"xref\":\"x\",\"y\":3,\"yref\":\"y\"},{\"font\":{\"color\":\"#FFFFFF\",\"size\":7},\"showarrow\":false,\"text\":\"0.33\",\"x\":2,\"xref\":\"x\",\"y\":3,\"yref\":\"y\"},{\"font\":{\"color\":\"#FFFFFF\",\"size\":7},\"showarrow\":false,\"text\":\"0.34\",\"x\":3,\"xref\":\"x\",\"y\":3,\"yref\":\"y\"},{\"font\":{\"color\":\"#FFFFFF\",\"size\":7},\"showarrow\":false,\"text\":\"0.35\",\"x\":4,\"xref\":\"x\",\"y\":3,\"yref\":\"y\"},{\"font\":{\"color\":\"#FFFFFF\",\"size\":7},\"showarrow\":false,\"text\":\"0.36\",\"x\":5,\"xref\":\"x\",\"y\":3,\"yref\":\"y\"},{\"font\":{\"color\":\"#FFFFFF\",\"size\":7},\"showarrow\":false,\"text\":\"0.37\",\"x\":6,\"xref\":\"x\",\"y\":3,\"yref\":\"y\"},{\"font\":{\"color\":\"#FFFFFF\",\"size\":7},\"showarrow\":false,\"text\":\"0.37\",\"x\":7,\"xref\":\"x\",\"y\":3,\"yref\":\"y\"},{\"font\":{\"color\":\"#FFFFFF\",\"size\":7},\"showarrow\":false,\"text\":\"0.37\",\"x\":8,\"xref\":\"x\",\"y\":3,\"yref\":\"y\"},{\"font\":{\"color\":\"#FFFFFF\",\"size\":7},\"showarrow\":false,\"text\":\"0.37\",\"x\":9,\"xref\":\"x\",\"y\":3,\"yref\":\"y\"},{\"font\":{\"color\":\"#FFFFFF\",\"size\":7},\"showarrow\":false,\"text\":\"0.37\",\"x\":10,\"xref\":\"x\",\"y\":3,\"yref\":\"y\"},{\"font\":{\"color\":\"#FFFFFF\",\"size\":7},\"showarrow\":false,\"text\":\"0.37\",\"x\":11,\"xref\":\"x\",\"y\":3,\"yref\":\"y\"},{\"font\":{\"color\":\"#FFFFFF\",\"size\":7},\"showarrow\":false,\"text\":\"0.37\",\"x\":12,\"xref\":\"x\",\"y\":3,\"yref\":\"y\"},{\"font\":{\"color\":\"#FFFFFF\",\"size\":7},\"showarrow\":false,\"text\":\"0.38\",\"x\":13,\"xref\":\"x\",\"y\":3,\"yref\":\"y\"},{\"font\":{\"color\":\"#FFFFFF\",\"size\":7},\"showarrow\":false,\"text\":\"0.38\",\"x\":14,\"xref\":\"x\",\"y\":3,\"yref\":\"y\"},{\"font\":{\"color\":\"#FFFFFF\",\"size\":7},\"showarrow\":false,\"text\":\"0.37\",\"x\":15,\"xref\":\"x\",\"y\":3,\"yref\":\"y\"},{\"font\":{\"color\":\"#FFFFFF\",\"size\":7},\"showarrow\":false,\"text\":\"0.36\",\"x\":16,\"xref\":\"x\",\"y\":3,\"yref\":\"y\"},{\"font\":{\"color\":\"#FFFFFF\",\"size\":7},\"showarrow\":false,\"text\":\"0.37\",\"x\":17,\"xref\":\"x\",\"y\":3,\"yref\":\"y\"},{\"font\":{\"color\":\"#FFFFFF\",\"size\":7},\"showarrow\":false,\"text\":\"0.36\",\"x\":18,\"xref\":\"x\",\"y\":3,\"yref\":\"y\"},{\"font\":{\"color\":\"#FFFFFF\",\"size\":7},\"showarrow\":false,\"text\":\"0.33\",\"x\":0,\"xref\":\"x\",\"y\":4,\"yref\":\"y\"},{\"font\":{\"color\":\"#FFFFFF\",\"size\":7},\"showarrow\":false,\"text\":\"0.33\",\"x\":1,\"xref\":\"x\",\"y\":4,\"yref\":\"y\"},{\"font\":{\"color\":\"#FFFFFF\",\"size\":7},\"showarrow\":false,\"text\":\"0.33\",\"x\":2,\"xref\":\"x\",\"y\":4,\"yref\":\"y\"},{\"font\":{\"color\":\"#FFFFFF\",\"size\":7},\"showarrow\":false,\"text\":\"0.34\",\"x\":3,\"xref\":\"x\",\"y\":4,\"yref\":\"y\"},{\"font\":{\"color\":\"#FFFFFF\",\"size\":7},\"showarrow\":false,\"text\":\"0.34\",\"x\":4,\"xref\":\"x\",\"y\":4,\"yref\":\"y\"},{\"font\":{\"color\":\"#FFFFFF\",\"size\":7},\"showarrow\":false,\"text\":\"0.36\",\"x\":5,\"xref\":\"x\",\"y\":4,\"yref\":\"y\"},{\"font\":{\"color\":\"#FFFFFF\",\"size\":7},\"showarrow\":false,\"text\":\"0.36\",\"x\":6,\"xref\":\"x\",\"y\":4,\"yref\":\"y\"},{\"font\":{\"color\":\"#FFFFFF\",\"size\":7},\"showarrow\":false,\"text\":\"0.36\",\"x\":7,\"xref\":\"x\",\"y\":4,\"yref\":\"y\"},{\"font\":{\"color\":\"#FFFFFF\",\"size\":7},\"showarrow\":false,\"text\":\"0.37\",\"x\":8,\"xref\":\"x\",\"y\":4,\"yref\":\"y\"},{\"font\":{\"color\":\"#FFFFFF\",\"size\":7},\"showarrow\":false,\"text\":\"0.37\",\"x\":9,\"xref\":\"x\",\"y\":4,\"yref\":\"y\"},{\"font\":{\"color\":\"#FFFFFF\",\"size\":7},\"showarrow\":false,\"text\":\"0.37\",\"x\":10,\"xref\":\"x\",\"y\":4,\"yref\":\"y\"},{\"font\":{\"color\":\"#FFFFFF\",\"size\":7},\"showarrow\":false,\"text\":\"0.37\",\"x\":11,\"xref\":\"x\",\"y\":4,\"yref\":\"y\"},{\"font\":{\"color\":\"#FFFFFF\",\"size\":7},\"showarrow\":false,\"text\":\"0.37\",\"x\":12,\"xref\":\"x\",\"y\":4,\"yref\":\"y\"},{\"font\":{\"color\":\"#FFFFFF\",\"size\":7},\"showarrow\":false,\"text\":\"0.38\",\"x\":13,\"xref\":\"x\",\"y\":4,\"yref\":\"y\"},{\"font\":{\"color\":\"#FFFFFF\",\"size\":7},\"showarrow\":false,\"text\":\"0.38\",\"x\":14,\"xref\":\"x\",\"y\":4,\"yref\":\"y\"},{\"font\":{\"color\":\"#FFFFFF\",\"size\":7},\"showarrow\":false,\"text\":\"0.37\",\"x\":15,\"xref\":\"x\",\"y\":4,\"yref\":\"y\"},{\"font\":{\"color\":\"#FFFFFF\",\"size\":7},\"showarrow\":false,\"text\":\"0.37\",\"x\":16,\"xref\":\"x\",\"y\":4,\"yref\":\"y\"},{\"font\":{\"color\":\"#FFFFFF\",\"size\":7},\"showarrow\":false,\"text\":\"0.37\",\"x\":17,\"xref\":\"x\",\"y\":4,\"yref\":\"y\"},{\"font\":{\"color\":\"#FFFFFF\",\"size\":7},\"showarrow\":false,\"text\":\"0.37\",\"x\":18,\"xref\":\"x\",\"y\":4,\"yref\":\"y\"},{\"font\":{\"color\":\"#FFFFFF\",\"size\":7},\"showarrow\":false,\"text\":\"0.33\",\"x\":0,\"xref\":\"x\",\"y\":5,\"yref\":\"y\"},{\"font\":{\"color\":\"#FFFFFF\",\"size\":7},\"showarrow\":false,\"text\":\"0.34\",\"x\":1,\"xref\":\"x\",\"y\":5,\"yref\":\"y\"},{\"font\":{\"color\":\"#FFFFFF\",\"size\":7},\"showarrow\":false,\"text\":\"0.34\",\"x\":2,\"xref\":\"x\",\"y\":5,\"yref\":\"y\"},{\"font\":{\"color\":\"#FFFFFF\",\"size\":7},\"showarrow\":false,\"text\":\"0.35\",\"x\":3,\"xref\":\"x\",\"y\":5,\"yref\":\"y\"},{\"font\":{\"color\":\"#FFFFFF\",\"size\":7},\"showarrow\":false,\"text\":\"0.35\",\"x\":4,\"xref\":\"x\",\"y\":5,\"yref\":\"y\"},{\"font\":{\"color\":\"#FFFFFF\",\"size\":7},\"showarrow\":false,\"text\":\"0.35\",\"x\":5,\"xref\":\"x\",\"y\":5,\"yref\":\"y\"},{\"font\":{\"color\":\"#FFFFFF\",\"size\":7},\"showarrow\":false,\"text\":\"0.36\",\"x\":6,\"xref\":\"x\",\"y\":5,\"yref\":\"y\"},{\"font\":{\"color\":\"#FFFFFF\",\"size\":7},\"showarrow\":false,\"text\":\"0.37\",\"x\":7,\"xref\":\"x\",\"y\":5,\"yref\":\"y\"},{\"font\":{\"color\":\"#FFFFFF\",\"size\":7},\"showarrow\":false,\"text\":\"0.37\",\"x\":8,\"xref\":\"x\",\"y\":5,\"yref\":\"y\"},{\"font\":{\"color\":\"#FFFFFF\",\"size\":7},\"showarrow\":false,\"text\":\"0.37\",\"x\":9,\"xref\":\"x\",\"y\":5,\"yref\":\"y\"},{\"font\":{\"color\":\"#FFFFFF\",\"size\":7},\"showarrow\":false,\"text\":\"0.37\",\"x\":10,\"xref\":\"x\",\"y\":5,\"yref\":\"y\"},{\"font\":{\"color\":\"#FFFFFF\",\"size\":7},\"showarrow\":false,\"text\":\"0.38\",\"x\":11,\"xref\":\"x\",\"y\":5,\"yref\":\"y\"},{\"font\":{\"color\":\"#FFFFFF\",\"size\":7},\"showarrow\":false,\"text\":\"0.38\",\"x\":12,\"xref\":\"x\",\"y\":5,\"yref\":\"y\"},{\"font\":{\"color\":\"#FFFFFF\",\"size\":7},\"showarrow\":false,\"text\":\"0.38\",\"x\":13,\"xref\":\"x\",\"y\":5,\"yref\":\"y\"},{\"font\":{\"color\":\"#FFFFFF\",\"size\":7},\"showarrow\":false,\"text\":\"0.39\",\"x\":14,\"xref\":\"x\",\"y\":5,\"yref\":\"y\"},{\"font\":{\"color\":\"#FFFFFF\",\"size\":7},\"showarrow\":false,\"text\":\"0.38\",\"x\":15,\"xref\":\"x\",\"y\":5,\"yref\":\"y\"},{\"font\":{\"color\":\"#FFFFFF\",\"size\":7},\"showarrow\":false,\"text\":\"0.38\",\"x\":16,\"xref\":\"x\",\"y\":5,\"yref\":\"y\"},{\"font\":{\"color\":\"#FFFFFF\",\"size\":7},\"showarrow\":false,\"text\":\"0.37\",\"x\":17,\"xref\":\"x\",\"y\":5,\"yref\":\"y\"},{\"font\":{\"color\":\"#FFFFFF\",\"size\":7},\"showarrow\":false,\"text\":\"0.37\",\"x\":18,\"xref\":\"x\",\"y\":5,\"yref\":\"y\"},{\"font\":{\"color\":\"#FFFFFF\",\"size\":7},\"showarrow\":false,\"text\":\"0.33\",\"x\":0,\"xref\":\"x\",\"y\":6,\"yref\":\"y\"},{\"font\":{\"color\":\"#FFFFFF\",\"size\":7},\"showarrow\":false,\"text\":\"0.34\",\"x\":1,\"xref\":\"x\",\"y\":6,\"yref\":\"y\"},{\"font\":{\"color\":\"#FFFFFF\",\"size\":7},\"showarrow\":false,\"text\":\"0.35\",\"x\":2,\"xref\":\"x\",\"y\":6,\"yref\":\"y\"},{\"font\":{\"color\":\"#FFFFFF\",\"size\":7},\"showarrow\":false,\"text\":\"0.35\",\"x\":3,\"xref\":\"x\",\"y\":6,\"yref\":\"y\"},{\"font\":{\"color\":\"#FFFFFF\",\"size\":7},\"showarrow\":false,\"text\":\"0.35\",\"x\":4,\"xref\":\"x\",\"y\":6,\"yref\":\"y\"},{\"font\":{\"color\":\"#FFFFFF\",\"size\":7},\"showarrow\":false,\"text\":\"0.35\",\"x\":5,\"xref\":\"x\",\"y\":6,\"yref\":\"y\"},{\"font\":{\"color\":\"#FFFFFF\",\"size\":7},\"showarrow\":false,\"text\":\"0.36\",\"x\":6,\"xref\":\"x\",\"y\":6,\"yref\":\"y\"},{\"font\":{\"color\":\"#FFFFFF\",\"size\":7},\"showarrow\":false,\"text\":\"0.37\",\"x\":7,\"xref\":\"x\",\"y\":6,\"yref\":\"y\"},{\"font\":{\"color\":\"#FFFFFF\",\"size\":7},\"showarrow\":false,\"text\":\"0.37\",\"x\":8,\"xref\":\"x\",\"y\":6,\"yref\":\"y\"},{\"font\":{\"color\":\"#FFFFFF\",\"size\":7},\"showarrow\":false,\"text\":\"0.38\",\"x\":9,\"xref\":\"x\",\"y\":6,\"yref\":\"y\"},{\"font\":{\"color\":\"#FFFFFF\",\"size\":7},\"showarrow\":false,\"text\":\"0.38\",\"x\":10,\"xref\":\"x\",\"y\":6,\"yref\":\"y\"},{\"font\":{\"color\":\"#FFFFFF\",\"size\":7},\"showarrow\":false,\"text\":\"0.38\",\"x\":11,\"xref\":\"x\",\"y\":6,\"yref\":\"y\"},{\"font\":{\"color\":\"#FFFFFF\",\"size\":7},\"showarrow\":false,\"text\":\"0.39\",\"x\":12,\"xref\":\"x\",\"y\":6,\"yref\":\"y\"},{\"font\":{\"color\":\"#FFFFFF\",\"size\":7},\"showarrow\":false,\"text\":\"0.39\",\"x\":13,\"xref\":\"x\",\"y\":6,\"yref\":\"y\"},{\"font\":{\"color\":\"#FFFFFF\",\"size\":7},\"showarrow\":false,\"text\":\"0.39\",\"x\":14,\"xref\":\"x\",\"y\":6,\"yref\":\"y\"},{\"font\":{\"color\":\"#FFFFFF\",\"size\":7},\"showarrow\":false,\"text\":\"0.39\",\"x\":15,\"xref\":\"x\",\"y\":6,\"yref\":\"y\"},{\"font\":{\"color\":\"#FFFFFF\",\"size\":7},\"showarrow\":false,\"text\":\"0.39\",\"x\":16,\"xref\":\"x\",\"y\":6,\"yref\":\"y\"},{\"font\":{\"color\":\"#FFFFFF\",\"size\":7},\"showarrow\":false,\"text\":\"0.38\",\"x\":17,\"xref\":\"x\",\"y\":6,\"yref\":\"y\"},{\"font\":{\"color\":\"#FFFFFF\",\"size\":7},\"showarrow\":false,\"text\":\"0.39\",\"x\":18,\"xref\":\"x\",\"y\":6,\"yref\":\"y\"},{\"font\":{\"color\":\"#FFFFFF\",\"size\":7},\"showarrow\":false,\"text\":\"0.34\",\"x\":0,\"xref\":\"x\",\"y\":7,\"yref\":\"y\"},{\"font\":{\"color\":\"#FFFFFF\",\"size\":7},\"showarrow\":false,\"text\":\"0.34\",\"x\":1,\"xref\":\"x\",\"y\":7,\"yref\":\"y\"},{\"font\":{\"color\":\"#FFFFFF\",\"size\":7},\"showarrow\":false,\"text\":\"0.35\",\"x\":2,\"xref\":\"x\",\"y\":7,\"yref\":\"y\"},{\"font\":{\"color\":\"#FFFFFF\",\"size\":7},\"showarrow\":false,\"text\":\"0.35\",\"x\":3,\"xref\":\"x\",\"y\":7,\"yref\":\"y\"},{\"font\":{\"color\":\"#FFFFFF\",\"size\":7},\"showarrow\":false,\"text\":\"0.35\",\"x\":4,\"xref\":\"x\",\"y\":7,\"yref\":\"y\"},{\"font\":{\"color\":\"#FFFFFF\",\"size\":7},\"showarrow\":false,\"text\":\"0.35\",\"x\":5,\"xref\":\"x\",\"y\":7,\"yref\":\"y\"},{\"font\":{\"color\":\"#FFFFFF\",\"size\":7},\"showarrow\":false,\"text\":\"0.37\",\"x\":6,\"xref\":\"x\",\"y\":7,\"yref\":\"y\"},{\"font\":{\"color\":\"#FFFFFF\",\"size\":7},\"showarrow\":false,\"text\":\"0.37\",\"x\":7,\"xref\":\"x\",\"y\":7,\"yref\":\"y\"},{\"font\":{\"color\":\"#FFFFFF\",\"size\":7},\"showarrow\":false,\"text\":\"0.37\",\"x\":8,\"xref\":\"x\",\"y\":7,\"yref\":\"y\"},{\"font\":{\"color\":\"#FFFFFF\",\"size\":7},\"showarrow\":false,\"text\":\"0.38\",\"x\":9,\"xref\":\"x\",\"y\":7,\"yref\":\"y\"},{\"font\":{\"color\":\"#FFFFFF\",\"size\":7},\"showarrow\":false,\"text\":\"0.38\",\"x\":10,\"xref\":\"x\",\"y\":7,\"yref\":\"y\"},{\"font\":{\"color\":\"#FFFFFF\",\"size\":7},\"showarrow\":false,\"text\":\"0.38\",\"x\":11,\"xref\":\"x\",\"y\":7,\"yref\":\"y\"},{\"font\":{\"color\":\"#FFFFFF\",\"size\":7},\"showarrow\":false,\"text\":\"0.39\",\"x\":12,\"xref\":\"x\",\"y\":7,\"yref\":\"y\"},{\"font\":{\"color\":\"#FFFFFF\",\"size\":7},\"showarrow\":false,\"text\":\"0.4\",\"x\":13,\"xref\":\"x\",\"y\":7,\"yref\":\"y\"},{\"font\":{\"color\":\"#FFFFFF\",\"size\":7},\"showarrow\":false,\"text\":\"0.4\",\"x\":14,\"xref\":\"x\",\"y\":7,\"yref\":\"y\"},{\"font\":{\"color\":\"#FFFFFF\",\"size\":7},\"showarrow\":false,\"text\":\"0.39\",\"x\":15,\"xref\":\"x\",\"y\":7,\"yref\":\"y\"},{\"font\":{\"color\":\"#FFFFFF\",\"size\":7},\"showarrow\":false,\"text\":\"0.39\",\"x\":16,\"xref\":\"x\",\"y\":7,\"yref\":\"y\"},{\"font\":{\"color\":\"#FFFFFF\",\"size\":7},\"showarrow\":false,\"text\":\"0.39\",\"x\":17,\"xref\":\"x\",\"y\":7,\"yref\":\"y\"},{\"font\":{\"color\":\"#FFFFFF\",\"size\":7},\"showarrow\":false,\"text\":\"0.4\",\"x\":18,\"xref\":\"x\",\"y\":7,\"yref\":\"y\"},{\"font\":{\"color\":\"#FFFFFF\",\"size\":7},\"showarrow\":false,\"text\":\"0.34\",\"x\":0,\"xref\":\"x\",\"y\":8,\"yref\":\"y\"},{\"font\":{\"color\":\"#FFFFFF\",\"size\":7},\"showarrow\":false,\"text\":\"0.34\",\"x\":1,\"xref\":\"x\",\"y\":8,\"yref\":\"y\"},{\"font\":{\"color\":\"#FFFFFF\",\"size\":7},\"showarrow\":false,\"text\":\"0.35\",\"x\":2,\"xref\":\"x\",\"y\":8,\"yref\":\"y\"},{\"font\":{\"color\":\"#FFFFFF\",\"size\":7},\"showarrow\":false,\"text\":\"0.35\",\"x\":3,\"xref\":\"x\",\"y\":8,\"yref\":\"y\"},{\"font\":{\"color\":\"#FFFFFF\",\"size\":7},\"showarrow\":false,\"text\":\"0.35\",\"x\":4,\"xref\":\"x\",\"y\":8,\"yref\":\"y\"},{\"font\":{\"color\":\"#FFFFFF\",\"size\":7},\"showarrow\":false,\"text\":\"0.36\",\"x\":5,\"xref\":\"x\",\"y\":8,\"yref\":\"y\"},{\"font\":{\"color\":\"#FFFFFF\",\"size\":7},\"showarrow\":false,\"text\":\"0.36\",\"x\":6,\"xref\":\"x\",\"y\":8,\"yref\":\"y\"},{\"font\":{\"color\":\"#FFFFFF\",\"size\":7},\"showarrow\":false,\"text\":\"0.37\",\"x\":7,\"xref\":\"x\",\"y\":8,\"yref\":\"y\"},{\"font\":{\"color\":\"#FFFFFF\",\"size\":7},\"showarrow\":false,\"text\":\"0.37\",\"x\":8,\"xref\":\"x\",\"y\":8,\"yref\":\"y\"},{\"font\":{\"color\":\"#FFFFFF\",\"size\":7},\"showarrow\":false,\"text\":\"0.38\",\"x\":9,\"xref\":\"x\",\"y\":8,\"yref\":\"y\"},{\"font\":{\"color\":\"#FFFFFF\",\"size\":7},\"showarrow\":false,\"text\":\"0.38\",\"x\":10,\"xref\":\"x\",\"y\":8,\"yref\":\"y\"},{\"font\":{\"color\":\"#FFFFFF\",\"size\":7},\"showarrow\":false,\"text\":\"0.38\",\"x\":11,\"xref\":\"x\",\"y\":8,\"yref\":\"y\"},{\"font\":{\"color\":\"#FFFFFF\",\"size\":7},\"showarrow\":false,\"text\":\"0.39\",\"x\":12,\"xref\":\"x\",\"y\":8,\"yref\":\"y\"},{\"font\":{\"color\":\"#FFFFFF\",\"size\":7},\"showarrow\":false,\"text\":\"0.39\",\"x\":13,\"xref\":\"x\",\"y\":8,\"yref\":\"y\"},{\"font\":{\"color\":\"#FFFFFF\",\"size\":7},\"showarrow\":false,\"text\":\"0.4\",\"x\":14,\"xref\":\"x\",\"y\":8,\"yref\":\"y\"},{\"font\":{\"color\":\"#FFFFFF\",\"size\":7},\"showarrow\":false,\"text\":\"0.4\",\"x\":15,\"xref\":\"x\",\"y\":8,\"yref\":\"y\"},{\"font\":{\"color\":\"#FFFFFF\",\"size\":7},\"showarrow\":false,\"text\":\"0.4\",\"x\":16,\"xref\":\"x\",\"y\":8,\"yref\":\"y\"},{\"font\":{\"color\":\"#FFFFFF\",\"size\":7},\"showarrow\":false,\"text\":\"0.39\",\"x\":17,\"xref\":\"x\",\"y\":8,\"yref\":\"y\"},{\"font\":{\"color\":\"#FFFFFF\",\"size\":7},\"showarrow\":false,\"text\":\"0.4\",\"x\":18,\"xref\":\"x\",\"y\":8,\"yref\":\"y\"},{\"font\":{\"color\":\"#FFFFFF\",\"size\":7},\"showarrow\":false,\"text\":\"0.35\",\"x\":0,\"xref\":\"x\",\"y\":9,\"yref\":\"y\"},{\"font\":{\"color\":\"#FFFFFF\",\"size\":7},\"showarrow\":false,\"text\":\"0.35\",\"x\":1,\"xref\":\"x\",\"y\":9,\"yref\":\"y\"},{\"font\":{\"color\":\"#FFFFFF\",\"size\":7},\"showarrow\":false,\"text\":\"0.36\",\"x\":2,\"xref\":\"x\",\"y\":9,\"yref\":\"y\"},{\"font\":{\"color\":\"#FFFFFF\",\"size\":7},\"showarrow\":false,\"text\":\"0.36\",\"x\":3,\"xref\":\"x\",\"y\":9,\"yref\":\"y\"},{\"font\":{\"color\":\"#FFFFFF\",\"size\":7},\"showarrow\":false,\"text\":\"0.36\",\"x\":4,\"xref\":\"x\",\"y\":9,\"yref\":\"y\"},{\"font\":{\"color\":\"#FFFFFF\",\"size\":7},\"showarrow\":false,\"text\":\"0.36\",\"x\":5,\"xref\":\"x\",\"y\":9,\"yref\":\"y\"},{\"font\":{\"color\":\"#FFFFFF\",\"size\":7},\"showarrow\":false,\"text\":\"0.38\",\"x\":6,\"xref\":\"x\",\"y\":9,\"yref\":\"y\"},{\"font\":{\"color\":\"#FFFFFF\",\"size\":7},\"showarrow\":false,\"text\":\"0.39\",\"x\":7,\"xref\":\"x\",\"y\":9,\"yref\":\"y\"},{\"font\":{\"color\":\"#FFFFFF\",\"size\":7},\"showarrow\":false,\"text\":\"0.39\",\"x\":8,\"xref\":\"x\",\"y\":9,\"yref\":\"y\"},{\"font\":{\"color\":\"#FFFFFF\",\"size\":7},\"showarrow\":false,\"text\":\"0.39\",\"x\":9,\"xref\":\"x\",\"y\":9,\"yref\":\"y\"},{\"font\":{\"color\":\"#FFFFFF\",\"size\":7},\"showarrow\":false,\"text\":\"0.39\",\"x\":10,\"xref\":\"x\",\"y\":9,\"yref\":\"y\"},{\"font\":{\"color\":\"#FFFFFF\",\"size\":7},\"showarrow\":false,\"text\":\"0.39\",\"x\":11,\"xref\":\"x\",\"y\":9,\"yref\":\"y\"},{\"font\":{\"color\":\"#FFFFFF\",\"size\":7},\"showarrow\":false,\"text\":\"0.39\",\"x\":12,\"xref\":\"x\",\"y\":9,\"yref\":\"y\"},{\"font\":{\"color\":\"#FFFFFF\",\"size\":7},\"showarrow\":false,\"text\":\"0.39\",\"x\":13,\"xref\":\"x\",\"y\":9,\"yref\":\"y\"},{\"font\":{\"color\":\"#FFFFFF\",\"size\":7},\"showarrow\":false,\"text\":\"0.39\",\"x\":14,\"xref\":\"x\",\"y\":9,\"yref\":\"y\"},{\"font\":{\"color\":\"#FFFFFF\",\"size\":7},\"showarrow\":false,\"text\":\"0.39\",\"x\":15,\"xref\":\"x\",\"y\":9,\"yref\":\"y\"},{\"font\":{\"color\":\"#FFFFFF\",\"size\":7},\"showarrow\":false,\"text\":\"0.4\",\"x\":16,\"xref\":\"x\",\"y\":9,\"yref\":\"y\"},{\"font\":{\"color\":\"#FFFFFF\",\"size\":7},\"showarrow\":false,\"text\":\"0.4\",\"x\":17,\"xref\":\"x\",\"y\":9,\"yref\":\"y\"},{\"font\":{\"color\":\"#FFFFFF\",\"size\":7},\"showarrow\":false,\"text\":\"0.4\",\"x\":18,\"xref\":\"x\",\"y\":9,\"yref\":\"y\"},{\"font\":{\"color\":\"#FFFFFF\",\"size\":7},\"showarrow\":false,\"text\":\"0.39\",\"x\":0,\"xref\":\"x\",\"y\":10,\"yref\":\"y\"},{\"font\":{\"color\":\"#FFFFFF\",\"size\":7},\"showarrow\":false,\"text\":\"0.39\",\"x\":1,\"xref\":\"x\",\"y\":10,\"yref\":\"y\"},{\"font\":{\"color\":\"#FFFFFF\",\"size\":7},\"showarrow\":false,\"text\":\"0.39\",\"x\":2,\"xref\":\"x\",\"y\":10,\"yref\":\"y\"},{\"font\":{\"color\":\"#FFFFFF\",\"size\":7},\"showarrow\":false,\"text\":\"0.38\",\"x\":3,\"xref\":\"x\",\"y\":10,\"yref\":\"y\"},{\"font\":{\"color\":\"#FFFFFF\",\"size\":7},\"showarrow\":false,\"text\":\"0.38\",\"x\":4,\"xref\":\"x\",\"y\":10,\"yref\":\"y\"},{\"font\":{\"color\":\"#FFFFFF\",\"size\":7},\"showarrow\":false,\"text\":\"0.38\",\"x\":5,\"xref\":\"x\",\"y\":10,\"yref\":\"y\"},{\"font\":{\"color\":\"#FFFFFF\",\"size\":7},\"showarrow\":false,\"text\":\"0.39\",\"x\":6,\"xref\":\"x\",\"y\":10,\"yref\":\"y\"},{\"font\":{\"color\":\"#FFFFFF\",\"size\":7},\"showarrow\":false,\"text\":\"0.39\",\"x\":7,\"xref\":\"x\",\"y\":10,\"yref\":\"y\"},{\"font\":{\"color\":\"#FFFFFF\",\"size\":7},\"showarrow\":false,\"text\":\"0.39\",\"x\":8,\"xref\":\"x\",\"y\":10,\"yref\":\"y\"},{\"font\":{\"color\":\"#FFFFFF\",\"size\":7},\"showarrow\":false,\"text\":\"0.4\",\"x\":9,\"xref\":\"x\",\"y\":10,\"yref\":\"y\"},{\"font\":{\"color\":\"#FFFFFF\",\"size\":7},\"showarrow\":false,\"text\":\"0.4\",\"x\":10,\"xref\":\"x\",\"y\":10,\"yref\":\"y\"},{\"font\":{\"color\":\"#FFFFFF\",\"size\":7},\"showarrow\":false,\"text\":\"0.41\",\"x\":11,\"xref\":\"x\",\"y\":10,\"yref\":\"y\"},{\"font\":{\"color\":\"#FFFFFF\",\"size\":7},\"showarrow\":false,\"text\":\"0.39\",\"x\":12,\"xref\":\"x\",\"y\":10,\"yref\":\"y\"},{\"font\":{\"color\":\"#FFFFFF\",\"size\":7},\"showarrow\":false,\"text\":\"0.39\",\"x\":13,\"xref\":\"x\",\"y\":10,\"yref\":\"y\"},{\"font\":{\"color\":\"#FFFFFF\",\"size\":7},\"showarrow\":false,\"text\":\"0.39\",\"x\":14,\"xref\":\"x\",\"y\":10,\"yref\":\"y\"},{\"font\":{\"color\":\"#FFFFFF\",\"size\":7},\"showarrow\":false,\"text\":\"0.39\",\"x\":15,\"xref\":\"x\",\"y\":10,\"yref\":\"y\"},{\"font\":{\"color\":\"#FFFFFF\",\"size\":7},\"showarrow\":false,\"text\":\"0.39\",\"x\":16,\"xref\":\"x\",\"y\":10,\"yref\":\"y\"},{\"font\":{\"color\":\"#FFFFFF\",\"size\":7},\"showarrow\":false,\"text\":\"0.39\",\"x\":17,\"xref\":\"x\",\"y\":10,\"yref\":\"y\"},{\"font\":{\"color\":\"#FFFFFF\",\"size\":7},\"showarrow\":false,\"text\":\"0.4\",\"x\":18,\"xref\":\"x\",\"y\":10,\"yref\":\"y\"},{\"font\":{\"color\":\"#FFFFFF\",\"size\":7},\"showarrow\":false,\"text\":\"0.43\",\"x\":0,\"xref\":\"x\",\"y\":11,\"yref\":\"y\"},{\"font\":{\"color\":\"#FFFFFF\",\"size\":7},\"showarrow\":false,\"text\":\"0.41\",\"x\":1,\"xref\":\"x\",\"y\":11,\"yref\":\"y\"},{\"font\":{\"color\":\"#FFFFFF\",\"size\":7},\"showarrow\":false,\"text\":\"0.41\",\"x\":2,\"xref\":\"x\",\"y\":11,\"yref\":\"y\"},{\"font\":{\"color\":\"#FFFFFF\",\"size\":7},\"showarrow\":false,\"text\":\"0.4\",\"x\":3,\"xref\":\"x\",\"y\":11,\"yref\":\"y\"},{\"font\":{\"color\":\"#FFFFFF\",\"size\":7},\"showarrow\":false,\"text\":\"0.41\",\"x\":4,\"xref\":\"x\",\"y\":11,\"yref\":\"y\"},{\"font\":{\"color\":\"#FFFFFF\",\"size\":7},\"showarrow\":false,\"text\":\"0.39\",\"x\":5,\"xref\":\"x\",\"y\":11,\"yref\":\"y\"},{\"font\":{\"color\":\"#FFFFFF\",\"size\":7},\"showarrow\":false,\"text\":\"0.4\",\"x\":6,\"xref\":\"x\",\"y\":11,\"yref\":\"y\"},{\"font\":{\"color\":\"#FFFFFF\",\"size\":7},\"showarrow\":false,\"text\":\"0.4\",\"x\":7,\"xref\":\"x\",\"y\":11,\"yref\":\"y\"},{\"font\":{\"color\":\"#FFFFFF\",\"size\":7},\"showarrow\":false,\"text\":\"0.4\",\"x\":8,\"xref\":\"x\",\"y\":11,\"yref\":\"y\"},{\"font\":{\"color\":\"#FFFFFF\",\"size\":7},\"showarrow\":false,\"text\":\"0.41\",\"x\":9,\"xref\":\"x\",\"y\":11,\"yref\":\"y\"},{\"font\":{\"color\":\"#FFFFFF\",\"size\":7},\"showarrow\":false,\"text\":\"0.41\",\"x\":10,\"xref\":\"x\",\"y\":11,\"yref\":\"y\"},{\"font\":{\"color\":\"#FFFFFF\",\"size\":7},\"showarrow\":false,\"text\":\"0.41\",\"x\":11,\"xref\":\"x\",\"y\":11,\"yref\":\"y\"},{\"font\":{\"color\":\"#FFFFFF\",\"size\":7},\"showarrow\":false,\"text\":\"0.4\",\"x\":12,\"xref\":\"x\",\"y\":11,\"yref\":\"y\"},{\"font\":{\"color\":\"#FFFFFF\",\"size\":7},\"showarrow\":false,\"text\":\"0.39\",\"x\":13,\"xref\":\"x\",\"y\":11,\"yref\":\"y\"},{\"font\":{\"color\":\"#FFFFFF\",\"size\":7},\"showarrow\":false,\"text\":\"0.4\",\"x\":14,\"xref\":\"x\",\"y\":11,\"yref\":\"y\"},{\"font\":{\"color\":\"#FFFFFF\",\"size\":7},\"showarrow\":false,\"text\":\"0.4\",\"x\":15,\"xref\":\"x\",\"y\":11,\"yref\":\"y\"},{\"font\":{\"color\":\"#FFFFFF\",\"size\":7},\"showarrow\":false,\"text\":\"0.4\",\"x\":16,\"xref\":\"x\",\"y\":11,\"yref\":\"y\"},{\"font\":{\"color\":\"#FFFFFF\",\"size\":7},\"showarrow\":false,\"text\":\"0.4\",\"x\":17,\"xref\":\"x\",\"y\":11,\"yref\":\"y\"},{\"font\":{\"color\":\"#FFFFFF\",\"size\":7},\"showarrow\":false,\"text\":\"0.4\",\"x\":18,\"xref\":\"x\",\"y\":11,\"yref\":\"y\"},{\"font\":{\"color\":\"#FFFFFF\",\"size\":7},\"showarrow\":false,\"text\":\"0.47\",\"x\":0,\"xref\":\"x\",\"y\":12,\"yref\":\"y\"},{\"font\":{\"color\":\"#FFFFFF\",\"size\":7},\"showarrow\":false,\"text\":\"0.45\",\"x\":1,\"xref\":\"x\",\"y\":12,\"yref\":\"y\"},{\"font\":{\"color\":\"#FFFFFF\",\"size\":7},\"showarrow\":false,\"text\":\"0.44\",\"x\":2,\"xref\":\"x\",\"y\":12,\"yref\":\"y\"},{\"font\":{\"color\":\"#FFFFFF\",\"size\":7},\"showarrow\":false,\"text\":\"0.43\",\"x\":3,\"xref\":\"x\",\"y\":12,\"yref\":\"y\"},{\"font\":{\"color\":\"#FFFFFF\",\"size\":7},\"showarrow\":false,\"text\":\"0.42\",\"x\":4,\"xref\":\"x\",\"y\":12,\"yref\":\"y\"},{\"font\":{\"color\":\"#FFFFFF\",\"size\":7},\"showarrow\":false,\"text\":\"0.42\",\"x\":5,\"xref\":\"x\",\"y\":12,\"yref\":\"y\"},{\"font\":{\"color\":\"#FFFFFF\",\"size\":7},\"showarrow\":false,\"text\":\"0.41\",\"x\":6,\"xref\":\"x\",\"y\":12,\"yref\":\"y\"},{\"font\":{\"color\":\"#FFFFFF\",\"size\":7},\"showarrow\":false,\"text\":\"0.4\",\"x\":7,\"xref\":\"x\",\"y\":12,\"yref\":\"y\"},{\"font\":{\"color\":\"#FFFFFF\",\"size\":7},\"showarrow\":false,\"text\":\"0.41\",\"x\":8,\"xref\":\"x\",\"y\":12,\"yref\":\"y\"},{\"font\":{\"color\":\"#FFFFFF\",\"size\":7},\"showarrow\":false,\"text\":\"0.41\",\"x\":9,\"xref\":\"x\",\"y\":12,\"yref\":\"y\"},{\"font\":{\"color\":\"#FFFFFF\",\"size\":7},\"showarrow\":false,\"text\":\"0.42\",\"x\":10,\"xref\":\"x\",\"y\":12,\"yref\":\"y\"},{\"font\":{\"color\":\"#FFFFFF\",\"size\":7},\"showarrow\":false,\"text\":\"0.42\",\"x\":11,\"xref\":\"x\",\"y\":12,\"yref\":\"y\"},{\"font\":{\"color\":\"#FFFFFF\",\"size\":7},\"showarrow\":false,\"text\":\"0.42\",\"x\":12,\"xref\":\"x\",\"y\":12,\"yref\":\"y\"},{\"font\":{\"color\":\"#FFFFFF\",\"size\":7},\"showarrow\":false,\"text\":\"0.4\",\"x\":13,\"xref\":\"x\",\"y\":12,\"yref\":\"y\"},{\"font\":{\"color\":\"#FFFFFF\",\"size\":7},\"showarrow\":false,\"text\":\"0.4\",\"x\":14,\"xref\":\"x\",\"y\":12,\"yref\":\"y\"},{\"font\":{\"color\":\"#FFFFFF\",\"size\":7},\"showarrow\":false,\"text\":\"0.41\",\"x\":15,\"xref\":\"x\",\"y\":12,\"yref\":\"y\"},{\"font\":{\"color\":\"#FFFFFF\",\"size\":7},\"showarrow\":false,\"text\":\"0.41\",\"x\":16,\"xref\":\"x\",\"y\":12,\"yref\":\"y\"},{\"font\":{\"color\":\"#FFFFFF\",\"size\":7},\"showarrow\":false,\"text\":\"0.41\",\"x\":17,\"xref\":\"x\",\"y\":12,\"yref\":\"y\"},{\"font\":{\"color\":\"#FFFFFF\",\"size\":7},\"showarrow\":false,\"text\":\"0.41\",\"x\":18,\"xref\":\"x\",\"y\":12,\"yref\":\"y\"},{\"font\":{\"color\":\"#000000\",\"size\":7},\"showarrow\":false,\"text\":\"0.55\",\"x\":0,\"xref\":\"x\",\"y\":13,\"yref\":\"y\"},{\"font\":{\"color\":\"#000000\",\"size\":7},\"showarrow\":false,\"text\":\"0.54\",\"x\":1,\"xref\":\"x\",\"y\":13,\"yref\":\"y\"},{\"font\":{\"color\":\"#000000\",\"size\":7},\"showarrow\":false,\"text\":\"0.53\",\"x\":2,\"xref\":\"x\",\"y\":13,\"yref\":\"y\"},{\"font\":{\"color\":\"#FFFFFF\",\"size\":7},\"showarrow\":false,\"text\":\"0.48\",\"x\":3,\"xref\":\"x\",\"y\":13,\"yref\":\"y\"},{\"font\":{\"color\":\"#FFFFFF\",\"size\":7},\"showarrow\":false,\"text\":\"0.47\",\"x\":4,\"xref\":\"x\",\"y\":13,\"yref\":\"y\"},{\"font\":{\"color\":\"#FFFFFF\",\"size\":7},\"showarrow\":false,\"text\":\"0.46\",\"x\":5,\"xref\":\"x\",\"y\":13,\"yref\":\"y\"},{\"font\":{\"color\":\"#FFFFFF\",\"size\":7},\"showarrow\":false,\"text\":\"0.45\",\"x\":6,\"xref\":\"x\",\"y\":13,\"yref\":\"y\"},{\"font\":{\"color\":\"#FFFFFF\",\"size\":7},\"showarrow\":false,\"text\":\"0.43\",\"x\":7,\"xref\":\"x\",\"y\":13,\"yref\":\"y\"},{\"font\":{\"color\":\"#FFFFFF\",\"size\":7},\"showarrow\":false,\"text\":\"0.43\",\"x\":8,\"xref\":\"x\",\"y\":13,\"yref\":\"y\"},{\"font\":{\"color\":\"#FFFFFF\",\"size\":7},\"showarrow\":false,\"text\":\"0.43\",\"x\":9,\"xref\":\"x\",\"y\":13,\"yref\":\"y\"},{\"font\":{\"color\":\"#FFFFFF\",\"size\":7},\"showarrow\":false,\"text\":\"0.43\",\"x\":10,\"xref\":\"x\",\"y\":13,\"yref\":\"y\"},{\"font\":{\"color\":\"#FFFFFF\",\"size\":7},\"showarrow\":false,\"text\":\"0.44\",\"x\":11,\"xref\":\"x\",\"y\":13,\"yref\":\"y\"},{\"font\":{\"color\":\"#FFFFFF\",\"size\":7},\"showarrow\":false,\"text\":\"0.43\",\"x\":12,\"xref\":\"x\",\"y\":13,\"yref\":\"y\"},{\"font\":{\"color\":\"#FFFFFF\",\"size\":7},\"showarrow\":false,\"text\":\"0.41\",\"x\":13,\"xref\":\"x\",\"y\":13,\"yref\":\"y\"},{\"font\":{\"color\":\"#FFFFFF\",\"size\":7},\"showarrow\":false,\"text\":\"0.4\",\"x\":14,\"xref\":\"x\",\"y\":13,\"yref\":\"y\"},{\"font\":{\"color\":\"#FFFFFF\",\"size\":7},\"showarrow\":false,\"text\":\"0.41\",\"x\":15,\"xref\":\"x\",\"y\":13,\"yref\":\"y\"},{\"font\":{\"color\":\"#FFFFFF\",\"size\":7},\"showarrow\":false,\"text\":\"0.41\",\"x\":16,\"xref\":\"x\",\"y\":13,\"yref\":\"y\"},{\"font\":{\"color\":\"#FFFFFF\",\"size\":7},\"showarrow\":false,\"text\":\"0.41\",\"x\":17,\"xref\":\"x\",\"y\":13,\"yref\":\"y\"},{\"font\":{\"color\":\"#FFFFFF\",\"size\":7},\"showarrow\":false,\"text\":\"0.41\",\"x\":18,\"xref\":\"x\",\"y\":13,\"yref\":\"y\"},{\"font\":{\"color\":\"#000000\",\"size\":7},\"showarrow\":false,\"text\":\"0.62\",\"x\":0,\"xref\":\"x\",\"y\":14,\"yref\":\"y\"},{\"font\":{\"color\":\"#000000\",\"size\":7},\"showarrow\":false,\"text\":\"0.61\",\"x\":1,\"xref\":\"x\",\"y\":14,\"yref\":\"y\"},{\"font\":{\"color\":\"#000000\",\"size\":7},\"showarrow\":false,\"text\":\"0.61\",\"x\":2,\"xref\":\"x\",\"y\":14,\"yref\":\"y\"},{\"font\":{\"color\":\"#000000\",\"size\":7},\"showarrow\":false,\"text\":\"0.59\",\"x\":3,\"xref\":\"x\",\"y\":14,\"yref\":\"y\"},{\"font\":{\"color\":\"#000000\",\"size\":7},\"showarrow\":false,\"text\":\"0.54\",\"x\":4,\"xref\":\"x\",\"y\":14,\"yref\":\"y\"},{\"font\":{\"color\":\"#FFFFFF\",\"size\":7},\"showarrow\":false,\"text\":\"0.51\",\"x\":5,\"xref\":\"x\",\"y\":14,\"yref\":\"y\"},{\"font\":{\"color\":\"#FFFFFF\",\"size\":7},\"showarrow\":false,\"text\":\"0.49\",\"x\":6,\"xref\":\"x\",\"y\":14,\"yref\":\"y\"},{\"font\":{\"color\":\"#FFFFFF\",\"size\":7},\"showarrow\":false,\"text\":\"0.47\",\"x\":7,\"xref\":\"x\",\"y\":14,\"yref\":\"y\"},{\"font\":{\"color\":\"#FFFFFF\",\"size\":7},\"showarrow\":false,\"text\":\"0.44\",\"x\":8,\"xref\":\"x\",\"y\":14,\"yref\":\"y\"},{\"font\":{\"color\":\"#FFFFFF\",\"size\":7},\"showarrow\":false,\"text\":\"0.44\",\"x\":9,\"xref\":\"x\",\"y\":14,\"yref\":\"y\"},{\"font\":{\"color\":\"#FFFFFF\",\"size\":7},\"showarrow\":false,\"text\":\"0.45\",\"x\":10,\"xref\":\"x\",\"y\":14,\"yref\":\"y\"},{\"font\":{\"color\":\"#FFFFFF\",\"size\":7},\"showarrow\":false,\"text\":\"0.46\",\"x\":11,\"xref\":\"x\",\"y\":14,\"yref\":\"y\"},{\"font\":{\"color\":\"#FFFFFF\",\"size\":7},\"showarrow\":false,\"text\":\"0.45\",\"x\":12,\"xref\":\"x\",\"y\":14,\"yref\":\"y\"},{\"font\":{\"color\":\"#FFFFFF\",\"size\":7},\"showarrow\":false,\"text\":\"0.42\",\"x\":13,\"xref\":\"x\",\"y\":14,\"yref\":\"y\"},{\"font\":{\"color\":\"#FFFFFF\",\"size\":7},\"showarrow\":false,\"text\":\"0.41\",\"x\":14,\"xref\":\"x\",\"y\":14,\"yref\":\"y\"},{\"font\":{\"color\":\"#FFFFFF\",\"size\":7},\"showarrow\":false,\"text\":\"0.4\",\"x\":15,\"xref\":\"x\",\"y\":14,\"yref\":\"y\"},{\"font\":{\"color\":\"#FFFFFF\",\"size\":7},\"showarrow\":false,\"text\":\"0.41\",\"x\":16,\"xref\":\"x\",\"y\":14,\"yref\":\"y\"},{\"font\":{\"color\":\"#FFFFFF\",\"size\":7},\"showarrow\":false,\"text\":\"0.41\",\"x\":17,\"xref\":\"x\",\"y\":14,\"yref\":\"y\"},{\"font\":{\"color\":\"#FFFFFF\",\"size\":7},\"showarrow\":false,\"text\":\"0.41\",\"x\":18,\"xref\":\"x\",\"y\":14,\"yref\":\"y\"},{\"font\":{\"color\":\"#000000\",\"size\":7},\"showarrow\":false,\"text\":\"0.69\",\"x\":0,\"xref\":\"x\",\"y\":15,\"yref\":\"y\"},{\"font\":{\"color\":\"#000000\",\"size\":7},\"showarrow\":false,\"text\":\"0.66\",\"x\":1,\"xref\":\"x\",\"y\":15,\"yref\":\"y\"},{\"font\":{\"color\":\"#000000\",\"size\":7},\"showarrow\":false,\"text\":\"0.65\",\"x\":2,\"xref\":\"x\",\"y\":15,\"yref\":\"y\"},{\"font\":{\"color\":\"#000000\",\"size\":7},\"showarrow\":false,\"text\":\"0.62\",\"x\":3,\"xref\":\"x\",\"y\":15,\"yref\":\"y\"},{\"font\":{\"color\":\"#000000\",\"size\":7},\"showarrow\":false,\"text\":\"0.59\",\"x\":4,\"xref\":\"x\",\"y\":15,\"yref\":\"y\"},{\"font\":{\"color\":\"#000000\",\"size\":7},\"showarrow\":false,\"text\":\"0.55\",\"x\":5,\"xref\":\"x\",\"y\":15,\"yref\":\"y\"},{\"font\":{\"color\":\"#FFFFFF\",\"size\":7},\"showarrow\":false,\"text\":\"0.52\",\"x\":6,\"xref\":\"x\",\"y\":15,\"yref\":\"y\"},{\"font\":{\"color\":\"#FFFFFF\",\"size\":7},\"showarrow\":false,\"text\":\"0.48\",\"x\":7,\"xref\":\"x\",\"y\":15,\"yref\":\"y\"},{\"font\":{\"color\":\"#FFFFFF\",\"size\":7},\"showarrow\":false,\"text\":\"0.47\",\"x\":8,\"xref\":\"x\",\"y\":15,\"yref\":\"y\"},{\"font\":{\"color\":\"#FFFFFF\",\"size\":7},\"showarrow\":false,\"text\":\"0.46\",\"x\":9,\"xref\":\"x\",\"y\":15,\"yref\":\"y\"},{\"font\":{\"color\":\"#FFFFFF\",\"size\":7},\"showarrow\":false,\"text\":\"0.46\",\"x\":10,\"xref\":\"x\",\"y\":15,\"yref\":\"y\"},{\"font\":{\"color\":\"#FFFFFF\",\"size\":7},\"showarrow\":false,\"text\":\"0.46\",\"x\":11,\"xref\":\"x\",\"y\":15,\"yref\":\"y\"},{\"font\":{\"color\":\"#FFFFFF\",\"size\":7},\"showarrow\":false,\"text\":\"0.46\",\"x\":12,\"xref\":\"x\",\"y\":15,\"yref\":\"y\"},{\"font\":{\"color\":\"#FFFFFF\",\"size\":7},\"showarrow\":false,\"text\":\"0.43\",\"x\":13,\"xref\":\"x\",\"y\":15,\"yref\":\"y\"},{\"font\":{\"color\":\"#FFFFFF\",\"size\":7},\"showarrow\":false,\"text\":\"0.42\",\"x\":14,\"xref\":\"x\",\"y\":15,\"yref\":\"y\"},{\"font\":{\"color\":\"#FFFFFF\",\"size\":7},\"showarrow\":false,\"text\":\"0.41\",\"x\":15,\"xref\":\"x\",\"y\":15,\"yref\":\"y\"},{\"font\":{\"color\":\"#FFFFFF\",\"size\":7},\"showarrow\":false,\"text\":\"0.41\",\"x\":16,\"xref\":\"x\",\"y\":15,\"yref\":\"y\"},{\"font\":{\"color\":\"#FFFFFF\",\"size\":7},\"showarrow\":false,\"text\":\"0.42\",\"x\":17,\"xref\":\"x\",\"y\":15,\"yref\":\"y\"},{\"font\":{\"color\":\"#FFFFFF\",\"size\":7},\"showarrow\":false,\"text\":\"0.42\",\"x\":18,\"xref\":\"x\",\"y\":15,\"yref\":\"y\"},{\"font\":{\"color\":\"#000000\",\"size\":7},\"showarrow\":false,\"text\":\"0.7\",\"x\":0,\"xref\":\"x\",\"y\":16,\"yref\":\"y\"},{\"font\":{\"color\":\"#000000\",\"size\":7},\"showarrow\":false,\"text\":\"0.69\",\"x\":1,\"xref\":\"x\",\"y\":16,\"yref\":\"y\"},{\"font\":{\"color\":\"#000000\",\"size\":7},\"showarrow\":false,\"text\":\"0.68\",\"x\":2,\"xref\":\"x\",\"y\":16,\"yref\":\"y\"},{\"font\":{\"color\":\"#000000\",\"size\":7},\"showarrow\":false,\"text\":\"0.65\",\"x\":3,\"xref\":\"x\",\"y\":16,\"yref\":\"y\"},{\"font\":{\"color\":\"#000000\",\"size\":7},\"showarrow\":false,\"text\":\"0.62\",\"x\":4,\"xref\":\"x\",\"y\":16,\"yref\":\"y\"},{\"font\":{\"color\":\"#000000\",\"size\":7},\"showarrow\":false,\"text\":\"0.58\",\"x\":5,\"xref\":\"x\",\"y\":16,\"yref\":\"y\"},{\"font\":{\"color\":\"#000000\",\"size\":7},\"showarrow\":false,\"text\":\"0.54\",\"x\":6,\"xref\":\"x\",\"y\":16,\"yref\":\"y\"},{\"font\":{\"color\":\"#FFFFFF\",\"size\":7},\"showarrow\":false,\"text\":\"0.5\",\"x\":7,\"xref\":\"x\",\"y\":16,\"yref\":\"y\"},{\"font\":{\"color\":\"#FFFFFF\",\"size\":7},\"showarrow\":false,\"text\":\"0.48\",\"x\":8,\"xref\":\"x\",\"y\":16,\"yref\":\"y\"},{\"font\":{\"color\":\"#FFFFFF\",\"size\":7},\"showarrow\":false,\"text\":\"0.47\",\"x\":9,\"xref\":\"x\",\"y\":16,\"yref\":\"y\"},{\"font\":{\"color\":\"#FFFFFF\",\"size\":7},\"showarrow\":false,\"text\":\"0.47\",\"x\":10,\"xref\":\"x\",\"y\":16,\"yref\":\"y\"},{\"font\":{\"color\":\"#FFFFFF\",\"size\":7},\"showarrow\":false,\"text\":\"0.47\",\"x\":11,\"xref\":\"x\",\"y\":16,\"yref\":\"y\"},{\"font\":{\"color\":\"#FFFFFF\",\"size\":7},\"showarrow\":false,\"text\":\"0.44\",\"x\":12,\"xref\":\"x\",\"y\":16,\"yref\":\"y\"},{\"font\":{\"color\":\"#FFFFFF\",\"size\":7},\"showarrow\":false,\"text\":\"0.44\",\"x\":13,\"xref\":\"x\",\"y\":16,\"yref\":\"y\"},{\"font\":{\"color\":\"#FFFFFF\",\"size\":7},\"showarrow\":false,\"text\":\"0.42\",\"x\":14,\"xref\":\"x\",\"y\":16,\"yref\":\"y\"},{\"font\":{\"color\":\"#FFFFFF\",\"size\":7},\"showarrow\":false,\"text\":\"0.42\",\"x\":15,\"xref\":\"x\",\"y\":16,\"yref\":\"y\"},{\"font\":{\"color\":\"#FFFFFF\",\"size\":7},\"showarrow\":false,\"text\":\"0.43\",\"x\":16,\"xref\":\"x\",\"y\":16,\"yref\":\"y\"},{\"font\":{\"color\":\"#FFFFFF\",\"size\":7},\"showarrow\":false,\"text\":\"0.43\",\"x\":17,\"xref\":\"x\",\"y\":16,\"yref\":\"y\"},{\"font\":{\"color\":\"#FFFFFF\",\"size\":7},\"showarrow\":false,\"text\":\"0.43\",\"x\":18,\"xref\":\"x\",\"y\":16,\"yref\":\"y\"},{\"font\":{\"color\":\"#000000\",\"size\":7},\"showarrow\":false,\"text\":\"0.72\",\"x\":0,\"xref\":\"x\",\"y\":17,\"yref\":\"y\"},{\"font\":{\"color\":\"#000000\",\"size\":7},\"showarrow\":false,\"text\":\"0.71\",\"x\":1,\"xref\":\"x\",\"y\":17,\"yref\":\"y\"},{\"font\":{\"color\":\"#000000\",\"size\":7},\"showarrow\":false,\"text\":\"0.69\",\"x\":2,\"xref\":\"x\",\"y\":17,\"yref\":\"y\"},{\"font\":{\"color\":\"#000000\",\"size\":7},\"showarrow\":false,\"text\":\"0.67\",\"x\":3,\"xref\":\"x\",\"y\":17,\"yref\":\"y\"},{\"font\":{\"color\":\"#000000\",\"size\":7},\"showarrow\":false,\"text\":\"0.64\",\"x\":4,\"xref\":\"x\",\"y\":17,\"yref\":\"y\"},{\"font\":{\"color\":\"#000000\",\"size\":7},\"showarrow\":false,\"text\":\"0.6\",\"x\":5,\"xref\":\"x\",\"y\":17,\"yref\":\"y\"},{\"font\":{\"color\":\"#000000\",\"size\":7},\"showarrow\":false,\"text\":\"0.57\",\"x\":6,\"xref\":\"x\",\"y\":17,\"yref\":\"y\"},{\"font\":{\"color\":\"#FFFFFF\",\"size\":7},\"showarrow\":false,\"text\":\"0.52\",\"x\":7,\"xref\":\"x\",\"y\":17,\"yref\":\"y\"},{\"font\":{\"color\":\"#FFFFFF\",\"size\":7},\"showarrow\":false,\"text\":\"0.49\",\"x\":8,\"xref\":\"x\",\"y\":17,\"yref\":\"y\"},{\"font\":{\"color\":\"#FFFFFF\",\"size\":7},\"showarrow\":false,\"text\":\"0.47\",\"x\":9,\"xref\":\"x\",\"y\":17,\"yref\":\"y\"},{\"font\":{\"color\":\"#FFFFFF\",\"size\":7},\"showarrow\":false,\"text\":\"0.47\",\"x\":10,\"xref\":\"x\",\"y\":17,\"yref\":\"y\"},{\"font\":{\"color\":\"#FFFFFF\",\"size\":7},\"showarrow\":false,\"text\":\"0.46\",\"x\":11,\"xref\":\"x\",\"y\":17,\"yref\":\"y\"},{\"font\":{\"color\":\"#FFFFFF\",\"size\":7},\"showarrow\":false,\"text\":\"0.45\",\"x\":12,\"xref\":\"x\",\"y\":17,\"yref\":\"y\"},{\"font\":{\"color\":\"#FFFFFF\",\"size\":7},\"showarrow\":false,\"text\":\"0.43\",\"x\":13,\"xref\":\"x\",\"y\":17,\"yref\":\"y\"},{\"font\":{\"color\":\"#FFFFFF\",\"size\":7},\"showarrow\":false,\"text\":\"0.43\",\"x\":14,\"xref\":\"x\",\"y\":17,\"yref\":\"y\"},{\"font\":{\"color\":\"#FFFFFF\",\"size\":7},\"showarrow\":false,\"text\":\"0.43\",\"x\":15,\"xref\":\"x\",\"y\":17,\"yref\":\"y\"},{\"font\":{\"color\":\"#FFFFFF\",\"size\":7},\"showarrow\":false,\"text\":\"0.43\",\"x\":16,\"xref\":\"x\",\"y\":17,\"yref\":\"y\"},{\"font\":{\"color\":\"#FFFFFF\",\"size\":7},\"showarrow\":false,\"text\":\"0.43\",\"x\":17,\"xref\":\"x\",\"y\":17,\"yref\":\"y\"},{\"font\":{\"color\":\"#FFFFFF\",\"size\":7},\"showarrow\":false,\"text\":\"0.43\",\"x\":18,\"xref\":\"x\",\"y\":17,\"yref\":\"y\"},{\"font\":{\"color\":\"#000000\",\"size\":7},\"showarrow\":false,\"text\":\"0.73\",\"x\":0,\"xref\":\"x\",\"y\":18,\"yref\":\"y\"},{\"font\":{\"color\":\"#000000\",\"size\":7},\"showarrow\":false,\"text\":\"0.71\",\"x\":1,\"xref\":\"x\",\"y\":18,\"yref\":\"y\"},{\"font\":{\"color\":\"#000000\",\"size\":7},\"showarrow\":false,\"text\":\"0.69\",\"x\":2,\"xref\":\"x\",\"y\":18,\"yref\":\"y\"},{\"font\":{\"color\":\"#000000\",\"size\":7},\"showarrow\":false,\"text\":\"0.67\",\"x\":3,\"xref\":\"x\",\"y\":18,\"yref\":\"y\"},{\"font\":{\"color\":\"#000000\",\"size\":7},\"showarrow\":false,\"text\":\"0.64\",\"x\":4,\"xref\":\"x\",\"y\":18,\"yref\":\"y\"},{\"font\":{\"color\":\"#000000\",\"size\":7},\"showarrow\":false,\"text\":\"0.61\",\"x\":5,\"xref\":\"x\",\"y\":18,\"yref\":\"y\"},{\"font\":{\"color\":\"#000000\",\"size\":7},\"showarrow\":false,\"text\":\"0.58\",\"x\":6,\"xref\":\"x\",\"y\":18,\"yref\":\"y\"},{\"font\":{\"color\":\"#000000\",\"size\":7},\"showarrow\":false,\"text\":\"0.53\",\"x\":7,\"xref\":\"x\",\"y\":18,\"yref\":\"y\"},{\"font\":{\"color\":\"#FFFFFF\",\"size\":7},\"showarrow\":false,\"text\":\"0.49\",\"x\":8,\"xref\":\"x\",\"y\":18,\"yref\":\"y\"},{\"font\":{\"color\":\"#FFFFFF\",\"size\":7},\"showarrow\":false,\"text\":\"0.47\",\"x\":9,\"xref\":\"x\",\"y\":18,\"yref\":\"y\"},{\"font\":{\"color\":\"#FFFFFF\",\"size\":7},\"showarrow\":false,\"text\":\"0.47\",\"x\":10,\"xref\":\"x\",\"y\":18,\"yref\":\"y\"},{\"font\":{\"color\":\"#FFFFFF\",\"size\":7},\"showarrow\":false,\"text\":\"0.46\",\"x\":11,\"xref\":\"x\",\"y\":18,\"yref\":\"y\"},{\"font\":{\"color\":\"#FFFFFF\",\"size\":7},\"showarrow\":false,\"text\":\"0.44\",\"x\":12,\"xref\":\"x\",\"y\":18,\"yref\":\"y\"},{\"font\":{\"color\":\"#FFFFFF\",\"size\":7},\"showarrow\":false,\"text\":\"0.43\",\"x\":13,\"xref\":\"x\",\"y\":18,\"yref\":\"y\"},{\"font\":{\"color\":\"#FFFFFF\",\"size\":7},\"showarrow\":false,\"text\":\"0.43\",\"x\":14,\"xref\":\"x\",\"y\":18,\"yref\":\"y\"},{\"font\":{\"color\":\"#FFFFFF\",\"size\":7},\"showarrow\":false,\"text\":\"0.43\",\"x\":15,\"xref\":\"x\",\"y\":18,\"yref\":\"y\"},{\"font\":{\"color\":\"#FFFFFF\",\"size\":7},\"showarrow\":false,\"text\":\"0.44\",\"x\":16,\"xref\":\"x\",\"y\":18,\"yref\":\"y\"},{\"font\":{\"color\":\"#FFFFFF\",\"size\":7},\"showarrow\":false,\"text\":\"0.44\",\"x\":17,\"xref\":\"x\",\"y\":18,\"yref\":\"y\"},{\"font\":{\"color\":\"#FFFFFF\",\"size\":7},\"showarrow\":false,\"text\":\"0.44\",\"x\":18,\"xref\":\"x\",\"y\":18,\"yref\":\"y\"}],\"template\":{\"data\":{\"barpolar\":[{\"marker\":{\"line\":{\"color\":\"#E5ECF6\",\"width\":0.5},\"pattern\":{\"fillmode\":\"overlay\",\"size\":10,\"solidity\":0.2}},\"type\":\"barpolar\"}],\"bar\":[{\"error_x\":{\"color\":\"#2a3f5f\"},\"error_y\":{\"color\":\"#2a3f5f\"},\"marker\":{\"line\":{\"color\":\"#E5ECF6\",\"width\":0.5},\"pattern\":{\"fillmode\":\"overlay\",\"size\":10,\"solidity\":0.2}},\"type\":\"bar\"}],\"carpet\":[{\"aaxis\":{\"endlinecolor\":\"#2a3f5f\",\"gridcolor\":\"white\",\"linecolor\":\"white\",\"minorgridcolor\":\"white\",\"startlinecolor\":\"#2a3f5f\"},\"baxis\":{\"endlinecolor\":\"#2a3f5f\",\"gridcolor\":\"white\",\"linecolor\":\"white\",\"minorgridcolor\":\"white\",\"startlinecolor\":\"#2a3f5f\"},\"type\":\"carpet\"}],\"choropleth\":[{\"colorbar\":{\"outlinewidth\":0,\"ticks\":\"\"},\"type\":\"choropleth\"}],\"contourcarpet\":[{\"colorbar\":{\"outlinewidth\":0,\"ticks\":\"\"},\"type\":\"contourcarpet\"}],\"contour\":[{\"colorbar\":{\"outlinewidth\":0,\"ticks\":\"\"},\"colorscale\":[[0.0,\"#0d0887\"],[0.1111111111111111,\"#46039f\"],[0.2222222222222222,\"#7201a8\"],[0.3333333333333333,\"#9c179e\"],[0.4444444444444444,\"#bd3786\"],[0.5555555555555556,\"#d8576b\"],[0.6666666666666666,\"#ed7953\"],[0.7777777777777778,\"#fb9f3a\"],[0.8888888888888888,\"#fdca26\"],[1.0,\"#f0f921\"]],\"type\":\"contour\"}],\"heatmapgl\":[{\"colorbar\":{\"outlinewidth\":0,\"ticks\":\"\"},\"colorscale\":[[0.0,\"#0d0887\"],[0.1111111111111111,\"#46039f\"],[0.2222222222222222,\"#7201a8\"],[0.3333333333333333,\"#9c179e\"],[0.4444444444444444,\"#bd3786\"],[0.5555555555555556,\"#d8576b\"],[0.6666666666666666,\"#ed7953\"],[0.7777777777777778,\"#fb9f3a\"],[0.8888888888888888,\"#fdca26\"],[1.0,\"#f0f921\"]],\"type\":\"heatmapgl\"}],\"heatmap\":[{\"colorbar\":{\"outlinewidth\":0,\"ticks\":\"\"},\"colorscale\":[[0.0,\"#0d0887\"],[0.1111111111111111,\"#46039f\"],[0.2222222222222222,\"#7201a8\"],[0.3333333333333333,\"#9c179e\"],[0.4444444444444444,\"#bd3786\"],[0.5555555555555556,\"#d8576b\"],[0.6666666666666666,\"#ed7953\"],[0.7777777777777778,\"#fb9f3a\"],[0.8888888888888888,\"#fdca26\"],[1.0,\"#f0f921\"]],\"type\":\"heatmap\"}],\"histogram2dcontour\":[{\"colorbar\":{\"outlinewidth\":0,\"ticks\":\"\"},\"colorscale\":[[0.0,\"#0d0887\"],[0.1111111111111111,\"#46039f\"],[0.2222222222222222,\"#7201a8\"],[0.3333333333333333,\"#9c179e\"],[0.4444444444444444,\"#bd3786\"],[0.5555555555555556,\"#d8576b\"],[0.6666666666666666,\"#ed7953\"],[0.7777777777777778,\"#fb9f3a\"],[0.8888888888888888,\"#fdca26\"],[1.0,\"#f0f921\"]],\"type\":\"histogram2dcontour\"}],\"histogram2d\":[{\"colorbar\":{\"outlinewidth\":0,\"ticks\":\"\"},\"colorscale\":[[0.0,\"#0d0887\"],[0.1111111111111111,\"#46039f\"],[0.2222222222222222,\"#7201a8\"],[0.3333333333333333,\"#9c179e\"],[0.4444444444444444,\"#bd3786\"],[0.5555555555555556,\"#d8576b\"],[0.6666666666666666,\"#ed7953\"],[0.7777777777777778,\"#fb9f3a\"],[0.8888888888888888,\"#fdca26\"],[1.0,\"#f0f921\"]],\"type\":\"histogram2d\"}],\"histogram\":[{\"marker\":{\"pattern\":{\"fillmode\":\"overlay\",\"size\":10,\"solidity\":0.2}},\"type\":\"histogram\"}],\"mesh3d\":[{\"colorbar\":{\"outlinewidth\":0,\"ticks\":\"\"},\"type\":\"mesh3d\"}],\"parcoords\":[{\"line\":{\"colorbar\":{\"outlinewidth\":0,\"ticks\":\"\"}},\"type\":\"parcoords\"}],\"pie\":[{\"automargin\":true,\"type\":\"pie\"}],\"scatter3d\":[{\"line\":{\"colorbar\":{\"outlinewidth\":0,\"ticks\":\"\"}},\"marker\":{\"colorbar\":{\"outlinewidth\":0,\"ticks\":\"\"}},\"type\":\"scatter3d\"}],\"scattercarpet\":[{\"marker\":{\"colorbar\":{\"outlinewidth\":0,\"ticks\":\"\"}},\"type\":\"scattercarpet\"}],\"scattergeo\":[{\"marker\":{\"colorbar\":{\"outlinewidth\":0,\"ticks\":\"\"}},\"type\":\"scattergeo\"}],\"scattergl\":[{\"marker\":{\"colorbar\":{\"outlinewidth\":0,\"ticks\":\"\"}},\"type\":\"scattergl\"}],\"scattermapbox\":[{\"marker\":{\"colorbar\":{\"outlinewidth\":0,\"ticks\":\"\"}},\"type\":\"scattermapbox\"}],\"scatterpolargl\":[{\"marker\":{\"colorbar\":{\"outlinewidth\":0,\"ticks\":\"\"}},\"type\":\"scatterpolargl\"}],\"scatterpolar\":[{\"marker\":{\"colorbar\":{\"outlinewidth\":0,\"ticks\":\"\"}},\"type\":\"scatterpolar\"}],\"scatter\":[{\"marker\":{\"colorbar\":{\"outlinewidth\":0,\"ticks\":\"\"}},\"type\":\"scatter\"}],\"scatterternary\":[{\"marker\":{\"colorbar\":{\"outlinewidth\":0,\"ticks\":\"\"}},\"type\":\"scatterternary\"}],\"surface\":[{\"colorbar\":{\"outlinewidth\":0,\"ticks\":\"\"},\"colorscale\":[[0.0,\"#0d0887\"],[0.1111111111111111,\"#46039f\"],[0.2222222222222222,\"#7201a8\"],[0.3333333333333333,\"#9c179e\"],[0.4444444444444444,\"#bd3786\"],[0.5555555555555556,\"#d8576b\"],[0.6666666666666666,\"#ed7953\"],[0.7777777777777778,\"#fb9f3a\"],[0.8888888888888888,\"#fdca26\"],[1.0,\"#f0f921\"]],\"type\":\"surface\"}],\"table\":[{\"cells\":{\"fill\":{\"color\":\"#EBF0F8\"},\"line\":{\"color\":\"white\"}},\"header\":{\"fill\":{\"color\":\"#C8D4E3\"},\"line\":{\"color\":\"white\"}},\"type\":\"table\"}]},\"layout\":{\"annotationdefaults\":{\"arrowcolor\":\"#2a3f5f\",\"arrowhead\":0,\"arrowwidth\":1},\"autotypenumbers\":\"strict\",\"coloraxis\":{\"colorbar\":{\"outlinewidth\":0,\"ticks\":\"\"}},\"colorscale\":{\"diverging\":[[0,\"#8e0152\"],[0.1,\"#c51b7d\"],[0.2,\"#de77ae\"],[0.3,\"#f1b6da\"],[0.4,\"#fde0ef\"],[0.5,\"#f7f7f7\"],[0.6,\"#e6f5d0\"],[0.7,\"#b8e186\"],[0.8,\"#7fbc41\"],[0.9,\"#4d9221\"],[1,\"#276419\"]],\"sequential\":[[0.0,\"#0d0887\"],[0.1111111111111111,\"#46039f\"],[0.2222222222222222,\"#7201a8\"],[0.3333333333333333,\"#9c179e\"],[0.4444444444444444,\"#bd3786\"],[0.5555555555555556,\"#d8576b\"],[0.6666666666666666,\"#ed7953\"],[0.7777777777777778,\"#fb9f3a\"],[0.8888888888888888,\"#fdca26\"],[1.0,\"#f0f921\"]],\"sequentialminus\":[[0.0,\"#0d0887\"],[0.1111111111111111,\"#46039f\"],[0.2222222222222222,\"#7201a8\"],[0.3333333333333333,\"#9c179e\"],[0.4444444444444444,\"#bd3786\"],[0.5555555555555556,\"#d8576b\"],[0.6666666666666666,\"#ed7953\"],[0.7777777777777778,\"#fb9f3a\"],[0.8888888888888888,\"#fdca26\"],[1.0,\"#f0f921\"]]},\"colorway\":[\"#636efa\",\"#EF553B\",\"#00cc96\",\"#ab63fa\",\"#FFA15A\",\"#19d3f3\",\"#FF6692\",\"#B6E880\",\"#FF97FF\",\"#FECB52\"],\"font\":{\"color\":\"#2a3f5f\"},\"geo\":{\"bgcolor\":\"white\",\"lakecolor\":\"white\",\"landcolor\":\"#E5ECF6\",\"showlakes\":true,\"showland\":true,\"subunitcolor\":\"white\"},\"hoverlabel\":{\"align\":\"left\"},\"hovermode\":\"closest\",\"mapbox\":{\"style\":\"light\"},\"paper_bgcolor\":\"white\",\"plot_bgcolor\":\"#E5ECF6\",\"polar\":{\"angularaxis\":{\"gridcolor\":\"white\",\"linecolor\":\"white\",\"ticks\":\"\"},\"bgcolor\":\"#E5ECF6\",\"radialaxis\":{\"gridcolor\":\"white\",\"linecolor\":\"white\",\"ticks\":\"\"}},\"scene\":{\"xaxis\":{\"backgroundcolor\":\"#E5ECF6\",\"gridcolor\":\"white\",\"gridwidth\":2,\"linecolor\":\"white\",\"showbackground\":true,\"ticks\":\"\",\"zerolinecolor\":\"white\"},\"yaxis\":{\"backgroundcolor\":\"#E5ECF6\",\"gridcolor\":\"white\",\"gridwidth\":2,\"linecolor\":\"white\",\"showbackground\":true,\"ticks\":\"\",\"zerolinecolor\":\"white\"},\"zaxis\":{\"backgroundcolor\":\"#E5ECF6\",\"gridcolor\":\"white\",\"gridwidth\":2,\"linecolor\":\"white\",\"showbackground\":true,\"ticks\":\"\",\"zerolinecolor\":\"white\"}},\"shapedefaults\":{\"line\":{\"color\":\"#2a3f5f\"}},\"ternary\":{\"aaxis\":{\"gridcolor\":\"white\",\"linecolor\":\"white\",\"ticks\":\"\"},\"baxis\":{\"gridcolor\":\"white\",\"linecolor\":\"white\",\"ticks\":\"\"},\"bgcolor\":\"#E5ECF6\",\"caxis\":{\"gridcolor\":\"white\",\"linecolor\":\"white\",\"ticks\":\"\"}},\"title\":{\"x\":0.05},\"xaxis\":{\"automargin\":true,\"gridcolor\":\"white\",\"linecolor\":\"white\",\"ticks\":\"\",\"title\":{\"standoff\":15},\"zerolinecolor\":\"white\",\"zerolinewidth\":2},\"yaxis\":{\"automargin\":true,\"gridcolor\":\"white\",\"linecolor\":\"white\",\"ticks\":\"\",\"title\":{\"standoff\":15},\"zerolinecolor\":\"white\",\"zerolinewidth\":2}}},\"title\":{\"text\":\"Not Spiled\"},\"xaxis\":{\"gridcolor\":\"rgb(0, 0, 0)\",\"showticklabels\":false,\"side\":\"top\",\"ticks\":\"\"},\"yaxis\":{\"showticklabels\":false,\"ticks\":\"\",\"ticksuffix\":\"  \"}},                        {\"responsive\": true}                    ).then(function(){\n",
       "                            \n",
       "var gd = document.getElementById('2ae92cec-c2fc-4e4e-8d02-f0fefd856b50');\n",
       "var x = new MutationObserver(function (mutations, observer) {{\n",
       "        var display = window.getComputedStyle(gd).display;\n",
       "        if (!display || display === 'none') {{\n",
       "            console.log([gd, 'removed!']);\n",
       "            Plotly.purge(gd);\n",
       "            observer.disconnect();\n",
       "        }}\n",
       "}});\n",
       "\n",
       "// Listen for the removal of the full notebook cells\n",
       "var notebookContainer = gd.closest('#notebook-container');\n",
       "if (notebookContainer) {{\n",
       "    x.observe(notebookContainer, {childList: true});\n",
       "}}\n",
       "\n",
       "// Listen for the clearing of the current output cell\n",
       "var outputEl = gd.closest('.output');\n",
       "if (outputEl) {{\n",
       "    x.observe(outputEl, {childList: true});\n",
       "}}\n",
       "\n",
       "                        })                };                });            </script>        </div>"
      ]
     },
     "metadata": {},
     "output_type": "display_data"
    },
    {
     "data": {
      "text/html": [
       "        <script type=\"text/javascript\">\n",
       "        window.PlotlyConfig = {MathJaxConfig: 'local'};\n",
       "        if (window.MathJax) {MathJax.Hub.Config({SVG: {font: \"STIX-Web\"}});}\n",
       "        if (typeof require !== 'undefined') {\n",
       "        require.undef(\"plotly\");\n",
       "        requirejs.config({\n",
       "            paths: {\n",
       "                'plotly': ['https://cdn.plot.ly/plotly-2.9.0.min']\n",
       "            }\n",
       "        });\n",
       "        require(['plotly'], function(Plotly) {\n",
       "            window._Plotly = Plotly;\n",
       "        });\n",
       "        }\n",
       "        </script>\n",
       "        "
      ]
     },
     "metadata": {},
     "output_type": "display_data"
    },
    {
     "data": {
      "application/vnd.plotly.v1+json": {
       "config": {
        "linkText": "Export to plot.ly",
        "plotlyServerURL": "https://plot.ly",
        "showLink": false
       },
       "data": [
        {
         "colorscale": [
          [
           0,
           "#0d0887"
          ],
          [
           0.1111111111111111,
           "#46039f"
          ],
          [
           0.2222222222222222,
           "#7201a8"
          ],
          [
           0.3333333333333333,
           "#9c179e"
          ],
          [
           0.4444444444444444,
           "#bd3786"
          ],
          [
           0.5555555555555556,
           "#d8576b"
          ],
          [
           0.6666666666666666,
           "#ed7953"
          ],
          [
           0.7777777777777778,
           "#fb9f3a"
          ],
          [
           0.8888888888888888,
           "#fdca26"
          ],
          [
           1,
           "#f0f921"
          ]
         ],
         "reversescale": false,
         "showscale": true,
         "type": "heatmap",
         "z": [
          [
           0.36,
           0.37,
           0.38,
           0.39,
           0.39,
           0.39,
           0.4,
           0.4,
           0.4,
           0.42,
           0.42,
           0.43,
           0.43,
           0.44,
           0.44,
           0.44,
           0.44,
           0.44,
           0.44
          ],
          [
           0.34,
           0.36,
           0.37,
           0.39,
           0.38,
           0.39,
           0.39,
           0.4,
           0.4,
           0.41,
           0.42,
           0.42,
           0.43,
           0.44,
           0.43,
           0.44,
           0.44,
           0.44,
           0.44
          ],
          [
           0.34,
           0.35,
           0.37,
           0.37,
           0.38,
           0.38,
           0.39,
           0.4,
           0.4,
           0.41,
           0.41,
           0.42,
           0.43,
           0.44,
           0.43,
           0.44,
           0.43,
           0.44,
           0.44
          ],
          [
           0.34,
           0.34,
           0.35,
           0.36,
           0.38,
           0.38,
           0.38,
           0.39,
           0.4,
           0.4,
           0.41,
           0.42,
           0.43,
           0.43,
           0.43,
           0.43,
           0.46,
           0.46,
           0.46
          ],
          [
           0.33,
           0.34,
           0.35,
           0.35,
           0.36,
           0.37,
           0.37,
           0.37,
           0.38,
           0.39,
           0.4,
           0.41,
           0.42,
           0.43,
           0.45,
           0.47,
           0.48,
           0.48,
           0.48
          ],
          [
           0.33,
           0.34,
           0.35,
           0.35,
           0.36,
           0.35,
           0.37,
           0.37,
           0.38,
           0.38,
           0.39,
           0.4,
           0.43,
           0.44,
           0.49,
           0.49,
           0.49,
           0.49,
           0.49
          ],
          [
           0.33,
           0.33,
           0.34,
           0.34,
           0.34,
           0.35,
           0.36,
           0.37,
           0.38,
           0.38,
           0.39,
           0.4,
           0.43,
           0.47,
           0.51,
           0.52,
           0.52,
           0.51,
           0.52
          ],
          [
           0.33,
           0.33,
           0.34,
           0.34,
           0.34,
           0.35,
           0.36,
           0.37,
           0.37,
           0.38,
           0.4,
           0.42,
           0.44,
           0.49,
           0.52,
           0.54,
           0.54,
           0.55,
           0.57
          ],
          [
           0.33,
           0.33,
           0.34,
           0.35,
           0.35,
           0.35,
           0.36,
           0.36,
           0.37,
           0.39,
           0.4,
           0.42,
           0.45,
           0.5,
           0.54,
           0.56,
           0.56,
           0.57,
           0.59
          ],
          [
           0.32,
           0.32,
           0.34,
           0.34,
           0.35,
           0.35,
           0.36,
           0.37,
           0.38,
           0.39,
           0.41,
           0.43,
           0.48,
           0.51,
           0.54,
           0.57,
           0.58,
           0.59,
           0.59
          ],
          [
           0.32,
           0.33,
           0.33,
           0.34,
           0.35,
           0.35,
           0.36,
           0.37,
           0.39,
           0.4,
           0.43,
           0.45,
           0.49,
           0.53,
           0.56,
           0.58,
           0.59,
           0.59,
           0.6
          ],
          [
           0.32,
           0.33,
           0.33,
           0.34,
           0.36,
           0.36,
           0.36,
           0.37,
           0.38,
           0.4,
           0.44,
           0.48,
           0.52,
           0.55,
           0.58,
           0.59,
           0.6,
           0.6,
           0.6
          ],
          [
           0.32,
           0.33,
           0.32,
           0.33,
           0.35,
           0.36,
           0.36,
           0.37,
           0.4,
           0.43,
           0.45,
           0.5,
           0.53,
           0.57,
           0.59,
           0.61,
           0.62,
           0.63,
           0.64
          ],
          [
           0.31,
           0.32,
           0.34,
           0.34,
           0.35,
           0.37,
           0.38,
           0.39,
           0.44,
           0.45,
           0.48,
           0.52,
           0.55,
           0.57,
           0.61,
           0.64,
           0.65,
           0.64,
           0.65
          ],
          [
           0.32,
           0.33,
           0.33,
           0.34,
           0.36,
           0.37,
           0.39,
           0.42,
           0.45,
           0.46,
           0.5,
           0.52,
           0.54,
           0.59,
           0.62,
           0.64,
           0.66,
           0.66,
           0.66
          ],
          [
           0.32,
           0.33,
           0.34,
           0.34,
           0.36,
           0.39,
           0.4,
           0.43,
           0.45,
           0.48,
           0.5,
           0.52,
           0.57,
           0.61,
           0.64,
           0.66,
           0.67,
           0.67,
           0.67
          ],
          [
           0.33,
           0.33,
           0.34,
           0.35,
           0.36,
           0.39,
           0.4,
           0.42,
           0.46,
           0.49,
           0.51,
           0.54,
           0.6,
           0.62,
           0.64,
           0.66,
           0.68,
           0.69,
           0.68
          ],
          [
           0.32,
           0.33,
           0.34,
           0.36,
           0.37,
           0.39,
           0.41,
           0.45,
           0.48,
           0.5,
           0.52,
           0.57,
           0.61,
           0.62,
           0.64,
           0.66,
           0.69,
           0.69,
           0.69
          ],
          [
           0.32,
           0.33,
           0.34,
           0.36,
           0.36,
           0.39,
           0.41,
           0.44,
           0.49,
           0.51,
           0.54,
           0.57,
           0.61,
           0.62,
           0.64,
           0.65,
           0.68,
           0.69,
           0.69
          ]
         ]
        }
       ],
       "layout": {
        "annotations": [
         {
          "font": {
           "color": "#FFFFFF",
           "size": 7
          },
          "showarrow": false,
          "text": "0.36",
          "x": 0,
          "xref": "x",
          "y": 0,
          "yref": "y"
         },
         {
          "font": {
           "color": "#FFFFFF",
           "size": 7
          },
          "showarrow": false,
          "text": "0.37",
          "x": 1,
          "xref": "x",
          "y": 0,
          "yref": "y"
         },
         {
          "font": {
           "color": "#FFFFFF",
           "size": 7
          },
          "showarrow": false,
          "text": "0.38",
          "x": 2,
          "xref": "x",
          "y": 0,
          "yref": "y"
         },
         {
          "font": {
           "color": "#FFFFFF",
           "size": 7
          },
          "showarrow": false,
          "text": "0.39",
          "x": 3,
          "xref": "x",
          "y": 0,
          "yref": "y"
         },
         {
          "font": {
           "color": "#FFFFFF",
           "size": 7
          },
          "showarrow": false,
          "text": "0.39",
          "x": 4,
          "xref": "x",
          "y": 0,
          "yref": "y"
         },
         {
          "font": {
           "color": "#FFFFFF",
           "size": 7
          },
          "showarrow": false,
          "text": "0.39",
          "x": 5,
          "xref": "x",
          "y": 0,
          "yref": "y"
         },
         {
          "font": {
           "color": "#FFFFFF",
           "size": 7
          },
          "showarrow": false,
          "text": "0.4",
          "x": 6,
          "xref": "x",
          "y": 0,
          "yref": "y"
         },
         {
          "font": {
           "color": "#FFFFFF",
           "size": 7
          },
          "showarrow": false,
          "text": "0.4",
          "x": 7,
          "xref": "x",
          "y": 0,
          "yref": "y"
         },
         {
          "font": {
           "color": "#FFFFFF",
           "size": 7
          },
          "showarrow": false,
          "text": "0.4",
          "x": 8,
          "xref": "x",
          "y": 0,
          "yref": "y"
         },
         {
          "font": {
           "color": "#FFFFFF",
           "size": 7
          },
          "showarrow": false,
          "text": "0.42",
          "x": 9,
          "xref": "x",
          "y": 0,
          "yref": "y"
         },
         {
          "font": {
           "color": "#FFFFFF",
           "size": 7
          },
          "showarrow": false,
          "text": "0.42",
          "x": 10,
          "xref": "x",
          "y": 0,
          "yref": "y"
         },
         {
          "font": {
           "color": "#FFFFFF",
           "size": 7
          },
          "showarrow": false,
          "text": "0.43",
          "x": 11,
          "xref": "x",
          "y": 0,
          "yref": "y"
         },
         {
          "font": {
           "color": "#FFFFFF",
           "size": 7
          },
          "showarrow": false,
          "text": "0.43",
          "x": 12,
          "xref": "x",
          "y": 0,
          "yref": "y"
         },
         {
          "font": {
           "color": "#FFFFFF",
           "size": 7
          },
          "showarrow": false,
          "text": "0.44",
          "x": 13,
          "xref": "x",
          "y": 0,
          "yref": "y"
         },
         {
          "font": {
           "color": "#FFFFFF",
           "size": 7
          },
          "showarrow": false,
          "text": "0.44",
          "x": 14,
          "xref": "x",
          "y": 0,
          "yref": "y"
         },
         {
          "font": {
           "color": "#FFFFFF",
           "size": 7
          },
          "showarrow": false,
          "text": "0.44",
          "x": 15,
          "xref": "x",
          "y": 0,
          "yref": "y"
         },
         {
          "font": {
           "color": "#FFFFFF",
           "size": 7
          },
          "showarrow": false,
          "text": "0.44",
          "x": 16,
          "xref": "x",
          "y": 0,
          "yref": "y"
         },
         {
          "font": {
           "color": "#FFFFFF",
           "size": 7
          },
          "showarrow": false,
          "text": "0.44",
          "x": 17,
          "xref": "x",
          "y": 0,
          "yref": "y"
         },
         {
          "font": {
           "color": "#FFFFFF",
           "size": 7
          },
          "showarrow": false,
          "text": "0.44",
          "x": 18,
          "xref": "x",
          "y": 0,
          "yref": "y"
         },
         {
          "font": {
           "color": "#FFFFFF",
           "size": 7
          },
          "showarrow": false,
          "text": "0.34",
          "x": 0,
          "xref": "x",
          "y": 1,
          "yref": "y"
         },
         {
          "font": {
           "color": "#FFFFFF",
           "size": 7
          },
          "showarrow": false,
          "text": "0.36",
          "x": 1,
          "xref": "x",
          "y": 1,
          "yref": "y"
         },
         {
          "font": {
           "color": "#FFFFFF",
           "size": 7
          },
          "showarrow": false,
          "text": "0.37",
          "x": 2,
          "xref": "x",
          "y": 1,
          "yref": "y"
         },
         {
          "font": {
           "color": "#FFFFFF",
           "size": 7
          },
          "showarrow": false,
          "text": "0.39",
          "x": 3,
          "xref": "x",
          "y": 1,
          "yref": "y"
         },
         {
          "font": {
           "color": "#FFFFFF",
           "size": 7
          },
          "showarrow": false,
          "text": "0.38",
          "x": 4,
          "xref": "x",
          "y": 1,
          "yref": "y"
         },
         {
          "font": {
           "color": "#FFFFFF",
           "size": 7
          },
          "showarrow": false,
          "text": "0.39",
          "x": 5,
          "xref": "x",
          "y": 1,
          "yref": "y"
         },
         {
          "font": {
           "color": "#FFFFFF",
           "size": 7
          },
          "showarrow": false,
          "text": "0.39",
          "x": 6,
          "xref": "x",
          "y": 1,
          "yref": "y"
         },
         {
          "font": {
           "color": "#FFFFFF",
           "size": 7
          },
          "showarrow": false,
          "text": "0.4",
          "x": 7,
          "xref": "x",
          "y": 1,
          "yref": "y"
         },
         {
          "font": {
           "color": "#FFFFFF",
           "size": 7
          },
          "showarrow": false,
          "text": "0.4",
          "x": 8,
          "xref": "x",
          "y": 1,
          "yref": "y"
         },
         {
          "font": {
           "color": "#FFFFFF",
           "size": 7
          },
          "showarrow": false,
          "text": "0.41",
          "x": 9,
          "xref": "x",
          "y": 1,
          "yref": "y"
         },
         {
          "font": {
           "color": "#FFFFFF",
           "size": 7
          },
          "showarrow": false,
          "text": "0.42",
          "x": 10,
          "xref": "x",
          "y": 1,
          "yref": "y"
         },
         {
          "font": {
           "color": "#FFFFFF",
           "size": 7
          },
          "showarrow": false,
          "text": "0.42",
          "x": 11,
          "xref": "x",
          "y": 1,
          "yref": "y"
         },
         {
          "font": {
           "color": "#FFFFFF",
           "size": 7
          },
          "showarrow": false,
          "text": "0.43",
          "x": 12,
          "xref": "x",
          "y": 1,
          "yref": "y"
         },
         {
          "font": {
           "color": "#FFFFFF",
           "size": 7
          },
          "showarrow": false,
          "text": "0.44",
          "x": 13,
          "xref": "x",
          "y": 1,
          "yref": "y"
         },
         {
          "font": {
           "color": "#FFFFFF",
           "size": 7
          },
          "showarrow": false,
          "text": "0.43",
          "x": 14,
          "xref": "x",
          "y": 1,
          "yref": "y"
         },
         {
          "font": {
           "color": "#FFFFFF",
           "size": 7
          },
          "showarrow": false,
          "text": "0.44",
          "x": 15,
          "xref": "x",
          "y": 1,
          "yref": "y"
         },
         {
          "font": {
           "color": "#FFFFFF",
           "size": 7
          },
          "showarrow": false,
          "text": "0.44",
          "x": 16,
          "xref": "x",
          "y": 1,
          "yref": "y"
         },
         {
          "font": {
           "color": "#FFFFFF",
           "size": 7
          },
          "showarrow": false,
          "text": "0.44",
          "x": 17,
          "xref": "x",
          "y": 1,
          "yref": "y"
         },
         {
          "font": {
           "color": "#FFFFFF",
           "size": 7
          },
          "showarrow": false,
          "text": "0.44",
          "x": 18,
          "xref": "x",
          "y": 1,
          "yref": "y"
         },
         {
          "font": {
           "color": "#FFFFFF",
           "size": 7
          },
          "showarrow": false,
          "text": "0.34",
          "x": 0,
          "xref": "x",
          "y": 2,
          "yref": "y"
         },
         {
          "font": {
           "color": "#FFFFFF",
           "size": 7
          },
          "showarrow": false,
          "text": "0.35",
          "x": 1,
          "xref": "x",
          "y": 2,
          "yref": "y"
         },
         {
          "font": {
           "color": "#FFFFFF",
           "size": 7
          },
          "showarrow": false,
          "text": "0.37",
          "x": 2,
          "xref": "x",
          "y": 2,
          "yref": "y"
         },
         {
          "font": {
           "color": "#FFFFFF",
           "size": 7
          },
          "showarrow": false,
          "text": "0.37",
          "x": 3,
          "xref": "x",
          "y": 2,
          "yref": "y"
         },
         {
          "font": {
           "color": "#FFFFFF",
           "size": 7
          },
          "showarrow": false,
          "text": "0.38",
          "x": 4,
          "xref": "x",
          "y": 2,
          "yref": "y"
         },
         {
          "font": {
           "color": "#FFFFFF",
           "size": 7
          },
          "showarrow": false,
          "text": "0.38",
          "x": 5,
          "xref": "x",
          "y": 2,
          "yref": "y"
         },
         {
          "font": {
           "color": "#FFFFFF",
           "size": 7
          },
          "showarrow": false,
          "text": "0.39",
          "x": 6,
          "xref": "x",
          "y": 2,
          "yref": "y"
         },
         {
          "font": {
           "color": "#FFFFFF",
           "size": 7
          },
          "showarrow": false,
          "text": "0.4",
          "x": 7,
          "xref": "x",
          "y": 2,
          "yref": "y"
         },
         {
          "font": {
           "color": "#FFFFFF",
           "size": 7
          },
          "showarrow": false,
          "text": "0.4",
          "x": 8,
          "xref": "x",
          "y": 2,
          "yref": "y"
         },
         {
          "font": {
           "color": "#FFFFFF",
           "size": 7
          },
          "showarrow": false,
          "text": "0.41",
          "x": 9,
          "xref": "x",
          "y": 2,
          "yref": "y"
         },
         {
          "font": {
           "color": "#FFFFFF",
           "size": 7
          },
          "showarrow": false,
          "text": "0.41",
          "x": 10,
          "xref": "x",
          "y": 2,
          "yref": "y"
         },
         {
          "font": {
           "color": "#FFFFFF",
           "size": 7
          },
          "showarrow": false,
          "text": "0.42",
          "x": 11,
          "xref": "x",
          "y": 2,
          "yref": "y"
         },
         {
          "font": {
           "color": "#FFFFFF",
           "size": 7
          },
          "showarrow": false,
          "text": "0.43",
          "x": 12,
          "xref": "x",
          "y": 2,
          "yref": "y"
         },
         {
          "font": {
           "color": "#FFFFFF",
           "size": 7
          },
          "showarrow": false,
          "text": "0.44",
          "x": 13,
          "xref": "x",
          "y": 2,
          "yref": "y"
         },
         {
          "font": {
           "color": "#FFFFFF",
           "size": 7
          },
          "showarrow": false,
          "text": "0.43",
          "x": 14,
          "xref": "x",
          "y": 2,
          "yref": "y"
         },
         {
          "font": {
           "color": "#FFFFFF",
           "size": 7
          },
          "showarrow": false,
          "text": "0.44",
          "x": 15,
          "xref": "x",
          "y": 2,
          "yref": "y"
         },
         {
          "font": {
           "color": "#FFFFFF",
           "size": 7
          },
          "showarrow": false,
          "text": "0.43",
          "x": 16,
          "xref": "x",
          "y": 2,
          "yref": "y"
         },
         {
          "font": {
           "color": "#FFFFFF",
           "size": 7
          },
          "showarrow": false,
          "text": "0.44",
          "x": 17,
          "xref": "x",
          "y": 2,
          "yref": "y"
         },
         {
          "font": {
           "color": "#FFFFFF",
           "size": 7
          },
          "showarrow": false,
          "text": "0.44",
          "x": 18,
          "xref": "x",
          "y": 2,
          "yref": "y"
         },
         {
          "font": {
           "color": "#FFFFFF",
           "size": 7
          },
          "showarrow": false,
          "text": "0.34",
          "x": 0,
          "xref": "x",
          "y": 3,
          "yref": "y"
         },
         {
          "font": {
           "color": "#FFFFFF",
           "size": 7
          },
          "showarrow": false,
          "text": "0.34",
          "x": 1,
          "xref": "x",
          "y": 3,
          "yref": "y"
         },
         {
          "font": {
           "color": "#FFFFFF",
           "size": 7
          },
          "showarrow": false,
          "text": "0.35",
          "x": 2,
          "xref": "x",
          "y": 3,
          "yref": "y"
         },
         {
          "font": {
           "color": "#FFFFFF",
           "size": 7
          },
          "showarrow": false,
          "text": "0.36",
          "x": 3,
          "xref": "x",
          "y": 3,
          "yref": "y"
         },
         {
          "font": {
           "color": "#FFFFFF",
           "size": 7
          },
          "showarrow": false,
          "text": "0.38",
          "x": 4,
          "xref": "x",
          "y": 3,
          "yref": "y"
         },
         {
          "font": {
           "color": "#FFFFFF",
           "size": 7
          },
          "showarrow": false,
          "text": "0.38",
          "x": 5,
          "xref": "x",
          "y": 3,
          "yref": "y"
         },
         {
          "font": {
           "color": "#FFFFFF",
           "size": 7
          },
          "showarrow": false,
          "text": "0.38",
          "x": 6,
          "xref": "x",
          "y": 3,
          "yref": "y"
         },
         {
          "font": {
           "color": "#FFFFFF",
           "size": 7
          },
          "showarrow": false,
          "text": "0.39",
          "x": 7,
          "xref": "x",
          "y": 3,
          "yref": "y"
         },
         {
          "font": {
           "color": "#FFFFFF",
           "size": 7
          },
          "showarrow": false,
          "text": "0.4",
          "x": 8,
          "xref": "x",
          "y": 3,
          "yref": "y"
         },
         {
          "font": {
           "color": "#FFFFFF",
           "size": 7
          },
          "showarrow": false,
          "text": "0.4",
          "x": 9,
          "xref": "x",
          "y": 3,
          "yref": "y"
         },
         {
          "font": {
           "color": "#FFFFFF",
           "size": 7
          },
          "showarrow": false,
          "text": "0.41",
          "x": 10,
          "xref": "x",
          "y": 3,
          "yref": "y"
         },
         {
          "font": {
           "color": "#FFFFFF",
           "size": 7
          },
          "showarrow": false,
          "text": "0.42",
          "x": 11,
          "xref": "x",
          "y": 3,
          "yref": "y"
         },
         {
          "font": {
           "color": "#FFFFFF",
           "size": 7
          },
          "showarrow": false,
          "text": "0.43",
          "x": 12,
          "xref": "x",
          "y": 3,
          "yref": "y"
         },
         {
          "font": {
           "color": "#FFFFFF",
           "size": 7
          },
          "showarrow": false,
          "text": "0.43",
          "x": 13,
          "xref": "x",
          "y": 3,
          "yref": "y"
         },
         {
          "font": {
           "color": "#FFFFFF",
           "size": 7
          },
          "showarrow": false,
          "text": "0.43",
          "x": 14,
          "xref": "x",
          "y": 3,
          "yref": "y"
         },
         {
          "font": {
           "color": "#FFFFFF",
           "size": 7
          },
          "showarrow": false,
          "text": "0.43",
          "x": 15,
          "xref": "x",
          "y": 3,
          "yref": "y"
         },
         {
          "font": {
           "color": "#FFFFFF",
           "size": 7
          },
          "showarrow": false,
          "text": "0.46",
          "x": 16,
          "xref": "x",
          "y": 3,
          "yref": "y"
         },
         {
          "font": {
           "color": "#FFFFFF",
           "size": 7
          },
          "showarrow": false,
          "text": "0.46",
          "x": 17,
          "xref": "x",
          "y": 3,
          "yref": "y"
         },
         {
          "font": {
           "color": "#FFFFFF",
           "size": 7
          },
          "showarrow": false,
          "text": "0.46",
          "x": 18,
          "xref": "x",
          "y": 3,
          "yref": "y"
         },
         {
          "font": {
           "color": "#FFFFFF",
           "size": 7
          },
          "showarrow": false,
          "text": "0.33",
          "x": 0,
          "xref": "x",
          "y": 4,
          "yref": "y"
         },
         {
          "font": {
           "color": "#FFFFFF",
           "size": 7
          },
          "showarrow": false,
          "text": "0.34",
          "x": 1,
          "xref": "x",
          "y": 4,
          "yref": "y"
         },
         {
          "font": {
           "color": "#FFFFFF",
           "size": 7
          },
          "showarrow": false,
          "text": "0.35",
          "x": 2,
          "xref": "x",
          "y": 4,
          "yref": "y"
         },
         {
          "font": {
           "color": "#FFFFFF",
           "size": 7
          },
          "showarrow": false,
          "text": "0.35",
          "x": 3,
          "xref": "x",
          "y": 4,
          "yref": "y"
         },
         {
          "font": {
           "color": "#FFFFFF",
           "size": 7
          },
          "showarrow": false,
          "text": "0.36",
          "x": 4,
          "xref": "x",
          "y": 4,
          "yref": "y"
         },
         {
          "font": {
           "color": "#FFFFFF",
           "size": 7
          },
          "showarrow": false,
          "text": "0.37",
          "x": 5,
          "xref": "x",
          "y": 4,
          "yref": "y"
         },
         {
          "font": {
           "color": "#FFFFFF",
           "size": 7
          },
          "showarrow": false,
          "text": "0.37",
          "x": 6,
          "xref": "x",
          "y": 4,
          "yref": "y"
         },
         {
          "font": {
           "color": "#FFFFFF",
           "size": 7
          },
          "showarrow": false,
          "text": "0.37",
          "x": 7,
          "xref": "x",
          "y": 4,
          "yref": "y"
         },
         {
          "font": {
           "color": "#FFFFFF",
           "size": 7
          },
          "showarrow": false,
          "text": "0.38",
          "x": 8,
          "xref": "x",
          "y": 4,
          "yref": "y"
         },
         {
          "font": {
           "color": "#FFFFFF",
           "size": 7
          },
          "showarrow": false,
          "text": "0.39",
          "x": 9,
          "xref": "x",
          "y": 4,
          "yref": "y"
         },
         {
          "font": {
           "color": "#FFFFFF",
           "size": 7
          },
          "showarrow": false,
          "text": "0.4",
          "x": 10,
          "xref": "x",
          "y": 4,
          "yref": "y"
         },
         {
          "font": {
           "color": "#FFFFFF",
           "size": 7
          },
          "showarrow": false,
          "text": "0.41",
          "x": 11,
          "xref": "x",
          "y": 4,
          "yref": "y"
         },
         {
          "font": {
           "color": "#FFFFFF",
           "size": 7
          },
          "showarrow": false,
          "text": "0.42",
          "x": 12,
          "xref": "x",
          "y": 4,
          "yref": "y"
         },
         {
          "font": {
           "color": "#FFFFFF",
           "size": 7
          },
          "showarrow": false,
          "text": "0.43",
          "x": 13,
          "xref": "x",
          "y": 4,
          "yref": "y"
         },
         {
          "font": {
           "color": "#FFFFFF",
           "size": 7
          },
          "showarrow": false,
          "text": "0.45",
          "x": 14,
          "xref": "x",
          "y": 4,
          "yref": "y"
         },
         {
          "font": {
           "color": "#FFFFFF",
           "size": 7
          },
          "showarrow": false,
          "text": "0.47",
          "x": 15,
          "xref": "x",
          "y": 4,
          "yref": "y"
         },
         {
          "font": {
           "color": "#FFFFFF",
           "size": 7
          },
          "showarrow": false,
          "text": "0.48",
          "x": 16,
          "xref": "x",
          "y": 4,
          "yref": "y"
         },
         {
          "font": {
           "color": "#FFFFFF",
           "size": 7
          },
          "showarrow": false,
          "text": "0.48",
          "x": 17,
          "xref": "x",
          "y": 4,
          "yref": "y"
         },
         {
          "font": {
           "color": "#FFFFFF",
           "size": 7
          },
          "showarrow": false,
          "text": "0.48",
          "x": 18,
          "xref": "x",
          "y": 4,
          "yref": "y"
         },
         {
          "font": {
           "color": "#FFFFFF",
           "size": 7
          },
          "showarrow": false,
          "text": "0.33",
          "x": 0,
          "xref": "x",
          "y": 5,
          "yref": "y"
         },
         {
          "font": {
           "color": "#FFFFFF",
           "size": 7
          },
          "showarrow": false,
          "text": "0.34",
          "x": 1,
          "xref": "x",
          "y": 5,
          "yref": "y"
         },
         {
          "font": {
           "color": "#FFFFFF",
           "size": 7
          },
          "showarrow": false,
          "text": "0.35",
          "x": 2,
          "xref": "x",
          "y": 5,
          "yref": "y"
         },
         {
          "font": {
           "color": "#FFFFFF",
           "size": 7
          },
          "showarrow": false,
          "text": "0.35",
          "x": 3,
          "xref": "x",
          "y": 5,
          "yref": "y"
         },
         {
          "font": {
           "color": "#FFFFFF",
           "size": 7
          },
          "showarrow": false,
          "text": "0.36",
          "x": 4,
          "xref": "x",
          "y": 5,
          "yref": "y"
         },
         {
          "font": {
           "color": "#FFFFFF",
           "size": 7
          },
          "showarrow": false,
          "text": "0.35",
          "x": 5,
          "xref": "x",
          "y": 5,
          "yref": "y"
         },
         {
          "font": {
           "color": "#FFFFFF",
           "size": 7
          },
          "showarrow": false,
          "text": "0.37",
          "x": 6,
          "xref": "x",
          "y": 5,
          "yref": "y"
         },
         {
          "font": {
           "color": "#FFFFFF",
           "size": 7
          },
          "showarrow": false,
          "text": "0.37",
          "x": 7,
          "xref": "x",
          "y": 5,
          "yref": "y"
         },
         {
          "font": {
           "color": "#FFFFFF",
           "size": 7
          },
          "showarrow": false,
          "text": "0.38",
          "x": 8,
          "xref": "x",
          "y": 5,
          "yref": "y"
         },
         {
          "font": {
           "color": "#FFFFFF",
           "size": 7
          },
          "showarrow": false,
          "text": "0.38",
          "x": 9,
          "xref": "x",
          "y": 5,
          "yref": "y"
         },
         {
          "font": {
           "color": "#FFFFFF",
           "size": 7
          },
          "showarrow": false,
          "text": "0.39",
          "x": 10,
          "xref": "x",
          "y": 5,
          "yref": "y"
         },
         {
          "font": {
           "color": "#FFFFFF",
           "size": 7
          },
          "showarrow": false,
          "text": "0.4",
          "x": 11,
          "xref": "x",
          "y": 5,
          "yref": "y"
         },
         {
          "font": {
           "color": "#FFFFFF",
           "size": 7
          },
          "showarrow": false,
          "text": "0.43",
          "x": 12,
          "xref": "x",
          "y": 5,
          "yref": "y"
         },
         {
          "font": {
           "color": "#FFFFFF",
           "size": 7
          },
          "showarrow": false,
          "text": "0.44",
          "x": 13,
          "xref": "x",
          "y": 5,
          "yref": "y"
         },
         {
          "font": {
           "color": "#FFFFFF",
           "size": 7
          },
          "showarrow": false,
          "text": "0.49",
          "x": 14,
          "xref": "x",
          "y": 5,
          "yref": "y"
         },
         {
          "font": {
           "color": "#FFFFFF",
           "size": 7
          },
          "showarrow": false,
          "text": "0.49",
          "x": 15,
          "xref": "x",
          "y": 5,
          "yref": "y"
         },
         {
          "font": {
           "color": "#FFFFFF",
           "size": 7
          },
          "showarrow": false,
          "text": "0.49",
          "x": 16,
          "xref": "x",
          "y": 5,
          "yref": "y"
         },
         {
          "font": {
           "color": "#FFFFFF",
           "size": 7
          },
          "showarrow": false,
          "text": "0.49",
          "x": 17,
          "xref": "x",
          "y": 5,
          "yref": "y"
         },
         {
          "font": {
           "color": "#FFFFFF",
           "size": 7
          },
          "showarrow": false,
          "text": "0.49",
          "x": 18,
          "xref": "x",
          "y": 5,
          "yref": "y"
         },
         {
          "font": {
           "color": "#FFFFFF",
           "size": 7
          },
          "showarrow": false,
          "text": "0.33",
          "x": 0,
          "xref": "x",
          "y": 6,
          "yref": "y"
         },
         {
          "font": {
           "color": "#FFFFFF",
           "size": 7
          },
          "showarrow": false,
          "text": "0.33",
          "x": 1,
          "xref": "x",
          "y": 6,
          "yref": "y"
         },
         {
          "font": {
           "color": "#FFFFFF",
           "size": 7
          },
          "showarrow": false,
          "text": "0.34",
          "x": 2,
          "xref": "x",
          "y": 6,
          "yref": "y"
         },
         {
          "font": {
           "color": "#FFFFFF",
           "size": 7
          },
          "showarrow": false,
          "text": "0.34",
          "x": 3,
          "xref": "x",
          "y": 6,
          "yref": "y"
         },
         {
          "font": {
           "color": "#FFFFFF",
           "size": 7
          },
          "showarrow": false,
          "text": "0.34",
          "x": 4,
          "xref": "x",
          "y": 6,
          "yref": "y"
         },
         {
          "font": {
           "color": "#FFFFFF",
           "size": 7
          },
          "showarrow": false,
          "text": "0.35",
          "x": 5,
          "xref": "x",
          "y": 6,
          "yref": "y"
         },
         {
          "font": {
           "color": "#FFFFFF",
           "size": 7
          },
          "showarrow": false,
          "text": "0.36",
          "x": 6,
          "xref": "x",
          "y": 6,
          "yref": "y"
         },
         {
          "font": {
           "color": "#FFFFFF",
           "size": 7
          },
          "showarrow": false,
          "text": "0.37",
          "x": 7,
          "xref": "x",
          "y": 6,
          "yref": "y"
         },
         {
          "font": {
           "color": "#FFFFFF",
           "size": 7
          },
          "showarrow": false,
          "text": "0.38",
          "x": 8,
          "xref": "x",
          "y": 6,
          "yref": "y"
         },
         {
          "font": {
           "color": "#FFFFFF",
           "size": 7
          },
          "showarrow": false,
          "text": "0.38",
          "x": 9,
          "xref": "x",
          "y": 6,
          "yref": "y"
         },
         {
          "font": {
           "color": "#FFFFFF",
           "size": 7
          },
          "showarrow": false,
          "text": "0.39",
          "x": 10,
          "xref": "x",
          "y": 6,
          "yref": "y"
         },
         {
          "font": {
           "color": "#FFFFFF",
           "size": 7
          },
          "showarrow": false,
          "text": "0.4",
          "x": 11,
          "xref": "x",
          "y": 6,
          "yref": "y"
         },
         {
          "font": {
           "color": "#FFFFFF",
           "size": 7
          },
          "showarrow": false,
          "text": "0.43",
          "x": 12,
          "xref": "x",
          "y": 6,
          "yref": "y"
         },
         {
          "font": {
           "color": "#FFFFFF",
           "size": 7
          },
          "showarrow": false,
          "text": "0.47",
          "x": 13,
          "xref": "x",
          "y": 6,
          "yref": "y"
         },
         {
          "font": {
           "color": "#000000",
           "size": 7
          },
          "showarrow": false,
          "text": "0.51",
          "x": 14,
          "xref": "x",
          "y": 6,
          "yref": "y"
         },
         {
          "font": {
           "color": "#000000",
           "size": 7
          },
          "showarrow": false,
          "text": "0.52",
          "x": 15,
          "xref": "x",
          "y": 6,
          "yref": "y"
         },
         {
          "font": {
           "color": "#000000",
           "size": 7
          },
          "showarrow": false,
          "text": "0.52",
          "x": 16,
          "xref": "x",
          "y": 6,
          "yref": "y"
         },
         {
          "font": {
           "color": "#000000",
           "size": 7
          },
          "showarrow": false,
          "text": "0.51",
          "x": 17,
          "xref": "x",
          "y": 6,
          "yref": "y"
         },
         {
          "font": {
           "color": "#000000",
           "size": 7
          },
          "showarrow": false,
          "text": "0.52",
          "x": 18,
          "xref": "x",
          "y": 6,
          "yref": "y"
         },
         {
          "font": {
           "color": "#FFFFFF",
           "size": 7
          },
          "showarrow": false,
          "text": "0.33",
          "x": 0,
          "xref": "x",
          "y": 7,
          "yref": "y"
         },
         {
          "font": {
           "color": "#FFFFFF",
           "size": 7
          },
          "showarrow": false,
          "text": "0.33",
          "x": 1,
          "xref": "x",
          "y": 7,
          "yref": "y"
         },
         {
          "font": {
           "color": "#FFFFFF",
           "size": 7
          },
          "showarrow": false,
          "text": "0.34",
          "x": 2,
          "xref": "x",
          "y": 7,
          "yref": "y"
         },
         {
          "font": {
           "color": "#FFFFFF",
           "size": 7
          },
          "showarrow": false,
          "text": "0.34",
          "x": 3,
          "xref": "x",
          "y": 7,
          "yref": "y"
         },
         {
          "font": {
           "color": "#FFFFFF",
           "size": 7
          },
          "showarrow": false,
          "text": "0.34",
          "x": 4,
          "xref": "x",
          "y": 7,
          "yref": "y"
         },
         {
          "font": {
           "color": "#FFFFFF",
           "size": 7
          },
          "showarrow": false,
          "text": "0.35",
          "x": 5,
          "xref": "x",
          "y": 7,
          "yref": "y"
         },
         {
          "font": {
           "color": "#FFFFFF",
           "size": 7
          },
          "showarrow": false,
          "text": "0.36",
          "x": 6,
          "xref": "x",
          "y": 7,
          "yref": "y"
         },
         {
          "font": {
           "color": "#FFFFFF",
           "size": 7
          },
          "showarrow": false,
          "text": "0.37",
          "x": 7,
          "xref": "x",
          "y": 7,
          "yref": "y"
         },
         {
          "font": {
           "color": "#FFFFFF",
           "size": 7
          },
          "showarrow": false,
          "text": "0.37",
          "x": 8,
          "xref": "x",
          "y": 7,
          "yref": "y"
         },
         {
          "font": {
           "color": "#FFFFFF",
           "size": 7
          },
          "showarrow": false,
          "text": "0.38",
          "x": 9,
          "xref": "x",
          "y": 7,
          "yref": "y"
         },
         {
          "font": {
           "color": "#FFFFFF",
           "size": 7
          },
          "showarrow": false,
          "text": "0.4",
          "x": 10,
          "xref": "x",
          "y": 7,
          "yref": "y"
         },
         {
          "font": {
           "color": "#FFFFFF",
           "size": 7
          },
          "showarrow": false,
          "text": "0.42",
          "x": 11,
          "xref": "x",
          "y": 7,
          "yref": "y"
         },
         {
          "font": {
           "color": "#FFFFFF",
           "size": 7
          },
          "showarrow": false,
          "text": "0.44",
          "x": 12,
          "xref": "x",
          "y": 7,
          "yref": "y"
         },
         {
          "font": {
           "color": "#FFFFFF",
           "size": 7
          },
          "showarrow": false,
          "text": "0.49",
          "x": 13,
          "xref": "x",
          "y": 7,
          "yref": "y"
         },
         {
          "font": {
           "color": "#000000",
           "size": 7
          },
          "showarrow": false,
          "text": "0.52",
          "x": 14,
          "xref": "x",
          "y": 7,
          "yref": "y"
         },
         {
          "font": {
           "color": "#000000",
           "size": 7
          },
          "showarrow": false,
          "text": "0.54",
          "x": 15,
          "xref": "x",
          "y": 7,
          "yref": "y"
         },
         {
          "font": {
           "color": "#000000",
           "size": 7
          },
          "showarrow": false,
          "text": "0.54",
          "x": 16,
          "xref": "x",
          "y": 7,
          "yref": "y"
         },
         {
          "font": {
           "color": "#000000",
           "size": 7
          },
          "showarrow": false,
          "text": "0.55",
          "x": 17,
          "xref": "x",
          "y": 7,
          "yref": "y"
         },
         {
          "font": {
           "color": "#000000",
           "size": 7
          },
          "showarrow": false,
          "text": "0.57",
          "x": 18,
          "xref": "x",
          "y": 7,
          "yref": "y"
         },
         {
          "font": {
           "color": "#FFFFFF",
           "size": 7
          },
          "showarrow": false,
          "text": "0.33",
          "x": 0,
          "xref": "x",
          "y": 8,
          "yref": "y"
         },
         {
          "font": {
           "color": "#FFFFFF",
           "size": 7
          },
          "showarrow": false,
          "text": "0.33",
          "x": 1,
          "xref": "x",
          "y": 8,
          "yref": "y"
         },
         {
          "font": {
           "color": "#FFFFFF",
           "size": 7
          },
          "showarrow": false,
          "text": "0.34",
          "x": 2,
          "xref": "x",
          "y": 8,
          "yref": "y"
         },
         {
          "font": {
           "color": "#FFFFFF",
           "size": 7
          },
          "showarrow": false,
          "text": "0.35",
          "x": 3,
          "xref": "x",
          "y": 8,
          "yref": "y"
         },
         {
          "font": {
           "color": "#FFFFFF",
           "size": 7
          },
          "showarrow": false,
          "text": "0.35",
          "x": 4,
          "xref": "x",
          "y": 8,
          "yref": "y"
         },
         {
          "font": {
           "color": "#FFFFFF",
           "size": 7
          },
          "showarrow": false,
          "text": "0.35",
          "x": 5,
          "xref": "x",
          "y": 8,
          "yref": "y"
         },
         {
          "font": {
           "color": "#FFFFFF",
           "size": 7
          },
          "showarrow": false,
          "text": "0.36",
          "x": 6,
          "xref": "x",
          "y": 8,
          "yref": "y"
         },
         {
          "font": {
           "color": "#FFFFFF",
           "size": 7
          },
          "showarrow": false,
          "text": "0.36",
          "x": 7,
          "xref": "x",
          "y": 8,
          "yref": "y"
         },
         {
          "font": {
           "color": "#FFFFFF",
           "size": 7
          },
          "showarrow": false,
          "text": "0.37",
          "x": 8,
          "xref": "x",
          "y": 8,
          "yref": "y"
         },
         {
          "font": {
           "color": "#FFFFFF",
           "size": 7
          },
          "showarrow": false,
          "text": "0.39",
          "x": 9,
          "xref": "x",
          "y": 8,
          "yref": "y"
         },
         {
          "font": {
           "color": "#FFFFFF",
           "size": 7
          },
          "showarrow": false,
          "text": "0.4",
          "x": 10,
          "xref": "x",
          "y": 8,
          "yref": "y"
         },
         {
          "font": {
           "color": "#FFFFFF",
           "size": 7
          },
          "showarrow": false,
          "text": "0.42",
          "x": 11,
          "xref": "x",
          "y": 8,
          "yref": "y"
         },
         {
          "font": {
           "color": "#FFFFFF",
           "size": 7
          },
          "showarrow": false,
          "text": "0.45",
          "x": 12,
          "xref": "x",
          "y": 8,
          "yref": "y"
         },
         {
          "font": {
           "color": "#000000",
           "size": 7
          },
          "showarrow": false,
          "text": "0.5",
          "x": 13,
          "xref": "x",
          "y": 8,
          "yref": "y"
         },
         {
          "font": {
           "color": "#000000",
           "size": 7
          },
          "showarrow": false,
          "text": "0.54",
          "x": 14,
          "xref": "x",
          "y": 8,
          "yref": "y"
         },
         {
          "font": {
           "color": "#000000",
           "size": 7
          },
          "showarrow": false,
          "text": "0.56",
          "x": 15,
          "xref": "x",
          "y": 8,
          "yref": "y"
         },
         {
          "font": {
           "color": "#000000",
           "size": 7
          },
          "showarrow": false,
          "text": "0.56",
          "x": 16,
          "xref": "x",
          "y": 8,
          "yref": "y"
         },
         {
          "font": {
           "color": "#000000",
           "size": 7
          },
          "showarrow": false,
          "text": "0.57",
          "x": 17,
          "xref": "x",
          "y": 8,
          "yref": "y"
         },
         {
          "font": {
           "color": "#000000",
           "size": 7
          },
          "showarrow": false,
          "text": "0.59",
          "x": 18,
          "xref": "x",
          "y": 8,
          "yref": "y"
         },
         {
          "font": {
           "color": "#FFFFFF",
           "size": 7
          },
          "showarrow": false,
          "text": "0.32",
          "x": 0,
          "xref": "x",
          "y": 9,
          "yref": "y"
         },
         {
          "font": {
           "color": "#FFFFFF",
           "size": 7
          },
          "showarrow": false,
          "text": "0.32",
          "x": 1,
          "xref": "x",
          "y": 9,
          "yref": "y"
         },
         {
          "font": {
           "color": "#FFFFFF",
           "size": 7
          },
          "showarrow": false,
          "text": "0.34",
          "x": 2,
          "xref": "x",
          "y": 9,
          "yref": "y"
         },
         {
          "font": {
           "color": "#FFFFFF",
           "size": 7
          },
          "showarrow": false,
          "text": "0.34",
          "x": 3,
          "xref": "x",
          "y": 9,
          "yref": "y"
         },
         {
          "font": {
           "color": "#FFFFFF",
           "size": 7
          },
          "showarrow": false,
          "text": "0.35",
          "x": 4,
          "xref": "x",
          "y": 9,
          "yref": "y"
         },
         {
          "font": {
           "color": "#FFFFFF",
           "size": 7
          },
          "showarrow": false,
          "text": "0.35",
          "x": 5,
          "xref": "x",
          "y": 9,
          "yref": "y"
         },
         {
          "font": {
           "color": "#FFFFFF",
           "size": 7
          },
          "showarrow": false,
          "text": "0.36",
          "x": 6,
          "xref": "x",
          "y": 9,
          "yref": "y"
         },
         {
          "font": {
           "color": "#FFFFFF",
           "size": 7
          },
          "showarrow": false,
          "text": "0.37",
          "x": 7,
          "xref": "x",
          "y": 9,
          "yref": "y"
         },
         {
          "font": {
           "color": "#FFFFFF",
           "size": 7
          },
          "showarrow": false,
          "text": "0.38",
          "x": 8,
          "xref": "x",
          "y": 9,
          "yref": "y"
         },
         {
          "font": {
           "color": "#FFFFFF",
           "size": 7
          },
          "showarrow": false,
          "text": "0.39",
          "x": 9,
          "xref": "x",
          "y": 9,
          "yref": "y"
         },
         {
          "font": {
           "color": "#FFFFFF",
           "size": 7
          },
          "showarrow": false,
          "text": "0.41",
          "x": 10,
          "xref": "x",
          "y": 9,
          "yref": "y"
         },
         {
          "font": {
           "color": "#FFFFFF",
           "size": 7
          },
          "showarrow": false,
          "text": "0.43",
          "x": 11,
          "xref": "x",
          "y": 9,
          "yref": "y"
         },
         {
          "font": {
           "color": "#FFFFFF",
           "size": 7
          },
          "showarrow": false,
          "text": "0.48",
          "x": 12,
          "xref": "x",
          "y": 9,
          "yref": "y"
         },
         {
          "font": {
           "color": "#000000",
           "size": 7
          },
          "showarrow": false,
          "text": "0.51",
          "x": 13,
          "xref": "x",
          "y": 9,
          "yref": "y"
         },
         {
          "font": {
           "color": "#000000",
           "size": 7
          },
          "showarrow": false,
          "text": "0.54",
          "x": 14,
          "xref": "x",
          "y": 9,
          "yref": "y"
         },
         {
          "font": {
           "color": "#000000",
           "size": 7
          },
          "showarrow": false,
          "text": "0.57",
          "x": 15,
          "xref": "x",
          "y": 9,
          "yref": "y"
         },
         {
          "font": {
           "color": "#000000",
           "size": 7
          },
          "showarrow": false,
          "text": "0.58",
          "x": 16,
          "xref": "x",
          "y": 9,
          "yref": "y"
         },
         {
          "font": {
           "color": "#000000",
           "size": 7
          },
          "showarrow": false,
          "text": "0.59",
          "x": 17,
          "xref": "x",
          "y": 9,
          "yref": "y"
         },
         {
          "font": {
           "color": "#000000",
           "size": 7
          },
          "showarrow": false,
          "text": "0.59",
          "x": 18,
          "xref": "x",
          "y": 9,
          "yref": "y"
         },
         {
          "font": {
           "color": "#FFFFFF",
           "size": 7
          },
          "showarrow": false,
          "text": "0.32",
          "x": 0,
          "xref": "x",
          "y": 10,
          "yref": "y"
         },
         {
          "font": {
           "color": "#FFFFFF",
           "size": 7
          },
          "showarrow": false,
          "text": "0.33",
          "x": 1,
          "xref": "x",
          "y": 10,
          "yref": "y"
         },
         {
          "font": {
           "color": "#FFFFFF",
           "size": 7
          },
          "showarrow": false,
          "text": "0.33",
          "x": 2,
          "xref": "x",
          "y": 10,
          "yref": "y"
         },
         {
          "font": {
           "color": "#FFFFFF",
           "size": 7
          },
          "showarrow": false,
          "text": "0.34",
          "x": 3,
          "xref": "x",
          "y": 10,
          "yref": "y"
         },
         {
          "font": {
           "color": "#FFFFFF",
           "size": 7
          },
          "showarrow": false,
          "text": "0.35",
          "x": 4,
          "xref": "x",
          "y": 10,
          "yref": "y"
         },
         {
          "font": {
           "color": "#FFFFFF",
           "size": 7
          },
          "showarrow": false,
          "text": "0.35",
          "x": 5,
          "xref": "x",
          "y": 10,
          "yref": "y"
         },
         {
          "font": {
           "color": "#FFFFFF",
           "size": 7
          },
          "showarrow": false,
          "text": "0.36",
          "x": 6,
          "xref": "x",
          "y": 10,
          "yref": "y"
         },
         {
          "font": {
           "color": "#FFFFFF",
           "size": 7
          },
          "showarrow": false,
          "text": "0.37",
          "x": 7,
          "xref": "x",
          "y": 10,
          "yref": "y"
         },
         {
          "font": {
           "color": "#FFFFFF",
           "size": 7
          },
          "showarrow": false,
          "text": "0.39",
          "x": 8,
          "xref": "x",
          "y": 10,
          "yref": "y"
         },
         {
          "font": {
           "color": "#FFFFFF",
           "size": 7
          },
          "showarrow": false,
          "text": "0.4",
          "x": 9,
          "xref": "x",
          "y": 10,
          "yref": "y"
         },
         {
          "font": {
           "color": "#FFFFFF",
           "size": 7
          },
          "showarrow": false,
          "text": "0.43",
          "x": 10,
          "xref": "x",
          "y": 10,
          "yref": "y"
         },
         {
          "font": {
           "color": "#FFFFFF",
           "size": 7
          },
          "showarrow": false,
          "text": "0.45",
          "x": 11,
          "xref": "x",
          "y": 10,
          "yref": "y"
         },
         {
          "font": {
           "color": "#FFFFFF",
           "size": 7
          },
          "showarrow": false,
          "text": "0.49",
          "x": 12,
          "xref": "x",
          "y": 10,
          "yref": "y"
         },
         {
          "font": {
           "color": "#000000",
           "size": 7
          },
          "showarrow": false,
          "text": "0.53",
          "x": 13,
          "xref": "x",
          "y": 10,
          "yref": "y"
         },
         {
          "font": {
           "color": "#000000",
           "size": 7
          },
          "showarrow": false,
          "text": "0.56",
          "x": 14,
          "xref": "x",
          "y": 10,
          "yref": "y"
         },
         {
          "font": {
           "color": "#000000",
           "size": 7
          },
          "showarrow": false,
          "text": "0.58",
          "x": 15,
          "xref": "x",
          "y": 10,
          "yref": "y"
         },
         {
          "font": {
           "color": "#000000",
           "size": 7
          },
          "showarrow": false,
          "text": "0.59",
          "x": 16,
          "xref": "x",
          "y": 10,
          "yref": "y"
         },
         {
          "font": {
           "color": "#000000",
           "size": 7
          },
          "showarrow": false,
          "text": "0.59",
          "x": 17,
          "xref": "x",
          "y": 10,
          "yref": "y"
         },
         {
          "font": {
           "color": "#000000",
           "size": 7
          },
          "showarrow": false,
          "text": "0.6",
          "x": 18,
          "xref": "x",
          "y": 10,
          "yref": "y"
         },
         {
          "font": {
           "color": "#FFFFFF",
           "size": 7
          },
          "showarrow": false,
          "text": "0.32",
          "x": 0,
          "xref": "x",
          "y": 11,
          "yref": "y"
         },
         {
          "font": {
           "color": "#FFFFFF",
           "size": 7
          },
          "showarrow": false,
          "text": "0.33",
          "x": 1,
          "xref": "x",
          "y": 11,
          "yref": "y"
         },
         {
          "font": {
           "color": "#FFFFFF",
           "size": 7
          },
          "showarrow": false,
          "text": "0.33",
          "x": 2,
          "xref": "x",
          "y": 11,
          "yref": "y"
         },
         {
          "font": {
           "color": "#FFFFFF",
           "size": 7
          },
          "showarrow": false,
          "text": "0.34",
          "x": 3,
          "xref": "x",
          "y": 11,
          "yref": "y"
         },
         {
          "font": {
           "color": "#FFFFFF",
           "size": 7
          },
          "showarrow": false,
          "text": "0.36",
          "x": 4,
          "xref": "x",
          "y": 11,
          "yref": "y"
         },
         {
          "font": {
           "color": "#FFFFFF",
           "size": 7
          },
          "showarrow": false,
          "text": "0.36",
          "x": 5,
          "xref": "x",
          "y": 11,
          "yref": "y"
         },
         {
          "font": {
           "color": "#FFFFFF",
           "size": 7
          },
          "showarrow": false,
          "text": "0.36",
          "x": 6,
          "xref": "x",
          "y": 11,
          "yref": "y"
         },
         {
          "font": {
           "color": "#FFFFFF",
           "size": 7
          },
          "showarrow": false,
          "text": "0.37",
          "x": 7,
          "xref": "x",
          "y": 11,
          "yref": "y"
         },
         {
          "font": {
           "color": "#FFFFFF",
           "size": 7
          },
          "showarrow": false,
          "text": "0.38",
          "x": 8,
          "xref": "x",
          "y": 11,
          "yref": "y"
         },
         {
          "font": {
           "color": "#FFFFFF",
           "size": 7
          },
          "showarrow": false,
          "text": "0.4",
          "x": 9,
          "xref": "x",
          "y": 11,
          "yref": "y"
         },
         {
          "font": {
           "color": "#FFFFFF",
           "size": 7
          },
          "showarrow": false,
          "text": "0.44",
          "x": 10,
          "xref": "x",
          "y": 11,
          "yref": "y"
         },
         {
          "font": {
           "color": "#FFFFFF",
           "size": 7
          },
          "showarrow": false,
          "text": "0.48",
          "x": 11,
          "xref": "x",
          "y": 11,
          "yref": "y"
         },
         {
          "font": {
           "color": "#000000",
           "size": 7
          },
          "showarrow": false,
          "text": "0.52",
          "x": 12,
          "xref": "x",
          "y": 11,
          "yref": "y"
         },
         {
          "font": {
           "color": "#000000",
           "size": 7
          },
          "showarrow": false,
          "text": "0.55",
          "x": 13,
          "xref": "x",
          "y": 11,
          "yref": "y"
         },
         {
          "font": {
           "color": "#000000",
           "size": 7
          },
          "showarrow": false,
          "text": "0.58",
          "x": 14,
          "xref": "x",
          "y": 11,
          "yref": "y"
         },
         {
          "font": {
           "color": "#000000",
           "size": 7
          },
          "showarrow": false,
          "text": "0.59",
          "x": 15,
          "xref": "x",
          "y": 11,
          "yref": "y"
         },
         {
          "font": {
           "color": "#000000",
           "size": 7
          },
          "showarrow": false,
          "text": "0.6",
          "x": 16,
          "xref": "x",
          "y": 11,
          "yref": "y"
         },
         {
          "font": {
           "color": "#000000",
           "size": 7
          },
          "showarrow": false,
          "text": "0.6",
          "x": 17,
          "xref": "x",
          "y": 11,
          "yref": "y"
         },
         {
          "font": {
           "color": "#000000",
           "size": 7
          },
          "showarrow": false,
          "text": "0.6",
          "x": 18,
          "xref": "x",
          "y": 11,
          "yref": "y"
         },
         {
          "font": {
           "color": "#FFFFFF",
           "size": 7
          },
          "showarrow": false,
          "text": "0.32",
          "x": 0,
          "xref": "x",
          "y": 12,
          "yref": "y"
         },
         {
          "font": {
           "color": "#FFFFFF",
           "size": 7
          },
          "showarrow": false,
          "text": "0.33",
          "x": 1,
          "xref": "x",
          "y": 12,
          "yref": "y"
         },
         {
          "font": {
           "color": "#FFFFFF",
           "size": 7
          },
          "showarrow": false,
          "text": "0.32",
          "x": 2,
          "xref": "x",
          "y": 12,
          "yref": "y"
         },
         {
          "font": {
           "color": "#FFFFFF",
           "size": 7
          },
          "showarrow": false,
          "text": "0.33",
          "x": 3,
          "xref": "x",
          "y": 12,
          "yref": "y"
         },
         {
          "font": {
           "color": "#FFFFFF",
           "size": 7
          },
          "showarrow": false,
          "text": "0.35",
          "x": 4,
          "xref": "x",
          "y": 12,
          "yref": "y"
         },
         {
          "font": {
           "color": "#FFFFFF",
           "size": 7
          },
          "showarrow": false,
          "text": "0.36",
          "x": 5,
          "xref": "x",
          "y": 12,
          "yref": "y"
         },
         {
          "font": {
           "color": "#FFFFFF",
           "size": 7
          },
          "showarrow": false,
          "text": "0.36",
          "x": 6,
          "xref": "x",
          "y": 12,
          "yref": "y"
         },
         {
          "font": {
           "color": "#FFFFFF",
           "size": 7
          },
          "showarrow": false,
          "text": "0.37",
          "x": 7,
          "xref": "x",
          "y": 12,
          "yref": "y"
         },
         {
          "font": {
           "color": "#FFFFFF",
           "size": 7
          },
          "showarrow": false,
          "text": "0.4",
          "x": 8,
          "xref": "x",
          "y": 12,
          "yref": "y"
         },
         {
          "font": {
           "color": "#FFFFFF",
           "size": 7
          },
          "showarrow": false,
          "text": "0.43",
          "x": 9,
          "xref": "x",
          "y": 12,
          "yref": "y"
         },
         {
          "font": {
           "color": "#FFFFFF",
           "size": 7
          },
          "showarrow": false,
          "text": "0.45",
          "x": 10,
          "xref": "x",
          "y": 12,
          "yref": "y"
         },
         {
          "font": {
           "color": "#000000",
           "size": 7
          },
          "showarrow": false,
          "text": "0.5",
          "x": 11,
          "xref": "x",
          "y": 12,
          "yref": "y"
         },
         {
          "font": {
           "color": "#000000",
           "size": 7
          },
          "showarrow": false,
          "text": "0.53",
          "x": 12,
          "xref": "x",
          "y": 12,
          "yref": "y"
         },
         {
          "font": {
           "color": "#000000",
           "size": 7
          },
          "showarrow": false,
          "text": "0.57",
          "x": 13,
          "xref": "x",
          "y": 12,
          "yref": "y"
         },
         {
          "font": {
           "color": "#000000",
           "size": 7
          },
          "showarrow": false,
          "text": "0.59",
          "x": 14,
          "xref": "x",
          "y": 12,
          "yref": "y"
         },
         {
          "font": {
           "color": "#000000",
           "size": 7
          },
          "showarrow": false,
          "text": "0.61",
          "x": 15,
          "xref": "x",
          "y": 12,
          "yref": "y"
         },
         {
          "font": {
           "color": "#000000",
           "size": 7
          },
          "showarrow": false,
          "text": "0.62",
          "x": 16,
          "xref": "x",
          "y": 12,
          "yref": "y"
         },
         {
          "font": {
           "color": "#000000",
           "size": 7
          },
          "showarrow": false,
          "text": "0.63",
          "x": 17,
          "xref": "x",
          "y": 12,
          "yref": "y"
         },
         {
          "font": {
           "color": "#000000",
           "size": 7
          },
          "showarrow": false,
          "text": "0.64",
          "x": 18,
          "xref": "x",
          "y": 12,
          "yref": "y"
         },
         {
          "font": {
           "color": "#FFFFFF",
           "size": 7
          },
          "showarrow": false,
          "text": "0.31",
          "x": 0,
          "xref": "x",
          "y": 13,
          "yref": "y"
         },
         {
          "font": {
           "color": "#FFFFFF",
           "size": 7
          },
          "showarrow": false,
          "text": "0.32",
          "x": 1,
          "xref": "x",
          "y": 13,
          "yref": "y"
         },
         {
          "font": {
           "color": "#FFFFFF",
           "size": 7
          },
          "showarrow": false,
          "text": "0.34",
          "x": 2,
          "xref": "x",
          "y": 13,
          "yref": "y"
         },
         {
          "font": {
           "color": "#FFFFFF",
           "size": 7
          },
          "showarrow": false,
          "text": "0.34",
          "x": 3,
          "xref": "x",
          "y": 13,
          "yref": "y"
         },
         {
          "font": {
           "color": "#FFFFFF",
           "size": 7
          },
          "showarrow": false,
          "text": "0.35",
          "x": 4,
          "xref": "x",
          "y": 13,
          "yref": "y"
         },
         {
          "font": {
           "color": "#FFFFFF",
           "size": 7
          },
          "showarrow": false,
          "text": "0.37",
          "x": 5,
          "xref": "x",
          "y": 13,
          "yref": "y"
         },
         {
          "font": {
           "color": "#FFFFFF",
           "size": 7
          },
          "showarrow": false,
          "text": "0.38",
          "x": 6,
          "xref": "x",
          "y": 13,
          "yref": "y"
         },
         {
          "font": {
           "color": "#FFFFFF",
           "size": 7
          },
          "showarrow": false,
          "text": "0.39",
          "x": 7,
          "xref": "x",
          "y": 13,
          "yref": "y"
         },
         {
          "font": {
           "color": "#FFFFFF",
           "size": 7
          },
          "showarrow": false,
          "text": "0.44",
          "x": 8,
          "xref": "x",
          "y": 13,
          "yref": "y"
         },
         {
          "font": {
           "color": "#FFFFFF",
           "size": 7
          },
          "showarrow": false,
          "text": "0.45",
          "x": 9,
          "xref": "x",
          "y": 13,
          "yref": "y"
         },
         {
          "font": {
           "color": "#FFFFFF",
           "size": 7
          },
          "showarrow": false,
          "text": "0.48",
          "x": 10,
          "xref": "x",
          "y": 13,
          "yref": "y"
         },
         {
          "font": {
           "color": "#000000",
           "size": 7
          },
          "showarrow": false,
          "text": "0.52",
          "x": 11,
          "xref": "x",
          "y": 13,
          "yref": "y"
         },
         {
          "font": {
           "color": "#000000",
           "size": 7
          },
          "showarrow": false,
          "text": "0.55",
          "x": 12,
          "xref": "x",
          "y": 13,
          "yref": "y"
         },
         {
          "font": {
           "color": "#000000",
           "size": 7
          },
          "showarrow": false,
          "text": "0.57",
          "x": 13,
          "xref": "x",
          "y": 13,
          "yref": "y"
         },
         {
          "font": {
           "color": "#000000",
           "size": 7
          },
          "showarrow": false,
          "text": "0.61",
          "x": 14,
          "xref": "x",
          "y": 13,
          "yref": "y"
         },
         {
          "font": {
           "color": "#000000",
           "size": 7
          },
          "showarrow": false,
          "text": "0.64",
          "x": 15,
          "xref": "x",
          "y": 13,
          "yref": "y"
         },
         {
          "font": {
           "color": "#000000",
           "size": 7
          },
          "showarrow": false,
          "text": "0.65",
          "x": 16,
          "xref": "x",
          "y": 13,
          "yref": "y"
         },
         {
          "font": {
           "color": "#000000",
           "size": 7
          },
          "showarrow": false,
          "text": "0.64",
          "x": 17,
          "xref": "x",
          "y": 13,
          "yref": "y"
         },
         {
          "font": {
           "color": "#000000",
           "size": 7
          },
          "showarrow": false,
          "text": "0.65",
          "x": 18,
          "xref": "x",
          "y": 13,
          "yref": "y"
         },
         {
          "font": {
           "color": "#FFFFFF",
           "size": 7
          },
          "showarrow": false,
          "text": "0.32",
          "x": 0,
          "xref": "x",
          "y": 14,
          "yref": "y"
         },
         {
          "font": {
           "color": "#FFFFFF",
           "size": 7
          },
          "showarrow": false,
          "text": "0.33",
          "x": 1,
          "xref": "x",
          "y": 14,
          "yref": "y"
         },
         {
          "font": {
           "color": "#FFFFFF",
           "size": 7
          },
          "showarrow": false,
          "text": "0.33",
          "x": 2,
          "xref": "x",
          "y": 14,
          "yref": "y"
         },
         {
          "font": {
           "color": "#FFFFFF",
           "size": 7
          },
          "showarrow": false,
          "text": "0.34",
          "x": 3,
          "xref": "x",
          "y": 14,
          "yref": "y"
         },
         {
          "font": {
           "color": "#FFFFFF",
           "size": 7
          },
          "showarrow": false,
          "text": "0.36",
          "x": 4,
          "xref": "x",
          "y": 14,
          "yref": "y"
         },
         {
          "font": {
           "color": "#FFFFFF",
           "size": 7
          },
          "showarrow": false,
          "text": "0.37",
          "x": 5,
          "xref": "x",
          "y": 14,
          "yref": "y"
         },
         {
          "font": {
           "color": "#FFFFFF",
           "size": 7
          },
          "showarrow": false,
          "text": "0.39",
          "x": 6,
          "xref": "x",
          "y": 14,
          "yref": "y"
         },
         {
          "font": {
           "color": "#FFFFFF",
           "size": 7
          },
          "showarrow": false,
          "text": "0.42",
          "x": 7,
          "xref": "x",
          "y": 14,
          "yref": "y"
         },
         {
          "font": {
           "color": "#FFFFFF",
           "size": 7
          },
          "showarrow": false,
          "text": "0.45",
          "x": 8,
          "xref": "x",
          "y": 14,
          "yref": "y"
         },
         {
          "font": {
           "color": "#FFFFFF",
           "size": 7
          },
          "showarrow": false,
          "text": "0.46",
          "x": 9,
          "xref": "x",
          "y": 14,
          "yref": "y"
         },
         {
          "font": {
           "color": "#000000",
           "size": 7
          },
          "showarrow": false,
          "text": "0.5",
          "x": 10,
          "xref": "x",
          "y": 14,
          "yref": "y"
         },
         {
          "font": {
           "color": "#000000",
           "size": 7
          },
          "showarrow": false,
          "text": "0.52",
          "x": 11,
          "xref": "x",
          "y": 14,
          "yref": "y"
         },
         {
          "font": {
           "color": "#000000",
           "size": 7
          },
          "showarrow": false,
          "text": "0.54",
          "x": 12,
          "xref": "x",
          "y": 14,
          "yref": "y"
         },
         {
          "font": {
           "color": "#000000",
           "size": 7
          },
          "showarrow": false,
          "text": "0.59",
          "x": 13,
          "xref": "x",
          "y": 14,
          "yref": "y"
         },
         {
          "font": {
           "color": "#000000",
           "size": 7
          },
          "showarrow": false,
          "text": "0.62",
          "x": 14,
          "xref": "x",
          "y": 14,
          "yref": "y"
         },
         {
          "font": {
           "color": "#000000",
           "size": 7
          },
          "showarrow": false,
          "text": "0.64",
          "x": 15,
          "xref": "x",
          "y": 14,
          "yref": "y"
         },
         {
          "font": {
           "color": "#000000",
           "size": 7
          },
          "showarrow": false,
          "text": "0.66",
          "x": 16,
          "xref": "x",
          "y": 14,
          "yref": "y"
         },
         {
          "font": {
           "color": "#000000",
           "size": 7
          },
          "showarrow": false,
          "text": "0.66",
          "x": 17,
          "xref": "x",
          "y": 14,
          "yref": "y"
         },
         {
          "font": {
           "color": "#000000",
           "size": 7
          },
          "showarrow": false,
          "text": "0.66",
          "x": 18,
          "xref": "x",
          "y": 14,
          "yref": "y"
         },
         {
          "font": {
           "color": "#FFFFFF",
           "size": 7
          },
          "showarrow": false,
          "text": "0.32",
          "x": 0,
          "xref": "x",
          "y": 15,
          "yref": "y"
         },
         {
          "font": {
           "color": "#FFFFFF",
           "size": 7
          },
          "showarrow": false,
          "text": "0.33",
          "x": 1,
          "xref": "x",
          "y": 15,
          "yref": "y"
         },
         {
          "font": {
           "color": "#FFFFFF",
           "size": 7
          },
          "showarrow": false,
          "text": "0.34",
          "x": 2,
          "xref": "x",
          "y": 15,
          "yref": "y"
         },
         {
          "font": {
           "color": "#FFFFFF",
           "size": 7
          },
          "showarrow": false,
          "text": "0.34",
          "x": 3,
          "xref": "x",
          "y": 15,
          "yref": "y"
         },
         {
          "font": {
           "color": "#FFFFFF",
           "size": 7
          },
          "showarrow": false,
          "text": "0.36",
          "x": 4,
          "xref": "x",
          "y": 15,
          "yref": "y"
         },
         {
          "font": {
           "color": "#FFFFFF",
           "size": 7
          },
          "showarrow": false,
          "text": "0.39",
          "x": 5,
          "xref": "x",
          "y": 15,
          "yref": "y"
         },
         {
          "font": {
           "color": "#FFFFFF",
           "size": 7
          },
          "showarrow": false,
          "text": "0.4",
          "x": 6,
          "xref": "x",
          "y": 15,
          "yref": "y"
         },
         {
          "font": {
           "color": "#FFFFFF",
           "size": 7
          },
          "showarrow": false,
          "text": "0.43",
          "x": 7,
          "xref": "x",
          "y": 15,
          "yref": "y"
         },
         {
          "font": {
           "color": "#FFFFFF",
           "size": 7
          },
          "showarrow": false,
          "text": "0.45",
          "x": 8,
          "xref": "x",
          "y": 15,
          "yref": "y"
         },
         {
          "font": {
           "color": "#FFFFFF",
           "size": 7
          },
          "showarrow": false,
          "text": "0.48",
          "x": 9,
          "xref": "x",
          "y": 15,
          "yref": "y"
         },
         {
          "font": {
           "color": "#000000",
           "size": 7
          },
          "showarrow": false,
          "text": "0.5",
          "x": 10,
          "xref": "x",
          "y": 15,
          "yref": "y"
         },
         {
          "font": {
           "color": "#000000",
           "size": 7
          },
          "showarrow": false,
          "text": "0.52",
          "x": 11,
          "xref": "x",
          "y": 15,
          "yref": "y"
         },
         {
          "font": {
           "color": "#000000",
           "size": 7
          },
          "showarrow": false,
          "text": "0.57",
          "x": 12,
          "xref": "x",
          "y": 15,
          "yref": "y"
         },
         {
          "font": {
           "color": "#000000",
           "size": 7
          },
          "showarrow": false,
          "text": "0.61",
          "x": 13,
          "xref": "x",
          "y": 15,
          "yref": "y"
         },
         {
          "font": {
           "color": "#000000",
           "size": 7
          },
          "showarrow": false,
          "text": "0.64",
          "x": 14,
          "xref": "x",
          "y": 15,
          "yref": "y"
         },
         {
          "font": {
           "color": "#000000",
           "size": 7
          },
          "showarrow": false,
          "text": "0.66",
          "x": 15,
          "xref": "x",
          "y": 15,
          "yref": "y"
         },
         {
          "font": {
           "color": "#000000",
           "size": 7
          },
          "showarrow": false,
          "text": "0.67",
          "x": 16,
          "xref": "x",
          "y": 15,
          "yref": "y"
         },
         {
          "font": {
           "color": "#000000",
           "size": 7
          },
          "showarrow": false,
          "text": "0.67",
          "x": 17,
          "xref": "x",
          "y": 15,
          "yref": "y"
         },
         {
          "font": {
           "color": "#000000",
           "size": 7
          },
          "showarrow": false,
          "text": "0.67",
          "x": 18,
          "xref": "x",
          "y": 15,
          "yref": "y"
         },
         {
          "font": {
           "color": "#FFFFFF",
           "size": 7
          },
          "showarrow": false,
          "text": "0.33",
          "x": 0,
          "xref": "x",
          "y": 16,
          "yref": "y"
         },
         {
          "font": {
           "color": "#FFFFFF",
           "size": 7
          },
          "showarrow": false,
          "text": "0.33",
          "x": 1,
          "xref": "x",
          "y": 16,
          "yref": "y"
         },
         {
          "font": {
           "color": "#FFFFFF",
           "size": 7
          },
          "showarrow": false,
          "text": "0.34",
          "x": 2,
          "xref": "x",
          "y": 16,
          "yref": "y"
         },
         {
          "font": {
           "color": "#FFFFFF",
           "size": 7
          },
          "showarrow": false,
          "text": "0.35",
          "x": 3,
          "xref": "x",
          "y": 16,
          "yref": "y"
         },
         {
          "font": {
           "color": "#FFFFFF",
           "size": 7
          },
          "showarrow": false,
          "text": "0.36",
          "x": 4,
          "xref": "x",
          "y": 16,
          "yref": "y"
         },
         {
          "font": {
           "color": "#FFFFFF",
           "size": 7
          },
          "showarrow": false,
          "text": "0.39",
          "x": 5,
          "xref": "x",
          "y": 16,
          "yref": "y"
         },
         {
          "font": {
           "color": "#FFFFFF",
           "size": 7
          },
          "showarrow": false,
          "text": "0.4",
          "x": 6,
          "xref": "x",
          "y": 16,
          "yref": "y"
         },
         {
          "font": {
           "color": "#FFFFFF",
           "size": 7
          },
          "showarrow": false,
          "text": "0.42",
          "x": 7,
          "xref": "x",
          "y": 16,
          "yref": "y"
         },
         {
          "font": {
           "color": "#FFFFFF",
           "size": 7
          },
          "showarrow": false,
          "text": "0.46",
          "x": 8,
          "xref": "x",
          "y": 16,
          "yref": "y"
         },
         {
          "font": {
           "color": "#FFFFFF",
           "size": 7
          },
          "showarrow": false,
          "text": "0.49",
          "x": 9,
          "xref": "x",
          "y": 16,
          "yref": "y"
         },
         {
          "font": {
           "color": "#000000",
           "size": 7
          },
          "showarrow": false,
          "text": "0.51",
          "x": 10,
          "xref": "x",
          "y": 16,
          "yref": "y"
         },
         {
          "font": {
           "color": "#000000",
           "size": 7
          },
          "showarrow": false,
          "text": "0.54",
          "x": 11,
          "xref": "x",
          "y": 16,
          "yref": "y"
         },
         {
          "font": {
           "color": "#000000",
           "size": 7
          },
          "showarrow": false,
          "text": "0.6",
          "x": 12,
          "xref": "x",
          "y": 16,
          "yref": "y"
         },
         {
          "font": {
           "color": "#000000",
           "size": 7
          },
          "showarrow": false,
          "text": "0.62",
          "x": 13,
          "xref": "x",
          "y": 16,
          "yref": "y"
         },
         {
          "font": {
           "color": "#000000",
           "size": 7
          },
          "showarrow": false,
          "text": "0.64",
          "x": 14,
          "xref": "x",
          "y": 16,
          "yref": "y"
         },
         {
          "font": {
           "color": "#000000",
           "size": 7
          },
          "showarrow": false,
          "text": "0.66",
          "x": 15,
          "xref": "x",
          "y": 16,
          "yref": "y"
         },
         {
          "font": {
           "color": "#000000",
           "size": 7
          },
          "showarrow": false,
          "text": "0.68",
          "x": 16,
          "xref": "x",
          "y": 16,
          "yref": "y"
         },
         {
          "font": {
           "color": "#000000",
           "size": 7
          },
          "showarrow": false,
          "text": "0.69",
          "x": 17,
          "xref": "x",
          "y": 16,
          "yref": "y"
         },
         {
          "font": {
           "color": "#000000",
           "size": 7
          },
          "showarrow": false,
          "text": "0.68",
          "x": 18,
          "xref": "x",
          "y": 16,
          "yref": "y"
         },
         {
          "font": {
           "color": "#FFFFFF",
           "size": 7
          },
          "showarrow": false,
          "text": "0.32",
          "x": 0,
          "xref": "x",
          "y": 17,
          "yref": "y"
         },
         {
          "font": {
           "color": "#FFFFFF",
           "size": 7
          },
          "showarrow": false,
          "text": "0.33",
          "x": 1,
          "xref": "x",
          "y": 17,
          "yref": "y"
         },
         {
          "font": {
           "color": "#FFFFFF",
           "size": 7
          },
          "showarrow": false,
          "text": "0.34",
          "x": 2,
          "xref": "x",
          "y": 17,
          "yref": "y"
         },
         {
          "font": {
           "color": "#FFFFFF",
           "size": 7
          },
          "showarrow": false,
          "text": "0.36",
          "x": 3,
          "xref": "x",
          "y": 17,
          "yref": "y"
         },
         {
          "font": {
           "color": "#FFFFFF",
           "size": 7
          },
          "showarrow": false,
          "text": "0.37",
          "x": 4,
          "xref": "x",
          "y": 17,
          "yref": "y"
         },
         {
          "font": {
           "color": "#FFFFFF",
           "size": 7
          },
          "showarrow": false,
          "text": "0.39",
          "x": 5,
          "xref": "x",
          "y": 17,
          "yref": "y"
         },
         {
          "font": {
           "color": "#FFFFFF",
           "size": 7
          },
          "showarrow": false,
          "text": "0.41",
          "x": 6,
          "xref": "x",
          "y": 17,
          "yref": "y"
         },
         {
          "font": {
           "color": "#FFFFFF",
           "size": 7
          },
          "showarrow": false,
          "text": "0.45",
          "x": 7,
          "xref": "x",
          "y": 17,
          "yref": "y"
         },
         {
          "font": {
           "color": "#FFFFFF",
           "size": 7
          },
          "showarrow": false,
          "text": "0.48",
          "x": 8,
          "xref": "x",
          "y": 17,
          "yref": "y"
         },
         {
          "font": {
           "color": "#000000",
           "size": 7
          },
          "showarrow": false,
          "text": "0.5",
          "x": 9,
          "xref": "x",
          "y": 17,
          "yref": "y"
         },
         {
          "font": {
           "color": "#000000",
           "size": 7
          },
          "showarrow": false,
          "text": "0.52",
          "x": 10,
          "xref": "x",
          "y": 17,
          "yref": "y"
         },
         {
          "font": {
           "color": "#000000",
           "size": 7
          },
          "showarrow": false,
          "text": "0.57",
          "x": 11,
          "xref": "x",
          "y": 17,
          "yref": "y"
         },
         {
          "font": {
           "color": "#000000",
           "size": 7
          },
          "showarrow": false,
          "text": "0.61",
          "x": 12,
          "xref": "x",
          "y": 17,
          "yref": "y"
         },
         {
          "font": {
           "color": "#000000",
           "size": 7
          },
          "showarrow": false,
          "text": "0.62",
          "x": 13,
          "xref": "x",
          "y": 17,
          "yref": "y"
         },
         {
          "font": {
           "color": "#000000",
           "size": 7
          },
          "showarrow": false,
          "text": "0.64",
          "x": 14,
          "xref": "x",
          "y": 17,
          "yref": "y"
         },
         {
          "font": {
           "color": "#000000",
           "size": 7
          },
          "showarrow": false,
          "text": "0.66",
          "x": 15,
          "xref": "x",
          "y": 17,
          "yref": "y"
         },
         {
          "font": {
           "color": "#000000",
           "size": 7
          },
          "showarrow": false,
          "text": "0.69",
          "x": 16,
          "xref": "x",
          "y": 17,
          "yref": "y"
         },
         {
          "font": {
           "color": "#000000",
           "size": 7
          },
          "showarrow": false,
          "text": "0.69",
          "x": 17,
          "xref": "x",
          "y": 17,
          "yref": "y"
         },
         {
          "font": {
           "color": "#000000",
           "size": 7
          },
          "showarrow": false,
          "text": "0.69",
          "x": 18,
          "xref": "x",
          "y": 17,
          "yref": "y"
         },
         {
          "font": {
           "color": "#FFFFFF",
           "size": 7
          },
          "showarrow": false,
          "text": "0.32",
          "x": 0,
          "xref": "x",
          "y": 18,
          "yref": "y"
         },
         {
          "font": {
           "color": "#FFFFFF",
           "size": 7
          },
          "showarrow": false,
          "text": "0.33",
          "x": 1,
          "xref": "x",
          "y": 18,
          "yref": "y"
         },
         {
          "font": {
           "color": "#FFFFFF",
           "size": 7
          },
          "showarrow": false,
          "text": "0.34",
          "x": 2,
          "xref": "x",
          "y": 18,
          "yref": "y"
         },
         {
          "font": {
           "color": "#FFFFFF",
           "size": 7
          },
          "showarrow": false,
          "text": "0.36",
          "x": 3,
          "xref": "x",
          "y": 18,
          "yref": "y"
         },
         {
          "font": {
           "color": "#FFFFFF",
           "size": 7
          },
          "showarrow": false,
          "text": "0.36",
          "x": 4,
          "xref": "x",
          "y": 18,
          "yref": "y"
         },
         {
          "font": {
           "color": "#FFFFFF",
           "size": 7
          },
          "showarrow": false,
          "text": "0.39",
          "x": 5,
          "xref": "x",
          "y": 18,
          "yref": "y"
         },
         {
          "font": {
           "color": "#FFFFFF",
           "size": 7
          },
          "showarrow": false,
          "text": "0.41",
          "x": 6,
          "xref": "x",
          "y": 18,
          "yref": "y"
         },
         {
          "font": {
           "color": "#FFFFFF",
           "size": 7
          },
          "showarrow": false,
          "text": "0.44",
          "x": 7,
          "xref": "x",
          "y": 18,
          "yref": "y"
         },
         {
          "font": {
           "color": "#FFFFFF",
           "size": 7
          },
          "showarrow": false,
          "text": "0.49",
          "x": 8,
          "xref": "x",
          "y": 18,
          "yref": "y"
         },
         {
          "font": {
           "color": "#000000",
           "size": 7
          },
          "showarrow": false,
          "text": "0.51",
          "x": 9,
          "xref": "x",
          "y": 18,
          "yref": "y"
         },
         {
          "font": {
           "color": "#000000",
           "size": 7
          },
          "showarrow": false,
          "text": "0.54",
          "x": 10,
          "xref": "x",
          "y": 18,
          "yref": "y"
         },
         {
          "font": {
           "color": "#000000",
           "size": 7
          },
          "showarrow": false,
          "text": "0.57",
          "x": 11,
          "xref": "x",
          "y": 18,
          "yref": "y"
         },
         {
          "font": {
           "color": "#000000",
           "size": 7
          },
          "showarrow": false,
          "text": "0.61",
          "x": 12,
          "xref": "x",
          "y": 18,
          "yref": "y"
         },
         {
          "font": {
           "color": "#000000",
           "size": 7
          },
          "showarrow": false,
          "text": "0.62",
          "x": 13,
          "xref": "x",
          "y": 18,
          "yref": "y"
         },
         {
          "font": {
           "color": "#000000",
           "size": 7
          },
          "showarrow": false,
          "text": "0.64",
          "x": 14,
          "xref": "x",
          "y": 18,
          "yref": "y"
         },
         {
          "font": {
           "color": "#000000",
           "size": 7
          },
          "showarrow": false,
          "text": "0.65",
          "x": 15,
          "xref": "x",
          "y": 18,
          "yref": "y"
         },
         {
          "font": {
           "color": "#000000",
           "size": 7
          },
          "showarrow": false,
          "text": "0.68",
          "x": 16,
          "xref": "x",
          "y": 18,
          "yref": "y"
         },
         {
          "font": {
           "color": "#000000",
           "size": 7
          },
          "showarrow": false,
          "text": "0.69",
          "x": 17,
          "xref": "x",
          "y": 18,
          "yref": "y"
         },
         {
          "font": {
           "color": "#000000",
           "size": 7
          },
          "showarrow": false,
          "text": "0.69",
          "x": 18,
          "xref": "x",
          "y": 18,
          "yref": "y"
         }
        ],
        "template": {
         "data": {
          "bar": [
           {
            "error_x": {
             "color": "#2a3f5f"
            },
            "error_y": {
             "color": "#2a3f5f"
            },
            "marker": {
             "line": {
              "color": "#E5ECF6",
              "width": 0.5
             },
             "pattern": {
              "fillmode": "overlay",
              "size": 10,
              "solidity": 0.2
             }
            },
            "type": "bar"
           }
          ],
          "barpolar": [
           {
            "marker": {
             "line": {
              "color": "#E5ECF6",
              "width": 0.5
             },
             "pattern": {
              "fillmode": "overlay",
              "size": 10,
              "solidity": 0.2
             }
            },
            "type": "barpolar"
           }
          ],
          "carpet": [
           {
            "aaxis": {
             "endlinecolor": "#2a3f5f",
             "gridcolor": "white",
             "linecolor": "white",
             "minorgridcolor": "white",
             "startlinecolor": "#2a3f5f"
            },
            "baxis": {
             "endlinecolor": "#2a3f5f",
             "gridcolor": "white",
             "linecolor": "white",
             "minorgridcolor": "white",
             "startlinecolor": "#2a3f5f"
            },
            "type": "carpet"
           }
          ],
          "choropleth": [
           {
            "colorbar": {
             "outlinewidth": 0,
             "ticks": ""
            },
            "type": "choropleth"
           }
          ],
          "contour": [
           {
            "colorbar": {
             "outlinewidth": 0,
             "ticks": ""
            },
            "colorscale": [
             [
              0,
              "#0d0887"
             ],
             [
              0.1111111111111111,
              "#46039f"
             ],
             [
              0.2222222222222222,
              "#7201a8"
             ],
             [
              0.3333333333333333,
              "#9c179e"
             ],
             [
              0.4444444444444444,
              "#bd3786"
             ],
             [
              0.5555555555555556,
              "#d8576b"
             ],
             [
              0.6666666666666666,
              "#ed7953"
             ],
             [
              0.7777777777777778,
              "#fb9f3a"
             ],
             [
              0.8888888888888888,
              "#fdca26"
             ],
             [
              1,
              "#f0f921"
             ]
            ],
            "type": "contour"
           }
          ],
          "contourcarpet": [
           {
            "colorbar": {
             "outlinewidth": 0,
             "ticks": ""
            },
            "type": "contourcarpet"
           }
          ],
          "heatmap": [
           {
            "colorbar": {
             "outlinewidth": 0,
             "ticks": ""
            },
            "colorscale": [
             [
              0,
              "#0d0887"
             ],
             [
              0.1111111111111111,
              "#46039f"
             ],
             [
              0.2222222222222222,
              "#7201a8"
             ],
             [
              0.3333333333333333,
              "#9c179e"
             ],
             [
              0.4444444444444444,
              "#bd3786"
             ],
             [
              0.5555555555555556,
              "#d8576b"
             ],
             [
              0.6666666666666666,
              "#ed7953"
             ],
             [
              0.7777777777777778,
              "#fb9f3a"
             ],
             [
              0.8888888888888888,
              "#fdca26"
             ],
             [
              1,
              "#f0f921"
             ]
            ],
            "type": "heatmap"
           }
          ],
          "heatmapgl": [
           {
            "colorbar": {
             "outlinewidth": 0,
             "ticks": ""
            },
            "colorscale": [
             [
              0,
              "#0d0887"
             ],
             [
              0.1111111111111111,
              "#46039f"
             ],
             [
              0.2222222222222222,
              "#7201a8"
             ],
             [
              0.3333333333333333,
              "#9c179e"
             ],
             [
              0.4444444444444444,
              "#bd3786"
             ],
             [
              0.5555555555555556,
              "#d8576b"
             ],
             [
              0.6666666666666666,
              "#ed7953"
             ],
             [
              0.7777777777777778,
              "#fb9f3a"
             ],
             [
              0.8888888888888888,
              "#fdca26"
             ],
             [
              1,
              "#f0f921"
             ]
            ],
            "type": "heatmapgl"
           }
          ],
          "histogram": [
           {
            "marker": {
             "pattern": {
              "fillmode": "overlay",
              "size": 10,
              "solidity": 0.2
             }
            },
            "type": "histogram"
           }
          ],
          "histogram2d": [
           {
            "colorbar": {
             "outlinewidth": 0,
             "ticks": ""
            },
            "colorscale": [
             [
              0,
              "#0d0887"
             ],
             [
              0.1111111111111111,
              "#46039f"
             ],
             [
              0.2222222222222222,
              "#7201a8"
             ],
             [
              0.3333333333333333,
              "#9c179e"
             ],
             [
              0.4444444444444444,
              "#bd3786"
             ],
             [
              0.5555555555555556,
              "#d8576b"
             ],
             [
              0.6666666666666666,
              "#ed7953"
             ],
             [
              0.7777777777777778,
              "#fb9f3a"
             ],
             [
              0.8888888888888888,
              "#fdca26"
             ],
             [
              1,
              "#f0f921"
             ]
            ],
            "type": "histogram2d"
           }
          ],
          "histogram2dcontour": [
           {
            "colorbar": {
             "outlinewidth": 0,
             "ticks": ""
            },
            "colorscale": [
             [
              0,
              "#0d0887"
             ],
             [
              0.1111111111111111,
              "#46039f"
             ],
             [
              0.2222222222222222,
              "#7201a8"
             ],
             [
              0.3333333333333333,
              "#9c179e"
             ],
             [
              0.4444444444444444,
              "#bd3786"
             ],
             [
              0.5555555555555556,
              "#d8576b"
             ],
             [
              0.6666666666666666,
              "#ed7953"
             ],
             [
              0.7777777777777778,
              "#fb9f3a"
             ],
             [
              0.8888888888888888,
              "#fdca26"
             ],
             [
              1,
              "#f0f921"
             ]
            ],
            "type": "histogram2dcontour"
           }
          ],
          "mesh3d": [
           {
            "colorbar": {
             "outlinewidth": 0,
             "ticks": ""
            },
            "type": "mesh3d"
           }
          ],
          "parcoords": [
           {
            "line": {
             "colorbar": {
              "outlinewidth": 0,
              "ticks": ""
             }
            },
            "type": "parcoords"
           }
          ],
          "pie": [
           {
            "automargin": true,
            "type": "pie"
           }
          ],
          "scatter": [
           {
            "marker": {
             "colorbar": {
              "outlinewidth": 0,
              "ticks": ""
             }
            },
            "type": "scatter"
           }
          ],
          "scatter3d": [
           {
            "line": {
             "colorbar": {
              "outlinewidth": 0,
              "ticks": ""
             }
            },
            "marker": {
             "colorbar": {
              "outlinewidth": 0,
              "ticks": ""
             }
            },
            "type": "scatter3d"
           }
          ],
          "scattercarpet": [
           {
            "marker": {
             "colorbar": {
              "outlinewidth": 0,
              "ticks": ""
             }
            },
            "type": "scattercarpet"
           }
          ],
          "scattergeo": [
           {
            "marker": {
             "colorbar": {
              "outlinewidth": 0,
              "ticks": ""
             }
            },
            "type": "scattergeo"
           }
          ],
          "scattergl": [
           {
            "marker": {
             "colorbar": {
              "outlinewidth": 0,
              "ticks": ""
             }
            },
            "type": "scattergl"
           }
          ],
          "scattermapbox": [
           {
            "marker": {
             "colorbar": {
              "outlinewidth": 0,
              "ticks": ""
             }
            },
            "type": "scattermapbox"
           }
          ],
          "scatterpolar": [
           {
            "marker": {
             "colorbar": {
              "outlinewidth": 0,
              "ticks": ""
             }
            },
            "type": "scatterpolar"
           }
          ],
          "scatterpolargl": [
           {
            "marker": {
             "colorbar": {
              "outlinewidth": 0,
              "ticks": ""
             }
            },
            "type": "scatterpolargl"
           }
          ],
          "scatterternary": [
           {
            "marker": {
             "colorbar": {
              "outlinewidth": 0,
              "ticks": ""
             }
            },
            "type": "scatterternary"
           }
          ],
          "surface": [
           {
            "colorbar": {
             "outlinewidth": 0,
             "ticks": ""
            },
            "colorscale": [
             [
              0,
              "#0d0887"
             ],
             [
              0.1111111111111111,
              "#46039f"
             ],
             [
              0.2222222222222222,
              "#7201a8"
             ],
             [
              0.3333333333333333,
              "#9c179e"
             ],
             [
              0.4444444444444444,
              "#bd3786"
             ],
             [
              0.5555555555555556,
              "#d8576b"
             ],
             [
              0.6666666666666666,
              "#ed7953"
             ],
             [
              0.7777777777777778,
              "#fb9f3a"
             ],
             [
              0.8888888888888888,
              "#fdca26"
             ],
             [
              1,
              "#f0f921"
             ]
            ],
            "type": "surface"
           }
          ],
          "table": [
           {
            "cells": {
             "fill": {
              "color": "#EBF0F8"
             },
             "line": {
              "color": "white"
             }
            },
            "header": {
             "fill": {
              "color": "#C8D4E3"
             },
             "line": {
              "color": "white"
             }
            },
            "type": "table"
           }
          ]
         },
         "layout": {
          "annotationdefaults": {
           "arrowcolor": "#2a3f5f",
           "arrowhead": 0,
           "arrowwidth": 1
          },
          "autotypenumbers": "strict",
          "coloraxis": {
           "colorbar": {
            "outlinewidth": 0,
            "ticks": ""
           }
          },
          "colorscale": {
           "diverging": [
            [
             0,
             "#8e0152"
            ],
            [
             0.1,
             "#c51b7d"
            ],
            [
             0.2,
             "#de77ae"
            ],
            [
             0.3,
             "#f1b6da"
            ],
            [
             0.4,
             "#fde0ef"
            ],
            [
             0.5,
             "#f7f7f7"
            ],
            [
             0.6,
             "#e6f5d0"
            ],
            [
             0.7,
             "#b8e186"
            ],
            [
             0.8,
             "#7fbc41"
            ],
            [
             0.9,
             "#4d9221"
            ],
            [
             1,
             "#276419"
            ]
           ],
           "sequential": [
            [
             0,
             "#0d0887"
            ],
            [
             0.1111111111111111,
             "#46039f"
            ],
            [
             0.2222222222222222,
             "#7201a8"
            ],
            [
             0.3333333333333333,
             "#9c179e"
            ],
            [
             0.4444444444444444,
             "#bd3786"
            ],
            [
             0.5555555555555556,
             "#d8576b"
            ],
            [
             0.6666666666666666,
             "#ed7953"
            ],
            [
             0.7777777777777778,
             "#fb9f3a"
            ],
            [
             0.8888888888888888,
             "#fdca26"
            ],
            [
             1,
             "#f0f921"
            ]
           ],
           "sequentialminus": [
            [
             0,
             "#0d0887"
            ],
            [
             0.1111111111111111,
             "#46039f"
            ],
            [
             0.2222222222222222,
             "#7201a8"
            ],
            [
             0.3333333333333333,
             "#9c179e"
            ],
            [
             0.4444444444444444,
             "#bd3786"
            ],
            [
             0.5555555555555556,
             "#d8576b"
            ],
            [
             0.6666666666666666,
             "#ed7953"
            ],
            [
             0.7777777777777778,
             "#fb9f3a"
            ],
            [
             0.8888888888888888,
             "#fdca26"
            ],
            [
             1,
             "#f0f921"
            ]
           ]
          },
          "colorway": [
           "#636efa",
           "#EF553B",
           "#00cc96",
           "#ab63fa",
           "#FFA15A",
           "#19d3f3",
           "#FF6692",
           "#B6E880",
           "#FF97FF",
           "#FECB52"
          ],
          "font": {
           "color": "#2a3f5f"
          },
          "geo": {
           "bgcolor": "white",
           "lakecolor": "white",
           "landcolor": "#E5ECF6",
           "showlakes": true,
           "showland": true,
           "subunitcolor": "white"
          },
          "hoverlabel": {
           "align": "left"
          },
          "hovermode": "closest",
          "mapbox": {
           "style": "light"
          },
          "paper_bgcolor": "white",
          "plot_bgcolor": "#E5ECF6",
          "polar": {
           "angularaxis": {
            "gridcolor": "white",
            "linecolor": "white",
            "ticks": ""
           },
           "bgcolor": "#E5ECF6",
           "radialaxis": {
            "gridcolor": "white",
            "linecolor": "white",
            "ticks": ""
           }
          },
          "scene": {
           "xaxis": {
            "backgroundcolor": "#E5ECF6",
            "gridcolor": "white",
            "gridwidth": 2,
            "linecolor": "white",
            "showbackground": true,
            "ticks": "",
            "zerolinecolor": "white"
           },
           "yaxis": {
            "backgroundcolor": "#E5ECF6",
            "gridcolor": "white",
            "gridwidth": 2,
            "linecolor": "white",
            "showbackground": true,
            "ticks": "",
            "zerolinecolor": "white"
           },
           "zaxis": {
            "backgroundcolor": "#E5ECF6",
            "gridcolor": "white",
            "gridwidth": 2,
            "linecolor": "white",
            "showbackground": true,
            "ticks": "",
            "zerolinecolor": "white"
           }
          },
          "shapedefaults": {
           "line": {
            "color": "#2a3f5f"
           }
          },
          "ternary": {
           "aaxis": {
            "gridcolor": "white",
            "linecolor": "white",
            "ticks": ""
           },
           "baxis": {
            "gridcolor": "white",
            "linecolor": "white",
            "ticks": ""
           },
           "bgcolor": "#E5ECF6",
           "caxis": {
            "gridcolor": "white",
            "linecolor": "white",
            "ticks": ""
           }
          },
          "title": {
           "x": 0.05
          },
          "xaxis": {
           "automargin": true,
           "gridcolor": "white",
           "linecolor": "white",
           "ticks": "",
           "title": {
            "standoff": 15
           },
           "zerolinecolor": "white",
           "zerolinewidth": 2
          },
          "yaxis": {
           "automargin": true,
           "gridcolor": "white",
           "linecolor": "white",
           "ticks": "",
           "title": {
            "standoff": 15
           },
           "zerolinecolor": "white",
           "zerolinewidth": 2
          }
         }
        },
        "title": {
         "text": "Spiled"
        },
        "xaxis": {
         "gridcolor": "rgb(0, 0, 0)",
         "showticklabels": false,
         "side": "top",
         "ticks": ""
        },
        "yaxis": {
         "showticklabels": false,
         "ticks": "",
         "ticksuffix": "  "
        }
       }
      },
      "text/html": [
       "<div>                            <div id=\"b0ec6fe8-d7ea-4807-9144-20c5cd25e6b0\" class=\"plotly-graph-div\" style=\"height:525px; width:100%;\"></div>            <script type=\"text/javascript\">                require([\"plotly\"], function(Plotly) {                    window.PLOTLYENV=window.PLOTLYENV || {};                                    if (document.getElementById(\"b0ec6fe8-d7ea-4807-9144-20c5cd25e6b0\")) {                    Plotly.newPlot(                        \"b0ec6fe8-d7ea-4807-9144-20c5cd25e6b0\",                        [{\"colorscale\":[[0.0,\"#0d0887\"],[0.1111111111111111,\"#46039f\"],[0.2222222222222222,\"#7201a8\"],[0.3333333333333333,\"#9c179e\"],[0.4444444444444444,\"#bd3786\"],[0.5555555555555556,\"#d8576b\"],[0.6666666666666666,\"#ed7953\"],[0.7777777777777778,\"#fb9f3a\"],[0.8888888888888888,\"#fdca26\"],[1.0,\"#f0f921\"]],\"reversescale\":false,\"showscale\":true,\"z\":[[0.36,0.37,0.38,0.39,0.39,0.39,0.4,0.4,0.4,0.42,0.42,0.43,0.43,0.44,0.44,0.44,0.44,0.44,0.44],[0.34,0.36,0.37,0.39,0.38,0.39,0.39,0.4,0.4,0.41,0.42,0.42,0.43,0.44,0.43,0.44,0.44,0.44,0.44],[0.34,0.35,0.37,0.37,0.38,0.38,0.39,0.4,0.4,0.41,0.41,0.42,0.43,0.44,0.43,0.44,0.43,0.44,0.44],[0.34,0.34,0.35,0.36,0.38,0.38,0.38,0.39,0.4,0.4,0.41,0.42,0.43,0.43,0.43,0.43,0.46,0.46,0.46],[0.33,0.34,0.35,0.35,0.36,0.37,0.37,0.37,0.38,0.39,0.4,0.41,0.42,0.43,0.45,0.47,0.48,0.48,0.48],[0.33,0.34,0.35,0.35,0.36,0.35,0.37,0.37,0.38,0.38,0.39,0.4,0.43,0.44,0.49,0.49,0.49,0.49,0.49],[0.33,0.33,0.34,0.34,0.34,0.35,0.36,0.37,0.38,0.38,0.39,0.4,0.43,0.47,0.51,0.52,0.52,0.51,0.52],[0.33,0.33,0.34,0.34,0.34,0.35,0.36,0.37,0.37,0.38,0.4,0.42,0.44,0.49,0.52,0.54,0.54,0.55,0.57],[0.33,0.33,0.34,0.35,0.35,0.35,0.36,0.36,0.37,0.39,0.4,0.42,0.45,0.5,0.54,0.56,0.56,0.57,0.59],[0.32,0.32,0.34,0.34,0.35,0.35,0.36,0.37,0.38,0.39,0.41,0.43,0.48,0.51,0.54,0.57,0.58,0.59,0.59],[0.32,0.33,0.33,0.34,0.35,0.35,0.36,0.37,0.39,0.4,0.43,0.45,0.49,0.53,0.56,0.58,0.59,0.59,0.6],[0.32,0.33,0.33,0.34,0.36,0.36,0.36,0.37,0.38,0.4,0.44,0.48,0.52,0.55,0.58,0.59,0.6,0.6,0.6],[0.32,0.33,0.32,0.33,0.35,0.36,0.36,0.37,0.4,0.43,0.45,0.5,0.53,0.57,0.59,0.61,0.62,0.63,0.64],[0.31,0.32,0.34,0.34,0.35,0.37,0.38,0.39,0.44,0.45,0.48,0.52,0.55,0.57,0.61,0.64,0.65,0.64,0.65],[0.32,0.33,0.33,0.34,0.36,0.37,0.39,0.42,0.45,0.46,0.5,0.52,0.54,0.59,0.62,0.64,0.66,0.66,0.66],[0.32,0.33,0.34,0.34,0.36,0.39,0.4,0.43,0.45,0.48,0.5,0.52,0.57,0.61,0.64,0.66,0.67,0.67,0.67],[0.33,0.33,0.34,0.35,0.36,0.39,0.4,0.42,0.46,0.49,0.51,0.54,0.6,0.62,0.64,0.66,0.68,0.69,0.68],[0.32,0.33,0.34,0.36,0.37,0.39,0.41,0.45,0.48,0.5,0.52,0.57,0.61,0.62,0.64,0.66,0.69,0.69,0.69],[0.32,0.33,0.34,0.36,0.36,0.39,0.41,0.44,0.49,0.51,0.54,0.57,0.61,0.62,0.64,0.65,0.68,0.69,0.69]],\"type\":\"heatmap\"}],                        {\"annotations\":[{\"font\":{\"color\":\"#FFFFFF\",\"size\":7},\"showarrow\":false,\"text\":\"0.36\",\"x\":0,\"xref\":\"x\",\"y\":0,\"yref\":\"y\"},{\"font\":{\"color\":\"#FFFFFF\",\"size\":7},\"showarrow\":false,\"text\":\"0.37\",\"x\":1,\"xref\":\"x\",\"y\":0,\"yref\":\"y\"},{\"font\":{\"color\":\"#FFFFFF\",\"size\":7},\"showarrow\":false,\"text\":\"0.38\",\"x\":2,\"xref\":\"x\",\"y\":0,\"yref\":\"y\"},{\"font\":{\"color\":\"#FFFFFF\",\"size\":7},\"showarrow\":false,\"text\":\"0.39\",\"x\":3,\"xref\":\"x\",\"y\":0,\"yref\":\"y\"},{\"font\":{\"color\":\"#FFFFFF\",\"size\":7},\"showarrow\":false,\"text\":\"0.39\",\"x\":4,\"xref\":\"x\",\"y\":0,\"yref\":\"y\"},{\"font\":{\"color\":\"#FFFFFF\",\"size\":7},\"showarrow\":false,\"text\":\"0.39\",\"x\":5,\"xref\":\"x\",\"y\":0,\"yref\":\"y\"},{\"font\":{\"color\":\"#FFFFFF\",\"size\":7},\"showarrow\":false,\"text\":\"0.4\",\"x\":6,\"xref\":\"x\",\"y\":0,\"yref\":\"y\"},{\"font\":{\"color\":\"#FFFFFF\",\"size\":7},\"showarrow\":false,\"text\":\"0.4\",\"x\":7,\"xref\":\"x\",\"y\":0,\"yref\":\"y\"},{\"font\":{\"color\":\"#FFFFFF\",\"size\":7},\"showarrow\":false,\"text\":\"0.4\",\"x\":8,\"xref\":\"x\",\"y\":0,\"yref\":\"y\"},{\"font\":{\"color\":\"#FFFFFF\",\"size\":7},\"showarrow\":false,\"text\":\"0.42\",\"x\":9,\"xref\":\"x\",\"y\":0,\"yref\":\"y\"},{\"font\":{\"color\":\"#FFFFFF\",\"size\":7},\"showarrow\":false,\"text\":\"0.42\",\"x\":10,\"xref\":\"x\",\"y\":0,\"yref\":\"y\"},{\"font\":{\"color\":\"#FFFFFF\",\"size\":7},\"showarrow\":false,\"text\":\"0.43\",\"x\":11,\"xref\":\"x\",\"y\":0,\"yref\":\"y\"},{\"font\":{\"color\":\"#FFFFFF\",\"size\":7},\"showarrow\":false,\"text\":\"0.43\",\"x\":12,\"xref\":\"x\",\"y\":0,\"yref\":\"y\"},{\"font\":{\"color\":\"#FFFFFF\",\"size\":7},\"showarrow\":false,\"text\":\"0.44\",\"x\":13,\"xref\":\"x\",\"y\":0,\"yref\":\"y\"},{\"font\":{\"color\":\"#FFFFFF\",\"size\":7},\"showarrow\":false,\"text\":\"0.44\",\"x\":14,\"xref\":\"x\",\"y\":0,\"yref\":\"y\"},{\"font\":{\"color\":\"#FFFFFF\",\"size\":7},\"showarrow\":false,\"text\":\"0.44\",\"x\":15,\"xref\":\"x\",\"y\":0,\"yref\":\"y\"},{\"font\":{\"color\":\"#FFFFFF\",\"size\":7},\"showarrow\":false,\"text\":\"0.44\",\"x\":16,\"xref\":\"x\",\"y\":0,\"yref\":\"y\"},{\"font\":{\"color\":\"#FFFFFF\",\"size\":7},\"showarrow\":false,\"text\":\"0.44\",\"x\":17,\"xref\":\"x\",\"y\":0,\"yref\":\"y\"},{\"font\":{\"color\":\"#FFFFFF\",\"size\":7},\"showarrow\":false,\"text\":\"0.44\",\"x\":18,\"xref\":\"x\",\"y\":0,\"yref\":\"y\"},{\"font\":{\"color\":\"#FFFFFF\",\"size\":7},\"showarrow\":false,\"text\":\"0.34\",\"x\":0,\"xref\":\"x\",\"y\":1,\"yref\":\"y\"},{\"font\":{\"color\":\"#FFFFFF\",\"size\":7},\"showarrow\":false,\"text\":\"0.36\",\"x\":1,\"xref\":\"x\",\"y\":1,\"yref\":\"y\"},{\"font\":{\"color\":\"#FFFFFF\",\"size\":7},\"showarrow\":false,\"text\":\"0.37\",\"x\":2,\"xref\":\"x\",\"y\":1,\"yref\":\"y\"},{\"font\":{\"color\":\"#FFFFFF\",\"size\":7},\"showarrow\":false,\"text\":\"0.39\",\"x\":3,\"xref\":\"x\",\"y\":1,\"yref\":\"y\"},{\"font\":{\"color\":\"#FFFFFF\",\"size\":7},\"showarrow\":false,\"text\":\"0.38\",\"x\":4,\"xref\":\"x\",\"y\":1,\"yref\":\"y\"},{\"font\":{\"color\":\"#FFFFFF\",\"size\":7},\"showarrow\":false,\"text\":\"0.39\",\"x\":5,\"xref\":\"x\",\"y\":1,\"yref\":\"y\"},{\"font\":{\"color\":\"#FFFFFF\",\"size\":7},\"showarrow\":false,\"text\":\"0.39\",\"x\":6,\"xref\":\"x\",\"y\":1,\"yref\":\"y\"},{\"font\":{\"color\":\"#FFFFFF\",\"size\":7},\"showarrow\":false,\"text\":\"0.4\",\"x\":7,\"xref\":\"x\",\"y\":1,\"yref\":\"y\"},{\"font\":{\"color\":\"#FFFFFF\",\"size\":7},\"showarrow\":false,\"text\":\"0.4\",\"x\":8,\"xref\":\"x\",\"y\":1,\"yref\":\"y\"},{\"font\":{\"color\":\"#FFFFFF\",\"size\":7},\"showarrow\":false,\"text\":\"0.41\",\"x\":9,\"xref\":\"x\",\"y\":1,\"yref\":\"y\"},{\"font\":{\"color\":\"#FFFFFF\",\"size\":7},\"showarrow\":false,\"text\":\"0.42\",\"x\":10,\"xref\":\"x\",\"y\":1,\"yref\":\"y\"},{\"font\":{\"color\":\"#FFFFFF\",\"size\":7},\"showarrow\":false,\"text\":\"0.42\",\"x\":11,\"xref\":\"x\",\"y\":1,\"yref\":\"y\"},{\"font\":{\"color\":\"#FFFFFF\",\"size\":7},\"showarrow\":false,\"text\":\"0.43\",\"x\":12,\"xref\":\"x\",\"y\":1,\"yref\":\"y\"},{\"font\":{\"color\":\"#FFFFFF\",\"size\":7},\"showarrow\":false,\"text\":\"0.44\",\"x\":13,\"xref\":\"x\",\"y\":1,\"yref\":\"y\"},{\"font\":{\"color\":\"#FFFFFF\",\"size\":7},\"showarrow\":false,\"text\":\"0.43\",\"x\":14,\"xref\":\"x\",\"y\":1,\"yref\":\"y\"},{\"font\":{\"color\":\"#FFFFFF\",\"size\":7},\"showarrow\":false,\"text\":\"0.44\",\"x\":15,\"xref\":\"x\",\"y\":1,\"yref\":\"y\"},{\"font\":{\"color\":\"#FFFFFF\",\"size\":7},\"showarrow\":false,\"text\":\"0.44\",\"x\":16,\"xref\":\"x\",\"y\":1,\"yref\":\"y\"},{\"font\":{\"color\":\"#FFFFFF\",\"size\":7},\"showarrow\":false,\"text\":\"0.44\",\"x\":17,\"xref\":\"x\",\"y\":1,\"yref\":\"y\"},{\"font\":{\"color\":\"#FFFFFF\",\"size\":7},\"showarrow\":false,\"text\":\"0.44\",\"x\":18,\"xref\":\"x\",\"y\":1,\"yref\":\"y\"},{\"font\":{\"color\":\"#FFFFFF\",\"size\":7},\"showarrow\":false,\"text\":\"0.34\",\"x\":0,\"xref\":\"x\",\"y\":2,\"yref\":\"y\"},{\"font\":{\"color\":\"#FFFFFF\",\"size\":7},\"showarrow\":false,\"text\":\"0.35\",\"x\":1,\"xref\":\"x\",\"y\":2,\"yref\":\"y\"},{\"font\":{\"color\":\"#FFFFFF\",\"size\":7},\"showarrow\":false,\"text\":\"0.37\",\"x\":2,\"xref\":\"x\",\"y\":2,\"yref\":\"y\"},{\"font\":{\"color\":\"#FFFFFF\",\"size\":7},\"showarrow\":false,\"text\":\"0.37\",\"x\":3,\"xref\":\"x\",\"y\":2,\"yref\":\"y\"},{\"font\":{\"color\":\"#FFFFFF\",\"size\":7},\"showarrow\":false,\"text\":\"0.38\",\"x\":4,\"xref\":\"x\",\"y\":2,\"yref\":\"y\"},{\"font\":{\"color\":\"#FFFFFF\",\"size\":7},\"showarrow\":false,\"text\":\"0.38\",\"x\":5,\"xref\":\"x\",\"y\":2,\"yref\":\"y\"},{\"font\":{\"color\":\"#FFFFFF\",\"size\":7},\"showarrow\":false,\"text\":\"0.39\",\"x\":6,\"xref\":\"x\",\"y\":2,\"yref\":\"y\"},{\"font\":{\"color\":\"#FFFFFF\",\"size\":7},\"showarrow\":false,\"text\":\"0.4\",\"x\":7,\"xref\":\"x\",\"y\":2,\"yref\":\"y\"},{\"font\":{\"color\":\"#FFFFFF\",\"size\":7},\"showarrow\":false,\"text\":\"0.4\",\"x\":8,\"xref\":\"x\",\"y\":2,\"yref\":\"y\"},{\"font\":{\"color\":\"#FFFFFF\",\"size\":7},\"showarrow\":false,\"text\":\"0.41\",\"x\":9,\"xref\":\"x\",\"y\":2,\"yref\":\"y\"},{\"font\":{\"color\":\"#FFFFFF\",\"size\":7},\"showarrow\":false,\"text\":\"0.41\",\"x\":10,\"xref\":\"x\",\"y\":2,\"yref\":\"y\"},{\"font\":{\"color\":\"#FFFFFF\",\"size\":7},\"showarrow\":false,\"text\":\"0.42\",\"x\":11,\"xref\":\"x\",\"y\":2,\"yref\":\"y\"},{\"font\":{\"color\":\"#FFFFFF\",\"size\":7},\"showarrow\":false,\"text\":\"0.43\",\"x\":12,\"xref\":\"x\",\"y\":2,\"yref\":\"y\"},{\"font\":{\"color\":\"#FFFFFF\",\"size\":7},\"showarrow\":false,\"text\":\"0.44\",\"x\":13,\"xref\":\"x\",\"y\":2,\"yref\":\"y\"},{\"font\":{\"color\":\"#FFFFFF\",\"size\":7},\"showarrow\":false,\"text\":\"0.43\",\"x\":14,\"xref\":\"x\",\"y\":2,\"yref\":\"y\"},{\"font\":{\"color\":\"#FFFFFF\",\"size\":7},\"showarrow\":false,\"text\":\"0.44\",\"x\":15,\"xref\":\"x\",\"y\":2,\"yref\":\"y\"},{\"font\":{\"color\":\"#FFFFFF\",\"size\":7},\"showarrow\":false,\"text\":\"0.43\",\"x\":16,\"xref\":\"x\",\"y\":2,\"yref\":\"y\"},{\"font\":{\"color\":\"#FFFFFF\",\"size\":7},\"showarrow\":false,\"text\":\"0.44\",\"x\":17,\"xref\":\"x\",\"y\":2,\"yref\":\"y\"},{\"font\":{\"color\":\"#FFFFFF\",\"size\":7},\"showarrow\":false,\"text\":\"0.44\",\"x\":18,\"xref\":\"x\",\"y\":2,\"yref\":\"y\"},{\"font\":{\"color\":\"#FFFFFF\",\"size\":7},\"showarrow\":false,\"text\":\"0.34\",\"x\":0,\"xref\":\"x\",\"y\":3,\"yref\":\"y\"},{\"font\":{\"color\":\"#FFFFFF\",\"size\":7},\"showarrow\":false,\"text\":\"0.34\",\"x\":1,\"xref\":\"x\",\"y\":3,\"yref\":\"y\"},{\"font\":{\"color\":\"#FFFFFF\",\"size\":7},\"showarrow\":false,\"text\":\"0.35\",\"x\":2,\"xref\":\"x\",\"y\":3,\"yref\":\"y\"},{\"font\":{\"color\":\"#FFFFFF\",\"size\":7},\"showarrow\":false,\"text\":\"0.36\",\"x\":3,\"xref\":\"x\",\"y\":3,\"yref\":\"y\"},{\"font\":{\"color\":\"#FFFFFF\",\"size\":7},\"showarrow\":false,\"text\":\"0.38\",\"x\":4,\"xref\":\"x\",\"y\":3,\"yref\":\"y\"},{\"font\":{\"color\":\"#FFFFFF\",\"size\":7},\"showarrow\":false,\"text\":\"0.38\",\"x\":5,\"xref\":\"x\",\"y\":3,\"yref\":\"y\"},{\"font\":{\"color\":\"#FFFFFF\",\"size\":7},\"showarrow\":false,\"text\":\"0.38\",\"x\":6,\"xref\":\"x\",\"y\":3,\"yref\":\"y\"},{\"font\":{\"color\":\"#FFFFFF\",\"size\":7},\"showarrow\":false,\"text\":\"0.39\",\"x\":7,\"xref\":\"x\",\"y\":3,\"yref\":\"y\"},{\"font\":{\"color\":\"#FFFFFF\",\"size\":7},\"showarrow\":false,\"text\":\"0.4\",\"x\":8,\"xref\":\"x\",\"y\":3,\"yref\":\"y\"},{\"font\":{\"color\":\"#FFFFFF\",\"size\":7},\"showarrow\":false,\"text\":\"0.4\",\"x\":9,\"xref\":\"x\",\"y\":3,\"yref\":\"y\"},{\"font\":{\"color\":\"#FFFFFF\",\"size\":7},\"showarrow\":false,\"text\":\"0.41\",\"x\":10,\"xref\":\"x\",\"y\":3,\"yref\":\"y\"},{\"font\":{\"color\":\"#FFFFFF\",\"size\":7},\"showarrow\":false,\"text\":\"0.42\",\"x\":11,\"xref\":\"x\",\"y\":3,\"yref\":\"y\"},{\"font\":{\"color\":\"#FFFFFF\",\"size\":7},\"showarrow\":false,\"text\":\"0.43\",\"x\":12,\"xref\":\"x\",\"y\":3,\"yref\":\"y\"},{\"font\":{\"color\":\"#FFFFFF\",\"size\":7},\"showarrow\":false,\"text\":\"0.43\",\"x\":13,\"xref\":\"x\",\"y\":3,\"yref\":\"y\"},{\"font\":{\"color\":\"#FFFFFF\",\"size\":7},\"showarrow\":false,\"text\":\"0.43\",\"x\":14,\"xref\":\"x\",\"y\":3,\"yref\":\"y\"},{\"font\":{\"color\":\"#FFFFFF\",\"size\":7},\"showarrow\":false,\"text\":\"0.43\",\"x\":15,\"xref\":\"x\",\"y\":3,\"yref\":\"y\"},{\"font\":{\"color\":\"#FFFFFF\",\"size\":7},\"showarrow\":false,\"text\":\"0.46\",\"x\":16,\"xref\":\"x\",\"y\":3,\"yref\":\"y\"},{\"font\":{\"color\":\"#FFFFFF\",\"size\":7},\"showarrow\":false,\"text\":\"0.46\",\"x\":17,\"xref\":\"x\",\"y\":3,\"yref\":\"y\"},{\"font\":{\"color\":\"#FFFFFF\",\"size\":7},\"showarrow\":false,\"text\":\"0.46\",\"x\":18,\"xref\":\"x\",\"y\":3,\"yref\":\"y\"},{\"font\":{\"color\":\"#FFFFFF\",\"size\":7},\"showarrow\":false,\"text\":\"0.33\",\"x\":0,\"xref\":\"x\",\"y\":4,\"yref\":\"y\"},{\"font\":{\"color\":\"#FFFFFF\",\"size\":7},\"showarrow\":false,\"text\":\"0.34\",\"x\":1,\"xref\":\"x\",\"y\":4,\"yref\":\"y\"},{\"font\":{\"color\":\"#FFFFFF\",\"size\":7},\"showarrow\":false,\"text\":\"0.35\",\"x\":2,\"xref\":\"x\",\"y\":4,\"yref\":\"y\"},{\"font\":{\"color\":\"#FFFFFF\",\"size\":7},\"showarrow\":false,\"text\":\"0.35\",\"x\":3,\"xref\":\"x\",\"y\":4,\"yref\":\"y\"},{\"font\":{\"color\":\"#FFFFFF\",\"size\":7},\"showarrow\":false,\"text\":\"0.36\",\"x\":4,\"xref\":\"x\",\"y\":4,\"yref\":\"y\"},{\"font\":{\"color\":\"#FFFFFF\",\"size\":7},\"showarrow\":false,\"text\":\"0.37\",\"x\":5,\"xref\":\"x\",\"y\":4,\"yref\":\"y\"},{\"font\":{\"color\":\"#FFFFFF\",\"size\":7},\"showarrow\":false,\"text\":\"0.37\",\"x\":6,\"xref\":\"x\",\"y\":4,\"yref\":\"y\"},{\"font\":{\"color\":\"#FFFFFF\",\"size\":7},\"showarrow\":false,\"text\":\"0.37\",\"x\":7,\"xref\":\"x\",\"y\":4,\"yref\":\"y\"},{\"font\":{\"color\":\"#FFFFFF\",\"size\":7},\"showarrow\":false,\"text\":\"0.38\",\"x\":8,\"xref\":\"x\",\"y\":4,\"yref\":\"y\"},{\"font\":{\"color\":\"#FFFFFF\",\"size\":7},\"showarrow\":false,\"text\":\"0.39\",\"x\":9,\"xref\":\"x\",\"y\":4,\"yref\":\"y\"},{\"font\":{\"color\":\"#FFFFFF\",\"size\":7},\"showarrow\":false,\"text\":\"0.4\",\"x\":10,\"xref\":\"x\",\"y\":4,\"yref\":\"y\"},{\"font\":{\"color\":\"#FFFFFF\",\"size\":7},\"showarrow\":false,\"text\":\"0.41\",\"x\":11,\"xref\":\"x\",\"y\":4,\"yref\":\"y\"},{\"font\":{\"color\":\"#FFFFFF\",\"size\":7},\"showarrow\":false,\"text\":\"0.42\",\"x\":12,\"xref\":\"x\",\"y\":4,\"yref\":\"y\"},{\"font\":{\"color\":\"#FFFFFF\",\"size\":7},\"showarrow\":false,\"text\":\"0.43\",\"x\":13,\"xref\":\"x\",\"y\":4,\"yref\":\"y\"},{\"font\":{\"color\":\"#FFFFFF\",\"size\":7},\"showarrow\":false,\"text\":\"0.45\",\"x\":14,\"xref\":\"x\",\"y\":4,\"yref\":\"y\"},{\"font\":{\"color\":\"#FFFFFF\",\"size\":7},\"showarrow\":false,\"text\":\"0.47\",\"x\":15,\"xref\":\"x\",\"y\":4,\"yref\":\"y\"},{\"font\":{\"color\":\"#FFFFFF\",\"size\":7},\"showarrow\":false,\"text\":\"0.48\",\"x\":16,\"xref\":\"x\",\"y\":4,\"yref\":\"y\"},{\"font\":{\"color\":\"#FFFFFF\",\"size\":7},\"showarrow\":false,\"text\":\"0.48\",\"x\":17,\"xref\":\"x\",\"y\":4,\"yref\":\"y\"},{\"font\":{\"color\":\"#FFFFFF\",\"size\":7},\"showarrow\":false,\"text\":\"0.48\",\"x\":18,\"xref\":\"x\",\"y\":4,\"yref\":\"y\"},{\"font\":{\"color\":\"#FFFFFF\",\"size\":7},\"showarrow\":false,\"text\":\"0.33\",\"x\":0,\"xref\":\"x\",\"y\":5,\"yref\":\"y\"},{\"font\":{\"color\":\"#FFFFFF\",\"size\":7},\"showarrow\":false,\"text\":\"0.34\",\"x\":1,\"xref\":\"x\",\"y\":5,\"yref\":\"y\"},{\"font\":{\"color\":\"#FFFFFF\",\"size\":7},\"showarrow\":false,\"text\":\"0.35\",\"x\":2,\"xref\":\"x\",\"y\":5,\"yref\":\"y\"},{\"font\":{\"color\":\"#FFFFFF\",\"size\":7},\"showarrow\":false,\"text\":\"0.35\",\"x\":3,\"xref\":\"x\",\"y\":5,\"yref\":\"y\"},{\"font\":{\"color\":\"#FFFFFF\",\"size\":7},\"showarrow\":false,\"text\":\"0.36\",\"x\":4,\"xref\":\"x\",\"y\":5,\"yref\":\"y\"},{\"font\":{\"color\":\"#FFFFFF\",\"size\":7},\"showarrow\":false,\"text\":\"0.35\",\"x\":5,\"xref\":\"x\",\"y\":5,\"yref\":\"y\"},{\"font\":{\"color\":\"#FFFFFF\",\"size\":7},\"showarrow\":false,\"text\":\"0.37\",\"x\":6,\"xref\":\"x\",\"y\":5,\"yref\":\"y\"},{\"font\":{\"color\":\"#FFFFFF\",\"size\":7},\"showarrow\":false,\"text\":\"0.37\",\"x\":7,\"xref\":\"x\",\"y\":5,\"yref\":\"y\"},{\"font\":{\"color\":\"#FFFFFF\",\"size\":7},\"showarrow\":false,\"text\":\"0.38\",\"x\":8,\"xref\":\"x\",\"y\":5,\"yref\":\"y\"},{\"font\":{\"color\":\"#FFFFFF\",\"size\":7},\"showarrow\":false,\"text\":\"0.38\",\"x\":9,\"xref\":\"x\",\"y\":5,\"yref\":\"y\"},{\"font\":{\"color\":\"#FFFFFF\",\"size\":7},\"showarrow\":false,\"text\":\"0.39\",\"x\":10,\"xref\":\"x\",\"y\":5,\"yref\":\"y\"},{\"font\":{\"color\":\"#FFFFFF\",\"size\":7},\"showarrow\":false,\"text\":\"0.4\",\"x\":11,\"xref\":\"x\",\"y\":5,\"yref\":\"y\"},{\"font\":{\"color\":\"#FFFFFF\",\"size\":7},\"showarrow\":false,\"text\":\"0.43\",\"x\":12,\"xref\":\"x\",\"y\":5,\"yref\":\"y\"},{\"font\":{\"color\":\"#FFFFFF\",\"size\":7},\"showarrow\":false,\"text\":\"0.44\",\"x\":13,\"xref\":\"x\",\"y\":5,\"yref\":\"y\"},{\"font\":{\"color\":\"#FFFFFF\",\"size\":7},\"showarrow\":false,\"text\":\"0.49\",\"x\":14,\"xref\":\"x\",\"y\":5,\"yref\":\"y\"},{\"font\":{\"color\":\"#FFFFFF\",\"size\":7},\"showarrow\":false,\"text\":\"0.49\",\"x\":15,\"xref\":\"x\",\"y\":5,\"yref\":\"y\"},{\"font\":{\"color\":\"#FFFFFF\",\"size\":7},\"showarrow\":false,\"text\":\"0.49\",\"x\":16,\"xref\":\"x\",\"y\":5,\"yref\":\"y\"},{\"font\":{\"color\":\"#FFFFFF\",\"size\":7},\"showarrow\":false,\"text\":\"0.49\",\"x\":17,\"xref\":\"x\",\"y\":5,\"yref\":\"y\"},{\"font\":{\"color\":\"#FFFFFF\",\"size\":7},\"showarrow\":false,\"text\":\"0.49\",\"x\":18,\"xref\":\"x\",\"y\":5,\"yref\":\"y\"},{\"font\":{\"color\":\"#FFFFFF\",\"size\":7},\"showarrow\":false,\"text\":\"0.33\",\"x\":0,\"xref\":\"x\",\"y\":6,\"yref\":\"y\"},{\"font\":{\"color\":\"#FFFFFF\",\"size\":7},\"showarrow\":false,\"text\":\"0.33\",\"x\":1,\"xref\":\"x\",\"y\":6,\"yref\":\"y\"},{\"font\":{\"color\":\"#FFFFFF\",\"size\":7},\"showarrow\":false,\"text\":\"0.34\",\"x\":2,\"xref\":\"x\",\"y\":6,\"yref\":\"y\"},{\"font\":{\"color\":\"#FFFFFF\",\"size\":7},\"showarrow\":false,\"text\":\"0.34\",\"x\":3,\"xref\":\"x\",\"y\":6,\"yref\":\"y\"},{\"font\":{\"color\":\"#FFFFFF\",\"size\":7},\"showarrow\":false,\"text\":\"0.34\",\"x\":4,\"xref\":\"x\",\"y\":6,\"yref\":\"y\"},{\"font\":{\"color\":\"#FFFFFF\",\"size\":7},\"showarrow\":false,\"text\":\"0.35\",\"x\":5,\"xref\":\"x\",\"y\":6,\"yref\":\"y\"},{\"font\":{\"color\":\"#FFFFFF\",\"size\":7},\"showarrow\":false,\"text\":\"0.36\",\"x\":6,\"xref\":\"x\",\"y\":6,\"yref\":\"y\"},{\"font\":{\"color\":\"#FFFFFF\",\"size\":7},\"showarrow\":false,\"text\":\"0.37\",\"x\":7,\"xref\":\"x\",\"y\":6,\"yref\":\"y\"},{\"font\":{\"color\":\"#FFFFFF\",\"size\":7},\"showarrow\":false,\"text\":\"0.38\",\"x\":8,\"xref\":\"x\",\"y\":6,\"yref\":\"y\"},{\"font\":{\"color\":\"#FFFFFF\",\"size\":7},\"showarrow\":false,\"text\":\"0.38\",\"x\":9,\"xref\":\"x\",\"y\":6,\"yref\":\"y\"},{\"font\":{\"color\":\"#FFFFFF\",\"size\":7},\"showarrow\":false,\"text\":\"0.39\",\"x\":10,\"xref\":\"x\",\"y\":6,\"yref\":\"y\"},{\"font\":{\"color\":\"#FFFFFF\",\"size\":7},\"showarrow\":false,\"text\":\"0.4\",\"x\":11,\"xref\":\"x\",\"y\":6,\"yref\":\"y\"},{\"font\":{\"color\":\"#FFFFFF\",\"size\":7},\"showarrow\":false,\"text\":\"0.43\",\"x\":12,\"xref\":\"x\",\"y\":6,\"yref\":\"y\"},{\"font\":{\"color\":\"#FFFFFF\",\"size\":7},\"showarrow\":false,\"text\":\"0.47\",\"x\":13,\"xref\":\"x\",\"y\":6,\"yref\":\"y\"},{\"font\":{\"color\":\"#000000\",\"size\":7},\"showarrow\":false,\"text\":\"0.51\",\"x\":14,\"xref\":\"x\",\"y\":6,\"yref\":\"y\"},{\"font\":{\"color\":\"#000000\",\"size\":7},\"showarrow\":false,\"text\":\"0.52\",\"x\":15,\"xref\":\"x\",\"y\":6,\"yref\":\"y\"},{\"font\":{\"color\":\"#000000\",\"size\":7},\"showarrow\":false,\"text\":\"0.52\",\"x\":16,\"xref\":\"x\",\"y\":6,\"yref\":\"y\"},{\"font\":{\"color\":\"#000000\",\"size\":7},\"showarrow\":false,\"text\":\"0.51\",\"x\":17,\"xref\":\"x\",\"y\":6,\"yref\":\"y\"},{\"font\":{\"color\":\"#000000\",\"size\":7},\"showarrow\":false,\"text\":\"0.52\",\"x\":18,\"xref\":\"x\",\"y\":6,\"yref\":\"y\"},{\"font\":{\"color\":\"#FFFFFF\",\"size\":7},\"showarrow\":false,\"text\":\"0.33\",\"x\":0,\"xref\":\"x\",\"y\":7,\"yref\":\"y\"},{\"font\":{\"color\":\"#FFFFFF\",\"size\":7},\"showarrow\":false,\"text\":\"0.33\",\"x\":1,\"xref\":\"x\",\"y\":7,\"yref\":\"y\"},{\"font\":{\"color\":\"#FFFFFF\",\"size\":7},\"showarrow\":false,\"text\":\"0.34\",\"x\":2,\"xref\":\"x\",\"y\":7,\"yref\":\"y\"},{\"font\":{\"color\":\"#FFFFFF\",\"size\":7},\"showarrow\":false,\"text\":\"0.34\",\"x\":3,\"xref\":\"x\",\"y\":7,\"yref\":\"y\"},{\"font\":{\"color\":\"#FFFFFF\",\"size\":7},\"showarrow\":false,\"text\":\"0.34\",\"x\":4,\"xref\":\"x\",\"y\":7,\"yref\":\"y\"},{\"font\":{\"color\":\"#FFFFFF\",\"size\":7},\"showarrow\":false,\"text\":\"0.35\",\"x\":5,\"xref\":\"x\",\"y\":7,\"yref\":\"y\"},{\"font\":{\"color\":\"#FFFFFF\",\"size\":7},\"showarrow\":false,\"text\":\"0.36\",\"x\":6,\"xref\":\"x\",\"y\":7,\"yref\":\"y\"},{\"font\":{\"color\":\"#FFFFFF\",\"size\":7},\"showarrow\":false,\"text\":\"0.37\",\"x\":7,\"xref\":\"x\",\"y\":7,\"yref\":\"y\"},{\"font\":{\"color\":\"#FFFFFF\",\"size\":7},\"showarrow\":false,\"text\":\"0.37\",\"x\":8,\"xref\":\"x\",\"y\":7,\"yref\":\"y\"},{\"font\":{\"color\":\"#FFFFFF\",\"size\":7},\"showarrow\":false,\"text\":\"0.38\",\"x\":9,\"xref\":\"x\",\"y\":7,\"yref\":\"y\"},{\"font\":{\"color\":\"#FFFFFF\",\"size\":7},\"showarrow\":false,\"text\":\"0.4\",\"x\":10,\"xref\":\"x\",\"y\":7,\"yref\":\"y\"},{\"font\":{\"color\":\"#FFFFFF\",\"size\":7},\"showarrow\":false,\"text\":\"0.42\",\"x\":11,\"xref\":\"x\",\"y\":7,\"yref\":\"y\"},{\"font\":{\"color\":\"#FFFFFF\",\"size\":7},\"showarrow\":false,\"text\":\"0.44\",\"x\":12,\"xref\":\"x\",\"y\":7,\"yref\":\"y\"},{\"font\":{\"color\":\"#FFFFFF\",\"size\":7},\"showarrow\":false,\"text\":\"0.49\",\"x\":13,\"xref\":\"x\",\"y\":7,\"yref\":\"y\"},{\"font\":{\"color\":\"#000000\",\"size\":7},\"showarrow\":false,\"text\":\"0.52\",\"x\":14,\"xref\":\"x\",\"y\":7,\"yref\":\"y\"},{\"font\":{\"color\":\"#000000\",\"size\":7},\"showarrow\":false,\"text\":\"0.54\",\"x\":15,\"xref\":\"x\",\"y\":7,\"yref\":\"y\"},{\"font\":{\"color\":\"#000000\",\"size\":7},\"showarrow\":false,\"text\":\"0.54\",\"x\":16,\"xref\":\"x\",\"y\":7,\"yref\":\"y\"},{\"font\":{\"color\":\"#000000\",\"size\":7},\"showarrow\":false,\"text\":\"0.55\",\"x\":17,\"xref\":\"x\",\"y\":7,\"yref\":\"y\"},{\"font\":{\"color\":\"#000000\",\"size\":7},\"showarrow\":false,\"text\":\"0.57\",\"x\":18,\"xref\":\"x\",\"y\":7,\"yref\":\"y\"},{\"font\":{\"color\":\"#FFFFFF\",\"size\":7},\"showarrow\":false,\"text\":\"0.33\",\"x\":0,\"xref\":\"x\",\"y\":8,\"yref\":\"y\"},{\"font\":{\"color\":\"#FFFFFF\",\"size\":7},\"showarrow\":false,\"text\":\"0.33\",\"x\":1,\"xref\":\"x\",\"y\":8,\"yref\":\"y\"},{\"font\":{\"color\":\"#FFFFFF\",\"size\":7},\"showarrow\":false,\"text\":\"0.34\",\"x\":2,\"xref\":\"x\",\"y\":8,\"yref\":\"y\"},{\"font\":{\"color\":\"#FFFFFF\",\"size\":7},\"showarrow\":false,\"text\":\"0.35\",\"x\":3,\"xref\":\"x\",\"y\":8,\"yref\":\"y\"},{\"font\":{\"color\":\"#FFFFFF\",\"size\":7},\"showarrow\":false,\"text\":\"0.35\",\"x\":4,\"xref\":\"x\",\"y\":8,\"yref\":\"y\"},{\"font\":{\"color\":\"#FFFFFF\",\"size\":7},\"showarrow\":false,\"text\":\"0.35\",\"x\":5,\"xref\":\"x\",\"y\":8,\"yref\":\"y\"},{\"font\":{\"color\":\"#FFFFFF\",\"size\":7},\"showarrow\":false,\"text\":\"0.36\",\"x\":6,\"xref\":\"x\",\"y\":8,\"yref\":\"y\"},{\"font\":{\"color\":\"#FFFFFF\",\"size\":7},\"showarrow\":false,\"text\":\"0.36\",\"x\":7,\"xref\":\"x\",\"y\":8,\"yref\":\"y\"},{\"font\":{\"color\":\"#FFFFFF\",\"size\":7},\"showarrow\":false,\"text\":\"0.37\",\"x\":8,\"xref\":\"x\",\"y\":8,\"yref\":\"y\"},{\"font\":{\"color\":\"#FFFFFF\",\"size\":7},\"showarrow\":false,\"text\":\"0.39\",\"x\":9,\"xref\":\"x\",\"y\":8,\"yref\":\"y\"},{\"font\":{\"color\":\"#FFFFFF\",\"size\":7},\"showarrow\":false,\"text\":\"0.4\",\"x\":10,\"xref\":\"x\",\"y\":8,\"yref\":\"y\"},{\"font\":{\"color\":\"#FFFFFF\",\"size\":7},\"showarrow\":false,\"text\":\"0.42\",\"x\":11,\"xref\":\"x\",\"y\":8,\"yref\":\"y\"},{\"font\":{\"color\":\"#FFFFFF\",\"size\":7},\"showarrow\":false,\"text\":\"0.45\",\"x\":12,\"xref\":\"x\",\"y\":8,\"yref\":\"y\"},{\"font\":{\"color\":\"#000000\",\"size\":7},\"showarrow\":false,\"text\":\"0.5\",\"x\":13,\"xref\":\"x\",\"y\":8,\"yref\":\"y\"},{\"font\":{\"color\":\"#000000\",\"size\":7},\"showarrow\":false,\"text\":\"0.54\",\"x\":14,\"xref\":\"x\",\"y\":8,\"yref\":\"y\"},{\"font\":{\"color\":\"#000000\",\"size\":7},\"showarrow\":false,\"text\":\"0.56\",\"x\":15,\"xref\":\"x\",\"y\":8,\"yref\":\"y\"},{\"font\":{\"color\":\"#000000\",\"size\":7},\"showarrow\":false,\"text\":\"0.56\",\"x\":16,\"xref\":\"x\",\"y\":8,\"yref\":\"y\"},{\"font\":{\"color\":\"#000000\",\"size\":7},\"showarrow\":false,\"text\":\"0.57\",\"x\":17,\"xref\":\"x\",\"y\":8,\"yref\":\"y\"},{\"font\":{\"color\":\"#000000\",\"size\":7},\"showarrow\":false,\"text\":\"0.59\",\"x\":18,\"xref\":\"x\",\"y\":8,\"yref\":\"y\"},{\"font\":{\"color\":\"#FFFFFF\",\"size\":7},\"showarrow\":false,\"text\":\"0.32\",\"x\":0,\"xref\":\"x\",\"y\":9,\"yref\":\"y\"},{\"font\":{\"color\":\"#FFFFFF\",\"size\":7},\"showarrow\":false,\"text\":\"0.32\",\"x\":1,\"xref\":\"x\",\"y\":9,\"yref\":\"y\"},{\"font\":{\"color\":\"#FFFFFF\",\"size\":7},\"showarrow\":false,\"text\":\"0.34\",\"x\":2,\"xref\":\"x\",\"y\":9,\"yref\":\"y\"},{\"font\":{\"color\":\"#FFFFFF\",\"size\":7},\"showarrow\":false,\"text\":\"0.34\",\"x\":3,\"xref\":\"x\",\"y\":9,\"yref\":\"y\"},{\"font\":{\"color\":\"#FFFFFF\",\"size\":7},\"showarrow\":false,\"text\":\"0.35\",\"x\":4,\"xref\":\"x\",\"y\":9,\"yref\":\"y\"},{\"font\":{\"color\":\"#FFFFFF\",\"size\":7},\"showarrow\":false,\"text\":\"0.35\",\"x\":5,\"xref\":\"x\",\"y\":9,\"yref\":\"y\"},{\"font\":{\"color\":\"#FFFFFF\",\"size\":7},\"showarrow\":false,\"text\":\"0.36\",\"x\":6,\"xref\":\"x\",\"y\":9,\"yref\":\"y\"},{\"font\":{\"color\":\"#FFFFFF\",\"size\":7},\"showarrow\":false,\"text\":\"0.37\",\"x\":7,\"xref\":\"x\",\"y\":9,\"yref\":\"y\"},{\"font\":{\"color\":\"#FFFFFF\",\"size\":7},\"showarrow\":false,\"text\":\"0.38\",\"x\":8,\"xref\":\"x\",\"y\":9,\"yref\":\"y\"},{\"font\":{\"color\":\"#FFFFFF\",\"size\":7},\"showarrow\":false,\"text\":\"0.39\",\"x\":9,\"xref\":\"x\",\"y\":9,\"yref\":\"y\"},{\"font\":{\"color\":\"#FFFFFF\",\"size\":7},\"showarrow\":false,\"text\":\"0.41\",\"x\":10,\"xref\":\"x\",\"y\":9,\"yref\":\"y\"},{\"font\":{\"color\":\"#FFFFFF\",\"size\":7},\"showarrow\":false,\"text\":\"0.43\",\"x\":11,\"xref\":\"x\",\"y\":9,\"yref\":\"y\"},{\"font\":{\"color\":\"#FFFFFF\",\"size\":7},\"showarrow\":false,\"text\":\"0.48\",\"x\":12,\"xref\":\"x\",\"y\":9,\"yref\":\"y\"},{\"font\":{\"color\":\"#000000\",\"size\":7},\"showarrow\":false,\"text\":\"0.51\",\"x\":13,\"xref\":\"x\",\"y\":9,\"yref\":\"y\"},{\"font\":{\"color\":\"#000000\",\"size\":7},\"showarrow\":false,\"text\":\"0.54\",\"x\":14,\"xref\":\"x\",\"y\":9,\"yref\":\"y\"},{\"font\":{\"color\":\"#000000\",\"size\":7},\"showarrow\":false,\"text\":\"0.57\",\"x\":15,\"xref\":\"x\",\"y\":9,\"yref\":\"y\"},{\"font\":{\"color\":\"#000000\",\"size\":7},\"showarrow\":false,\"text\":\"0.58\",\"x\":16,\"xref\":\"x\",\"y\":9,\"yref\":\"y\"},{\"font\":{\"color\":\"#000000\",\"size\":7},\"showarrow\":false,\"text\":\"0.59\",\"x\":17,\"xref\":\"x\",\"y\":9,\"yref\":\"y\"},{\"font\":{\"color\":\"#000000\",\"size\":7},\"showarrow\":false,\"text\":\"0.59\",\"x\":18,\"xref\":\"x\",\"y\":9,\"yref\":\"y\"},{\"font\":{\"color\":\"#FFFFFF\",\"size\":7},\"showarrow\":false,\"text\":\"0.32\",\"x\":0,\"xref\":\"x\",\"y\":10,\"yref\":\"y\"},{\"font\":{\"color\":\"#FFFFFF\",\"size\":7},\"showarrow\":false,\"text\":\"0.33\",\"x\":1,\"xref\":\"x\",\"y\":10,\"yref\":\"y\"},{\"font\":{\"color\":\"#FFFFFF\",\"size\":7},\"showarrow\":false,\"text\":\"0.33\",\"x\":2,\"xref\":\"x\",\"y\":10,\"yref\":\"y\"},{\"font\":{\"color\":\"#FFFFFF\",\"size\":7},\"showarrow\":false,\"text\":\"0.34\",\"x\":3,\"xref\":\"x\",\"y\":10,\"yref\":\"y\"},{\"font\":{\"color\":\"#FFFFFF\",\"size\":7},\"showarrow\":false,\"text\":\"0.35\",\"x\":4,\"xref\":\"x\",\"y\":10,\"yref\":\"y\"},{\"font\":{\"color\":\"#FFFFFF\",\"size\":7},\"showarrow\":false,\"text\":\"0.35\",\"x\":5,\"xref\":\"x\",\"y\":10,\"yref\":\"y\"},{\"font\":{\"color\":\"#FFFFFF\",\"size\":7},\"showarrow\":false,\"text\":\"0.36\",\"x\":6,\"xref\":\"x\",\"y\":10,\"yref\":\"y\"},{\"font\":{\"color\":\"#FFFFFF\",\"size\":7},\"showarrow\":false,\"text\":\"0.37\",\"x\":7,\"xref\":\"x\",\"y\":10,\"yref\":\"y\"},{\"font\":{\"color\":\"#FFFFFF\",\"size\":7},\"showarrow\":false,\"text\":\"0.39\",\"x\":8,\"xref\":\"x\",\"y\":10,\"yref\":\"y\"},{\"font\":{\"color\":\"#FFFFFF\",\"size\":7},\"showarrow\":false,\"text\":\"0.4\",\"x\":9,\"xref\":\"x\",\"y\":10,\"yref\":\"y\"},{\"font\":{\"color\":\"#FFFFFF\",\"size\":7},\"showarrow\":false,\"text\":\"0.43\",\"x\":10,\"xref\":\"x\",\"y\":10,\"yref\":\"y\"},{\"font\":{\"color\":\"#FFFFFF\",\"size\":7},\"showarrow\":false,\"text\":\"0.45\",\"x\":11,\"xref\":\"x\",\"y\":10,\"yref\":\"y\"},{\"font\":{\"color\":\"#FFFFFF\",\"size\":7},\"showarrow\":false,\"text\":\"0.49\",\"x\":12,\"xref\":\"x\",\"y\":10,\"yref\":\"y\"},{\"font\":{\"color\":\"#000000\",\"size\":7},\"showarrow\":false,\"text\":\"0.53\",\"x\":13,\"xref\":\"x\",\"y\":10,\"yref\":\"y\"},{\"font\":{\"color\":\"#000000\",\"size\":7},\"showarrow\":false,\"text\":\"0.56\",\"x\":14,\"xref\":\"x\",\"y\":10,\"yref\":\"y\"},{\"font\":{\"color\":\"#000000\",\"size\":7},\"showarrow\":false,\"text\":\"0.58\",\"x\":15,\"xref\":\"x\",\"y\":10,\"yref\":\"y\"},{\"font\":{\"color\":\"#000000\",\"size\":7},\"showarrow\":false,\"text\":\"0.59\",\"x\":16,\"xref\":\"x\",\"y\":10,\"yref\":\"y\"},{\"font\":{\"color\":\"#000000\",\"size\":7},\"showarrow\":false,\"text\":\"0.59\",\"x\":17,\"xref\":\"x\",\"y\":10,\"yref\":\"y\"},{\"font\":{\"color\":\"#000000\",\"size\":7},\"showarrow\":false,\"text\":\"0.6\",\"x\":18,\"xref\":\"x\",\"y\":10,\"yref\":\"y\"},{\"font\":{\"color\":\"#FFFFFF\",\"size\":7},\"showarrow\":false,\"text\":\"0.32\",\"x\":0,\"xref\":\"x\",\"y\":11,\"yref\":\"y\"},{\"font\":{\"color\":\"#FFFFFF\",\"size\":7},\"showarrow\":false,\"text\":\"0.33\",\"x\":1,\"xref\":\"x\",\"y\":11,\"yref\":\"y\"},{\"font\":{\"color\":\"#FFFFFF\",\"size\":7},\"showarrow\":false,\"text\":\"0.33\",\"x\":2,\"xref\":\"x\",\"y\":11,\"yref\":\"y\"},{\"font\":{\"color\":\"#FFFFFF\",\"size\":7},\"showarrow\":false,\"text\":\"0.34\",\"x\":3,\"xref\":\"x\",\"y\":11,\"yref\":\"y\"},{\"font\":{\"color\":\"#FFFFFF\",\"size\":7},\"showarrow\":false,\"text\":\"0.36\",\"x\":4,\"xref\":\"x\",\"y\":11,\"yref\":\"y\"},{\"font\":{\"color\":\"#FFFFFF\",\"size\":7},\"showarrow\":false,\"text\":\"0.36\",\"x\":5,\"xref\":\"x\",\"y\":11,\"yref\":\"y\"},{\"font\":{\"color\":\"#FFFFFF\",\"size\":7},\"showarrow\":false,\"text\":\"0.36\",\"x\":6,\"xref\":\"x\",\"y\":11,\"yref\":\"y\"},{\"font\":{\"color\":\"#FFFFFF\",\"size\":7},\"showarrow\":false,\"text\":\"0.37\",\"x\":7,\"xref\":\"x\",\"y\":11,\"yref\":\"y\"},{\"font\":{\"color\":\"#FFFFFF\",\"size\":7},\"showarrow\":false,\"text\":\"0.38\",\"x\":8,\"xref\":\"x\",\"y\":11,\"yref\":\"y\"},{\"font\":{\"color\":\"#FFFFFF\",\"size\":7},\"showarrow\":false,\"text\":\"0.4\",\"x\":9,\"xref\":\"x\",\"y\":11,\"yref\":\"y\"},{\"font\":{\"color\":\"#FFFFFF\",\"size\":7},\"showarrow\":false,\"text\":\"0.44\",\"x\":10,\"xref\":\"x\",\"y\":11,\"yref\":\"y\"},{\"font\":{\"color\":\"#FFFFFF\",\"size\":7},\"showarrow\":false,\"text\":\"0.48\",\"x\":11,\"xref\":\"x\",\"y\":11,\"yref\":\"y\"},{\"font\":{\"color\":\"#000000\",\"size\":7},\"showarrow\":false,\"text\":\"0.52\",\"x\":12,\"xref\":\"x\",\"y\":11,\"yref\":\"y\"},{\"font\":{\"color\":\"#000000\",\"size\":7},\"showarrow\":false,\"text\":\"0.55\",\"x\":13,\"xref\":\"x\",\"y\":11,\"yref\":\"y\"},{\"font\":{\"color\":\"#000000\",\"size\":7},\"showarrow\":false,\"text\":\"0.58\",\"x\":14,\"xref\":\"x\",\"y\":11,\"yref\":\"y\"},{\"font\":{\"color\":\"#000000\",\"size\":7},\"showarrow\":false,\"text\":\"0.59\",\"x\":15,\"xref\":\"x\",\"y\":11,\"yref\":\"y\"},{\"font\":{\"color\":\"#000000\",\"size\":7},\"showarrow\":false,\"text\":\"0.6\",\"x\":16,\"xref\":\"x\",\"y\":11,\"yref\":\"y\"},{\"font\":{\"color\":\"#000000\",\"size\":7},\"showarrow\":false,\"text\":\"0.6\",\"x\":17,\"xref\":\"x\",\"y\":11,\"yref\":\"y\"},{\"font\":{\"color\":\"#000000\",\"size\":7},\"showarrow\":false,\"text\":\"0.6\",\"x\":18,\"xref\":\"x\",\"y\":11,\"yref\":\"y\"},{\"font\":{\"color\":\"#FFFFFF\",\"size\":7},\"showarrow\":false,\"text\":\"0.32\",\"x\":0,\"xref\":\"x\",\"y\":12,\"yref\":\"y\"},{\"font\":{\"color\":\"#FFFFFF\",\"size\":7},\"showarrow\":false,\"text\":\"0.33\",\"x\":1,\"xref\":\"x\",\"y\":12,\"yref\":\"y\"},{\"font\":{\"color\":\"#FFFFFF\",\"size\":7},\"showarrow\":false,\"text\":\"0.32\",\"x\":2,\"xref\":\"x\",\"y\":12,\"yref\":\"y\"},{\"font\":{\"color\":\"#FFFFFF\",\"size\":7},\"showarrow\":false,\"text\":\"0.33\",\"x\":3,\"xref\":\"x\",\"y\":12,\"yref\":\"y\"},{\"font\":{\"color\":\"#FFFFFF\",\"size\":7},\"showarrow\":false,\"text\":\"0.35\",\"x\":4,\"xref\":\"x\",\"y\":12,\"yref\":\"y\"},{\"font\":{\"color\":\"#FFFFFF\",\"size\":7},\"showarrow\":false,\"text\":\"0.36\",\"x\":5,\"xref\":\"x\",\"y\":12,\"yref\":\"y\"},{\"font\":{\"color\":\"#FFFFFF\",\"size\":7},\"showarrow\":false,\"text\":\"0.36\",\"x\":6,\"xref\":\"x\",\"y\":12,\"yref\":\"y\"},{\"font\":{\"color\":\"#FFFFFF\",\"size\":7},\"showarrow\":false,\"text\":\"0.37\",\"x\":7,\"xref\":\"x\",\"y\":12,\"yref\":\"y\"},{\"font\":{\"color\":\"#FFFFFF\",\"size\":7},\"showarrow\":false,\"text\":\"0.4\",\"x\":8,\"xref\":\"x\",\"y\":12,\"yref\":\"y\"},{\"font\":{\"color\":\"#FFFFFF\",\"size\":7},\"showarrow\":false,\"text\":\"0.43\",\"x\":9,\"xref\":\"x\",\"y\":12,\"yref\":\"y\"},{\"font\":{\"color\":\"#FFFFFF\",\"size\":7},\"showarrow\":false,\"text\":\"0.45\",\"x\":10,\"xref\":\"x\",\"y\":12,\"yref\":\"y\"},{\"font\":{\"color\":\"#000000\",\"size\":7},\"showarrow\":false,\"text\":\"0.5\",\"x\":11,\"xref\":\"x\",\"y\":12,\"yref\":\"y\"},{\"font\":{\"color\":\"#000000\",\"size\":7},\"showarrow\":false,\"text\":\"0.53\",\"x\":12,\"xref\":\"x\",\"y\":12,\"yref\":\"y\"},{\"font\":{\"color\":\"#000000\",\"size\":7},\"showarrow\":false,\"text\":\"0.57\",\"x\":13,\"xref\":\"x\",\"y\":12,\"yref\":\"y\"},{\"font\":{\"color\":\"#000000\",\"size\":7},\"showarrow\":false,\"text\":\"0.59\",\"x\":14,\"xref\":\"x\",\"y\":12,\"yref\":\"y\"},{\"font\":{\"color\":\"#000000\",\"size\":7},\"showarrow\":false,\"text\":\"0.61\",\"x\":15,\"xref\":\"x\",\"y\":12,\"yref\":\"y\"},{\"font\":{\"color\":\"#000000\",\"size\":7},\"showarrow\":false,\"text\":\"0.62\",\"x\":16,\"xref\":\"x\",\"y\":12,\"yref\":\"y\"},{\"font\":{\"color\":\"#000000\",\"size\":7},\"showarrow\":false,\"text\":\"0.63\",\"x\":17,\"xref\":\"x\",\"y\":12,\"yref\":\"y\"},{\"font\":{\"color\":\"#000000\",\"size\":7},\"showarrow\":false,\"text\":\"0.64\",\"x\":18,\"xref\":\"x\",\"y\":12,\"yref\":\"y\"},{\"font\":{\"color\":\"#FFFFFF\",\"size\":7},\"showarrow\":false,\"text\":\"0.31\",\"x\":0,\"xref\":\"x\",\"y\":13,\"yref\":\"y\"},{\"font\":{\"color\":\"#FFFFFF\",\"size\":7},\"showarrow\":false,\"text\":\"0.32\",\"x\":1,\"xref\":\"x\",\"y\":13,\"yref\":\"y\"},{\"font\":{\"color\":\"#FFFFFF\",\"size\":7},\"showarrow\":false,\"text\":\"0.34\",\"x\":2,\"xref\":\"x\",\"y\":13,\"yref\":\"y\"},{\"font\":{\"color\":\"#FFFFFF\",\"size\":7},\"showarrow\":false,\"text\":\"0.34\",\"x\":3,\"xref\":\"x\",\"y\":13,\"yref\":\"y\"},{\"font\":{\"color\":\"#FFFFFF\",\"size\":7},\"showarrow\":false,\"text\":\"0.35\",\"x\":4,\"xref\":\"x\",\"y\":13,\"yref\":\"y\"},{\"font\":{\"color\":\"#FFFFFF\",\"size\":7},\"showarrow\":false,\"text\":\"0.37\",\"x\":5,\"xref\":\"x\",\"y\":13,\"yref\":\"y\"},{\"font\":{\"color\":\"#FFFFFF\",\"size\":7},\"showarrow\":false,\"text\":\"0.38\",\"x\":6,\"xref\":\"x\",\"y\":13,\"yref\":\"y\"},{\"font\":{\"color\":\"#FFFFFF\",\"size\":7},\"showarrow\":false,\"text\":\"0.39\",\"x\":7,\"xref\":\"x\",\"y\":13,\"yref\":\"y\"},{\"font\":{\"color\":\"#FFFFFF\",\"size\":7},\"showarrow\":false,\"text\":\"0.44\",\"x\":8,\"xref\":\"x\",\"y\":13,\"yref\":\"y\"},{\"font\":{\"color\":\"#FFFFFF\",\"size\":7},\"showarrow\":false,\"text\":\"0.45\",\"x\":9,\"xref\":\"x\",\"y\":13,\"yref\":\"y\"},{\"font\":{\"color\":\"#FFFFFF\",\"size\":7},\"showarrow\":false,\"text\":\"0.48\",\"x\":10,\"xref\":\"x\",\"y\":13,\"yref\":\"y\"},{\"font\":{\"color\":\"#000000\",\"size\":7},\"showarrow\":false,\"text\":\"0.52\",\"x\":11,\"xref\":\"x\",\"y\":13,\"yref\":\"y\"},{\"font\":{\"color\":\"#000000\",\"size\":7},\"showarrow\":false,\"text\":\"0.55\",\"x\":12,\"xref\":\"x\",\"y\":13,\"yref\":\"y\"},{\"font\":{\"color\":\"#000000\",\"size\":7},\"showarrow\":false,\"text\":\"0.57\",\"x\":13,\"xref\":\"x\",\"y\":13,\"yref\":\"y\"},{\"font\":{\"color\":\"#000000\",\"size\":7},\"showarrow\":false,\"text\":\"0.61\",\"x\":14,\"xref\":\"x\",\"y\":13,\"yref\":\"y\"},{\"font\":{\"color\":\"#000000\",\"size\":7},\"showarrow\":false,\"text\":\"0.64\",\"x\":15,\"xref\":\"x\",\"y\":13,\"yref\":\"y\"},{\"font\":{\"color\":\"#000000\",\"size\":7},\"showarrow\":false,\"text\":\"0.65\",\"x\":16,\"xref\":\"x\",\"y\":13,\"yref\":\"y\"},{\"font\":{\"color\":\"#000000\",\"size\":7},\"showarrow\":false,\"text\":\"0.64\",\"x\":17,\"xref\":\"x\",\"y\":13,\"yref\":\"y\"},{\"font\":{\"color\":\"#000000\",\"size\":7},\"showarrow\":false,\"text\":\"0.65\",\"x\":18,\"xref\":\"x\",\"y\":13,\"yref\":\"y\"},{\"font\":{\"color\":\"#FFFFFF\",\"size\":7},\"showarrow\":false,\"text\":\"0.32\",\"x\":0,\"xref\":\"x\",\"y\":14,\"yref\":\"y\"},{\"font\":{\"color\":\"#FFFFFF\",\"size\":7},\"showarrow\":false,\"text\":\"0.33\",\"x\":1,\"xref\":\"x\",\"y\":14,\"yref\":\"y\"},{\"font\":{\"color\":\"#FFFFFF\",\"size\":7},\"showarrow\":false,\"text\":\"0.33\",\"x\":2,\"xref\":\"x\",\"y\":14,\"yref\":\"y\"},{\"font\":{\"color\":\"#FFFFFF\",\"size\":7},\"showarrow\":false,\"text\":\"0.34\",\"x\":3,\"xref\":\"x\",\"y\":14,\"yref\":\"y\"},{\"font\":{\"color\":\"#FFFFFF\",\"size\":7},\"showarrow\":false,\"text\":\"0.36\",\"x\":4,\"xref\":\"x\",\"y\":14,\"yref\":\"y\"},{\"font\":{\"color\":\"#FFFFFF\",\"size\":7},\"showarrow\":false,\"text\":\"0.37\",\"x\":5,\"xref\":\"x\",\"y\":14,\"yref\":\"y\"},{\"font\":{\"color\":\"#FFFFFF\",\"size\":7},\"showarrow\":false,\"text\":\"0.39\",\"x\":6,\"xref\":\"x\",\"y\":14,\"yref\":\"y\"},{\"font\":{\"color\":\"#FFFFFF\",\"size\":7},\"showarrow\":false,\"text\":\"0.42\",\"x\":7,\"xref\":\"x\",\"y\":14,\"yref\":\"y\"},{\"font\":{\"color\":\"#FFFFFF\",\"size\":7},\"showarrow\":false,\"text\":\"0.45\",\"x\":8,\"xref\":\"x\",\"y\":14,\"yref\":\"y\"},{\"font\":{\"color\":\"#FFFFFF\",\"size\":7},\"showarrow\":false,\"text\":\"0.46\",\"x\":9,\"xref\":\"x\",\"y\":14,\"yref\":\"y\"},{\"font\":{\"color\":\"#000000\",\"size\":7},\"showarrow\":false,\"text\":\"0.5\",\"x\":10,\"xref\":\"x\",\"y\":14,\"yref\":\"y\"},{\"font\":{\"color\":\"#000000\",\"size\":7},\"showarrow\":false,\"text\":\"0.52\",\"x\":11,\"xref\":\"x\",\"y\":14,\"yref\":\"y\"},{\"font\":{\"color\":\"#000000\",\"size\":7},\"showarrow\":false,\"text\":\"0.54\",\"x\":12,\"xref\":\"x\",\"y\":14,\"yref\":\"y\"},{\"font\":{\"color\":\"#000000\",\"size\":7},\"showarrow\":false,\"text\":\"0.59\",\"x\":13,\"xref\":\"x\",\"y\":14,\"yref\":\"y\"},{\"font\":{\"color\":\"#000000\",\"size\":7},\"showarrow\":false,\"text\":\"0.62\",\"x\":14,\"xref\":\"x\",\"y\":14,\"yref\":\"y\"},{\"font\":{\"color\":\"#000000\",\"size\":7},\"showarrow\":false,\"text\":\"0.64\",\"x\":15,\"xref\":\"x\",\"y\":14,\"yref\":\"y\"},{\"font\":{\"color\":\"#000000\",\"size\":7},\"showarrow\":false,\"text\":\"0.66\",\"x\":16,\"xref\":\"x\",\"y\":14,\"yref\":\"y\"},{\"font\":{\"color\":\"#000000\",\"size\":7},\"showarrow\":false,\"text\":\"0.66\",\"x\":17,\"xref\":\"x\",\"y\":14,\"yref\":\"y\"},{\"font\":{\"color\":\"#000000\",\"size\":7},\"showarrow\":false,\"text\":\"0.66\",\"x\":18,\"xref\":\"x\",\"y\":14,\"yref\":\"y\"},{\"font\":{\"color\":\"#FFFFFF\",\"size\":7},\"showarrow\":false,\"text\":\"0.32\",\"x\":0,\"xref\":\"x\",\"y\":15,\"yref\":\"y\"},{\"font\":{\"color\":\"#FFFFFF\",\"size\":7},\"showarrow\":false,\"text\":\"0.33\",\"x\":1,\"xref\":\"x\",\"y\":15,\"yref\":\"y\"},{\"font\":{\"color\":\"#FFFFFF\",\"size\":7},\"showarrow\":false,\"text\":\"0.34\",\"x\":2,\"xref\":\"x\",\"y\":15,\"yref\":\"y\"},{\"font\":{\"color\":\"#FFFFFF\",\"size\":7},\"showarrow\":false,\"text\":\"0.34\",\"x\":3,\"xref\":\"x\",\"y\":15,\"yref\":\"y\"},{\"font\":{\"color\":\"#FFFFFF\",\"size\":7},\"showarrow\":false,\"text\":\"0.36\",\"x\":4,\"xref\":\"x\",\"y\":15,\"yref\":\"y\"},{\"font\":{\"color\":\"#FFFFFF\",\"size\":7},\"showarrow\":false,\"text\":\"0.39\",\"x\":5,\"xref\":\"x\",\"y\":15,\"yref\":\"y\"},{\"font\":{\"color\":\"#FFFFFF\",\"size\":7},\"showarrow\":false,\"text\":\"0.4\",\"x\":6,\"xref\":\"x\",\"y\":15,\"yref\":\"y\"},{\"font\":{\"color\":\"#FFFFFF\",\"size\":7},\"showarrow\":false,\"text\":\"0.43\",\"x\":7,\"xref\":\"x\",\"y\":15,\"yref\":\"y\"},{\"font\":{\"color\":\"#FFFFFF\",\"size\":7},\"showarrow\":false,\"text\":\"0.45\",\"x\":8,\"xref\":\"x\",\"y\":15,\"yref\":\"y\"},{\"font\":{\"color\":\"#FFFFFF\",\"size\":7},\"showarrow\":false,\"text\":\"0.48\",\"x\":9,\"xref\":\"x\",\"y\":15,\"yref\":\"y\"},{\"font\":{\"color\":\"#000000\",\"size\":7},\"showarrow\":false,\"text\":\"0.5\",\"x\":10,\"xref\":\"x\",\"y\":15,\"yref\":\"y\"},{\"font\":{\"color\":\"#000000\",\"size\":7},\"showarrow\":false,\"text\":\"0.52\",\"x\":11,\"xref\":\"x\",\"y\":15,\"yref\":\"y\"},{\"font\":{\"color\":\"#000000\",\"size\":7},\"showarrow\":false,\"text\":\"0.57\",\"x\":12,\"xref\":\"x\",\"y\":15,\"yref\":\"y\"},{\"font\":{\"color\":\"#000000\",\"size\":7},\"showarrow\":false,\"text\":\"0.61\",\"x\":13,\"xref\":\"x\",\"y\":15,\"yref\":\"y\"},{\"font\":{\"color\":\"#000000\",\"size\":7},\"showarrow\":false,\"text\":\"0.64\",\"x\":14,\"xref\":\"x\",\"y\":15,\"yref\":\"y\"},{\"font\":{\"color\":\"#000000\",\"size\":7},\"showarrow\":false,\"text\":\"0.66\",\"x\":15,\"xref\":\"x\",\"y\":15,\"yref\":\"y\"},{\"font\":{\"color\":\"#000000\",\"size\":7},\"showarrow\":false,\"text\":\"0.67\",\"x\":16,\"xref\":\"x\",\"y\":15,\"yref\":\"y\"},{\"font\":{\"color\":\"#000000\",\"size\":7},\"showarrow\":false,\"text\":\"0.67\",\"x\":17,\"xref\":\"x\",\"y\":15,\"yref\":\"y\"},{\"font\":{\"color\":\"#000000\",\"size\":7},\"showarrow\":false,\"text\":\"0.67\",\"x\":18,\"xref\":\"x\",\"y\":15,\"yref\":\"y\"},{\"font\":{\"color\":\"#FFFFFF\",\"size\":7},\"showarrow\":false,\"text\":\"0.33\",\"x\":0,\"xref\":\"x\",\"y\":16,\"yref\":\"y\"},{\"font\":{\"color\":\"#FFFFFF\",\"size\":7},\"showarrow\":false,\"text\":\"0.33\",\"x\":1,\"xref\":\"x\",\"y\":16,\"yref\":\"y\"},{\"font\":{\"color\":\"#FFFFFF\",\"size\":7},\"showarrow\":false,\"text\":\"0.34\",\"x\":2,\"xref\":\"x\",\"y\":16,\"yref\":\"y\"},{\"font\":{\"color\":\"#FFFFFF\",\"size\":7},\"showarrow\":false,\"text\":\"0.35\",\"x\":3,\"xref\":\"x\",\"y\":16,\"yref\":\"y\"},{\"font\":{\"color\":\"#FFFFFF\",\"size\":7},\"showarrow\":false,\"text\":\"0.36\",\"x\":4,\"xref\":\"x\",\"y\":16,\"yref\":\"y\"},{\"font\":{\"color\":\"#FFFFFF\",\"size\":7},\"showarrow\":false,\"text\":\"0.39\",\"x\":5,\"xref\":\"x\",\"y\":16,\"yref\":\"y\"},{\"font\":{\"color\":\"#FFFFFF\",\"size\":7},\"showarrow\":false,\"text\":\"0.4\",\"x\":6,\"xref\":\"x\",\"y\":16,\"yref\":\"y\"},{\"font\":{\"color\":\"#FFFFFF\",\"size\":7},\"showarrow\":false,\"text\":\"0.42\",\"x\":7,\"xref\":\"x\",\"y\":16,\"yref\":\"y\"},{\"font\":{\"color\":\"#FFFFFF\",\"size\":7},\"showarrow\":false,\"text\":\"0.46\",\"x\":8,\"xref\":\"x\",\"y\":16,\"yref\":\"y\"},{\"font\":{\"color\":\"#FFFFFF\",\"size\":7},\"showarrow\":false,\"text\":\"0.49\",\"x\":9,\"xref\":\"x\",\"y\":16,\"yref\":\"y\"},{\"font\":{\"color\":\"#000000\",\"size\":7},\"showarrow\":false,\"text\":\"0.51\",\"x\":10,\"xref\":\"x\",\"y\":16,\"yref\":\"y\"},{\"font\":{\"color\":\"#000000\",\"size\":7},\"showarrow\":false,\"text\":\"0.54\",\"x\":11,\"xref\":\"x\",\"y\":16,\"yref\":\"y\"},{\"font\":{\"color\":\"#000000\",\"size\":7},\"showarrow\":false,\"text\":\"0.6\",\"x\":12,\"xref\":\"x\",\"y\":16,\"yref\":\"y\"},{\"font\":{\"color\":\"#000000\",\"size\":7},\"showarrow\":false,\"text\":\"0.62\",\"x\":13,\"xref\":\"x\",\"y\":16,\"yref\":\"y\"},{\"font\":{\"color\":\"#000000\",\"size\":7},\"showarrow\":false,\"text\":\"0.64\",\"x\":14,\"xref\":\"x\",\"y\":16,\"yref\":\"y\"},{\"font\":{\"color\":\"#000000\",\"size\":7},\"showarrow\":false,\"text\":\"0.66\",\"x\":15,\"xref\":\"x\",\"y\":16,\"yref\":\"y\"},{\"font\":{\"color\":\"#000000\",\"size\":7},\"showarrow\":false,\"text\":\"0.68\",\"x\":16,\"xref\":\"x\",\"y\":16,\"yref\":\"y\"},{\"font\":{\"color\":\"#000000\",\"size\":7},\"showarrow\":false,\"text\":\"0.69\",\"x\":17,\"xref\":\"x\",\"y\":16,\"yref\":\"y\"},{\"font\":{\"color\":\"#000000\",\"size\":7},\"showarrow\":false,\"text\":\"0.68\",\"x\":18,\"xref\":\"x\",\"y\":16,\"yref\":\"y\"},{\"font\":{\"color\":\"#FFFFFF\",\"size\":7},\"showarrow\":false,\"text\":\"0.32\",\"x\":0,\"xref\":\"x\",\"y\":17,\"yref\":\"y\"},{\"font\":{\"color\":\"#FFFFFF\",\"size\":7},\"showarrow\":false,\"text\":\"0.33\",\"x\":1,\"xref\":\"x\",\"y\":17,\"yref\":\"y\"},{\"font\":{\"color\":\"#FFFFFF\",\"size\":7},\"showarrow\":false,\"text\":\"0.34\",\"x\":2,\"xref\":\"x\",\"y\":17,\"yref\":\"y\"},{\"font\":{\"color\":\"#FFFFFF\",\"size\":7},\"showarrow\":false,\"text\":\"0.36\",\"x\":3,\"xref\":\"x\",\"y\":17,\"yref\":\"y\"},{\"font\":{\"color\":\"#FFFFFF\",\"size\":7},\"showarrow\":false,\"text\":\"0.37\",\"x\":4,\"xref\":\"x\",\"y\":17,\"yref\":\"y\"},{\"font\":{\"color\":\"#FFFFFF\",\"size\":7},\"showarrow\":false,\"text\":\"0.39\",\"x\":5,\"xref\":\"x\",\"y\":17,\"yref\":\"y\"},{\"font\":{\"color\":\"#FFFFFF\",\"size\":7},\"showarrow\":false,\"text\":\"0.41\",\"x\":6,\"xref\":\"x\",\"y\":17,\"yref\":\"y\"},{\"font\":{\"color\":\"#FFFFFF\",\"size\":7},\"showarrow\":false,\"text\":\"0.45\",\"x\":7,\"xref\":\"x\",\"y\":17,\"yref\":\"y\"},{\"font\":{\"color\":\"#FFFFFF\",\"size\":7},\"showarrow\":false,\"text\":\"0.48\",\"x\":8,\"xref\":\"x\",\"y\":17,\"yref\":\"y\"},{\"font\":{\"color\":\"#000000\",\"size\":7},\"showarrow\":false,\"text\":\"0.5\",\"x\":9,\"xref\":\"x\",\"y\":17,\"yref\":\"y\"},{\"font\":{\"color\":\"#000000\",\"size\":7},\"showarrow\":false,\"text\":\"0.52\",\"x\":10,\"xref\":\"x\",\"y\":17,\"yref\":\"y\"},{\"font\":{\"color\":\"#000000\",\"size\":7},\"showarrow\":false,\"text\":\"0.57\",\"x\":11,\"xref\":\"x\",\"y\":17,\"yref\":\"y\"},{\"font\":{\"color\":\"#000000\",\"size\":7},\"showarrow\":false,\"text\":\"0.61\",\"x\":12,\"xref\":\"x\",\"y\":17,\"yref\":\"y\"},{\"font\":{\"color\":\"#000000\",\"size\":7},\"showarrow\":false,\"text\":\"0.62\",\"x\":13,\"xref\":\"x\",\"y\":17,\"yref\":\"y\"},{\"font\":{\"color\":\"#000000\",\"size\":7},\"showarrow\":false,\"text\":\"0.64\",\"x\":14,\"xref\":\"x\",\"y\":17,\"yref\":\"y\"},{\"font\":{\"color\":\"#000000\",\"size\":7},\"showarrow\":false,\"text\":\"0.66\",\"x\":15,\"xref\":\"x\",\"y\":17,\"yref\":\"y\"},{\"font\":{\"color\":\"#000000\",\"size\":7},\"showarrow\":false,\"text\":\"0.69\",\"x\":16,\"xref\":\"x\",\"y\":17,\"yref\":\"y\"},{\"font\":{\"color\":\"#000000\",\"size\":7},\"showarrow\":false,\"text\":\"0.69\",\"x\":17,\"xref\":\"x\",\"y\":17,\"yref\":\"y\"},{\"font\":{\"color\":\"#000000\",\"size\":7},\"showarrow\":false,\"text\":\"0.69\",\"x\":18,\"xref\":\"x\",\"y\":17,\"yref\":\"y\"},{\"font\":{\"color\":\"#FFFFFF\",\"size\":7},\"showarrow\":false,\"text\":\"0.32\",\"x\":0,\"xref\":\"x\",\"y\":18,\"yref\":\"y\"},{\"font\":{\"color\":\"#FFFFFF\",\"size\":7},\"showarrow\":false,\"text\":\"0.33\",\"x\":1,\"xref\":\"x\",\"y\":18,\"yref\":\"y\"},{\"font\":{\"color\":\"#FFFFFF\",\"size\":7},\"showarrow\":false,\"text\":\"0.34\",\"x\":2,\"xref\":\"x\",\"y\":18,\"yref\":\"y\"},{\"font\":{\"color\":\"#FFFFFF\",\"size\":7},\"showarrow\":false,\"text\":\"0.36\",\"x\":3,\"xref\":\"x\",\"y\":18,\"yref\":\"y\"},{\"font\":{\"color\":\"#FFFFFF\",\"size\":7},\"showarrow\":false,\"text\":\"0.36\",\"x\":4,\"xref\":\"x\",\"y\":18,\"yref\":\"y\"},{\"font\":{\"color\":\"#FFFFFF\",\"size\":7},\"showarrow\":false,\"text\":\"0.39\",\"x\":5,\"xref\":\"x\",\"y\":18,\"yref\":\"y\"},{\"font\":{\"color\":\"#FFFFFF\",\"size\":7},\"showarrow\":false,\"text\":\"0.41\",\"x\":6,\"xref\":\"x\",\"y\":18,\"yref\":\"y\"},{\"font\":{\"color\":\"#FFFFFF\",\"size\":7},\"showarrow\":false,\"text\":\"0.44\",\"x\":7,\"xref\":\"x\",\"y\":18,\"yref\":\"y\"},{\"font\":{\"color\":\"#FFFFFF\",\"size\":7},\"showarrow\":false,\"text\":\"0.49\",\"x\":8,\"xref\":\"x\",\"y\":18,\"yref\":\"y\"},{\"font\":{\"color\":\"#000000\",\"size\":7},\"showarrow\":false,\"text\":\"0.51\",\"x\":9,\"xref\":\"x\",\"y\":18,\"yref\":\"y\"},{\"font\":{\"color\":\"#000000\",\"size\":7},\"showarrow\":false,\"text\":\"0.54\",\"x\":10,\"xref\":\"x\",\"y\":18,\"yref\":\"y\"},{\"font\":{\"color\":\"#000000\",\"size\":7},\"showarrow\":false,\"text\":\"0.57\",\"x\":11,\"xref\":\"x\",\"y\":18,\"yref\":\"y\"},{\"font\":{\"color\":\"#000000\",\"size\":7},\"showarrow\":false,\"text\":\"0.61\",\"x\":12,\"xref\":\"x\",\"y\":18,\"yref\":\"y\"},{\"font\":{\"color\":\"#000000\",\"size\":7},\"showarrow\":false,\"text\":\"0.62\",\"x\":13,\"xref\":\"x\",\"y\":18,\"yref\":\"y\"},{\"font\":{\"color\":\"#000000\",\"size\":7},\"showarrow\":false,\"text\":\"0.64\",\"x\":14,\"xref\":\"x\",\"y\":18,\"yref\":\"y\"},{\"font\":{\"color\":\"#000000\",\"size\":7},\"showarrow\":false,\"text\":\"0.65\",\"x\":15,\"xref\":\"x\",\"y\":18,\"yref\":\"y\"},{\"font\":{\"color\":\"#000000\",\"size\":7},\"showarrow\":false,\"text\":\"0.68\",\"x\":16,\"xref\":\"x\",\"y\":18,\"yref\":\"y\"},{\"font\":{\"color\":\"#000000\",\"size\":7},\"showarrow\":false,\"text\":\"0.69\",\"x\":17,\"xref\":\"x\",\"y\":18,\"yref\":\"y\"},{\"font\":{\"color\":\"#000000\",\"size\":7},\"showarrow\":false,\"text\":\"0.69\",\"x\":18,\"xref\":\"x\",\"y\":18,\"yref\":\"y\"}],\"template\":{\"data\":{\"barpolar\":[{\"marker\":{\"line\":{\"color\":\"#E5ECF6\",\"width\":0.5},\"pattern\":{\"fillmode\":\"overlay\",\"size\":10,\"solidity\":0.2}},\"type\":\"barpolar\"}],\"bar\":[{\"error_x\":{\"color\":\"#2a3f5f\"},\"error_y\":{\"color\":\"#2a3f5f\"},\"marker\":{\"line\":{\"color\":\"#E5ECF6\",\"width\":0.5},\"pattern\":{\"fillmode\":\"overlay\",\"size\":10,\"solidity\":0.2}},\"type\":\"bar\"}],\"carpet\":[{\"aaxis\":{\"endlinecolor\":\"#2a3f5f\",\"gridcolor\":\"white\",\"linecolor\":\"white\",\"minorgridcolor\":\"white\",\"startlinecolor\":\"#2a3f5f\"},\"baxis\":{\"endlinecolor\":\"#2a3f5f\",\"gridcolor\":\"white\",\"linecolor\":\"white\",\"minorgridcolor\":\"white\",\"startlinecolor\":\"#2a3f5f\"},\"type\":\"carpet\"}],\"choropleth\":[{\"colorbar\":{\"outlinewidth\":0,\"ticks\":\"\"},\"type\":\"choropleth\"}],\"contourcarpet\":[{\"colorbar\":{\"outlinewidth\":0,\"ticks\":\"\"},\"type\":\"contourcarpet\"}],\"contour\":[{\"colorbar\":{\"outlinewidth\":0,\"ticks\":\"\"},\"colorscale\":[[0.0,\"#0d0887\"],[0.1111111111111111,\"#46039f\"],[0.2222222222222222,\"#7201a8\"],[0.3333333333333333,\"#9c179e\"],[0.4444444444444444,\"#bd3786\"],[0.5555555555555556,\"#d8576b\"],[0.6666666666666666,\"#ed7953\"],[0.7777777777777778,\"#fb9f3a\"],[0.8888888888888888,\"#fdca26\"],[1.0,\"#f0f921\"]],\"type\":\"contour\"}],\"heatmapgl\":[{\"colorbar\":{\"outlinewidth\":0,\"ticks\":\"\"},\"colorscale\":[[0.0,\"#0d0887\"],[0.1111111111111111,\"#46039f\"],[0.2222222222222222,\"#7201a8\"],[0.3333333333333333,\"#9c179e\"],[0.4444444444444444,\"#bd3786\"],[0.5555555555555556,\"#d8576b\"],[0.6666666666666666,\"#ed7953\"],[0.7777777777777778,\"#fb9f3a\"],[0.8888888888888888,\"#fdca26\"],[1.0,\"#f0f921\"]],\"type\":\"heatmapgl\"}],\"heatmap\":[{\"colorbar\":{\"outlinewidth\":0,\"ticks\":\"\"},\"colorscale\":[[0.0,\"#0d0887\"],[0.1111111111111111,\"#46039f\"],[0.2222222222222222,\"#7201a8\"],[0.3333333333333333,\"#9c179e\"],[0.4444444444444444,\"#bd3786\"],[0.5555555555555556,\"#d8576b\"],[0.6666666666666666,\"#ed7953\"],[0.7777777777777778,\"#fb9f3a\"],[0.8888888888888888,\"#fdca26\"],[1.0,\"#f0f921\"]],\"type\":\"heatmap\"}],\"histogram2dcontour\":[{\"colorbar\":{\"outlinewidth\":0,\"ticks\":\"\"},\"colorscale\":[[0.0,\"#0d0887\"],[0.1111111111111111,\"#46039f\"],[0.2222222222222222,\"#7201a8\"],[0.3333333333333333,\"#9c179e\"],[0.4444444444444444,\"#bd3786\"],[0.5555555555555556,\"#d8576b\"],[0.6666666666666666,\"#ed7953\"],[0.7777777777777778,\"#fb9f3a\"],[0.8888888888888888,\"#fdca26\"],[1.0,\"#f0f921\"]],\"type\":\"histogram2dcontour\"}],\"histogram2d\":[{\"colorbar\":{\"outlinewidth\":0,\"ticks\":\"\"},\"colorscale\":[[0.0,\"#0d0887\"],[0.1111111111111111,\"#46039f\"],[0.2222222222222222,\"#7201a8\"],[0.3333333333333333,\"#9c179e\"],[0.4444444444444444,\"#bd3786\"],[0.5555555555555556,\"#d8576b\"],[0.6666666666666666,\"#ed7953\"],[0.7777777777777778,\"#fb9f3a\"],[0.8888888888888888,\"#fdca26\"],[1.0,\"#f0f921\"]],\"type\":\"histogram2d\"}],\"histogram\":[{\"marker\":{\"pattern\":{\"fillmode\":\"overlay\",\"size\":10,\"solidity\":0.2}},\"type\":\"histogram\"}],\"mesh3d\":[{\"colorbar\":{\"outlinewidth\":0,\"ticks\":\"\"},\"type\":\"mesh3d\"}],\"parcoords\":[{\"line\":{\"colorbar\":{\"outlinewidth\":0,\"ticks\":\"\"}},\"type\":\"parcoords\"}],\"pie\":[{\"automargin\":true,\"type\":\"pie\"}],\"scatter3d\":[{\"line\":{\"colorbar\":{\"outlinewidth\":0,\"ticks\":\"\"}},\"marker\":{\"colorbar\":{\"outlinewidth\":0,\"ticks\":\"\"}},\"type\":\"scatter3d\"}],\"scattercarpet\":[{\"marker\":{\"colorbar\":{\"outlinewidth\":0,\"ticks\":\"\"}},\"type\":\"scattercarpet\"}],\"scattergeo\":[{\"marker\":{\"colorbar\":{\"outlinewidth\":0,\"ticks\":\"\"}},\"type\":\"scattergeo\"}],\"scattergl\":[{\"marker\":{\"colorbar\":{\"outlinewidth\":0,\"ticks\":\"\"}},\"type\":\"scattergl\"}],\"scattermapbox\":[{\"marker\":{\"colorbar\":{\"outlinewidth\":0,\"ticks\":\"\"}},\"type\":\"scattermapbox\"}],\"scatterpolargl\":[{\"marker\":{\"colorbar\":{\"outlinewidth\":0,\"ticks\":\"\"}},\"type\":\"scatterpolargl\"}],\"scatterpolar\":[{\"marker\":{\"colorbar\":{\"outlinewidth\":0,\"ticks\":\"\"}},\"type\":\"scatterpolar\"}],\"scatter\":[{\"marker\":{\"colorbar\":{\"outlinewidth\":0,\"ticks\":\"\"}},\"type\":\"scatter\"}],\"scatterternary\":[{\"marker\":{\"colorbar\":{\"outlinewidth\":0,\"ticks\":\"\"}},\"type\":\"scatterternary\"}],\"surface\":[{\"colorbar\":{\"outlinewidth\":0,\"ticks\":\"\"},\"colorscale\":[[0.0,\"#0d0887\"],[0.1111111111111111,\"#46039f\"],[0.2222222222222222,\"#7201a8\"],[0.3333333333333333,\"#9c179e\"],[0.4444444444444444,\"#bd3786\"],[0.5555555555555556,\"#d8576b\"],[0.6666666666666666,\"#ed7953\"],[0.7777777777777778,\"#fb9f3a\"],[0.8888888888888888,\"#fdca26\"],[1.0,\"#f0f921\"]],\"type\":\"surface\"}],\"table\":[{\"cells\":{\"fill\":{\"color\":\"#EBF0F8\"},\"line\":{\"color\":\"white\"}},\"header\":{\"fill\":{\"color\":\"#C8D4E3\"},\"line\":{\"color\":\"white\"}},\"type\":\"table\"}]},\"layout\":{\"annotationdefaults\":{\"arrowcolor\":\"#2a3f5f\",\"arrowhead\":0,\"arrowwidth\":1},\"autotypenumbers\":\"strict\",\"coloraxis\":{\"colorbar\":{\"outlinewidth\":0,\"ticks\":\"\"}},\"colorscale\":{\"diverging\":[[0,\"#8e0152\"],[0.1,\"#c51b7d\"],[0.2,\"#de77ae\"],[0.3,\"#f1b6da\"],[0.4,\"#fde0ef\"],[0.5,\"#f7f7f7\"],[0.6,\"#e6f5d0\"],[0.7,\"#b8e186\"],[0.8,\"#7fbc41\"],[0.9,\"#4d9221\"],[1,\"#276419\"]],\"sequential\":[[0.0,\"#0d0887\"],[0.1111111111111111,\"#46039f\"],[0.2222222222222222,\"#7201a8\"],[0.3333333333333333,\"#9c179e\"],[0.4444444444444444,\"#bd3786\"],[0.5555555555555556,\"#d8576b\"],[0.6666666666666666,\"#ed7953\"],[0.7777777777777778,\"#fb9f3a\"],[0.8888888888888888,\"#fdca26\"],[1.0,\"#f0f921\"]],\"sequentialminus\":[[0.0,\"#0d0887\"],[0.1111111111111111,\"#46039f\"],[0.2222222222222222,\"#7201a8\"],[0.3333333333333333,\"#9c179e\"],[0.4444444444444444,\"#bd3786\"],[0.5555555555555556,\"#d8576b\"],[0.6666666666666666,\"#ed7953\"],[0.7777777777777778,\"#fb9f3a\"],[0.8888888888888888,\"#fdca26\"],[1.0,\"#f0f921\"]]},\"colorway\":[\"#636efa\",\"#EF553B\",\"#00cc96\",\"#ab63fa\",\"#FFA15A\",\"#19d3f3\",\"#FF6692\",\"#B6E880\",\"#FF97FF\",\"#FECB52\"],\"font\":{\"color\":\"#2a3f5f\"},\"geo\":{\"bgcolor\":\"white\",\"lakecolor\":\"white\",\"landcolor\":\"#E5ECF6\",\"showlakes\":true,\"showland\":true,\"subunitcolor\":\"white\"},\"hoverlabel\":{\"align\":\"left\"},\"hovermode\":\"closest\",\"mapbox\":{\"style\":\"light\"},\"paper_bgcolor\":\"white\",\"plot_bgcolor\":\"#E5ECF6\",\"polar\":{\"angularaxis\":{\"gridcolor\":\"white\",\"linecolor\":\"white\",\"ticks\":\"\"},\"bgcolor\":\"#E5ECF6\",\"radialaxis\":{\"gridcolor\":\"white\",\"linecolor\":\"white\",\"ticks\":\"\"}},\"scene\":{\"xaxis\":{\"backgroundcolor\":\"#E5ECF6\",\"gridcolor\":\"white\",\"gridwidth\":2,\"linecolor\":\"white\",\"showbackground\":true,\"ticks\":\"\",\"zerolinecolor\":\"white\"},\"yaxis\":{\"backgroundcolor\":\"#E5ECF6\",\"gridcolor\":\"white\",\"gridwidth\":2,\"linecolor\":\"white\",\"showbackground\":true,\"ticks\":\"\",\"zerolinecolor\":\"white\"},\"zaxis\":{\"backgroundcolor\":\"#E5ECF6\",\"gridcolor\":\"white\",\"gridwidth\":2,\"linecolor\":\"white\",\"showbackground\":true,\"ticks\":\"\",\"zerolinecolor\":\"white\"}},\"shapedefaults\":{\"line\":{\"color\":\"#2a3f5f\"}},\"ternary\":{\"aaxis\":{\"gridcolor\":\"white\",\"linecolor\":\"white\",\"ticks\":\"\"},\"baxis\":{\"gridcolor\":\"white\",\"linecolor\":\"white\",\"ticks\":\"\"},\"bgcolor\":\"#E5ECF6\",\"caxis\":{\"gridcolor\":\"white\",\"linecolor\":\"white\",\"ticks\":\"\"}},\"title\":{\"x\":0.05},\"xaxis\":{\"automargin\":true,\"gridcolor\":\"white\",\"linecolor\":\"white\",\"ticks\":\"\",\"title\":{\"standoff\":15},\"zerolinecolor\":\"white\",\"zerolinewidth\":2},\"yaxis\":{\"automargin\":true,\"gridcolor\":\"white\",\"linecolor\":\"white\",\"ticks\":\"\",\"title\":{\"standoff\":15},\"zerolinecolor\":\"white\",\"zerolinewidth\":2}}},\"title\":{\"text\":\"Spiled\"},\"xaxis\":{\"gridcolor\":\"rgb(0, 0, 0)\",\"showticklabels\":false,\"side\":\"top\",\"ticks\":\"\"},\"yaxis\":{\"showticklabels\":false,\"ticks\":\"\",\"ticksuffix\":\"  \"}},                        {\"responsive\": true}                    ).then(function(){\n",
       "                            \n",
       "var gd = document.getElementById('b0ec6fe8-d7ea-4807-9144-20c5cd25e6b0');\n",
       "var x = new MutationObserver(function (mutations, observer) {{\n",
       "        var display = window.getComputedStyle(gd).display;\n",
       "        if (!display || display === 'none') {{\n",
       "            console.log([gd, 'removed!']);\n",
       "            Plotly.purge(gd);\n",
       "            observer.disconnect();\n",
       "        }}\n",
       "}});\n",
       "\n",
       "// Listen for the removal of the full notebook cells\n",
       "var notebookContainer = gd.closest('#notebook-container');\n",
       "if (notebookContainer) {{\n",
       "    x.observe(notebookContainer, {childList: true});\n",
       "}}\n",
       "\n",
       "// Listen for the clearing of the current output cell\n",
       "var outputEl = gd.closest('.output');\n",
       "if (outputEl) {{\n",
       "    x.observe(outputEl, {childList: true});\n",
       "}}\n",
       "\n",
       "                        })                };                });            </script>        </div>"
      ]
     },
     "metadata": {},
     "output_type": "display_data"
    },
    {
     "ename": "IndexError",
     "evalue": "index 2 is out of bounds for axis 0 with size 2",
     "output_type": "error",
     "traceback": [
      "\u001b[0;31m---------------------------------------------------------------------------\u001b[0m",
      "\u001b[0;31mIndexError\u001b[0m                                Traceback (most recent call last)",
      "Input \u001b[0;32mIn [29]\u001b[0m, in \u001b[0;36m<cell line: 1>\u001b[0;34m()\u001b[0m\n\u001b[0;32m----> 1\u001b[0m \u001b[43mGEMA\u001b[49m\u001b[38;5;241;43m.\u001b[39;49m\u001b[43mVisualization\u001b[49m\u001b[38;5;241;43m.\u001b[39;49m\u001b[43mcodebook_vectors\u001b[49m\u001b[43m(\u001b[49m\u001b[43mmain_map\u001b[49m\u001b[43m,\u001b[49m\u001b[43m \u001b[49m\u001b[43mnp\u001b[49m\u001b[38;5;241;43m.\u001b[39;49m\u001b[43marray\u001b[49m\u001b[43m(\u001b[49m\u001b[43m[\u001b[49m\u001b[38;5;124;43m\"\u001b[39;49m\u001b[38;5;124;43mNot Spiled\u001b[39;49m\u001b[38;5;124;43m\"\u001b[39;49m\u001b[43m,\u001b[49m\u001b[43m \u001b[49m\u001b[38;5;124;43m\"\u001b[39;49m\u001b[38;5;124;43mSpiled\u001b[39;49m\u001b[38;5;124;43m\"\u001b[39;49m\u001b[43m]\u001b[49m\u001b[43m)\u001b[49m\u001b[43m)\u001b[49m\n",
      "File \u001b[0;32m~/anaconda3/lib/python3.9/site-packages/GEMA/visualization.py:129\u001b[0m, in \u001b[0;36mVisualization.codebook_vectors\u001b[0;34m(map, headers)\u001b[0m\n\u001b[1;32m    127\u001b[0m     headers \u001b[38;5;241m=\u001b[39m np\u001b[38;5;241m.\u001b[39marange(\u001b[38;5;28mmap\u001b[39m\u001b[38;5;241m.\u001b[39minput_data_dimension)\n\u001b[1;32m    128\u001b[0m \u001b[38;5;28;01mfor\u001b[39;00m i \u001b[38;5;129;01min\u001b[39;00m \u001b[38;5;28mrange\u001b[39m(\u001b[38;5;241m0\u001b[39m, \u001b[38;5;28mmap\u001b[39m\u001b[38;5;241m.\u001b[39minput_data_dimension):\n\u001b[0;32m--> 129\u001b[0m     Visualization\u001b[38;5;241m.\u001b[39mcodebook_vector(\u001b[38;5;28mmap\u001b[39m, i, \u001b[38;5;28mstr\u001b[39m(\u001b[43mheaders\u001b[49m\u001b[43m[\u001b[49m\u001b[43mi\u001b[49m\u001b[43m]\u001b[49m))\n",
      "\u001b[0;31mIndexError\u001b[0m: index 2 is out of bounds for axis 0 with size 2"
     ]
    }
   ],
   "source": [
    "GEMA.Visualization.codebook_vectors(main_map, np.array([\"Not Spiled\", \"Spiled\"]))"
   ]
  },
  {
   "cell_type": "code",
   "execution_count": null,
   "id": "0b513c79",
   "metadata": {},
   "outputs": [],
   "source": []
  }
 ],
 "metadata": {
  "kernelspec": {
   "display_name": "Python 3 (ipykernel)",
   "language": "python",
   "name": "python3"
  },
  "language_info": {
   "codemirror_mode": {
    "name": "ipython",
    "version": 3
   },
   "file_extension": ".py",
   "mimetype": "text/x-python",
   "name": "python",
   "nbconvert_exporter": "python",
   "pygments_lexer": "ipython3",
   "version": "3.9.12"
  }
 },
 "nbformat": 4,
 "nbformat_minor": 5
}
